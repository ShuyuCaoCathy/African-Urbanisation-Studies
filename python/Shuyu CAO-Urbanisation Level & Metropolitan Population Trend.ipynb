{
 "cells": [
  {
   "cell_type": "markdown",
   "metadata": {},
   "source": [
    "## Written Test"
   ]
  },
  {
   "cell_type": "code",
   "execution_count": 18,
   "metadata": {},
   "outputs": [],
   "source": [
    "import plotly.express as px\n",
    "import pandas as pd"
   ]
  },
  {
   "cell_type": "code",
   "execution_count": 19,
   "metadata": {},
   "outputs": [
    {
     "data": {
      "text/plain": [
       "['ISO',\n",
       " 'Country',\n",
       " 'Country_FR',\n",
       " 'AU_Regions',\n",
       " 'Area',\n",
       " 'Upop1950',\n",
       " 'Upop1960',\n",
       " 'Upop1970',\n",
       " 'Upop1980',\n",
       " 'Upop1990',\n",
       " 'Upop2000',\n",
       " 'Upop2010',\n",
       " 'Upop2015',\n",
       " 'Upop2020',\n",
       " 'Upop2025',\n",
       " 'Upop2030',\n",
       " 'Upop2035',\n",
       " 'Upop2040',\n",
       " 'Upop2045',\n",
       " 'Upop2050',\n",
       " 'Usurf2015',\n",
       " 'Usurf2020',\n",
       " 'Usurf2025',\n",
       " 'Usurf2030',\n",
       " 'Usurf2035',\n",
       " 'Usurf2040',\n",
       " 'Usurf2045',\n",
       " 'Usurf2050',\n",
       " 'TPOP1950',\n",
       " 'TPOP1960',\n",
       " 'TPOP1970',\n",
       " 'TPOP1980',\n",
       " 'TPOP1990',\n",
       " 'TPOP2000',\n",
       " 'TPOP2010',\n",
       " 'TPOP2015',\n",
       " 'TPOP2020',\n",
       " 'TPOP2025',\n",
       " 'TPOP2030',\n",
       " 'TPOP2035',\n",
       " 'TPOP2040',\n",
       " 'TPOP2045',\n",
       " 'TPOP2050',\n",
       " 'Urbanlevel1950',\n",
       " 'Urbanlevel1960',\n",
       " 'Urbanlevel1970',\n",
       " 'Urbanlevel1980',\n",
       " 'Urbanlevel1990',\n",
       " 'Urbanlevel2000',\n",
       " 'Urbanlevel2010',\n",
       " 'Urbanlevel2015',\n",
       " 'Urbanlevel2020',\n",
       " 'Urbanlevel2025',\n",
       " 'Urbanlevel2030',\n",
       " 'Urbanlevel2035',\n",
       " 'Urbanlevel2040',\n",
       " 'Urbanlevel2045',\n",
       " 'Urbanlevel2050',\n",
       " 'NumAgglos1950',\n",
       " 'NumAgglos1960',\n",
       " 'NumAgglos1970',\n",
       " 'NumAgglos1980',\n",
       " 'NumAgglos1990',\n",
       " 'NumAgglos2000',\n",
       " 'NumAgglos2010',\n",
       " 'NumAgglos2015',\n",
       " 'NumAgglos2020',\n",
       " 'NumAgglos2025',\n",
       " 'NumAgglos2030',\n",
       " 'NumAgglos2035',\n",
       " 'NumAgglos2040',\n",
       " 'NumAgglos2045',\n",
       " 'NumAgglos2050',\n",
       " 'Mpop1950',\n",
       " 'Mpop1960',\n",
       " 'Mpop1970',\n",
       " 'Mpop1980',\n",
       " 'Mpop1990',\n",
       " 'Mpop2000',\n",
       " 'Mpop2010',\n",
       " 'Mpop2015',\n",
       " 'Mpop2020',\n",
       " 'Mpop2025',\n",
       " 'Mpop2030',\n",
       " 'Mpop2035',\n",
       " 'Mpop2040',\n",
       " 'Mpop2045',\n",
       " 'Mpop2050',\n",
       " 'ADBA1950',\n",
       " 'ADBA1960',\n",
       " 'ADBA1970',\n",
       " 'ADBA1980',\n",
       " 'ADBA1990',\n",
       " 'ADBA2000',\n",
       " 'ADBA2010',\n",
       " 'ADBA2015',\n",
       " 'ADBA2020',\n",
       " 'ADBA2025',\n",
       " 'ADBA2030',\n",
       " 'ADBA2035',\n",
       " 'ADBA2040',\n",
       " 'ADBA2045',\n",
       " 'ADBA2050']"
      ]
     },
     "execution_count": 19,
     "metadata": {},
     "output_type": "execute_result"
    }
   ],
   "source": [
    "data = pd.read_excel('/Users/shuyucathy/Github/African-Urbanisation-Studies/data/Africapolis_country_2024_written_test.xlsx')  \n",
    "\n",
    "data.columns = data.iloc[14]\n",
    "data = data.iloc[15:].reset_index(drop=True)  # Remove row 14 and reset index\n",
    "\n",
    "# Ensure column names are correctly formatted\n",
    "data.columns.name = None  # Remove any column name metadata\n",
    "\n",
    "list(data.columns)\n"
   ]
  },
  {
   "cell_type": "markdown",
   "metadata": {},
   "source": [
    "### Urban Level"
   ]
  },
  {
   "cell_type": "code",
   "execution_count": 20,
   "metadata": {},
   "outputs": [
    {
     "data": {
      "text/html": [
       "<div>\n",
       "<style scoped>\n",
       "    .dataframe tbody tr th:only-of-type {\n",
       "        vertical-align: middle;\n",
       "    }\n",
       "\n",
       "    .dataframe tbody tr th {\n",
       "        vertical-align: top;\n",
       "    }\n",
       "\n",
       "    .dataframe thead th {\n",
       "        text-align: right;\n",
       "    }\n",
       "</style>\n",
       "<table border=\"1\" class=\"dataframe\">\n",
       "  <thead>\n",
       "    <tr style=\"text-align: right;\">\n",
       "      <th></th>\n",
       "      <th>ISO</th>\n",
       "      <th>Country</th>\n",
       "      <th>AU_Regions</th>\n",
       "      <th>Year</th>\n",
       "      <th>UrbanLevel</th>\n",
       "    </tr>\n",
       "  </thead>\n",
       "  <tbody>\n",
       "    <tr>\n",
       "      <th>0</th>\n",
       "      <td>AGO</td>\n",
       "      <td>Angola</td>\n",
       "      <td>Southern Africa</td>\n",
       "      <td>1950</td>\n",
       "      <td>0.053145</td>\n",
       "    </tr>\n",
       "    <tr>\n",
       "      <th>1</th>\n",
       "      <td>BDI</td>\n",
       "      <td>Burundi</td>\n",
       "      <td>Central Africa</td>\n",
       "      <td>1950</td>\n",
       "      <td>0.009324</td>\n",
       "    </tr>\n",
       "    <tr>\n",
       "      <th>2</th>\n",
       "      <td>BEN</td>\n",
       "      <td>Benin</td>\n",
       "      <td>West Africa</td>\n",
       "      <td>1950</td>\n",
       "      <td>0.056652</td>\n",
       "    </tr>\n",
       "    <tr>\n",
       "      <th>3</th>\n",
       "      <td>BFA</td>\n",
       "      <td>Burkina Faso</td>\n",
       "      <td>West Africa</td>\n",
       "      <td>1950</td>\n",
       "      <td>0.028304</td>\n",
       "    </tr>\n",
       "    <tr>\n",
       "      <th>4</th>\n",
       "      <td>BWA</td>\n",
       "      <td>Botswana</td>\n",
       "      <td>Southern Africa</td>\n",
       "      <td>1950</td>\n",
       "      <td>0.000000</td>\n",
       "    </tr>\n",
       "    <tr>\n",
       "      <th>...</th>\n",
       "      <td>...</td>\n",
       "      <td>...</td>\n",
       "      <td>...</td>\n",
       "      <td>...</td>\n",
       "      <td>...</td>\n",
       "    </tr>\n",
       "    <tr>\n",
       "      <th>1015</th>\n",
       "      <td>TZA</td>\n",
       "      <td>Tanzania</td>\n",
       "      <td>East Africa</td>\n",
       "      <td>2050</td>\n",
       "      <td>0.469502</td>\n",
       "    </tr>\n",
       "    <tr>\n",
       "      <th>1016</th>\n",
       "      <td>UGA</td>\n",
       "      <td>Uganda</td>\n",
       "      <td>East Africa</td>\n",
       "      <td>2050</td>\n",
       "      <td>0.777941</td>\n",
       "    </tr>\n",
       "    <tr>\n",
       "      <th>1017</th>\n",
       "      <td>ZAF</td>\n",
       "      <td>South Africa</td>\n",
       "      <td>Southern Africa</td>\n",
       "      <td>2050</td>\n",
       "      <td>0.816302</td>\n",
       "    </tr>\n",
       "    <tr>\n",
       "      <th>1018</th>\n",
       "      <td>ZMB</td>\n",
       "      <td>Zambia</td>\n",
       "      <td>Southern Africa</td>\n",
       "      <td>2050</td>\n",
       "      <td>0.514581</td>\n",
       "    </tr>\n",
       "    <tr>\n",
       "      <th>1019</th>\n",
       "      <td>ZWE</td>\n",
       "      <td>Zimbabwe</td>\n",
       "      <td>Southern Africa</td>\n",
       "      <td>2050</td>\n",
       "      <td>0.425976</td>\n",
       "    </tr>\n",
       "  </tbody>\n",
       "</table>\n",
       "<p>810 rows × 5 columns</p>\n",
       "</div>"
      ],
      "text/plain": [
       "      ISO       Country       AU_Regions  Year  UrbanLevel\n",
       "0     AGO        Angola  Southern Africa  1950    0.053145\n",
       "1     BDI       Burundi   Central Africa  1950    0.009324\n",
       "2     BEN         Benin      West Africa  1950    0.056652\n",
       "3     BFA  Burkina Faso      West Africa  1950    0.028304\n",
       "4     BWA      Botswana  Southern Africa  1950    0.000000\n",
       "...   ...           ...              ...   ...         ...\n",
       "1015  TZA      Tanzania      East Africa  2050    0.469502\n",
       "1016  UGA        Uganda      East Africa  2050    0.777941\n",
       "1017  ZAF  South Africa  Southern Africa  2050    0.816302\n",
       "1018  ZMB        Zambia  Southern Africa  2050    0.514581\n",
       "1019  ZWE      Zimbabwe  Southern Africa  2050    0.425976\n",
       "\n",
       "[810 rows x 5 columns]"
      ]
     },
     "execution_count": 20,
     "metadata": {},
     "output_type": "execute_result"
    }
   ],
   "source": [
    "\n",
    "# Select only columns that contain \"Urbanlevel\" in their name\n",
    "urban_columns = [\"ISO\", \"Country\", \"AU_Regions\"] + [col for col in data.columns if \"Urbanlevel\" in col]\n",
    "\n",
    "# Filter DataFrame with relevant columns\n",
    "data_filtered = data[urban_columns]\n",
    "\n",
    "# Melt the DataFrame (convert wide format to long format)\n",
    "data_melted_urban = data_filtered.melt(id_vars=[\"ISO\", \"Country\", \"AU_Regions\"], \n",
    "                                 var_name=\"Year\", \n",
    "                                 value_name=\"UrbanLevel\")\n",
    "\n",
    "# Extract the numeric year from \"UrbanlevelYYYY\"\n",
    "data_melted_urban['Year'] = data_melted_urban['Year'].str.extract(r'(\\d+)').astype(int)\n",
    "data_melted_urban['UrbanLevel'] = pd.to_numeric(data_melted_urban['UrbanLevel'], errors='coerce')\n",
    "\n",
    "exclude_values = [\"Regional entities\", \"Region\"]\n",
    "data_melted_urban = data_melted_urban[~data_melted_urban[\"AU_Regions\"].isin(exclude_values)]\n",
    "\n",
    "# Keep only rows where ISO codes are exactly 3 letters (valid country codes)\n",
    "data_melted_urban = data_melted_urban[data_melted_urban[\"ISO\"].str.len() == 3]\n",
    "\n",
    "data_melted_urban"
   ]
  },
  {
   "cell_type": "code",
   "execution_count": 21,
   "metadata": {},
   "outputs": [
    {
     "data": {
      "text/html": [
       "<div>\n",
       "<style scoped>\n",
       "    .dataframe tbody tr th:only-of-type {\n",
       "        vertical-align: middle;\n",
       "    }\n",
       "\n",
       "    .dataframe tbody tr th {\n",
       "        vertical-align: top;\n",
       "    }\n",
       "\n",
       "    .dataframe thead th {\n",
       "        text-align: right;\n",
       "    }\n",
       "</style>\n",
       "<table border=\"1\" class=\"dataframe\">\n",
       "  <thead>\n",
       "    <tr style=\"text-align: right;\">\n",
       "      <th></th>\n",
       "      <th>ISO</th>\n",
       "      <th>Country</th>\n",
       "      <th>AU_Regions</th>\n",
       "      <th>Year</th>\n",
       "      <th>Mpop</th>\n",
       "    </tr>\n",
       "  </thead>\n",
       "  <tbody>\n",
       "    <tr>\n",
       "      <th>0</th>\n",
       "      <td>AGO</td>\n",
       "      <td>Angola</td>\n",
       "      <td>Southern Africa</td>\n",
       "      <td>1950</td>\n",
       "      <td>0.643214</td>\n",
       "    </tr>\n",
       "    <tr>\n",
       "      <th>1</th>\n",
       "      <td>BDI</td>\n",
       "      <td>Burundi</td>\n",
       "      <td>Central Africa</td>\n",
       "      <td>1950</td>\n",
       "      <td>1.000000</td>\n",
       "    </tr>\n",
       "    <tr>\n",
       "      <th>2</th>\n",
       "      <td>BEN</td>\n",
       "      <td>Benin</td>\n",
       "      <td>West Africa</td>\n",
       "      <td>1950</td>\n",
       "      <td>0.561363</td>\n",
       "    </tr>\n",
       "    <tr>\n",
       "      <th>3</th>\n",
       "      <td>BFA</td>\n",
       "      <td>Burkina Faso</td>\n",
       "      <td>West Africa</td>\n",
       "      <td>1950</td>\n",
       "      <td>0.878926</td>\n",
       "    </tr>\n",
       "    <tr>\n",
       "      <th>4</th>\n",
       "      <td>BWA</td>\n",
       "      <td>Botswana</td>\n",
       "      <td>Southern Africa</td>\n",
       "      <td>1950</td>\n",
       "      <td>0.000000</td>\n",
       "    </tr>\n",
       "    <tr>\n",
       "      <th>...</th>\n",
       "      <td>...</td>\n",
       "      <td>...</td>\n",
       "      <td>...</td>\n",
       "      <td>...</td>\n",
       "      <td>...</td>\n",
       "    </tr>\n",
       "    <tr>\n",
       "      <th>1015</th>\n",
       "      <td>TZA</td>\n",
       "      <td>Tanzania</td>\n",
       "      <td>East Africa</td>\n",
       "      <td>2050</td>\n",
       "      <td>0.294277</td>\n",
       "    </tr>\n",
       "    <tr>\n",
       "      <th>1016</th>\n",
       "      <td>UGA</td>\n",
       "      <td>Uganda</td>\n",
       "      <td>East Africa</td>\n",
       "      <td>2050</td>\n",
       "      <td>0.307731</td>\n",
       "    </tr>\n",
       "    <tr>\n",
       "      <th>1017</th>\n",
       "      <td>ZAF</td>\n",
       "      <td>South Africa</td>\n",
       "      <td>Southern Africa</td>\n",
       "      <td>2050</td>\n",
       "      <td>0.517995</td>\n",
       "    </tr>\n",
       "    <tr>\n",
       "      <th>1018</th>\n",
       "      <td>ZMB</td>\n",
       "      <td>Zambia</td>\n",
       "      <td>Southern Africa</td>\n",
       "      <td>2050</td>\n",
       "      <td>0.313147</td>\n",
       "    </tr>\n",
       "    <tr>\n",
       "      <th>1019</th>\n",
       "      <td>ZWE</td>\n",
       "      <td>Zimbabwe</td>\n",
       "      <td>Southern Africa</td>\n",
       "      <td>2050</td>\n",
       "      <td>0.577462</td>\n",
       "    </tr>\n",
       "  </tbody>\n",
       "</table>\n",
       "<p>810 rows × 5 columns</p>\n",
       "</div>"
      ],
      "text/plain": [
       "      ISO       Country       AU_Regions  Year      Mpop\n",
       "0     AGO        Angola  Southern Africa  1950  0.643214\n",
       "1     BDI       Burundi   Central Africa  1950  1.000000\n",
       "2     BEN         Benin      West Africa  1950  0.561363\n",
       "3     BFA  Burkina Faso      West Africa  1950  0.878926\n",
       "4     BWA      Botswana  Southern Africa  1950  0.000000\n",
       "...   ...           ...              ...   ...       ...\n",
       "1015  TZA      Tanzania      East Africa  2050  0.294277\n",
       "1016  UGA        Uganda      East Africa  2050  0.307731\n",
       "1017  ZAF  South Africa  Southern Africa  2050  0.517995\n",
       "1018  ZMB        Zambia  Southern Africa  2050  0.313147\n",
       "1019  ZWE      Zimbabwe  Southern Africa  2050  0.577462\n",
       "\n",
       "[810 rows x 5 columns]"
      ]
     },
     "execution_count": 21,
     "metadata": {},
     "output_type": "execute_result"
    }
   ],
   "source": [
    "## Calculate the Proportion of Urban Population\n",
    "\n",
    "Mpop_columns = [\"ISO\", \"Country\", \"AU_Regions\"] + [col for col in data.columns if \"Mpop\" in col]\n",
    "\n",
    "data_filtered_population = data[Mpop_columns]\n",
    "\n",
    "# Melt the DataFrame (convert wide format to long format)\n",
    "data_melted_Mpopulation = data_filtered_population.melt(id_vars=[\"ISO\", \"Country\", \"AU_Regions\"], \n",
    "                                 var_name=\"Year\", \n",
    "                                 value_name=\"Mpop\")\n",
    "\n",
    "# Extract the numeric year from \"UrbanlevelYYYY\"\n",
    "data_melted_Mpopulation['Year'] = data_melted_Mpopulation['Year'].str.extract(r'(\\d+)').astype(int)\n",
    "data_melted_Mpopulation['Mpop'] = pd.to_numeric(data_melted_Mpopulation['Mpop'], errors='coerce')\n",
    "\n",
    "exclude_values = [\"Regional entities\", \"Region\"]\n",
    "data_melted_Mpopulation = data_melted_Mpopulation[~data_melted_Mpopulation[\"AU_Regions\"].isin(exclude_values)]\n",
    "\n",
    "# Keep only rows where ISO codes are exactly 3 letters (valid country codes)\n",
    "data_melted_Mpopulation = data_melted_Mpopulation[data_melted_Mpopulation[\"ISO\"].str.len() == 3]\n",
    "\n",
    "data_melted_Mpopulation"
   ]
  },
  {
   "cell_type": "code",
   "execution_count": 22,
   "metadata": {},
   "outputs": [
    {
     "data": {
      "text/html": [
       "<div>\n",
       "<style scoped>\n",
       "    .dataframe tbody tr th:only-of-type {\n",
       "        vertical-align: middle;\n",
       "    }\n",
       "\n",
       "    .dataframe tbody tr th {\n",
       "        vertical-align: top;\n",
       "    }\n",
       "\n",
       "    .dataframe thead th {\n",
       "        text-align: right;\n",
       "    }\n",
       "</style>\n",
       "<table border=\"1\" class=\"dataframe\">\n",
       "  <thead>\n",
       "    <tr style=\"text-align: right;\">\n",
       "      <th></th>\n",
       "      <th>ISO</th>\n",
       "      <th>Country</th>\n",
       "      <th>AU_Regions</th>\n",
       "      <th>Year</th>\n",
       "      <th>UrbanLevel</th>\n",
       "      <th>Mpop</th>\n",
       "    </tr>\n",
       "  </thead>\n",
       "  <tbody>\n",
       "    <tr>\n",
       "      <th>0</th>\n",
       "      <td>AGO</td>\n",
       "      <td>Angola</td>\n",
       "      <td>Southern Africa</td>\n",
       "      <td>1950</td>\n",
       "      <td>0.053145</td>\n",
       "      <td>0.643214</td>\n",
       "    </tr>\n",
       "    <tr>\n",
       "      <th>1</th>\n",
       "      <td>BDI</td>\n",
       "      <td>Burundi</td>\n",
       "      <td>Central Africa</td>\n",
       "      <td>1950</td>\n",
       "      <td>0.009324</td>\n",
       "      <td>1.000000</td>\n",
       "    </tr>\n",
       "    <tr>\n",
       "      <th>2</th>\n",
       "      <td>BEN</td>\n",
       "      <td>Benin</td>\n",
       "      <td>West Africa</td>\n",
       "      <td>1950</td>\n",
       "      <td>0.056652</td>\n",
       "      <td>0.561363</td>\n",
       "    </tr>\n",
       "    <tr>\n",
       "      <th>3</th>\n",
       "      <td>BFA</td>\n",
       "      <td>Burkina Faso</td>\n",
       "      <td>West Africa</td>\n",
       "      <td>1950</td>\n",
       "      <td>0.028304</td>\n",
       "      <td>0.878926</td>\n",
       "    </tr>\n",
       "    <tr>\n",
       "      <th>4</th>\n",
       "      <td>BWA</td>\n",
       "      <td>Botswana</td>\n",
       "      <td>Southern Africa</td>\n",
       "      <td>1950</td>\n",
       "      <td>0.000000</td>\n",
       "      <td>0.000000</td>\n",
       "    </tr>\n",
       "    <tr>\n",
       "      <th>...</th>\n",
       "      <td>...</td>\n",
       "      <td>...</td>\n",
       "      <td>...</td>\n",
       "      <td>...</td>\n",
       "      <td>...</td>\n",
       "      <td>...</td>\n",
       "    </tr>\n",
       "    <tr>\n",
       "      <th>805</th>\n",
       "      <td>TZA</td>\n",
       "      <td>Tanzania</td>\n",
       "      <td>East Africa</td>\n",
       "      <td>2050</td>\n",
       "      <td>0.469502</td>\n",
       "      <td>0.294277</td>\n",
       "    </tr>\n",
       "    <tr>\n",
       "      <th>806</th>\n",
       "      <td>UGA</td>\n",
       "      <td>Uganda</td>\n",
       "      <td>East Africa</td>\n",
       "      <td>2050</td>\n",
       "      <td>0.777941</td>\n",
       "      <td>0.307731</td>\n",
       "    </tr>\n",
       "    <tr>\n",
       "      <th>807</th>\n",
       "      <td>ZAF</td>\n",
       "      <td>South Africa</td>\n",
       "      <td>Southern Africa</td>\n",
       "      <td>2050</td>\n",
       "      <td>0.816302</td>\n",
       "      <td>0.517995</td>\n",
       "    </tr>\n",
       "    <tr>\n",
       "      <th>808</th>\n",
       "      <td>ZMB</td>\n",
       "      <td>Zambia</td>\n",
       "      <td>Southern Africa</td>\n",
       "      <td>2050</td>\n",
       "      <td>0.514581</td>\n",
       "      <td>0.313147</td>\n",
       "    </tr>\n",
       "    <tr>\n",
       "      <th>809</th>\n",
       "      <td>ZWE</td>\n",
       "      <td>Zimbabwe</td>\n",
       "      <td>Southern Africa</td>\n",
       "      <td>2050</td>\n",
       "      <td>0.425976</td>\n",
       "      <td>0.577462</td>\n",
       "    </tr>\n",
       "  </tbody>\n",
       "</table>\n",
       "<p>810 rows × 6 columns</p>\n",
       "</div>"
      ],
      "text/plain": [
       "     ISO       Country       AU_Regions  Year  UrbanLevel      Mpop\n",
       "0    AGO        Angola  Southern Africa  1950    0.053145  0.643214\n",
       "1    BDI       Burundi   Central Africa  1950    0.009324  1.000000\n",
       "2    BEN         Benin      West Africa  1950    0.056652  0.561363\n",
       "3    BFA  Burkina Faso      West Africa  1950    0.028304  0.878926\n",
       "4    BWA      Botswana  Southern Africa  1950    0.000000  0.000000\n",
       "..   ...           ...              ...   ...         ...       ...\n",
       "805  TZA      Tanzania      East Africa  2050    0.469502  0.294277\n",
       "806  UGA        Uganda      East Africa  2050    0.777941  0.307731\n",
       "807  ZAF  South Africa  Southern Africa  2050    0.816302  0.517995\n",
       "808  ZMB        Zambia  Southern Africa  2050    0.514581  0.313147\n",
       "809  ZWE      Zimbabwe  Southern Africa  2050    0.425976  0.577462\n",
       "\n",
       "[810 rows x 6 columns]"
      ]
     },
     "execution_count": 22,
     "metadata": {},
     "output_type": "execute_result"
    }
   ],
   "source": [
    "# merge the UpopPercentage & UrbanLevel\n",
    "\n",
    "merged = pd.merge(data_melted_urban, data_melted_Mpopulation, on=[\"ISO\", \"Country\", \"AU_Regions\", \"Year\"], how=\"inner\")\n",
    "merged['UrbanLevel'] = pd.to_numeric(merged['UrbanLevel'], errors='coerce')\n",
    "merged['Mpop'] = pd.to_numeric(merged['Mpop'], errors='coerce')\n",
    "merged"
   ]
  },
  {
   "cell_type": "code",
   "execution_count": 23,
   "metadata": {},
   "outputs": [
    {
     "data": {
      "text/html": [
       "<div>\n",
       "<style scoped>\n",
       "    .dataframe tbody tr th:only-of-type {\n",
       "        vertical-align: middle;\n",
       "    }\n",
       "\n",
       "    .dataframe tbody tr th {\n",
       "        vertical-align: top;\n",
       "    }\n",
       "\n",
       "    .dataframe thead th {\n",
       "        text-align: right;\n",
       "    }\n",
       "</style>\n",
       "<table border=\"1\" class=\"dataframe\">\n",
       "  <thead>\n",
       "    <tr style=\"text-align: right;\">\n",
       "      <th></th>\n",
       "      <th>ISO</th>\n",
       "      <th>Country</th>\n",
       "      <th>AU_Regions</th>\n",
       "      <th>Year</th>\n",
       "      <th>Variable</th>\n",
       "      <th>Value</th>\n",
       "    </tr>\n",
       "  </thead>\n",
       "  <tbody>\n",
       "    <tr>\n",
       "      <th>0</th>\n",
       "      <td>AGO</td>\n",
       "      <td>Angola</td>\n",
       "      <td>Southern Africa</td>\n",
       "      <td>1950</td>\n",
       "      <td>UrbanLevel</td>\n",
       "      <td>0.053145</td>\n",
       "    </tr>\n",
       "    <tr>\n",
       "      <th>1</th>\n",
       "      <td>BDI</td>\n",
       "      <td>Burundi</td>\n",
       "      <td>Central Africa</td>\n",
       "      <td>1950</td>\n",
       "      <td>UrbanLevel</td>\n",
       "      <td>0.009324</td>\n",
       "    </tr>\n",
       "    <tr>\n",
       "      <th>2</th>\n",
       "      <td>BEN</td>\n",
       "      <td>Benin</td>\n",
       "      <td>West Africa</td>\n",
       "      <td>1950</td>\n",
       "      <td>UrbanLevel</td>\n",
       "      <td>0.056652</td>\n",
       "    </tr>\n",
       "    <tr>\n",
       "      <th>3</th>\n",
       "      <td>BFA</td>\n",
       "      <td>Burkina Faso</td>\n",
       "      <td>West Africa</td>\n",
       "      <td>1950</td>\n",
       "      <td>UrbanLevel</td>\n",
       "      <td>0.028304</td>\n",
       "    </tr>\n",
       "    <tr>\n",
       "      <th>4</th>\n",
       "      <td>BWA</td>\n",
       "      <td>Botswana</td>\n",
       "      <td>Southern Africa</td>\n",
       "      <td>1950</td>\n",
       "      <td>UrbanLevel</td>\n",
       "      <td>0.000000</td>\n",
       "    </tr>\n",
       "    <tr>\n",
       "      <th>...</th>\n",
       "      <td>...</td>\n",
       "      <td>...</td>\n",
       "      <td>...</td>\n",
       "      <td>...</td>\n",
       "      <td>...</td>\n",
       "      <td>...</td>\n",
       "    </tr>\n",
       "    <tr>\n",
       "      <th>1615</th>\n",
       "      <td>TZA</td>\n",
       "      <td>Tanzania</td>\n",
       "      <td>East Africa</td>\n",
       "      <td>2050</td>\n",
       "      <td>Mpop</td>\n",
       "      <td>0.294277</td>\n",
       "    </tr>\n",
       "    <tr>\n",
       "      <th>1616</th>\n",
       "      <td>UGA</td>\n",
       "      <td>Uganda</td>\n",
       "      <td>East Africa</td>\n",
       "      <td>2050</td>\n",
       "      <td>Mpop</td>\n",
       "      <td>0.307731</td>\n",
       "    </tr>\n",
       "    <tr>\n",
       "      <th>1617</th>\n",
       "      <td>ZAF</td>\n",
       "      <td>South Africa</td>\n",
       "      <td>Southern Africa</td>\n",
       "      <td>2050</td>\n",
       "      <td>Mpop</td>\n",
       "      <td>0.517995</td>\n",
       "    </tr>\n",
       "    <tr>\n",
       "      <th>1618</th>\n",
       "      <td>ZMB</td>\n",
       "      <td>Zambia</td>\n",
       "      <td>Southern Africa</td>\n",
       "      <td>2050</td>\n",
       "      <td>Mpop</td>\n",
       "      <td>0.313147</td>\n",
       "    </tr>\n",
       "    <tr>\n",
       "      <th>1619</th>\n",
       "      <td>ZWE</td>\n",
       "      <td>Zimbabwe</td>\n",
       "      <td>Southern Africa</td>\n",
       "      <td>2050</td>\n",
       "      <td>Mpop</td>\n",
       "      <td>0.577462</td>\n",
       "    </tr>\n",
       "  </tbody>\n",
       "</table>\n",
       "<p>1620 rows × 6 columns</p>\n",
       "</div>"
      ],
      "text/plain": [
       "      ISO       Country       AU_Regions  Year    Variable     Value\n",
       "0     AGO        Angola  Southern Africa  1950  UrbanLevel  0.053145\n",
       "1     BDI       Burundi   Central Africa  1950  UrbanLevel  0.009324\n",
       "2     BEN         Benin      West Africa  1950  UrbanLevel  0.056652\n",
       "3     BFA  Burkina Faso      West Africa  1950  UrbanLevel  0.028304\n",
       "4     BWA      Botswana  Southern Africa  1950  UrbanLevel  0.000000\n",
       "...   ...           ...              ...   ...         ...       ...\n",
       "1615  TZA      Tanzania      East Africa  2050        Mpop  0.294277\n",
       "1616  UGA        Uganda      East Africa  2050        Mpop  0.307731\n",
       "1617  ZAF  South Africa  Southern Africa  2050        Mpop  0.517995\n",
       "1618  ZMB        Zambia  Southern Africa  2050        Mpop  0.313147\n",
       "1619  ZWE      Zimbabwe  Southern Africa  2050        Mpop  0.577462\n",
       "\n",
       "[1620 rows x 6 columns]"
      ]
     },
     "execution_count": 23,
     "metadata": {},
     "output_type": "execute_result"
    }
   ],
   "source": [
    "# Convert to long format (Melt)\n",
    "data_melted = merged.melt(\n",
    "    id_vars=[\"ISO\", \"Country\", \"AU_Regions\", \"Year\"],  # 保持不变的列\n",
    "    value_vars=[\"UrbanLevel\", \"Mpop\"],  # 只转换这两个变量\n",
    "    var_name=\"Variable\", \n",
    "    value_name=\"Value\"\n",
    ")\n",
    "\n",
    "# 检查结果\n",
    "data_melted"
   ]
  },
  {
   "cell_type": "code",
   "execution_count": 24,
   "metadata": {},
   "outputs": [
    {
     "data": {
      "application/vnd.plotly.v1+json": {
       "config": {
        "plotlyServerURL": "https://plot.ly"
       },
       "data": [
        {
         "colorbar": {
          "title": {
           "text": "Urban Level"
          },
          "x": -0.05
         },
         "colorscale": [
          [
           0,
           "rgb(247,251,255)"
          ],
          [
           0.125,
           "rgb(222,235,247)"
          ],
          [
           0.25,
           "rgb(198,219,239)"
          ],
          [
           0.375,
           "rgb(158,202,225)"
          ],
          [
           0.5,
           "rgb(107,174,214)"
          ],
          [
           0.625,
           "rgb(66,146,198)"
          ],
          [
           0.75,
           "rgb(33,113,181)"
          ],
          [
           0.875,
           "rgb(8,81,156)"
          ],
          [
           1,
           "rgb(8,48,107)"
          ]
         ],
         "geo": "geo",
         "locationmode": "ISO-3",
         "locations": [
          "AGO",
          "BDI",
          "BEN",
          "BFA",
          "BWA",
          "CAF",
          "CIV",
          "CMR",
          "COD",
          "COG",
          "COM",
          "CPV",
          "DJI",
          "DZA",
          "EGY",
          "ERI",
          "ETH",
          "GAB",
          "GHA",
          "GIN",
          "GMB",
          "GNB",
          "GNQ",
          "KEN",
          "LBR",
          "LBY",
          "LSO",
          "MAR",
          "MDG",
          "MLI",
          "MOZ",
          "MRT",
          "MUS",
          "MWI",
          "NAM",
          "NER",
          "NGA",
          "RWA",
          "SDN",
          "SEN",
          "SLE",
          "SOM",
          "SSD",
          "STP",
          "SWZ",
          "SYC",
          "TCD",
          "TGO",
          "TUN",
          "TZA",
          "UGA",
          "ZAF",
          "ZMB",
          "ZWE"
         ],
         "text": [
          "Angola",
          "Burundi",
          "Benin",
          "Burkina Faso",
          "Botswana",
          "Central African Republic",
          "Cote d`Ivoire",
          "Cameroon",
          "Democratic Republic of the Congo",
          "Republic of the Congo",
          "Comoros",
          "Cabo Verde",
          "Djibouti",
          "Algeria",
          "Egypt",
          "Eritrea",
          "Ethiopia",
          "Gabon",
          "Ghana",
          "Guinea",
          "The Gambia",
          "Guinea-Bissau",
          "Equatorial Guinea",
          "Kenya",
          "Liberia",
          "Libya",
          "Lesotho",
          "Morocco",
          "Madagascar",
          "Mali",
          "Mozambique",
          "Mauritania",
          "Mauritius",
          "Malawi",
          "Namibia",
          "Niger",
          "Nigeria",
          "Rwanda",
          "Sudan",
          "Senegal",
          "Sierra Leone",
          "Somalia",
          "South Sudan",
          "Sao Tome and Principe",
          "Kingdom of Eswatini",
          "Seychelles",
          "Chad",
          "Togo",
          "Tunisia",
          "Tanzania",
          "Uganda",
          "South Africa",
          "Zambia",
          "Zimbabwe"
         ],
         "type": "choropleth",
         "z": [
          0.0531449610230079,
          0.00932449783786177,
          0.056651957049104,
          0.0283043189368771,
          0,
          0.0348665183537264,
          0.0440794132158554,
          0.081,
          0.045437736495031,
          0.150743412336229,
          0,
          0.0672338382760828,
          0.638,
          0.166299431076292,
          0.265346607298072,
          0.115291430505033,
          0.0267635209613706,
          0.025440313111546,
          0.0687195790404752,
          0.0395075993245045,
          0.0944792176926287,
          0.0906988624083934,
          0.248158942530818,
          0.0458053876859766,
          0.0279268292682927,
          0.420050331458866,
          0,
          0.250322553095094,
          0.0773104332148666,
          0.0418744117647059,
          0.0236743521549646,
          0,
          0.158790212360662,
          0.010879655448693,
          0.0497421189330248,
          0.0107695863184654,
          0.106824119496855,
          0.00623207226598084,
          0.0821604511439942,
          0.196397358710429,
          0.047387991497851,
          0.0848319296267256,
          0.0081400707191255,
          0,
          0,
          0.284404178095476,
          0.0252029619056116,
          0.0406430787289343,
          0.217669664725468,
          0.0248502978440885,
          0.00820646792389537,
          0.235260064696855,
          0.132997038958443,
          0.181259616425997
         ]
        },
        {
         "colorbar": {
          "title": {
           "text": "Metropolitan Pop."
          },
          "x": 1.05
         },
         "colorscale": [
          [
           0,
           "rgb(255,245,235)"
          ],
          [
           0.125,
           "rgb(254,230,206)"
          ],
          [
           0.25,
           "rgb(253,208,162)"
          ],
          [
           0.375,
           "rgb(253,174,107)"
          ],
          [
           0.5,
           "rgb(253,141,60)"
          ],
          [
           0.625,
           "rgb(241,105,19)"
          ],
          [
           0.75,
           "rgb(217,72,1)"
          ],
          [
           0.875,
           "rgb(166,54,3)"
          ],
          [
           1,
           "rgb(127,39,4)"
          ]
         ],
         "geo": "geo2",
         "locationmode": "ISO-3",
         "locations": [
          "AGO",
          "BDI",
          "BEN",
          "BFA",
          "BWA",
          "CAF",
          "CIV",
          "CMR",
          "COD",
          "COG",
          "COM",
          "CPV",
          "DJI",
          "DZA",
          "EGY",
          "ERI",
          "ETH",
          "GAB",
          "GHA",
          "GIN",
          "GMB",
          "GNB",
          "GNQ",
          "KEN",
          "LBR",
          "LBY",
          "LSO",
          "MAR",
          "MDG",
          "MLI",
          "MOZ",
          "MRT",
          "MUS",
          "MWI",
          "NAM",
          "NER",
          "NGA",
          "RWA",
          "SDN",
          "SEN",
          "SLE",
          "SOM",
          "SSD",
          "STP",
          "SWZ",
          "SYC",
          "TCD",
          "TGO",
          "TUN",
          "TZA",
          "UGA",
          "ZAF",
          "ZMB",
          "ZWE"
         ],
         "text": [
          "Angola",
          "Burundi",
          "Benin",
          "Burkina Faso",
          "Botswana",
          "Central African Republic",
          "Cote d`Ivoire",
          "Cameroon",
          "Democratic Republic of the Congo",
          "Republic of the Congo",
          "Comoros",
          "Cabo Verde",
          "Djibouti",
          "Algeria",
          "Egypt",
          "Eritrea",
          "Ethiopia",
          "Gabon",
          "Ghana",
          "Guinea",
          "The Gambia",
          "Guinea-Bissau",
          "Equatorial Guinea",
          "Kenya",
          "Liberia",
          "Libya",
          "Lesotho",
          "Morocco",
          "Madagascar",
          "Mali",
          "Mozambique",
          "Mauritania",
          "Mauritius",
          "Malawi",
          "Namibia",
          "Niger",
          "Nigeria",
          "Rwanda",
          "Sudan",
          "Senegal",
          "Sierra Leone",
          "Somalia",
          "South Sudan",
          "Sao Tome and Principe",
          "Kingdom of Eswatini",
          "Seychelles",
          "Chad",
          "Togo",
          "Tunisia",
          "Tanzania",
          "Uganda",
          "South Africa",
          "Zambia",
          "Zimbabwe"
         ],
         "type": "choropleth",
         "z": [
          0.643213799364211,
          0.999999999994724,
          0.561362539154407,
          0.878926240667544,
          0,
          0.999999999997341,
          0.59769953447364,
          0.502836169502668,
          0.450094316841515,
          0.999999999999023,
          0,
          0.999999999990083,
          0.999999999996865,
          0.289511751874591,
          0.472238741148438,
          0.728827612520194,
          0.721940250179138,
          0.999999999990385,
          0.660389342809951,
          0.409448818897177,
          0,
          0.999999999997834,
          0.999999999997972,
          0.879648104479987,
          0.999999999995633,
          0.416063411540795,
          0,
          0.399713645446703,
          0.523437499999843,
          0.581809753253368,
          0.686453464835913,
          0,
          0.999999999998721,
          0.999999999995915,
          0.999999999995051,
          0,
          0.085043981363592,
          0.999999999991502,
          0.428987155221991,
          0.566131025957833,
          0.808979600832267,
          0.505766971512066,
          0.999999999994444,
          0,
          0,
          0.999999999990258,
          0.415929203539087,
          0.999999999997656,
          0.552185972119621,
          0.401430270485281,
          0.748974569317359,
          0.655467283909396,
          0.128389415223741,
          0.748650056664103
         ]
        }
       ],
       "frames": [
        {
         "data": [
          {
           "colorbar": {
            "title": {
             "text": "Urban Level"
            },
            "x": -0.05
           },
           "colorscale": [
            [
             0,
             "rgb(247,251,255)"
            ],
            [
             0.125,
             "rgb(222,235,247)"
            ],
            [
             0.25,
             "rgb(198,219,239)"
            ],
            [
             0.375,
             "rgb(158,202,225)"
            ],
            [
             0.5,
             "rgb(107,174,214)"
            ],
            [
             0.625,
             "rgb(66,146,198)"
            ],
            [
             0.75,
             "rgb(33,113,181)"
            ],
            [
             0.875,
             "rgb(8,81,156)"
            ],
            [
             1,
             "rgb(8,48,107)"
            ]
           ],
           "locationmode": "ISO-3",
           "locations": [
            "AGO",
            "BDI",
            "BEN",
            "BFA",
            "BWA",
            "CAF",
            "CIV",
            "CMR",
            "COD",
            "COG",
            "COM",
            "CPV",
            "DJI",
            "DZA",
            "EGY",
            "ERI",
            "ETH",
            "GAB",
            "GHA",
            "GIN",
            "GMB",
            "GNB",
            "GNQ",
            "KEN",
            "LBR",
            "LBY",
            "LSO",
            "MAR",
            "MDG",
            "MLI",
            "MOZ",
            "MRT",
            "MUS",
            "MWI",
            "NAM",
            "NER",
            "NGA",
            "RWA",
            "SDN",
            "SEN",
            "SLE",
            "SOM",
            "SSD",
            "STP",
            "SWZ",
            "SYC",
            "TCD",
            "TGO",
            "TUN",
            "TZA",
            "UGA",
            "ZAF",
            "ZMB",
            "ZWE"
           ],
           "text": [
            "Angola",
            "Burundi",
            "Benin",
            "Burkina Faso",
            "Botswana",
            "Central African Republic",
            "Cote d`Ivoire",
            "Cameroon",
            "Democratic Republic of the Congo",
            "Republic of the Congo",
            "Comoros",
            "Cabo Verde",
            "Djibouti",
            "Algeria",
            "Egypt",
            "Eritrea",
            "Ethiopia",
            "Gabon",
            "Ghana",
            "Guinea",
            "The Gambia",
            "Guinea-Bissau",
            "Equatorial Guinea",
            "Kenya",
            "Liberia",
            "Libya",
            "Lesotho",
            "Morocco",
            "Madagascar",
            "Mali",
            "Mozambique",
            "Mauritania",
            "Mauritius",
            "Malawi",
            "Namibia",
            "Niger",
            "Nigeria",
            "Rwanda",
            "Sudan",
            "Senegal",
            "Sierra Leone",
            "Somalia",
            "South Sudan",
            "Sao Tome and Principe",
            "Kingdom of Eswatini",
            "Seychelles",
            "Chad",
            "Togo",
            "Tunisia",
            "Tanzania",
            "Uganda",
            "South Africa",
            "Zambia",
            "Zimbabwe"
           ],
           "type": "choropleth",
           "z": [
            0.0531449610230079,
            0.00932449783786177,
            0.056651957049104,
            0.0283043189368771,
            0,
            0.0348665183537264,
            0.0440794132158554,
            0.081,
            0.045437736495031,
            0.150743412336229,
            0,
            0.0672338382760828,
            0.638,
            0.166299431076292,
            0.265346607298072,
            0.115291430505033,
            0.0267635209613706,
            0.025440313111546,
            0.0687195790404752,
            0.0395075993245045,
            0.0944792176926287,
            0.0906988624083934,
            0.248158942530818,
            0.0458053876859766,
            0.0279268292682927,
            0.420050331458866,
            0,
            0.250322553095094,
            0.0773104332148666,
            0.0418744117647059,
            0.0236743521549646,
            0,
            0.158790212360662,
            0.010879655448693,
            0.0497421189330248,
            0.0107695863184654,
            0.106824119496855,
            0.00623207226598084,
            0.0821604511439942,
            0.196397358710429,
            0.047387991497851,
            0.0848319296267256,
            0.0081400707191255,
            0,
            0,
            0.284404178095476,
            0.0252029619056116,
            0.0406430787289343,
            0.217669664725468,
            0.0248502978440885,
            0.00820646792389537,
            0.235260064696855,
            0.132997038958443,
            0.181259616425997
           ]
          },
          {
           "colorbar": {
            "title": {
             "text": "Metropolitan Pop."
            },
            "x": 1.05
           },
           "colorscale": [
            [
             0,
             "rgb(255,245,235)"
            ],
            [
             0.125,
             "rgb(254,230,206)"
            ],
            [
             0.25,
             "rgb(253,208,162)"
            ],
            [
             0.375,
             "rgb(253,174,107)"
            ],
            [
             0.5,
             "rgb(253,141,60)"
            ],
            [
             0.625,
             "rgb(241,105,19)"
            ],
            [
             0.75,
             "rgb(217,72,1)"
            ],
            [
             0.875,
             "rgb(166,54,3)"
            ],
            [
             1,
             "rgb(127,39,4)"
            ]
           ],
           "locationmode": "ISO-3",
           "locations": [
            "AGO",
            "BDI",
            "BEN",
            "BFA",
            "BWA",
            "CAF",
            "CIV",
            "CMR",
            "COD",
            "COG",
            "COM",
            "CPV",
            "DJI",
            "DZA",
            "EGY",
            "ERI",
            "ETH",
            "GAB",
            "GHA",
            "GIN",
            "GMB",
            "GNB",
            "GNQ",
            "KEN",
            "LBR",
            "LBY",
            "LSO",
            "MAR",
            "MDG",
            "MLI",
            "MOZ",
            "MRT",
            "MUS",
            "MWI",
            "NAM",
            "NER",
            "NGA",
            "RWA",
            "SDN",
            "SEN",
            "SLE",
            "SOM",
            "SSD",
            "STP",
            "SWZ",
            "SYC",
            "TCD",
            "TGO",
            "TUN",
            "TZA",
            "UGA",
            "ZAF",
            "ZMB",
            "ZWE"
           ],
           "text": [
            "Angola",
            "Burundi",
            "Benin",
            "Burkina Faso",
            "Botswana",
            "Central African Republic",
            "Cote d`Ivoire",
            "Cameroon",
            "Democratic Republic of the Congo",
            "Republic of the Congo",
            "Comoros",
            "Cabo Verde",
            "Djibouti",
            "Algeria",
            "Egypt",
            "Eritrea",
            "Ethiopia",
            "Gabon",
            "Ghana",
            "Guinea",
            "The Gambia",
            "Guinea-Bissau",
            "Equatorial Guinea",
            "Kenya",
            "Liberia",
            "Libya",
            "Lesotho",
            "Morocco",
            "Madagascar",
            "Mali",
            "Mozambique",
            "Mauritania",
            "Mauritius",
            "Malawi",
            "Namibia",
            "Niger",
            "Nigeria",
            "Rwanda",
            "Sudan",
            "Senegal",
            "Sierra Leone",
            "Somalia",
            "South Sudan",
            "Sao Tome and Principe",
            "Kingdom of Eswatini",
            "Seychelles",
            "Chad",
            "Togo",
            "Tunisia",
            "Tanzania",
            "Uganda",
            "South Africa",
            "Zambia",
            "Zimbabwe"
           ],
           "type": "choropleth",
           "z": [
            0.643213799364211,
            0.999999999994724,
            0.561362539154407,
            0.878926240667544,
            0,
            0.999999999997341,
            0.59769953447364,
            0.502836169502668,
            0.450094316841515,
            0.999999999999023,
            0,
            0.999999999990083,
            0.999999999996865,
            0.289511751874591,
            0.472238741148438,
            0.728827612520194,
            0.721940250179138,
            0.999999999990385,
            0.660389342809951,
            0.409448818897177,
            0,
            0.999999999997834,
            0.999999999997972,
            0.879648104479987,
            0.999999999995633,
            0.416063411540795,
            0,
            0.399713645446703,
            0.523437499999843,
            0.581809753253368,
            0.686453464835913,
            0,
            0.999999999998721,
            0.999999999995915,
            0.999999999995051,
            0,
            0.085043981363592,
            0.999999999991502,
            0.428987155221991,
            0.566131025957833,
            0.808979600832267,
            0.505766971512066,
            0.999999999994444,
            0,
            0,
            0.999999999990258,
            0.415929203539087,
            0.999999999997656,
            0.552185972119621,
            0.401430270485281,
            0.748974569317359,
            0.655467283909396,
            0.128389415223741,
            0.748650056664103
           ]
          }
         ],
         "name": "1950"
        },
        {
         "data": [
          {
           "colorbar": {
            "title": {
             "text": "Urban Level"
            },
            "x": -0.05
           },
           "colorscale": [
            [
             0,
             "rgb(247,251,255)"
            ],
            [
             0.125,
             "rgb(222,235,247)"
            ],
            [
             0.25,
             "rgb(198,219,239)"
            ],
            [
             0.375,
             "rgb(158,202,225)"
            ],
            [
             0.5,
             "rgb(107,174,214)"
            ],
            [
             0.625,
             "rgb(66,146,198)"
            ],
            [
             0.75,
             "rgb(33,113,181)"
            ],
            [
             0.875,
             "rgb(8,81,156)"
            ],
            [
             1,
             "rgb(8,48,107)"
            ]
           ],
           "locationmode": "ISO-3",
           "locations": [
            "AGO",
            "BDI",
            "BEN",
            "BFA",
            "BWA",
            "CAF",
            "CIV",
            "CMR",
            "COD",
            "COG",
            "COM",
            "CPV",
            "DJI",
            "DZA",
            "EGY",
            "ERI",
            "ETH",
            "GAB",
            "GHA",
            "GIN",
            "GMB",
            "GNB",
            "GNQ",
            "KEN",
            "LBR",
            "LBY",
            "LSO",
            "MAR",
            "MDG",
            "MLI",
            "MOZ",
            "MRT",
            "MUS",
            "MWI",
            "NAM",
            "NER",
            "NGA",
            "RWA",
            "SDN",
            "SEN",
            "SLE",
            "SOM",
            "SSD",
            "STP",
            "SWZ",
            "SYC",
            "TCD",
            "TGO",
            "TUN",
            "TZA",
            "UGA",
            "ZAF",
            "ZMB",
            "ZWE"
           ],
           "text": [
            "Angola",
            "Burundi",
            "Benin",
            "Burkina Faso",
            "Botswana",
            "Central African Republic",
            "Cote d`Ivoire",
            "Cameroon",
            "Democratic Republic of the Congo",
            "Republic of the Congo",
            "Comoros",
            "Cabo Verde",
            "Djibouti",
            "Algeria",
            "Egypt",
            "Eritrea",
            "Ethiopia",
            "Gabon",
            "Ghana",
            "Guinea",
            "The Gambia",
            "Guinea-Bissau",
            "Equatorial Guinea",
            "Kenya",
            "Liberia",
            "Libya",
            "Lesotho",
            "Morocco",
            "Madagascar",
            "Mali",
            "Mozambique",
            "Mauritania",
            "Mauritius",
            "Malawi",
            "Namibia",
            "Niger",
            "Nigeria",
            "Rwanda",
            "Sudan",
            "Senegal",
            "Sierra Leone",
            "Somalia",
            "South Sudan",
            "Sao Tome and Principe",
            "Kingdom of Eswatini",
            "Seychelles",
            "Chad",
            "Togo",
            "Tunisia",
            "Tanzania",
            "Uganda",
            "South Africa",
            "Zambia",
            "Zimbabwe"
           ],
           "type": "choropleth",
           "z": [
            0.0770061610952826,
            0.0180846935985961,
            0.107165847116674,
            0.0342827574784862,
            0,
            0.118216662454722,
            0.120135125602341,
            0.107340716227642,
            0.121725373843186,
            0.199569344308305,
            0,
            0.157577212834289,
            0.477040816326531,
            0.290404715550207,
            0.310373272303165,
            0.12032146799117,
            0.0352762587158361,
            0.102318323673651,
            0.151297793899031,
            0.0762958235836347,
            0.0833189135892756,
            0.0948619910664837,
            0.237002467590014,
            0.0650313098213064,
            0.0679155707081707,
            0.436640671118244,
            0.0157361661102678,
            0.265227652148168,
            0.086375,
            0.048926693853486,
            0.0398907932655847,
            0,
            0.210236621216149,
            0.0330115329258737,
            0.0929425376012341,
            0.0293884954826107,
            0.191815447361713,
            0,
            0.105046351194831,
            0.218322901412116,
            0.0748740536299965,
            0.120461434977578,
            0.01569874780604,
            0,
            0,
            0.323283041641521,
            0.0470215261487512,
            0.103075934580228,
            0.233047964088123,
            0.0435622099001134,
            0.0286138117012268,
            0.289147985146472,
            0.19051002484798,
            0.263054082350306
           ]
          },
          {
           "colorbar": {
            "title": {
             "text": "Metropolitan Pop."
            },
            "x": 1.05
           },
           "colorscale": [
            [
             0,
             "rgb(255,245,235)"
            ],
            [
             0.125,
             "rgb(254,230,206)"
            ],
            [
             0.25,
             "rgb(253,208,162)"
            ],
            [
             0.375,
             "rgb(253,174,107)"
            ],
            [
             0.5,
             "rgb(253,141,60)"
            ],
            [
             0.625,
             "rgb(241,105,19)"
            ],
            [
             0.75,
             "rgb(217,72,1)"
            ],
            [
             0.875,
             "rgb(166,54,3)"
            ],
            [
             1,
             "rgb(127,39,4)"
            ]
           ],
           "locationmode": "ISO-3",
           "locations": [
            "AGO",
            "BDI",
            "BEN",
            "BFA",
            "BWA",
            "CAF",
            "CIV",
            "CMR",
            "COD",
            "COG",
            "COM",
            "CPV",
            "DJI",
            "DZA",
            "EGY",
            "ERI",
            "ETH",
            "GAB",
            "GHA",
            "GIN",
            "GMB",
            "GNB",
            "GNQ",
            "KEN",
            "LBR",
            "LBY",
            "LSO",
            "MAR",
            "MDG",
            "MLI",
            "MOZ",
            "MRT",
            "MUS",
            "MWI",
            "NAM",
            "NER",
            "NGA",
            "RWA",
            "SDN",
            "SEN",
            "SLE",
            "SOM",
            "SSD",
            "STP",
            "SWZ",
            "SYC",
            "TCD",
            "TGO",
            "TUN",
            "TZA",
            "UGA",
            "ZAF",
            "ZMB",
            "ZWE"
           ],
           "text": [
            "Angola",
            "Burundi",
            "Benin",
            "Burkina Faso",
            "Botswana",
            "Central African Republic",
            "Cote d`Ivoire",
            "Cameroon",
            "Democratic Republic of the Congo",
            "Republic of the Congo",
            "Comoros",
            "Cabo Verde",
            "Djibouti",
            "Algeria",
            "Egypt",
            "Eritrea",
            "Ethiopia",
            "Gabon",
            "Ghana",
            "Guinea",
            "The Gambia",
            "Guinea-Bissau",
            "Equatorial Guinea",
            "Kenya",
            "Liberia",
            "Libya",
            "Lesotho",
            "Morocco",
            "Madagascar",
            "Mali",
            "Mozambique",
            "Mauritania",
            "Mauritius",
            "Malawi",
            "Namibia",
            "Niger",
            "Nigeria",
            "Rwanda",
            "Sudan",
            "Senegal",
            "Sierra Leone",
            "Somalia",
            "South Sudan",
            "Sao Tome and Principe",
            "Kingdom of Eswatini",
            "Seychelles",
            "Chad",
            "Togo",
            "Tunisia",
            "Tanzania",
            "Uganda",
            "South Africa",
            "Zambia",
            "Zimbabwe"
           ],
           "type": "choropleth",
           "z": [
            0.58565840938707,
            0.999999999997968,
            0.593584449171738,
            0.788092877786691,
            0,
            0.598660348451492,
            0.591420641858644,
            0.423167848699673,
            0.367990565297819,
            0.933717579250182,
            0,
            0.999999999996825,
            0.999999999997326,
            0.247740074623729,
            0.485209914769334,
            0.708069121305881,
            0.696165620124365,
            0.596949891066238,
            0.509400147383885,
            0.550416002832116,
            0,
            0.999999999997994,
            0.999999999998285,
            0.871837277207986,
            0.999999999998458,
            0.489072356152109,
            0.999999999991223,
            0.409256430317046,
            0.426504031424349,
            0.644317913647429,
            0.698859315589088,
            0,
            0.808336284080553,
            0.869451749142492,
            0.74688796680343,
            0.396128097995921,
            0.110635196121685,
            0,
            0.394339101619984,
            0.571868744961902,
            0.710266865279293,
            0.521105316253822,
            0.382351618704176,
            0,
            0,
            0.999999999992533,
            0.481585550158847,
            0.825717900145628,
            0.509174634383763,
            0.375529552503026,
            0.697202359716928,
            0.643388525078203,
            0.185289709676068,
            0.750272745608481
           ]
          }
         ],
         "name": "1960"
        },
        {
         "data": [
          {
           "colorbar": {
            "title": {
             "text": "Urban Level"
            },
            "x": -0.05
           },
           "colorscale": [
            [
             0,
             "rgb(247,251,255)"
            ],
            [
             0.125,
             "rgb(222,235,247)"
            ],
            [
             0.25,
             "rgb(198,219,239)"
            ],
            [
             0.375,
             "rgb(158,202,225)"
            ],
            [
             0.5,
             "rgb(107,174,214)"
            ],
            [
             0.625,
             "rgb(66,146,198)"
            ],
            [
             0.75,
             "rgb(33,113,181)"
            ],
            [
             0.875,
             "rgb(8,81,156)"
            ],
            [
             1,
             "rgb(8,48,107)"
            ]
           ],
           "locationmode": "ISO-3",
           "locations": [
            "AGO",
            "BDI",
            "BEN",
            "BFA",
            "BWA",
            "CAF",
            "CIV",
            "CMR",
            "COD",
            "COG",
            "COM",
            "CPV",
            "DJI",
            "DZA",
            "EGY",
            "ERI",
            "ETH",
            "GAB",
            "GHA",
            "GIN",
            "GMB",
            "GNB",
            "GNQ",
            "KEN",
            "LBR",
            "LBY",
            "LSO",
            "MAR",
            "MDG",
            "MLI",
            "MOZ",
            "MRT",
            "MUS",
            "MWI",
            "NAM",
            "NER",
            "NGA",
            "RWA",
            "SDN",
            "SEN",
            "SLE",
            "SOM",
            "SSD",
            "STP",
            "SWZ",
            "SYC",
            "TCD",
            "TGO",
            "TUN",
            "TZA",
            "UGA",
            "ZAF",
            "ZMB",
            "ZWE"
           ],
           "text": [
            "Angola",
            "Burundi",
            "Benin",
            "Burkina Faso",
            "Botswana",
            "Central African Republic",
            "Cote d`Ivoire",
            "Cameroon",
            "Democratic Republic of the Congo",
            "Republic of the Congo",
            "Comoros",
            "Cabo Verde",
            "Djibouti",
            "Algeria",
            "Egypt",
            "Eritrea",
            "Ethiopia",
            "Gabon",
            "Ghana",
            "Guinea",
            "The Gambia",
            "Guinea-Bissau",
            "Equatorial Guinea",
            "Kenya",
            "Liberia",
            "Libya",
            "Lesotho",
            "Morocco",
            "Madagascar",
            "Mali",
            "Mozambique",
            "Mauritania",
            "Mauritius",
            "Malawi",
            "Namibia",
            "Niger",
            "Nigeria",
            "Rwanda",
            "Sudan",
            "Senegal",
            "Sierra Leone",
            "Somalia",
            "South Sudan",
            "Sao Tome and Principe",
            "Kingdom of Eswatini",
            "Seychelles",
            "Chad",
            "Togo",
            "Tunisia",
            "Tanzania",
            "Uganda",
            "South Africa",
            "Zambia",
            "Zimbabwe"
           ],
           "type": "choropleth",
           "z": [
            0.13779686959257,
            0.0274969054651988,
            0.13634219269103,
            0.0610313555906222,
            0.134614308935923,
            0.224133179803521,
            0.22288059391352,
            0.186080740651809,
            0.216236574781344,
            0.32906915799449,
            0.0537351200936106,
            0.185375904929006,
            0.610192837465565,
            0.324307076333626,
            0.351630964153322,
            0.179251777451755,
            0.0531677188247956,
            0.197872340425532,
            0.208431681374428,
            0.13752909860859,
            0.147579904071573,
            0.243250562111241,
            0.245630897620737,
            0.0810457214885925,
            0.140460732999756,
            0.45426554251703,
            0.051199127100817,
            0.308963843801804,
            0.121303800035769,
            0.0775208118092626,
            0.0715455731898979,
            0.066882719199755,
            0.522839581602229,
            0.0458538888024943,
            0.142282958199357,
            0.0537811595020169,
            0.226484787018256,
            0.0152777408107317,
            0.151497153285942,
            0.257023216592679,
            0.132872835610412,
            0.138931608682724,
            0.053511666960113,
            0.265541536505876,
            0.0890874343048256,
            0.376966791665056,
            0.092849920443993,
            0.197816050772853,
            0.271574221656362,
            0.0656205900041892,
            0.0494958242934174,
            0.339568144105031,
            0.269677852259119,
            0.162033551938777
           ]
          },
          {
           "colorbar": {
            "title": {
             "text": "Metropolitan Pop."
            },
            "x": 1.05
           },
           "colorscale": [
            [
             0,
             "rgb(255,245,235)"
            ],
            [
             0.125,
             "rgb(254,230,206)"
            ],
            [
             0.25,
             "rgb(253,208,162)"
            ],
            [
             0.375,
             "rgb(253,174,107)"
            ],
            [
             0.5,
             "rgb(253,141,60)"
            ],
            [
             0.625,
             "rgb(241,105,19)"
            ],
            [
             0.75,
             "rgb(217,72,1)"
            ],
            [
             0.875,
             "rgb(166,54,3)"
            ],
            [
             1,
             "rgb(127,39,4)"
            ]
           ],
           "locationmode": "ISO-3",
           "locations": [
            "AGO",
            "BDI",
            "BEN",
            "BFA",
            "BWA",
            "CAF",
            "CIV",
            "CMR",
            "COD",
            "COG",
            "COM",
            "CPV",
            "DJI",
            "DZA",
            "EGY",
            "ERI",
            "ETH",
            "GAB",
            "GHA",
            "GIN",
            "GMB",
            "GNB",
            "GNQ",
            "KEN",
            "LBR",
            "LBY",
            "LSO",
            "MAR",
            "MDG",
            "MLI",
            "MOZ",
            "MRT",
            "MUS",
            "MWI",
            "NAM",
            "NER",
            "NGA",
            "RWA",
            "SDN",
            "SEN",
            "SLE",
            "SOM",
            "SSD",
            "STP",
            "SWZ",
            "SYC",
            "TCD",
            "TGO",
            "TUN",
            "TZA",
            "UGA",
            "ZAF",
            "ZMB",
            "ZWE"
           ],
           "text": [
            "Angola",
            "Burundi",
            "Benin",
            "Burkina Faso",
            "Botswana",
            "Central African Republic",
            "Cote d`Ivoire",
            "Cameroon",
            "Democratic Republic of the Congo",
            "Republic of the Congo",
            "Comoros",
            "Cabo Verde",
            "Djibouti",
            "Algeria",
            "Egypt",
            "Eritrea",
            "Ethiopia",
            "Gabon",
            "Ghana",
            "Guinea",
            "The Gambia",
            "Guinea-Bissau",
            "Equatorial Guinea",
            "Kenya",
            "Liberia",
            "Libya",
            "Lesotho",
            "Morocco",
            "Madagascar",
            "Mali",
            "Mozambique",
            "Mauritania",
            "Mauritius",
            "Malawi",
            "Namibia",
            "Niger",
            "Nigeria",
            "Rwanda",
            "Sudan",
            "Senegal",
            "Sierra Leone",
            "Somalia",
            "South Sudan",
            "Sao Tome and Principe",
            "Kingdom of Eswatini",
            "Seychelles",
            "Chad",
            "Togo",
            "Tunisia",
            "Tanzania",
            "Uganda",
            "South Africa",
            "Zambia",
            "Zimbabwe"
           ],
           "type": "choropleth",
           "z": [
            0.610942593030471,
            0.999999999998954,
            0.687256836992268,
            0.744629717821438,
            0.180362134528469,
            0.526539979851951,
            0.492297834579058,
            0.438620438620399,
            0.327815220698566,
            0.886874564272836,
            0.999999999992305,
            0.999999999998012,
            0.999999999998871,
            0.26376758727071,
            0.501654595961683,
            0.687379985519348,
            0.601160173421711,
            0.697947214075564,
            0.543951565891164,
            0.625009017505287,
            0.44331433717846,
            0.999999999999157,
            0.999999999998447,
            0.857340030155229,
            0.788694340336316,
            0.479017649218308,
            0.741368103837345,
            0.415820360505987,
            0.450343352285511,
            0.511563716291884,
            0.75276279113862,
            0.502098435710942,
            0.807170852897063,
            0.846380311433758,
            0.581920903954254,
            0.467759745381108,
            0.135235587558325,
            0.999999999998258,
            0.391512266823651,
            0.574208353211815,
            0.615893267995155,
            0.610810162939939,
            0.273436008400513,
            0.999999999994907,
            0.999999999997318,
            0.999999999994872,
            0.472670198280172,
            0.488691903863592,
            0.459492552581376,
            0.396452966306173,
            0.703672829418895,
            0.621156846281218,
            0.227580623565142,
            0.738751017848533
           ]
          }
         ],
         "name": "1970"
        },
        {
         "data": [
          {
           "colorbar": {
            "title": {
             "text": "Urban Level"
            },
            "x": -0.05
           },
           "colorscale": [
            [
             0,
             "rgb(247,251,255)"
            ],
            [
             0.125,
             "rgb(222,235,247)"
            ],
            [
             0.25,
             "rgb(198,219,239)"
            ],
            [
             0.375,
             "rgb(158,202,225)"
            ],
            [
             0.5,
             "rgb(107,174,214)"
            ],
            [
             0.625,
             "rgb(66,146,198)"
            ],
            [
             0.75,
             "rgb(33,113,181)"
            ],
            [
             0.875,
             "rgb(8,81,156)"
            ],
            [
             1,
             "rgb(8,48,107)"
            ]
           ],
           "locationmode": "ISO-3",
           "locations": [
            "AGO",
            "BDI",
            "BEN",
            "BFA",
            "BWA",
            "CAF",
            "CIV",
            "CMR",
            "COD",
            "COG",
            "COM",
            "CPV",
            "DJI",
            "DZA",
            "EGY",
            "ERI",
            "ETH",
            "GAB",
            "GHA",
            "GIN",
            "GMB",
            "GNB",
            "GNQ",
            "KEN",
            "LBR",
            "LBY",
            "LSO",
            "MAR",
            "MDG",
            "MLI",
            "MOZ",
            "MRT",
            "MUS",
            "MWI",
            "NAM",
            "NER",
            "NGA",
            "RWA",
            "SDN",
            "SEN",
            "SLE",
            "SOM",
            "SSD",
            "STP",
            "SWZ",
            "SYC",
            "TCD",
            "TGO",
            "TUN",
            "TZA",
            "UGA",
            "ZAF",
            "ZMB",
            "ZWE"
           ],
           "text": [
            "Angola",
            "Burundi",
            "Benin",
            "Burkina Faso",
            "Botswana",
            "Central African Republic",
            "Cote d`Ivoire",
            "Cameroon",
            "Democratic Republic of the Congo",
            "Republic of the Congo",
            "Comoros",
            "Cabo Verde",
            "Djibouti",
            "Algeria",
            "Egypt",
            "Eritrea",
            "Ethiopia",
            "Gabon",
            "Ghana",
            "Guinea",
            "The Gambia",
            "Guinea-Bissau",
            "Equatorial Guinea",
            "Kenya",
            "Liberia",
            "Libya",
            "Lesotho",
            "Morocco",
            "Madagascar",
            "Mali",
            "Mozambique",
            "Mauritania",
            "Mauritius",
            "Malawi",
            "Namibia",
            "Niger",
            "Nigeria",
            "Rwanda",
            "Sudan",
            "Senegal",
            "Sierra Leone",
            "Somalia",
            "South Sudan",
            "Sao Tome and Principe",
            "Kingdom of Eswatini",
            "Seychelles",
            "Chad",
            "Togo",
            "Tunisia",
            "Tanzania",
            "Uganda",
            "South Africa",
            "Zambia",
            "Zimbabwe"
           ],
           "type": "choropleth",
           "z": [
            0.206967909911959,
            0.0432586973630379,
            0.233008353527165,
            0.107381927803973,
            0.27578621376166,
            0.273159156252867,
            0.331859851386772,
            0.265336713209673,
            0.24724381109833,
            0.495704215509105,
            0.100751902133373,
            0.262882013371525,
            0.752020538564999,
            0.366164385681986,
            0.381797516781269,
            0.158210110324387,
            0.066451509210137,
            0.295960140662145,
            0.225933802684724,
            0.174559280007347,
            0.202550175215037,
            0.164924538955386,
            0.251018688857177,
            0.10307009339456,
            0.254825464871773,
            0.508813483876484,
            0.0639444630726625,
            0.361775397830228,
            0.15242744882087,
            0.135105324730873,
            0.139192654365469,
            0.208922390175968,
            0.548665058914997,
            0.0729179929899037,
            0.167597809439371,
            0.0924397024767843,
            0.276404870624049,
            0.0304089602552186,
            0.205862100420164,
            0.323197682632384,
            0.198954540425957,
            0.165064840362633,
            0.0639330908531346,
            0.37660305871585,
            0.112190253205995,
            0.370528923805492,
            0.132825536886814,
            0.248658020878834,
            0.338838611558305,
            0.112049882224983,
            0.0533593694356734,
            0.38601871316104,
            0.363584922269758,
            0.190354830420652
           ]
          },
          {
           "colorbar": {
            "title": {
             "text": "Metropolitan Pop."
            },
            "x": 1.05
           },
           "colorscale": [
            [
             0,
             "rgb(255,245,235)"
            ],
            [
             0.125,
             "rgb(254,230,206)"
            ],
            [
             0.25,
             "rgb(253,208,162)"
            ],
            [
             0.375,
             "rgb(253,174,107)"
            ],
            [
             0.5,
             "rgb(253,141,60)"
            ],
            [
             0.625,
             "rgb(241,105,19)"
            ],
            [
             0.75,
             "rgb(217,72,1)"
            ],
            [
             0.875,
             "rgb(166,54,3)"
            ],
            [
             1,
             "rgb(127,39,4)"
            ]
           ],
           "locationmode": "ISO-3",
           "locations": [
            "AGO",
            "BDI",
            "BEN",
            "BFA",
            "BWA",
            "CAF",
            "CIV",
            "CMR",
            "COD",
            "COG",
            "COM",
            "CPV",
            "DJI",
            "DZA",
            "EGY",
            "ERI",
            "ETH",
            "GAB",
            "GHA",
            "GIN",
            "GMB",
            "GNB",
            "GNQ",
            "KEN",
            "LBR",
            "LBY",
            "LSO",
            "MAR",
            "MDG",
            "MLI",
            "MOZ",
            "MRT",
            "MUS",
            "MWI",
            "NAM",
            "NER",
            "NGA",
            "RWA",
            "SDN",
            "SEN",
            "SLE",
            "SOM",
            "SSD",
            "STP",
            "SWZ",
            "SYC",
            "TCD",
            "TGO",
            "TUN",
            "TZA",
            "UGA",
            "ZAF",
            "ZMB",
            "ZWE"
           ],
           "text": [
            "Angola",
            "Burundi",
            "Benin",
            "Burkina Faso",
            "Botswana",
            "Central African Republic",
            "Cote d`Ivoire",
            "Cameroon",
            "Democratic Republic of the Congo",
            "Republic of the Congo",
            "Comoros",
            "Cabo Verde",
            "Djibouti",
            "Algeria",
            "Egypt",
            "Eritrea",
            "Ethiopia",
            "Gabon",
            "Ghana",
            "Guinea",
            "The Gambia",
            "Guinea-Bissau",
            "Equatorial Guinea",
            "Kenya",
            "Liberia",
            "Libya",
            "Lesotho",
            "Morocco",
            "Madagascar",
            "Mali",
            "Mozambique",
            "Mauritania",
            "Mauritius",
            "Malawi",
            "Namibia",
            "Niger",
            "Nigeria",
            "Rwanda",
            "Sudan",
            "Senegal",
            "Sierra Leone",
            "Somalia",
            "South Sudan",
            "Sao Tome and Principe",
            "Kingdom of Eswatini",
            "Seychelles",
            "Chad",
            "Togo",
            "Tunisia",
            "Tanzania",
            "Uganda",
            "South Africa",
            "Zambia",
            "Zimbabwe"
           ],
           "type": "choropleth",
           "z": [
            0.50041787966491,
            0.940174816755452,
            0.623826834801147,
            0.643551373903919,
            0.211459544421448,
            0.538598663665824,
            0.46885191846521,
            0.446346361526599,
            0.371119558741945,
            0.837008637328175,
            0.511357242276449,
            0.999999999998714,
            0.999999999999456,
            0.23329207219443,
            0.494592763551459,
            0.746084033263406,
            0.549544327989928,
            0.641889290938212,
            0.522799793719667,
            0.620371890217404,
            0.663112117708525,
            0.893659773098942,
            0.99999999999863,
            0.743165870116597,
            0.66260945230745,
            0.462037600022547,
            0.804073892131192,
            0.391131061062351,
            0.387275716742548,
            0.543634278872863,
            0.443832156876285,
            0.601395883547712,
            0.792329434290405,
            0.833014975380626,
            0.540849230913758,
            0.501243347464958,
            0.150882718972675,
            0.83400063183766,
            0.396678556476584,
            0.529724059542855,
            0.588344072443632,
            0.649973314675418,
            0.262050194860078,
            0.999999999997174,
            0.999999999998414,
            0.999999999995768,
            0.488535876759519,
            0.569418128874694,
            0.376566889036745,
            0.380609265372989,
            0.681622210851715,
            0.562497330542855,
            0.259466008369452,
            0.72280120363518
           ]
          }
         ],
         "name": "1980"
        },
        {
         "data": [
          {
           "colorbar": {
            "title": {
             "text": "Urban Level"
            },
            "x": -0.05
           },
           "colorscale": [
            [
             0,
             "rgb(247,251,255)"
            ],
            [
             0.125,
             "rgb(222,235,247)"
            ],
            [
             0.25,
             "rgb(198,219,239)"
            ],
            [
             0.375,
             "rgb(158,202,225)"
            ],
            [
             0.5,
             "rgb(107,174,214)"
            ],
            [
             0.625,
             "rgb(66,146,198)"
            ],
            [
             0.75,
             "rgb(33,113,181)"
            ],
            [
             0.875,
             "rgb(8,81,156)"
            ],
            [
             1,
             "rgb(8,48,107)"
            ]
           ],
           "locationmode": "ISO-3",
           "locations": [
            "AGO",
            "BDI",
            "BEN",
            "BFA",
            "BWA",
            "CAF",
            "CIV",
            "CMR",
            "COD",
            "COG",
            "COM",
            "CPV",
            "DJI",
            "DZA",
            "EGY",
            "ERI",
            "ETH",
            "GAB",
            "GHA",
            "GIN",
            "GMB",
            "GNB",
            "GNQ",
            "KEN",
            "LBR",
            "LBY",
            "LSO",
            "MAR",
            "MDG",
            "MLI",
            "MOZ",
            "MRT",
            "MUS",
            "MWI",
            "NAM",
            "NER",
            "NGA",
            "RWA",
            "SDN",
            "SEN",
            "SLE",
            "SOM",
            "SSD",
            "STP",
            "SWZ",
            "SYC",
            "TCD",
            "TGO",
            "TUN",
            "TZA",
            "UGA",
            "ZAF",
            "ZMB",
            "ZWE"
           ],
           "text": [
            "Angola",
            "Burundi",
            "Benin",
            "Burkina Faso",
            "Botswana",
            "Central African Republic",
            "Cote d`Ivoire",
            "Cameroon",
            "Democratic Republic of the Congo",
            "Republic of the Congo",
            "Comoros",
            "Cabo Verde",
            "Djibouti",
            "Algeria",
            "Egypt",
            "Eritrea",
            "Ethiopia",
            "Gabon",
            "Ghana",
            "Guinea",
            "The Gambia",
            "Guinea-Bissau",
            "Equatorial Guinea",
            "Kenya",
            "Liberia",
            "Libya",
            "Lesotho",
            "Morocco",
            "Madagascar",
            "Mali",
            "Mozambique",
            "Mauritania",
            "Mauritius",
            "Malawi",
            "Namibia",
            "Niger",
            "Nigeria",
            "Rwanda",
            "Sudan",
            "Senegal",
            "Sierra Leone",
            "Somalia",
            "South Sudan",
            "Sao Tome and Principe",
            "Kingdom of Eswatini",
            "Seychelles",
            "Chad",
            "Togo",
            "Tunisia",
            "Tanzania",
            "Uganda",
            "South Africa",
            "Zambia",
            "Zimbabwe"
           ],
           "type": "choropleth",
           "z": [
            0.263435658691016,
            0.0532155706826245,
            0.268084280606952,
            0.157428058250006,
            0.405754267210711,
            0.313603544341046,
            0.396016725571467,
            0.342706562055973,
            0.285884773352868,
            0.592013084243409,
            0.118759879425063,
            0.306106767095064,
            0.803912637165645,
            0.400701597261187,
            0.410330132032388,
            0.153984719547798,
            0.0778300330336072,
            0.546908405641479,
            0.256124014045097,
            0.251588749720327,
            0.290020836393509,
            0.221413372040508,
            0.257458979123279,
            0.119310485808667,
            0.315452363556994,
            0.623849112665456,
            0.0950540298374777,
            0.418772991956832,
            0.151883603143968,
            0.167756053811659,
            0.175545221373214,
            0.363345351000069,
            0.555451138492987,
            0.103961582220246,
            0.229221279932149,
            0.142046657457848,
            0.335787234042553,
            0.0384043164297259,
            0.297277498193695,
            0.407785170949255,
            0.235581974607682,
            0.174230972865652,
            0.0758130359272055,
            0.443646811687297,
            0.131228410781372,
            0.343205821559023,
            0.168496130655916,
            0.24706350491264,
            0.411696468375467,
            0.151816182653576,
            0.10142318826367,
            0.346294290377487,
            0.336831007367233,
            0.230208163990286
           ]
          },
          {
           "colorbar": {
            "title": {
             "text": "Metropolitan Pop."
            },
            "x": 1.05
           },
           "colorscale": [
            [
             0,
             "rgb(255,245,235)"
            ],
            [
             0.125,
             "rgb(254,230,206)"
            ],
            [
             0.25,
             "rgb(253,208,162)"
            ],
            [
             0.375,
             "rgb(253,174,107)"
            ],
            [
             0.5,
             "rgb(253,141,60)"
            ],
            [
             0.625,
             "rgb(241,105,19)"
            ],
            [
             0.75,
             "rgb(217,72,1)"
            ],
            [
             0.875,
             "rgb(166,54,3)"
            ],
            [
             1,
             "rgb(127,39,4)"
            ]
           ],
           "locationmode": "ISO-3",
           "locations": [
            "AGO",
            "BDI",
            "BEN",
            "BFA",
            "BWA",
            "CAF",
            "CIV",
            "CMR",
            "COD",
            "COG",
            "COM",
            "CPV",
            "DJI",
            "DZA",
            "EGY",
            "ERI",
            "ETH",
            "GAB",
            "GHA",
            "GIN",
            "GMB",
            "GNB",
            "GNQ",
            "KEN",
            "LBR",
            "LBY",
            "LSO",
            "MAR",
            "MDG",
            "MLI",
            "MOZ",
            "MRT",
            "MUS",
            "MWI",
            "NAM",
            "NER",
            "NGA",
            "RWA",
            "SDN",
            "SEN",
            "SLE",
            "SOM",
            "SSD",
            "STP",
            "SWZ",
            "SYC",
            "TCD",
            "TGO",
            "TUN",
            "TZA",
            "UGA",
            "ZAF",
            "ZMB",
            "ZWE"
           ],
           "text": [
            "Angola",
            "Burundi",
            "Benin",
            "Burkina Faso",
            "Botswana",
            "Central African Republic",
            "Cote d`Ivoire",
            "Cameroon",
            "Democratic Republic of the Congo",
            "Republic of the Congo",
            "Comoros",
            "Cabo Verde",
            "Djibouti",
            "Algeria",
            "Egypt",
            "Eritrea",
            "Ethiopia",
            "Gabon",
            "Ghana",
            "Guinea",
            "The Gambia",
            "Guinea-Bissau",
            "Equatorial Guinea",
            "Kenya",
            "Liberia",
            "Libya",
            "Lesotho",
            "Morocco",
            "Madagascar",
            "Mali",
            "Mozambique",
            "Mauritania",
            "Mauritius",
            "Malawi",
            "Namibia",
            "Niger",
            "Nigeria",
            "Rwanda",
            "Sudan",
            "Senegal",
            "Sierra Leone",
            "Somalia",
            "South Sudan",
            "Sao Tome and Principe",
            "Kingdom of Eswatini",
            "Seychelles",
            "Chad",
            "Togo",
            "Tunisia",
            "Tanzania",
            "Uganda",
            "South Africa",
            "Zambia",
            "Zimbabwe"
           ],
           "type": "choropleth",
           "z": [
            0.472249427090527,
            0.835904409232144,
            0.610343184553425,
            0.600901611146107,
            0.258900668996918,
            0.508992230230188,
            0.461245858010171,
            0.456688759032169,
            0.413569204892455,
            0.817532861104756,
            0.557322499515269,
            0.999999999999081,
            0.999999999999634,
            0.182966063607708,
            0.465633474819655,
            0.725897539330229,
            0.47844906214271,
            0.691789166557346,
            0.512857259971159,
            0.54979627082628,
            0.774340831669803,
            0.867287449776401,
            0.99999999999891,
            0.706289227470326,
            0.699757434429958,
            0.437319904713972,
            0.697132098225668,
            0.352427260674363,
            0.383585481220211,
            0.54210901362032,
            0.441386123578284,
            0.585598377566745,
            0.771857637202704,
            0.738688551071934,
            0.442641178743033,
            0.395795671328855,
            0.170395969407501,
            0.864072143791629,
            0.399799218625502,
            0.536518292464281,
            0.593596425747869,
            0.62664331865848,
            0.244658795610077,
            0.999999999998043,
            0.999999999999039,
            0.999999999995875,
            0.473265967344806,
            0.55800941176464,
            0.364047050389742,
            0.329915567075289,
            0.523662444455359,
            0.500416414581248,
            0.309367731786629,
            0.688545086289207
           ]
          }
         ],
         "name": "1990"
        },
        {
         "data": [
          {
           "colorbar": {
            "title": {
             "text": "Urban Level"
            },
            "x": -0.05
           },
           "colorscale": [
            [
             0,
             "rgb(247,251,255)"
            ],
            [
             0.125,
             "rgb(222,235,247)"
            ],
            [
             0.25,
             "rgb(198,219,239)"
            ],
            [
             0.375,
             "rgb(158,202,225)"
            ],
            [
             0.5,
             "rgb(107,174,214)"
            ],
            [
             0.625,
             "rgb(66,146,198)"
            ],
            [
             0.75,
             "rgb(33,113,181)"
            ],
            [
             0.875,
             "rgb(8,81,156)"
            ],
            [
             1,
             "rgb(8,48,107)"
            ]
           ],
           "locationmode": "ISO-3",
           "locations": [
            "AGO",
            "BDI",
            "BEN",
            "BFA",
            "BWA",
            "CAF",
            "CIV",
            "CMR",
            "COD",
            "COG",
            "COM",
            "CPV",
            "DJI",
            "DZA",
            "EGY",
            "ERI",
            "ETH",
            "GAB",
            "GHA",
            "GIN",
            "GMB",
            "GNB",
            "GNQ",
            "KEN",
            "LBR",
            "LBY",
            "LSO",
            "MAR",
            "MDG",
            "MLI",
            "MOZ",
            "MRT",
            "MUS",
            "MWI",
            "NAM",
            "NER",
            "NGA",
            "RWA",
            "SDN",
            "SEN",
            "SLE",
            "SOM",
            "SSD",
            "STP",
            "SWZ",
            "SYC",
            "TCD",
            "TGO",
            "TUN",
            "TZA",
            "UGA",
            "ZAF",
            "ZMB",
            "ZWE"
           ],
           "text": [
            "Angola",
            "Burundi",
            "Benin",
            "Burkina Faso",
            "Botswana",
            "Central African Republic",
            "Cote d`Ivoire",
            "Cameroon",
            "Democratic Republic of the Congo",
            "Republic of the Congo",
            "Comoros",
            "Cabo Verde",
            "Djibouti",
            "Algeria",
            "Egypt",
            "Eritrea",
            "Ethiopia",
            "Gabon",
            "Ghana",
            "Guinea",
            "The Gambia",
            "Guinea-Bissau",
            "Equatorial Guinea",
            "Kenya",
            "Liberia",
            "Libya",
            "Lesotho",
            "Morocco",
            "Madagascar",
            "Mali",
            "Mozambique",
            "Mauritania",
            "Mauritius",
            "Malawi",
            "Namibia",
            "Niger",
            "Nigeria",
            "Rwanda",
            "Sudan",
            "Senegal",
            "Sierra Leone",
            "Somalia",
            "South Sudan",
            "Sao Tome and Principe",
            "Kingdom of Eswatini",
            "Seychelles",
            "Chad",
            "Togo",
            "Tunisia",
            "Tanzania",
            "Uganda",
            "South Africa",
            "Zambia",
            "Zimbabwe"
           ],
           "type": "choropleth",
           "z": [
            0.30161226871772,
            0.067342035810857,
            0.309124497104991,
            0.212194490380618,
            0.488416625348356,
            0.33407426929636,
            0.440593087673374,
            0.384383649799129,
            0.286682928166539,
            0.633173116609896,
            0.25601072691959,
            0.390504401902431,
            0.821357052651928,
            0.471403024062917,
            0.417693322114937,
            0.263160339986815,
            0.099670523516184,
            0.644595870171019,
            0.338961616146036,
            0.310018994005567,
            0.383819543913523,
            0.277800039734787,
            0.398094613019017,
            0.194317577944278,
            0.350711785895666,
            0.687326684896553,
            0.165717172884941,
            0.466858709827061,
            0.196556557710332,
            0.218696579075833,
            0.276585291614414,
            0.333353666972469,
            0.641025815032981,
            0.137687403833945,
            0.28264571443966,
            0.157896255782481,
            0.374921487921548,
            0.2107817314653,
            0.360704361003635,
            0.409116111971219,
            0.280248781300499,
            0.230648888888889,
            0.106542118557487,
            0.46196502938831,
            0.255216641133568,
            0.737770092891761,
            0.189718200259874,
            0.274490664921197,
            0.467265454640713,
            0.274081501476763,
            0.139922997045986,
            0.478237541848697,
            0.337808638089389,
            0.268903796551043
           ]
          },
          {
           "colorbar": {
            "title": {
             "text": "Metropolitan Pop."
            },
            "x": 1.05
           },
           "colorscale": [
            [
             0,
             "rgb(255,245,235)"
            ],
            [
             0.125,
             "rgb(254,230,206)"
            ],
            [
             0.25,
             "rgb(253,208,162)"
            ],
            [
             0.375,
             "rgb(253,174,107)"
            ],
            [
             0.5,
             "rgb(253,141,60)"
            ],
            [
             0.625,
             "rgb(241,105,19)"
            ],
            [
             0.75,
             "rgb(217,72,1)"
            ],
            [
             0.875,
             "rgb(166,54,3)"
            ],
            [
             1,
             "rgb(127,39,4)"
            ]
           ],
           "locationmode": "ISO-3",
           "locations": [
            "AGO",
            "BDI",
            "BEN",
            "BFA",
            "BWA",
            "CAF",
            "CIV",
            "CMR",
            "COD",
            "COG",
            "COM",
            "CPV",
            "DJI",
            "DZA",
            "EGY",
            "ERI",
            "ETH",
            "GAB",
            "GHA",
            "GIN",
            "GMB",
            "GNB",
            "GNQ",
            "KEN",
            "LBR",
            "LBY",
            "LSO",
            "MAR",
            "MDG",
            "MLI",
            "MOZ",
            "MRT",
            "MUS",
            "MWI",
            "NAM",
            "NER",
            "NGA",
            "RWA",
            "SDN",
            "SEN",
            "SLE",
            "SOM",
            "SSD",
            "STP",
            "SWZ",
            "SYC",
            "TCD",
            "TGO",
            "TUN",
            "TZA",
            "UGA",
            "ZAF",
            "ZMB",
            "ZWE"
           ],
           "text": [
            "Angola",
            "Burundi",
            "Benin",
            "Burkina Faso",
            "Botswana",
            "Central African Republic",
            "Cote d`Ivoire",
            "Cameroon",
            "Democratic Republic of the Congo",
            "Republic of the Congo",
            "Comoros",
            "Cabo Verde",
            "Djibouti",
            "Algeria",
            "Egypt",
            "Eritrea",
            "Ethiopia",
            "Gabon",
            "Ghana",
            "Guinea",
            "The Gambia",
            "Guinea-Bissau",
            "Equatorial Guinea",
            "Kenya",
            "Liberia",
            "Libya",
            "Lesotho",
            "Morocco",
            "Madagascar",
            "Mali",
            "Mozambique",
            "Mauritania",
            "Mauritius",
            "Malawi",
            "Namibia",
            "Niger",
            "Nigeria",
            "Rwanda",
            "Sudan",
            "Senegal",
            "Sierra Leone",
            "Somalia",
            "South Sudan",
            "Sao Tome and Principe",
            "Kingdom of Eswatini",
            "Seychelles",
            "Chad",
            "Togo",
            "Tunisia",
            "Tanzania",
            "Uganda",
            "South Africa",
            "Zambia",
            "Zimbabwe"
           ],
           "type": "choropleth",
           "z": [
            0.460113978215663,
            0.794500101362991,
            0.583246800819784,
            0.561103022011456,
            0.261663057773922,
            0.515797326168304,
            0.442453181531457,
            0.498624546098483,
            0.390258185216974,
            0.833041201576233,
            0.340979092444367,
            0.937778275106046,
            0.999999999999744,
            0.152611279152624,
            0.446248549522788,
            0.544181156987581,
            0.389354651669903,
            0.617706279650205,
            0.540795812239768,
            0.515570411904227,
            0.817761265233376,
            0.90553104317653,
            0.999999999999717,
            0.65043117860127,
            0.733974303500169,
            0.445417803520584,
            0.708135779342191,
            0.314782911806483,
            0.472908746852607,
            0.530910756841838,
            0.32317191643108,
            0.667614315922341,
            0.736733662223724,
            0.693745553282252,
            0.440726700834518,
            0.390934832462899,
            0.173484549353284,
            0.475272382159038,
            0.390636083939993,
            0.506135078477318,
            0.570848668835818,
            0.606858910127919,
            0.218272379645035,
            0.999999999998402,
            0.786898584482039,
            0.999999999998289,
            0.447848930833886,
            0.541696380404406,
            0.356278285401673,
            0.24724476336129,
            0.470804626798433,
            0.420737339797804,
            0.339394026607561,
            0.675206385546685
           ]
          }
         ],
         "name": "2000"
        },
        {
         "data": [
          {
           "colorbar": {
            "title": {
             "text": "Urban Level"
            },
            "x": -0.05
           },
           "colorscale": [
            [
             0,
             "rgb(247,251,255)"
            ],
            [
             0.125,
             "rgb(222,235,247)"
            ],
            [
             0.25,
             "rgb(198,219,239)"
            ],
            [
             0.375,
             "rgb(158,202,225)"
            ],
            [
             0.5,
             "rgb(107,174,214)"
            ],
            [
             0.625,
             "rgb(66,146,198)"
            ],
            [
             0.75,
             "rgb(33,113,181)"
            ],
            [
             0.875,
             "rgb(8,81,156)"
            ],
            [
             1,
             "rgb(8,48,107)"
            ]
           ],
           "locationmode": "ISO-3",
           "locations": [
            "AGO",
            "BDI",
            "BEN",
            "BFA",
            "BWA",
            "CAF",
            "CIV",
            "CMR",
            "COD",
            "COG",
            "COM",
            "CPV",
            "DJI",
            "DZA",
            "EGY",
            "ERI",
            "ETH",
            "GAB",
            "GHA",
            "GIN",
            "GMB",
            "GNB",
            "GNQ",
            "KEN",
            "LBR",
            "LBY",
            "LSO",
            "MAR",
            "MDG",
            "MLI",
            "MOZ",
            "MRT",
            "MUS",
            "MWI",
            "NAM",
            "NER",
            "NGA",
            "RWA",
            "SDN",
            "SEN",
            "SLE",
            "SOM",
            "SSD",
            "STP",
            "SWZ",
            "SYC",
            "TCD",
            "TGO",
            "TUN",
            "TZA",
            "UGA",
            "ZAF",
            "ZMB",
            "ZWE"
           ],
           "text": [
            "Angola",
            "Burundi",
            "Benin",
            "Burkina Faso",
            "Botswana",
            "Central African Republic",
            "Cote d`Ivoire",
            "Cameroon",
            "Democratic Republic of the Congo",
            "Republic of the Congo",
            "Comoros",
            "Cabo Verde",
            "Djibouti",
            "Algeria",
            "Egypt",
            "Eritrea",
            "Ethiopia",
            "Gabon",
            "Ghana",
            "Guinea",
            "The Gambia",
            "Guinea-Bissau",
            "Equatorial Guinea",
            "Kenya",
            "Liberia",
            "Libya",
            "Lesotho",
            "Morocco",
            "Madagascar",
            "Mali",
            "Mozambique",
            "Mauritania",
            "Mauritius",
            "Malawi",
            "Namibia",
            "Niger",
            "Nigeria",
            "Rwanda",
            "Sudan",
            "Senegal",
            "Sierra Leone",
            "Somalia",
            "South Sudan",
            "Sao Tome and Principe",
            "Kingdom of Eswatini",
            "Seychelles",
            "Chad",
            "Togo",
            "Tunisia",
            "Tanzania",
            "Uganda",
            "South Africa",
            "Zambia",
            "Zimbabwe"
           ],
           "type": "choropleth",
           "z": [
            0.498765518974519,
            0.178885193643177,
            0.36388979447024,
            0.247787592886731,
            0.527351560691208,
            0.353180331471542,
            0.466958293600341,
            0.509383240535988,
            0.341933968,
            0.643226041193275,
            0.25209015472795,
            0.466760864040661,
            0.705207789629126,
            0.549281394185336,
            0.496298643597885,
            0.232456584735724,
            0.136505602266681,
            0.720913910453516,
            0.474847844634395,
            0.339756858164874,
            0.43717230692443,
            0.310130058518091,
            0.387328862627645,
            0.293032146480863,
            0.379139983862397,
            0.74185382838605,
            0.238910015019437,
            0.508109911736435,
            0.213475286427638,
            0.281186510459186,
            0.297296285839681,
            0.4061177744931,
            0.713837777537816,
            0.228936130767015,
            0.356026346787182,
            0.15928540596613,
            0.443645543175487,
            0.515861305385323,
            0.399763903689836,
            0.464520448304598,
            0.309154518205933,
            0.315877590395746,
            0.204200567091482,
            0.632634391100834,
            0.275815002202903,
            0.724258586133098,
            0.245893408671775,
            0.410365827820074,
            0.511617270320886,
            0.334598441901546,
            0.173466643121146,
            0.640543521937143,
            0.404945829182797,
            0.28250679234451
           ]
          },
          {
           "colorbar": {
            "title": {
             "text": "Metropolitan Pop."
            },
            "x": 1.05
           },
           "colorscale": [
            [
             0,
             "rgb(255,245,235)"
            ],
            [
             0.125,
             "rgb(254,230,206)"
            ],
            [
             0.25,
             "rgb(253,208,162)"
            ],
            [
             0.375,
             "rgb(253,174,107)"
            ],
            [
             0.5,
             "rgb(253,141,60)"
            ],
            [
             0.625,
             "rgb(241,105,19)"
            ],
            [
             0.75,
             "rgb(217,72,1)"
            ],
            [
             0.875,
             "rgb(166,54,3)"
            ],
            [
             1,
             "rgb(127,39,4)"
            ]
           ],
           "locationmode": "ISO-3",
           "locations": [
            "AGO",
            "BDI",
            "BEN",
            "BFA",
            "BWA",
            "CAF",
            "CIV",
            "CMR",
            "COD",
            "COG",
            "COM",
            "CPV",
            "DJI",
            "DZA",
            "EGY",
            "ERI",
            "ETH",
            "GAB",
            "GHA",
            "GIN",
            "GMB",
            "GNB",
            "GNQ",
            "KEN",
            "LBR",
            "LBY",
            "LSO",
            "MAR",
            "MDG",
            "MLI",
            "MOZ",
            "MRT",
            "MUS",
            "MWI",
            "NAM",
            "NER",
            "NGA",
            "RWA",
            "SDN",
            "SEN",
            "SLE",
            "SOM",
            "SSD",
            "STP",
            "SWZ",
            "SYC",
            "TCD",
            "TGO",
            "TUN",
            "TZA",
            "UGA",
            "ZAF",
            "ZMB",
            "ZWE"
           ],
           "text": [
            "Angola",
            "Burundi",
            "Benin",
            "Burkina Faso",
            "Botswana",
            "Central African Republic",
            "Cote d`Ivoire",
            "Cameroon",
            "Democratic Republic of the Congo",
            "Republic of the Congo",
            "Comoros",
            "Cabo Verde",
            "Djibouti",
            "Algeria",
            "Egypt",
            "Eritrea",
            "Ethiopia",
            "Gabon",
            "Ghana",
            "Guinea",
            "The Gambia",
            "Guinea-Bissau",
            "Equatorial Guinea",
            "Kenya",
            "Liberia",
            "Libya",
            "Lesotho",
            "Morocco",
            "Madagascar",
            "Mali",
            "Mozambique",
            "Mauritania",
            "Mauritius",
            "Malawi",
            "Namibia",
            "Niger",
            "Nigeria",
            "Rwanda",
            "Sudan",
            "Senegal",
            "Sierra Leone",
            "Somalia",
            "South Sudan",
            "Sao Tome and Principe",
            "Kingdom of Eswatini",
            "Seychelles",
            "Chad",
            "Togo",
            "Tunisia",
            "Tanzania",
            "Uganda",
            "South Africa",
            "Zambia",
            "Zimbabwe"
           ],
           "type": "choropleth",
           "z": [
            0.501512783063225,
            0.58365521528189,
            0.475356938275286,
            0.580119355715354,
            0.286892645703235,
            0.527584441913064,
            0.427215738693237,
            0.45244453251491,
            0.337769542685503,
            0.815075931307608,
            0.439199844461969,
            0.871887903548586,
            0.822451178246679,
            0.154764339684261,
            0.40909267437712,
            0.471907371743156,
            0.267544332863525,
            0.592905756622216,
            0.544164614059407,
            0.530276868994495,
            0.842597718453386,
            0.821920225533522,
            0.975387191860061,
            0.465263925077419,
            0.69827246723455,
            0.480627102701185,
            0.577736717487868,
            0.310131903998911,
            0.475240881549494,
            0.514555863747562,
            0.30475801795674,
            0.638827669944784,
            0.707690575385574,
            0.505562221970697,
            0.424206331522379,
            0.365301765382975,
            0.167590718742467,
            0.398032303041225,
            0.354425495894098,
            0.459215863397962,
            0.573316907305765,
            0.565119920632201,
            0.157905649951213,
            0.800566009279003,
            0.810141780292466,
            0.999999999998436,
            0.347881529935609,
            0.558297417659724,
            0.349167465007321,
            0.277951641660616,
            0.447246142903675,
            0.409663897604819,
            0.365404857613729,
            0.614099143691032
           ]
          }
         ],
         "name": "2010"
        },
        {
         "data": [
          {
           "colorbar": {
            "title": {
             "text": "Urban Level"
            },
            "x": -0.05
           },
           "colorscale": [
            [
             0,
             "rgb(247,251,255)"
            ],
            [
             0.125,
             "rgb(222,235,247)"
            ],
            [
             0.25,
             "rgb(198,219,239)"
            ],
            [
             0.375,
             "rgb(158,202,225)"
            ],
            [
             0.5,
             "rgb(107,174,214)"
            ],
            [
             0.625,
             "rgb(66,146,198)"
            ],
            [
             0.75,
             "rgb(33,113,181)"
            ],
            [
             0.875,
             "rgb(8,81,156)"
            ],
            [
             1,
             "rgb(8,48,107)"
            ]
           ],
           "locationmode": "ISO-3",
           "locations": [
            "AGO",
            "BDI",
            "BEN",
            "BFA",
            "BWA",
            "CAF",
            "CIV",
            "CMR",
            "COD",
            "COG",
            "COM",
            "CPV",
            "DJI",
            "DZA",
            "EGY",
            "ERI",
            "ETH",
            "GAB",
            "GHA",
            "GIN",
            "GMB",
            "GNB",
            "GNQ",
            "KEN",
            "LBR",
            "LBY",
            "LSO",
            "MAR",
            "MDG",
            "MLI",
            "MOZ",
            "MRT",
            "MUS",
            "MWI",
            "NAM",
            "NER",
            "NGA",
            "RWA",
            "SDN",
            "SEN",
            "SLE",
            "SOM",
            "SSD",
            "STP",
            "SWZ",
            "SYC",
            "TCD",
            "TGO",
            "TUN",
            "TZA",
            "UGA",
            "ZAF",
            "ZMB",
            "ZWE"
           ],
           "text": [
            "Angola",
            "Burundi",
            "Benin",
            "Burkina Faso",
            "Botswana",
            "Central African Republic",
            "Cote d`Ivoire",
            "Cameroon",
            "Democratic Republic of the Congo",
            "Republic of the Congo",
            "Comoros",
            "Cabo Verde",
            "Djibouti",
            "Algeria",
            "Egypt",
            "Eritrea",
            "Ethiopia",
            "Gabon",
            "Ghana",
            "Guinea",
            "The Gambia",
            "Guinea-Bissau",
            "Equatorial Guinea",
            "Kenya",
            "Liberia",
            "Libya",
            "Lesotho",
            "Morocco",
            "Madagascar",
            "Mali",
            "Mozambique",
            "Mauritania",
            "Mauritius",
            "Malawi",
            "Namibia",
            "Niger",
            "Nigeria",
            "Rwanda",
            "Sudan",
            "Senegal",
            "Sierra Leone",
            "Somalia",
            "South Sudan",
            "Sao Tome and Principe",
            "Kingdom of Eswatini",
            "Seychelles",
            "Chad",
            "Togo",
            "Tunisia",
            "Tanzania",
            "Uganda",
            "South Africa",
            "Zambia",
            "Zimbabwe"
           ],
           "type": "choropleth",
           "z": [
            0.633101566029755,
            0.18369896134175,
            0.438010234553003,
            0.275629096977024,
            0.532285960674838,
            0.358565890108564,
            0.480565450643777,
            0.564208400047846,
            0.436016057041799,
            0.644758607654292,
            0.47825345752322,
            0.502851383201895,
            0.720504184100418,
            0.611265270375097,
            0.667245906553751,
            0.244498658964308,
            0.251902573880415,
            0.806949548374722,
            0.492277206073079,
            0.370252892823147,
            0.452753576210971,
            0.343293674463638,
            0.49654707544407,
            0.403635340665106,
            0.419326896193016,
            0.74185382838605,
            0.25471023575321,
            0.567501519012736,
            0.216073664534512,
            0.311882898941254,
            0.305258799595731,
            0.424641859664961,
            0.739648583682149,
            0.241527077646276,
            0.39717963800905,
            0.172901656534526,
            0.505635445207495,
            0.5491965612375,
            0.416707922196009,
            0.490773449282978,
            0.361285557632824,
            0.358248520710059,
            0.217879496963105,
            0.804276381909548,
            0.278532530651799,
            0.725987218874105,
            0.280541363169385,
            0.48406832479883,
            0.564473935678192,
            0.367658972449281,
            0.381045420632232,
            0.675484764309758,
            0.443014088147861,
            0.330413113392137
           ]
          },
          {
           "colorbar": {
            "title": {
             "text": "Metropolitan Pop."
            },
            "x": 1.05
           },
           "colorscale": [
            [
             0,
             "rgb(255,245,235)"
            ],
            [
             0.125,
             "rgb(254,230,206)"
            ],
            [
             0.25,
             "rgb(253,208,162)"
            ],
            [
             0.375,
             "rgb(253,174,107)"
            ],
            [
             0.5,
             "rgb(253,141,60)"
            ],
            [
             0.625,
             "rgb(241,105,19)"
            ],
            [
             0.75,
             "rgb(217,72,1)"
            ],
            [
             0.875,
             "rgb(166,54,3)"
            ],
            [
             1,
             "rgb(127,39,4)"
            ]
           ],
           "locationmode": "ISO-3",
           "locations": [
            "AGO",
            "BDI",
            "BEN",
            "BFA",
            "BWA",
            "CAF",
            "CIV",
            "CMR",
            "COD",
            "COG",
            "COM",
            "CPV",
            "DJI",
            "DZA",
            "EGY",
            "ERI",
            "ETH",
            "GAB",
            "GHA",
            "GIN",
            "GMB",
            "GNB",
            "GNQ",
            "KEN",
            "LBR",
            "LBY",
            "LSO",
            "MAR",
            "MDG",
            "MLI",
            "MOZ",
            "MRT",
            "MUS",
            "MWI",
            "NAM",
            "NER",
            "NGA",
            "RWA",
            "SDN",
            "SEN",
            "SLE",
            "SOM",
            "SSD",
            "STP",
            "SWZ",
            "SYC",
            "TCD",
            "TGO",
            "TUN",
            "TZA",
            "UGA",
            "ZAF",
            "ZMB",
            "ZWE"
           ],
           "text": [
            "Angola",
            "Burundi",
            "Benin",
            "Burkina Faso",
            "Botswana",
            "Central African Republic",
            "Cote d`Ivoire",
            "Cameroon",
            "Democratic Republic of the Congo",
            "Republic of the Congo",
            "Comoros",
            "Cabo Verde",
            "Djibouti",
            "Algeria",
            "Egypt",
            "Eritrea",
            "Ethiopia",
            "Gabon",
            "Ghana",
            "Guinea",
            "The Gambia",
            "Guinea-Bissau",
            "Equatorial Guinea",
            "Kenya",
            "Liberia",
            "Libya",
            "Lesotho",
            "Morocco",
            "Madagascar",
            "Mali",
            "Mozambique",
            "Mauritania",
            "Mauritius",
            "Malawi",
            "Namibia",
            "Niger",
            "Nigeria",
            "Rwanda",
            "Sudan",
            "Senegal",
            "Sierra Leone",
            "Somalia",
            "South Sudan",
            "Sao Tome and Principe",
            "Kingdom of Eswatini",
            "Seychelles",
            "Chad",
            "Togo",
            "Tunisia",
            "Tanzania",
            "Uganda",
            "South Africa",
            "Zambia",
            "Zimbabwe"
           ],
           "type": "choropleth",
           "z": [
            0.44107918873207,
            0.578428118386759,
            0.44595133312391,
            0.583396732627484,
            0.288065536257619,
            0.530592794825321,
            0.421297961316132,
            0.516962113643005,
            0.30089105213685,
            0.805271786693286,
            0.3206072238701,
            0.847313319161676,
            0.806331863147783,
            0.15908805282988,
            0.380282132215095,
            0.392680693789864,
            0.163560381608028,
            0.58803337768461,
            0.537797343047271,
            0.540718838398198,
            0.860848849654906,
            0.781451609833558,
            0.936408566721427,
            0.400309148408346,
            0.701922300322612,
            0.480627102701185,
            0.602883370624389,
            0.315047462845912,
            0.46953075412101,
            0.500542155905532,
            0.316764769207511,
            0.619232724808186,
            0.664374804579513,
            0.504569974933873,
            0.407005503738417,
            0.328743322234907,
            0.146487035076578,
            0.353389894700078,
            0.328712283518624,
            0.441953654782684,
            0.568476956832921,
            0.532681465820989,
            0.141150360643605,
            0.84189414624036,
            0.81777390459754,
            0.999999999998526,
            0.315525535172653,
            0.523885127487171,
            0.38915984436174,
            0.296926589449131,
            0.279845042270995,
            0.408118367023617,
            0.353992443692374,
            0.637440824131802
           ]
          }
         ],
         "name": "2015"
        },
        {
         "data": [
          {
           "colorbar": {
            "title": {
             "text": "Urban Level"
            },
            "x": -0.05
           },
           "colorscale": [
            [
             0,
             "rgb(247,251,255)"
            ],
            [
             0.125,
             "rgb(222,235,247)"
            ],
            [
             0.25,
             "rgb(198,219,239)"
            ],
            [
             0.375,
             "rgb(158,202,225)"
            ],
            [
             0.5,
             "rgb(107,174,214)"
            ],
            [
             0.625,
             "rgb(66,146,198)"
            ],
            [
             0.75,
             "rgb(33,113,181)"
            ],
            [
             0.875,
             "rgb(8,81,156)"
            ],
            [
             1,
             "rgb(8,48,107)"
            ]
           ],
           "locationmode": "ISO-3",
           "locations": [
            "AGO",
            "BDI",
            "BEN",
            "BFA",
            "BWA",
            "CAF",
            "CIV",
            "CMR",
            "COD",
            "COG",
            "COM",
            "CPV",
            "DJI",
            "DZA",
            "EGY",
            "ERI",
            "ETH",
            "GAB",
            "GHA",
            "GIN",
            "GMB",
            "GNB",
            "GNQ",
            "KEN",
            "LBR",
            "LBY",
            "LSO",
            "MAR",
            "MDG",
            "MLI",
            "MOZ",
            "MRT",
            "MUS",
            "MWI",
            "NAM",
            "NER",
            "NGA",
            "RWA",
            "SDN",
            "SEN",
            "SLE",
            "SOM",
            "SSD",
            "STP",
            "SWZ",
            "SYC",
            "TCD",
            "TGO",
            "TUN",
            "TZA",
            "UGA",
            "ZAF",
            "ZMB",
            "ZWE"
           ],
           "text": [
            "Angola",
            "Burundi",
            "Benin",
            "Burkina Faso",
            "Botswana",
            "Central African Republic",
            "Cote d`Ivoire",
            "Cameroon",
            "Democratic Republic of the Congo",
            "Republic of the Congo",
            "Comoros",
            "Cabo Verde",
            "Djibouti",
            "Algeria",
            "Egypt",
            "Eritrea",
            "Ethiopia",
            "Gabon",
            "Ghana",
            "Guinea",
            "The Gambia",
            "Guinea-Bissau",
            "Equatorial Guinea",
            "Kenya",
            "Liberia",
            "Libya",
            "Lesotho",
            "Morocco",
            "Madagascar",
            "Mali",
            "Mozambique",
            "Mauritania",
            "Mauritius",
            "Malawi",
            "Namibia",
            "Niger",
            "Nigeria",
            "Rwanda",
            "Sudan",
            "Senegal",
            "Sierra Leone",
            "Somalia",
            "South Sudan",
            "Sao Tome and Principe",
            "Kingdom of Eswatini",
            "Seychelles",
            "Chad",
            "Togo",
            "Tunisia",
            "Tanzania",
            "Uganda",
            "South Africa",
            "Zambia",
            "Zimbabwe"
           ],
           "type": "choropleth",
           "z": [
            0.628856018250755,
            0.77867051681983,
            0.581129413212586,
            0.319052508057146,
            0.572393169877408,
            0.4546803003003,
            0.527116761638533,
            0.596365170474113,
            0.465506904692854,
            0.709738574040219,
            0.603663774515723,
            0.563369834710744,
            0.688913888888889,
            0.699826706516422,
            0.980103893115984,
            0.395723357621629,
            0.293912152719271,
            0.765375194093798,
            0.541148889585326,
            0.397641643909383,
            0.477620008972634,
            0.380499370426189,
            0.522243644800194,
            0.805144985483971,
            0.443031257235288,
            0.798626885009378,
            0.422837742711875,
            0.682257580608779,
            0.225025196797561,
            0.342838028300464,
            0.386615159891392,
            0.42719446153052,
            0.858916530278232,
            0.357350677506775,
            0.444492614770459,
            0.179807553598113,
            0.583779179708607,
            0.659216329354099,
            0.465172794556735,
            0.533046453157737,
            0.453855421686747,
            0.393371744386874,
            0.453023025660171,
            0.735571428571429,
            0.385858378643019,
            0.781357142857143,
            0.319072810743109,
            0.608107152145644,
            0.7076270677333,
            0.372712925052047,
            0.489730079597922,
            0.731158175471419,
            0.449335199440168,
            0.386360828241684
           ]
          },
          {
           "colorbar": {
            "title": {
             "text": "Metropolitan Pop."
            },
            "x": 1.05
           },
           "colorscale": [
            [
             0,
             "rgb(255,245,235)"
            ],
            [
             0.125,
             "rgb(254,230,206)"
            ],
            [
             0.25,
             "rgb(253,208,162)"
            ],
            [
             0.375,
             "rgb(253,174,107)"
            ],
            [
             0.5,
             "rgb(253,141,60)"
            ],
            [
             0.625,
             "rgb(241,105,19)"
            ],
            [
             0.75,
             "rgb(217,72,1)"
            ],
            [
             0.875,
             "rgb(166,54,3)"
            ],
            [
             1,
             "rgb(127,39,4)"
            ]
           ],
           "locationmode": "ISO-3",
           "locations": [
            "AGO",
            "BDI",
            "BEN",
            "BFA",
            "BWA",
            "CAF",
            "CIV",
            "CMR",
            "COD",
            "COG",
            "COM",
            "CPV",
            "DJI",
            "DZA",
            "EGY",
            "ERI",
            "ETH",
            "GAB",
            "GHA",
            "GIN",
            "GMB",
            "GNB",
            "GNQ",
            "KEN",
            "LBR",
            "LBY",
            "LSO",
            "MAR",
            "MDG",
            "MLI",
            "MOZ",
            "MRT",
            "MUS",
            "MWI",
            "NAM",
            "NER",
            "NGA",
            "RWA",
            "SDN",
            "SEN",
            "SLE",
            "SOM",
            "SSD",
            "STP",
            "SWZ",
            "SYC",
            "TCD",
            "TGO",
            "TUN",
            "TZA",
            "UGA",
            "ZAF",
            "ZMB",
            "ZWE"
           ],
           "text": [
            "Angola",
            "Burundi",
            "Benin",
            "Burkina Faso",
            "Botswana",
            "Central African Republic",
            "Cote d`Ivoire",
            "Cameroon",
            "Democratic Republic of the Congo",
            "Republic of the Congo",
            "Comoros",
            "Cabo Verde",
            "Djibouti",
            "Algeria",
            "Egypt",
            "Eritrea",
            "Ethiopia",
            "Gabon",
            "Ghana",
            "Guinea",
            "The Gambia",
            "Guinea-Bissau",
            "Equatorial Guinea",
            "Kenya",
            "Liberia",
            "Libya",
            "Lesotho",
            "Morocco",
            "Madagascar",
            "Mali",
            "Mozambique",
            "Mauritania",
            "Mauritius",
            "Malawi",
            "Namibia",
            "Niger",
            "Nigeria",
            "Rwanda",
            "Sudan",
            "Senegal",
            "Sierra Leone",
            "Somalia",
            "South Sudan",
            "Sao Tome and Principe",
            "Kingdom of Eswatini",
            "Seychelles",
            "Chad",
            "Togo",
            "Tunisia",
            "Tanzania",
            "Uganda",
            "South Africa",
            "Zambia",
            "Zimbabwe"
           ],
           "type": "choropleth",
           "z": [
            0.424602262389174,
            0.206335426309609,
            0.400388526176001,
            0.567419020438591,
            0.288987766054259,
            0.509713652875836,
            0.39958501887968,
            0.518132687011729,
            0.297658690669307,
            0.795922488647085,
            0.294401487399528,
            0.764125997997307,
            0.771115833161865,
            0.155266966241769,
            0.383135667074252,
            0.343564647100882,
            0.144127200769727,
            0.585175845031157,
            0.486902148361935,
            0.51683742983007,
            0.85343527942018,
            0.721975315896071,
            0.934079432236804,
            0.230784160525782,
            0.708492267402831,
            0.419845746855346,
            0.473247039991116,
            0.278889537134267,
            0.459619587118125,
            0.509041798386685,
            0.219418685722441,
            0.627114411705297,
            0.60505565951084,
            0.351372946344063,
            0.418665701501776,
            0.287721457099946,
            0.142297298374387,
            0.359825884913414,
            0.357396967577426,
            0.435345516405613,
            0.585198949945415,
            0.50461990538905,
            0.187339147896125,
            0.806739172654362,
            0.637083136941146,
            0.999999999998694,
            0.307373624916399,
            0.578592592846023,
            0.371170682327064,
            0.260743233785809,
            0.233126344529476,
            0.381703836966197,
            0.330112012267436,
            0.574409845556952
           ]
          }
         ],
         "name": "2020"
        },
        {
         "data": [
          {
           "colorbar": {
            "title": {
             "text": "Urban Level"
            },
            "x": -0.05
           },
           "colorscale": [
            [
             0,
             "rgb(247,251,255)"
            ],
            [
             0.125,
             "rgb(222,235,247)"
            ],
            [
             0.25,
             "rgb(198,219,239)"
            ],
            [
             0.375,
             "rgb(158,202,225)"
            ],
            [
             0.5,
             "rgb(107,174,214)"
            ],
            [
             0.625,
             "rgb(66,146,198)"
            ],
            [
             0.75,
             "rgb(33,113,181)"
            ],
            [
             0.875,
             "rgb(8,81,156)"
            ],
            [
             1,
             "rgb(8,48,107)"
            ]
           ],
           "locationmode": "ISO-3",
           "locations": [
            "AGO",
            "BDI",
            "BEN",
            "BFA",
            "BWA",
            "CAF",
            "CIV",
            "CMR",
            "COD",
            "COG",
            "COM",
            "CPV",
            "DJI",
            "DZA",
            "EGY",
            "ERI",
            "ETH",
            "GAB",
            "GHA",
            "GIN",
            "GMB",
            "GNB",
            "GNQ",
            "KEN",
            "LBR",
            "LBY",
            "LSO",
            "MAR",
            "MDG",
            "MLI",
            "MOZ",
            "MRT",
            "MUS",
            "MWI",
            "NAM",
            "NER",
            "NGA",
            "RWA",
            "SDN",
            "SEN",
            "SLE",
            "SOM",
            "SSD",
            "STP",
            "SWZ",
            "SYC",
            "TCD",
            "TGO",
            "TUN",
            "TZA",
            "UGA",
            "ZAF",
            "ZMB",
            "ZWE"
           ],
           "text": [
            "Angola",
            "Burundi",
            "Benin",
            "Burkina Faso",
            "Botswana",
            "Central African Republic",
            "Cote d`Ivoire",
            "Cameroon",
            "Democratic Republic of the Congo",
            "Republic of the Congo",
            "Comoros",
            "Cabo Verde",
            "Djibouti",
            "Algeria",
            "Egypt",
            "Eritrea",
            "Ethiopia",
            "Gabon",
            "Ghana",
            "Guinea",
            "The Gambia",
            "Guinea-Bissau",
            "Equatorial Guinea",
            "Kenya",
            "Liberia",
            "Libya",
            "Lesotho",
            "Morocco",
            "Madagascar",
            "Mali",
            "Mozambique",
            "Mauritania",
            "Mauritius",
            "Malawi",
            "Namibia",
            "Niger",
            "Nigeria",
            "Rwanda",
            "Sudan",
            "Senegal",
            "Sierra Leone",
            "Somalia",
            "South Sudan",
            "Sao Tome and Principe",
            "Kingdom of Eswatini",
            "Seychelles",
            "Chad",
            "Togo",
            "Tunisia",
            "Tanzania",
            "Uganda",
            "South Africa",
            "Zambia",
            "Zimbabwe"
           ],
           "type": "choropleth",
           "z": [
            0.644370855435646,
            0.781713352455619,
            0.609881100641287,
            0.351111971306097,
            0.599499310595124,
            0.486962827940611,
            0.549072212878268,
            0.630254320230852,
            0.500135495811718,
            0.734002715999147,
            0.596484558544326,
            0.582985872841684,
            0.695580682558918,
            0.716181882809647,
            0.949493607401448,
            0.428895977584437,
            0.314078355413702,
            0.777881188794652,
            0.564693192567502,
            0.418382668333529,
            0.524772567163086,
            0.389632462305762,
            0.561574756237378,
            0.839495762435904,
            0.452343588044021,
            0.804652843695836,
            0.49895426988488,
            0.705979480568678,
            0.245749291385203,
            0.362439420338409,
            0.412430716599848,
            0.442166463462459,
            0.867806388079658,
            0.385141792428792,
            0.497499974109515,
            0.196838221372098,
            0.607760295109988,
            0.673665187137005,
            0.49454167128374,
            0.55132613428023,
            0.429189585937273,
            0.427249856240431,
            0.473466056161291,
            0.764685047960689,
            0.432050317094692,
            0.779305421031084,
            0.339405203784018,
            0.658984977753547,
            0.728347261607464,
            0.396300925284801,
            0.564557868523153,
            0.755932450125991,
            0.459384632785626,
            0.39268779669457
           ]
          },
          {
           "colorbar": {
            "title": {
             "text": "Metropolitan Pop."
            },
            "x": 1.05
           },
           "colorscale": [
            [
             0,
             "rgb(255,245,235)"
            ],
            [
             0.125,
             "rgb(254,230,206)"
            ],
            [
             0.25,
             "rgb(253,208,162)"
            ],
            [
             0.375,
             "rgb(253,174,107)"
            ],
            [
             0.5,
             "rgb(253,141,60)"
            ],
            [
             0.625,
             "rgb(241,105,19)"
            ],
            [
             0.75,
             "rgb(217,72,1)"
            ],
            [
             0.875,
             "rgb(166,54,3)"
            ],
            [
             1,
             "rgb(127,39,4)"
            ]
           ],
           "locationmode": "ISO-3",
           "locations": [
            "AGO",
            "BDI",
            "BEN",
            "BFA",
            "BWA",
            "CAF",
            "CIV",
            "CMR",
            "COD",
            "COG",
            "COM",
            "CPV",
            "DJI",
            "DZA",
            "EGY",
            "ERI",
            "ETH",
            "GAB",
            "GHA",
            "GIN",
            "GMB",
            "GNB",
            "GNQ",
            "KEN",
            "LBR",
            "LBY",
            "LSO",
            "MAR",
            "MDG",
            "MLI",
            "MOZ",
            "MRT",
            "MUS",
            "MWI",
            "NAM",
            "NER",
            "NGA",
            "RWA",
            "SDN",
            "SEN",
            "SLE",
            "SOM",
            "SSD",
            "STP",
            "SWZ",
            "SYC",
            "TCD",
            "TGO",
            "TUN",
            "TZA",
            "UGA",
            "ZAF",
            "ZMB",
            "ZWE"
           ],
           "text": [
            "Angola",
            "Burundi",
            "Benin",
            "Burkina Faso",
            "Botswana",
            "Central African Republic",
            "Cote d`Ivoire",
            "Cameroon",
            "Democratic Republic of the Congo",
            "Republic of the Congo",
            "Comoros",
            "Cabo Verde",
            "Djibouti",
            "Algeria",
            "Egypt",
            "Eritrea",
            "Ethiopia",
            "Gabon",
            "Ghana",
            "Guinea",
            "The Gambia",
            "Guinea-Bissau",
            "Equatorial Guinea",
            "Kenya",
            "Liberia",
            "Libya",
            "Lesotho",
            "Morocco",
            "Madagascar",
            "Mali",
            "Mozambique",
            "Mauritania",
            "Mauritius",
            "Malawi",
            "Namibia",
            "Niger",
            "Nigeria",
            "Rwanda",
            "Sudan",
            "Senegal",
            "Sierra Leone",
            "Somalia",
            "South Sudan",
            "Sao Tome and Principe",
            "Kingdom of Eswatini",
            "Seychelles",
            "Chad",
            "Togo",
            "Tunisia",
            "Tanzania",
            "Uganda",
            "South Africa",
            "Zambia",
            "Zimbabwe"
           ],
           "type": "choropleth",
           "z": [
            0.43619176632168,
            0.198709786666795,
            0.396791510571695,
            0.557971881798289,
            0.286640475959608,
            0.503705632017256,
            0.391149431074047,
            0.519254446292228,
            0.296244234647675,
            0.790361098278747,
            0.291265124039388,
            0.765474735021686,
            0.773309515286928,
            0.178888689558422,
            0.380437461005318,
            0.33091201079744,
            0.138378263198588,
            0.5821957429274,
            0.483867655941932,
            0.51304928578707,
            0.859981898873136,
            0.719163035850652,
            0.90906243668489,
            0.402323131953292,
            0.740949226574327,
            0.417614390847634,
            0.460248720729879,
            0.293830705573088,
            0.455931406968533,
            0.504913997293403,
            0.203070869497806,
            0.625258410335251,
            0.605843998391761,
            0.335487980904369,
            0.42091383580064,
            0.252007198980553,
            0.142485507662598,
            0.381397838176248,
            0.398208410947019,
            0.422994870644598,
            0.587029439477594,
            0.4818245367702,
            0.209125391635207,
            0.746735559611893,
            0.629026377211028,
            0.999999999998719,
            0.312457659310083,
            0.605820745423628,
            0.372243910051529,
            0.263854990315109,
            0.230552811908693,
            0.402364660317174,
            0.332246495934186,
            0.578078984536458
           ]
          }
         ],
         "name": "2025"
        },
        {
         "data": [
          {
           "colorbar": {
            "title": {
             "text": "Urban Level"
            },
            "x": -0.05
           },
           "colorscale": [
            [
             0,
             "rgb(247,251,255)"
            ],
            [
             0.125,
             "rgb(222,235,247)"
            ],
            [
             0.25,
             "rgb(198,219,239)"
            ],
            [
             0.375,
             "rgb(158,202,225)"
            ],
            [
             0.5,
             "rgb(107,174,214)"
            ],
            [
             0.625,
             "rgb(66,146,198)"
            ],
            [
             0.75,
             "rgb(33,113,181)"
            ],
            [
             0.875,
             "rgb(8,81,156)"
            ],
            [
             1,
             "rgb(8,48,107)"
            ]
           ],
           "locationmode": "ISO-3",
           "locations": [
            "AGO",
            "BDI",
            "BEN",
            "BFA",
            "BWA",
            "CAF",
            "CIV",
            "CMR",
            "COD",
            "COG",
            "COM",
            "CPV",
            "DJI",
            "DZA",
            "EGY",
            "ERI",
            "ETH",
            "GAB",
            "GHA",
            "GIN",
            "GMB",
            "GNB",
            "GNQ",
            "KEN",
            "LBR",
            "LBY",
            "LSO",
            "MAR",
            "MDG",
            "MLI",
            "MOZ",
            "MRT",
            "MUS",
            "MWI",
            "NAM",
            "NER",
            "NGA",
            "RWA",
            "SDN",
            "SEN",
            "SLE",
            "SOM",
            "SSD",
            "STP",
            "SWZ",
            "SYC",
            "TCD",
            "TGO",
            "TUN",
            "TZA",
            "UGA",
            "ZAF",
            "ZMB",
            "ZWE"
           ],
           "text": [
            "Angola",
            "Burundi",
            "Benin",
            "Burkina Faso",
            "Botswana",
            "Central African Republic",
            "Cote d`Ivoire",
            "Cameroon",
            "Democratic Republic of the Congo",
            "Republic of the Congo",
            "Comoros",
            "Cabo Verde",
            "Djibouti",
            "Algeria",
            "Egypt",
            "Eritrea",
            "Ethiopia",
            "Gabon",
            "Ghana",
            "Guinea",
            "The Gambia",
            "Guinea-Bissau",
            "Equatorial Guinea",
            "Kenya",
            "Liberia",
            "Libya",
            "Lesotho",
            "Morocco",
            "Madagascar",
            "Mali",
            "Mozambique",
            "Mauritania",
            "Mauritius",
            "Malawi",
            "Namibia",
            "Niger",
            "Nigeria",
            "Rwanda",
            "Sudan",
            "Senegal",
            "Sierra Leone",
            "Somalia",
            "South Sudan",
            "Sao Tome and Principe",
            "Kingdom of Eswatini",
            "Seychelles",
            "Chad",
            "Togo",
            "Tunisia",
            "Tanzania",
            "Uganda",
            "South Africa",
            "Zambia",
            "Zimbabwe"
           ],
           "type": "choropleth",
           "z": [
            0.661679404285424,
            0.798363827160471,
            0.628203737972548,
            0.379317777757986,
            0.625917758851249,
            0.514967834721217,
            0.575957306185188,
            0.662105836371104,
            0.53170059761707,
            0.759465227531718,
            0.619412751630883,
            0.64570139630264,
            0.702247334030822,
            0.731345436908108,
            0.950906257864613,
            0.450911430863387,
            0.332080444989694,
            0.794049499226714,
            0.584495926474965,
            0.442557078650536,
            0.5904368431501,
            0.403255251500042,
            0.604835299973007,
            0.858562335172336,
            0.459346316969797,
            0.808728082961755,
            0.572774377900243,
            0.726882254841559,
            0.265929963555669,
            0.383312545208099,
            0.435278250922249,
            0.451445380793736,
            0.876696440452429,
            0.397163131444935,
            0.54471904230685,
            0.209260935795612,
            0.630278438212668,
            0.687388000221659,
            0.518960836717076,
            0.570072828193272,
            0.453934662247325,
            0.461321477923883,
            0.492434976057357,
            0.831118792386786,
            0.454452897976436,
            0.779950457354759,
            0.363073875543375,
            0.695837906151617,
            0.735767382312277,
            0.416167964905554,
            0.609094218697624,
            0.769440645516592,
            0.471700728397123,
            0.398896697373709
           ]
          },
          {
           "colorbar": {
            "title": {
             "text": "Metropolitan Pop."
            },
            "x": 1.05
           },
           "colorscale": [
            [
             0,
             "rgb(255,245,235)"
            ],
            [
             0.125,
             "rgb(254,230,206)"
            ],
            [
             0.25,
             "rgb(253,208,162)"
            ],
            [
             0.375,
             "rgb(253,174,107)"
            ],
            [
             0.5,
             "rgb(253,141,60)"
            ],
            [
             0.625,
             "rgb(241,105,19)"
            ],
            [
             0.75,
             "rgb(217,72,1)"
            ],
            [
             0.875,
             "rgb(166,54,3)"
            ],
            [
             1,
             "rgb(127,39,4)"
            ]
           ],
           "locationmode": "ISO-3",
           "locations": [
            "AGO",
            "BDI",
            "BEN",
            "BFA",
            "BWA",
            "CAF",
            "CIV",
            "CMR",
            "COD",
            "COG",
            "COM",
            "CPV",
            "DJI",
            "DZA",
            "EGY",
            "ERI",
            "ETH",
            "GAB",
            "GHA",
            "GIN",
            "GMB",
            "GNB",
            "GNQ",
            "KEN",
            "LBR",
            "LBY",
            "LSO",
            "MAR",
            "MDG",
            "MLI",
            "MOZ",
            "MRT",
            "MUS",
            "MWI",
            "NAM",
            "NER",
            "NGA",
            "RWA",
            "SDN",
            "SEN",
            "SLE",
            "SOM",
            "SSD",
            "STP",
            "SWZ",
            "SYC",
            "TCD",
            "TGO",
            "TUN",
            "TZA",
            "UGA",
            "ZAF",
            "ZMB",
            "ZWE"
           ],
           "text": [
            "Angola",
            "Burundi",
            "Benin",
            "Burkina Faso",
            "Botswana",
            "Central African Republic",
            "Cote d`Ivoire",
            "Cameroon",
            "Democratic Republic of the Congo",
            "Republic of the Congo",
            "Comoros",
            "Cabo Verde",
            "Djibouti",
            "Algeria",
            "Egypt",
            "Eritrea",
            "Ethiopia",
            "Gabon",
            "Ghana",
            "Guinea",
            "The Gambia",
            "Guinea-Bissau",
            "Equatorial Guinea",
            "Kenya",
            "Liberia",
            "Libya",
            "Lesotho",
            "Morocco",
            "Madagascar",
            "Mali",
            "Mozambique",
            "Mauritania",
            "Mauritius",
            "Malawi",
            "Namibia",
            "Niger",
            "Nigeria",
            "Rwanda",
            "Sudan",
            "Senegal",
            "Sierra Leone",
            "Somalia",
            "South Sudan",
            "Sao Tome and Principe",
            "Kingdom of Eswatini",
            "Seychelles",
            "Chad",
            "Togo",
            "Tunisia",
            "Tanzania",
            "Uganda",
            "South Africa",
            "Zambia",
            "Zimbabwe"
           ],
           "type": "choropleth",
           "z": [
            0.435389108213414,
            0.576605473853039,
            0.38934225463289,
            0.555270165771592,
            0.284536115022517,
            0.502421035251816,
            0.379473990921099,
            0.518712025755511,
            0.294973101232605,
            0.783916833727627,
            0.28588919014291,
            0.715466043613476,
            0.775461560550171,
            0.179368467661389,
            0.37819566451368,
            0.325927311660131,
            0.134447782186435,
            0.576637844873798,
            0.493890918507777,
            0.498994829614227,
            0.870320178388553,
            0.707866890132515,
            0.888896752547333,
            0.407411330350538,
            0.760852865135316,
            0.415510036183233,
            0.451018974002884,
            0.289592346923009,
            0.459882071124495,
            0.499889531383087,
            0.188676584674524,
            0.629916668282327,
            0.606616399456637,
            0.326428049169456,
            0.425600278517136,
            0.226807182079342,
            0.162057362356942,
            0.487305756494668,
            0.417566046510853,
            0.411069925916623,
            0.593136367003761,
            0.463536407508745,
            0.229793986500104,
            0.660097837053618,
            0.636934719341333,
            0.999999999998732,
            0.313958273756723,
            0.607501242769459,
            0.373081585619145,
            0.267442562041409,
            0.237669566075239,
            0.449879539071336,
            0.32606084342907,
            0.577165258423295
           ]
          }
         ],
         "name": "2030"
        },
        {
         "data": [
          {
           "colorbar": {
            "title": {
             "text": "Urban Level"
            },
            "x": -0.05
           },
           "colorscale": [
            [
             0,
             "rgb(247,251,255)"
            ],
            [
             0.125,
             "rgb(222,235,247)"
            ],
            [
             0.25,
             "rgb(198,219,239)"
            ],
            [
             0.375,
             "rgb(158,202,225)"
            ],
            [
             0.5,
             "rgb(107,174,214)"
            ],
            [
             0.625,
             "rgb(66,146,198)"
            ],
            [
             0.75,
             "rgb(33,113,181)"
            ],
            [
             0.875,
             "rgb(8,81,156)"
            ],
            [
             1,
             "rgb(8,48,107)"
            ]
           ],
           "locationmode": "ISO-3",
           "locations": [
            "AGO",
            "BDI",
            "BEN",
            "BFA",
            "BWA",
            "CAF",
            "CIV",
            "CMR",
            "COD",
            "COG",
            "COM",
            "CPV",
            "DJI",
            "DZA",
            "EGY",
            "ERI",
            "ETH",
            "GAB",
            "GHA",
            "GIN",
            "GMB",
            "GNB",
            "GNQ",
            "KEN",
            "LBR",
            "LBY",
            "LSO",
            "MAR",
            "MDG",
            "MLI",
            "MOZ",
            "MRT",
            "MUS",
            "MWI",
            "NAM",
            "NER",
            "NGA",
            "RWA",
            "SDN",
            "SEN",
            "SLE",
            "SOM",
            "SSD",
            "STP",
            "SWZ",
            "SYC",
            "TCD",
            "TGO",
            "TUN",
            "TZA",
            "UGA",
            "ZAF",
            "ZMB",
            "ZWE"
           ],
           "text": [
            "Angola",
            "Burundi",
            "Benin",
            "Burkina Faso",
            "Botswana",
            "Central African Republic",
            "Cote d`Ivoire",
            "Cameroon",
            "Democratic Republic of the Congo",
            "Republic of the Congo",
            "Comoros",
            "Cabo Verde",
            "Djibouti",
            "Algeria",
            "Egypt",
            "Eritrea",
            "Ethiopia",
            "Gabon",
            "Ghana",
            "Guinea",
            "The Gambia",
            "Guinea-Bissau",
            "Equatorial Guinea",
            "Kenya",
            "Liberia",
            "Libya",
            "Lesotho",
            "Morocco",
            "Madagascar",
            "Mali",
            "Mozambique",
            "Mauritania",
            "Mauritius",
            "Malawi",
            "Namibia",
            "Niger",
            "Nigeria",
            "Rwanda",
            "Sudan",
            "Senegal",
            "Sierra Leone",
            "Somalia",
            "South Sudan",
            "Sao Tome and Principe",
            "Kingdom of Eswatini",
            "Seychelles",
            "Chad",
            "Togo",
            "Tunisia",
            "Tanzania",
            "Uganda",
            "South Africa",
            "Zambia",
            "Zimbabwe"
           ],
           "type": "choropleth",
           "z": [
            0.676992596206476,
            0.815914686517295,
            0.655828888505881,
            0.404945560673148,
            0.664460587798797,
            0.544295759484051,
            0.59653698177367,
            0.693168771629756,
            0.559963388510944,
            0.783245284035458,
            0.632669498560992,
            0.670544705917599,
            0.708914078996774,
            0.745535176014013,
            0.951828783175685,
            0.488899033549037,
            0.34961687619927,
            0.806097817396397,
            0.60542402429734,
            0.462744685109988,
            0.638330099275984,
            0.425294808346872,
            0.632036443110408,
            0.877467995306094,
            0.467155988795722,
            0.810028187430183,
            0.639462339549528,
            0.749041834482444,
            0.284656191414057,
            0.399058708696088,
            0.453923239428097,
            0.46305822044591,
            0.88558616916995,
            0.405775893272441,
            0.605453501436494,
            0.224594226941734,
            0.650701217861422,
            0.701110853716337,
            0.544246977611439,
            0.585656434944375,
            0.478761297937193,
            0.494723328517307,
            0.514280546337137,
            0.81550716411611,
            0.480682045559489,
            0.780605484525522,
            0.380464690078364,
            0.735888822995433,
            0.743824901476587,
            0.433694317183147,
            0.652469087994989,
            0.781960872277564,
            0.481387427405463,
            0.407519358618489
           ]
          },
          {
           "colorbar": {
            "title": {
             "text": "Metropolitan Pop."
            },
            "x": 1.05
           },
           "colorscale": [
            [
             0,
             "rgb(255,245,235)"
            ],
            [
             0.125,
             "rgb(254,230,206)"
            ],
            [
             0.25,
             "rgb(253,208,162)"
            ],
            [
             0.375,
             "rgb(253,174,107)"
            ],
            [
             0.5,
             "rgb(253,141,60)"
            ],
            [
             0.625,
             "rgb(241,105,19)"
            ],
            [
             0.75,
             "rgb(217,72,1)"
            ],
            [
             0.875,
             "rgb(166,54,3)"
            ],
            [
             1,
             "rgb(127,39,4)"
            ]
           ],
           "locationmode": "ISO-3",
           "locations": [
            "AGO",
            "BDI",
            "BEN",
            "BFA",
            "BWA",
            "CAF",
            "CIV",
            "CMR",
            "COD",
            "COG",
            "COM",
            "CPV",
            "DJI",
            "DZA",
            "EGY",
            "ERI",
            "ETH",
            "GAB",
            "GHA",
            "GIN",
            "GMB",
            "GNB",
            "GNQ",
            "KEN",
            "LBR",
            "LBY",
            "LSO",
            "MAR",
            "MDG",
            "MLI",
            "MOZ",
            "MRT",
            "MUS",
            "MWI",
            "NAM",
            "NER",
            "NGA",
            "RWA",
            "SDN",
            "SEN",
            "SLE",
            "SOM",
            "SSD",
            "STP",
            "SWZ",
            "SYC",
            "TCD",
            "TGO",
            "TUN",
            "TZA",
            "UGA",
            "ZAF",
            "ZMB",
            "ZWE"
           ],
           "text": [
            "Angola",
            "Burundi",
            "Benin",
            "Burkina Faso",
            "Botswana",
            "Central African Republic",
            "Cote d`Ivoire",
            "Cameroon",
            "Democratic Republic of the Congo",
            "Republic of the Congo",
            "Comoros",
            "Cabo Verde",
            "Djibouti",
            "Algeria",
            "Egypt",
            "Eritrea",
            "Ethiopia",
            "Gabon",
            "Ghana",
            "Guinea",
            "The Gambia",
            "Guinea-Bissau",
            "Equatorial Guinea",
            "Kenya",
            "Liberia",
            "Libya",
            "Lesotho",
            "Morocco",
            "Madagascar",
            "Mali",
            "Mozambique",
            "Mauritania",
            "Mauritius",
            "Malawi",
            "Namibia",
            "Niger",
            "Nigeria",
            "Rwanda",
            "Sudan",
            "Senegal",
            "Sierra Leone",
            "Somalia",
            "South Sudan",
            "Sao Tome and Principe",
            "Kingdom of Eswatini",
            "Seychelles",
            "Chad",
            "Togo",
            "Tunisia",
            "Tanzania",
            "Uganda",
            "South Africa",
            "Zambia",
            "Zimbabwe"
           ],
           "type": "choropleth",
           "z": [
            0.435979592028617,
            0.694281911305593,
            0.381932376484479,
            0.554058560959121,
            0.277226609346098,
            0.501792249709119,
            0.375567196798973,
            0.52021722865878,
            0.296840182550534,
            0.780024361928943,
            0.285402791382834,
            0.71227740516913,
            0.77757312676503,
            0.180546710303355,
            0.375435998595894,
            0.319408173611326,
            0.130821455467811,
            0.574222032702082,
            0.497169811703503,
            0.49973735860602,
            0.904601389645491,
            0.683635679193829,
            0.88609828152832,
            0.412970205693559,
            0.774754360017983,
            0.414843138326743,
            0.441281565553773,
            0.285026150841059,
            0.470449120936095,
            0.502309205035931,
            0.176648611994292,
            0.629793629395835,
            0.607373278307434,
            0.319551575505532,
            0.419514170408656,
            0.201748300008197,
            0.166596146091853,
            0.510514573922105,
            0.44944980969889,
            0.409214752923821,
            0.598003137423454,
            0.445219674392577,
            0.24753691023205,
            0.64526861013852,
            0.639129355426493,
            0.999999999998738,
            0.321444224104712,
            0.610717010784446,
            0.373268073671213,
            0.270878768172409,
            0.24349575772827,
            0.503355544385104,
            0.320828448363014,
            0.589893587960471
           ]
          }
         ],
         "name": "2035"
        },
        {
         "data": [
          {
           "colorbar": {
            "title": {
             "text": "Urban Level"
            },
            "x": -0.05
           },
           "colorscale": [
            [
             0,
             "rgb(247,251,255)"
            ],
            [
             0.125,
             "rgb(222,235,247)"
            ],
            [
             0.25,
             "rgb(198,219,239)"
            ],
            [
             0.375,
             "rgb(158,202,225)"
            ],
            [
             0.5,
             "rgb(107,174,214)"
            ],
            [
             0.625,
             "rgb(66,146,198)"
            ],
            [
             0.75,
             "rgb(33,113,181)"
            ],
            [
             0.875,
             "rgb(8,81,156)"
            ],
            [
             1,
             "rgb(8,48,107)"
            ]
           ],
           "locationmode": "ISO-3",
           "locations": [
            "AGO",
            "BDI",
            "BEN",
            "BFA",
            "BWA",
            "CAF",
            "CIV",
            "CMR",
            "COD",
            "COG",
            "COM",
            "CPV",
            "DJI",
            "DZA",
            "EGY",
            "ERI",
            "ETH",
            "GAB",
            "GHA",
            "GIN",
            "GMB",
            "GNB",
            "GNQ",
            "KEN",
            "LBR",
            "LBY",
            "LSO",
            "MAR",
            "MDG",
            "MLI",
            "MOZ",
            "MRT",
            "MUS",
            "MWI",
            "NAM",
            "NER",
            "NGA",
            "RWA",
            "SDN",
            "SEN",
            "SLE",
            "SOM",
            "SSD",
            "STP",
            "SWZ",
            "SYC",
            "TCD",
            "TGO",
            "TUN",
            "TZA",
            "UGA",
            "ZAF",
            "ZMB",
            "ZWE"
           ],
           "text": [
            "Angola",
            "Burundi",
            "Benin",
            "Burkina Faso",
            "Botswana",
            "Central African Republic",
            "Cote d`Ivoire",
            "Cameroon",
            "Democratic Republic of the Congo",
            "Republic of the Congo",
            "Comoros",
            "Cabo Verde",
            "Djibouti",
            "Algeria",
            "Egypt",
            "Eritrea",
            "Ethiopia",
            "Gabon",
            "Ghana",
            "Guinea",
            "The Gambia",
            "Guinea-Bissau",
            "Equatorial Guinea",
            "Kenya",
            "Liberia",
            "Libya",
            "Lesotho",
            "Morocco",
            "Madagascar",
            "Mali",
            "Mozambique",
            "Mauritania",
            "Mauritius",
            "Malawi",
            "Namibia",
            "Niger",
            "Nigeria",
            "Rwanda",
            "Sudan",
            "Senegal",
            "Sierra Leone",
            "Somalia",
            "South Sudan",
            "Sao Tome and Principe",
            "Kingdom of Eswatini",
            "Seychelles",
            "Chad",
            "Togo",
            "Tunisia",
            "Tanzania",
            "Uganda",
            "South Africa",
            "Zambia",
            "Zimbabwe"
           ],
           "type": "choropleth",
           "z": [
            0.692862916223672,
            0.825855352675321,
            0.671277672763973,
            0.430256975351561,
            0.698687749910358,
            0.567899014566513,
            0.614266592918415,
            0.723307359409259,
            0.586729155735147,
            0.805033640960618,
            0.665483354117984,
            0.695266806197216,
            0.715580662418378,
            0.758746706961051,
            0.951834237194255,
            0.526030934701774,
            0.366788534010138,
            0.820945831129942,
            0.624632217646733,
            0.483327861332272,
            0.684582059562212,
            0.442820455449219,
            0.659247756218655,
            0.895703203854999,
            0.473389800486217,
            0.816424758464748,
            0.704921670776559,
            0.770977978345862,
            0.302724829514663,
            0.417146764068191,
            0.470041157990198,
            0.470995647878033,
            0.894476676101603,
            0.4181622262848,
            0.656582969099751,
            0.239464382813779,
            0.67051155419677,
            0.714833796583249,
            0.567873638563444,
            0.604198051779309,
            0.501231467861098,
            0.526631317888701,
            0.533240582951793,
            0.799897545307481,
            0.502923131616424,
            0.78124738338797,
            0.398581340743209,
            0.776721809783349,
            0.750968205023523,
            0.446346905314141,
            0.69592431877122,
            0.793874209760846,
            0.493093586058852,
            0.414067553293858
           ]
          },
          {
           "colorbar": {
            "title": {
             "text": "Metropolitan Pop."
            },
            "x": 1.05
           },
           "colorscale": [
            [
             0,
             "rgb(255,245,235)"
            ],
            [
             0.125,
             "rgb(254,230,206)"
            ],
            [
             0.25,
             "rgb(253,208,162)"
            ],
            [
             0.375,
             "rgb(253,174,107)"
            ],
            [
             0.5,
             "rgb(253,141,60)"
            ],
            [
             0.625,
             "rgb(241,105,19)"
            ],
            [
             0.75,
             "rgb(217,72,1)"
            ],
            [
             0.875,
             "rgb(166,54,3)"
            ],
            [
             1,
             "rgb(127,39,4)"
            ]
           ],
           "locationmode": "ISO-3",
           "locations": [
            "AGO",
            "BDI",
            "BEN",
            "BFA",
            "BWA",
            "CAF",
            "CIV",
            "CMR",
            "COD",
            "COG",
            "COM",
            "CPV",
            "DJI",
            "DZA",
            "EGY",
            "ERI",
            "ETH",
            "GAB",
            "GHA",
            "GIN",
            "GMB",
            "GNB",
            "GNQ",
            "KEN",
            "LBR",
            "LBY",
            "LSO",
            "MAR",
            "MDG",
            "MLI",
            "MOZ",
            "MRT",
            "MUS",
            "MWI",
            "NAM",
            "NER",
            "NGA",
            "RWA",
            "SDN",
            "SEN",
            "SLE",
            "SOM",
            "SSD",
            "STP",
            "SWZ",
            "SYC",
            "TCD",
            "TGO",
            "TUN",
            "TZA",
            "UGA",
            "ZAF",
            "ZMB",
            "ZWE"
           ],
           "text": [
            "Angola",
            "Burundi",
            "Benin",
            "Burkina Faso",
            "Botswana",
            "Central African Republic",
            "Cote d`Ivoire",
            "Cameroon",
            "Democratic Republic of the Congo",
            "Republic of the Congo",
            "Comoros",
            "Cabo Verde",
            "Djibouti",
            "Algeria",
            "Egypt",
            "Eritrea",
            "Ethiopia",
            "Gabon",
            "Ghana",
            "Guinea",
            "The Gambia",
            "Guinea-Bissau",
            "Equatorial Guinea",
            "Kenya",
            "Liberia",
            "Libya",
            "Lesotho",
            "Morocco",
            "Madagascar",
            "Mali",
            "Mozambique",
            "Mauritania",
            "Mauritius",
            "Malawi",
            "Namibia",
            "Niger",
            "Nigeria",
            "Rwanda",
            "Sudan",
            "Senegal",
            "Sierra Leone",
            "Somalia",
            "South Sudan",
            "Sao Tome and Principe",
            "Kingdom of Eswatini",
            "Seychelles",
            "Chad",
            "Togo",
            "Tunisia",
            "Tanzania",
            "Uganda",
            "South Africa",
            "Zambia",
            "Zimbabwe"
           ],
           "type": "choropleth",
           "z": [
            0.440253066687859,
            0.794354379182589,
            0.376753952737859,
            0.554671118931325,
            0.329107778487112,
            0.503566539890075,
            0.370424893973638,
            0.52001294977865,
            0.29584865137905,
            0.777838025689609,
            0.327008262337673,
            0.709309215843604,
            0.77964535904238,
            0.181158853683015,
            0.375152364060913,
            0.306678744643426,
            0.127657253574426,
            0.569926895557241,
            0.492347572829992,
            0.492487407285473,
            0.90243496051145,
            0.669174975678687,
            0.883208597509734,
            0.415091793158754,
            0.818241418031252,
            0.411592873961711,
            0.452509201260632,
            0.280750195461745,
            0.472293792568399,
            0.500618520244417,
            0.173185977693957,
            0.633300380368458,
            0.608115121417455,
            0.308882935420817,
            0.420217041642116,
            0.181291412770236,
            0.176259839369182,
            0.527397980618302,
            0.47488751777966,
            0.402005743469242,
            0.602206659037996,
            0.429823984238605,
            0.265529646137511,
            0.629860558436769,
            0.671665527509712,
            0.999999999998736,
            0.326527496144425,
            0.613772650924964,
            0.373652054860443,
            0.279187010014435,
            0.288374814993193,
            0.50914845084495,
            0.314759286719634,
            0.58445324587171
           ]
          }
         ],
         "name": "2040"
        },
        {
         "data": [
          {
           "colorbar": {
            "title": {
             "text": "Urban Level"
            },
            "x": -0.05
           },
           "colorscale": [
            [
             0,
             "rgb(247,251,255)"
            ],
            [
             0.125,
             "rgb(222,235,247)"
            ],
            [
             0.25,
             "rgb(198,219,239)"
            ],
            [
             0.375,
             "rgb(158,202,225)"
            ],
            [
             0.5,
             "rgb(107,174,214)"
            ],
            [
             0.625,
             "rgb(66,146,198)"
            ],
            [
             0.75,
             "rgb(33,113,181)"
            ],
            [
             0.875,
             "rgb(8,81,156)"
            ],
            [
             1,
             "rgb(8,48,107)"
            ]
           ],
           "locationmode": "ISO-3",
           "locations": [
            "AGO",
            "BDI",
            "BEN",
            "BFA",
            "BWA",
            "CAF",
            "CIV",
            "CMR",
            "COD",
            "COG",
            "COM",
            "CPV",
            "DJI",
            "DZA",
            "EGY",
            "ERI",
            "ETH",
            "GAB",
            "GHA",
            "GIN",
            "GMB",
            "GNB",
            "GNQ",
            "KEN",
            "LBR",
            "LBY",
            "LSO",
            "MAR",
            "MDG",
            "MLI",
            "MOZ",
            "MRT",
            "MUS",
            "MWI",
            "NAM",
            "NER",
            "NGA",
            "RWA",
            "SDN",
            "SEN",
            "SLE",
            "SOM",
            "SSD",
            "STP",
            "SWZ",
            "SYC",
            "TCD",
            "TGO",
            "TUN",
            "TZA",
            "UGA",
            "ZAF",
            "ZMB",
            "ZWE"
           ],
           "text": [
            "Angola",
            "Burundi",
            "Benin",
            "Burkina Faso",
            "Botswana",
            "Central African Republic",
            "Cote d`Ivoire",
            "Cameroon",
            "Democratic Republic of the Congo",
            "Republic of the Congo",
            "Comoros",
            "Cabo Verde",
            "Djibouti",
            "Algeria",
            "Egypt",
            "Eritrea",
            "Ethiopia",
            "Gabon",
            "Ghana",
            "Guinea",
            "The Gambia",
            "Guinea-Bissau",
            "Equatorial Guinea",
            "Kenya",
            "Liberia",
            "Libya",
            "Lesotho",
            "Morocco",
            "Madagascar",
            "Mali",
            "Mozambique",
            "Mauritania",
            "Mauritius",
            "Malawi",
            "Namibia",
            "Niger",
            "Nigeria",
            "Rwanda",
            "Sudan",
            "Senegal",
            "Sierra Leone",
            "Somalia",
            "South Sudan",
            "Sao Tome and Principe",
            "Kingdom of Eswatini",
            "Seychelles",
            "Chad",
            "Togo",
            "Tunisia",
            "Tanzania",
            "Uganda",
            "South Africa",
            "Zambia",
            "Zimbabwe"
           ],
           "type": "choropleth",
           "z": [
            0.707449923512679,
            0.83583328250577,
            0.686164566892368,
            0.454318172641814,
            0.7268521601258,
            0.591681062161703,
            0.630842569654962,
            0.753574820383627,
            0.613097534023874,
            0.829060134890483,
            0.70715672453622,
            0.719840141513473,
            0.722247499157193,
            0.772308179509057,
            0.952367726818959,
            0.557907045386541,
            0.383253796529783,
            0.832455676402386,
            0.641455528175606,
            0.502739143965234,
            0.724440318323667,
            0.461200700495388,
            0.693353774220877,
            0.91284425273559,
            0.479335958856169,
            0.817692244663648,
            0.769849247209636,
            0.792148907370809,
            0.320466030538494,
            0.432071540383202,
            0.484337614215948,
            0.477142218825786,
            0.885245614991235,
            0.428620937783104,
            0.706140311641195,
            0.251526766069932,
            0.689928144791808,
            0.729090174377548,
            0.589638099469441,
            0.619623762204839,
            0.523438913792642,
            0.558537277513618,
            0.555461343593545,
            0.78428698138603,
            0.525164337306498,
            0.781897778929739,
            0.414561346952236,
            0.819782080311846,
            0.760415268162845,
            0.459764420938276,
            0.737983760601186,
            0.805344677657814,
            0.504144214629367,
            0.42001904456232
           ]
          },
          {
           "colorbar": {
            "title": {
             "text": "Metropolitan Pop."
            },
            "x": 1.05
           },
           "colorscale": [
            [
             0,
             "rgb(255,245,235)"
            ],
            [
             0.125,
             "rgb(254,230,206)"
            ],
            [
             0.25,
             "rgb(253,208,162)"
            ],
            [
             0.375,
             "rgb(253,174,107)"
            ],
            [
             0.5,
             "rgb(253,141,60)"
            ],
            [
             0.625,
             "rgb(241,105,19)"
            ],
            [
             0.75,
             "rgb(217,72,1)"
            ],
            [
             0.875,
             "rgb(166,54,3)"
            ],
            [
             1,
             "rgb(127,39,4)"
            ]
           ],
           "locationmode": "ISO-3",
           "locations": [
            "AGO",
            "BDI",
            "BEN",
            "BFA",
            "BWA",
            "CAF",
            "CIV",
            "CMR",
            "COD",
            "COG",
            "COM",
            "CPV",
            "DJI",
            "DZA",
            "EGY",
            "ERI",
            "ETH",
            "GAB",
            "GHA",
            "GIN",
            "GMB",
            "GNB",
            "GNQ",
            "KEN",
            "LBR",
            "LBY",
            "LSO",
            "MAR",
            "MDG",
            "MLI",
            "MOZ",
            "MRT",
            "MUS",
            "MWI",
            "NAM",
            "NER",
            "NGA",
            "RWA",
            "SDN",
            "SEN",
            "SLE",
            "SOM",
            "SSD",
            "STP",
            "SWZ",
            "SYC",
            "TCD",
            "TGO",
            "TUN",
            "TZA",
            "UGA",
            "ZAF",
            "ZMB",
            "ZWE"
           ],
           "text": [
            "Angola",
            "Burundi",
            "Benin",
            "Burkina Faso",
            "Botswana",
            "Central African Republic",
            "Cote d`Ivoire",
            "Cameroon",
            "Democratic Republic of the Congo",
            "Republic of the Congo",
            "Comoros",
            "Cabo Verde",
            "Djibouti",
            "Algeria",
            "Egypt",
            "Eritrea",
            "Ethiopia",
            "Gabon",
            "Ghana",
            "Guinea",
            "The Gambia",
            "Guinea-Bissau",
            "Equatorial Guinea",
            "Kenya",
            "Liberia",
            "Libya",
            "Lesotho",
            "Morocco",
            "Madagascar",
            "Mali",
            "Mozambique",
            "Mauritania",
            "Mauritius",
            "Malawi",
            "Namibia",
            "Niger",
            "Nigeria",
            "Rwanda",
            "Sudan",
            "Senegal",
            "Sierra Leone",
            "Somalia",
            "South Sudan",
            "Sao Tome and Principe",
            "Kingdom of Eswatini",
            "Seychelles",
            "Chad",
            "Togo",
            "Tunisia",
            "Tanzania",
            "Uganda",
            "South Africa",
            "Zambia",
            "Zimbabwe"
           ],
           "type": "choropleth",
           "z": [
            0.440870093983362,
            0.86575980196601,
            0.375761720449019,
            0.556494404683488,
            0.328892230428721,
            0.5044540837684,
            0.379886919328029,
            0.519403490313631,
            0.296517314127297,
            0.780052414185649,
            0.309219636935557,
            0.706203909476137,
            0.781679318588546,
            0.181991758585341,
            0.374411318373833,
            0.303882078206819,
            0.126963372908623,
            0.568053211050437,
            0.49980189472099,
            0.529357663543021,
            0.907444414849203,
            0.658340964621557,
            0.875149814876713,
            0.419814538558192,
            0.828987376106029,
            0.410954869989345,
            0.486008076531335,
            0.280782937056656,
            0.477729292898709,
            0.501296587731148,
            0.167742977243307,
            0.637980711032352,
            0.62130535261106,
            0.301626137632959,
            0.421436318405925,
            0.164906617304455,
            0.176581195218357,
            0.593867415283371,
            0.487902056045431,
            0.395410070772139,
            0.605693721440129,
            0.415792731694098,
            0.280372353682436,
            0.613839128601815,
            0.675709808700153,
            0.999999999998725,
            0.333465582799411,
            0.615275442357692,
            0.372716054535807,
            0.288285165077998,
            0.295146715410692,
            0.516177625104148,
            0.318177026887991,
            0.580199587993181
           ]
          }
         ],
         "name": "2045"
        },
        {
         "data": [
          {
           "colorbar": {
            "title": {
             "text": "Urban Level"
            },
            "x": -0.05
           },
           "colorscale": [
            [
             0,
             "rgb(247,251,255)"
            ],
            [
             0.125,
             "rgb(222,235,247)"
            ],
            [
             0.25,
             "rgb(198,219,239)"
            ],
            [
             0.375,
             "rgb(158,202,225)"
            ],
            [
             0.5,
             "rgb(107,174,214)"
            ],
            [
             0.625,
             "rgb(66,146,198)"
            ],
            [
             0.75,
             "rgb(33,113,181)"
            ],
            [
             0.875,
             "rgb(8,81,156)"
            ],
            [
             1,
             "rgb(8,48,107)"
            ]
           ],
           "locationmode": "ISO-3",
           "locations": [
            "AGO",
            "BDI",
            "BEN",
            "BFA",
            "BWA",
            "CAF",
            "CIV",
            "CMR",
            "COD",
            "COG",
            "COM",
            "CPV",
            "DJI",
            "DZA",
            "EGY",
            "ERI",
            "ETH",
            "GAB",
            "GHA",
            "GIN",
            "GMB",
            "GNB",
            "GNQ",
            "KEN",
            "LBR",
            "LBY",
            "LSO",
            "MAR",
            "MDG",
            "MLI",
            "MOZ",
            "MRT",
            "MUS",
            "MWI",
            "NAM",
            "NER",
            "NGA",
            "RWA",
            "SDN",
            "SEN",
            "SLE",
            "SOM",
            "SSD",
            "STP",
            "SWZ",
            "SYC",
            "TCD",
            "TGO",
            "TUN",
            "TZA",
            "UGA",
            "ZAF",
            "ZMB",
            "ZWE"
           ],
           "text": [
            "Angola",
            "Burundi",
            "Benin",
            "Burkina Faso",
            "Botswana",
            "Central African Republic",
            "Cote d`Ivoire",
            "Cameroon",
            "Democratic Republic of the Congo",
            "Republic of the Congo",
            "Comoros",
            "Cabo Verde",
            "Djibouti",
            "Algeria",
            "Egypt",
            "Eritrea",
            "Ethiopia",
            "Gabon",
            "Ghana",
            "Guinea",
            "The Gambia",
            "Guinea-Bissau",
            "Equatorial Guinea",
            "Kenya",
            "Liberia",
            "Libya",
            "Lesotho",
            "Morocco",
            "Madagascar",
            "Mali",
            "Mozambique",
            "Mauritania",
            "Mauritius",
            "Malawi",
            "Namibia",
            "Niger",
            "Nigeria",
            "Rwanda",
            "Sudan",
            "Senegal",
            "Sierra Leone",
            "Somalia",
            "South Sudan",
            "Sao Tome and Principe",
            "Kingdom of Eswatini",
            "Seychelles",
            "Chad",
            "Togo",
            "Tunisia",
            "Tanzania",
            "Uganda",
            "South Africa",
            "Zambia",
            "Zimbabwe"
           ],
           "type": "choropleth",
           "z": [
            0.722242576525213,
            0.842869054546302,
            0.69184977954794,
            0.477127224160847,
            0.755918118525627,
            0.614890794378298,
            0.647433871852758,
            0.783115523582741,
            0.637643188447266,
            0.848963689671073,
            0.758648190241032,
            0.744194274984853,
            0.728913692458911,
            0.784682750196336,
            0.952443455344661,
            0.584988766659445,
            0.399598094903978,
            0.840788813115045,
            0.655825906601691,
            0.52156502977622,
            0.761773579698635,
            0.470866596244699,
            0.720839066301805,
            0.929561440424778,
            0.484979721532725,
            0.817692242278285,
            0.838024831182152,
            0.813040812543481,
            0.337733118746242,
            0.443787507376104,
            0.497573536393438,
            0.488563694239487,
            0.884714219414478,
            0.434207424401356,
            0.754233621490596,
            0.261848309406698,
            0.708086952291688,
            0.742829977543314,
            0.6110623517539,
            0.636337987699345,
            0.545362760501914,
            0.589994480921814,
            0.577065614451175,
            0.768675981562983,
            0.547353187084191,
            0.782549818978369,
            0.431315803982569,
            0.850312199577207,
            0.767378455473182,
            0.469502383458907,
            0.777940862803996,
            0.816301536442044,
            0.514581097533771,
            0.425975785394084
           ]
          },
          {
           "colorbar": {
            "title": {
             "text": "Metropolitan Pop."
            },
            "x": 1.05
           },
           "colorscale": [
            [
             0,
             "rgb(255,245,235)"
            ],
            [
             0.125,
             "rgb(254,230,206)"
            ],
            [
             0.25,
             "rgb(253,208,162)"
            ],
            [
             0.375,
             "rgb(253,174,107)"
            ],
            [
             0.5,
             "rgb(253,141,60)"
            ],
            [
             0.625,
             "rgb(241,105,19)"
            ],
            [
             0.75,
             "rgb(217,72,1)"
            ],
            [
             0.875,
             "rgb(166,54,3)"
            ],
            [
             1,
             "rgb(127,39,4)"
            ]
           ],
           "locationmode": "ISO-3",
           "locations": [
            "AGO",
            "BDI",
            "BEN",
            "BFA",
            "BWA",
            "CAF",
            "CIV",
            "CMR",
            "COD",
            "COG",
            "COM",
            "CPV",
            "DJI",
            "DZA",
            "EGY",
            "ERI",
            "ETH",
            "GAB",
            "GHA",
            "GIN",
            "GMB",
            "GNB",
            "GNQ",
            "KEN",
            "LBR",
            "LBY",
            "LSO",
            "MAR",
            "MDG",
            "MLI",
            "MOZ",
            "MRT",
            "MUS",
            "MWI",
            "NAM",
            "NER",
            "NGA",
            "RWA",
            "SDN",
            "SEN",
            "SLE",
            "SOM",
            "SSD",
            "STP",
            "SWZ",
            "SYC",
            "TCD",
            "TGO",
            "TUN",
            "TZA",
            "UGA",
            "ZAF",
            "ZMB",
            "ZWE"
           ],
           "text": [
            "Angola",
            "Burundi",
            "Benin",
            "Burkina Faso",
            "Botswana",
            "Central African Republic",
            "Cote d`Ivoire",
            "Cameroon",
            "Democratic Republic of the Congo",
            "Republic of the Congo",
            "Comoros",
            "Cabo Verde",
            "Djibouti",
            "Algeria",
            "Egypt",
            "Eritrea",
            "Ethiopia",
            "Gabon",
            "Ghana",
            "Guinea",
            "The Gambia",
            "Guinea-Bissau",
            "Equatorial Guinea",
            "Kenya",
            "Liberia",
            "Libya",
            "Lesotho",
            "Morocco",
            "Madagascar",
            "Mali",
            "Mozambique",
            "Mauritania",
            "Mauritius",
            "Malawi",
            "Namibia",
            "Niger",
            "Nigeria",
            "Rwanda",
            "Sudan",
            "Senegal",
            "Sierra Leone",
            "Somalia",
            "South Sudan",
            "Sao Tome and Principe",
            "Kingdom of Eswatini",
            "Seychelles",
            "Chad",
            "Togo",
            "Tunisia",
            "Tanzania",
            "Uganda",
            "South Africa",
            "Zambia",
            "Zimbabwe"
           ],
           "type": "choropleth",
           "z": [
            0.441336494421609,
            0.969931875490818,
            0.374362766729575,
            0.556371006383984,
            0.327322796145821,
            0.505242340361634,
            0.379319975224817,
            0.519014399250441,
            0.295176239221601,
            0.780361011863652,
            0.289260404892471,
            0.703089329539013,
            0.783676098038703,
            0.183740193741126,
            0.378802872702818,
            0.29879619956658,
            0.129356531781319,
            0.568369847203211,
            0.499867058991113,
            0.528415039816351,
            0.912599843028771,
            0.654540758230749,
            0.8723284638785,
            0.0780712788097952,
            0.837672281667994,
            0.410954869462726,
            0.480955402802111,
            0.27734561986592,
            0.481845307776211,
            0.50530081160503,
            0.159259317982134,
            0.634601930307094,
            0.628531709552754,
            0.305212900076269,
            0.42299396183154,
            0.150243193257562,
            0.179664363589331,
            0.672657894058545,
            0.500543501930944,
            0.387561379144606,
            0.608525006407844,
            0.406369737068267,
            0.294387370283884,
            0.59716698916804,
            0.679244122922506,
            0.999999999998704,
            0.33842478232535,
            0.624432323184555,
            0.372808130808837,
            0.294276829869371,
            0.307730947281277,
            0.517995120193102,
            0.313146790461864,
            0.577461914204879
           ]
          }
         ],
         "name": "2050"
        }
       ],
       "layout": {
        "annotations": [
         {
          "font": {
           "size": 16
          },
          "showarrow": false,
          "text": "Urbanization Level",
          "x": 0.225,
          "xanchor": "center",
          "xref": "paper",
          "y": 1,
          "yanchor": "bottom",
          "yref": "paper"
         },
         {
          "font": {
           "size": 16
          },
          "showarrow": false,
          "text": "Metropolitan Population",
          "x": 0.775,
          "xanchor": "center",
          "xref": "paper",
          "y": 1,
          "yanchor": "bottom",
          "yref": "paper"
         }
        ],
        "geo": {
         "domain": {
          "x": [
           0,
           0.45
          ],
          "y": [
           0,
           1
          ]
         },
         "scope": "africa"
        },
        "geo2": {
         "domain": {
          "x": [
           0.55,
           1
          ],
          "y": [
           0,
           1
          ]
         },
         "scope": "africa"
        },
        "sliders": [
         {
          "active": 0,
          "currentvalue": {
           "font": {
            "size": 20
           },
           "prefix": "Year: "
          },
          "len": 0.9,
          "pad": {
           "b": 10,
           "t": 50
          },
          "steps": [
           {
            "args": [
             [
              "1950"
             ],
             {
              "frame": {
               "duration": 300,
               "redraw": true
              },
              "mode": "immediate"
             }
            ],
            "label": "1950",
            "method": "animate"
           },
           {
            "args": [
             [
              "1960"
             ],
             {
              "frame": {
               "duration": 300,
               "redraw": true
              },
              "mode": "immediate"
             }
            ],
            "label": "1960",
            "method": "animate"
           },
           {
            "args": [
             [
              "1970"
             ],
             {
              "frame": {
               "duration": 300,
               "redraw": true
              },
              "mode": "immediate"
             }
            ],
            "label": "1970",
            "method": "animate"
           },
           {
            "args": [
             [
              "1980"
             ],
             {
              "frame": {
               "duration": 300,
               "redraw": true
              },
              "mode": "immediate"
             }
            ],
            "label": "1980",
            "method": "animate"
           },
           {
            "args": [
             [
              "1990"
             ],
             {
              "frame": {
               "duration": 300,
               "redraw": true
              },
              "mode": "immediate"
             }
            ],
            "label": "1990",
            "method": "animate"
           },
           {
            "args": [
             [
              "2000"
             ],
             {
              "frame": {
               "duration": 300,
               "redraw": true
              },
              "mode": "immediate"
             }
            ],
            "label": "2000",
            "method": "animate"
           },
           {
            "args": [
             [
              "2010"
             ],
             {
              "frame": {
               "duration": 300,
               "redraw": true
              },
              "mode": "immediate"
             }
            ],
            "label": "2010",
            "method": "animate"
           },
           {
            "args": [
             [
              "2015"
             ],
             {
              "frame": {
               "duration": 300,
               "redraw": true
              },
              "mode": "immediate"
             }
            ],
            "label": "2015",
            "method": "animate"
           },
           {
            "args": [
             [
              "2020"
             ],
             {
              "frame": {
               "duration": 300,
               "redraw": true
              },
              "mode": "immediate"
             }
            ],
            "label": "2020",
            "method": "animate"
           },
           {
            "args": [
             [
              "2025"
             ],
             {
              "frame": {
               "duration": 300,
               "redraw": true
              },
              "mode": "immediate"
             }
            ],
            "label": "2025",
            "method": "animate"
           },
           {
            "args": [
             [
              "2030"
             ],
             {
              "frame": {
               "duration": 300,
               "redraw": true
              },
              "mode": "immediate"
             }
            ],
            "label": "2030",
            "method": "animate"
           },
           {
            "args": [
             [
              "2035"
             ],
             {
              "frame": {
               "duration": 300,
               "redraw": true
              },
              "mode": "immediate"
             }
            ],
            "label": "2035",
            "method": "animate"
           },
           {
            "args": [
             [
              "2040"
             ],
             {
              "frame": {
               "duration": 300,
               "redraw": true
              },
              "mode": "immediate"
             }
            ],
            "label": "2040",
            "method": "animate"
           },
           {
            "args": [
             [
              "2045"
             ],
             {
              "frame": {
               "duration": 300,
               "redraw": true
              },
              "mode": "immediate"
             }
            ],
            "label": "2045",
            "method": "animate"
           },
           {
            "args": [
             [
              "2050"
             ],
             {
              "frame": {
               "duration": 300,
               "redraw": true
              },
              "mode": "immediate"
             }
            ],
            "label": "2050",
            "method": "animate"
           }
          ],
          "transition": {
           "duration": 300
          },
          "x": 0.1,
          "xanchor": "left",
          "y": 0,
          "yanchor": "top"
         }
        ],
        "template": {
         "data": {
          "bar": [
           {
            "error_x": {
             "color": "#2a3f5f"
            },
            "error_y": {
             "color": "#2a3f5f"
            },
            "marker": {
             "line": {
              "color": "#E5ECF6",
              "width": 0.5
             },
             "pattern": {
              "fillmode": "overlay",
              "size": 10,
              "solidity": 0.2
             }
            },
            "type": "bar"
           }
          ],
          "barpolar": [
           {
            "marker": {
             "line": {
              "color": "#E5ECF6",
              "width": 0.5
             },
             "pattern": {
              "fillmode": "overlay",
              "size": 10,
              "solidity": 0.2
             }
            },
            "type": "barpolar"
           }
          ],
          "carpet": [
           {
            "aaxis": {
             "endlinecolor": "#2a3f5f",
             "gridcolor": "white",
             "linecolor": "white",
             "minorgridcolor": "white",
             "startlinecolor": "#2a3f5f"
            },
            "baxis": {
             "endlinecolor": "#2a3f5f",
             "gridcolor": "white",
             "linecolor": "white",
             "minorgridcolor": "white",
             "startlinecolor": "#2a3f5f"
            },
            "type": "carpet"
           }
          ],
          "choropleth": [
           {
            "colorbar": {
             "outlinewidth": 0,
             "ticks": ""
            },
            "type": "choropleth"
           }
          ],
          "contour": [
           {
            "colorbar": {
             "outlinewidth": 0,
             "ticks": ""
            },
            "colorscale": [
             [
              0,
              "#0d0887"
             ],
             [
              0.1111111111111111,
              "#46039f"
             ],
             [
              0.2222222222222222,
              "#7201a8"
             ],
             [
              0.3333333333333333,
              "#9c179e"
             ],
             [
              0.4444444444444444,
              "#bd3786"
             ],
             [
              0.5555555555555556,
              "#d8576b"
             ],
             [
              0.6666666666666666,
              "#ed7953"
             ],
             [
              0.7777777777777778,
              "#fb9f3a"
             ],
             [
              0.8888888888888888,
              "#fdca26"
             ],
             [
              1,
              "#f0f921"
             ]
            ],
            "type": "contour"
           }
          ],
          "contourcarpet": [
           {
            "colorbar": {
             "outlinewidth": 0,
             "ticks": ""
            },
            "type": "contourcarpet"
           }
          ],
          "heatmap": [
           {
            "colorbar": {
             "outlinewidth": 0,
             "ticks": ""
            },
            "colorscale": [
             [
              0,
              "#0d0887"
             ],
             [
              0.1111111111111111,
              "#46039f"
             ],
             [
              0.2222222222222222,
              "#7201a8"
             ],
             [
              0.3333333333333333,
              "#9c179e"
             ],
             [
              0.4444444444444444,
              "#bd3786"
             ],
             [
              0.5555555555555556,
              "#d8576b"
             ],
             [
              0.6666666666666666,
              "#ed7953"
             ],
             [
              0.7777777777777778,
              "#fb9f3a"
             ],
             [
              0.8888888888888888,
              "#fdca26"
             ],
             [
              1,
              "#f0f921"
             ]
            ],
            "type": "heatmap"
           }
          ],
          "heatmapgl": [
           {
            "colorbar": {
             "outlinewidth": 0,
             "ticks": ""
            },
            "colorscale": [
             [
              0,
              "#0d0887"
             ],
             [
              0.1111111111111111,
              "#46039f"
             ],
             [
              0.2222222222222222,
              "#7201a8"
             ],
             [
              0.3333333333333333,
              "#9c179e"
             ],
             [
              0.4444444444444444,
              "#bd3786"
             ],
             [
              0.5555555555555556,
              "#d8576b"
             ],
             [
              0.6666666666666666,
              "#ed7953"
             ],
             [
              0.7777777777777778,
              "#fb9f3a"
             ],
             [
              0.8888888888888888,
              "#fdca26"
             ],
             [
              1,
              "#f0f921"
             ]
            ],
            "type": "heatmapgl"
           }
          ],
          "histogram": [
           {
            "marker": {
             "pattern": {
              "fillmode": "overlay",
              "size": 10,
              "solidity": 0.2
             }
            },
            "type": "histogram"
           }
          ],
          "histogram2d": [
           {
            "colorbar": {
             "outlinewidth": 0,
             "ticks": ""
            },
            "colorscale": [
             [
              0,
              "#0d0887"
             ],
             [
              0.1111111111111111,
              "#46039f"
             ],
             [
              0.2222222222222222,
              "#7201a8"
             ],
             [
              0.3333333333333333,
              "#9c179e"
             ],
             [
              0.4444444444444444,
              "#bd3786"
             ],
             [
              0.5555555555555556,
              "#d8576b"
             ],
             [
              0.6666666666666666,
              "#ed7953"
             ],
             [
              0.7777777777777778,
              "#fb9f3a"
             ],
             [
              0.8888888888888888,
              "#fdca26"
             ],
             [
              1,
              "#f0f921"
             ]
            ],
            "type": "histogram2d"
           }
          ],
          "histogram2dcontour": [
           {
            "colorbar": {
             "outlinewidth": 0,
             "ticks": ""
            },
            "colorscale": [
             [
              0,
              "#0d0887"
             ],
             [
              0.1111111111111111,
              "#46039f"
             ],
             [
              0.2222222222222222,
              "#7201a8"
             ],
             [
              0.3333333333333333,
              "#9c179e"
             ],
             [
              0.4444444444444444,
              "#bd3786"
             ],
             [
              0.5555555555555556,
              "#d8576b"
             ],
             [
              0.6666666666666666,
              "#ed7953"
             ],
             [
              0.7777777777777778,
              "#fb9f3a"
             ],
             [
              0.8888888888888888,
              "#fdca26"
             ],
             [
              1,
              "#f0f921"
             ]
            ],
            "type": "histogram2dcontour"
           }
          ],
          "mesh3d": [
           {
            "colorbar": {
             "outlinewidth": 0,
             "ticks": ""
            },
            "type": "mesh3d"
           }
          ],
          "parcoords": [
           {
            "line": {
             "colorbar": {
              "outlinewidth": 0,
              "ticks": ""
             }
            },
            "type": "parcoords"
           }
          ],
          "pie": [
           {
            "automargin": true,
            "type": "pie"
           }
          ],
          "scatter": [
           {
            "fillpattern": {
             "fillmode": "overlay",
             "size": 10,
             "solidity": 0.2
            },
            "type": "scatter"
           }
          ],
          "scatter3d": [
           {
            "line": {
             "colorbar": {
              "outlinewidth": 0,
              "ticks": ""
             }
            },
            "marker": {
             "colorbar": {
              "outlinewidth": 0,
              "ticks": ""
             }
            },
            "type": "scatter3d"
           }
          ],
          "scattercarpet": [
           {
            "marker": {
             "colorbar": {
              "outlinewidth": 0,
              "ticks": ""
             }
            },
            "type": "scattercarpet"
           }
          ],
          "scattergeo": [
           {
            "marker": {
             "colorbar": {
              "outlinewidth": 0,
              "ticks": ""
             }
            },
            "type": "scattergeo"
           }
          ],
          "scattergl": [
           {
            "marker": {
             "colorbar": {
              "outlinewidth": 0,
              "ticks": ""
             }
            },
            "type": "scattergl"
           }
          ],
          "scattermapbox": [
           {
            "marker": {
             "colorbar": {
              "outlinewidth": 0,
              "ticks": ""
             }
            },
            "type": "scattermapbox"
           }
          ],
          "scatterpolar": [
           {
            "marker": {
             "colorbar": {
              "outlinewidth": 0,
              "ticks": ""
             }
            },
            "type": "scatterpolar"
           }
          ],
          "scatterpolargl": [
           {
            "marker": {
             "colorbar": {
              "outlinewidth": 0,
              "ticks": ""
             }
            },
            "type": "scatterpolargl"
           }
          ],
          "scatterternary": [
           {
            "marker": {
             "colorbar": {
              "outlinewidth": 0,
              "ticks": ""
             }
            },
            "type": "scatterternary"
           }
          ],
          "surface": [
           {
            "colorbar": {
             "outlinewidth": 0,
             "ticks": ""
            },
            "colorscale": [
             [
              0,
              "#0d0887"
             ],
             [
              0.1111111111111111,
              "#46039f"
             ],
             [
              0.2222222222222222,
              "#7201a8"
             ],
             [
              0.3333333333333333,
              "#9c179e"
             ],
             [
              0.4444444444444444,
              "#bd3786"
             ],
             [
              0.5555555555555556,
              "#d8576b"
             ],
             [
              0.6666666666666666,
              "#ed7953"
             ],
             [
              0.7777777777777778,
              "#fb9f3a"
             ],
             [
              0.8888888888888888,
              "#fdca26"
             ],
             [
              1,
              "#f0f921"
             ]
            ],
            "type": "surface"
           }
          ],
          "table": [
           {
            "cells": {
             "fill": {
              "color": "#EBF0F8"
             },
             "line": {
              "color": "white"
             }
            },
            "header": {
             "fill": {
              "color": "#C8D4E3"
             },
             "line": {
              "color": "white"
             }
            },
            "type": "table"
           }
          ]
         },
         "layout": {
          "annotationdefaults": {
           "arrowcolor": "#2a3f5f",
           "arrowhead": 0,
           "arrowwidth": 1
          },
          "autotypenumbers": "strict",
          "coloraxis": {
           "colorbar": {
            "outlinewidth": 0,
            "ticks": ""
           }
          },
          "colorscale": {
           "diverging": [
            [
             0,
             "#8e0152"
            ],
            [
             0.1,
             "#c51b7d"
            ],
            [
             0.2,
             "#de77ae"
            ],
            [
             0.3,
             "#f1b6da"
            ],
            [
             0.4,
             "#fde0ef"
            ],
            [
             0.5,
             "#f7f7f7"
            ],
            [
             0.6,
             "#e6f5d0"
            ],
            [
             0.7,
             "#b8e186"
            ],
            [
             0.8,
             "#7fbc41"
            ],
            [
             0.9,
             "#4d9221"
            ],
            [
             1,
             "#276419"
            ]
           ],
           "sequential": [
            [
             0,
             "#0d0887"
            ],
            [
             0.1111111111111111,
             "#46039f"
            ],
            [
             0.2222222222222222,
             "#7201a8"
            ],
            [
             0.3333333333333333,
             "#9c179e"
            ],
            [
             0.4444444444444444,
             "#bd3786"
            ],
            [
             0.5555555555555556,
             "#d8576b"
            ],
            [
             0.6666666666666666,
             "#ed7953"
            ],
            [
             0.7777777777777778,
             "#fb9f3a"
            ],
            [
             0.8888888888888888,
             "#fdca26"
            ],
            [
             1,
             "#f0f921"
            ]
           ],
           "sequentialminus": [
            [
             0,
             "#0d0887"
            ],
            [
             0.1111111111111111,
             "#46039f"
            ],
            [
             0.2222222222222222,
             "#7201a8"
            ],
            [
             0.3333333333333333,
             "#9c179e"
            ],
            [
             0.4444444444444444,
             "#bd3786"
            ],
            [
             0.5555555555555556,
             "#d8576b"
            ],
            [
             0.6666666666666666,
             "#ed7953"
            ],
            [
             0.7777777777777778,
             "#fb9f3a"
            ],
            [
             0.8888888888888888,
             "#fdca26"
            ],
            [
             1,
             "#f0f921"
            ]
           ]
          },
          "colorway": [
           "#636efa",
           "#EF553B",
           "#00cc96",
           "#ab63fa",
           "#FFA15A",
           "#19d3f3",
           "#FF6692",
           "#B6E880",
           "#FF97FF",
           "#FECB52"
          ],
          "font": {
           "color": "#2a3f5f"
          },
          "geo": {
           "bgcolor": "white",
           "lakecolor": "white",
           "landcolor": "#E5ECF6",
           "showlakes": true,
           "showland": true,
           "subunitcolor": "white"
          },
          "hoverlabel": {
           "align": "left"
          },
          "hovermode": "closest",
          "mapbox": {
           "style": "light"
          },
          "paper_bgcolor": "white",
          "plot_bgcolor": "#E5ECF6",
          "polar": {
           "angularaxis": {
            "gridcolor": "white",
            "linecolor": "white",
            "ticks": ""
           },
           "bgcolor": "#E5ECF6",
           "radialaxis": {
            "gridcolor": "white",
            "linecolor": "white",
            "ticks": ""
           }
          },
          "scene": {
           "xaxis": {
            "backgroundcolor": "#E5ECF6",
            "gridcolor": "white",
            "gridwidth": 2,
            "linecolor": "white",
            "showbackground": true,
            "ticks": "",
            "zerolinecolor": "white"
           },
           "yaxis": {
            "backgroundcolor": "#E5ECF6",
            "gridcolor": "white",
            "gridwidth": 2,
            "linecolor": "white",
            "showbackground": true,
            "ticks": "",
            "zerolinecolor": "white"
           },
           "zaxis": {
            "backgroundcolor": "#E5ECF6",
            "gridcolor": "white",
            "gridwidth": 2,
            "linecolor": "white",
            "showbackground": true,
            "ticks": "",
            "zerolinecolor": "white"
           }
          },
          "shapedefaults": {
           "line": {
            "color": "#2a3f5f"
           }
          },
          "ternary": {
           "aaxis": {
            "gridcolor": "white",
            "linecolor": "white",
            "ticks": ""
           },
           "baxis": {
            "gridcolor": "white",
            "linecolor": "white",
            "ticks": ""
           },
           "bgcolor": "#E5ECF6",
           "caxis": {
            "gridcolor": "white",
            "linecolor": "white",
            "ticks": ""
           }
          },
          "title": {
           "x": 0.05
          },
          "xaxis": {
           "automargin": true,
           "gridcolor": "white",
           "linecolor": "white",
           "ticks": "",
           "title": {
            "standoff": 15
           },
           "zerolinecolor": "white",
           "zerolinewidth": 2
          },
          "yaxis": {
           "automargin": true,
           "gridcolor": "white",
           "linecolor": "white",
           "ticks": "",
           "title": {
            "standoff": 15
           },
           "zerolinecolor": "white",
           "zerolinewidth": 2
          }
         }
        },
        "title": {
         "text": "Urbanization Level & Metropolitan Population in Africa (1950-2050)",
         "x": 0.5
        },
        "updatemenus": [
         {
          "buttons": [
           {
            "args": [
             null,
             {
              "frame": {
               "duration": 1000,
               "redraw": true
              },
              "fromcurrent": true
             }
            ],
            "label": "Play",
            "method": "animate"
           },
           {
            "args": [
             [
              null
             ],
             {
              "frame": {
               "duration": 0,
               "redraw": false
              },
              "mode": "immediate"
             }
            ],
            "label": "Pause",
            "method": "animate"
           }
          ],
          "direction": "left",
          "pad": {
           "r": 10,
           "t": 87
          },
          "showactive": false,
          "type": "buttons",
          "x": 0.1,
          "xanchor": "right",
          "y": 0,
          "yanchor": "top"
         }
        ]
       }
      }
     },
     "metadata": {},
     "output_type": "display_data"
    }
   ],
   "source": [
    "import plotly.graph_objects as go\n",
    "from plotly.subplots import make_subplots\n",
    "\n",
    "data = merged  \n",
    "\n",
    "fig = make_subplots(\n",
    "    rows=1, cols=2,\n",
    "    subplot_titles=[\"Urbanization Level\", \"Metropolitan Population\"],\n",
    "    specs=[[{\"type\": \"choropleth\"}, {\"type\": \"choropleth\"}]]\n",
    ")\n",
    "\n",
    "frames = []\n",
    "years = sorted(data[\"Year\"].unique())\n",
    "\n",
    "for year in years:\n",
    "    df_year = data[data[\"Year\"] == year]\n",
    "    \n",
    "    frame = go.Frame(\n",
    "        name=str(year),\n",
    "        data=[\n",
    "            go.Choropleth(\n",
    "                locations=df_year[\"ISO\"],\n",
    "                z=df_year[\"UrbanLevel\"],\n",
    "                text=df_year[\"Country\"],\n",
    "                colorscale=\"Blues\",\n",
    "                locationmode=\"ISO-3\",\n",
    "                colorbar=dict(title=\"Urban Level\", x=-0.05)  \n",
    "            ),\n",
    "            go.Choropleth(\n",
    "                locations=df_year[\"ISO\"],\n",
    "                z=df_year[\"Mpop\"],\n",
    "                text=df_year[\"Country\"],\n",
    "                colorscale=\"Oranges\",\n",
    "                locationmode=\"ISO-3\",\n",
    "                colorbar=dict(title=\"Metropolitan Pop.\", x=1.05)  \n",
    "            )\n",
    "        ]\n",
    "    )\n",
    "    frames.append(frame)\n",
    "\n",
    "# 选择初始年份的数据\n",
    "df_initial = data[data[\"Year\"] == years[0]]\n",
    "\n",
    "# 添加初始地图（Urbanization Level）\n",
    "fig.add_trace(\n",
    "    go.Choropleth(\n",
    "        locations=df_initial[\"ISO\"],\n",
    "        z=df_initial[\"UrbanLevel\"],\n",
    "        text=df_initial[\"Country\"],\n",
    "        colorscale=\"Blues\",\n",
    "        locationmode=\"ISO-3\",\n",
    "        colorbar=dict(title=\"Urban Level\", x=-0.05)  \n",
    "    ),\n",
    "    row=1, col=1\n",
    ")\n",
    "\n",
    "fig.add_trace(\n",
    "    go.Choropleth(\n",
    "        locations=df_initial[\"ISO\"],\n",
    "        z=df_initial[\"Mpop\"],\n",
    "        text=df_initial[\"Country\"],\n",
    "        colorscale=\"Oranges\",\n",
    "        locationmode=\"ISO-3\",\n",
    "        colorbar=dict(title=\"Metropolitan Pop.\", x=1.05)  \n",
    "    ),\n",
    "    row=1, col=2\n",
    ")\n",
    "\n",
    "fig.update_layout(\n",
    "    title_text=\"Urbanization Level & Metropolitan Population in Africa (1950-2050)\",\n",
    "    title_x=0.5,  \n",
    "    geo=dict(scope=\"africa\"),\n",
    "    geo2=dict(scope=\"africa\"),\n",
    "    updatemenus=[{\n",
    "        \"buttons\": [\n",
    "            {\"label\": \"Play\",\n",
    "             \"method\": \"animate\",\n",
    "             \"args\": [None, {\"frame\": {\"duration\": 1000, \"redraw\": True}, \"fromcurrent\": True}]},\n",
    "            {\"label\": \"Pause\",\n",
    "             \"method\": \"animate\",\n",
    "             \"args\": [[None], {\"frame\": {\"duration\": 0, \"redraw\": False}, \"mode\": \"immediate\"}]}\n",
    "        ],\n",
    "        \"direction\": \"left\",\n",
    "        \"pad\": {\"r\": 10, \"t\": 87},\n",
    "        \"showactive\": False,\n",
    "        \"type\": \"buttons\",\n",
    "        \"x\": 0.1,\n",
    "        \"xanchor\": \"right\",\n",
    "        \"y\": 0,\n",
    "        \"yanchor\": \"top\"\n",
    "    }],\n",
    "    sliders=[{\n",
    "        \"active\": 0,\n",
    "        \"yanchor\": \"top\",\n",
    "        \"xanchor\": \"left\",\n",
    "        \"currentvalue\": {\"prefix\": \"Year: \", \"font\": {\"size\": 20}},\n",
    "        \"transition\": {\"duration\": 300},\n",
    "        \"pad\": {\"b\": 10, \"t\": 50},\n",
    "        \"len\": 0.9,\n",
    "        \"x\": 0.1,\n",
    "        \"y\": 0,\n",
    "        \"steps\": [\n",
    "            {\"args\": [[str(year)], {\"frame\": {\"duration\": 300, \"redraw\": True}, \"mode\": \"immediate\"}],\n",
    "             \"label\": str(year),\n",
    "             \"method\": \"animate\"}\n",
    "            for year in years\n",
    "        ]\n",
    "    }]\n",
    ")\n",
    "\n",
    "fig.frames = frames\n",
    "\n",
    "fig.show()\n",
    "\n",
    "fig.write_html(\"Shuyu CAO-Urbanisation Level & Metropolitan Population Trend (choropleth).html\")\n",
    "\n"
   ]
  },
  {
   "cell_type": "code",
   "execution_count": 30,
   "metadata": {},
   "outputs": [
    {
     "data": {
      "application/vnd.plotly.v1+json": {
       "config": {
        "plotlyServerURL": "https://plot.ly"
       },
       "data": [
        {
         "geo": "geo",
         "hovertemplate": "<b>%{hovertext}</b><br><br>AU_Regions=Southern Africa<br>Year=1950<br>Variable=UrbanLevel<br>Value=%{marker.size}<br>ISO=%{location}<extra></extra>",
         "hovertext": [
          "Angola",
          "Botswana",
          "Lesotho",
          "Mozambique",
          "Malawi",
          "Namibia",
          "Kingdom of Eswatini",
          "South Africa",
          "Zambia",
          "Zimbabwe"
         ],
         "legendgroup": "Southern Africa",
         "locations": [
          "AGO",
          "BWA",
          "LSO",
          "MOZ",
          "MWI",
          "NAM",
          "SWZ",
          "ZAF",
          "ZMB",
          "ZWE"
         ],
         "marker": {
          "color": "#636efa",
          "size": [
           0.0531449610230079,
           0,
           0,
           0.0236743521549646,
           0.010879655448693,
           0.0497421189330248,
           0,
           0.235260064696855,
           0.132997038958443,
           0.181259616425997
          ],
          "sizemode": "area",
          "sizeref": 0.00249999999999936,
          "symbol": "circle"
         },
         "mode": "markers",
         "name": "Southern Africa",
         "showlegend": true,
         "type": "scattergeo"
        },
        {
         "geo": "geo2",
         "hovertemplate": "<b>%{hovertext}</b><br><br>AU_Regions=Southern Africa<br>Year=1950<br>Variable=Mpop<br>Value=%{marker.size}<br>ISO=%{location}<extra></extra>",
         "hovertext": [
          "Angola",
          "Botswana",
          "Lesotho",
          "Mozambique",
          "Malawi",
          "Namibia",
          "Kingdom of Eswatini",
          "South Africa",
          "Zambia",
          "Zimbabwe"
         ],
         "legendgroup": "Southern Africa",
         "locations": [
          "AGO",
          "BWA",
          "LSO",
          "MOZ",
          "MWI",
          "NAM",
          "SWZ",
          "ZAF",
          "ZMB",
          "ZWE"
         ],
         "marker": {
          "color": "#636efa",
          "size": [
           0.643213799364211,
           0,
           0,
           0.686453464835913,
           0.999999999995915,
           0.999999999995051,
           0,
           0.655467283909396,
           0.128389415223741,
           0.748650056664103
          ],
          "sizemode": "area",
          "sizeref": 0.00249999999999936,
          "symbol": "circle"
         },
         "mode": "markers",
         "name": "Southern Africa",
         "showlegend": false,
         "type": "scattergeo"
        },
        {
         "geo": "geo",
         "hovertemplate": "<b>%{hovertext}</b><br><br>AU_Regions=Central Africa<br>Year=1950<br>Variable=UrbanLevel<br>Value=%{marker.size}<br>ISO=%{location}<extra></extra>",
         "hovertext": [
          "Burundi",
          "Central African Republic",
          "Cameroon",
          "Democratic Republic of the Congo",
          "Republic of the Congo",
          "Gabon",
          "Equatorial Guinea",
          "Sao Tome and Principe",
          "Chad"
         ],
         "legendgroup": "Central Africa",
         "locations": [
          "BDI",
          "CAF",
          "CMR",
          "COD",
          "COG",
          "GAB",
          "GNQ",
          "STP",
          "TCD"
         ],
         "marker": {
          "color": "#EF553B",
          "size": [
           0.00932449783786177,
           0.0348665183537264,
           0.081,
           0.045437736495031,
           0.150743412336229,
           0.025440313111546,
           0.248158942530818,
           0,
           0.0252029619056116
          ],
          "sizemode": "area",
          "sizeref": 0.00249999999999936,
          "symbol": "circle"
         },
         "mode": "markers",
         "name": "Central Africa",
         "showlegend": true,
         "type": "scattergeo"
        },
        {
         "geo": "geo2",
         "hovertemplate": "<b>%{hovertext}</b><br><br>AU_Regions=Central Africa<br>Year=1950<br>Variable=Mpop<br>Value=%{marker.size}<br>ISO=%{location}<extra></extra>",
         "hovertext": [
          "Burundi",
          "Central African Republic",
          "Cameroon",
          "Democratic Republic of the Congo",
          "Republic of the Congo",
          "Gabon",
          "Equatorial Guinea",
          "Sao Tome and Principe",
          "Chad"
         ],
         "legendgroup": "Central Africa",
         "locations": [
          "BDI",
          "CAF",
          "CMR",
          "COD",
          "COG",
          "GAB",
          "GNQ",
          "STP",
          "TCD"
         ],
         "marker": {
          "color": "#EF553B",
          "size": [
           0.999999999994724,
           0.999999999997341,
           0.502836169502668,
           0.450094316841515,
           0.999999999999023,
           0.999999999990385,
           0.999999999997972,
           0,
           0.415929203539087
          ],
          "sizemode": "area",
          "sizeref": 0.00249999999999936,
          "symbol": "circle"
         },
         "mode": "markers",
         "name": "Central Africa",
         "showlegend": false,
         "type": "scattergeo"
        },
        {
         "geo": "geo",
         "hovertemplate": "<b>%{hovertext}</b><br><br>AU_Regions=West Africa<br>Year=1950<br>Variable=UrbanLevel<br>Value=%{marker.size}<br>ISO=%{location}<extra></extra>",
         "hovertext": [
          "Benin",
          "Burkina Faso",
          "Cote d`Ivoire",
          "Cabo Verde",
          "Ghana",
          "Guinea",
          "The Gambia",
          "Guinea-Bissau",
          "Liberia",
          "Mali",
          "Niger",
          "Nigeria",
          "Senegal",
          "Sierra Leone",
          "Togo"
         ],
         "legendgroup": "West Africa",
         "locations": [
          "BEN",
          "BFA",
          "CIV",
          "CPV",
          "GHA",
          "GIN",
          "GMB",
          "GNB",
          "LBR",
          "MLI",
          "NER",
          "NGA",
          "SEN",
          "SLE",
          "TGO"
         ],
         "marker": {
          "color": "#00cc96",
          "size": [
           0.056651957049104,
           0.0283043189368771,
           0.0440794132158554,
           0.0672338382760828,
           0.0687195790404752,
           0.0395075993245045,
           0.0944792176926287,
           0.0906988624083934,
           0.0279268292682927,
           0.0418744117647059,
           0.0107695863184654,
           0.106824119496855,
           0.196397358710429,
           0.047387991497851,
           0.0406430787289343
          ],
          "sizemode": "area",
          "sizeref": 0.00249999999999936,
          "symbol": "circle"
         },
         "mode": "markers",
         "name": "West Africa",
         "showlegend": true,
         "type": "scattergeo"
        },
        {
         "geo": "geo2",
         "hovertemplate": "<b>%{hovertext}</b><br><br>AU_Regions=West Africa<br>Year=1950<br>Variable=Mpop<br>Value=%{marker.size}<br>ISO=%{location}<extra></extra>",
         "hovertext": [
          "Benin",
          "Burkina Faso",
          "Cote d`Ivoire",
          "Cabo Verde",
          "Ghana",
          "Guinea",
          "The Gambia",
          "Guinea-Bissau",
          "Liberia",
          "Mali",
          "Niger",
          "Nigeria",
          "Senegal",
          "Sierra Leone",
          "Togo"
         ],
         "legendgroup": "West Africa",
         "locations": [
          "BEN",
          "BFA",
          "CIV",
          "CPV",
          "GHA",
          "GIN",
          "GMB",
          "GNB",
          "LBR",
          "MLI",
          "NER",
          "NGA",
          "SEN",
          "SLE",
          "TGO"
         ],
         "marker": {
          "color": "#00cc96",
          "size": [
           0.561362539154407,
           0.878926240667544,
           0.59769953447364,
           0.999999999990083,
           0.660389342809951,
           0.409448818897177,
           0,
           0.999999999997834,
           0.999999999995633,
           0.581809753253368,
           0,
           0.085043981363592,
           0.566131025957833,
           0.808979600832267,
           0.999999999997656
          ],
          "sizemode": "area",
          "sizeref": 0.00249999999999936,
          "symbol": "circle"
         },
         "mode": "markers",
         "name": "West Africa",
         "showlegend": false,
         "type": "scattergeo"
        },
        {
         "geo": "geo",
         "hovertemplate": "<b>%{hovertext}</b><br><br>AU_Regions=East Africa<br>Year=1950<br>Variable=UrbanLevel<br>Value=%{marker.size}<br>ISO=%{location}<extra></extra>",
         "hovertext": [
          "Comoros",
          "Djibouti",
          "Eritrea",
          "Ethiopia",
          "Kenya",
          "Madagascar",
          "Mauritius",
          "Rwanda",
          "Sudan",
          "Somalia",
          "South Sudan",
          "Seychelles",
          "Tanzania",
          "Uganda"
         ],
         "legendgroup": "East Africa",
         "locations": [
          "COM",
          "DJI",
          "ERI",
          "ETH",
          "KEN",
          "MDG",
          "MUS",
          "RWA",
          "SDN",
          "SOM",
          "SSD",
          "SYC",
          "TZA",
          "UGA"
         ],
         "marker": {
          "color": "#ab63fa",
          "size": [
           0,
           0.638,
           0.115291430505033,
           0.0267635209613706,
           0.0458053876859766,
           0.0773104332148666,
           0.158790212360662,
           0.00623207226598084,
           0.0821604511439942,
           0.0848319296267256,
           0.0081400707191255,
           0.284404178095476,
           0.0248502978440885,
           0.00820646792389537
          ],
          "sizemode": "area",
          "sizeref": 0.00249999999999936,
          "symbol": "circle"
         },
         "mode": "markers",
         "name": "East Africa",
         "showlegend": true,
         "type": "scattergeo"
        },
        {
         "geo": "geo2",
         "hovertemplate": "<b>%{hovertext}</b><br><br>AU_Regions=East Africa<br>Year=1950<br>Variable=Mpop<br>Value=%{marker.size}<br>ISO=%{location}<extra></extra>",
         "hovertext": [
          "Comoros",
          "Djibouti",
          "Eritrea",
          "Ethiopia",
          "Kenya",
          "Madagascar",
          "Mauritius",
          "Rwanda",
          "Sudan",
          "Somalia",
          "South Sudan",
          "Seychelles",
          "Tanzania",
          "Uganda"
         ],
         "legendgroup": "East Africa",
         "locations": [
          "COM",
          "DJI",
          "ERI",
          "ETH",
          "KEN",
          "MDG",
          "MUS",
          "RWA",
          "SDN",
          "SOM",
          "SSD",
          "SYC",
          "TZA",
          "UGA"
         ],
         "marker": {
          "color": "#ab63fa",
          "size": [
           0,
           0.999999999996865,
           0.728827612520194,
           0.721940250179138,
           0.879648104479987,
           0.523437499999843,
           0.999999999998721,
           0.999999999991502,
           0.428987155221991,
           0.505766971512066,
           0.999999999994444,
           0.999999999990258,
           0.401430270485281,
           0.748974569317359
          ],
          "sizemode": "area",
          "sizeref": 0.00249999999999936,
          "symbol": "circle"
         },
         "mode": "markers",
         "name": "East Africa",
         "showlegend": false,
         "type": "scattergeo"
        },
        {
         "geo": "geo",
         "hovertemplate": "<b>%{hovertext}</b><br><br>AU_Regions=North Africa<br>Year=1950<br>Variable=UrbanLevel<br>Value=%{marker.size}<br>ISO=%{location}<extra></extra>",
         "hovertext": [
          "Algeria",
          "Egypt",
          "Libya",
          "Morocco",
          "Mauritania",
          "Tunisia"
         ],
         "legendgroup": "North Africa",
         "locations": [
          "DZA",
          "EGY",
          "LBY",
          "MAR",
          "MRT",
          "TUN"
         ],
         "marker": {
          "color": "#FFA15A",
          "size": [
           0.166299431076292,
           0.265346607298072,
           0.420050331458866,
           0.250322553095094,
           0,
           0.217669664725468
          ],
          "sizemode": "area",
          "sizeref": 0.00249999999999936,
          "symbol": "circle"
         },
         "mode": "markers",
         "name": "North Africa",
         "showlegend": true,
         "type": "scattergeo"
        },
        {
         "geo": "geo2",
         "hovertemplate": "<b>%{hovertext}</b><br><br>AU_Regions=North Africa<br>Year=1950<br>Variable=Mpop<br>Value=%{marker.size}<br>ISO=%{location}<extra></extra>",
         "hovertext": [
          "Algeria",
          "Egypt",
          "Libya",
          "Morocco",
          "Mauritania",
          "Tunisia"
         ],
         "legendgroup": "North Africa",
         "locations": [
          "DZA",
          "EGY",
          "LBY",
          "MAR",
          "MRT",
          "TUN"
         ],
         "marker": {
          "color": "#FFA15A",
          "size": [
           0.289511751874591,
           0.472238741148438,
           0.416063411540795,
           0.399713645446703,
           0,
           0.552185972119621
          ],
          "sizemode": "area",
          "sizeref": 0.00249999999999936,
          "symbol": "circle"
         },
         "mode": "markers",
         "name": "North Africa",
         "showlegend": false,
         "type": "scattergeo"
        }
       ],
       "frames": [
        {
         "data": [
          {
           "geo": "geo",
           "hovertemplate": "<b>%{hovertext}</b><br><br>AU_Regions=Southern Africa<br>Year=1950<br>Variable=UrbanLevel<br>Value=%{marker.size}<br>ISO=%{location}<extra></extra>",
           "hovertext": [
            "Angola",
            "Botswana",
            "Lesotho",
            "Mozambique",
            "Malawi",
            "Namibia",
            "Kingdom of Eswatini",
            "South Africa",
            "Zambia",
            "Zimbabwe"
           ],
           "legendgroup": "Southern Africa",
           "locations": [
            "AGO",
            "BWA",
            "LSO",
            "MOZ",
            "MWI",
            "NAM",
            "SWZ",
            "ZAF",
            "ZMB",
            "ZWE"
           ],
           "marker": {
            "color": "#636efa",
            "size": [
             0.0531449610230079,
             0,
             0,
             0.0236743521549646,
             0.010879655448693,
             0.0497421189330248,
             0,
             0.235260064696855,
             0.132997038958443,
             0.181259616425997
            ],
            "sizemode": "area",
            "sizeref": 0.00249999999999936,
            "symbol": "circle"
           },
           "mode": "markers",
           "name": "Southern Africa",
           "showlegend": true,
           "type": "scattergeo"
          },
          {
           "geo": "geo2",
           "hovertemplate": "<b>%{hovertext}</b><br><br>AU_Regions=Southern Africa<br>Year=1950<br>Variable=Mpop<br>Value=%{marker.size}<br>ISO=%{location}<extra></extra>",
           "hovertext": [
            "Angola",
            "Botswana",
            "Lesotho",
            "Mozambique",
            "Malawi",
            "Namibia",
            "Kingdom of Eswatini",
            "South Africa",
            "Zambia",
            "Zimbabwe"
           ],
           "legendgroup": "Southern Africa",
           "locations": [
            "AGO",
            "BWA",
            "LSO",
            "MOZ",
            "MWI",
            "NAM",
            "SWZ",
            "ZAF",
            "ZMB",
            "ZWE"
           ],
           "marker": {
            "color": "#636efa",
            "size": [
             0.643213799364211,
             0,
             0,
             0.686453464835913,
             0.999999999995915,
             0.999999999995051,
             0,
             0.655467283909396,
             0.128389415223741,
             0.748650056664103
            ],
            "sizemode": "area",
            "sizeref": 0.00249999999999936,
            "symbol": "circle"
           },
           "mode": "markers",
           "name": "Southern Africa",
           "showlegend": false,
           "type": "scattergeo"
          },
          {
           "geo": "geo",
           "hovertemplate": "<b>%{hovertext}</b><br><br>AU_Regions=Central Africa<br>Year=1950<br>Variable=UrbanLevel<br>Value=%{marker.size}<br>ISO=%{location}<extra></extra>",
           "hovertext": [
            "Burundi",
            "Central African Republic",
            "Cameroon",
            "Democratic Republic of the Congo",
            "Republic of the Congo",
            "Gabon",
            "Equatorial Guinea",
            "Sao Tome and Principe",
            "Chad"
           ],
           "legendgroup": "Central Africa",
           "locations": [
            "BDI",
            "CAF",
            "CMR",
            "COD",
            "COG",
            "GAB",
            "GNQ",
            "STP",
            "TCD"
           ],
           "marker": {
            "color": "#EF553B",
            "size": [
             0.00932449783786177,
             0.0348665183537264,
             0.081,
             0.045437736495031,
             0.150743412336229,
             0.025440313111546,
             0.248158942530818,
             0,
             0.0252029619056116
            ],
            "sizemode": "area",
            "sizeref": 0.00249999999999936,
            "symbol": "circle"
           },
           "mode": "markers",
           "name": "Central Africa",
           "showlegend": true,
           "type": "scattergeo"
          },
          {
           "geo": "geo2",
           "hovertemplate": "<b>%{hovertext}</b><br><br>AU_Regions=Central Africa<br>Year=1950<br>Variable=Mpop<br>Value=%{marker.size}<br>ISO=%{location}<extra></extra>",
           "hovertext": [
            "Burundi",
            "Central African Republic",
            "Cameroon",
            "Democratic Republic of the Congo",
            "Republic of the Congo",
            "Gabon",
            "Equatorial Guinea",
            "Sao Tome and Principe",
            "Chad"
           ],
           "legendgroup": "Central Africa",
           "locations": [
            "BDI",
            "CAF",
            "CMR",
            "COD",
            "COG",
            "GAB",
            "GNQ",
            "STP",
            "TCD"
           ],
           "marker": {
            "color": "#EF553B",
            "size": [
             0.999999999994724,
             0.999999999997341,
             0.502836169502668,
             0.450094316841515,
             0.999999999999023,
             0.999999999990385,
             0.999999999997972,
             0,
             0.415929203539087
            ],
            "sizemode": "area",
            "sizeref": 0.00249999999999936,
            "symbol": "circle"
           },
           "mode": "markers",
           "name": "Central Africa",
           "showlegend": false,
           "type": "scattergeo"
          },
          {
           "geo": "geo",
           "hovertemplate": "<b>%{hovertext}</b><br><br>AU_Regions=West Africa<br>Year=1950<br>Variable=UrbanLevel<br>Value=%{marker.size}<br>ISO=%{location}<extra></extra>",
           "hovertext": [
            "Benin",
            "Burkina Faso",
            "Cote d`Ivoire",
            "Cabo Verde",
            "Ghana",
            "Guinea",
            "The Gambia",
            "Guinea-Bissau",
            "Liberia",
            "Mali",
            "Niger",
            "Nigeria",
            "Senegal",
            "Sierra Leone",
            "Togo"
           ],
           "legendgroup": "West Africa",
           "locations": [
            "BEN",
            "BFA",
            "CIV",
            "CPV",
            "GHA",
            "GIN",
            "GMB",
            "GNB",
            "LBR",
            "MLI",
            "NER",
            "NGA",
            "SEN",
            "SLE",
            "TGO"
           ],
           "marker": {
            "color": "#00cc96",
            "size": [
             0.056651957049104,
             0.0283043189368771,
             0.0440794132158554,
             0.0672338382760828,
             0.0687195790404752,
             0.0395075993245045,
             0.0944792176926287,
             0.0906988624083934,
             0.0279268292682927,
             0.0418744117647059,
             0.0107695863184654,
             0.106824119496855,
             0.196397358710429,
             0.047387991497851,
             0.0406430787289343
            ],
            "sizemode": "area",
            "sizeref": 0.00249999999999936,
            "symbol": "circle"
           },
           "mode": "markers",
           "name": "West Africa",
           "showlegend": true,
           "type": "scattergeo"
          },
          {
           "geo": "geo2",
           "hovertemplate": "<b>%{hovertext}</b><br><br>AU_Regions=West Africa<br>Year=1950<br>Variable=Mpop<br>Value=%{marker.size}<br>ISO=%{location}<extra></extra>",
           "hovertext": [
            "Benin",
            "Burkina Faso",
            "Cote d`Ivoire",
            "Cabo Verde",
            "Ghana",
            "Guinea",
            "The Gambia",
            "Guinea-Bissau",
            "Liberia",
            "Mali",
            "Niger",
            "Nigeria",
            "Senegal",
            "Sierra Leone",
            "Togo"
           ],
           "legendgroup": "West Africa",
           "locations": [
            "BEN",
            "BFA",
            "CIV",
            "CPV",
            "GHA",
            "GIN",
            "GMB",
            "GNB",
            "LBR",
            "MLI",
            "NER",
            "NGA",
            "SEN",
            "SLE",
            "TGO"
           ],
           "marker": {
            "color": "#00cc96",
            "size": [
             0.561362539154407,
             0.878926240667544,
             0.59769953447364,
             0.999999999990083,
             0.660389342809951,
             0.409448818897177,
             0,
             0.999999999997834,
             0.999999999995633,
             0.581809753253368,
             0,
             0.085043981363592,
             0.566131025957833,
             0.808979600832267,
             0.999999999997656
            ],
            "sizemode": "area",
            "sizeref": 0.00249999999999936,
            "symbol": "circle"
           },
           "mode": "markers",
           "name": "West Africa",
           "showlegend": false,
           "type": "scattergeo"
          },
          {
           "geo": "geo",
           "hovertemplate": "<b>%{hovertext}</b><br><br>AU_Regions=East Africa<br>Year=1950<br>Variable=UrbanLevel<br>Value=%{marker.size}<br>ISO=%{location}<extra></extra>",
           "hovertext": [
            "Comoros",
            "Djibouti",
            "Eritrea",
            "Ethiopia",
            "Kenya",
            "Madagascar",
            "Mauritius",
            "Rwanda",
            "Sudan",
            "Somalia",
            "South Sudan",
            "Seychelles",
            "Tanzania",
            "Uganda"
           ],
           "legendgroup": "East Africa",
           "locations": [
            "COM",
            "DJI",
            "ERI",
            "ETH",
            "KEN",
            "MDG",
            "MUS",
            "RWA",
            "SDN",
            "SOM",
            "SSD",
            "SYC",
            "TZA",
            "UGA"
           ],
           "marker": {
            "color": "#ab63fa",
            "size": [
             0,
             0.638,
             0.115291430505033,
             0.0267635209613706,
             0.0458053876859766,
             0.0773104332148666,
             0.158790212360662,
             0.00623207226598084,
             0.0821604511439942,
             0.0848319296267256,
             0.0081400707191255,
             0.284404178095476,
             0.0248502978440885,
             0.00820646792389537
            ],
            "sizemode": "area",
            "sizeref": 0.00249999999999936,
            "symbol": "circle"
           },
           "mode": "markers",
           "name": "East Africa",
           "showlegend": true,
           "type": "scattergeo"
          },
          {
           "geo": "geo2",
           "hovertemplate": "<b>%{hovertext}</b><br><br>AU_Regions=East Africa<br>Year=1950<br>Variable=Mpop<br>Value=%{marker.size}<br>ISO=%{location}<extra></extra>",
           "hovertext": [
            "Comoros",
            "Djibouti",
            "Eritrea",
            "Ethiopia",
            "Kenya",
            "Madagascar",
            "Mauritius",
            "Rwanda",
            "Sudan",
            "Somalia",
            "South Sudan",
            "Seychelles",
            "Tanzania",
            "Uganda"
           ],
           "legendgroup": "East Africa",
           "locations": [
            "COM",
            "DJI",
            "ERI",
            "ETH",
            "KEN",
            "MDG",
            "MUS",
            "RWA",
            "SDN",
            "SOM",
            "SSD",
            "SYC",
            "TZA",
            "UGA"
           ],
           "marker": {
            "color": "#ab63fa",
            "size": [
             0,
             0.999999999996865,
             0.728827612520194,
             0.721940250179138,
             0.879648104479987,
             0.523437499999843,
             0.999999999998721,
             0.999999999991502,
             0.428987155221991,
             0.505766971512066,
             0.999999999994444,
             0.999999999990258,
             0.401430270485281,
             0.748974569317359
            ],
            "sizemode": "area",
            "sizeref": 0.00249999999999936,
            "symbol": "circle"
           },
           "mode": "markers",
           "name": "East Africa",
           "showlegend": false,
           "type": "scattergeo"
          },
          {
           "geo": "geo",
           "hovertemplate": "<b>%{hovertext}</b><br><br>AU_Regions=North Africa<br>Year=1950<br>Variable=UrbanLevel<br>Value=%{marker.size}<br>ISO=%{location}<extra></extra>",
           "hovertext": [
            "Algeria",
            "Egypt",
            "Libya",
            "Morocco",
            "Mauritania",
            "Tunisia"
           ],
           "legendgroup": "North Africa",
           "locations": [
            "DZA",
            "EGY",
            "LBY",
            "MAR",
            "MRT",
            "TUN"
           ],
           "marker": {
            "color": "#FFA15A",
            "size": [
             0.166299431076292,
             0.265346607298072,
             0.420050331458866,
             0.250322553095094,
             0,
             0.217669664725468
            ],
            "sizemode": "area",
            "sizeref": 0.00249999999999936,
            "symbol": "circle"
           },
           "mode": "markers",
           "name": "North Africa",
           "showlegend": true,
           "type": "scattergeo"
          },
          {
           "geo": "geo2",
           "hovertemplate": "<b>%{hovertext}</b><br><br>AU_Regions=North Africa<br>Year=1950<br>Variable=Mpop<br>Value=%{marker.size}<br>ISO=%{location}<extra></extra>",
           "hovertext": [
            "Algeria",
            "Egypt",
            "Libya",
            "Morocco",
            "Mauritania",
            "Tunisia"
           ],
           "legendgroup": "North Africa",
           "locations": [
            "DZA",
            "EGY",
            "LBY",
            "MAR",
            "MRT",
            "TUN"
           ],
           "marker": {
            "color": "#FFA15A",
            "size": [
             0.289511751874591,
             0.472238741148438,
             0.416063411540795,
             0.399713645446703,
             0,
             0.552185972119621
            ],
            "sizemode": "area",
            "sizeref": 0.00249999999999936,
            "symbol": "circle"
           },
           "mode": "markers",
           "name": "North Africa",
           "showlegend": false,
           "type": "scattergeo"
          }
         ],
         "name": "1950"
        },
        {
         "data": [
          {
           "geo": "geo",
           "hovertemplate": "<b>%{hovertext}</b><br><br>AU_Regions=Southern Africa<br>Year=1960<br>Variable=UrbanLevel<br>Value=%{marker.size}<br>ISO=%{location}<extra></extra>",
           "hovertext": [
            "Angola",
            "Botswana",
            "Lesotho",
            "Mozambique",
            "Malawi",
            "Namibia",
            "Kingdom of Eswatini",
            "South Africa",
            "Zambia",
            "Zimbabwe"
           ],
           "legendgroup": "Southern Africa",
           "locations": [
            "AGO",
            "BWA",
            "LSO",
            "MOZ",
            "MWI",
            "NAM",
            "SWZ",
            "ZAF",
            "ZMB",
            "ZWE"
           ],
           "marker": {
            "color": "#636efa",
            "size": [
             0.0770061610952826,
             0,
             0.0157361661102678,
             0.0398907932655847,
             0.0330115329258737,
             0.0929425376012341,
             0,
             0.289147985146472,
             0.19051002484798,
             0.263054082350306
            ],
            "sizemode": "area",
            "sizeref": 0.00249999999999936,
            "symbol": "circle"
           },
           "mode": "markers",
           "name": "Southern Africa",
           "showlegend": true,
           "type": "scattergeo"
          },
          {
           "geo": "geo2",
           "hovertemplate": "<b>%{hovertext}</b><br><br>AU_Regions=Southern Africa<br>Year=1960<br>Variable=Mpop<br>Value=%{marker.size}<br>ISO=%{location}<extra></extra>",
           "hovertext": [
            "Angola",
            "Botswana",
            "Lesotho",
            "Mozambique",
            "Malawi",
            "Namibia",
            "Kingdom of Eswatini",
            "South Africa",
            "Zambia",
            "Zimbabwe"
           ],
           "legendgroup": "Southern Africa",
           "locations": [
            "AGO",
            "BWA",
            "LSO",
            "MOZ",
            "MWI",
            "NAM",
            "SWZ",
            "ZAF",
            "ZMB",
            "ZWE"
           ],
           "marker": {
            "color": "#636efa",
            "size": [
             0.58565840938707,
             0,
             0.999999999991223,
             0.698859315589088,
             0.869451749142492,
             0.74688796680343,
             0,
             0.643388525078203,
             0.185289709676068,
             0.750272745608481
            ],
            "sizemode": "area",
            "sizeref": 0.00249999999999936,
            "symbol": "circle"
           },
           "mode": "markers",
           "name": "Southern Africa",
           "showlegend": false,
           "type": "scattergeo"
          },
          {
           "geo": "geo",
           "hovertemplate": "<b>%{hovertext}</b><br><br>AU_Regions=Central Africa<br>Year=1960<br>Variable=UrbanLevel<br>Value=%{marker.size}<br>ISO=%{location}<extra></extra>",
           "hovertext": [
            "Burundi",
            "Central African Republic",
            "Cameroon",
            "Democratic Republic of the Congo",
            "Republic of the Congo",
            "Gabon",
            "Equatorial Guinea",
            "Sao Tome and Principe",
            "Chad"
           ],
           "legendgroup": "Central Africa",
           "locations": [
            "BDI",
            "CAF",
            "CMR",
            "COD",
            "COG",
            "GAB",
            "GNQ",
            "STP",
            "TCD"
           ],
           "marker": {
            "color": "#EF553B",
            "size": [
             0.0180846935985961,
             0.118216662454722,
             0.107340716227642,
             0.121725373843186,
             0.199569344308305,
             0.102318323673651,
             0.237002467590014,
             0,
             0.0470215261487512
            ],
            "sizemode": "area",
            "sizeref": 0.00249999999999936,
            "symbol": "circle"
           },
           "mode": "markers",
           "name": "Central Africa",
           "showlegend": true,
           "type": "scattergeo"
          },
          {
           "geo": "geo2",
           "hovertemplate": "<b>%{hovertext}</b><br><br>AU_Regions=Central Africa<br>Year=1960<br>Variable=Mpop<br>Value=%{marker.size}<br>ISO=%{location}<extra></extra>",
           "hovertext": [
            "Burundi",
            "Central African Republic",
            "Cameroon",
            "Democratic Republic of the Congo",
            "Republic of the Congo",
            "Gabon",
            "Equatorial Guinea",
            "Sao Tome and Principe",
            "Chad"
           ],
           "legendgroup": "Central Africa",
           "locations": [
            "BDI",
            "CAF",
            "CMR",
            "COD",
            "COG",
            "GAB",
            "GNQ",
            "STP",
            "TCD"
           ],
           "marker": {
            "color": "#EF553B",
            "size": [
             0.999999999997968,
             0.598660348451492,
             0.423167848699673,
             0.367990565297819,
             0.933717579250182,
             0.596949891066238,
             0.999999999998285,
             0,
             0.481585550158847
            ],
            "sizemode": "area",
            "sizeref": 0.00249999999999936,
            "symbol": "circle"
           },
           "mode": "markers",
           "name": "Central Africa",
           "showlegend": false,
           "type": "scattergeo"
          },
          {
           "geo": "geo",
           "hovertemplate": "<b>%{hovertext}</b><br><br>AU_Regions=West Africa<br>Year=1960<br>Variable=UrbanLevel<br>Value=%{marker.size}<br>ISO=%{location}<extra></extra>",
           "hovertext": [
            "Benin",
            "Burkina Faso",
            "Cote d`Ivoire",
            "Cabo Verde",
            "Ghana",
            "Guinea",
            "The Gambia",
            "Guinea-Bissau",
            "Liberia",
            "Mali",
            "Niger",
            "Nigeria",
            "Senegal",
            "Sierra Leone",
            "Togo"
           ],
           "legendgroup": "West Africa",
           "locations": [
            "BEN",
            "BFA",
            "CIV",
            "CPV",
            "GHA",
            "GIN",
            "GMB",
            "GNB",
            "LBR",
            "MLI",
            "NER",
            "NGA",
            "SEN",
            "SLE",
            "TGO"
           ],
           "marker": {
            "color": "#00cc96",
            "size": [
             0.107165847116674,
             0.0342827574784862,
             0.120135125602341,
             0.157577212834289,
             0.151297793899031,
             0.0762958235836347,
             0.0833189135892756,
             0.0948619910664837,
             0.0679155707081707,
             0.048926693853486,
             0.0293884954826107,
             0.191815447361713,
             0.218322901412116,
             0.0748740536299965,
             0.103075934580228
            ],
            "sizemode": "area",
            "sizeref": 0.00249999999999936,
            "symbol": "circle"
           },
           "mode": "markers",
           "name": "West Africa",
           "showlegend": true,
           "type": "scattergeo"
          },
          {
           "geo": "geo2",
           "hovertemplate": "<b>%{hovertext}</b><br><br>AU_Regions=West Africa<br>Year=1960<br>Variable=Mpop<br>Value=%{marker.size}<br>ISO=%{location}<extra></extra>",
           "hovertext": [
            "Benin",
            "Burkina Faso",
            "Cote d`Ivoire",
            "Cabo Verde",
            "Ghana",
            "Guinea",
            "The Gambia",
            "Guinea-Bissau",
            "Liberia",
            "Mali",
            "Niger",
            "Nigeria",
            "Senegal",
            "Sierra Leone",
            "Togo"
           ],
           "legendgroup": "West Africa",
           "locations": [
            "BEN",
            "BFA",
            "CIV",
            "CPV",
            "GHA",
            "GIN",
            "GMB",
            "GNB",
            "LBR",
            "MLI",
            "NER",
            "NGA",
            "SEN",
            "SLE",
            "TGO"
           ],
           "marker": {
            "color": "#00cc96",
            "size": [
             0.593584449171738,
             0.788092877786691,
             0.591420641858644,
             0.999999999996825,
             0.509400147383885,
             0.550416002832116,
             0,
             0.999999999997994,
             0.999999999998458,
             0.644317913647429,
             0.396128097995921,
             0.110635196121685,
             0.571868744961902,
             0.710266865279293,
             0.825717900145628
            ],
            "sizemode": "area",
            "sizeref": 0.00249999999999936,
            "symbol": "circle"
           },
           "mode": "markers",
           "name": "West Africa",
           "showlegend": false,
           "type": "scattergeo"
          },
          {
           "geo": "geo",
           "hovertemplate": "<b>%{hovertext}</b><br><br>AU_Regions=East Africa<br>Year=1960<br>Variable=UrbanLevel<br>Value=%{marker.size}<br>ISO=%{location}<extra></extra>",
           "hovertext": [
            "Comoros",
            "Djibouti",
            "Eritrea",
            "Ethiopia",
            "Kenya",
            "Madagascar",
            "Mauritius",
            "Rwanda",
            "Sudan",
            "Somalia",
            "South Sudan",
            "Seychelles",
            "Tanzania",
            "Uganda"
           ],
           "legendgroup": "East Africa",
           "locations": [
            "COM",
            "DJI",
            "ERI",
            "ETH",
            "KEN",
            "MDG",
            "MUS",
            "RWA",
            "SDN",
            "SOM",
            "SSD",
            "SYC",
            "TZA",
            "UGA"
           ],
           "marker": {
            "color": "#ab63fa",
            "size": [
             0,
             0.477040816326531,
             0.12032146799117,
             0.0352762587158361,
             0.0650313098213064,
             0.086375,
             0.210236621216149,
             0,
             0.105046351194831,
             0.120461434977578,
             0.01569874780604,
             0.323283041641521,
             0.0435622099001134,
             0.0286138117012268
            ],
            "sizemode": "area",
            "sizeref": 0.00249999999999936,
            "symbol": "circle"
           },
           "mode": "markers",
           "name": "East Africa",
           "showlegend": true,
           "type": "scattergeo"
          },
          {
           "geo": "geo2",
           "hovertemplate": "<b>%{hovertext}</b><br><br>AU_Regions=East Africa<br>Year=1960<br>Variable=Mpop<br>Value=%{marker.size}<br>ISO=%{location}<extra></extra>",
           "hovertext": [
            "Comoros",
            "Djibouti",
            "Eritrea",
            "Ethiopia",
            "Kenya",
            "Madagascar",
            "Mauritius",
            "Rwanda",
            "Sudan",
            "Somalia",
            "South Sudan",
            "Seychelles",
            "Tanzania",
            "Uganda"
           ],
           "legendgroup": "East Africa",
           "locations": [
            "COM",
            "DJI",
            "ERI",
            "ETH",
            "KEN",
            "MDG",
            "MUS",
            "RWA",
            "SDN",
            "SOM",
            "SSD",
            "SYC",
            "TZA",
            "UGA"
           ],
           "marker": {
            "color": "#ab63fa",
            "size": [
             0,
             0.999999999997326,
             0.708069121305881,
             0.696165620124365,
             0.871837277207986,
             0.426504031424349,
             0.808336284080553,
             0,
             0.394339101619984,
             0.521105316253822,
             0.382351618704176,
             0.999999999992533,
             0.375529552503026,
             0.697202359716928
            ],
            "sizemode": "area",
            "sizeref": 0.00249999999999936,
            "symbol": "circle"
           },
           "mode": "markers",
           "name": "East Africa",
           "showlegend": false,
           "type": "scattergeo"
          },
          {
           "geo": "geo",
           "hovertemplate": "<b>%{hovertext}</b><br><br>AU_Regions=North Africa<br>Year=1960<br>Variable=UrbanLevel<br>Value=%{marker.size}<br>ISO=%{location}<extra></extra>",
           "hovertext": [
            "Algeria",
            "Egypt",
            "Libya",
            "Morocco",
            "Mauritania",
            "Tunisia"
           ],
           "legendgroup": "North Africa",
           "locations": [
            "DZA",
            "EGY",
            "LBY",
            "MAR",
            "MRT",
            "TUN"
           ],
           "marker": {
            "color": "#FFA15A",
            "size": [
             0.290404715550207,
             0.310373272303165,
             0.436640671118244,
             0.265227652148168,
             0,
             0.233047964088123
            ],
            "sizemode": "area",
            "sizeref": 0.00249999999999936,
            "symbol": "circle"
           },
           "mode": "markers",
           "name": "North Africa",
           "showlegend": true,
           "type": "scattergeo"
          },
          {
           "geo": "geo2",
           "hovertemplate": "<b>%{hovertext}</b><br><br>AU_Regions=North Africa<br>Year=1960<br>Variable=Mpop<br>Value=%{marker.size}<br>ISO=%{location}<extra></extra>",
           "hovertext": [
            "Algeria",
            "Egypt",
            "Libya",
            "Morocco",
            "Mauritania",
            "Tunisia"
           ],
           "legendgroup": "North Africa",
           "locations": [
            "DZA",
            "EGY",
            "LBY",
            "MAR",
            "MRT",
            "TUN"
           ],
           "marker": {
            "color": "#FFA15A",
            "size": [
             0.247740074623729,
             0.485209914769334,
             0.489072356152109,
             0.409256430317046,
             0,
             0.509174634383763
            ],
            "sizemode": "area",
            "sizeref": 0.00249999999999936,
            "symbol": "circle"
           },
           "mode": "markers",
           "name": "North Africa",
           "showlegend": false,
           "type": "scattergeo"
          }
         ],
         "name": "1960"
        },
        {
         "data": [
          {
           "geo": "geo",
           "hovertemplate": "<b>%{hovertext}</b><br><br>AU_Regions=Southern Africa<br>Year=1970<br>Variable=UrbanLevel<br>Value=%{marker.size}<br>ISO=%{location}<extra></extra>",
           "hovertext": [
            "Angola",
            "Botswana",
            "Lesotho",
            "Mozambique",
            "Malawi",
            "Namibia",
            "Kingdom of Eswatini",
            "South Africa",
            "Zambia",
            "Zimbabwe"
           ],
           "legendgroup": "Southern Africa",
           "locations": [
            "AGO",
            "BWA",
            "LSO",
            "MOZ",
            "MWI",
            "NAM",
            "SWZ",
            "ZAF",
            "ZMB",
            "ZWE"
           ],
           "marker": {
            "color": "#636efa",
            "size": [
             0.13779686959257,
             0.134614308935923,
             0.051199127100817,
             0.0715455731898979,
             0.0458538888024943,
             0.142282958199357,
             0.0890874343048256,
             0.339568144105031,
             0.269677852259119,
             0.162033551938777
            ],
            "sizemode": "area",
            "sizeref": 0.00249999999999936,
            "symbol": "circle"
           },
           "mode": "markers",
           "name": "Southern Africa",
           "showlegend": true,
           "type": "scattergeo"
          },
          {
           "geo": "geo2",
           "hovertemplate": "<b>%{hovertext}</b><br><br>AU_Regions=Southern Africa<br>Year=1970<br>Variable=Mpop<br>Value=%{marker.size}<br>ISO=%{location}<extra></extra>",
           "hovertext": [
            "Angola",
            "Botswana",
            "Lesotho",
            "Mozambique",
            "Malawi",
            "Namibia",
            "Kingdom of Eswatini",
            "South Africa",
            "Zambia",
            "Zimbabwe"
           ],
           "legendgroup": "Southern Africa",
           "locations": [
            "AGO",
            "BWA",
            "LSO",
            "MOZ",
            "MWI",
            "NAM",
            "SWZ",
            "ZAF",
            "ZMB",
            "ZWE"
           ],
           "marker": {
            "color": "#636efa",
            "size": [
             0.610942593030471,
             0.180362134528469,
             0.741368103837345,
             0.75276279113862,
             0.846380311433758,
             0.581920903954254,
             0.999999999997318,
             0.621156846281218,
             0.227580623565142,
             0.738751017848533
            ],
            "sizemode": "area",
            "sizeref": 0.00249999999999936,
            "symbol": "circle"
           },
           "mode": "markers",
           "name": "Southern Africa",
           "showlegend": false,
           "type": "scattergeo"
          },
          {
           "geo": "geo",
           "hovertemplate": "<b>%{hovertext}</b><br><br>AU_Regions=Central Africa<br>Year=1970<br>Variable=UrbanLevel<br>Value=%{marker.size}<br>ISO=%{location}<extra></extra>",
           "hovertext": [
            "Burundi",
            "Central African Republic",
            "Cameroon",
            "Democratic Republic of the Congo",
            "Republic of the Congo",
            "Gabon",
            "Equatorial Guinea",
            "Sao Tome and Principe",
            "Chad"
           ],
           "legendgroup": "Central Africa",
           "locations": [
            "BDI",
            "CAF",
            "CMR",
            "COD",
            "COG",
            "GAB",
            "GNQ",
            "STP",
            "TCD"
           ],
           "marker": {
            "color": "#EF553B",
            "size": [
             0.0274969054651988,
             0.224133179803521,
             0.186080740651809,
             0.216236574781344,
             0.32906915799449,
             0.197872340425532,
             0.245630897620737,
             0.265541536505876,
             0.092849920443993
            ],
            "sizemode": "area",
            "sizeref": 0.00249999999999936,
            "symbol": "circle"
           },
           "mode": "markers",
           "name": "Central Africa",
           "showlegend": true,
           "type": "scattergeo"
          },
          {
           "geo": "geo2",
           "hovertemplate": "<b>%{hovertext}</b><br><br>AU_Regions=Central Africa<br>Year=1970<br>Variable=Mpop<br>Value=%{marker.size}<br>ISO=%{location}<extra></extra>",
           "hovertext": [
            "Burundi",
            "Central African Republic",
            "Cameroon",
            "Democratic Republic of the Congo",
            "Republic of the Congo",
            "Gabon",
            "Equatorial Guinea",
            "Sao Tome and Principe",
            "Chad"
           ],
           "legendgroup": "Central Africa",
           "locations": [
            "BDI",
            "CAF",
            "CMR",
            "COD",
            "COG",
            "GAB",
            "GNQ",
            "STP",
            "TCD"
           ],
           "marker": {
            "color": "#EF553B",
            "size": [
             0.999999999998954,
             0.526539979851951,
             0.438620438620399,
             0.327815220698566,
             0.886874564272836,
             0.697947214075564,
             0.999999999998447,
             0.999999999994907,
             0.472670198280172
            ],
            "sizemode": "area",
            "sizeref": 0.00249999999999936,
            "symbol": "circle"
           },
           "mode": "markers",
           "name": "Central Africa",
           "showlegend": false,
           "type": "scattergeo"
          },
          {
           "geo": "geo",
           "hovertemplate": "<b>%{hovertext}</b><br><br>AU_Regions=West Africa<br>Year=1970<br>Variable=UrbanLevel<br>Value=%{marker.size}<br>ISO=%{location}<extra></extra>",
           "hovertext": [
            "Benin",
            "Burkina Faso",
            "Cote d`Ivoire",
            "Cabo Verde",
            "Ghana",
            "Guinea",
            "The Gambia",
            "Guinea-Bissau",
            "Liberia",
            "Mali",
            "Niger",
            "Nigeria",
            "Senegal",
            "Sierra Leone",
            "Togo"
           ],
           "legendgroup": "West Africa",
           "locations": [
            "BEN",
            "BFA",
            "CIV",
            "CPV",
            "GHA",
            "GIN",
            "GMB",
            "GNB",
            "LBR",
            "MLI",
            "NER",
            "NGA",
            "SEN",
            "SLE",
            "TGO"
           ],
           "marker": {
            "color": "#00cc96",
            "size": [
             0.13634219269103,
             0.0610313555906222,
             0.22288059391352,
             0.185375904929006,
             0.208431681374428,
             0.13752909860859,
             0.147579904071573,
             0.243250562111241,
             0.140460732999756,
             0.0775208118092626,
             0.0537811595020169,
             0.226484787018256,
             0.257023216592679,
             0.132872835610412,
             0.197816050772853
            ],
            "sizemode": "area",
            "sizeref": 0.00249999999999936,
            "symbol": "circle"
           },
           "mode": "markers",
           "name": "West Africa",
           "showlegend": true,
           "type": "scattergeo"
          },
          {
           "geo": "geo2",
           "hovertemplate": "<b>%{hovertext}</b><br><br>AU_Regions=West Africa<br>Year=1970<br>Variable=Mpop<br>Value=%{marker.size}<br>ISO=%{location}<extra></extra>",
           "hovertext": [
            "Benin",
            "Burkina Faso",
            "Cote d`Ivoire",
            "Cabo Verde",
            "Ghana",
            "Guinea",
            "The Gambia",
            "Guinea-Bissau",
            "Liberia",
            "Mali",
            "Niger",
            "Nigeria",
            "Senegal",
            "Sierra Leone",
            "Togo"
           ],
           "legendgroup": "West Africa",
           "locations": [
            "BEN",
            "BFA",
            "CIV",
            "CPV",
            "GHA",
            "GIN",
            "GMB",
            "GNB",
            "LBR",
            "MLI",
            "NER",
            "NGA",
            "SEN",
            "SLE",
            "TGO"
           ],
           "marker": {
            "color": "#00cc96",
            "size": [
             0.687256836992268,
             0.744629717821438,
             0.492297834579058,
             0.999999999998012,
             0.543951565891164,
             0.625009017505287,
             0.44331433717846,
             0.999999999999157,
             0.788694340336316,
             0.511563716291884,
             0.467759745381108,
             0.135235587558325,
             0.574208353211815,
             0.615893267995155,
             0.488691903863592
            ],
            "sizemode": "area",
            "sizeref": 0.00249999999999936,
            "symbol": "circle"
           },
           "mode": "markers",
           "name": "West Africa",
           "showlegend": false,
           "type": "scattergeo"
          },
          {
           "geo": "geo",
           "hovertemplate": "<b>%{hovertext}</b><br><br>AU_Regions=East Africa<br>Year=1970<br>Variable=UrbanLevel<br>Value=%{marker.size}<br>ISO=%{location}<extra></extra>",
           "hovertext": [
            "Comoros",
            "Djibouti",
            "Eritrea",
            "Ethiopia",
            "Kenya",
            "Madagascar",
            "Mauritius",
            "Rwanda",
            "Sudan",
            "Somalia",
            "South Sudan",
            "Seychelles",
            "Tanzania",
            "Uganda"
           ],
           "legendgroup": "East Africa",
           "locations": [
            "COM",
            "DJI",
            "ERI",
            "ETH",
            "KEN",
            "MDG",
            "MUS",
            "RWA",
            "SDN",
            "SOM",
            "SSD",
            "SYC",
            "TZA",
            "UGA"
           ],
           "marker": {
            "color": "#ab63fa",
            "size": [
             0.0537351200936106,
             0.610192837465565,
             0.179251777451755,
             0.0531677188247956,
             0.0810457214885925,
             0.121303800035769,
             0.522839581602229,
             0.0152777408107317,
             0.151497153285942,
             0.138931608682724,
             0.053511666960113,
             0.376966791665056,
             0.0656205900041892,
             0.0494958242934174
            ],
            "sizemode": "area",
            "sizeref": 0.00249999999999936,
            "symbol": "circle"
           },
           "mode": "markers",
           "name": "East Africa",
           "showlegend": true,
           "type": "scattergeo"
          },
          {
           "geo": "geo2",
           "hovertemplate": "<b>%{hovertext}</b><br><br>AU_Regions=East Africa<br>Year=1970<br>Variable=Mpop<br>Value=%{marker.size}<br>ISO=%{location}<extra></extra>",
           "hovertext": [
            "Comoros",
            "Djibouti",
            "Eritrea",
            "Ethiopia",
            "Kenya",
            "Madagascar",
            "Mauritius",
            "Rwanda",
            "Sudan",
            "Somalia",
            "South Sudan",
            "Seychelles",
            "Tanzania",
            "Uganda"
           ],
           "legendgroup": "East Africa",
           "locations": [
            "COM",
            "DJI",
            "ERI",
            "ETH",
            "KEN",
            "MDG",
            "MUS",
            "RWA",
            "SDN",
            "SOM",
            "SSD",
            "SYC",
            "TZA",
            "UGA"
           ],
           "marker": {
            "color": "#ab63fa",
            "size": [
             0.999999999992305,
             0.999999999998871,
             0.687379985519348,
             0.601160173421711,
             0.857340030155229,
             0.450343352285511,
             0.807170852897063,
             0.999999999998258,
             0.391512266823651,
             0.610810162939939,
             0.273436008400513,
             0.999999999994872,
             0.396452966306173,
             0.703672829418895
            ],
            "sizemode": "area",
            "sizeref": 0.00249999999999936,
            "symbol": "circle"
           },
           "mode": "markers",
           "name": "East Africa",
           "showlegend": false,
           "type": "scattergeo"
          },
          {
           "geo": "geo",
           "hovertemplate": "<b>%{hovertext}</b><br><br>AU_Regions=North Africa<br>Year=1970<br>Variable=UrbanLevel<br>Value=%{marker.size}<br>ISO=%{location}<extra></extra>",
           "hovertext": [
            "Algeria",
            "Egypt",
            "Libya",
            "Morocco",
            "Mauritania",
            "Tunisia"
           ],
           "legendgroup": "North Africa",
           "locations": [
            "DZA",
            "EGY",
            "LBY",
            "MAR",
            "MRT",
            "TUN"
           ],
           "marker": {
            "color": "#FFA15A",
            "size": [
             0.324307076333626,
             0.351630964153322,
             0.45426554251703,
             0.308963843801804,
             0.066882719199755,
             0.271574221656362
            ],
            "sizemode": "area",
            "sizeref": 0.00249999999999936,
            "symbol": "circle"
           },
           "mode": "markers",
           "name": "North Africa",
           "showlegend": true,
           "type": "scattergeo"
          },
          {
           "geo": "geo2",
           "hovertemplate": "<b>%{hovertext}</b><br><br>AU_Regions=North Africa<br>Year=1970<br>Variable=Mpop<br>Value=%{marker.size}<br>ISO=%{location}<extra></extra>",
           "hovertext": [
            "Algeria",
            "Egypt",
            "Libya",
            "Morocco",
            "Mauritania",
            "Tunisia"
           ],
           "legendgroup": "North Africa",
           "locations": [
            "DZA",
            "EGY",
            "LBY",
            "MAR",
            "MRT",
            "TUN"
           ],
           "marker": {
            "color": "#FFA15A",
            "size": [
             0.26376758727071,
             0.501654595961683,
             0.479017649218308,
             0.415820360505987,
             0.502098435710942,
             0.459492552581376
            ],
            "sizemode": "area",
            "sizeref": 0.00249999999999936,
            "symbol": "circle"
           },
           "mode": "markers",
           "name": "North Africa",
           "showlegend": false,
           "type": "scattergeo"
          }
         ],
         "name": "1970"
        },
        {
         "data": [
          {
           "geo": "geo",
           "hovertemplate": "<b>%{hovertext}</b><br><br>AU_Regions=Southern Africa<br>Year=1980<br>Variable=UrbanLevel<br>Value=%{marker.size}<br>ISO=%{location}<extra></extra>",
           "hovertext": [
            "Angola",
            "Botswana",
            "Lesotho",
            "Mozambique",
            "Malawi",
            "Namibia",
            "Kingdom of Eswatini",
            "South Africa",
            "Zambia",
            "Zimbabwe"
           ],
           "legendgroup": "Southern Africa",
           "locations": [
            "AGO",
            "BWA",
            "LSO",
            "MOZ",
            "MWI",
            "NAM",
            "SWZ",
            "ZAF",
            "ZMB",
            "ZWE"
           ],
           "marker": {
            "color": "#636efa",
            "size": [
             0.206967909911959,
             0.27578621376166,
             0.0639444630726625,
             0.139192654365469,
             0.0729179929899037,
             0.167597809439371,
             0.112190253205995,
             0.38601871316104,
             0.363584922269758,
             0.190354830420652
            ],
            "sizemode": "area",
            "sizeref": 0.00249999999999936,
            "symbol": "circle"
           },
           "mode": "markers",
           "name": "Southern Africa",
           "showlegend": true,
           "type": "scattergeo"
          },
          {
           "geo": "geo2",
           "hovertemplate": "<b>%{hovertext}</b><br><br>AU_Regions=Southern Africa<br>Year=1980<br>Variable=Mpop<br>Value=%{marker.size}<br>ISO=%{location}<extra></extra>",
           "hovertext": [
            "Angola",
            "Botswana",
            "Lesotho",
            "Mozambique",
            "Malawi",
            "Namibia",
            "Kingdom of Eswatini",
            "South Africa",
            "Zambia",
            "Zimbabwe"
           ],
           "legendgroup": "Southern Africa",
           "locations": [
            "AGO",
            "BWA",
            "LSO",
            "MOZ",
            "MWI",
            "NAM",
            "SWZ",
            "ZAF",
            "ZMB",
            "ZWE"
           ],
           "marker": {
            "color": "#636efa",
            "size": [
             0.50041787966491,
             0.211459544421448,
             0.804073892131192,
             0.443832156876285,
             0.833014975380626,
             0.540849230913758,
             0.999999999998414,
             0.562497330542855,
             0.259466008369452,
             0.72280120363518
            ],
            "sizemode": "area",
            "sizeref": 0.00249999999999936,
            "symbol": "circle"
           },
           "mode": "markers",
           "name": "Southern Africa",
           "showlegend": false,
           "type": "scattergeo"
          },
          {
           "geo": "geo",
           "hovertemplate": "<b>%{hovertext}</b><br><br>AU_Regions=Central Africa<br>Year=1980<br>Variable=UrbanLevel<br>Value=%{marker.size}<br>ISO=%{location}<extra></extra>",
           "hovertext": [
            "Burundi",
            "Central African Republic",
            "Cameroon",
            "Democratic Republic of the Congo",
            "Republic of the Congo",
            "Gabon",
            "Equatorial Guinea",
            "Sao Tome and Principe",
            "Chad"
           ],
           "legendgroup": "Central Africa",
           "locations": [
            "BDI",
            "CAF",
            "CMR",
            "COD",
            "COG",
            "GAB",
            "GNQ",
            "STP",
            "TCD"
           ],
           "marker": {
            "color": "#EF553B",
            "size": [
             0.0432586973630379,
             0.273159156252867,
             0.265336713209673,
             0.24724381109833,
             0.495704215509105,
             0.295960140662145,
             0.251018688857177,
             0.37660305871585,
             0.132825536886814
            ],
            "sizemode": "area",
            "sizeref": 0.00249999999999936,
            "symbol": "circle"
           },
           "mode": "markers",
           "name": "Central Africa",
           "showlegend": true,
           "type": "scattergeo"
          },
          {
           "geo": "geo2",
           "hovertemplate": "<b>%{hovertext}</b><br><br>AU_Regions=Central Africa<br>Year=1980<br>Variable=Mpop<br>Value=%{marker.size}<br>ISO=%{location}<extra></extra>",
           "hovertext": [
            "Burundi",
            "Central African Republic",
            "Cameroon",
            "Democratic Republic of the Congo",
            "Republic of the Congo",
            "Gabon",
            "Equatorial Guinea",
            "Sao Tome and Principe",
            "Chad"
           ],
           "legendgroup": "Central Africa",
           "locations": [
            "BDI",
            "CAF",
            "CMR",
            "COD",
            "COG",
            "GAB",
            "GNQ",
            "STP",
            "TCD"
           ],
           "marker": {
            "color": "#EF553B",
            "size": [
             0.940174816755452,
             0.538598663665824,
             0.446346361526599,
             0.371119558741945,
             0.837008637328175,
             0.641889290938212,
             0.99999999999863,
             0.999999999997174,
             0.488535876759519
            ],
            "sizemode": "area",
            "sizeref": 0.00249999999999936,
            "symbol": "circle"
           },
           "mode": "markers",
           "name": "Central Africa",
           "showlegend": false,
           "type": "scattergeo"
          },
          {
           "geo": "geo",
           "hovertemplate": "<b>%{hovertext}</b><br><br>AU_Regions=West Africa<br>Year=1980<br>Variable=UrbanLevel<br>Value=%{marker.size}<br>ISO=%{location}<extra></extra>",
           "hovertext": [
            "Benin",
            "Burkina Faso",
            "Cote d`Ivoire",
            "Cabo Verde",
            "Ghana",
            "Guinea",
            "The Gambia",
            "Guinea-Bissau",
            "Liberia",
            "Mali",
            "Niger",
            "Nigeria",
            "Senegal",
            "Sierra Leone",
            "Togo"
           ],
           "legendgroup": "West Africa",
           "locations": [
            "BEN",
            "BFA",
            "CIV",
            "CPV",
            "GHA",
            "GIN",
            "GMB",
            "GNB",
            "LBR",
            "MLI",
            "NER",
            "NGA",
            "SEN",
            "SLE",
            "TGO"
           ],
           "marker": {
            "color": "#00cc96",
            "size": [
             0.233008353527165,
             0.107381927803973,
             0.331859851386772,
             0.262882013371525,
             0.225933802684724,
             0.174559280007347,
             0.202550175215037,
             0.164924538955386,
             0.254825464871773,
             0.135105324730873,
             0.0924397024767843,
             0.276404870624049,
             0.323197682632384,
             0.198954540425957,
             0.248658020878834
            ],
            "sizemode": "area",
            "sizeref": 0.00249999999999936,
            "symbol": "circle"
           },
           "mode": "markers",
           "name": "West Africa",
           "showlegend": true,
           "type": "scattergeo"
          },
          {
           "geo": "geo2",
           "hovertemplate": "<b>%{hovertext}</b><br><br>AU_Regions=West Africa<br>Year=1980<br>Variable=Mpop<br>Value=%{marker.size}<br>ISO=%{location}<extra></extra>",
           "hovertext": [
            "Benin",
            "Burkina Faso",
            "Cote d`Ivoire",
            "Cabo Verde",
            "Ghana",
            "Guinea",
            "The Gambia",
            "Guinea-Bissau",
            "Liberia",
            "Mali",
            "Niger",
            "Nigeria",
            "Senegal",
            "Sierra Leone",
            "Togo"
           ],
           "legendgroup": "West Africa",
           "locations": [
            "BEN",
            "BFA",
            "CIV",
            "CPV",
            "GHA",
            "GIN",
            "GMB",
            "GNB",
            "LBR",
            "MLI",
            "NER",
            "NGA",
            "SEN",
            "SLE",
            "TGO"
           ],
           "marker": {
            "color": "#00cc96",
            "size": [
             0.623826834801147,
             0.643551373903919,
             0.46885191846521,
             0.999999999998714,
             0.522799793719667,
             0.620371890217404,
             0.663112117708525,
             0.893659773098942,
             0.66260945230745,
             0.543634278872863,
             0.501243347464958,
             0.150882718972675,
             0.529724059542855,
             0.588344072443632,
             0.569418128874694
            ],
            "sizemode": "area",
            "sizeref": 0.00249999999999936,
            "symbol": "circle"
           },
           "mode": "markers",
           "name": "West Africa",
           "showlegend": false,
           "type": "scattergeo"
          },
          {
           "geo": "geo",
           "hovertemplate": "<b>%{hovertext}</b><br><br>AU_Regions=East Africa<br>Year=1980<br>Variable=UrbanLevel<br>Value=%{marker.size}<br>ISO=%{location}<extra></extra>",
           "hovertext": [
            "Comoros",
            "Djibouti",
            "Eritrea",
            "Ethiopia",
            "Kenya",
            "Madagascar",
            "Mauritius",
            "Rwanda",
            "Sudan",
            "Somalia",
            "South Sudan",
            "Seychelles",
            "Tanzania",
            "Uganda"
           ],
           "legendgroup": "East Africa",
           "locations": [
            "COM",
            "DJI",
            "ERI",
            "ETH",
            "KEN",
            "MDG",
            "MUS",
            "RWA",
            "SDN",
            "SOM",
            "SSD",
            "SYC",
            "TZA",
            "UGA"
           ],
           "marker": {
            "color": "#ab63fa",
            "size": [
             0.100751902133373,
             0.752020538564999,
             0.158210110324387,
             0.066451509210137,
             0.10307009339456,
             0.15242744882087,
             0.548665058914997,
             0.0304089602552186,
             0.205862100420164,
             0.165064840362633,
             0.0639330908531346,
             0.370528923805492,
             0.112049882224983,
             0.0533593694356734
            ],
            "sizemode": "area",
            "sizeref": 0.00249999999999936,
            "symbol": "circle"
           },
           "mode": "markers",
           "name": "East Africa",
           "showlegend": true,
           "type": "scattergeo"
          },
          {
           "geo": "geo2",
           "hovertemplate": "<b>%{hovertext}</b><br><br>AU_Regions=East Africa<br>Year=1980<br>Variable=Mpop<br>Value=%{marker.size}<br>ISO=%{location}<extra></extra>",
           "hovertext": [
            "Comoros",
            "Djibouti",
            "Eritrea",
            "Ethiopia",
            "Kenya",
            "Madagascar",
            "Mauritius",
            "Rwanda",
            "Sudan",
            "Somalia",
            "South Sudan",
            "Seychelles",
            "Tanzania",
            "Uganda"
           ],
           "legendgroup": "East Africa",
           "locations": [
            "COM",
            "DJI",
            "ERI",
            "ETH",
            "KEN",
            "MDG",
            "MUS",
            "RWA",
            "SDN",
            "SOM",
            "SSD",
            "SYC",
            "TZA",
            "UGA"
           ],
           "marker": {
            "color": "#ab63fa",
            "size": [
             0.511357242276449,
             0.999999999999456,
             0.746084033263406,
             0.549544327989928,
             0.743165870116597,
             0.387275716742548,
             0.792329434290405,
             0.83400063183766,
             0.396678556476584,
             0.649973314675418,
             0.262050194860078,
             0.999999999995768,
             0.380609265372989,
             0.681622210851715
            ],
            "sizemode": "area",
            "sizeref": 0.00249999999999936,
            "symbol": "circle"
           },
           "mode": "markers",
           "name": "East Africa",
           "showlegend": false,
           "type": "scattergeo"
          },
          {
           "geo": "geo",
           "hovertemplate": "<b>%{hovertext}</b><br><br>AU_Regions=North Africa<br>Year=1980<br>Variable=UrbanLevel<br>Value=%{marker.size}<br>ISO=%{location}<extra></extra>",
           "hovertext": [
            "Algeria",
            "Egypt",
            "Libya",
            "Morocco",
            "Mauritania",
            "Tunisia"
           ],
           "legendgroup": "North Africa",
           "locations": [
            "DZA",
            "EGY",
            "LBY",
            "MAR",
            "MRT",
            "TUN"
           ],
           "marker": {
            "color": "#FFA15A",
            "size": [
             0.366164385681986,
             0.381797516781269,
             0.508813483876484,
             0.361775397830228,
             0.208922390175968,
             0.338838611558305
            ],
            "sizemode": "area",
            "sizeref": 0.00249999999999936,
            "symbol": "circle"
           },
           "mode": "markers",
           "name": "North Africa",
           "showlegend": true,
           "type": "scattergeo"
          },
          {
           "geo": "geo2",
           "hovertemplate": "<b>%{hovertext}</b><br><br>AU_Regions=North Africa<br>Year=1980<br>Variable=Mpop<br>Value=%{marker.size}<br>ISO=%{location}<extra></extra>",
           "hovertext": [
            "Algeria",
            "Egypt",
            "Libya",
            "Morocco",
            "Mauritania",
            "Tunisia"
           ],
           "legendgroup": "North Africa",
           "locations": [
            "DZA",
            "EGY",
            "LBY",
            "MAR",
            "MRT",
            "TUN"
           ],
           "marker": {
            "color": "#FFA15A",
            "size": [
             0.23329207219443,
             0.494592763551459,
             0.462037600022547,
             0.391131061062351,
             0.601395883547712,
             0.376566889036745
            ],
            "sizemode": "area",
            "sizeref": 0.00249999999999936,
            "symbol": "circle"
           },
           "mode": "markers",
           "name": "North Africa",
           "showlegend": false,
           "type": "scattergeo"
          }
         ],
         "name": "1980"
        },
        {
         "data": [
          {
           "geo": "geo",
           "hovertemplate": "<b>%{hovertext}</b><br><br>AU_Regions=Southern Africa<br>Year=1990<br>Variable=UrbanLevel<br>Value=%{marker.size}<br>ISO=%{location}<extra></extra>",
           "hovertext": [
            "Angola",
            "Botswana",
            "Lesotho",
            "Mozambique",
            "Malawi",
            "Namibia",
            "Kingdom of Eswatini",
            "South Africa",
            "Zambia",
            "Zimbabwe"
           ],
           "legendgroup": "Southern Africa",
           "locations": [
            "AGO",
            "BWA",
            "LSO",
            "MOZ",
            "MWI",
            "NAM",
            "SWZ",
            "ZAF",
            "ZMB",
            "ZWE"
           ],
           "marker": {
            "color": "#636efa",
            "size": [
             0.263435658691016,
             0.405754267210711,
             0.0950540298374777,
             0.175545221373214,
             0.103961582220246,
             0.229221279932149,
             0.131228410781372,
             0.346294290377487,
             0.336831007367233,
             0.230208163990286
            ],
            "sizemode": "area",
            "sizeref": 0.00249999999999936,
            "symbol": "circle"
           },
           "mode": "markers",
           "name": "Southern Africa",
           "showlegend": true,
           "type": "scattergeo"
          },
          {
           "geo": "geo2",
           "hovertemplate": "<b>%{hovertext}</b><br><br>AU_Regions=Southern Africa<br>Year=1990<br>Variable=Mpop<br>Value=%{marker.size}<br>ISO=%{location}<extra></extra>",
           "hovertext": [
            "Angola",
            "Botswana",
            "Lesotho",
            "Mozambique",
            "Malawi",
            "Namibia",
            "Kingdom of Eswatini",
            "South Africa",
            "Zambia",
            "Zimbabwe"
           ],
           "legendgroup": "Southern Africa",
           "locations": [
            "AGO",
            "BWA",
            "LSO",
            "MOZ",
            "MWI",
            "NAM",
            "SWZ",
            "ZAF",
            "ZMB",
            "ZWE"
           ],
           "marker": {
            "color": "#636efa",
            "size": [
             0.472249427090527,
             0.258900668996918,
             0.697132098225668,
             0.441386123578284,
             0.738688551071934,
             0.442641178743033,
             0.999999999999039,
             0.500416414581248,
             0.309367731786629,
             0.688545086289207
            ],
            "sizemode": "area",
            "sizeref": 0.00249999999999936,
            "symbol": "circle"
           },
           "mode": "markers",
           "name": "Southern Africa",
           "showlegend": false,
           "type": "scattergeo"
          },
          {
           "geo": "geo",
           "hovertemplate": "<b>%{hovertext}</b><br><br>AU_Regions=Central Africa<br>Year=1990<br>Variable=UrbanLevel<br>Value=%{marker.size}<br>ISO=%{location}<extra></extra>",
           "hovertext": [
            "Burundi",
            "Central African Republic",
            "Cameroon",
            "Democratic Republic of the Congo",
            "Republic of the Congo",
            "Gabon",
            "Equatorial Guinea",
            "Sao Tome and Principe",
            "Chad"
           ],
           "legendgroup": "Central Africa",
           "locations": [
            "BDI",
            "CAF",
            "CMR",
            "COD",
            "COG",
            "GAB",
            "GNQ",
            "STP",
            "TCD"
           ],
           "marker": {
            "color": "#EF553B",
            "size": [
             0.0532155706826245,
             0.313603544341046,
             0.342706562055973,
             0.285884773352868,
             0.592013084243409,
             0.546908405641479,
             0.257458979123279,
             0.443646811687297,
             0.168496130655916
            ],
            "sizemode": "area",
            "sizeref": 0.00249999999999936,
            "symbol": "circle"
           },
           "mode": "markers",
           "name": "Central Africa",
           "showlegend": true,
           "type": "scattergeo"
          },
          {
           "geo": "geo2",
           "hovertemplate": "<b>%{hovertext}</b><br><br>AU_Regions=Central Africa<br>Year=1990<br>Variable=Mpop<br>Value=%{marker.size}<br>ISO=%{location}<extra></extra>",
           "hovertext": [
            "Burundi",
            "Central African Republic",
            "Cameroon",
            "Democratic Republic of the Congo",
            "Republic of the Congo",
            "Gabon",
            "Equatorial Guinea",
            "Sao Tome and Principe",
            "Chad"
           ],
           "legendgroup": "Central Africa",
           "locations": [
            "BDI",
            "CAF",
            "CMR",
            "COD",
            "COG",
            "GAB",
            "GNQ",
            "STP",
            "TCD"
           ],
           "marker": {
            "color": "#EF553B",
            "size": [
             0.835904409232144,
             0.508992230230188,
             0.456688759032169,
             0.413569204892455,
             0.817532861104756,
             0.691789166557346,
             0.99999999999891,
             0.999999999998043,
             0.473265967344806
            ],
            "sizemode": "area",
            "sizeref": 0.00249999999999936,
            "symbol": "circle"
           },
           "mode": "markers",
           "name": "Central Africa",
           "showlegend": false,
           "type": "scattergeo"
          },
          {
           "geo": "geo",
           "hovertemplate": "<b>%{hovertext}</b><br><br>AU_Regions=West Africa<br>Year=1990<br>Variable=UrbanLevel<br>Value=%{marker.size}<br>ISO=%{location}<extra></extra>",
           "hovertext": [
            "Benin",
            "Burkina Faso",
            "Cote d`Ivoire",
            "Cabo Verde",
            "Ghana",
            "Guinea",
            "The Gambia",
            "Guinea-Bissau",
            "Liberia",
            "Mali",
            "Niger",
            "Nigeria",
            "Senegal",
            "Sierra Leone",
            "Togo"
           ],
           "legendgroup": "West Africa",
           "locations": [
            "BEN",
            "BFA",
            "CIV",
            "CPV",
            "GHA",
            "GIN",
            "GMB",
            "GNB",
            "LBR",
            "MLI",
            "NER",
            "NGA",
            "SEN",
            "SLE",
            "TGO"
           ],
           "marker": {
            "color": "#00cc96",
            "size": [
             0.268084280606952,
             0.157428058250006,
             0.396016725571467,
             0.306106767095064,
             0.256124014045097,
             0.251588749720327,
             0.290020836393509,
             0.221413372040508,
             0.315452363556994,
             0.167756053811659,
             0.142046657457848,
             0.335787234042553,
             0.407785170949255,
             0.235581974607682,
             0.24706350491264
            ],
            "sizemode": "area",
            "sizeref": 0.00249999999999936,
            "symbol": "circle"
           },
           "mode": "markers",
           "name": "West Africa",
           "showlegend": true,
           "type": "scattergeo"
          },
          {
           "geo": "geo2",
           "hovertemplate": "<b>%{hovertext}</b><br><br>AU_Regions=West Africa<br>Year=1990<br>Variable=Mpop<br>Value=%{marker.size}<br>ISO=%{location}<extra></extra>",
           "hovertext": [
            "Benin",
            "Burkina Faso",
            "Cote d`Ivoire",
            "Cabo Verde",
            "Ghana",
            "Guinea",
            "The Gambia",
            "Guinea-Bissau",
            "Liberia",
            "Mali",
            "Niger",
            "Nigeria",
            "Senegal",
            "Sierra Leone",
            "Togo"
           ],
           "legendgroup": "West Africa",
           "locations": [
            "BEN",
            "BFA",
            "CIV",
            "CPV",
            "GHA",
            "GIN",
            "GMB",
            "GNB",
            "LBR",
            "MLI",
            "NER",
            "NGA",
            "SEN",
            "SLE",
            "TGO"
           ],
           "marker": {
            "color": "#00cc96",
            "size": [
             0.610343184553425,
             0.600901611146107,
             0.461245858010171,
             0.999999999999081,
             0.512857259971159,
             0.54979627082628,
             0.774340831669803,
             0.867287449776401,
             0.699757434429958,
             0.54210901362032,
             0.395795671328855,
             0.170395969407501,
             0.536518292464281,
             0.593596425747869,
             0.55800941176464
            ],
            "sizemode": "area",
            "sizeref": 0.00249999999999936,
            "symbol": "circle"
           },
           "mode": "markers",
           "name": "West Africa",
           "showlegend": false,
           "type": "scattergeo"
          },
          {
           "geo": "geo",
           "hovertemplate": "<b>%{hovertext}</b><br><br>AU_Regions=East Africa<br>Year=1990<br>Variable=UrbanLevel<br>Value=%{marker.size}<br>ISO=%{location}<extra></extra>",
           "hovertext": [
            "Comoros",
            "Djibouti",
            "Eritrea",
            "Ethiopia",
            "Kenya",
            "Madagascar",
            "Mauritius",
            "Rwanda",
            "Sudan",
            "Somalia",
            "South Sudan",
            "Seychelles",
            "Tanzania",
            "Uganda"
           ],
           "legendgroup": "East Africa",
           "locations": [
            "COM",
            "DJI",
            "ERI",
            "ETH",
            "KEN",
            "MDG",
            "MUS",
            "RWA",
            "SDN",
            "SOM",
            "SSD",
            "SYC",
            "TZA",
            "UGA"
           ],
           "marker": {
            "color": "#ab63fa",
            "size": [
             0.118759879425063,
             0.803912637165645,
             0.153984719547798,
             0.0778300330336072,
             0.119310485808667,
             0.151883603143968,
             0.555451138492987,
             0.0384043164297259,
             0.297277498193695,
             0.174230972865652,
             0.0758130359272055,
             0.343205821559023,
             0.151816182653576,
             0.10142318826367
            ],
            "sizemode": "area",
            "sizeref": 0.00249999999999936,
            "symbol": "circle"
           },
           "mode": "markers",
           "name": "East Africa",
           "showlegend": true,
           "type": "scattergeo"
          },
          {
           "geo": "geo2",
           "hovertemplate": "<b>%{hovertext}</b><br><br>AU_Regions=East Africa<br>Year=1990<br>Variable=Mpop<br>Value=%{marker.size}<br>ISO=%{location}<extra></extra>",
           "hovertext": [
            "Comoros",
            "Djibouti",
            "Eritrea",
            "Ethiopia",
            "Kenya",
            "Madagascar",
            "Mauritius",
            "Rwanda",
            "Sudan",
            "Somalia",
            "South Sudan",
            "Seychelles",
            "Tanzania",
            "Uganda"
           ],
           "legendgroup": "East Africa",
           "locations": [
            "COM",
            "DJI",
            "ERI",
            "ETH",
            "KEN",
            "MDG",
            "MUS",
            "RWA",
            "SDN",
            "SOM",
            "SSD",
            "SYC",
            "TZA",
            "UGA"
           ],
           "marker": {
            "color": "#ab63fa",
            "size": [
             0.557322499515269,
             0.999999999999634,
             0.725897539330229,
             0.47844906214271,
             0.706289227470326,
             0.383585481220211,
             0.771857637202704,
             0.864072143791629,
             0.399799218625502,
             0.62664331865848,
             0.244658795610077,
             0.999999999995875,
             0.329915567075289,
             0.523662444455359
            ],
            "sizemode": "area",
            "sizeref": 0.00249999999999936,
            "symbol": "circle"
           },
           "mode": "markers",
           "name": "East Africa",
           "showlegend": false,
           "type": "scattergeo"
          },
          {
           "geo": "geo",
           "hovertemplate": "<b>%{hovertext}</b><br><br>AU_Regions=North Africa<br>Year=1990<br>Variable=UrbanLevel<br>Value=%{marker.size}<br>ISO=%{location}<extra></extra>",
           "hovertext": [
            "Algeria",
            "Egypt",
            "Libya",
            "Morocco",
            "Mauritania",
            "Tunisia"
           ],
           "legendgroup": "North Africa",
           "locations": [
            "DZA",
            "EGY",
            "LBY",
            "MAR",
            "MRT",
            "TUN"
           ],
           "marker": {
            "color": "#FFA15A",
            "size": [
             0.400701597261187,
             0.410330132032388,
             0.623849112665456,
             0.418772991956832,
             0.363345351000069,
             0.411696468375467
            ],
            "sizemode": "area",
            "sizeref": 0.00249999999999936,
            "symbol": "circle"
           },
           "mode": "markers",
           "name": "North Africa",
           "showlegend": true,
           "type": "scattergeo"
          },
          {
           "geo": "geo2",
           "hovertemplate": "<b>%{hovertext}</b><br><br>AU_Regions=North Africa<br>Year=1990<br>Variable=Mpop<br>Value=%{marker.size}<br>ISO=%{location}<extra></extra>",
           "hovertext": [
            "Algeria",
            "Egypt",
            "Libya",
            "Morocco",
            "Mauritania",
            "Tunisia"
           ],
           "legendgroup": "North Africa",
           "locations": [
            "DZA",
            "EGY",
            "LBY",
            "MAR",
            "MRT",
            "TUN"
           ],
           "marker": {
            "color": "#FFA15A",
            "size": [
             0.182966063607708,
             0.465633474819655,
             0.437319904713972,
             0.352427260674363,
             0.585598377566745,
             0.364047050389742
            ],
            "sizemode": "area",
            "sizeref": 0.00249999999999936,
            "symbol": "circle"
           },
           "mode": "markers",
           "name": "North Africa",
           "showlegend": false,
           "type": "scattergeo"
          }
         ],
         "name": "1990"
        },
        {
         "data": [
          {
           "geo": "geo",
           "hovertemplate": "<b>%{hovertext}</b><br><br>AU_Regions=Southern Africa<br>Year=2000<br>Variable=UrbanLevel<br>Value=%{marker.size}<br>ISO=%{location}<extra></extra>",
           "hovertext": [
            "Angola",
            "Botswana",
            "Lesotho",
            "Mozambique",
            "Malawi",
            "Namibia",
            "Kingdom of Eswatini",
            "South Africa",
            "Zambia",
            "Zimbabwe"
           ],
           "legendgroup": "Southern Africa",
           "locations": [
            "AGO",
            "BWA",
            "LSO",
            "MOZ",
            "MWI",
            "NAM",
            "SWZ",
            "ZAF",
            "ZMB",
            "ZWE"
           ],
           "marker": {
            "color": "#636efa",
            "size": [
             0.30161226871772,
             0.488416625348356,
             0.165717172884941,
             0.276585291614414,
             0.137687403833945,
             0.28264571443966,
             0.255216641133568,
             0.478237541848697,
             0.337808638089389,
             0.268903796551043
            ],
            "sizemode": "area",
            "sizeref": 0.00249999999999936,
            "symbol": "circle"
           },
           "mode": "markers",
           "name": "Southern Africa",
           "showlegend": true,
           "type": "scattergeo"
          },
          {
           "geo": "geo2",
           "hovertemplate": "<b>%{hovertext}</b><br><br>AU_Regions=Southern Africa<br>Year=2000<br>Variable=Mpop<br>Value=%{marker.size}<br>ISO=%{location}<extra></extra>",
           "hovertext": [
            "Angola",
            "Botswana",
            "Lesotho",
            "Mozambique",
            "Malawi",
            "Namibia",
            "Kingdom of Eswatini",
            "South Africa",
            "Zambia",
            "Zimbabwe"
           ],
           "legendgroup": "Southern Africa",
           "locations": [
            "AGO",
            "BWA",
            "LSO",
            "MOZ",
            "MWI",
            "NAM",
            "SWZ",
            "ZAF",
            "ZMB",
            "ZWE"
           ],
           "marker": {
            "color": "#636efa",
            "size": [
             0.460113978215663,
             0.261663057773922,
             0.708135779342191,
             0.32317191643108,
             0.693745553282252,
             0.440726700834518,
             0.786898584482039,
             0.420737339797804,
             0.339394026607561,
             0.675206385546685
            ],
            "sizemode": "area",
            "sizeref": 0.00249999999999936,
            "symbol": "circle"
           },
           "mode": "markers",
           "name": "Southern Africa",
           "showlegend": false,
           "type": "scattergeo"
          },
          {
           "geo": "geo",
           "hovertemplate": "<b>%{hovertext}</b><br><br>AU_Regions=Central Africa<br>Year=2000<br>Variable=UrbanLevel<br>Value=%{marker.size}<br>ISO=%{location}<extra></extra>",
           "hovertext": [
            "Burundi",
            "Central African Republic",
            "Cameroon",
            "Democratic Republic of the Congo",
            "Republic of the Congo",
            "Gabon",
            "Equatorial Guinea",
            "Sao Tome and Principe",
            "Chad"
           ],
           "legendgroup": "Central Africa",
           "locations": [
            "BDI",
            "CAF",
            "CMR",
            "COD",
            "COG",
            "GAB",
            "GNQ",
            "STP",
            "TCD"
           ],
           "marker": {
            "color": "#EF553B",
            "size": [
             0.067342035810857,
             0.33407426929636,
             0.384383649799129,
             0.286682928166539,
             0.633173116609896,
             0.644595870171019,
             0.398094613019017,
             0.46196502938831,
             0.189718200259874
            ],
            "sizemode": "area",
            "sizeref": 0.00249999999999936,
            "symbol": "circle"
           },
           "mode": "markers",
           "name": "Central Africa",
           "showlegend": true,
           "type": "scattergeo"
          },
          {
           "geo": "geo2",
           "hovertemplate": "<b>%{hovertext}</b><br><br>AU_Regions=Central Africa<br>Year=2000<br>Variable=Mpop<br>Value=%{marker.size}<br>ISO=%{location}<extra></extra>",
           "hovertext": [
            "Burundi",
            "Central African Republic",
            "Cameroon",
            "Democratic Republic of the Congo",
            "Republic of the Congo",
            "Gabon",
            "Equatorial Guinea",
            "Sao Tome and Principe",
            "Chad"
           ],
           "legendgroup": "Central Africa",
           "locations": [
            "BDI",
            "CAF",
            "CMR",
            "COD",
            "COG",
            "GAB",
            "GNQ",
            "STP",
            "TCD"
           ],
           "marker": {
            "color": "#EF553B",
            "size": [
             0.794500101362991,
             0.515797326168304,
             0.498624546098483,
             0.390258185216974,
             0.833041201576233,
             0.617706279650205,
             0.999999999999717,
             0.999999999998402,
             0.447848930833886
            ],
            "sizemode": "area",
            "sizeref": 0.00249999999999936,
            "symbol": "circle"
           },
           "mode": "markers",
           "name": "Central Africa",
           "showlegend": false,
           "type": "scattergeo"
          },
          {
           "geo": "geo",
           "hovertemplate": "<b>%{hovertext}</b><br><br>AU_Regions=West Africa<br>Year=2000<br>Variable=UrbanLevel<br>Value=%{marker.size}<br>ISO=%{location}<extra></extra>",
           "hovertext": [
            "Benin",
            "Burkina Faso",
            "Cote d`Ivoire",
            "Cabo Verde",
            "Ghana",
            "Guinea",
            "The Gambia",
            "Guinea-Bissau",
            "Liberia",
            "Mali",
            "Niger",
            "Nigeria",
            "Senegal",
            "Sierra Leone",
            "Togo"
           ],
           "legendgroup": "West Africa",
           "locations": [
            "BEN",
            "BFA",
            "CIV",
            "CPV",
            "GHA",
            "GIN",
            "GMB",
            "GNB",
            "LBR",
            "MLI",
            "NER",
            "NGA",
            "SEN",
            "SLE",
            "TGO"
           ],
           "marker": {
            "color": "#00cc96",
            "size": [
             0.309124497104991,
             0.212194490380618,
             0.440593087673374,
             0.390504401902431,
             0.338961616146036,
             0.310018994005567,
             0.383819543913523,
             0.277800039734787,
             0.350711785895666,
             0.218696579075833,
             0.157896255782481,
             0.374921487921548,
             0.409116111971219,
             0.280248781300499,
             0.274490664921197
            ],
            "sizemode": "area",
            "sizeref": 0.00249999999999936,
            "symbol": "circle"
           },
           "mode": "markers",
           "name": "West Africa",
           "showlegend": true,
           "type": "scattergeo"
          },
          {
           "geo": "geo2",
           "hovertemplate": "<b>%{hovertext}</b><br><br>AU_Regions=West Africa<br>Year=2000<br>Variable=Mpop<br>Value=%{marker.size}<br>ISO=%{location}<extra></extra>",
           "hovertext": [
            "Benin",
            "Burkina Faso",
            "Cote d`Ivoire",
            "Cabo Verde",
            "Ghana",
            "Guinea",
            "The Gambia",
            "Guinea-Bissau",
            "Liberia",
            "Mali",
            "Niger",
            "Nigeria",
            "Senegal",
            "Sierra Leone",
            "Togo"
           ],
           "legendgroup": "West Africa",
           "locations": [
            "BEN",
            "BFA",
            "CIV",
            "CPV",
            "GHA",
            "GIN",
            "GMB",
            "GNB",
            "LBR",
            "MLI",
            "NER",
            "NGA",
            "SEN",
            "SLE",
            "TGO"
           ],
           "marker": {
            "color": "#00cc96",
            "size": [
             0.583246800819784,
             0.561103022011456,
             0.442453181531457,
             0.937778275106046,
             0.540795812239768,
             0.515570411904227,
             0.817761265233376,
             0.90553104317653,
             0.733974303500169,
             0.530910756841838,
             0.390934832462899,
             0.173484549353284,
             0.506135078477318,
             0.570848668835818,
             0.541696380404406
            ],
            "sizemode": "area",
            "sizeref": 0.00249999999999936,
            "symbol": "circle"
           },
           "mode": "markers",
           "name": "West Africa",
           "showlegend": false,
           "type": "scattergeo"
          },
          {
           "geo": "geo",
           "hovertemplate": "<b>%{hovertext}</b><br><br>AU_Regions=East Africa<br>Year=2000<br>Variable=UrbanLevel<br>Value=%{marker.size}<br>ISO=%{location}<extra></extra>",
           "hovertext": [
            "Comoros",
            "Djibouti",
            "Eritrea",
            "Ethiopia",
            "Kenya",
            "Madagascar",
            "Mauritius",
            "Rwanda",
            "Sudan",
            "Somalia",
            "South Sudan",
            "Seychelles",
            "Tanzania",
            "Uganda"
           ],
           "legendgroup": "East Africa",
           "locations": [
            "COM",
            "DJI",
            "ERI",
            "ETH",
            "KEN",
            "MDG",
            "MUS",
            "RWA",
            "SDN",
            "SOM",
            "SSD",
            "SYC",
            "TZA",
            "UGA"
           ],
           "marker": {
            "color": "#ab63fa",
            "size": [
             0.25601072691959,
             0.821357052651928,
             0.263160339986815,
             0.099670523516184,
             0.194317577944278,
             0.196556557710332,
             0.641025815032981,
             0.2107817314653,
             0.360704361003635,
             0.230648888888889,
             0.106542118557487,
             0.737770092891761,
             0.274081501476763,
             0.139922997045986
            ],
            "sizemode": "area",
            "sizeref": 0.00249999999999936,
            "symbol": "circle"
           },
           "mode": "markers",
           "name": "East Africa",
           "showlegend": true,
           "type": "scattergeo"
          },
          {
           "geo": "geo2",
           "hovertemplate": "<b>%{hovertext}</b><br><br>AU_Regions=East Africa<br>Year=2000<br>Variable=Mpop<br>Value=%{marker.size}<br>ISO=%{location}<extra></extra>",
           "hovertext": [
            "Comoros",
            "Djibouti",
            "Eritrea",
            "Ethiopia",
            "Kenya",
            "Madagascar",
            "Mauritius",
            "Rwanda",
            "Sudan",
            "Somalia",
            "South Sudan",
            "Seychelles",
            "Tanzania",
            "Uganda"
           ],
           "legendgroup": "East Africa",
           "locations": [
            "COM",
            "DJI",
            "ERI",
            "ETH",
            "KEN",
            "MDG",
            "MUS",
            "RWA",
            "SDN",
            "SOM",
            "SSD",
            "SYC",
            "TZA",
            "UGA"
           ],
           "marker": {
            "color": "#ab63fa",
            "size": [
             0.340979092444367,
             0.999999999999744,
             0.544181156987581,
             0.389354651669903,
             0.65043117860127,
             0.472908746852607,
             0.736733662223724,
             0.475272382159038,
             0.390636083939993,
             0.606858910127919,
             0.218272379645035,
             0.999999999998289,
             0.24724476336129,
             0.470804626798433
            ],
            "sizemode": "area",
            "sizeref": 0.00249999999999936,
            "symbol": "circle"
           },
           "mode": "markers",
           "name": "East Africa",
           "showlegend": false,
           "type": "scattergeo"
          },
          {
           "geo": "geo",
           "hovertemplate": "<b>%{hovertext}</b><br><br>AU_Regions=North Africa<br>Year=2000<br>Variable=UrbanLevel<br>Value=%{marker.size}<br>ISO=%{location}<extra></extra>",
           "hovertext": [
            "Algeria",
            "Egypt",
            "Libya",
            "Morocco",
            "Mauritania",
            "Tunisia"
           ],
           "legendgroup": "North Africa",
           "locations": [
            "DZA",
            "EGY",
            "LBY",
            "MAR",
            "MRT",
            "TUN"
           ],
           "marker": {
            "color": "#FFA15A",
            "size": [
             0.471403024062917,
             0.417693322114937,
             0.687326684896553,
             0.466858709827061,
             0.333353666972469,
             0.467265454640713
            ],
            "sizemode": "area",
            "sizeref": 0.00249999999999936,
            "symbol": "circle"
           },
           "mode": "markers",
           "name": "North Africa",
           "showlegend": true,
           "type": "scattergeo"
          },
          {
           "geo": "geo2",
           "hovertemplate": "<b>%{hovertext}</b><br><br>AU_Regions=North Africa<br>Year=2000<br>Variable=Mpop<br>Value=%{marker.size}<br>ISO=%{location}<extra></extra>",
           "hovertext": [
            "Algeria",
            "Egypt",
            "Libya",
            "Morocco",
            "Mauritania",
            "Tunisia"
           ],
           "legendgroup": "North Africa",
           "locations": [
            "DZA",
            "EGY",
            "LBY",
            "MAR",
            "MRT",
            "TUN"
           ],
           "marker": {
            "color": "#FFA15A",
            "size": [
             0.152611279152624,
             0.446248549522788,
             0.445417803520584,
             0.314782911806483,
             0.667614315922341,
             0.356278285401673
            ],
            "sizemode": "area",
            "sizeref": 0.00249999999999936,
            "symbol": "circle"
           },
           "mode": "markers",
           "name": "North Africa",
           "showlegend": false,
           "type": "scattergeo"
          }
         ],
         "name": "2000"
        },
        {
         "data": [
          {
           "geo": "geo",
           "hovertemplate": "<b>%{hovertext}</b><br><br>AU_Regions=Southern Africa<br>Year=2010<br>Variable=UrbanLevel<br>Value=%{marker.size}<br>ISO=%{location}<extra></extra>",
           "hovertext": [
            "Angola",
            "Botswana",
            "Lesotho",
            "Mozambique",
            "Malawi",
            "Namibia",
            "Kingdom of Eswatini",
            "South Africa",
            "Zambia",
            "Zimbabwe"
           ],
           "legendgroup": "Southern Africa",
           "locations": [
            "AGO",
            "BWA",
            "LSO",
            "MOZ",
            "MWI",
            "NAM",
            "SWZ",
            "ZAF",
            "ZMB",
            "ZWE"
           ],
           "marker": {
            "color": "#636efa",
            "size": [
             0.498765518974519,
             0.527351560691208,
             0.238910015019437,
             0.297296285839681,
             0.228936130767015,
             0.356026346787182,
             0.275815002202903,
             0.640543521937143,
             0.404945829182797,
             0.28250679234451
            ],
            "sizemode": "area",
            "sizeref": 0.00249999999999936,
            "symbol": "circle"
           },
           "mode": "markers",
           "name": "Southern Africa",
           "showlegend": true,
           "type": "scattergeo"
          },
          {
           "geo": "geo2",
           "hovertemplate": "<b>%{hovertext}</b><br><br>AU_Regions=Southern Africa<br>Year=2010<br>Variable=Mpop<br>Value=%{marker.size}<br>ISO=%{location}<extra></extra>",
           "hovertext": [
            "Angola",
            "Botswana",
            "Lesotho",
            "Mozambique",
            "Malawi",
            "Namibia",
            "Kingdom of Eswatini",
            "South Africa",
            "Zambia",
            "Zimbabwe"
           ],
           "legendgroup": "Southern Africa",
           "locations": [
            "AGO",
            "BWA",
            "LSO",
            "MOZ",
            "MWI",
            "NAM",
            "SWZ",
            "ZAF",
            "ZMB",
            "ZWE"
           ],
           "marker": {
            "color": "#636efa",
            "size": [
             0.501512783063225,
             0.286892645703235,
             0.577736717487868,
             0.30475801795674,
             0.505562221970697,
             0.424206331522379,
             0.810141780292466,
             0.409663897604819,
             0.365404857613729,
             0.614099143691032
            ],
            "sizemode": "area",
            "sizeref": 0.00249999999999936,
            "symbol": "circle"
           },
           "mode": "markers",
           "name": "Southern Africa",
           "showlegend": false,
           "type": "scattergeo"
          },
          {
           "geo": "geo",
           "hovertemplate": "<b>%{hovertext}</b><br><br>AU_Regions=Central Africa<br>Year=2010<br>Variable=UrbanLevel<br>Value=%{marker.size}<br>ISO=%{location}<extra></extra>",
           "hovertext": [
            "Burundi",
            "Central African Republic",
            "Cameroon",
            "Democratic Republic of the Congo",
            "Republic of the Congo",
            "Gabon",
            "Equatorial Guinea",
            "Sao Tome and Principe",
            "Chad"
           ],
           "legendgroup": "Central Africa",
           "locations": [
            "BDI",
            "CAF",
            "CMR",
            "COD",
            "COG",
            "GAB",
            "GNQ",
            "STP",
            "TCD"
           ],
           "marker": {
            "color": "#EF553B",
            "size": [
             0.178885193643177,
             0.353180331471542,
             0.509383240535988,
             0.341933968,
             0.643226041193275,
             0.720913910453516,
             0.387328862627645,
             0.632634391100834,
             0.245893408671775
            ],
            "sizemode": "area",
            "sizeref": 0.00249999999999936,
            "symbol": "circle"
           },
           "mode": "markers",
           "name": "Central Africa",
           "showlegend": true,
           "type": "scattergeo"
          },
          {
           "geo": "geo2",
           "hovertemplate": "<b>%{hovertext}</b><br><br>AU_Regions=Central Africa<br>Year=2010<br>Variable=Mpop<br>Value=%{marker.size}<br>ISO=%{location}<extra></extra>",
           "hovertext": [
            "Burundi",
            "Central African Republic",
            "Cameroon",
            "Democratic Republic of the Congo",
            "Republic of the Congo",
            "Gabon",
            "Equatorial Guinea",
            "Sao Tome and Principe",
            "Chad"
           ],
           "legendgroup": "Central Africa",
           "locations": [
            "BDI",
            "CAF",
            "CMR",
            "COD",
            "COG",
            "GAB",
            "GNQ",
            "STP",
            "TCD"
           ],
           "marker": {
            "color": "#EF553B",
            "size": [
             0.58365521528189,
             0.527584441913064,
             0.45244453251491,
             0.337769542685503,
             0.815075931307608,
             0.592905756622216,
             0.975387191860061,
             0.800566009279003,
             0.347881529935609
            ],
            "sizemode": "area",
            "sizeref": 0.00249999999999936,
            "symbol": "circle"
           },
           "mode": "markers",
           "name": "Central Africa",
           "showlegend": false,
           "type": "scattergeo"
          },
          {
           "geo": "geo",
           "hovertemplate": "<b>%{hovertext}</b><br><br>AU_Regions=West Africa<br>Year=2010<br>Variable=UrbanLevel<br>Value=%{marker.size}<br>ISO=%{location}<extra></extra>",
           "hovertext": [
            "Benin",
            "Burkina Faso",
            "Cote d`Ivoire",
            "Cabo Verde",
            "Ghana",
            "Guinea",
            "The Gambia",
            "Guinea-Bissau",
            "Liberia",
            "Mali",
            "Niger",
            "Nigeria",
            "Senegal",
            "Sierra Leone",
            "Togo"
           ],
           "legendgroup": "West Africa",
           "locations": [
            "BEN",
            "BFA",
            "CIV",
            "CPV",
            "GHA",
            "GIN",
            "GMB",
            "GNB",
            "LBR",
            "MLI",
            "NER",
            "NGA",
            "SEN",
            "SLE",
            "TGO"
           ],
           "marker": {
            "color": "#00cc96",
            "size": [
             0.36388979447024,
             0.247787592886731,
             0.466958293600341,
             0.466760864040661,
             0.474847844634395,
             0.339756858164874,
             0.43717230692443,
             0.310130058518091,
             0.379139983862397,
             0.281186510459186,
             0.15928540596613,
             0.443645543175487,
             0.464520448304598,
             0.309154518205933,
             0.410365827820074
            ],
            "sizemode": "area",
            "sizeref": 0.00249999999999936,
            "symbol": "circle"
           },
           "mode": "markers",
           "name": "West Africa",
           "showlegend": true,
           "type": "scattergeo"
          },
          {
           "geo": "geo2",
           "hovertemplate": "<b>%{hovertext}</b><br><br>AU_Regions=West Africa<br>Year=2010<br>Variable=Mpop<br>Value=%{marker.size}<br>ISO=%{location}<extra></extra>",
           "hovertext": [
            "Benin",
            "Burkina Faso",
            "Cote d`Ivoire",
            "Cabo Verde",
            "Ghana",
            "Guinea",
            "The Gambia",
            "Guinea-Bissau",
            "Liberia",
            "Mali",
            "Niger",
            "Nigeria",
            "Senegal",
            "Sierra Leone",
            "Togo"
           ],
           "legendgroup": "West Africa",
           "locations": [
            "BEN",
            "BFA",
            "CIV",
            "CPV",
            "GHA",
            "GIN",
            "GMB",
            "GNB",
            "LBR",
            "MLI",
            "NER",
            "NGA",
            "SEN",
            "SLE",
            "TGO"
           ],
           "marker": {
            "color": "#00cc96",
            "size": [
             0.475356938275286,
             0.580119355715354,
             0.427215738693237,
             0.871887903548586,
             0.544164614059407,
             0.530276868994495,
             0.842597718453386,
             0.821920225533522,
             0.69827246723455,
             0.514555863747562,
             0.365301765382975,
             0.167590718742467,
             0.459215863397962,
             0.573316907305765,
             0.558297417659724
            ],
            "sizemode": "area",
            "sizeref": 0.00249999999999936,
            "symbol": "circle"
           },
           "mode": "markers",
           "name": "West Africa",
           "showlegend": false,
           "type": "scattergeo"
          },
          {
           "geo": "geo",
           "hovertemplate": "<b>%{hovertext}</b><br><br>AU_Regions=East Africa<br>Year=2010<br>Variable=UrbanLevel<br>Value=%{marker.size}<br>ISO=%{location}<extra></extra>",
           "hovertext": [
            "Comoros",
            "Djibouti",
            "Eritrea",
            "Ethiopia",
            "Kenya",
            "Madagascar",
            "Mauritius",
            "Rwanda",
            "Sudan",
            "Somalia",
            "South Sudan",
            "Seychelles",
            "Tanzania",
            "Uganda"
           ],
           "legendgroup": "East Africa",
           "locations": [
            "COM",
            "DJI",
            "ERI",
            "ETH",
            "KEN",
            "MDG",
            "MUS",
            "RWA",
            "SDN",
            "SOM",
            "SSD",
            "SYC",
            "TZA",
            "UGA"
           ],
           "marker": {
            "color": "#ab63fa",
            "size": [
             0.25209015472795,
             0.705207789629126,
             0.232456584735724,
             0.136505602266681,
             0.293032146480863,
             0.213475286427638,
             0.713837777537816,
             0.515861305385323,
             0.399763903689836,
             0.315877590395746,
             0.204200567091482,
             0.724258586133098,
             0.334598441901546,
             0.173466643121146
            ],
            "sizemode": "area",
            "sizeref": 0.00249999999999936,
            "symbol": "circle"
           },
           "mode": "markers",
           "name": "East Africa",
           "showlegend": true,
           "type": "scattergeo"
          },
          {
           "geo": "geo2",
           "hovertemplate": "<b>%{hovertext}</b><br><br>AU_Regions=East Africa<br>Year=2010<br>Variable=Mpop<br>Value=%{marker.size}<br>ISO=%{location}<extra></extra>",
           "hovertext": [
            "Comoros",
            "Djibouti",
            "Eritrea",
            "Ethiopia",
            "Kenya",
            "Madagascar",
            "Mauritius",
            "Rwanda",
            "Sudan",
            "Somalia",
            "South Sudan",
            "Seychelles",
            "Tanzania",
            "Uganda"
           ],
           "legendgroup": "East Africa",
           "locations": [
            "COM",
            "DJI",
            "ERI",
            "ETH",
            "KEN",
            "MDG",
            "MUS",
            "RWA",
            "SDN",
            "SOM",
            "SSD",
            "SYC",
            "TZA",
            "UGA"
           ],
           "marker": {
            "color": "#ab63fa",
            "size": [
             0.439199844461969,
             0.822451178246679,
             0.471907371743156,
             0.267544332863525,
             0.465263925077419,
             0.475240881549494,
             0.707690575385574,
             0.398032303041225,
             0.354425495894098,
             0.565119920632201,
             0.157905649951213,
             0.999999999998436,
             0.277951641660616,
             0.447246142903675
            ],
            "sizemode": "area",
            "sizeref": 0.00249999999999936,
            "symbol": "circle"
           },
           "mode": "markers",
           "name": "East Africa",
           "showlegend": false,
           "type": "scattergeo"
          },
          {
           "geo": "geo",
           "hovertemplate": "<b>%{hovertext}</b><br><br>AU_Regions=North Africa<br>Year=2010<br>Variable=UrbanLevel<br>Value=%{marker.size}<br>ISO=%{location}<extra></extra>",
           "hovertext": [
            "Algeria",
            "Egypt",
            "Libya",
            "Morocco",
            "Mauritania",
            "Tunisia"
           ],
           "legendgroup": "North Africa",
           "locations": [
            "DZA",
            "EGY",
            "LBY",
            "MAR",
            "MRT",
            "TUN"
           ],
           "marker": {
            "color": "#FFA15A",
            "size": [
             0.549281394185336,
             0.496298643597885,
             0.74185382838605,
             0.508109911736435,
             0.4061177744931,
             0.511617270320886
            ],
            "sizemode": "area",
            "sizeref": 0.00249999999999936,
            "symbol": "circle"
           },
           "mode": "markers",
           "name": "North Africa",
           "showlegend": true,
           "type": "scattergeo"
          },
          {
           "geo": "geo2",
           "hovertemplate": "<b>%{hovertext}</b><br><br>AU_Regions=North Africa<br>Year=2010<br>Variable=Mpop<br>Value=%{marker.size}<br>ISO=%{location}<extra></extra>",
           "hovertext": [
            "Algeria",
            "Egypt",
            "Libya",
            "Morocco",
            "Mauritania",
            "Tunisia"
           ],
           "legendgroup": "North Africa",
           "locations": [
            "DZA",
            "EGY",
            "LBY",
            "MAR",
            "MRT",
            "TUN"
           ],
           "marker": {
            "color": "#FFA15A",
            "size": [
             0.154764339684261,
             0.40909267437712,
             0.480627102701185,
             0.310131903998911,
             0.638827669944784,
             0.349167465007321
            ],
            "sizemode": "area",
            "sizeref": 0.00249999999999936,
            "symbol": "circle"
           },
           "mode": "markers",
           "name": "North Africa",
           "showlegend": false,
           "type": "scattergeo"
          }
         ],
         "name": "2010"
        },
        {
         "data": [
          {
           "geo": "geo",
           "hovertemplate": "<b>%{hovertext}</b><br><br>AU_Regions=Southern Africa<br>Year=2015<br>Variable=UrbanLevel<br>Value=%{marker.size}<br>ISO=%{location}<extra></extra>",
           "hovertext": [
            "Angola",
            "Botswana",
            "Lesotho",
            "Mozambique",
            "Malawi",
            "Namibia",
            "Kingdom of Eswatini",
            "South Africa",
            "Zambia",
            "Zimbabwe"
           ],
           "legendgroup": "Southern Africa",
           "locations": [
            "AGO",
            "BWA",
            "LSO",
            "MOZ",
            "MWI",
            "NAM",
            "SWZ",
            "ZAF",
            "ZMB",
            "ZWE"
           ],
           "marker": {
            "color": "#636efa",
            "size": [
             0.633101566029755,
             0.532285960674838,
             0.25471023575321,
             0.305258799595731,
             0.241527077646276,
             0.39717963800905,
             0.278532530651799,
             0.675484764309758,
             0.443014088147861,
             0.330413113392137
            ],
            "sizemode": "area",
            "sizeref": 0.00249999999999936,
            "symbol": "circle"
           },
           "mode": "markers",
           "name": "Southern Africa",
           "showlegend": true,
           "type": "scattergeo"
          },
          {
           "geo": "geo2",
           "hovertemplate": "<b>%{hovertext}</b><br><br>AU_Regions=Southern Africa<br>Year=2015<br>Variable=Mpop<br>Value=%{marker.size}<br>ISO=%{location}<extra></extra>",
           "hovertext": [
            "Angola",
            "Botswana",
            "Lesotho",
            "Mozambique",
            "Malawi",
            "Namibia",
            "Kingdom of Eswatini",
            "South Africa",
            "Zambia",
            "Zimbabwe"
           ],
           "legendgroup": "Southern Africa",
           "locations": [
            "AGO",
            "BWA",
            "LSO",
            "MOZ",
            "MWI",
            "NAM",
            "SWZ",
            "ZAF",
            "ZMB",
            "ZWE"
           ],
           "marker": {
            "color": "#636efa",
            "size": [
             0.44107918873207,
             0.288065536257619,
             0.602883370624389,
             0.316764769207511,
             0.504569974933873,
             0.407005503738417,
             0.81777390459754,
             0.408118367023617,
             0.353992443692374,
             0.637440824131802
            ],
            "sizemode": "area",
            "sizeref": 0.00249999999999936,
            "symbol": "circle"
           },
           "mode": "markers",
           "name": "Southern Africa",
           "showlegend": false,
           "type": "scattergeo"
          },
          {
           "geo": "geo",
           "hovertemplate": "<b>%{hovertext}</b><br><br>AU_Regions=Central Africa<br>Year=2015<br>Variable=UrbanLevel<br>Value=%{marker.size}<br>ISO=%{location}<extra></extra>",
           "hovertext": [
            "Burundi",
            "Central African Republic",
            "Cameroon",
            "Democratic Republic of the Congo",
            "Republic of the Congo",
            "Gabon",
            "Equatorial Guinea",
            "Sao Tome and Principe",
            "Chad"
           ],
           "legendgroup": "Central Africa",
           "locations": [
            "BDI",
            "CAF",
            "CMR",
            "COD",
            "COG",
            "GAB",
            "GNQ",
            "STP",
            "TCD"
           ],
           "marker": {
            "color": "#EF553B",
            "size": [
             0.18369896134175,
             0.358565890108564,
             0.564208400047846,
             0.436016057041799,
             0.644758607654292,
             0.806949548374722,
             0.49654707544407,
             0.804276381909548,
             0.280541363169385
            ],
            "sizemode": "area",
            "sizeref": 0.00249999999999936,
            "symbol": "circle"
           },
           "mode": "markers",
           "name": "Central Africa",
           "showlegend": true,
           "type": "scattergeo"
          },
          {
           "geo": "geo2",
           "hovertemplate": "<b>%{hovertext}</b><br><br>AU_Regions=Central Africa<br>Year=2015<br>Variable=Mpop<br>Value=%{marker.size}<br>ISO=%{location}<extra></extra>",
           "hovertext": [
            "Burundi",
            "Central African Republic",
            "Cameroon",
            "Democratic Republic of the Congo",
            "Republic of the Congo",
            "Gabon",
            "Equatorial Guinea",
            "Sao Tome and Principe",
            "Chad"
           ],
           "legendgroup": "Central Africa",
           "locations": [
            "BDI",
            "CAF",
            "CMR",
            "COD",
            "COG",
            "GAB",
            "GNQ",
            "STP",
            "TCD"
           ],
           "marker": {
            "color": "#EF553B",
            "size": [
             0.578428118386759,
             0.530592794825321,
             0.516962113643005,
             0.30089105213685,
             0.805271786693286,
             0.58803337768461,
             0.936408566721427,
             0.84189414624036,
             0.315525535172653
            ],
            "sizemode": "area",
            "sizeref": 0.00249999999999936,
            "symbol": "circle"
           },
           "mode": "markers",
           "name": "Central Africa",
           "showlegend": false,
           "type": "scattergeo"
          },
          {
           "geo": "geo",
           "hovertemplate": "<b>%{hovertext}</b><br><br>AU_Regions=West Africa<br>Year=2015<br>Variable=UrbanLevel<br>Value=%{marker.size}<br>ISO=%{location}<extra></extra>",
           "hovertext": [
            "Benin",
            "Burkina Faso",
            "Cote d`Ivoire",
            "Cabo Verde",
            "Ghana",
            "Guinea",
            "The Gambia",
            "Guinea-Bissau",
            "Liberia",
            "Mali",
            "Niger",
            "Nigeria",
            "Senegal",
            "Sierra Leone",
            "Togo"
           ],
           "legendgroup": "West Africa",
           "locations": [
            "BEN",
            "BFA",
            "CIV",
            "CPV",
            "GHA",
            "GIN",
            "GMB",
            "GNB",
            "LBR",
            "MLI",
            "NER",
            "NGA",
            "SEN",
            "SLE",
            "TGO"
           ],
           "marker": {
            "color": "#00cc96",
            "size": [
             0.438010234553003,
             0.275629096977024,
             0.480565450643777,
             0.502851383201895,
             0.492277206073079,
             0.370252892823147,
             0.452753576210971,
             0.343293674463638,
             0.419326896193016,
             0.311882898941254,
             0.172901656534526,
             0.505635445207495,
             0.490773449282978,
             0.361285557632824,
             0.48406832479883
            ],
            "sizemode": "area",
            "sizeref": 0.00249999999999936,
            "symbol": "circle"
           },
           "mode": "markers",
           "name": "West Africa",
           "showlegend": true,
           "type": "scattergeo"
          },
          {
           "geo": "geo2",
           "hovertemplate": "<b>%{hovertext}</b><br><br>AU_Regions=West Africa<br>Year=2015<br>Variable=Mpop<br>Value=%{marker.size}<br>ISO=%{location}<extra></extra>",
           "hovertext": [
            "Benin",
            "Burkina Faso",
            "Cote d`Ivoire",
            "Cabo Verde",
            "Ghana",
            "Guinea",
            "The Gambia",
            "Guinea-Bissau",
            "Liberia",
            "Mali",
            "Niger",
            "Nigeria",
            "Senegal",
            "Sierra Leone",
            "Togo"
           ],
           "legendgroup": "West Africa",
           "locations": [
            "BEN",
            "BFA",
            "CIV",
            "CPV",
            "GHA",
            "GIN",
            "GMB",
            "GNB",
            "LBR",
            "MLI",
            "NER",
            "NGA",
            "SEN",
            "SLE",
            "TGO"
           ],
           "marker": {
            "color": "#00cc96",
            "size": [
             0.44595133312391,
             0.583396732627484,
             0.421297961316132,
             0.847313319161676,
             0.537797343047271,
             0.540718838398198,
             0.860848849654906,
             0.781451609833558,
             0.701922300322612,
             0.500542155905532,
             0.328743322234907,
             0.146487035076578,
             0.441953654782684,
             0.568476956832921,
             0.523885127487171
            ],
            "sizemode": "area",
            "sizeref": 0.00249999999999936,
            "symbol": "circle"
           },
           "mode": "markers",
           "name": "West Africa",
           "showlegend": false,
           "type": "scattergeo"
          },
          {
           "geo": "geo",
           "hovertemplate": "<b>%{hovertext}</b><br><br>AU_Regions=East Africa<br>Year=2015<br>Variable=UrbanLevel<br>Value=%{marker.size}<br>ISO=%{location}<extra></extra>",
           "hovertext": [
            "Comoros",
            "Djibouti",
            "Eritrea",
            "Ethiopia",
            "Kenya",
            "Madagascar",
            "Mauritius",
            "Rwanda",
            "Sudan",
            "Somalia",
            "South Sudan",
            "Seychelles",
            "Tanzania",
            "Uganda"
           ],
           "legendgroup": "East Africa",
           "locations": [
            "COM",
            "DJI",
            "ERI",
            "ETH",
            "KEN",
            "MDG",
            "MUS",
            "RWA",
            "SDN",
            "SOM",
            "SSD",
            "SYC",
            "TZA",
            "UGA"
           ],
           "marker": {
            "color": "#ab63fa",
            "size": [
             0.47825345752322,
             0.720504184100418,
             0.244498658964308,
             0.251902573880415,
             0.403635340665106,
             0.216073664534512,
             0.739648583682149,
             0.5491965612375,
             0.416707922196009,
             0.358248520710059,
             0.217879496963105,
             0.725987218874105,
             0.367658972449281,
             0.381045420632232
            ],
            "sizemode": "area",
            "sizeref": 0.00249999999999936,
            "symbol": "circle"
           },
           "mode": "markers",
           "name": "East Africa",
           "showlegend": true,
           "type": "scattergeo"
          },
          {
           "geo": "geo2",
           "hovertemplate": "<b>%{hovertext}</b><br><br>AU_Regions=East Africa<br>Year=2015<br>Variable=Mpop<br>Value=%{marker.size}<br>ISO=%{location}<extra></extra>",
           "hovertext": [
            "Comoros",
            "Djibouti",
            "Eritrea",
            "Ethiopia",
            "Kenya",
            "Madagascar",
            "Mauritius",
            "Rwanda",
            "Sudan",
            "Somalia",
            "South Sudan",
            "Seychelles",
            "Tanzania",
            "Uganda"
           ],
           "legendgroup": "East Africa",
           "locations": [
            "COM",
            "DJI",
            "ERI",
            "ETH",
            "KEN",
            "MDG",
            "MUS",
            "RWA",
            "SDN",
            "SOM",
            "SSD",
            "SYC",
            "TZA",
            "UGA"
           ],
           "marker": {
            "color": "#ab63fa",
            "size": [
             0.3206072238701,
             0.806331863147783,
             0.392680693789864,
             0.163560381608028,
             0.400309148408346,
             0.46953075412101,
             0.664374804579513,
             0.353389894700078,
             0.328712283518624,
             0.532681465820989,
             0.141150360643605,
             0.999999999998526,
             0.296926589449131,
             0.279845042270995
            ],
            "sizemode": "area",
            "sizeref": 0.00249999999999936,
            "symbol": "circle"
           },
           "mode": "markers",
           "name": "East Africa",
           "showlegend": false,
           "type": "scattergeo"
          },
          {
           "geo": "geo",
           "hovertemplate": "<b>%{hovertext}</b><br><br>AU_Regions=North Africa<br>Year=2015<br>Variable=UrbanLevel<br>Value=%{marker.size}<br>ISO=%{location}<extra></extra>",
           "hovertext": [
            "Algeria",
            "Egypt",
            "Libya",
            "Morocco",
            "Mauritania",
            "Tunisia"
           ],
           "legendgroup": "North Africa",
           "locations": [
            "DZA",
            "EGY",
            "LBY",
            "MAR",
            "MRT",
            "TUN"
           ],
           "marker": {
            "color": "#FFA15A",
            "size": [
             0.611265270375097,
             0.667245906553751,
             0.74185382838605,
             0.567501519012736,
             0.424641859664961,
             0.564473935678192
            ],
            "sizemode": "area",
            "sizeref": 0.00249999999999936,
            "symbol": "circle"
           },
           "mode": "markers",
           "name": "North Africa",
           "showlegend": true,
           "type": "scattergeo"
          },
          {
           "geo": "geo2",
           "hovertemplate": "<b>%{hovertext}</b><br><br>AU_Regions=North Africa<br>Year=2015<br>Variable=Mpop<br>Value=%{marker.size}<br>ISO=%{location}<extra></extra>",
           "hovertext": [
            "Algeria",
            "Egypt",
            "Libya",
            "Morocco",
            "Mauritania",
            "Tunisia"
           ],
           "legendgroup": "North Africa",
           "locations": [
            "DZA",
            "EGY",
            "LBY",
            "MAR",
            "MRT",
            "TUN"
           ],
           "marker": {
            "color": "#FFA15A",
            "size": [
             0.15908805282988,
             0.380282132215095,
             0.480627102701185,
             0.315047462845912,
             0.619232724808186,
             0.38915984436174
            ],
            "sizemode": "area",
            "sizeref": 0.00249999999999936,
            "symbol": "circle"
           },
           "mode": "markers",
           "name": "North Africa",
           "showlegend": false,
           "type": "scattergeo"
          }
         ],
         "name": "2015"
        },
        {
         "data": [
          {
           "geo": "geo",
           "hovertemplate": "<b>%{hovertext}</b><br><br>AU_Regions=Southern Africa<br>Year=2020<br>Variable=UrbanLevel<br>Value=%{marker.size}<br>ISO=%{location}<extra></extra>",
           "hovertext": [
            "Angola",
            "Botswana",
            "Lesotho",
            "Mozambique",
            "Malawi",
            "Namibia",
            "Kingdom of Eswatini",
            "South Africa",
            "Zambia",
            "Zimbabwe"
           ],
           "legendgroup": "Southern Africa",
           "locations": [
            "AGO",
            "BWA",
            "LSO",
            "MOZ",
            "MWI",
            "NAM",
            "SWZ",
            "ZAF",
            "ZMB",
            "ZWE"
           ],
           "marker": {
            "color": "#636efa",
            "size": [
             0.628856018250755,
             0.572393169877408,
             0.422837742711875,
             0.386615159891392,
             0.357350677506775,
             0.444492614770459,
             0.385858378643019,
             0.731158175471419,
             0.449335199440168,
             0.386360828241684
            ],
            "sizemode": "area",
            "sizeref": 0.00249999999999936,
            "symbol": "circle"
           },
           "mode": "markers",
           "name": "Southern Africa",
           "showlegend": true,
           "type": "scattergeo"
          },
          {
           "geo": "geo2",
           "hovertemplate": "<b>%{hovertext}</b><br><br>AU_Regions=Southern Africa<br>Year=2020<br>Variable=Mpop<br>Value=%{marker.size}<br>ISO=%{location}<extra></extra>",
           "hovertext": [
            "Angola",
            "Botswana",
            "Lesotho",
            "Mozambique",
            "Malawi",
            "Namibia",
            "Kingdom of Eswatini",
            "South Africa",
            "Zambia",
            "Zimbabwe"
           ],
           "legendgroup": "Southern Africa",
           "locations": [
            "AGO",
            "BWA",
            "LSO",
            "MOZ",
            "MWI",
            "NAM",
            "SWZ",
            "ZAF",
            "ZMB",
            "ZWE"
           ],
           "marker": {
            "color": "#636efa",
            "size": [
             0.424602262389174,
             0.288987766054259,
             0.473247039991116,
             0.219418685722441,
             0.351372946344063,
             0.418665701501776,
             0.637083136941146,
             0.381703836966197,
             0.330112012267436,
             0.574409845556952
            ],
            "sizemode": "area",
            "sizeref": 0.00249999999999936,
            "symbol": "circle"
           },
           "mode": "markers",
           "name": "Southern Africa",
           "showlegend": false,
           "type": "scattergeo"
          },
          {
           "geo": "geo",
           "hovertemplate": "<b>%{hovertext}</b><br><br>AU_Regions=Central Africa<br>Year=2020<br>Variable=UrbanLevel<br>Value=%{marker.size}<br>ISO=%{location}<extra></extra>",
           "hovertext": [
            "Burundi",
            "Central African Republic",
            "Cameroon",
            "Democratic Republic of the Congo",
            "Republic of the Congo",
            "Gabon",
            "Equatorial Guinea",
            "Sao Tome and Principe",
            "Chad"
           ],
           "legendgroup": "Central Africa",
           "locations": [
            "BDI",
            "CAF",
            "CMR",
            "COD",
            "COG",
            "GAB",
            "GNQ",
            "STP",
            "TCD"
           ],
           "marker": {
            "color": "#EF553B",
            "size": [
             0.77867051681983,
             0.4546803003003,
             0.596365170474113,
             0.465506904692854,
             0.709738574040219,
             0.765375194093798,
             0.522243644800194,
             0.735571428571429,
             0.319072810743109
            ],
            "sizemode": "area",
            "sizeref": 0.00249999999999936,
            "symbol": "circle"
           },
           "mode": "markers",
           "name": "Central Africa",
           "showlegend": true,
           "type": "scattergeo"
          },
          {
           "geo": "geo2",
           "hovertemplate": "<b>%{hovertext}</b><br><br>AU_Regions=Central Africa<br>Year=2020<br>Variable=Mpop<br>Value=%{marker.size}<br>ISO=%{location}<extra></extra>",
           "hovertext": [
            "Burundi",
            "Central African Republic",
            "Cameroon",
            "Democratic Republic of the Congo",
            "Republic of the Congo",
            "Gabon",
            "Equatorial Guinea",
            "Sao Tome and Principe",
            "Chad"
           ],
           "legendgroup": "Central Africa",
           "locations": [
            "BDI",
            "CAF",
            "CMR",
            "COD",
            "COG",
            "GAB",
            "GNQ",
            "STP",
            "TCD"
           ],
           "marker": {
            "color": "#EF553B",
            "size": [
             0.206335426309609,
             0.509713652875836,
             0.518132687011729,
             0.297658690669307,
             0.795922488647085,
             0.585175845031157,
             0.934079432236804,
             0.806739172654362,
             0.307373624916399
            ],
            "sizemode": "area",
            "sizeref": 0.00249999999999936,
            "symbol": "circle"
           },
           "mode": "markers",
           "name": "Central Africa",
           "showlegend": false,
           "type": "scattergeo"
          },
          {
           "geo": "geo",
           "hovertemplate": "<b>%{hovertext}</b><br><br>AU_Regions=West Africa<br>Year=2020<br>Variable=UrbanLevel<br>Value=%{marker.size}<br>ISO=%{location}<extra></extra>",
           "hovertext": [
            "Benin",
            "Burkina Faso",
            "Cote d`Ivoire",
            "Cabo Verde",
            "Ghana",
            "Guinea",
            "The Gambia",
            "Guinea-Bissau",
            "Liberia",
            "Mali",
            "Niger",
            "Nigeria",
            "Senegal",
            "Sierra Leone",
            "Togo"
           ],
           "legendgroup": "West Africa",
           "locations": [
            "BEN",
            "BFA",
            "CIV",
            "CPV",
            "GHA",
            "GIN",
            "GMB",
            "GNB",
            "LBR",
            "MLI",
            "NER",
            "NGA",
            "SEN",
            "SLE",
            "TGO"
           ],
           "marker": {
            "color": "#00cc96",
            "size": [
             0.581129413212586,
             0.319052508057146,
             0.527116761638533,
             0.563369834710744,
             0.541148889585326,
             0.397641643909383,
             0.477620008972634,
             0.380499370426189,
             0.443031257235288,
             0.342838028300464,
             0.179807553598113,
             0.583779179708607,
             0.533046453157737,
             0.453855421686747,
             0.608107152145644
            ],
            "sizemode": "area",
            "sizeref": 0.00249999999999936,
            "symbol": "circle"
           },
           "mode": "markers",
           "name": "West Africa",
           "showlegend": true,
           "type": "scattergeo"
          },
          {
           "geo": "geo2",
           "hovertemplate": "<b>%{hovertext}</b><br><br>AU_Regions=West Africa<br>Year=2020<br>Variable=Mpop<br>Value=%{marker.size}<br>ISO=%{location}<extra></extra>",
           "hovertext": [
            "Benin",
            "Burkina Faso",
            "Cote d`Ivoire",
            "Cabo Verde",
            "Ghana",
            "Guinea",
            "The Gambia",
            "Guinea-Bissau",
            "Liberia",
            "Mali",
            "Niger",
            "Nigeria",
            "Senegal",
            "Sierra Leone",
            "Togo"
           ],
           "legendgroup": "West Africa",
           "locations": [
            "BEN",
            "BFA",
            "CIV",
            "CPV",
            "GHA",
            "GIN",
            "GMB",
            "GNB",
            "LBR",
            "MLI",
            "NER",
            "NGA",
            "SEN",
            "SLE",
            "TGO"
           ],
           "marker": {
            "color": "#00cc96",
            "size": [
             0.400388526176001,
             0.567419020438591,
             0.39958501887968,
             0.764125997997307,
             0.486902148361935,
             0.51683742983007,
             0.85343527942018,
             0.721975315896071,
             0.708492267402831,
             0.509041798386685,
             0.287721457099946,
             0.142297298374387,
             0.435345516405613,
             0.585198949945415,
             0.578592592846023
            ],
            "sizemode": "area",
            "sizeref": 0.00249999999999936,
            "symbol": "circle"
           },
           "mode": "markers",
           "name": "West Africa",
           "showlegend": false,
           "type": "scattergeo"
          },
          {
           "geo": "geo",
           "hovertemplate": "<b>%{hovertext}</b><br><br>AU_Regions=East Africa<br>Year=2020<br>Variable=UrbanLevel<br>Value=%{marker.size}<br>ISO=%{location}<extra></extra>",
           "hovertext": [
            "Comoros",
            "Djibouti",
            "Eritrea",
            "Ethiopia",
            "Kenya",
            "Madagascar",
            "Mauritius",
            "Rwanda",
            "Sudan",
            "Somalia",
            "South Sudan",
            "Seychelles",
            "Tanzania",
            "Uganda"
           ],
           "legendgroup": "East Africa",
           "locations": [
            "COM",
            "DJI",
            "ERI",
            "ETH",
            "KEN",
            "MDG",
            "MUS",
            "RWA",
            "SDN",
            "SOM",
            "SSD",
            "SYC",
            "TZA",
            "UGA"
           ],
           "marker": {
            "color": "#ab63fa",
            "size": [
             0.603663774515723,
             0.688913888888889,
             0.395723357621629,
             0.293912152719271,
             0.805144985483971,
             0.225025196797561,
             0.858916530278232,
             0.659216329354099,
             0.465172794556735,
             0.393371744386874,
             0.453023025660171,
             0.781357142857143,
             0.372712925052047,
             0.489730079597922
            ],
            "sizemode": "area",
            "sizeref": 0.00249999999999936,
            "symbol": "circle"
           },
           "mode": "markers",
           "name": "East Africa",
           "showlegend": true,
           "type": "scattergeo"
          },
          {
           "geo": "geo2",
           "hovertemplate": "<b>%{hovertext}</b><br><br>AU_Regions=East Africa<br>Year=2020<br>Variable=Mpop<br>Value=%{marker.size}<br>ISO=%{location}<extra></extra>",
           "hovertext": [
            "Comoros",
            "Djibouti",
            "Eritrea",
            "Ethiopia",
            "Kenya",
            "Madagascar",
            "Mauritius",
            "Rwanda",
            "Sudan",
            "Somalia",
            "South Sudan",
            "Seychelles",
            "Tanzania",
            "Uganda"
           ],
           "legendgroup": "East Africa",
           "locations": [
            "COM",
            "DJI",
            "ERI",
            "ETH",
            "KEN",
            "MDG",
            "MUS",
            "RWA",
            "SDN",
            "SOM",
            "SSD",
            "SYC",
            "TZA",
            "UGA"
           ],
           "marker": {
            "color": "#ab63fa",
            "size": [
             0.294401487399528,
             0.771115833161865,
             0.343564647100882,
             0.144127200769727,
             0.230784160525782,
             0.459619587118125,
             0.60505565951084,
             0.359825884913414,
             0.357396967577426,
             0.50461990538905,
             0.187339147896125,
             0.999999999998694,
             0.260743233785809,
             0.233126344529476
            ],
            "sizemode": "area",
            "sizeref": 0.00249999999999936,
            "symbol": "circle"
           },
           "mode": "markers",
           "name": "East Africa",
           "showlegend": false,
           "type": "scattergeo"
          },
          {
           "geo": "geo",
           "hovertemplate": "<b>%{hovertext}</b><br><br>AU_Regions=North Africa<br>Year=2020<br>Variable=UrbanLevel<br>Value=%{marker.size}<br>ISO=%{location}<extra></extra>",
           "hovertext": [
            "Algeria",
            "Egypt",
            "Libya",
            "Morocco",
            "Mauritania",
            "Tunisia"
           ],
           "legendgroup": "North Africa",
           "locations": [
            "DZA",
            "EGY",
            "LBY",
            "MAR",
            "MRT",
            "TUN"
           ],
           "marker": {
            "color": "#FFA15A",
            "size": [
             0.699826706516422,
             0.980103893115984,
             0.798626885009378,
             0.682257580608779,
             0.42719446153052,
             0.7076270677333
            ],
            "sizemode": "area",
            "sizeref": 0.00249999999999936,
            "symbol": "circle"
           },
           "mode": "markers",
           "name": "North Africa",
           "showlegend": true,
           "type": "scattergeo"
          },
          {
           "geo": "geo2",
           "hovertemplate": "<b>%{hovertext}</b><br><br>AU_Regions=North Africa<br>Year=2020<br>Variable=Mpop<br>Value=%{marker.size}<br>ISO=%{location}<extra></extra>",
           "hovertext": [
            "Algeria",
            "Egypt",
            "Libya",
            "Morocco",
            "Mauritania",
            "Tunisia"
           ],
           "legendgroup": "North Africa",
           "locations": [
            "DZA",
            "EGY",
            "LBY",
            "MAR",
            "MRT",
            "TUN"
           ],
           "marker": {
            "color": "#FFA15A",
            "size": [
             0.155266966241769,
             0.383135667074252,
             0.419845746855346,
             0.278889537134267,
             0.627114411705297,
             0.371170682327064
            ],
            "sizemode": "area",
            "sizeref": 0.00249999999999936,
            "symbol": "circle"
           },
           "mode": "markers",
           "name": "North Africa",
           "showlegend": false,
           "type": "scattergeo"
          }
         ],
         "name": "2020"
        },
        {
         "data": [
          {
           "geo": "geo",
           "hovertemplate": "<b>%{hovertext}</b><br><br>AU_Regions=Southern Africa<br>Year=2025<br>Variable=UrbanLevel<br>Value=%{marker.size}<br>ISO=%{location}<extra></extra>",
           "hovertext": [
            "Angola",
            "Botswana",
            "Lesotho",
            "Mozambique",
            "Malawi",
            "Namibia",
            "Kingdom of Eswatini",
            "South Africa",
            "Zambia",
            "Zimbabwe"
           ],
           "legendgroup": "Southern Africa",
           "locations": [
            "AGO",
            "BWA",
            "LSO",
            "MOZ",
            "MWI",
            "NAM",
            "SWZ",
            "ZAF",
            "ZMB",
            "ZWE"
           ],
           "marker": {
            "color": "#636efa",
            "size": [
             0.644370855435646,
             0.599499310595124,
             0.49895426988488,
             0.412430716599848,
             0.385141792428792,
             0.497499974109515,
             0.432050317094692,
             0.755932450125991,
             0.459384632785626,
             0.39268779669457
            ],
            "sizemode": "area",
            "sizeref": 0.00249999999999936,
            "symbol": "circle"
           },
           "mode": "markers",
           "name": "Southern Africa",
           "showlegend": true,
           "type": "scattergeo"
          },
          {
           "geo": "geo2",
           "hovertemplate": "<b>%{hovertext}</b><br><br>AU_Regions=Southern Africa<br>Year=2025<br>Variable=Mpop<br>Value=%{marker.size}<br>ISO=%{location}<extra></extra>",
           "hovertext": [
            "Angola",
            "Botswana",
            "Lesotho",
            "Mozambique",
            "Malawi",
            "Namibia",
            "Kingdom of Eswatini",
            "South Africa",
            "Zambia",
            "Zimbabwe"
           ],
           "legendgroup": "Southern Africa",
           "locations": [
            "AGO",
            "BWA",
            "LSO",
            "MOZ",
            "MWI",
            "NAM",
            "SWZ",
            "ZAF",
            "ZMB",
            "ZWE"
           ],
           "marker": {
            "color": "#636efa",
            "size": [
             0.43619176632168,
             0.286640475959608,
             0.460248720729879,
             0.203070869497806,
             0.335487980904369,
             0.42091383580064,
             0.629026377211028,
             0.402364660317174,
             0.332246495934186,
             0.578078984536458
            ],
            "sizemode": "area",
            "sizeref": 0.00249999999999936,
            "symbol": "circle"
           },
           "mode": "markers",
           "name": "Southern Africa",
           "showlegend": false,
           "type": "scattergeo"
          },
          {
           "geo": "geo",
           "hovertemplate": "<b>%{hovertext}</b><br><br>AU_Regions=Central Africa<br>Year=2025<br>Variable=UrbanLevel<br>Value=%{marker.size}<br>ISO=%{location}<extra></extra>",
           "hovertext": [
            "Burundi",
            "Central African Republic",
            "Cameroon",
            "Democratic Republic of the Congo",
            "Republic of the Congo",
            "Gabon",
            "Equatorial Guinea",
            "Sao Tome and Principe",
            "Chad"
           ],
           "legendgroup": "Central Africa",
           "locations": [
            "BDI",
            "CAF",
            "CMR",
            "COD",
            "COG",
            "GAB",
            "GNQ",
            "STP",
            "TCD"
           ],
           "marker": {
            "color": "#EF553B",
            "size": [
             0.781713352455619,
             0.486962827940611,
             0.630254320230852,
             0.500135495811718,
             0.734002715999147,
             0.777881188794652,
             0.561574756237378,
             0.764685047960689,
             0.339405203784018
            ],
            "sizemode": "area",
            "sizeref": 0.00249999999999936,
            "symbol": "circle"
           },
           "mode": "markers",
           "name": "Central Africa",
           "showlegend": true,
           "type": "scattergeo"
          },
          {
           "geo": "geo2",
           "hovertemplate": "<b>%{hovertext}</b><br><br>AU_Regions=Central Africa<br>Year=2025<br>Variable=Mpop<br>Value=%{marker.size}<br>ISO=%{location}<extra></extra>",
           "hovertext": [
            "Burundi",
            "Central African Republic",
            "Cameroon",
            "Democratic Republic of the Congo",
            "Republic of the Congo",
            "Gabon",
            "Equatorial Guinea",
            "Sao Tome and Principe",
            "Chad"
           ],
           "legendgroup": "Central Africa",
           "locations": [
            "BDI",
            "CAF",
            "CMR",
            "COD",
            "COG",
            "GAB",
            "GNQ",
            "STP",
            "TCD"
           ],
           "marker": {
            "color": "#EF553B",
            "size": [
             0.198709786666795,
             0.503705632017256,
             0.519254446292228,
             0.296244234647675,
             0.790361098278747,
             0.5821957429274,
             0.90906243668489,
             0.746735559611893,
             0.312457659310083
            ],
            "sizemode": "area",
            "sizeref": 0.00249999999999936,
            "symbol": "circle"
           },
           "mode": "markers",
           "name": "Central Africa",
           "showlegend": false,
           "type": "scattergeo"
          },
          {
           "geo": "geo",
           "hovertemplate": "<b>%{hovertext}</b><br><br>AU_Regions=West Africa<br>Year=2025<br>Variable=UrbanLevel<br>Value=%{marker.size}<br>ISO=%{location}<extra></extra>",
           "hovertext": [
            "Benin",
            "Burkina Faso",
            "Cote d`Ivoire",
            "Cabo Verde",
            "Ghana",
            "Guinea",
            "The Gambia",
            "Guinea-Bissau",
            "Liberia",
            "Mali",
            "Niger",
            "Nigeria",
            "Senegal",
            "Sierra Leone",
            "Togo"
           ],
           "legendgroup": "West Africa",
           "locations": [
            "BEN",
            "BFA",
            "CIV",
            "CPV",
            "GHA",
            "GIN",
            "GMB",
            "GNB",
            "LBR",
            "MLI",
            "NER",
            "NGA",
            "SEN",
            "SLE",
            "TGO"
           ],
           "marker": {
            "color": "#00cc96",
            "size": [
             0.609881100641287,
             0.351111971306097,
             0.549072212878268,
             0.582985872841684,
             0.564693192567502,
             0.418382668333529,
             0.524772567163086,
             0.389632462305762,
             0.452343588044021,
             0.362439420338409,
             0.196838221372098,
             0.607760295109988,
             0.55132613428023,
             0.429189585937273,
             0.658984977753547
            ],
            "sizemode": "area",
            "sizeref": 0.00249999999999936,
            "symbol": "circle"
           },
           "mode": "markers",
           "name": "West Africa",
           "showlegend": true,
           "type": "scattergeo"
          },
          {
           "geo": "geo2",
           "hovertemplate": "<b>%{hovertext}</b><br><br>AU_Regions=West Africa<br>Year=2025<br>Variable=Mpop<br>Value=%{marker.size}<br>ISO=%{location}<extra></extra>",
           "hovertext": [
            "Benin",
            "Burkina Faso",
            "Cote d`Ivoire",
            "Cabo Verde",
            "Ghana",
            "Guinea",
            "The Gambia",
            "Guinea-Bissau",
            "Liberia",
            "Mali",
            "Niger",
            "Nigeria",
            "Senegal",
            "Sierra Leone",
            "Togo"
           ],
           "legendgroup": "West Africa",
           "locations": [
            "BEN",
            "BFA",
            "CIV",
            "CPV",
            "GHA",
            "GIN",
            "GMB",
            "GNB",
            "LBR",
            "MLI",
            "NER",
            "NGA",
            "SEN",
            "SLE",
            "TGO"
           ],
           "marker": {
            "color": "#00cc96",
            "size": [
             0.396791510571695,
             0.557971881798289,
             0.391149431074047,
             0.765474735021686,
             0.483867655941932,
             0.51304928578707,
             0.859981898873136,
             0.719163035850652,
             0.740949226574327,
             0.504913997293403,
             0.252007198980553,
             0.142485507662598,
             0.422994870644598,
             0.587029439477594,
             0.605820745423628
            ],
            "sizemode": "area",
            "sizeref": 0.00249999999999936,
            "symbol": "circle"
           },
           "mode": "markers",
           "name": "West Africa",
           "showlegend": false,
           "type": "scattergeo"
          },
          {
           "geo": "geo",
           "hovertemplate": "<b>%{hovertext}</b><br><br>AU_Regions=East Africa<br>Year=2025<br>Variable=UrbanLevel<br>Value=%{marker.size}<br>ISO=%{location}<extra></extra>",
           "hovertext": [
            "Comoros",
            "Djibouti",
            "Eritrea",
            "Ethiopia",
            "Kenya",
            "Madagascar",
            "Mauritius",
            "Rwanda",
            "Sudan",
            "Somalia",
            "South Sudan",
            "Seychelles",
            "Tanzania",
            "Uganda"
           ],
           "legendgroup": "East Africa",
           "locations": [
            "COM",
            "DJI",
            "ERI",
            "ETH",
            "KEN",
            "MDG",
            "MUS",
            "RWA",
            "SDN",
            "SOM",
            "SSD",
            "SYC",
            "TZA",
            "UGA"
           ],
           "marker": {
            "color": "#ab63fa",
            "size": [
             0.596484558544326,
             0.695580682558918,
             0.428895977584437,
             0.314078355413702,
             0.839495762435904,
             0.245749291385203,
             0.867806388079658,
             0.673665187137005,
             0.49454167128374,
             0.427249856240431,
             0.473466056161291,
             0.779305421031084,
             0.396300925284801,
             0.564557868523153
            ],
            "sizemode": "area",
            "sizeref": 0.00249999999999936,
            "symbol": "circle"
           },
           "mode": "markers",
           "name": "East Africa",
           "showlegend": true,
           "type": "scattergeo"
          },
          {
           "geo": "geo2",
           "hovertemplate": "<b>%{hovertext}</b><br><br>AU_Regions=East Africa<br>Year=2025<br>Variable=Mpop<br>Value=%{marker.size}<br>ISO=%{location}<extra></extra>",
           "hovertext": [
            "Comoros",
            "Djibouti",
            "Eritrea",
            "Ethiopia",
            "Kenya",
            "Madagascar",
            "Mauritius",
            "Rwanda",
            "Sudan",
            "Somalia",
            "South Sudan",
            "Seychelles",
            "Tanzania",
            "Uganda"
           ],
           "legendgroup": "East Africa",
           "locations": [
            "COM",
            "DJI",
            "ERI",
            "ETH",
            "KEN",
            "MDG",
            "MUS",
            "RWA",
            "SDN",
            "SOM",
            "SSD",
            "SYC",
            "TZA",
            "UGA"
           ],
           "marker": {
            "color": "#ab63fa",
            "size": [
             0.291265124039388,
             0.773309515286928,
             0.33091201079744,
             0.138378263198588,
             0.402323131953292,
             0.455931406968533,
             0.605843998391761,
             0.381397838176248,
             0.398208410947019,
             0.4818245367702,
             0.209125391635207,
             0.999999999998719,
             0.263854990315109,
             0.230552811908693
            ],
            "sizemode": "area",
            "sizeref": 0.00249999999999936,
            "symbol": "circle"
           },
           "mode": "markers",
           "name": "East Africa",
           "showlegend": false,
           "type": "scattergeo"
          },
          {
           "geo": "geo",
           "hovertemplate": "<b>%{hovertext}</b><br><br>AU_Regions=North Africa<br>Year=2025<br>Variable=UrbanLevel<br>Value=%{marker.size}<br>ISO=%{location}<extra></extra>",
           "hovertext": [
            "Algeria",
            "Egypt",
            "Libya",
            "Morocco",
            "Mauritania",
            "Tunisia"
           ],
           "legendgroup": "North Africa",
           "locations": [
            "DZA",
            "EGY",
            "LBY",
            "MAR",
            "MRT",
            "TUN"
           ],
           "marker": {
            "color": "#FFA15A",
            "size": [
             0.716181882809647,
             0.949493607401448,
             0.804652843695836,
             0.705979480568678,
             0.442166463462459,
             0.728347261607464
            ],
            "sizemode": "area",
            "sizeref": 0.00249999999999936,
            "symbol": "circle"
           },
           "mode": "markers",
           "name": "North Africa",
           "showlegend": true,
           "type": "scattergeo"
          },
          {
           "geo": "geo2",
           "hovertemplate": "<b>%{hovertext}</b><br><br>AU_Regions=North Africa<br>Year=2025<br>Variable=Mpop<br>Value=%{marker.size}<br>ISO=%{location}<extra></extra>",
           "hovertext": [
            "Algeria",
            "Egypt",
            "Libya",
            "Morocco",
            "Mauritania",
            "Tunisia"
           ],
           "legendgroup": "North Africa",
           "locations": [
            "DZA",
            "EGY",
            "LBY",
            "MAR",
            "MRT",
            "TUN"
           ],
           "marker": {
            "color": "#FFA15A",
            "size": [
             0.178888689558422,
             0.380437461005318,
             0.417614390847634,
             0.293830705573088,
             0.625258410335251,
             0.372243910051529
            ],
            "sizemode": "area",
            "sizeref": 0.00249999999999936,
            "symbol": "circle"
           },
           "mode": "markers",
           "name": "North Africa",
           "showlegend": false,
           "type": "scattergeo"
          }
         ],
         "name": "2025"
        },
        {
         "data": [
          {
           "geo": "geo",
           "hovertemplate": "<b>%{hovertext}</b><br><br>AU_Regions=Southern Africa<br>Year=2030<br>Variable=UrbanLevel<br>Value=%{marker.size}<br>ISO=%{location}<extra></extra>",
           "hovertext": [
            "Angola",
            "Botswana",
            "Lesotho",
            "Mozambique",
            "Malawi",
            "Namibia",
            "Kingdom of Eswatini",
            "South Africa",
            "Zambia",
            "Zimbabwe"
           ],
           "legendgroup": "Southern Africa",
           "locations": [
            "AGO",
            "BWA",
            "LSO",
            "MOZ",
            "MWI",
            "NAM",
            "SWZ",
            "ZAF",
            "ZMB",
            "ZWE"
           ],
           "marker": {
            "color": "#636efa",
            "size": [
             0.661679404285424,
             0.625917758851249,
             0.572774377900243,
             0.435278250922249,
             0.397163131444935,
             0.54471904230685,
             0.454452897976436,
             0.769440645516592,
             0.471700728397123,
             0.398896697373709
            ],
            "sizemode": "area",
            "sizeref": 0.00249999999999936,
            "symbol": "circle"
           },
           "mode": "markers",
           "name": "Southern Africa",
           "showlegend": true,
           "type": "scattergeo"
          },
          {
           "geo": "geo2",
           "hovertemplate": "<b>%{hovertext}</b><br><br>AU_Regions=Southern Africa<br>Year=2030<br>Variable=Mpop<br>Value=%{marker.size}<br>ISO=%{location}<extra></extra>",
           "hovertext": [
            "Angola",
            "Botswana",
            "Lesotho",
            "Mozambique",
            "Malawi",
            "Namibia",
            "Kingdom of Eswatini",
            "South Africa",
            "Zambia",
            "Zimbabwe"
           ],
           "legendgroup": "Southern Africa",
           "locations": [
            "AGO",
            "BWA",
            "LSO",
            "MOZ",
            "MWI",
            "NAM",
            "SWZ",
            "ZAF",
            "ZMB",
            "ZWE"
           ],
           "marker": {
            "color": "#636efa",
            "size": [
             0.435389108213414,
             0.284536115022517,
             0.451018974002884,
             0.188676584674524,
             0.326428049169456,
             0.425600278517136,
             0.636934719341333,
             0.449879539071336,
             0.32606084342907,
             0.577165258423295
            ],
            "sizemode": "area",
            "sizeref": 0.00249999999999936,
            "symbol": "circle"
           },
           "mode": "markers",
           "name": "Southern Africa",
           "showlegend": false,
           "type": "scattergeo"
          },
          {
           "geo": "geo",
           "hovertemplate": "<b>%{hovertext}</b><br><br>AU_Regions=Central Africa<br>Year=2030<br>Variable=UrbanLevel<br>Value=%{marker.size}<br>ISO=%{location}<extra></extra>",
           "hovertext": [
            "Burundi",
            "Central African Republic",
            "Cameroon",
            "Democratic Republic of the Congo",
            "Republic of the Congo",
            "Gabon",
            "Equatorial Guinea",
            "Sao Tome and Principe",
            "Chad"
           ],
           "legendgroup": "Central Africa",
           "locations": [
            "BDI",
            "CAF",
            "CMR",
            "COD",
            "COG",
            "GAB",
            "GNQ",
            "STP",
            "TCD"
           ],
           "marker": {
            "color": "#EF553B",
            "size": [
             0.798363827160471,
             0.514967834721217,
             0.662105836371104,
             0.53170059761707,
             0.759465227531718,
             0.794049499226714,
             0.604835299973007,
             0.831118792386786,
             0.363073875543375
            ],
            "sizemode": "area",
            "sizeref": 0.00249999999999936,
            "symbol": "circle"
           },
           "mode": "markers",
           "name": "Central Africa",
           "showlegend": true,
           "type": "scattergeo"
          },
          {
           "geo": "geo2",
           "hovertemplate": "<b>%{hovertext}</b><br><br>AU_Regions=Central Africa<br>Year=2030<br>Variable=Mpop<br>Value=%{marker.size}<br>ISO=%{location}<extra></extra>",
           "hovertext": [
            "Burundi",
            "Central African Republic",
            "Cameroon",
            "Democratic Republic of the Congo",
            "Republic of the Congo",
            "Gabon",
            "Equatorial Guinea",
            "Sao Tome and Principe",
            "Chad"
           ],
           "legendgroup": "Central Africa",
           "locations": [
            "BDI",
            "CAF",
            "CMR",
            "COD",
            "COG",
            "GAB",
            "GNQ",
            "STP",
            "TCD"
           ],
           "marker": {
            "color": "#EF553B",
            "size": [
             0.576605473853039,
             0.502421035251816,
             0.518712025755511,
             0.294973101232605,
             0.783916833727627,
             0.576637844873798,
             0.888896752547333,
             0.660097837053618,
             0.313958273756723
            ],
            "sizemode": "area",
            "sizeref": 0.00249999999999936,
            "symbol": "circle"
           },
           "mode": "markers",
           "name": "Central Africa",
           "showlegend": false,
           "type": "scattergeo"
          },
          {
           "geo": "geo",
           "hovertemplate": "<b>%{hovertext}</b><br><br>AU_Regions=West Africa<br>Year=2030<br>Variable=UrbanLevel<br>Value=%{marker.size}<br>ISO=%{location}<extra></extra>",
           "hovertext": [
            "Benin",
            "Burkina Faso",
            "Cote d`Ivoire",
            "Cabo Verde",
            "Ghana",
            "Guinea",
            "The Gambia",
            "Guinea-Bissau",
            "Liberia",
            "Mali",
            "Niger",
            "Nigeria",
            "Senegal",
            "Sierra Leone",
            "Togo"
           ],
           "legendgroup": "West Africa",
           "locations": [
            "BEN",
            "BFA",
            "CIV",
            "CPV",
            "GHA",
            "GIN",
            "GMB",
            "GNB",
            "LBR",
            "MLI",
            "NER",
            "NGA",
            "SEN",
            "SLE",
            "TGO"
           ],
           "marker": {
            "color": "#00cc96",
            "size": [
             0.628203737972548,
             0.379317777757986,
             0.575957306185188,
             0.64570139630264,
             0.584495926474965,
             0.442557078650536,
             0.5904368431501,
             0.403255251500042,
             0.459346316969797,
             0.383312545208099,
             0.209260935795612,
             0.630278438212668,
             0.570072828193272,
             0.453934662247325,
             0.695837906151617
            ],
            "sizemode": "area",
            "sizeref": 0.00249999999999936,
            "symbol": "circle"
           },
           "mode": "markers",
           "name": "West Africa",
           "showlegend": true,
           "type": "scattergeo"
          },
          {
           "geo": "geo2",
           "hovertemplate": "<b>%{hovertext}</b><br><br>AU_Regions=West Africa<br>Year=2030<br>Variable=Mpop<br>Value=%{marker.size}<br>ISO=%{location}<extra></extra>",
           "hovertext": [
            "Benin",
            "Burkina Faso",
            "Cote d`Ivoire",
            "Cabo Verde",
            "Ghana",
            "Guinea",
            "The Gambia",
            "Guinea-Bissau",
            "Liberia",
            "Mali",
            "Niger",
            "Nigeria",
            "Senegal",
            "Sierra Leone",
            "Togo"
           ],
           "legendgroup": "West Africa",
           "locations": [
            "BEN",
            "BFA",
            "CIV",
            "CPV",
            "GHA",
            "GIN",
            "GMB",
            "GNB",
            "LBR",
            "MLI",
            "NER",
            "NGA",
            "SEN",
            "SLE",
            "TGO"
           ],
           "marker": {
            "color": "#00cc96",
            "size": [
             0.38934225463289,
             0.555270165771592,
             0.379473990921099,
             0.715466043613476,
             0.493890918507777,
             0.498994829614227,
             0.870320178388553,
             0.707866890132515,
             0.760852865135316,
             0.499889531383087,
             0.226807182079342,
             0.162057362356942,
             0.411069925916623,
             0.593136367003761,
             0.607501242769459
            ],
            "sizemode": "area",
            "sizeref": 0.00249999999999936,
            "symbol": "circle"
           },
           "mode": "markers",
           "name": "West Africa",
           "showlegend": false,
           "type": "scattergeo"
          },
          {
           "geo": "geo",
           "hovertemplate": "<b>%{hovertext}</b><br><br>AU_Regions=East Africa<br>Year=2030<br>Variable=UrbanLevel<br>Value=%{marker.size}<br>ISO=%{location}<extra></extra>",
           "hovertext": [
            "Comoros",
            "Djibouti",
            "Eritrea",
            "Ethiopia",
            "Kenya",
            "Madagascar",
            "Mauritius",
            "Rwanda",
            "Sudan",
            "Somalia",
            "South Sudan",
            "Seychelles",
            "Tanzania",
            "Uganda"
           ],
           "legendgroup": "East Africa",
           "locations": [
            "COM",
            "DJI",
            "ERI",
            "ETH",
            "KEN",
            "MDG",
            "MUS",
            "RWA",
            "SDN",
            "SOM",
            "SSD",
            "SYC",
            "TZA",
            "UGA"
           ],
           "marker": {
            "color": "#ab63fa",
            "size": [
             0.619412751630883,
             0.702247334030822,
             0.450911430863387,
             0.332080444989694,
             0.858562335172336,
             0.265929963555669,
             0.876696440452429,
             0.687388000221659,
             0.518960836717076,
             0.461321477923883,
             0.492434976057357,
             0.779950457354759,
             0.416167964905554,
             0.609094218697624
            ],
            "sizemode": "area",
            "sizeref": 0.00249999999999936,
            "symbol": "circle"
           },
           "mode": "markers",
           "name": "East Africa",
           "showlegend": true,
           "type": "scattergeo"
          },
          {
           "geo": "geo2",
           "hovertemplate": "<b>%{hovertext}</b><br><br>AU_Regions=East Africa<br>Year=2030<br>Variable=Mpop<br>Value=%{marker.size}<br>ISO=%{location}<extra></extra>",
           "hovertext": [
            "Comoros",
            "Djibouti",
            "Eritrea",
            "Ethiopia",
            "Kenya",
            "Madagascar",
            "Mauritius",
            "Rwanda",
            "Sudan",
            "Somalia",
            "South Sudan",
            "Seychelles",
            "Tanzania",
            "Uganda"
           ],
           "legendgroup": "East Africa",
           "locations": [
            "COM",
            "DJI",
            "ERI",
            "ETH",
            "KEN",
            "MDG",
            "MUS",
            "RWA",
            "SDN",
            "SOM",
            "SSD",
            "SYC",
            "TZA",
            "UGA"
           ],
           "marker": {
            "color": "#ab63fa",
            "size": [
             0.28588919014291,
             0.775461560550171,
             0.325927311660131,
             0.134447782186435,
             0.407411330350538,
             0.459882071124495,
             0.606616399456637,
             0.487305756494668,
             0.417566046510853,
             0.463536407508745,
             0.229793986500104,
             0.999999999998732,
             0.267442562041409,
             0.237669566075239
            ],
            "sizemode": "area",
            "sizeref": 0.00249999999999936,
            "symbol": "circle"
           },
           "mode": "markers",
           "name": "East Africa",
           "showlegend": false,
           "type": "scattergeo"
          },
          {
           "geo": "geo",
           "hovertemplate": "<b>%{hovertext}</b><br><br>AU_Regions=North Africa<br>Year=2030<br>Variable=UrbanLevel<br>Value=%{marker.size}<br>ISO=%{location}<extra></extra>",
           "hovertext": [
            "Algeria",
            "Egypt",
            "Libya",
            "Morocco",
            "Mauritania",
            "Tunisia"
           ],
           "legendgroup": "North Africa",
           "locations": [
            "DZA",
            "EGY",
            "LBY",
            "MAR",
            "MRT",
            "TUN"
           ],
           "marker": {
            "color": "#FFA15A",
            "size": [
             0.731345436908108,
             0.950906257864613,
             0.808728082961755,
             0.726882254841559,
             0.451445380793736,
             0.735767382312277
            ],
            "sizemode": "area",
            "sizeref": 0.00249999999999936,
            "symbol": "circle"
           },
           "mode": "markers",
           "name": "North Africa",
           "showlegend": true,
           "type": "scattergeo"
          },
          {
           "geo": "geo2",
           "hovertemplate": "<b>%{hovertext}</b><br><br>AU_Regions=North Africa<br>Year=2030<br>Variable=Mpop<br>Value=%{marker.size}<br>ISO=%{location}<extra></extra>",
           "hovertext": [
            "Algeria",
            "Egypt",
            "Libya",
            "Morocco",
            "Mauritania",
            "Tunisia"
           ],
           "legendgroup": "North Africa",
           "locations": [
            "DZA",
            "EGY",
            "LBY",
            "MAR",
            "MRT",
            "TUN"
           ],
           "marker": {
            "color": "#FFA15A",
            "size": [
             0.179368467661389,
             0.37819566451368,
             0.415510036183233,
             0.289592346923009,
             0.629916668282327,
             0.373081585619145
            ],
            "sizemode": "area",
            "sizeref": 0.00249999999999936,
            "symbol": "circle"
           },
           "mode": "markers",
           "name": "North Africa",
           "showlegend": false,
           "type": "scattergeo"
          }
         ],
         "name": "2030"
        },
        {
         "data": [
          {
           "geo": "geo",
           "hovertemplate": "<b>%{hovertext}</b><br><br>AU_Regions=Southern Africa<br>Year=2035<br>Variable=UrbanLevel<br>Value=%{marker.size}<br>ISO=%{location}<extra></extra>",
           "hovertext": [
            "Angola",
            "Botswana",
            "Lesotho",
            "Mozambique",
            "Malawi",
            "Namibia",
            "Kingdom of Eswatini",
            "South Africa",
            "Zambia",
            "Zimbabwe"
           ],
           "legendgroup": "Southern Africa",
           "locations": [
            "AGO",
            "BWA",
            "LSO",
            "MOZ",
            "MWI",
            "NAM",
            "SWZ",
            "ZAF",
            "ZMB",
            "ZWE"
           ],
           "marker": {
            "color": "#636efa",
            "size": [
             0.676992596206476,
             0.664460587798797,
             0.639462339549528,
             0.453923239428097,
             0.405775893272441,
             0.605453501436494,
             0.480682045559489,
             0.781960872277564,
             0.481387427405463,
             0.407519358618489
            ],
            "sizemode": "area",
            "sizeref": 0.00249999999999936,
            "symbol": "circle"
           },
           "mode": "markers",
           "name": "Southern Africa",
           "showlegend": true,
           "type": "scattergeo"
          },
          {
           "geo": "geo2",
           "hovertemplate": "<b>%{hovertext}</b><br><br>AU_Regions=Southern Africa<br>Year=2035<br>Variable=Mpop<br>Value=%{marker.size}<br>ISO=%{location}<extra></extra>",
           "hovertext": [
            "Angola",
            "Botswana",
            "Lesotho",
            "Mozambique",
            "Malawi",
            "Namibia",
            "Kingdom of Eswatini",
            "South Africa",
            "Zambia",
            "Zimbabwe"
           ],
           "legendgroup": "Southern Africa",
           "locations": [
            "AGO",
            "BWA",
            "LSO",
            "MOZ",
            "MWI",
            "NAM",
            "SWZ",
            "ZAF",
            "ZMB",
            "ZWE"
           ],
           "marker": {
            "color": "#636efa",
            "size": [
             0.435979592028617,
             0.277226609346098,
             0.441281565553773,
             0.176648611994292,
             0.319551575505532,
             0.419514170408656,
             0.639129355426493,
             0.503355544385104,
             0.320828448363014,
             0.589893587960471
            ],
            "sizemode": "area",
            "sizeref": 0.00249999999999936,
            "symbol": "circle"
           },
           "mode": "markers",
           "name": "Southern Africa",
           "showlegend": false,
           "type": "scattergeo"
          },
          {
           "geo": "geo",
           "hovertemplate": "<b>%{hovertext}</b><br><br>AU_Regions=Central Africa<br>Year=2035<br>Variable=UrbanLevel<br>Value=%{marker.size}<br>ISO=%{location}<extra></extra>",
           "hovertext": [
            "Burundi",
            "Central African Republic",
            "Cameroon",
            "Democratic Republic of the Congo",
            "Republic of the Congo",
            "Gabon",
            "Equatorial Guinea",
            "Sao Tome and Principe",
            "Chad"
           ],
           "legendgroup": "Central Africa",
           "locations": [
            "BDI",
            "CAF",
            "CMR",
            "COD",
            "COG",
            "GAB",
            "GNQ",
            "STP",
            "TCD"
           ],
           "marker": {
            "color": "#EF553B",
            "size": [
             0.815914686517295,
             0.544295759484051,
             0.693168771629756,
             0.559963388510944,
             0.783245284035458,
             0.806097817396397,
             0.632036443110408,
             0.81550716411611,
             0.380464690078364
            ],
            "sizemode": "area",
            "sizeref": 0.00249999999999936,
            "symbol": "circle"
           },
           "mode": "markers",
           "name": "Central Africa",
           "showlegend": true,
           "type": "scattergeo"
          },
          {
           "geo": "geo2",
           "hovertemplate": "<b>%{hovertext}</b><br><br>AU_Regions=Central Africa<br>Year=2035<br>Variable=Mpop<br>Value=%{marker.size}<br>ISO=%{location}<extra></extra>",
           "hovertext": [
            "Burundi",
            "Central African Republic",
            "Cameroon",
            "Democratic Republic of the Congo",
            "Republic of the Congo",
            "Gabon",
            "Equatorial Guinea",
            "Sao Tome and Principe",
            "Chad"
           ],
           "legendgroup": "Central Africa",
           "locations": [
            "BDI",
            "CAF",
            "CMR",
            "COD",
            "COG",
            "GAB",
            "GNQ",
            "STP",
            "TCD"
           ],
           "marker": {
            "color": "#EF553B",
            "size": [
             0.694281911305593,
             0.501792249709119,
             0.52021722865878,
             0.296840182550534,
             0.780024361928943,
             0.574222032702082,
             0.88609828152832,
             0.64526861013852,
             0.321444224104712
            ],
            "sizemode": "area",
            "sizeref": 0.00249999999999936,
            "symbol": "circle"
           },
           "mode": "markers",
           "name": "Central Africa",
           "showlegend": false,
           "type": "scattergeo"
          },
          {
           "geo": "geo",
           "hovertemplate": "<b>%{hovertext}</b><br><br>AU_Regions=West Africa<br>Year=2035<br>Variable=UrbanLevel<br>Value=%{marker.size}<br>ISO=%{location}<extra></extra>",
           "hovertext": [
            "Benin",
            "Burkina Faso",
            "Cote d`Ivoire",
            "Cabo Verde",
            "Ghana",
            "Guinea",
            "The Gambia",
            "Guinea-Bissau",
            "Liberia",
            "Mali",
            "Niger",
            "Nigeria",
            "Senegal",
            "Sierra Leone",
            "Togo"
           ],
           "legendgroup": "West Africa",
           "locations": [
            "BEN",
            "BFA",
            "CIV",
            "CPV",
            "GHA",
            "GIN",
            "GMB",
            "GNB",
            "LBR",
            "MLI",
            "NER",
            "NGA",
            "SEN",
            "SLE",
            "TGO"
           ],
           "marker": {
            "color": "#00cc96",
            "size": [
             0.655828888505881,
             0.404945560673148,
             0.59653698177367,
             0.670544705917599,
             0.60542402429734,
             0.462744685109988,
             0.638330099275984,
             0.425294808346872,
             0.467155988795722,
             0.399058708696088,
             0.224594226941734,
             0.650701217861422,
             0.585656434944375,
             0.478761297937193,
             0.735888822995433
            ],
            "sizemode": "area",
            "sizeref": 0.00249999999999936,
            "symbol": "circle"
           },
           "mode": "markers",
           "name": "West Africa",
           "showlegend": true,
           "type": "scattergeo"
          },
          {
           "geo": "geo2",
           "hovertemplate": "<b>%{hovertext}</b><br><br>AU_Regions=West Africa<br>Year=2035<br>Variable=Mpop<br>Value=%{marker.size}<br>ISO=%{location}<extra></extra>",
           "hovertext": [
            "Benin",
            "Burkina Faso",
            "Cote d`Ivoire",
            "Cabo Verde",
            "Ghana",
            "Guinea",
            "The Gambia",
            "Guinea-Bissau",
            "Liberia",
            "Mali",
            "Niger",
            "Nigeria",
            "Senegal",
            "Sierra Leone",
            "Togo"
           ],
           "legendgroup": "West Africa",
           "locations": [
            "BEN",
            "BFA",
            "CIV",
            "CPV",
            "GHA",
            "GIN",
            "GMB",
            "GNB",
            "LBR",
            "MLI",
            "NER",
            "NGA",
            "SEN",
            "SLE",
            "TGO"
           ],
           "marker": {
            "color": "#00cc96",
            "size": [
             0.381932376484479,
             0.554058560959121,
             0.375567196798973,
             0.71227740516913,
             0.497169811703503,
             0.49973735860602,
             0.904601389645491,
             0.683635679193829,
             0.774754360017983,
             0.502309205035931,
             0.201748300008197,
             0.166596146091853,
             0.409214752923821,
             0.598003137423454,
             0.610717010784446
            ],
            "sizemode": "area",
            "sizeref": 0.00249999999999936,
            "symbol": "circle"
           },
           "mode": "markers",
           "name": "West Africa",
           "showlegend": false,
           "type": "scattergeo"
          },
          {
           "geo": "geo",
           "hovertemplate": "<b>%{hovertext}</b><br><br>AU_Regions=East Africa<br>Year=2035<br>Variable=UrbanLevel<br>Value=%{marker.size}<br>ISO=%{location}<extra></extra>",
           "hovertext": [
            "Comoros",
            "Djibouti",
            "Eritrea",
            "Ethiopia",
            "Kenya",
            "Madagascar",
            "Mauritius",
            "Rwanda",
            "Sudan",
            "Somalia",
            "South Sudan",
            "Seychelles",
            "Tanzania",
            "Uganda"
           ],
           "legendgroup": "East Africa",
           "locations": [
            "COM",
            "DJI",
            "ERI",
            "ETH",
            "KEN",
            "MDG",
            "MUS",
            "RWA",
            "SDN",
            "SOM",
            "SSD",
            "SYC",
            "TZA",
            "UGA"
           ],
           "marker": {
            "color": "#ab63fa",
            "size": [
             0.632669498560992,
             0.708914078996774,
             0.488899033549037,
             0.34961687619927,
             0.877467995306094,
             0.284656191414057,
             0.88558616916995,
             0.701110853716337,
             0.544246977611439,
             0.494723328517307,
             0.514280546337137,
             0.780605484525522,
             0.433694317183147,
             0.652469087994989
            ],
            "sizemode": "area",
            "sizeref": 0.00249999999999936,
            "symbol": "circle"
           },
           "mode": "markers",
           "name": "East Africa",
           "showlegend": true,
           "type": "scattergeo"
          },
          {
           "geo": "geo2",
           "hovertemplate": "<b>%{hovertext}</b><br><br>AU_Regions=East Africa<br>Year=2035<br>Variable=Mpop<br>Value=%{marker.size}<br>ISO=%{location}<extra></extra>",
           "hovertext": [
            "Comoros",
            "Djibouti",
            "Eritrea",
            "Ethiopia",
            "Kenya",
            "Madagascar",
            "Mauritius",
            "Rwanda",
            "Sudan",
            "Somalia",
            "South Sudan",
            "Seychelles",
            "Tanzania",
            "Uganda"
           ],
           "legendgroup": "East Africa",
           "locations": [
            "COM",
            "DJI",
            "ERI",
            "ETH",
            "KEN",
            "MDG",
            "MUS",
            "RWA",
            "SDN",
            "SOM",
            "SSD",
            "SYC",
            "TZA",
            "UGA"
           ],
           "marker": {
            "color": "#ab63fa",
            "size": [
             0.285402791382834,
             0.77757312676503,
             0.319408173611326,
             0.130821455467811,
             0.412970205693559,
             0.470449120936095,
             0.607373278307434,
             0.510514573922105,
             0.44944980969889,
             0.445219674392577,
             0.24753691023205,
             0.999999999998738,
             0.270878768172409,
             0.24349575772827
            ],
            "sizemode": "area",
            "sizeref": 0.00249999999999936,
            "symbol": "circle"
           },
           "mode": "markers",
           "name": "East Africa",
           "showlegend": false,
           "type": "scattergeo"
          },
          {
           "geo": "geo",
           "hovertemplate": "<b>%{hovertext}</b><br><br>AU_Regions=North Africa<br>Year=2035<br>Variable=UrbanLevel<br>Value=%{marker.size}<br>ISO=%{location}<extra></extra>",
           "hovertext": [
            "Algeria",
            "Egypt",
            "Libya",
            "Morocco",
            "Mauritania",
            "Tunisia"
           ],
           "legendgroup": "North Africa",
           "locations": [
            "DZA",
            "EGY",
            "LBY",
            "MAR",
            "MRT",
            "TUN"
           ],
           "marker": {
            "color": "#FFA15A",
            "size": [
             0.745535176014013,
             0.951828783175685,
             0.810028187430183,
             0.749041834482444,
             0.46305822044591,
             0.743824901476587
            ],
            "sizemode": "area",
            "sizeref": 0.00249999999999936,
            "symbol": "circle"
           },
           "mode": "markers",
           "name": "North Africa",
           "showlegend": true,
           "type": "scattergeo"
          },
          {
           "geo": "geo2",
           "hovertemplate": "<b>%{hovertext}</b><br><br>AU_Regions=North Africa<br>Year=2035<br>Variable=Mpop<br>Value=%{marker.size}<br>ISO=%{location}<extra></extra>",
           "hovertext": [
            "Algeria",
            "Egypt",
            "Libya",
            "Morocco",
            "Mauritania",
            "Tunisia"
           ],
           "legendgroup": "North Africa",
           "locations": [
            "DZA",
            "EGY",
            "LBY",
            "MAR",
            "MRT",
            "TUN"
           ],
           "marker": {
            "color": "#FFA15A",
            "size": [
             0.180546710303355,
             0.375435998595894,
             0.414843138326743,
             0.285026150841059,
             0.629793629395835,
             0.373268073671213
            ],
            "sizemode": "area",
            "sizeref": 0.00249999999999936,
            "symbol": "circle"
           },
           "mode": "markers",
           "name": "North Africa",
           "showlegend": false,
           "type": "scattergeo"
          }
         ],
         "name": "2035"
        },
        {
         "data": [
          {
           "geo": "geo",
           "hovertemplate": "<b>%{hovertext}</b><br><br>AU_Regions=Southern Africa<br>Year=2040<br>Variable=UrbanLevel<br>Value=%{marker.size}<br>ISO=%{location}<extra></extra>",
           "hovertext": [
            "Angola",
            "Botswana",
            "Lesotho",
            "Mozambique",
            "Malawi",
            "Namibia",
            "Kingdom of Eswatini",
            "South Africa",
            "Zambia",
            "Zimbabwe"
           ],
           "legendgroup": "Southern Africa",
           "locations": [
            "AGO",
            "BWA",
            "LSO",
            "MOZ",
            "MWI",
            "NAM",
            "SWZ",
            "ZAF",
            "ZMB",
            "ZWE"
           ],
           "marker": {
            "color": "#636efa",
            "size": [
             0.692862916223672,
             0.698687749910358,
             0.704921670776559,
             0.470041157990198,
             0.4181622262848,
             0.656582969099751,
             0.502923131616424,
             0.793874209760846,
             0.493093586058852,
             0.414067553293858
            ],
            "sizemode": "area",
            "sizeref": 0.00249999999999936,
            "symbol": "circle"
           },
           "mode": "markers",
           "name": "Southern Africa",
           "showlegend": true,
           "type": "scattergeo"
          },
          {
           "geo": "geo2",
           "hovertemplate": "<b>%{hovertext}</b><br><br>AU_Regions=Southern Africa<br>Year=2040<br>Variable=Mpop<br>Value=%{marker.size}<br>ISO=%{location}<extra></extra>",
           "hovertext": [
            "Angola",
            "Botswana",
            "Lesotho",
            "Mozambique",
            "Malawi",
            "Namibia",
            "Kingdom of Eswatini",
            "South Africa",
            "Zambia",
            "Zimbabwe"
           ],
           "legendgroup": "Southern Africa",
           "locations": [
            "AGO",
            "BWA",
            "LSO",
            "MOZ",
            "MWI",
            "NAM",
            "SWZ",
            "ZAF",
            "ZMB",
            "ZWE"
           ],
           "marker": {
            "color": "#636efa",
            "size": [
             0.440253066687859,
             0.329107778487112,
             0.452509201260632,
             0.173185977693957,
             0.308882935420817,
             0.420217041642116,
             0.671665527509712,
             0.50914845084495,
             0.314759286719634,
             0.58445324587171
            ],
            "sizemode": "area",
            "sizeref": 0.00249999999999936,
            "symbol": "circle"
           },
           "mode": "markers",
           "name": "Southern Africa",
           "showlegend": false,
           "type": "scattergeo"
          },
          {
           "geo": "geo",
           "hovertemplate": "<b>%{hovertext}</b><br><br>AU_Regions=Central Africa<br>Year=2040<br>Variable=UrbanLevel<br>Value=%{marker.size}<br>ISO=%{location}<extra></extra>",
           "hovertext": [
            "Burundi",
            "Central African Republic",
            "Cameroon",
            "Democratic Republic of the Congo",
            "Republic of the Congo",
            "Gabon",
            "Equatorial Guinea",
            "Sao Tome and Principe",
            "Chad"
           ],
           "legendgroup": "Central Africa",
           "locations": [
            "BDI",
            "CAF",
            "CMR",
            "COD",
            "COG",
            "GAB",
            "GNQ",
            "STP",
            "TCD"
           ],
           "marker": {
            "color": "#EF553B",
            "size": [
             0.825855352675321,
             0.567899014566513,
             0.723307359409259,
             0.586729155735147,
             0.805033640960618,
             0.820945831129942,
             0.659247756218655,
             0.799897545307481,
             0.398581340743209
            ],
            "sizemode": "area",
            "sizeref": 0.00249999999999936,
            "symbol": "circle"
           },
           "mode": "markers",
           "name": "Central Africa",
           "showlegend": true,
           "type": "scattergeo"
          },
          {
           "geo": "geo2",
           "hovertemplate": "<b>%{hovertext}</b><br><br>AU_Regions=Central Africa<br>Year=2040<br>Variable=Mpop<br>Value=%{marker.size}<br>ISO=%{location}<extra></extra>",
           "hovertext": [
            "Burundi",
            "Central African Republic",
            "Cameroon",
            "Democratic Republic of the Congo",
            "Republic of the Congo",
            "Gabon",
            "Equatorial Guinea",
            "Sao Tome and Principe",
            "Chad"
           ],
           "legendgroup": "Central Africa",
           "locations": [
            "BDI",
            "CAF",
            "CMR",
            "COD",
            "COG",
            "GAB",
            "GNQ",
            "STP",
            "TCD"
           ],
           "marker": {
            "color": "#EF553B",
            "size": [
             0.794354379182589,
             0.503566539890075,
             0.52001294977865,
             0.29584865137905,
             0.777838025689609,
             0.569926895557241,
             0.883208597509734,
             0.629860558436769,
             0.326527496144425
            ],
            "sizemode": "area",
            "sizeref": 0.00249999999999936,
            "symbol": "circle"
           },
           "mode": "markers",
           "name": "Central Africa",
           "showlegend": false,
           "type": "scattergeo"
          },
          {
           "geo": "geo",
           "hovertemplate": "<b>%{hovertext}</b><br><br>AU_Regions=West Africa<br>Year=2040<br>Variable=UrbanLevel<br>Value=%{marker.size}<br>ISO=%{location}<extra></extra>",
           "hovertext": [
            "Benin",
            "Burkina Faso",
            "Cote d`Ivoire",
            "Cabo Verde",
            "Ghana",
            "Guinea",
            "The Gambia",
            "Guinea-Bissau",
            "Liberia",
            "Mali",
            "Niger",
            "Nigeria",
            "Senegal",
            "Sierra Leone",
            "Togo"
           ],
           "legendgroup": "West Africa",
           "locations": [
            "BEN",
            "BFA",
            "CIV",
            "CPV",
            "GHA",
            "GIN",
            "GMB",
            "GNB",
            "LBR",
            "MLI",
            "NER",
            "NGA",
            "SEN",
            "SLE",
            "TGO"
           ],
           "marker": {
            "color": "#00cc96",
            "size": [
             0.671277672763973,
             0.430256975351561,
             0.614266592918415,
             0.695266806197216,
             0.624632217646733,
             0.483327861332272,
             0.684582059562212,
             0.442820455449219,
             0.473389800486217,
             0.417146764068191,
             0.239464382813779,
             0.67051155419677,
             0.604198051779309,
             0.501231467861098,
             0.776721809783349
            ],
            "sizemode": "area",
            "sizeref": 0.00249999999999936,
            "symbol": "circle"
           },
           "mode": "markers",
           "name": "West Africa",
           "showlegend": true,
           "type": "scattergeo"
          },
          {
           "geo": "geo2",
           "hovertemplate": "<b>%{hovertext}</b><br><br>AU_Regions=West Africa<br>Year=2040<br>Variable=Mpop<br>Value=%{marker.size}<br>ISO=%{location}<extra></extra>",
           "hovertext": [
            "Benin",
            "Burkina Faso",
            "Cote d`Ivoire",
            "Cabo Verde",
            "Ghana",
            "Guinea",
            "The Gambia",
            "Guinea-Bissau",
            "Liberia",
            "Mali",
            "Niger",
            "Nigeria",
            "Senegal",
            "Sierra Leone",
            "Togo"
           ],
           "legendgroup": "West Africa",
           "locations": [
            "BEN",
            "BFA",
            "CIV",
            "CPV",
            "GHA",
            "GIN",
            "GMB",
            "GNB",
            "LBR",
            "MLI",
            "NER",
            "NGA",
            "SEN",
            "SLE",
            "TGO"
           ],
           "marker": {
            "color": "#00cc96",
            "size": [
             0.376753952737859,
             0.554671118931325,
             0.370424893973638,
             0.709309215843604,
             0.492347572829992,
             0.492487407285473,
             0.90243496051145,
             0.669174975678687,
             0.818241418031252,
             0.500618520244417,
             0.181291412770236,
             0.176259839369182,
             0.402005743469242,
             0.602206659037996,
             0.613772650924964
            ],
            "sizemode": "area",
            "sizeref": 0.00249999999999936,
            "symbol": "circle"
           },
           "mode": "markers",
           "name": "West Africa",
           "showlegend": false,
           "type": "scattergeo"
          },
          {
           "geo": "geo",
           "hovertemplate": "<b>%{hovertext}</b><br><br>AU_Regions=East Africa<br>Year=2040<br>Variable=UrbanLevel<br>Value=%{marker.size}<br>ISO=%{location}<extra></extra>",
           "hovertext": [
            "Comoros",
            "Djibouti",
            "Eritrea",
            "Ethiopia",
            "Kenya",
            "Madagascar",
            "Mauritius",
            "Rwanda",
            "Sudan",
            "Somalia",
            "South Sudan",
            "Seychelles",
            "Tanzania",
            "Uganda"
           ],
           "legendgroup": "East Africa",
           "locations": [
            "COM",
            "DJI",
            "ERI",
            "ETH",
            "KEN",
            "MDG",
            "MUS",
            "RWA",
            "SDN",
            "SOM",
            "SSD",
            "SYC",
            "TZA",
            "UGA"
           ],
           "marker": {
            "color": "#ab63fa",
            "size": [
             0.665483354117984,
             0.715580662418378,
             0.526030934701774,
             0.366788534010138,
             0.895703203854999,
             0.302724829514663,
             0.894476676101603,
             0.714833796583249,
             0.567873638563444,
             0.526631317888701,
             0.533240582951793,
             0.78124738338797,
             0.446346905314141,
             0.69592431877122
            ],
            "sizemode": "area",
            "sizeref": 0.00249999999999936,
            "symbol": "circle"
           },
           "mode": "markers",
           "name": "East Africa",
           "showlegend": true,
           "type": "scattergeo"
          },
          {
           "geo": "geo2",
           "hovertemplate": "<b>%{hovertext}</b><br><br>AU_Regions=East Africa<br>Year=2040<br>Variable=Mpop<br>Value=%{marker.size}<br>ISO=%{location}<extra></extra>",
           "hovertext": [
            "Comoros",
            "Djibouti",
            "Eritrea",
            "Ethiopia",
            "Kenya",
            "Madagascar",
            "Mauritius",
            "Rwanda",
            "Sudan",
            "Somalia",
            "South Sudan",
            "Seychelles",
            "Tanzania",
            "Uganda"
           ],
           "legendgroup": "East Africa",
           "locations": [
            "COM",
            "DJI",
            "ERI",
            "ETH",
            "KEN",
            "MDG",
            "MUS",
            "RWA",
            "SDN",
            "SOM",
            "SSD",
            "SYC",
            "TZA",
            "UGA"
           ],
           "marker": {
            "color": "#ab63fa",
            "size": [
             0.327008262337673,
             0.77964535904238,
             0.306678744643426,
             0.127657253574426,
             0.415091793158754,
             0.472293792568399,
             0.608115121417455,
             0.527397980618302,
             0.47488751777966,
             0.429823984238605,
             0.265529646137511,
             0.999999999998736,
             0.279187010014435,
             0.288374814993193
            ],
            "sizemode": "area",
            "sizeref": 0.00249999999999936,
            "symbol": "circle"
           },
           "mode": "markers",
           "name": "East Africa",
           "showlegend": false,
           "type": "scattergeo"
          },
          {
           "geo": "geo",
           "hovertemplate": "<b>%{hovertext}</b><br><br>AU_Regions=North Africa<br>Year=2040<br>Variable=UrbanLevel<br>Value=%{marker.size}<br>ISO=%{location}<extra></extra>",
           "hovertext": [
            "Algeria",
            "Egypt",
            "Libya",
            "Morocco",
            "Mauritania",
            "Tunisia"
           ],
           "legendgroup": "North Africa",
           "locations": [
            "DZA",
            "EGY",
            "LBY",
            "MAR",
            "MRT",
            "TUN"
           ],
           "marker": {
            "color": "#FFA15A",
            "size": [
             0.758746706961051,
             0.951834237194255,
             0.816424758464748,
             0.770977978345862,
             0.470995647878033,
             0.750968205023523
            ],
            "sizemode": "area",
            "sizeref": 0.00249999999999936,
            "symbol": "circle"
           },
           "mode": "markers",
           "name": "North Africa",
           "showlegend": true,
           "type": "scattergeo"
          },
          {
           "geo": "geo2",
           "hovertemplate": "<b>%{hovertext}</b><br><br>AU_Regions=North Africa<br>Year=2040<br>Variable=Mpop<br>Value=%{marker.size}<br>ISO=%{location}<extra></extra>",
           "hovertext": [
            "Algeria",
            "Egypt",
            "Libya",
            "Morocco",
            "Mauritania",
            "Tunisia"
           ],
           "legendgroup": "North Africa",
           "locations": [
            "DZA",
            "EGY",
            "LBY",
            "MAR",
            "MRT",
            "TUN"
           ],
           "marker": {
            "color": "#FFA15A",
            "size": [
             0.181158853683015,
             0.375152364060913,
             0.411592873961711,
             0.280750195461745,
             0.633300380368458,
             0.373652054860443
            ],
            "sizemode": "area",
            "sizeref": 0.00249999999999936,
            "symbol": "circle"
           },
           "mode": "markers",
           "name": "North Africa",
           "showlegend": false,
           "type": "scattergeo"
          }
         ],
         "name": "2040"
        },
        {
         "data": [
          {
           "geo": "geo",
           "hovertemplate": "<b>%{hovertext}</b><br><br>AU_Regions=Southern Africa<br>Year=2045<br>Variable=UrbanLevel<br>Value=%{marker.size}<br>ISO=%{location}<extra></extra>",
           "hovertext": [
            "Angola",
            "Botswana",
            "Lesotho",
            "Mozambique",
            "Malawi",
            "Namibia",
            "Kingdom of Eswatini",
            "South Africa",
            "Zambia",
            "Zimbabwe"
           ],
           "legendgroup": "Southern Africa",
           "locations": [
            "AGO",
            "BWA",
            "LSO",
            "MOZ",
            "MWI",
            "NAM",
            "SWZ",
            "ZAF",
            "ZMB",
            "ZWE"
           ],
           "marker": {
            "color": "#636efa",
            "size": [
             0.707449923512679,
             0.7268521601258,
             0.769849247209636,
             0.484337614215948,
             0.428620937783104,
             0.706140311641195,
             0.525164337306498,
             0.805344677657814,
             0.504144214629367,
             0.42001904456232
            ],
            "sizemode": "area",
            "sizeref": 0.00249999999999936,
            "symbol": "circle"
           },
           "mode": "markers",
           "name": "Southern Africa",
           "showlegend": true,
           "type": "scattergeo"
          },
          {
           "geo": "geo2",
           "hovertemplate": "<b>%{hovertext}</b><br><br>AU_Regions=Southern Africa<br>Year=2045<br>Variable=Mpop<br>Value=%{marker.size}<br>ISO=%{location}<extra></extra>",
           "hovertext": [
            "Angola",
            "Botswana",
            "Lesotho",
            "Mozambique",
            "Malawi",
            "Namibia",
            "Kingdom of Eswatini",
            "South Africa",
            "Zambia",
            "Zimbabwe"
           ],
           "legendgroup": "Southern Africa",
           "locations": [
            "AGO",
            "BWA",
            "LSO",
            "MOZ",
            "MWI",
            "NAM",
            "SWZ",
            "ZAF",
            "ZMB",
            "ZWE"
           ],
           "marker": {
            "color": "#636efa",
            "size": [
             0.440870093983362,
             0.328892230428721,
             0.486008076531335,
             0.167742977243307,
             0.301626137632959,
             0.421436318405925,
             0.675709808700153,
             0.516177625104148,
             0.318177026887991,
             0.580199587993181
            ],
            "sizemode": "area",
            "sizeref": 0.00249999999999936,
            "symbol": "circle"
           },
           "mode": "markers",
           "name": "Southern Africa",
           "showlegend": false,
           "type": "scattergeo"
          },
          {
           "geo": "geo",
           "hovertemplate": "<b>%{hovertext}</b><br><br>AU_Regions=Central Africa<br>Year=2045<br>Variable=UrbanLevel<br>Value=%{marker.size}<br>ISO=%{location}<extra></extra>",
           "hovertext": [
            "Burundi",
            "Central African Republic",
            "Cameroon",
            "Democratic Republic of the Congo",
            "Republic of the Congo",
            "Gabon",
            "Equatorial Guinea",
            "Sao Tome and Principe",
            "Chad"
           ],
           "legendgroup": "Central Africa",
           "locations": [
            "BDI",
            "CAF",
            "CMR",
            "COD",
            "COG",
            "GAB",
            "GNQ",
            "STP",
            "TCD"
           ],
           "marker": {
            "color": "#EF553B",
            "size": [
             0.83583328250577,
             0.591681062161703,
             0.753574820383627,
             0.613097534023874,
             0.829060134890483,
             0.832455676402386,
             0.693353774220877,
             0.78428698138603,
             0.414561346952236
            ],
            "sizemode": "area",
            "sizeref": 0.00249999999999936,
            "symbol": "circle"
           },
           "mode": "markers",
           "name": "Central Africa",
           "showlegend": true,
           "type": "scattergeo"
          },
          {
           "geo": "geo2",
           "hovertemplate": "<b>%{hovertext}</b><br><br>AU_Regions=Central Africa<br>Year=2045<br>Variable=Mpop<br>Value=%{marker.size}<br>ISO=%{location}<extra></extra>",
           "hovertext": [
            "Burundi",
            "Central African Republic",
            "Cameroon",
            "Democratic Republic of the Congo",
            "Republic of the Congo",
            "Gabon",
            "Equatorial Guinea",
            "Sao Tome and Principe",
            "Chad"
           ],
           "legendgroup": "Central Africa",
           "locations": [
            "BDI",
            "CAF",
            "CMR",
            "COD",
            "COG",
            "GAB",
            "GNQ",
            "STP",
            "TCD"
           ],
           "marker": {
            "color": "#EF553B",
            "size": [
             0.86575980196601,
             0.5044540837684,
             0.519403490313631,
             0.296517314127297,
             0.780052414185649,
             0.568053211050437,
             0.875149814876713,
             0.613839128601815,
             0.333465582799411
            ],
            "sizemode": "area",
            "sizeref": 0.00249999999999936,
            "symbol": "circle"
           },
           "mode": "markers",
           "name": "Central Africa",
           "showlegend": false,
           "type": "scattergeo"
          },
          {
           "geo": "geo",
           "hovertemplate": "<b>%{hovertext}</b><br><br>AU_Regions=West Africa<br>Year=2045<br>Variable=UrbanLevel<br>Value=%{marker.size}<br>ISO=%{location}<extra></extra>",
           "hovertext": [
            "Benin",
            "Burkina Faso",
            "Cote d`Ivoire",
            "Cabo Verde",
            "Ghana",
            "Guinea",
            "The Gambia",
            "Guinea-Bissau",
            "Liberia",
            "Mali",
            "Niger",
            "Nigeria",
            "Senegal",
            "Sierra Leone",
            "Togo"
           ],
           "legendgroup": "West Africa",
           "locations": [
            "BEN",
            "BFA",
            "CIV",
            "CPV",
            "GHA",
            "GIN",
            "GMB",
            "GNB",
            "LBR",
            "MLI",
            "NER",
            "NGA",
            "SEN",
            "SLE",
            "TGO"
           ],
           "marker": {
            "color": "#00cc96",
            "size": [
             0.686164566892368,
             0.454318172641814,
             0.630842569654962,
             0.719840141513473,
             0.641455528175606,
             0.502739143965234,
             0.724440318323667,
             0.461200700495388,
             0.479335958856169,
             0.432071540383202,
             0.251526766069932,
             0.689928144791808,
             0.619623762204839,
             0.523438913792642,
             0.819782080311846
            ],
            "sizemode": "area",
            "sizeref": 0.00249999999999936,
            "symbol": "circle"
           },
           "mode": "markers",
           "name": "West Africa",
           "showlegend": true,
           "type": "scattergeo"
          },
          {
           "geo": "geo2",
           "hovertemplate": "<b>%{hovertext}</b><br><br>AU_Regions=West Africa<br>Year=2045<br>Variable=Mpop<br>Value=%{marker.size}<br>ISO=%{location}<extra></extra>",
           "hovertext": [
            "Benin",
            "Burkina Faso",
            "Cote d`Ivoire",
            "Cabo Verde",
            "Ghana",
            "Guinea",
            "The Gambia",
            "Guinea-Bissau",
            "Liberia",
            "Mali",
            "Niger",
            "Nigeria",
            "Senegal",
            "Sierra Leone",
            "Togo"
           ],
           "legendgroup": "West Africa",
           "locations": [
            "BEN",
            "BFA",
            "CIV",
            "CPV",
            "GHA",
            "GIN",
            "GMB",
            "GNB",
            "LBR",
            "MLI",
            "NER",
            "NGA",
            "SEN",
            "SLE",
            "TGO"
           ],
           "marker": {
            "color": "#00cc96",
            "size": [
             0.375761720449019,
             0.556494404683488,
             0.379886919328029,
             0.706203909476137,
             0.49980189472099,
             0.529357663543021,
             0.907444414849203,
             0.658340964621557,
             0.828987376106029,
             0.501296587731148,
             0.164906617304455,
             0.176581195218357,
             0.395410070772139,
             0.605693721440129,
             0.615275442357692
            ],
            "sizemode": "area",
            "sizeref": 0.00249999999999936,
            "symbol": "circle"
           },
           "mode": "markers",
           "name": "West Africa",
           "showlegend": false,
           "type": "scattergeo"
          },
          {
           "geo": "geo",
           "hovertemplate": "<b>%{hovertext}</b><br><br>AU_Regions=East Africa<br>Year=2045<br>Variable=UrbanLevel<br>Value=%{marker.size}<br>ISO=%{location}<extra></extra>",
           "hovertext": [
            "Comoros",
            "Djibouti",
            "Eritrea",
            "Ethiopia",
            "Kenya",
            "Madagascar",
            "Mauritius",
            "Rwanda",
            "Sudan",
            "Somalia",
            "South Sudan",
            "Seychelles",
            "Tanzania",
            "Uganda"
           ],
           "legendgroup": "East Africa",
           "locations": [
            "COM",
            "DJI",
            "ERI",
            "ETH",
            "KEN",
            "MDG",
            "MUS",
            "RWA",
            "SDN",
            "SOM",
            "SSD",
            "SYC",
            "TZA",
            "UGA"
           ],
           "marker": {
            "color": "#ab63fa",
            "size": [
             0.70715672453622,
             0.722247499157193,
             0.557907045386541,
             0.383253796529783,
             0.91284425273559,
             0.320466030538494,
             0.885245614991235,
             0.729090174377548,
             0.589638099469441,
             0.558537277513618,
             0.555461343593545,
             0.781897778929739,
             0.459764420938276,
             0.737983760601186
            ],
            "sizemode": "area",
            "sizeref": 0.00249999999999936,
            "symbol": "circle"
           },
           "mode": "markers",
           "name": "East Africa",
           "showlegend": true,
           "type": "scattergeo"
          },
          {
           "geo": "geo2",
           "hovertemplate": "<b>%{hovertext}</b><br><br>AU_Regions=East Africa<br>Year=2045<br>Variable=Mpop<br>Value=%{marker.size}<br>ISO=%{location}<extra></extra>",
           "hovertext": [
            "Comoros",
            "Djibouti",
            "Eritrea",
            "Ethiopia",
            "Kenya",
            "Madagascar",
            "Mauritius",
            "Rwanda",
            "Sudan",
            "Somalia",
            "South Sudan",
            "Seychelles",
            "Tanzania",
            "Uganda"
           ],
           "legendgroup": "East Africa",
           "locations": [
            "COM",
            "DJI",
            "ERI",
            "ETH",
            "KEN",
            "MDG",
            "MUS",
            "RWA",
            "SDN",
            "SOM",
            "SSD",
            "SYC",
            "TZA",
            "UGA"
           ],
           "marker": {
            "color": "#ab63fa",
            "size": [
             0.309219636935557,
             0.781679318588546,
             0.303882078206819,
             0.126963372908623,
             0.419814538558192,
             0.477729292898709,
             0.62130535261106,
             0.593867415283371,
             0.487902056045431,
             0.415792731694098,
             0.280372353682436,
             0.999999999998725,
             0.288285165077998,
             0.295146715410692
            ],
            "sizemode": "area",
            "sizeref": 0.00249999999999936,
            "symbol": "circle"
           },
           "mode": "markers",
           "name": "East Africa",
           "showlegend": false,
           "type": "scattergeo"
          },
          {
           "geo": "geo",
           "hovertemplate": "<b>%{hovertext}</b><br><br>AU_Regions=North Africa<br>Year=2045<br>Variable=UrbanLevel<br>Value=%{marker.size}<br>ISO=%{location}<extra></extra>",
           "hovertext": [
            "Algeria",
            "Egypt",
            "Libya",
            "Morocco",
            "Mauritania",
            "Tunisia"
           ],
           "legendgroup": "North Africa",
           "locations": [
            "DZA",
            "EGY",
            "LBY",
            "MAR",
            "MRT",
            "TUN"
           ],
           "marker": {
            "color": "#FFA15A",
            "size": [
             0.772308179509057,
             0.952367726818959,
             0.817692244663648,
             0.792148907370809,
             0.477142218825786,
             0.760415268162845
            ],
            "sizemode": "area",
            "sizeref": 0.00249999999999936,
            "symbol": "circle"
           },
           "mode": "markers",
           "name": "North Africa",
           "showlegend": true,
           "type": "scattergeo"
          },
          {
           "geo": "geo2",
           "hovertemplate": "<b>%{hovertext}</b><br><br>AU_Regions=North Africa<br>Year=2045<br>Variable=Mpop<br>Value=%{marker.size}<br>ISO=%{location}<extra></extra>",
           "hovertext": [
            "Algeria",
            "Egypt",
            "Libya",
            "Morocco",
            "Mauritania",
            "Tunisia"
           ],
           "legendgroup": "North Africa",
           "locations": [
            "DZA",
            "EGY",
            "LBY",
            "MAR",
            "MRT",
            "TUN"
           ],
           "marker": {
            "color": "#FFA15A",
            "size": [
             0.181991758585341,
             0.374411318373833,
             0.410954869989345,
             0.280782937056656,
             0.637980711032352,
             0.372716054535807
            ],
            "sizemode": "area",
            "sizeref": 0.00249999999999936,
            "symbol": "circle"
           },
           "mode": "markers",
           "name": "North Africa",
           "showlegend": false,
           "type": "scattergeo"
          }
         ],
         "name": "2045"
        },
        {
         "data": [
          {
           "geo": "geo",
           "hovertemplate": "<b>%{hovertext}</b><br><br>AU_Regions=Southern Africa<br>Year=2050<br>Variable=UrbanLevel<br>Value=%{marker.size}<br>ISO=%{location}<extra></extra>",
           "hovertext": [
            "Angola",
            "Botswana",
            "Lesotho",
            "Mozambique",
            "Malawi",
            "Namibia",
            "Kingdom of Eswatini",
            "South Africa",
            "Zambia",
            "Zimbabwe"
           ],
           "legendgroup": "Southern Africa",
           "locations": [
            "AGO",
            "BWA",
            "LSO",
            "MOZ",
            "MWI",
            "NAM",
            "SWZ",
            "ZAF",
            "ZMB",
            "ZWE"
           ],
           "marker": {
            "color": "#636efa",
            "size": [
             0.722242576525213,
             0.755918118525627,
             0.838024831182152,
             0.497573536393438,
             0.434207424401356,
             0.754233621490596,
             0.547353187084191,
             0.816301536442044,
             0.514581097533771,
             0.425975785394084
            ],
            "sizemode": "area",
            "sizeref": 0.00249999999999936,
            "symbol": "circle"
           },
           "mode": "markers",
           "name": "Southern Africa",
           "showlegend": true,
           "type": "scattergeo"
          },
          {
           "geo": "geo2",
           "hovertemplate": "<b>%{hovertext}</b><br><br>AU_Regions=Southern Africa<br>Year=2050<br>Variable=Mpop<br>Value=%{marker.size}<br>ISO=%{location}<extra></extra>",
           "hovertext": [
            "Angola",
            "Botswana",
            "Lesotho",
            "Mozambique",
            "Malawi",
            "Namibia",
            "Kingdom of Eswatini",
            "South Africa",
            "Zambia",
            "Zimbabwe"
           ],
           "legendgroup": "Southern Africa",
           "locations": [
            "AGO",
            "BWA",
            "LSO",
            "MOZ",
            "MWI",
            "NAM",
            "SWZ",
            "ZAF",
            "ZMB",
            "ZWE"
           ],
           "marker": {
            "color": "#636efa",
            "size": [
             0.441336494421609,
             0.327322796145821,
             0.480955402802111,
             0.159259317982134,
             0.305212900076269,
             0.42299396183154,
             0.679244122922506,
             0.517995120193102,
             0.313146790461864,
             0.577461914204879
            ],
            "sizemode": "area",
            "sizeref": 0.00249999999999936,
            "symbol": "circle"
           },
           "mode": "markers",
           "name": "Southern Africa",
           "showlegend": false,
           "type": "scattergeo"
          },
          {
           "geo": "geo",
           "hovertemplate": "<b>%{hovertext}</b><br><br>AU_Regions=Central Africa<br>Year=2050<br>Variable=UrbanLevel<br>Value=%{marker.size}<br>ISO=%{location}<extra></extra>",
           "hovertext": [
            "Burundi",
            "Central African Republic",
            "Cameroon",
            "Democratic Republic of the Congo",
            "Republic of the Congo",
            "Gabon",
            "Equatorial Guinea",
            "Sao Tome and Principe",
            "Chad"
           ],
           "legendgroup": "Central Africa",
           "locations": [
            "BDI",
            "CAF",
            "CMR",
            "COD",
            "COG",
            "GAB",
            "GNQ",
            "STP",
            "TCD"
           ],
           "marker": {
            "color": "#EF553B",
            "size": [
             0.842869054546302,
             0.614890794378298,
             0.783115523582741,
             0.637643188447266,
             0.848963689671073,
             0.840788813115045,
             0.720839066301805,
             0.768675981562983,
             0.431315803982569
            ],
            "sizemode": "area",
            "sizeref": 0.00249999999999936,
            "symbol": "circle"
           },
           "mode": "markers",
           "name": "Central Africa",
           "showlegend": true,
           "type": "scattergeo"
          },
          {
           "geo": "geo2",
           "hovertemplate": "<b>%{hovertext}</b><br><br>AU_Regions=Central Africa<br>Year=2050<br>Variable=Mpop<br>Value=%{marker.size}<br>ISO=%{location}<extra></extra>",
           "hovertext": [
            "Burundi",
            "Central African Republic",
            "Cameroon",
            "Democratic Republic of the Congo",
            "Republic of the Congo",
            "Gabon",
            "Equatorial Guinea",
            "Sao Tome and Principe",
            "Chad"
           ],
           "legendgroup": "Central Africa",
           "locations": [
            "BDI",
            "CAF",
            "CMR",
            "COD",
            "COG",
            "GAB",
            "GNQ",
            "STP",
            "TCD"
           ],
           "marker": {
            "color": "#EF553B",
            "size": [
             0.969931875490818,
             0.505242340361634,
             0.519014399250441,
             0.295176239221601,
             0.780361011863652,
             0.568369847203211,
             0.8723284638785,
             0.59716698916804,
             0.33842478232535
            ],
            "sizemode": "area",
            "sizeref": 0.00249999999999936,
            "symbol": "circle"
           },
           "mode": "markers",
           "name": "Central Africa",
           "showlegend": false,
           "type": "scattergeo"
          },
          {
           "geo": "geo",
           "hovertemplate": "<b>%{hovertext}</b><br><br>AU_Regions=West Africa<br>Year=2050<br>Variable=UrbanLevel<br>Value=%{marker.size}<br>ISO=%{location}<extra></extra>",
           "hovertext": [
            "Benin",
            "Burkina Faso",
            "Cote d`Ivoire",
            "Cabo Verde",
            "Ghana",
            "Guinea",
            "The Gambia",
            "Guinea-Bissau",
            "Liberia",
            "Mali",
            "Niger",
            "Nigeria",
            "Senegal",
            "Sierra Leone",
            "Togo"
           ],
           "legendgroup": "West Africa",
           "locations": [
            "BEN",
            "BFA",
            "CIV",
            "CPV",
            "GHA",
            "GIN",
            "GMB",
            "GNB",
            "LBR",
            "MLI",
            "NER",
            "NGA",
            "SEN",
            "SLE",
            "TGO"
           ],
           "marker": {
            "color": "#00cc96",
            "size": [
             0.69184977954794,
             0.477127224160847,
             0.647433871852758,
             0.744194274984853,
             0.655825906601691,
             0.52156502977622,
             0.761773579698635,
             0.470866596244699,
             0.484979721532725,
             0.443787507376104,
             0.261848309406698,
             0.708086952291688,
             0.636337987699345,
             0.545362760501914,
             0.850312199577207
            ],
            "sizemode": "area",
            "sizeref": 0.00249999999999936,
            "symbol": "circle"
           },
           "mode": "markers",
           "name": "West Africa",
           "showlegend": true,
           "type": "scattergeo"
          },
          {
           "geo": "geo2",
           "hovertemplate": "<b>%{hovertext}</b><br><br>AU_Regions=West Africa<br>Year=2050<br>Variable=Mpop<br>Value=%{marker.size}<br>ISO=%{location}<extra></extra>",
           "hovertext": [
            "Benin",
            "Burkina Faso",
            "Cote d`Ivoire",
            "Cabo Verde",
            "Ghana",
            "Guinea",
            "The Gambia",
            "Guinea-Bissau",
            "Liberia",
            "Mali",
            "Niger",
            "Nigeria",
            "Senegal",
            "Sierra Leone",
            "Togo"
           ],
           "legendgroup": "West Africa",
           "locations": [
            "BEN",
            "BFA",
            "CIV",
            "CPV",
            "GHA",
            "GIN",
            "GMB",
            "GNB",
            "LBR",
            "MLI",
            "NER",
            "NGA",
            "SEN",
            "SLE",
            "TGO"
           ],
           "marker": {
            "color": "#00cc96",
            "size": [
             0.374362766729575,
             0.556371006383984,
             0.379319975224817,
             0.703089329539013,
             0.499867058991113,
             0.528415039816351,
             0.912599843028771,
             0.654540758230749,
             0.837672281667994,
             0.50530081160503,
             0.150243193257562,
             0.179664363589331,
             0.387561379144606,
             0.608525006407844,
             0.624432323184555
            ],
            "sizemode": "area",
            "sizeref": 0.00249999999999936,
            "symbol": "circle"
           },
           "mode": "markers",
           "name": "West Africa",
           "showlegend": false,
           "type": "scattergeo"
          },
          {
           "geo": "geo",
           "hovertemplate": "<b>%{hovertext}</b><br><br>AU_Regions=East Africa<br>Year=2050<br>Variable=UrbanLevel<br>Value=%{marker.size}<br>ISO=%{location}<extra></extra>",
           "hovertext": [
            "Comoros",
            "Djibouti",
            "Eritrea",
            "Ethiopia",
            "Kenya",
            "Madagascar",
            "Mauritius",
            "Rwanda",
            "Sudan",
            "Somalia",
            "South Sudan",
            "Seychelles",
            "Tanzania",
            "Uganda"
           ],
           "legendgroup": "East Africa",
           "locations": [
            "COM",
            "DJI",
            "ERI",
            "ETH",
            "KEN",
            "MDG",
            "MUS",
            "RWA",
            "SDN",
            "SOM",
            "SSD",
            "SYC",
            "TZA",
            "UGA"
           ],
           "marker": {
            "color": "#ab63fa",
            "size": [
             0.758648190241032,
             0.728913692458911,
             0.584988766659445,
             0.399598094903978,
             0.929561440424778,
             0.337733118746242,
             0.884714219414478,
             0.742829977543314,
             0.6110623517539,
             0.589994480921814,
             0.577065614451175,
             0.782549818978369,
             0.469502383458907,
             0.777940862803996
            ],
            "sizemode": "area",
            "sizeref": 0.00249999999999936,
            "symbol": "circle"
           },
           "mode": "markers",
           "name": "East Africa",
           "showlegend": true,
           "type": "scattergeo"
          },
          {
           "geo": "geo2",
           "hovertemplate": "<b>%{hovertext}</b><br><br>AU_Regions=East Africa<br>Year=2050<br>Variable=Mpop<br>Value=%{marker.size}<br>ISO=%{location}<extra></extra>",
           "hovertext": [
            "Comoros",
            "Djibouti",
            "Eritrea",
            "Ethiopia",
            "Kenya",
            "Madagascar",
            "Mauritius",
            "Rwanda",
            "Sudan",
            "Somalia",
            "South Sudan",
            "Seychelles",
            "Tanzania",
            "Uganda"
           ],
           "legendgroup": "East Africa",
           "locations": [
            "COM",
            "DJI",
            "ERI",
            "ETH",
            "KEN",
            "MDG",
            "MUS",
            "RWA",
            "SDN",
            "SOM",
            "SSD",
            "SYC",
            "TZA",
            "UGA"
           ],
           "marker": {
            "color": "#ab63fa",
            "size": [
             0.289260404892471,
             0.783676098038703,
             0.29879619956658,
             0.129356531781319,
             0.0780712788097952,
             0.481845307776211,
             0.628531709552754,
             0.672657894058545,
             0.500543501930944,
             0.406369737068267,
             0.294387370283884,
             0.999999999998704,
             0.294276829869371,
             0.307730947281277
            ],
            "sizemode": "area",
            "sizeref": 0.00249999999999936,
            "symbol": "circle"
           },
           "mode": "markers",
           "name": "East Africa",
           "showlegend": false,
           "type": "scattergeo"
          },
          {
           "geo": "geo",
           "hovertemplate": "<b>%{hovertext}</b><br><br>AU_Regions=North Africa<br>Year=2050<br>Variable=UrbanLevel<br>Value=%{marker.size}<br>ISO=%{location}<extra></extra>",
           "hovertext": [
            "Algeria",
            "Egypt",
            "Libya",
            "Morocco",
            "Mauritania",
            "Tunisia"
           ],
           "legendgroup": "North Africa",
           "locations": [
            "DZA",
            "EGY",
            "LBY",
            "MAR",
            "MRT",
            "TUN"
           ],
           "marker": {
            "color": "#FFA15A",
            "size": [
             0.784682750196336,
             0.952443455344661,
             0.817692242278285,
             0.813040812543481,
             0.488563694239487,
             0.767378455473182
            ],
            "sizemode": "area",
            "sizeref": 0.00249999999999936,
            "symbol": "circle"
           },
           "mode": "markers",
           "name": "North Africa",
           "showlegend": true,
           "type": "scattergeo"
          },
          {
           "geo": "geo2",
           "hovertemplate": "<b>%{hovertext}</b><br><br>AU_Regions=North Africa<br>Year=2050<br>Variable=Mpop<br>Value=%{marker.size}<br>ISO=%{location}<extra></extra>",
           "hovertext": [
            "Algeria",
            "Egypt",
            "Libya",
            "Morocco",
            "Mauritania",
            "Tunisia"
           ],
           "legendgroup": "North Africa",
           "locations": [
            "DZA",
            "EGY",
            "LBY",
            "MAR",
            "MRT",
            "TUN"
           ],
           "marker": {
            "color": "#FFA15A",
            "size": [
             0.183740193741126,
             0.378802872702818,
             0.410954869462726,
             0.27734561986592,
             0.634601930307094,
             0.372808130808837
            ],
            "sizemode": "area",
            "sizeref": 0.00249999999999936,
            "symbol": "circle"
           },
           "mode": "markers",
           "name": "North Africa",
           "showlegend": false,
           "type": "scattergeo"
          }
         ],
         "name": "2050"
        }
       ],
       "layout": {
        "annotations": [
         {
          "font": {},
          "showarrow": false,
          "text": "Variable=UrbanLevel",
          "x": 0.245,
          "xanchor": "center",
          "xref": "paper",
          "y": 1,
          "yanchor": "bottom",
          "yref": "paper"
         },
         {
          "font": {},
          "showarrow": false,
          "text": "Variable=Mpop",
          "x": 0.755,
          "xanchor": "center",
          "xref": "paper",
          "y": 1,
          "yanchor": "bottom",
          "yref": "paper"
         }
        ],
        "autosize": true,
        "geo": {
         "center": {},
         "domain": {
          "x": [
           0,
           0.49
          ],
          "y": [
           0,
           1
          ]
         },
         "projection": {
          "type": "natural earth"
         },
         "scope": "africa"
        },
        "geo2": {
         "center": {},
         "domain": {
          "x": [
           0.51,
           1
          ],
          "y": [
           0,
           1
          ]
         },
         "projection": {
          "type": "natural earth"
         },
         "scope": "africa"
        },
        "legend": {
         "itemsizing": "constant",
         "title": {
          "text": "AU_Regions"
         },
         "tracegroupgap": 0
        },
        "sliders": [
         {
          "active": 0,
          "currentvalue": {
           "prefix": "Year="
          },
          "len": 0.9,
          "pad": {
           "b": 10,
           "t": 60
          },
          "steps": [
           {
            "args": [
             [
              "1950"
             ],
             {
              "frame": {
               "duration": 0,
               "redraw": true
              },
              "fromcurrent": true,
              "mode": "immediate",
              "transition": {
               "duration": 0,
               "easing": "linear"
              }
             }
            ],
            "label": "1950",
            "method": "animate"
           },
           {
            "args": [
             [
              "1960"
             ],
             {
              "frame": {
               "duration": 0,
               "redraw": true
              },
              "fromcurrent": true,
              "mode": "immediate",
              "transition": {
               "duration": 0,
               "easing": "linear"
              }
             }
            ],
            "label": "1960",
            "method": "animate"
           },
           {
            "args": [
             [
              "1970"
             ],
             {
              "frame": {
               "duration": 0,
               "redraw": true
              },
              "fromcurrent": true,
              "mode": "immediate",
              "transition": {
               "duration": 0,
               "easing": "linear"
              }
             }
            ],
            "label": "1970",
            "method": "animate"
           },
           {
            "args": [
             [
              "1980"
             ],
             {
              "frame": {
               "duration": 0,
               "redraw": true
              },
              "fromcurrent": true,
              "mode": "immediate",
              "transition": {
               "duration": 0,
               "easing": "linear"
              }
             }
            ],
            "label": "1980",
            "method": "animate"
           },
           {
            "args": [
             [
              "1990"
             ],
             {
              "frame": {
               "duration": 0,
               "redraw": true
              },
              "fromcurrent": true,
              "mode": "immediate",
              "transition": {
               "duration": 0,
               "easing": "linear"
              }
             }
            ],
            "label": "1990",
            "method": "animate"
           },
           {
            "args": [
             [
              "2000"
             ],
             {
              "frame": {
               "duration": 0,
               "redraw": true
              },
              "fromcurrent": true,
              "mode": "immediate",
              "transition": {
               "duration": 0,
               "easing": "linear"
              }
             }
            ],
            "label": "2000",
            "method": "animate"
           },
           {
            "args": [
             [
              "2010"
             ],
             {
              "frame": {
               "duration": 0,
               "redraw": true
              },
              "fromcurrent": true,
              "mode": "immediate",
              "transition": {
               "duration": 0,
               "easing": "linear"
              }
             }
            ],
            "label": "2010",
            "method": "animate"
           },
           {
            "args": [
             [
              "2015"
             ],
             {
              "frame": {
               "duration": 0,
               "redraw": true
              },
              "fromcurrent": true,
              "mode": "immediate",
              "transition": {
               "duration": 0,
               "easing": "linear"
              }
             }
            ],
            "label": "2015",
            "method": "animate"
           },
           {
            "args": [
             [
              "2020"
             ],
             {
              "frame": {
               "duration": 0,
               "redraw": true
              },
              "fromcurrent": true,
              "mode": "immediate",
              "transition": {
               "duration": 0,
               "easing": "linear"
              }
             }
            ],
            "label": "2020",
            "method": "animate"
           },
           {
            "args": [
             [
              "2025"
             ],
             {
              "frame": {
               "duration": 0,
               "redraw": true
              },
              "fromcurrent": true,
              "mode": "immediate",
              "transition": {
               "duration": 0,
               "easing": "linear"
              }
             }
            ],
            "label": "2025",
            "method": "animate"
           },
           {
            "args": [
             [
              "2030"
             ],
             {
              "frame": {
               "duration": 0,
               "redraw": true
              },
              "fromcurrent": true,
              "mode": "immediate",
              "transition": {
               "duration": 0,
               "easing": "linear"
              }
             }
            ],
            "label": "2030",
            "method": "animate"
           },
           {
            "args": [
             [
              "2035"
             ],
             {
              "frame": {
               "duration": 0,
               "redraw": true
              },
              "fromcurrent": true,
              "mode": "immediate",
              "transition": {
               "duration": 0,
               "easing": "linear"
              }
             }
            ],
            "label": "2035",
            "method": "animate"
           },
           {
            "args": [
             [
              "2040"
             ],
             {
              "frame": {
               "duration": 0,
               "redraw": true
              },
              "fromcurrent": true,
              "mode": "immediate",
              "transition": {
               "duration": 0,
               "easing": "linear"
              }
             }
            ],
            "label": "2040",
            "method": "animate"
           },
           {
            "args": [
             [
              "2045"
             ],
             {
              "frame": {
               "duration": 0,
               "redraw": true
              },
              "fromcurrent": true,
              "mode": "immediate",
              "transition": {
               "duration": 0,
               "easing": "linear"
              }
             }
            ],
            "label": "2045",
            "method": "animate"
           },
           {
            "args": [
             [
              "2050"
             ],
             {
              "frame": {
               "duration": 0,
               "redraw": true
              },
              "fromcurrent": true,
              "mode": "immediate",
              "transition": {
               "duration": 0,
               "easing": "linear"
              }
             }
            ],
            "label": "2050",
            "method": "animate"
           }
          ],
          "x": 0.1,
          "xanchor": "left",
          "y": 0,
          "yanchor": "top"
         }
        ],
        "template": {
         "data": {
          "bar": [
           {
            "error_x": {
             "color": "#2a3f5f"
            },
            "error_y": {
             "color": "#2a3f5f"
            },
            "marker": {
             "line": {
              "color": "#E5ECF6",
              "width": 0.5
             },
             "pattern": {
              "fillmode": "overlay",
              "size": 10,
              "solidity": 0.2
             }
            },
            "type": "bar"
           }
          ],
          "barpolar": [
           {
            "marker": {
             "line": {
              "color": "#E5ECF6",
              "width": 0.5
             },
             "pattern": {
              "fillmode": "overlay",
              "size": 10,
              "solidity": 0.2
             }
            },
            "type": "barpolar"
           }
          ],
          "carpet": [
           {
            "aaxis": {
             "endlinecolor": "#2a3f5f",
             "gridcolor": "white",
             "linecolor": "white",
             "minorgridcolor": "white",
             "startlinecolor": "#2a3f5f"
            },
            "baxis": {
             "endlinecolor": "#2a3f5f",
             "gridcolor": "white",
             "linecolor": "white",
             "minorgridcolor": "white",
             "startlinecolor": "#2a3f5f"
            },
            "type": "carpet"
           }
          ],
          "choropleth": [
           {
            "colorbar": {
             "outlinewidth": 0,
             "ticks": ""
            },
            "type": "choropleth"
           }
          ],
          "contour": [
           {
            "colorbar": {
             "outlinewidth": 0,
             "ticks": ""
            },
            "colorscale": [
             [
              0,
              "#0d0887"
             ],
             [
              0.1111111111111111,
              "#46039f"
             ],
             [
              0.2222222222222222,
              "#7201a8"
             ],
             [
              0.3333333333333333,
              "#9c179e"
             ],
             [
              0.4444444444444444,
              "#bd3786"
             ],
             [
              0.5555555555555556,
              "#d8576b"
             ],
             [
              0.6666666666666666,
              "#ed7953"
             ],
             [
              0.7777777777777778,
              "#fb9f3a"
             ],
             [
              0.8888888888888888,
              "#fdca26"
             ],
             [
              1,
              "#f0f921"
             ]
            ],
            "type": "contour"
           }
          ],
          "contourcarpet": [
           {
            "colorbar": {
             "outlinewidth": 0,
             "ticks": ""
            },
            "type": "contourcarpet"
           }
          ],
          "heatmap": [
           {
            "colorbar": {
             "outlinewidth": 0,
             "ticks": ""
            },
            "colorscale": [
             [
              0,
              "#0d0887"
             ],
             [
              0.1111111111111111,
              "#46039f"
             ],
             [
              0.2222222222222222,
              "#7201a8"
             ],
             [
              0.3333333333333333,
              "#9c179e"
             ],
             [
              0.4444444444444444,
              "#bd3786"
             ],
             [
              0.5555555555555556,
              "#d8576b"
             ],
             [
              0.6666666666666666,
              "#ed7953"
             ],
             [
              0.7777777777777778,
              "#fb9f3a"
             ],
             [
              0.8888888888888888,
              "#fdca26"
             ],
             [
              1,
              "#f0f921"
             ]
            ],
            "type": "heatmap"
           }
          ],
          "heatmapgl": [
           {
            "colorbar": {
             "outlinewidth": 0,
             "ticks": ""
            },
            "colorscale": [
             [
              0,
              "#0d0887"
             ],
             [
              0.1111111111111111,
              "#46039f"
             ],
             [
              0.2222222222222222,
              "#7201a8"
             ],
             [
              0.3333333333333333,
              "#9c179e"
             ],
             [
              0.4444444444444444,
              "#bd3786"
             ],
             [
              0.5555555555555556,
              "#d8576b"
             ],
             [
              0.6666666666666666,
              "#ed7953"
             ],
             [
              0.7777777777777778,
              "#fb9f3a"
             ],
             [
              0.8888888888888888,
              "#fdca26"
             ],
             [
              1,
              "#f0f921"
             ]
            ],
            "type": "heatmapgl"
           }
          ],
          "histogram": [
           {
            "marker": {
             "pattern": {
              "fillmode": "overlay",
              "size": 10,
              "solidity": 0.2
             }
            },
            "type": "histogram"
           }
          ],
          "histogram2d": [
           {
            "colorbar": {
             "outlinewidth": 0,
             "ticks": ""
            },
            "colorscale": [
             [
              0,
              "#0d0887"
             ],
             [
              0.1111111111111111,
              "#46039f"
             ],
             [
              0.2222222222222222,
              "#7201a8"
             ],
             [
              0.3333333333333333,
              "#9c179e"
             ],
             [
              0.4444444444444444,
              "#bd3786"
             ],
             [
              0.5555555555555556,
              "#d8576b"
             ],
             [
              0.6666666666666666,
              "#ed7953"
             ],
             [
              0.7777777777777778,
              "#fb9f3a"
             ],
             [
              0.8888888888888888,
              "#fdca26"
             ],
             [
              1,
              "#f0f921"
             ]
            ],
            "type": "histogram2d"
           }
          ],
          "histogram2dcontour": [
           {
            "colorbar": {
             "outlinewidth": 0,
             "ticks": ""
            },
            "colorscale": [
             [
              0,
              "#0d0887"
             ],
             [
              0.1111111111111111,
              "#46039f"
             ],
             [
              0.2222222222222222,
              "#7201a8"
             ],
             [
              0.3333333333333333,
              "#9c179e"
             ],
             [
              0.4444444444444444,
              "#bd3786"
             ],
             [
              0.5555555555555556,
              "#d8576b"
             ],
             [
              0.6666666666666666,
              "#ed7953"
             ],
             [
              0.7777777777777778,
              "#fb9f3a"
             ],
             [
              0.8888888888888888,
              "#fdca26"
             ],
             [
              1,
              "#f0f921"
             ]
            ],
            "type": "histogram2dcontour"
           }
          ],
          "mesh3d": [
           {
            "colorbar": {
             "outlinewidth": 0,
             "ticks": ""
            },
            "type": "mesh3d"
           }
          ],
          "parcoords": [
           {
            "line": {
             "colorbar": {
              "outlinewidth": 0,
              "ticks": ""
             }
            },
            "type": "parcoords"
           }
          ],
          "pie": [
           {
            "automargin": true,
            "type": "pie"
           }
          ],
          "scatter": [
           {
            "fillpattern": {
             "fillmode": "overlay",
             "size": 10,
             "solidity": 0.2
            },
            "type": "scatter"
           }
          ],
          "scatter3d": [
           {
            "line": {
             "colorbar": {
              "outlinewidth": 0,
              "ticks": ""
             }
            },
            "marker": {
             "colorbar": {
              "outlinewidth": 0,
              "ticks": ""
             }
            },
            "type": "scatter3d"
           }
          ],
          "scattercarpet": [
           {
            "marker": {
             "colorbar": {
              "outlinewidth": 0,
              "ticks": ""
             }
            },
            "type": "scattercarpet"
           }
          ],
          "scattergeo": [
           {
            "marker": {
             "colorbar": {
              "outlinewidth": 0,
              "ticks": ""
             }
            },
            "type": "scattergeo"
           }
          ],
          "scattergl": [
           {
            "marker": {
             "colorbar": {
              "outlinewidth": 0,
              "ticks": ""
             }
            },
            "type": "scattergl"
           }
          ],
          "scattermapbox": [
           {
            "marker": {
             "colorbar": {
              "outlinewidth": 0,
              "ticks": ""
             }
            },
            "type": "scattermapbox"
           }
          ],
          "scatterpolar": [
           {
            "marker": {
             "colorbar": {
              "outlinewidth": 0,
              "ticks": ""
             }
            },
            "type": "scatterpolar"
           }
          ],
          "scatterpolargl": [
           {
            "marker": {
             "colorbar": {
              "outlinewidth": 0,
              "ticks": ""
             }
            },
            "type": "scatterpolargl"
           }
          ],
          "scatterternary": [
           {
            "marker": {
             "colorbar": {
              "outlinewidth": 0,
              "ticks": ""
             }
            },
            "type": "scatterternary"
           }
          ],
          "surface": [
           {
            "colorbar": {
             "outlinewidth": 0,
             "ticks": ""
            },
            "colorscale": [
             [
              0,
              "#0d0887"
             ],
             [
              0.1111111111111111,
              "#46039f"
             ],
             [
              0.2222222222222222,
              "#7201a8"
             ],
             [
              0.3333333333333333,
              "#9c179e"
             ],
             [
              0.4444444444444444,
              "#bd3786"
             ],
             [
              0.5555555555555556,
              "#d8576b"
             ],
             [
              0.6666666666666666,
              "#ed7953"
             ],
             [
              0.7777777777777778,
              "#fb9f3a"
             ],
             [
              0.8888888888888888,
              "#fdca26"
             ],
             [
              1,
              "#f0f921"
             ]
            ],
            "type": "surface"
           }
          ],
          "table": [
           {
            "cells": {
             "fill": {
              "color": "#EBF0F8"
             },
             "line": {
              "color": "white"
             }
            },
            "header": {
             "fill": {
              "color": "#C8D4E3"
             },
             "line": {
              "color": "white"
             }
            },
            "type": "table"
           }
          ]
         },
         "layout": {
          "annotationdefaults": {
           "arrowcolor": "#2a3f5f",
           "arrowhead": 0,
           "arrowwidth": 1
          },
          "autotypenumbers": "strict",
          "coloraxis": {
           "colorbar": {
            "outlinewidth": 0,
            "ticks": ""
           }
          },
          "colorscale": {
           "diverging": [
            [
             0,
             "#8e0152"
            ],
            [
             0.1,
             "#c51b7d"
            ],
            [
             0.2,
             "#de77ae"
            ],
            [
             0.3,
             "#f1b6da"
            ],
            [
             0.4,
             "#fde0ef"
            ],
            [
             0.5,
             "#f7f7f7"
            ],
            [
             0.6,
             "#e6f5d0"
            ],
            [
             0.7,
             "#b8e186"
            ],
            [
             0.8,
             "#7fbc41"
            ],
            [
             0.9,
             "#4d9221"
            ],
            [
             1,
             "#276419"
            ]
           ],
           "sequential": [
            [
             0,
             "#0d0887"
            ],
            [
             0.1111111111111111,
             "#46039f"
            ],
            [
             0.2222222222222222,
             "#7201a8"
            ],
            [
             0.3333333333333333,
             "#9c179e"
            ],
            [
             0.4444444444444444,
             "#bd3786"
            ],
            [
             0.5555555555555556,
             "#d8576b"
            ],
            [
             0.6666666666666666,
             "#ed7953"
            ],
            [
             0.7777777777777778,
             "#fb9f3a"
            ],
            [
             0.8888888888888888,
             "#fdca26"
            ],
            [
             1,
             "#f0f921"
            ]
           ],
           "sequentialminus": [
            [
             0,
             "#0d0887"
            ],
            [
             0.1111111111111111,
             "#46039f"
            ],
            [
             0.2222222222222222,
             "#7201a8"
            ],
            [
             0.3333333333333333,
             "#9c179e"
            ],
            [
             0.4444444444444444,
             "#bd3786"
            ],
            [
             0.5555555555555556,
             "#d8576b"
            ],
            [
             0.6666666666666666,
             "#ed7953"
            ],
            [
             0.7777777777777778,
             "#fb9f3a"
            ],
            [
             0.8888888888888888,
             "#fdca26"
            ],
            [
             1,
             "#f0f921"
            ]
           ]
          },
          "colorway": [
           "#636efa",
           "#EF553B",
           "#00cc96",
           "#ab63fa",
           "#FFA15A",
           "#19d3f3",
           "#FF6692",
           "#B6E880",
           "#FF97FF",
           "#FECB52"
          ],
          "font": {
           "color": "#2a3f5f"
          },
          "geo": {
           "bgcolor": "white",
           "lakecolor": "white",
           "landcolor": "#E5ECF6",
           "showlakes": true,
           "showland": true,
           "subunitcolor": "white"
          },
          "hoverlabel": {
           "align": "left"
          },
          "hovermode": "closest",
          "mapbox": {
           "style": "light"
          },
          "paper_bgcolor": "white",
          "plot_bgcolor": "#E5ECF6",
          "polar": {
           "angularaxis": {
            "gridcolor": "white",
            "linecolor": "white",
            "ticks": ""
           },
           "bgcolor": "#E5ECF6",
           "radialaxis": {
            "gridcolor": "white",
            "linecolor": "white",
            "ticks": ""
           }
          },
          "scene": {
           "xaxis": {
            "backgroundcolor": "#E5ECF6",
            "gridcolor": "white",
            "gridwidth": 2,
            "linecolor": "white",
            "showbackground": true,
            "ticks": "",
            "zerolinecolor": "white"
           },
           "yaxis": {
            "backgroundcolor": "#E5ECF6",
            "gridcolor": "white",
            "gridwidth": 2,
            "linecolor": "white",
            "showbackground": true,
            "ticks": "",
            "zerolinecolor": "white"
           },
           "zaxis": {
            "backgroundcolor": "#E5ECF6",
            "gridcolor": "white",
            "gridwidth": 2,
            "linecolor": "white",
            "showbackground": true,
            "ticks": "",
            "zerolinecolor": "white"
           }
          },
          "shapedefaults": {
           "line": {
            "color": "#2a3f5f"
           }
          },
          "ternary": {
           "aaxis": {
            "gridcolor": "white",
            "linecolor": "white",
            "ticks": ""
           },
           "baxis": {
            "gridcolor": "white",
            "linecolor": "white",
            "ticks": ""
           },
           "bgcolor": "#E5ECF6",
           "caxis": {
            "gridcolor": "white",
            "linecolor": "white",
            "ticks": ""
           }
          },
          "title": {
           "x": 0.05
          },
          "xaxis": {
           "automargin": true,
           "gridcolor": "white",
           "linecolor": "white",
           "ticks": "",
           "title": {
            "standoff": 15
           },
           "zerolinecolor": "white",
           "zerolinewidth": 2
          },
          "yaxis": {
           "automargin": true,
           "gridcolor": "white",
           "linecolor": "white",
           "ticks": "",
           "title": {
            "standoff": 15
           },
           "zerolinecolor": "white",
           "zerolinewidth": 2
          }
         }
        },
        "title": {
         "text": "Urbanization Levels & Metropolitan Population in Africa (1950-2050)",
         "x": 0.5,
         "xanchor": "center",
         "y": 0.95,
         "yanchor": "top"
        },
        "updatemenus": [
         {
          "buttons": [
           {
            "args": [
             null,
             {
              "frame": {
               "duration": 500,
               "redraw": true
              },
              "fromcurrent": true,
              "mode": "immediate",
              "transition": {
               "duration": 500,
               "easing": "linear"
              }
             }
            ],
            "label": "&#9654;",
            "method": "animate"
           },
           {
            "args": [
             [
              null
             ],
             {
              "frame": {
               "duration": 0,
               "redraw": true
              },
              "fromcurrent": true,
              "mode": "immediate",
              "transition": {
               "duration": 0,
               "easing": "linear"
              }
             }
            ],
            "label": "&#9724;",
            "method": "animate"
           }
          ],
          "direction": "left",
          "pad": {
           "r": 10,
           "t": 70
          },
          "showactive": false,
          "type": "buttons",
          "x": 0.1,
          "xanchor": "right",
          "y": 0,
          "yanchor": "top"
         }
        ]
       }
      }
     },
     "metadata": {},
     "output_type": "display_data"
    }
   ],
   "source": [
    "import plotly.express as px\n",
    "data = data_melted\n",
    "\n",
    "fig = px.scatter_geo(\n",
    "    data_melted,\n",
    "    locations=\"ISO\",         # Country codes for mapping\n",
    "    color=\"AU_Regions\",      # Different colors for African Union regions\n",
    "    hover_name=\"Country\",    # Show country names on hover\n",
    "    size=\"Value\",            # Bubble size represents urbanization-related value\n",
    "    animation_frame=\"Year\",  # Animation over time\n",
    "    scope=\"africa\",          # Focus on Africa\n",
    "    projection=\"natural earth\",  # Use a natural earth projection\n",
    "    title=\"Urbanization Levels & Metropolitan Population in Africa (1950-2050)\",\n",
    "    facet_col=\"Variable\"     # Different urbanization variables shown separately\n",
    ")\n",
    "\n",
    "# Improve layout and readability\n",
    "fig.update_layout(\n",
    "    title={\n",
    "        'text': \"Urbanization Levels & Metropolitan Population in Africa (1950-2050)\",\n",
    "        'y': 0.95,\n",
    "        'x': 0.5,\n",
    "        'xanchor': 'center',\n",
    "        'yanchor': 'top'\n",
    "    },\n",
    "    autosize=True\n",
    ")\n",
    "\n",
    "\n",
    "fig.show()\n"
   ]
  },
  {
   "cell_type": "code",
   "execution_count": 31,
   "metadata": {},
   "outputs": [],
   "source": [
    "fig.write_html(\"Shuyu CAO-Urbanisation Level & Metropolitan Population Trend (scatter).html\")\n"
   ]
  },
  {
   "cell_type": "markdown",
   "metadata": {},
   "source": [
    "Observation:\n",
    "\n",
    "Algeria, Morocco, Mozambique and Nigeria display the contradictory negative interplay between the urbanisation level and metropolitan populations. "
   ]
  },
  {
   "cell_type": "markdown",
   "metadata": {},
   "source": [
    "### "
   ]
  }
 ],
 "metadata": {
  "kernelspec": {
   "display_name": "base",
   "language": "python",
   "name": "python3"
  },
  "language_info": {
   "codemirror_mode": {
    "name": "ipython",
    "version": 3
   },
   "file_extension": ".py",
   "mimetype": "text/x-python",
   "name": "python",
   "nbconvert_exporter": "python",
   "pygments_lexer": "ipython3",
   "version": "3.12.2"
  }
 },
 "nbformat": 4,
 "nbformat_minor": 2
}
