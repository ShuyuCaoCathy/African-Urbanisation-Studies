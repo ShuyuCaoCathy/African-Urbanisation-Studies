{
 "cells": [
  {
   "cell_type": "markdown",
   "metadata": {},
   "source": [
    "## Written Test"
   ]
  },
  {
   "cell_type": "code",
   "execution_count": 86,
   "metadata": {},
   "outputs": [],
   "source": [
    "import plotly.express as px\n",
    "import pandas as pd"
   ]
  },
  {
   "cell_type": "code",
   "execution_count": 99,
   "metadata": {},
   "outputs": [
    {
     "data": {
      "text/plain": [
       "['ISO',\n",
       " 'Country',\n",
       " 'Country_FR',\n",
       " 'AU_Regions',\n",
       " 'Area',\n",
       " 'Upop1950',\n",
       " 'Upop1960',\n",
       " 'Upop1970',\n",
       " 'Upop1980',\n",
       " 'Upop1990',\n",
       " 'Upop2000',\n",
       " 'Upop2010',\n",
       " 'Upop2015',\n",
       " 'Upop2020',\n",
       " 'Upop2025',\n",
       " 'Upop2030',\n",
       " 'Upop2035',\n",
       " 'Upop2040',\n",
       " 'Upop2045',\n",
       " 'Upop2050',\n",
       " 'Usurf2015',\n",
       " 'Usurf2020',\n",
       " 'Usurf2025',\n",
       " 'Usurf2030',\n",
       " 'Usurf2035',\n",
       " 'Usurf2040',\n",
       " 'Usurf2045',\n",
       " 'Usurf2050',\n",
       " 'TPOP1950',\n",
       " 'TPOP1960',\n",
       " 'TPOP1970',\n",
       " 'TPOP1980',\n",
       " 'TPOP1990',\n",
       " 'TPOP2000',\n",
       " 'TPOP2010',\n",
       " 'TPOP2015',\n",
       " 'TPOP2020',\n",
       " 'TPOP2025',\n",
       " 'TPOP2030',\n",
       " 'TPOP2035',\n",
       " 'TPOP2040',\n",
       " 'TPOP2045',\n",
       " 'TPOP2050',\n",
       " 'Urbanlevel1950',\n",
       " 'Urbanlevel1960',\n",
       " 'Urbanlevel1970',\n",
       " 'Urbanlevel1980',\n",
       " 'Urbanlevel1990',\n",
       " 'Urbanlevel2000',\n",
       " 'Urbanlevel2010',\n",
       " 'Urbanlevel2015',\n",
       " 'Urbanlevel2020',\n",
       " 'Urbanlevel2025',\n",
       " 'Urbanlevel2030',\n",
       " 'Urbanlevel2035',\n",
       " 'Urbanlevel2040',\n",
       " 'Urbanlevel2045',\n",
       " 'Urbanlevel2050',\n",
       " 'NumAgglos1950',\n",
       " 'NumAgglos1960',\n",
       " 'NumAgglos1970',\n",
       " 'NumAgglos1980',\n",
       " 'NumAgglos1990',\n",
       " 'NumAgglos2000',\n",
       " 'NumAgglos2010',\n",
       " 'NumAgglos2015',\n",
       " 'NumAgglos2020',\n",
       " 'NumAgglos2025',\n",
       " 'NumAgglos2030',\n",
       " 'NumAgglos2035',\n",
       " 'NumAgglos2040',\n",
       " 'NumAgglos2045',\n",
       " 'NumAgglos2050',\n",
       " 'Mpop1950',\n",
       " 'Mpop1960',\n",
       " 'Mpop1970',\n",
       " 'Mpop1980',\n",
       " 'Mpop1990',\n",
       " 'Mpop2000',\n",
       " 'Mpop2010',\n",
       " 'Mpop2015',\n",
       " 'Mpop2020',\n",
       " 'Mpop2025',\n",
       " 'Mpop2030',\n",
       " 'Mpop2035',\n",
       " 'Mpop2040',\n",
       " 'Mpop2045',\n",
       " 'Mpop2050',\n",
       " 'ADBA1950',\n",
       " 'ADBA1960',\n",
       " 'ADBA1970',\n",
       " 'ADBA1980',\n",
       " 'ADBA1990',\n",
       " 'ADBA2000',\n",
       " 'ADBA2010',\n",
       " 'ADBA2015',\n",
       " 'ADBA2020',\n",
       " 'ADBA2025',\n",
       " 'ADBA2030',\n",
       " 'ADBA2035',\n",
       " 'ADBA2040',\n",
       " 'ADBA2045',\n",
       " 'ADBA2050']"
      ]
     },
     "execution_count": 99,
     "metadata": {},
     "output_type": "execute_result"
    }
   ],
   "source": [
    "data = pd.read_excel('/Users/shuyucathy/Downloads/Africapolis_country_2024_written_test.xlsx')  \n",
    "\n",
    "data.columns = data.iloc[14]\n",
    "data = data.iloc[15:].reset_index(drop=True)  # Remove row 14 and reset index\n",
    "\n",
    "# Ensure column names are correctly formatted\n",
    "data.columns.name = None  # Remove any column name metadata\n",
    "\n",
    "list(data.columns)\n"
   ]
  },
  {
   "cell_type": "markdown",
   "metadata": {},
   "source": [
    "### Urban Level"
   ]
  },
  {
   "cell_type": "code",
   "execution_count": 88,
   "metadata": {},
   "outputs": [
    {
     "data": {
      "text/html": [
       "<div>\n",
       "<style scoped>\n",
       "    .dataframe tbody tr th:only-of-type {\n",
       "        vertical-align: middle;\n",
       "    }\n",
       "\n",
       "    .dataframe tbody tr th {\n",
       "        vertical-align: top;\n",
       "    }\n",
       "\n",
       "    .dataframe thead th {\n",
       "        text-align: right;\n",
       "    }\n",
       "</style>\n",
       "<table border=\"1\" class=\"dataframe\">\n",
       "  <thead>\n",
       "    <tr style=\"text-align: right;\">\n",
       "      <th></th>\n",
       "      <th>ISO</th>\n",
       "      <th>Country</th>\n",
       "      <th>AU_Regions</th>\n",
       "      <th>Year</th>\n",
       "      <th>UrbanLevel</th>\n",
       "    </tr>\n",
       "  </thead>\n",
       "  <tbody>\n",
       "    <tr>\n",
       "      <th>0</th>\n",
       "      <td>AGO</td>\n",
       "      <td>Angola</td>\n",
       "      <td>Southern Africa</td>\n",
       "      <td>1950</td>\n",
       "      <td>0.053145</td>\n",
       "    </tr>\n",
       "    <tr>\n",
       "      <th>1</th>\n",
       "      <td>BDI</td>\n",
       "      <td>Burundi</td>\n",
       "      <td>Central Africa</td>\n",
       "      <td>1950</td>\n",
       "      <td>0.009324</td>\n",
       "    </tr>\n",
       "    <tr>\n",
       "      <th>2</th>\n",
       "      <td>BEN</td>\n",
       "      <td>Benin</td>\n",
       "      <td>West Africa</td>\n",
       "      <td>1950</td>\n",
       "      <td>0.056652</td>\n",
       "    </tr>\n",
       "    <tr>\n",
       "      <th>3</th>\n",
       "      <td>BFA</td>\n",
       "      <td>Burkina Faso</td>\n",
       "      <td>West Africa</td>\n",
       "      <td>1950</td>\n",
       "      <td>0.028304</td>\n",
       "    </tr>\n",
       "    <tr>\n",
       "      <th>4</th>\n",
       "      <td>BWA</td>\n",
       "      <td>Botswana</td>\n",
       "      <td>Southern Africa</td>\n",
       "      <td>1950</td>\n",
       "      <td>0.000000</td>\n",
       "    </tr>\n",
       "    <tr>\n",
       "      <th>...</th>\n",
       "      <td>...</td>\n",
       "      <td>...</td>\n",
       "      <td>...</td>\n",
       "      <td>...</td>\n",
       "      <td>...</td>\n",
       "    </tr>\n",
       "    <tr>\n",
       "      <th>1015</th>\n",
       "      <td>TZA</td>\n",
       "      <td>Tanzania</td>\n",
       "      <td>East Africa</td>\n",
       "      <td>2050</td>\n",
       "      <td>0.469502</td>\n",
       "    </tr>\n",
       "    <tr>\n",
       "      <th>1016</th>\n",
       "      <td>UGA</td>\n",
       "      <td>Uganda</td>\n",
       "      <td>East Africa</td>\n",
       "      <td>2050</td>\n",
       "      <td>0.777941</td>\n",
       "    </tr>\n",
       "    <tr>\n",
       "      <th>1017</th>\n",
       "      <td>ZAF</td>\n",
       "      <td>South Africa</td>\n",
       "      <td>Southern Africa</td>\n",
       "      <td>2050</td>\n",
       "      <td>0.816302</td>\n",
       "    </tr>\n",
       "    <tr>\n",
       "      <th>1018</th>\n",
       "      <td>ZMB</td>\n",
       "      <td>Zambia</td>\n",
       "      <td>Southern Africa</td>\n",
       "      <td>2050</td>\n",
       "      <td>0.514581</td>\n",
       "    </tr>\n",
       "    <tr>\n",
       "      <th>1019</th>\n",
       "      <td>ZWE</td>\n",
       "      <td>Zimbabwe</td>\n",
       "      <td>Southern Africa</td>\n",
       "      <td>2050</td>\n",
       "      <td>0.425976</td>\n",
       "    </tr>\n",
       "  </tbody>\n",
       "</table>\n",
       "<p>810 rows × 5 columns</p>\n",
       "</div>"
      ],
      "text/plain": [
       "      ISO       Country       AU_Regions  Year  UrbanLevel\n",
       "0     AGO        Angola  Southern Africa  1950    0.053145\n",
       "1     BDI       Burundi   Central Africa  1950    0.009324\n",
       "2     BEN         Benin      West Africa  1950    0.056652\n",
       "3     BFA  Burkina Faso      West Africa  1950    0.028304\n",
       "4     BWA      Botswana  Southern Africa  1950    0.000000\n",
       "...   ...           ...              ...   ...         ...\n",
       "1015  TZA      Tanzania      East Africa  2050    0.469502\n",
       "1016  UGA        Uganda      East Africa  2050    0.777941\n",
       "1017  ZAF  South Africa  Southern Africa  2050    0.816302\n",
       "1018  ZMB        Zambia  Southern Africa  2050    0.514581\n",
       "1019  ZWE      Zimbabwe  Southern Africa  2050    0.425976\n",
       "\n",
       "[810 rows x 5 columns]"
      ]
     },
     "execution_count": 88,
     "metadata": {},
     "output_type": "execute_result"
    }
   ],
   "source": [
    "\n",
    "# Select only columns that contain \"Urbanlevel\" in their name\n",
    "urban_columns = [\"ISO\", \"Country\", \"AU_Regions\"] + [col for col in data.columns if \"Urbanlevel\" in col]\n",
    "\n",
    "# Filter DataFrame with relevant columns\n",
    "data_filtered = data[urban_columns]\n",
    "\n",
    "# Melt the DataFrame (convert wide format to long format)\n",
    "data_melted_urban = data_filtered.melt(id_vars=[\"ISO\", \"Country\", \"AU_Regions\"], \n",
    "                                 var_name=\"Year\", \n",
    "                                 value_name=\"UrbanLevel\")\n",
    "\n",
    "# Extract the numeric year from \"UrbanlevelYYYY\"\n",
    "data_melted_urban['Year'] = data_melted_urban['Year'].str.extract(r'(\\d+)').astype(int)\n",
    "data_melted_urban['UrbanLevel'] = pd.to_numeric(data_melted_urban['UrbanLevel'], errors='coerce')\n",
    "\n",
    "exclude_values = [\"Regional entities\", \"Region\"]\n",
    "data_melted_urban = data_melted_urban[~data_melted_urban[\"AU_Regions\"].isin(exclude_values)]\n",
    "\n",
    "# Keep only rows where ISO codes are exactly 3 letters (valid country codes)\n",
    "data_melted_urban = data_melted_urban[data_melted_urban[\"ISO\"].str.len() == 3]\n",
    "\n",
    "data_melted_urban"
   ]
  },
  {
   "cell_type": "code",
   "execution_count": 107,
   "metadata": {},
   "outputs": [
    {
     "data": {
      "text/html": [
       "<div>\n",
       "<style scoped>\n",
       "    .dataframe tbody tr th:only-of-type {\n",
       "        vertical-align: middle;\n",
       "    }\n",
       "\n",
       "    .dataframe tbody tr th {\n",
       "        vertical-align: top;\n",
       "    }\n",
       "\n",
       "    .dataframe thead th {\n",
       "        text-align: right;\n",
       "    }\n",
       "</style>\n",
       "<table border=\"1\" class=\"dataframe\">\n",
       "  <thead>\n",
       "    <tr style=\"text-align: right;\">\n",
       "      <th></th>\n",
       "      <th>ISO</th>\n",
       "      <th>Country</th>\n",
       "      <th>AU_Regions</th>\n",
       "      <th>Year</th>\n",
       "      <th>Mpop</th>\n",
       "    </tr>\n",
       "  </thead>\n",
       "  <tbody>\n",
       "    <tr>\n",
       "      <th>0</th>\n",
       "      <td>AGO</td>\n",
       "      <td>Angola</td>\n",
       "      <td>Southern Africa</td>\n",
       "      <td>1950</td>\n",
       "      <td>0.643214</td>\n",
       "    </tr>\n",
       "    <tr>\n",
       "      <th>1</th>\n",
       "      <td>BDI</td>\n",
       "      <td>Burundi</td>\n",
       "      <td>Central Africa</td>\n",
       "      <td>1950</td>\n",
       "      <td>1.000000</td>\n",
       "    </tr>\n",
       "    <tr>\n",
       "      <th>2</th>\n",
       "      <td>BEN</td>\n",
       "      <td>Benin</td>\n",
       "      <td>West Africa</td>\n",
       "      <td>1950</td>\n",
       "      <td>0.561363</td>\n",
       "    </tr>\n",
       "    <tr>\n",
       "      <th>3</th>\n",
       "      <td>BFA</td>\n",
       "      <td>Burkina Faso</td>\n",
       "      <td>West Africa</td>\n",
       "      <td>1950</td>\n",
       "      <td>0.878926</td>\n",
       "    </tr>\n",
       "    <tr>\n",
       "      <th>4</th>\n",
       "      <td>BWA</td>\n",
       "      <td>Botswana</td>\n",
       "      <td>Southern Africa</td>\n",
       "      <td>1950</td>\n",
       "      <td>0.000000</td>\n",
       "    </tr>\n",
       "    <tr>\n",
       "      <th>...</th>\n",
       "      <td>...</td>\n",
       "      <td>...</td>\n",
       "      <td>...</td>\n",
       "      <td>...</td>\n",
       "      <td>...</td>\n",
       "    </tr>\n",
       "    <tr>\n",
       "      <th>1015</th>\n",
       "      <td>TZA</td>\n",
       "      <td>Tanzania</td>\n",
       "      <td>East Africa</td>\n",
       "      <td>2050</td>\n",
       "      <td>0.294277</td>\n",
       "    </tr>\n",
       "    <tr>\n",
       "      <th>1016</th>\n",
       "      <td>UGA</td>\n",
       "      <td>Uganda</td>\n",
       "      <td>East Africa</td>\n",
       "      <td>2050</td>\n",
       "      <td>0.307731</td>\n",
       "    </tr>\n",
       "    <tr>\n",
       "      <th>1017</th>\n",
       "      <td>ZAF</td>\n",
       "      <td>South Africa</td>\n",
       "      <td>Southern Africa</td>\n",
       "      <td>2050</td>\n",
       "      <td>0.517995</td>\n",
       "    </tr>\n",
       "    <tr>\n",
       "      <th>1018</th>\n",
       "      <td>ZMB</td>\n",
       "      <td>Zambia</td>\n",
       "      <td>Southern Africa</td>\n",
       "      <td>2050</td>\n",
       "      <td>0.313147</td>\n",
       "    </tr>\n",
       "    <tr>\n",
       "      <th>1019</th>\n",
       "      <td>ZWE</td>\n",
       "      <td>Zimbabwe</td>\n",
       "      <td>Southern Africa</td>\n",
       "      <td>2050</td>\n",
       "      <td>0.577462</td>\n",
       "    </tr>\n",
       "  </tbody>\n",
       "</table>\n",
       "<p>810 rows × 5 columns</p>\n",
       "</div>"
      ],
      "text/plain": [
       "      ISO       Country       AU_Regions  Year      Mpop\n",
       "0     AGO        Angola  Southern Africa  1950  0.643214\n",
       "1     BDI       Burundi   Central Africa  1950  1.000000\n",
       "2     BEN         Benin      West Africa  1950  0.561363\n",
       "3     BFA  Burkina Faso      West Africa  1950  0.878926\n",
       "4     BWA      Botswana  Southern Africa  1950  0.000000\n",
       "...   ...           ...              ...   ...       ...\n",
       "1015  TZA      Tanzania      East Africa  2050  0.294277\n",
       "1016  UGA        Uganda      East Africa  2050  0.307731\n",
       "1017  ZAF  South Africa  Southern Africa  2050  0.517995\n",
       "1018  ZMB        Zambia  Southern Africa  2050  0.313147\n",
       "1019  ZWE      Zimbabwe  Southern Africa  2050  0.577462\n",
       "\n",
       "[810 rows x 5 columns]"
      ]
     },
     "execution_count": 107,
     "metadata": {},
     "output_type": "execute_result"
    }
   ],
   "source": [
    "## Calculate the Proportion of Urban Population\n",
    "\n",
    "Mpop_columns = [\"ISO\", \"Country\", \"AU_Regions\"] + [col for col in data.columns if \"Mpop\" in col]\n",
    "\n",
    "data_filtered_population = data[Mpop_columns]\n",
    "\n",
    "# Melt the DataFrame (convert wide format to long format)\n",
    "data_melted_Mpopulation = data_filtered_population.melt(id_vars=[\"ISO\", \"Country\", \"AU_Regions\"], \n",
    "                                 var_name=\"Year\", \n",
    "                                 value_name=\"Mpop\")\n",
    "\n",
    "# Extract the numeric year from \"UrbanlevelYYYY\"\n",
    "data_melted_Mpopulation['Year'] = data_melted_Mpopulation['Year'].str.extract(r'(\\d+)').astype(int)\n",
    "data_melted_Mpopulation['Mpop'] = pd.to_numeric(data_melted_Mpopulation['Mpop'], errors='coerce')\n",
    "\n",
    "exclude_values = [\"Regional entities\", \"Region\"]\n",
    "data_melted_Mpopulation = data_melted_Mpopulation[~data_melted_Mpopulation[\"AU_Regions\"].isin(exclude_values)]\n",
    "\n",
    "# Keep only rows where ISO codes are exactly 3 letters (valid country codes)\n",
    "data_melted_Mpopulation = data_melted_Mpopulation[data_melted_Mpopulation[\"ISO\"].str.len() == 3]\n",
    "\n",
    "data_melted_Mpopulation"
   ]
  },
  {
   "cell_type": "code",
   "execution_count": 109,
   "metadata": {},
   "outputs": [
    {
     "data": {
      "text/html": [
       "<div>\n",
       "<style scoped>\n",
       "    .dataframe tbody tr th:only-of-type {\n",
       "        vertical-align: middle;\n",
       "    }\n",
       "\n",
       "    .dataframe tbody tr th {\n",
       "        vertical-align: top;\n",
       "    }\n",
       "\n",
       "    .dataframe thead th {\n",
       "        text-align: right;\n",
       "    }\n",
       "</style>\n",
       "<table border=\"1\" class=\"dataframe\">\n",
       "  <thead>\n",
       "    <tr style=\"text-align: right;\">\n",
       "      <th></th>\n",
       "      <th>ISO</th>\n",
       "      <th>Country</th>\n",
       "      <th>AU_Regions</th>\n",
       "      <th>Year</th>\n",
       "      <th>UrbanLevel</th>\n",
       "      <th>Mpop</th>\n",
       "    </tr>\n",
       "  </thead>\n",
       "  <tbody>\n",
       "    <tr>\n",
       "      <th>0</th>\n",
       "      <td>AGO</td>\n",
       "      <td>Angola</td>\n",
       "      <td>Southern Africa</td>\n",
       "      <td>1950</td>\n",
       "      <td>0.053145</td>\n",
       "      <td>0.643214</td>\n",
       "    </tr>\n",
       "    <tr>\n",
       "      <th>1</th>\n",
       "      <td>BDI</td>\n",
       "      <td>Burundi</td>\n",
       "      <td>Central Africa</td>\n",
       "      <td>1950</td>\n",
       "      <td>0.009324</td>\n",
       "      <td>1.000000</td>\n",
       "    </tr>\n",
       "    <tr>\n",
       "      <th>2</th>\n",
       "      <td>BEN</td>\n",
       "      <td>Benin</td>\n",
       "      <td>West Africa</td>\n",
       "      <td>1950</td>\n",
       "      <td>0.056652</td>\n",
       "      <td>0.561363</td>\n",
       "    </tr>\n",
       "    <tr>\n",
       "      <th>3</th>\n",
       "      <td>BFA</td>\n",
       "      <td>Burkina Faso</td>\n",
       "      <td>West Africa</td>\n",
       "      <td>1950</td>\n",
       "      <td>0.028304</td>\n",
       "      <td>0.878926</td>\n",
       "    </tr>\n",
       "    <tr>\n",
       "      <th>4</th>\n",
       "      <td>BWA</td>\n",
       "      <td>Botswana</td>\n",
       "      <td>Southern Africa</td>\n",
       "      <td>1950</td>\n",
       "      <td>0.000000</td>\n",
       "      <td>0.000000</td>\n",
       "    </tr>\n",
       "    <tr>\n",
       "      <th>...</th>\n",
       "      <td>...</td>\n",
       "      <td>...</td>\n",
       "      <td>...</td>\n",
       "      <td>...</td>\n",
       "      <td>...</td>\n",
       "      <td>...</td>\n",
       "    </tr>\n",
       "    <tr>\n",
       "      <th>805</th>\n",
       "      <td>TZA</td>\n",
       "      <td>Tanzania</td>\n",
       "      <td>East Africa</td>\n",
       "      <td>2050</td>\n",
       "      <td>0.469502</td>\n",
       "      <td>0.294277</td>\n",
       "    </tr>\n",
       "    <tr>\n",
       "      <th>806</th>\n",
       "      <td>UGA</td>\n",
       "      <td>Uganda</td>\n",
       "      <td>East Africa</td>\n",
       "      <td>2050</td>\n",
       "      <td>0.777941</td>\n",
       "      <td>0.307731</td>\n",
       "    </tr>\n",
       "    <tr>\n",
       "      <th>807</th>\n",
       "      <td>ZAF</td>\n",
       "      <td>South Africa</td>\n",
       "      <td>Southern Africa</td>\n",
       "      <td>2050</td>\n",
       "      <td>0.816302</td>\n",
       "      <td>0.517995</td>\n",
       "    </tr>\n",
       "    <tr>\n",
       "      <th>808</th>\n",
       "      <td>ZMB</td>\n",
       "      <td>Zambia</td>\n",
       "      <td>Southern Africa</td>\n",
       "      <td>2050</td>\n",
       "      <td>0.514581</td>\n",
       "      <td>0.313147</td>\n",
       "    </tr>\n",
       "    <tr>\n",
       "      <th>809</th>\n",
       "      <td>ZWE</td>\n",
       "      <td>Zimbabwe</td>\n",
       "      <td>Southern Africa</td>\n",
       "      <td>2050</td>\n",
       "      <td>0.425976</td>\n",
       "      <td>0.577462</td>\n",
       "    </tr>\n",
       "  </tbody>\n",
       "</table>\n",
       "<p>810 rows × 6 columns</p>\n",
       "</div>"
      ],
      "text/plain": [
       "     ISO       Country       AU_Regions  Year  UrbanLevel      Mpop\n",
       "0    AGO        Angola  Southern Africa  1950    0.053145  0.643214\n",
       "1    BDI       Burundi   Central Africa  1950    0.009324  1.000000\n",
       "2    BEN         Benin      West Africa  1950    0.056652  0.561363\n",
       "3    BFA  Burkina Faso      West Africa  1950    0.028304  0.878926\n",
       "4    BWA      Botswana  Southern Africa  1950    0.000000  0.000000\n",
       "..   ...           ...              ...   ...         ...       ...\n",
       "805  TZA      Tanzania      East Africa  2050    0.469502  0.294277\n",
       "806  UGA        Uganda      East Africa  2050    0.777941  0.307731\n",
       "807  ZAF  South Africa  Southern Africa  2050    0.816302  0.517995\n",
       "808  ZMB        Zambia  Southern Africa  2050    0.514581  0.313147\n",
       "809  ZWE      Zimbabwe  Southern Africa  2050    0.425976  0.577462\n",
       "\n",
       "[810 rows x 6 columns]"
      ]
     },
     "execution_count": 109,
     "metadata": {},
     "output_type": "execute_result"
    }
   ],
   "source": [
    "# merge the UpopPercentage & UrbanLevel\n",
    "\n",
    "merged = pd.merge(data_melted_urban, data_melted_Mpopulation, on=[\"ISO\", \"Country\", \"AU_Regions\", \"Year\"], how=\"inner\")\n",
    "merged['UrbanLevel'] = pd.to_numeric(merged['UrbanLevel'], errors='coerce')\n",
    "merged['Mpop'] = pd.to_numeric(merged['Mpop'], errors='coerce')\n",
    "merged"
   ]
  },
  {
   "cell_type": "code",
   "execution_count": 111,
   "metadata": {},
   "outputs": [
    {
     "data": {
      "text/html": [
       "<div>\n",
       "<style scoped>\n",
       "    .dataframe tbody tr th:only-of-type {\n",
       "        vertical-align: middle;\n",
       "    }\n",
       "\n",
       "    .dataframe tbody tr th {\n",
       "        vertical-align: top;\n",
       "    }\n",
       "\n",
       "    .dataframe thead th {\n",
       "        text-align: right;\n",
       "    }\n",
       "</style>\n",
       "<table border=\"1\" class=\"dataframe\">\n",
       "  <thead>\n",
       "    <tr style=\"text-align: right;\">\n",
       "      <th></th>\n",
       "      <th>ISO</th>\n",
       "      <th>Country</th>\n",
       "      <th>AU_Regions</th>\n",
       "      <th>Year</th>\n",
       "      <th>Variable</th>\n",
       "      <th>Value</th>\n",
       "    </tr>\n",
       "  </thead>\n",
       "  <tbody>\n",
       "    <tr>\n",
       "      <th>0</th>\n",
       "      <td>AGO</td>\n",
       "      <td>Angola</td>\n",
       "      <td>Southern Africa</td>\n",
       "      <td>1950</td>\n",
       "      <td>UrbanLevel</td>\n",
       "      <td>0.053145</td>\n",
       "    </tr>\n",
       "    <tr>\n",
       "      <th>1</th>\n",
       "      <td>BDI</td>\n",
       "      <td>Burundi</td>\n",
       "      <td>Central Africa</td>\n",
       "      <td>1950</td>\n",
       "      <td>UrbanLevel</td>\n",
       "      <td>0.009324</td>\n",
       "    </tr>\n",
       "    <tr>\n",
       "      <th>2</th>\n",
       "      <td>BEN</td>\n",
       "      <td>Benin</td>\n",
       "      <td>West Africa</td>\n",
       "      <td>1950</td>\n",
       "      <td>UrbanLevel</td>\n",
       "      <td>0.056652</td>\n",
       "    </tr>\n",
       "    <tr>\n",
       "      <th>3</th>\n",
       "      <td>BFA</td>\n",
       "      <td>Burkina Faso</td>\n",
       "      <td>West Africa</td>\n",
       "      <td>1950</td>\n",
       "      <td>UrbanLevel</td>\n",
       "      <td>0.028304</td>\n",
       "    </tr>\n",
       "    <tr>\n",
       "      <th>4</th>\n",
       "      <td>BWA</td>\n",
       "      <td>Botswana</td>\n",
       "      <td>Southern Africa</td>\n",
       "      <td>1950</td>\n",
       "      <td>UrbanLevel</td>\n",
       "      <td>0.000000</td>\n",
       "    </tr>\n",
       "    <tr>\n",
       "      <th>...</th>\n",
       "      <td>...</td>\n",
       "      <td>...</td>\n",
       "      <td>...</td>\n",
       "      <td>...</td>\n",
       "      <td>...</td>\n",
       "      <td>...</td>\n",
       "    </tr>\n",
       "    <tr>\n",
       "      <th>1615</th>\n",
       "      <td>TZA</td>\n",
       "      <td>Tanzania</td>\n",
       "      <td>East Africa</td>\n",
       "      <td>2050</td>\n",
       "      <td>Mpop</td>\n",
       "      <td>0.294277</td>\n",
       "    </tr>\n",
       "    <tr>\n",
       "      <th>1616</th>\n",
       "      <td>UGA</td>\n",
       "      <td>Uganda</td>\n",
       "      <td>East Africa</td>\n",
       "      <td>2050</td>\n",
       "      <td>Mpop</td>\n",
       "      <td>0.307731</td>\n",
       "    </tr>\n",
       "    <tr>\n",
       "      <th>1617</th>\n",
       "      <td>ZAF</td>\n",
       "      <td>South Africa</td>\n",
       "      <td>Southern Africa</td>\n",
       "      <td>2050</td>\n",
       "      <td>Mpop</td>\n",
       "      <td>0.517995</td>\n",
       "    </tr>\n",
       "    <tr>\n",
       "      <th>1618</th>\n",
       "      <td>ZMB</td>\n",
       "      <td>Zambia</td>\n",
       "      <td>Southern Africa</td>\n",
       "      <td>2050</td>\n",
       "      <td>Mpop</td>\n",
       "      <td>0.313147</td>\n",
       "    </tr>\n",
       "    <tr>\n",
       "      <th>1619</th>\n",
       "      <td>ZWE</td>\n",
       "      <td>Zimbabwe</td>\n",
       "      <td>Southern Africa</td>\n",
       "      <td>2050</td>\n",
       "      <td>Mpop</td>\n",
       "      <td>0.577462</td>\n",
       "    </tr>\n",
       "  </tbody>\n",
       "</table>\n",
       "<p>1620 rows × 6 columns</p>\n",
       "</div>"
      ],
      "text/plain": [
       "      ISO       Country       AU_Regions  Year    Variable     Value\n",
       "0     AGO        Angola  Southern Africa  1950  UrbanLevel  0.053145\n",
       "1     BDI       Burundi   Central Africa  1950  UrbanLevel  0.009324\n",
       "2     BEN         Benin      West Africa  1950  UrbanLevel  0.056652\n",
       "3     BFA  Burkina Faso      West Africa  1950  UrbanLevel  0.028304\n",
       "4     BWA      Botswana  Southern Africa  1950  UrbanLevel  0.000000\n",
       "...   ...           ...              ...   ...         ...       ...\n",
       "1615  TZA      Tanzania      East Africa  2050        Mpop  0.294277\n",
       "1616  UGA        Uganda      East Africa  2050        Mpop  0.307731\n",
       "1617  ZAF  South Africa  Southern Africa  2050        Mpop  0.517995\n",
       "1618  ZMB        Zambia  Southern Africa  2050        Mpop  0.313147\n",
       "1619  ZWE      Zimbabwe  Southern Africa  2050        Mpop  0.577462\n",
       "\n",
       "[1620 rows x 6 columns]"
      ]
     },
     "execution_count": 111,
     "metadata": {},
     "output_type": "execute_result"
    }
   ],
   "source": [
    "# Convert to long format (Melt)\n",
    "data_melted = merged.melt(\n",
    "    id_vars=[\"ISO\", \"Country\", \"AU_Regions\", \"Year\"],  # 保持不变的列\n",
    "    value_vars=[\"UrbanLevel\", \"Mpop\"],  # 只转换这两个变量\n",
    "    var_name=\"Variable\", \n",
    "    value_name=\"Value\"\n",
    ")\n",
    "\n",
    "# 检查结果\n",
    "data_melted"
   ]
  },
  {
   "cell_type": "code",
   "execution_count": 115,
   "metadata": {},
   "outputs": [
    {
     "data": {
      "application/vnd.plotly.v1+json": {
       "config": {
        "plotlyServerURL": "https://plot.ly"
       },
       "data": [
        {
         "colorbar": {
          "title": {
           "text": "Urban Level"
          },
          "x": -0.05
         },
         "colorscale": [
          [
           0,
           "rgb(247,251,255)"
          ],
          [
           0.125,
           "rgb(222,235,247)"
          ],
          [
           0.25,
           "rgb(198,219,239)"
          ],
          [
           0.375,
           "rgb(158,202,225)"
          ],
          [
           0.5,
           "rgb(107,174,214)"
          ],
          [
           0.625,
           "rgb(66,146,198)"
          ],
          [
           0.75,
           "rgb(33,113,181)"
          ],
          [
           0.875,
           "rgb(8,81,156)"
          ],
          [
           1,
           "rgb(8,48,107)"
          ]
         ],
         "geo": "geo",
         "locationmode": "ISO-3",
         "locations": [
          "AGO",
          "BDI",
          "BEN",
          "BFA",
          "BWA",
          "CAF",
          "CIV",
          "CMR",
          "COD",
          "COG",
          "COM",
          "CPV",
          "DJI",
          "DZA",
          "EGY",
          "ERI",
          "ETH",
          "GAB",
          "GHA",
          "GIN",
          "GMB",
          "GNB",
          "GNQ",
          "KEN",
          "LBR",
          "LBY",
          "LSO",
          "MAR",
          "MDG",
          "MLI",
          "MOZ",
          "MRT",
          "MUS",
          "MWI",
          "NAM",
          "NER",
          "NGA",
          "RWA",
          "SDN",
          "SEN",
          "SLE",
          "SOM",
          "SSD",
          "STP",
          "SWZ",
          "SYC",
          "TCD",
          "TGO",
          "TUN",
          "TZA",
          "UGA",
          "ZAF",
          "ZMB",
          "ZWE"
         ],
         "text": [
          "Angola",
          "Burundi",
          "Benin",
          "Burkina Faso",
          "Botswana",
          "Central African Republic",
          "Cote d`Ivoire",
          "Cameroon",
          "Democratic Republic of the Congo",
          "Republic of the Congo",
          "Comoros",
          "Cabo Verde",
          "Djibouti",
          "Algeria",
          "Egypt",
          "Eritrea",
          "Ethiopia",
          "Gabon",
          "Ghana",
          "Guinea",
          "The Gambia",
          "Guinea-Bissau",
          "Equatorial Guinea",
          "Kenya",
          "Liberia",
          "Libya",
          "Lesotho",
          "Morocco",
          "Madagascar",
          "Mali",
          "Mozambique",
          "Mauritania",
          "Mauritius",
          "Malawi",
          "Namibia",
          "Niger",
          "Nigeria",
          "Rwanda",
          "Sudan",
          "Senegal",
          "Sierra Leone",
          "Somalia",
          "South Sudan",
          "Sao Tome and Principe",
          "Kingdom of Eswatini",
          "Seychelles",
          "Chad",
          "Togo",
          "Tunisia",
          "Tanzania",
          "Uganda",
          "South Africa",
          "Zambia",
          "Zimbabwe"
         ],
         "type": "choropleth",
         "z": [
          0.0531449610230079,
          0.00932449783786177,
          0.056651957049104,
          0.0283043189368771,
          0,
          0.0348665183537264,
          0.0440794132158554,
          0.081,
          0.045437736495031,
          0.150743412336229,
          0,
          0.0672338382760828,
          0.638,
          0.166299431076292,
          0.265346607298072,
          0.115291430505033,
          0.0267635209613706,
          0.025440313111546,
          0.0687195790404752,
          0.0395075993245045,
          0.0944792176926287,
          0.0906988624083934,
          0.248158942530818,
          0.0458053876859766,
          0.0279268292682927,
          0.420050331458866,
          0,
          0.250322553095094,
          0.0773104332148666,
          0.0418744117647059,
          0.0236743521549646,
          0,
          0.158790212360662,
          0.010879655448693,
          0.0497421189330248,
          0.0107695863184654,
          0.106824119496855,
          0.00623207226598084,
          0.0821604511439942,
          0.196397358710429,
          0.047387991497851,
          0.0848319296267256,
          0.0081400707191255,
          0,
          0,
          0.284404178095476,
          0.0252029619056116,
          0.0406430787289343,
          0.217669664725468,
          0.0248502978440885,
          0.00820646792389537,
          0.235260064696855,
          0.132997038958443,
          0.181259616425997
         ]
        },
        {
         "colorbar": {
          "title": {
           "text": "Metropolitan Pop."
          },
          "x": 1.05
         },
         "colorscale": [
          [
           0,
           "rgb(255,245,235)"
          ],
          [
           0.125,
           "rgb(254,230,206)"
          ],
          [
           0.25,
           "rgb(253,208,162)"
          ],
          [
           0.375,
           "rgb(253,174,107)"
          ],
          [
           0.5,
           "rgb(253,141,60)"
          ],
          [
           0.625,
           "rgb(241,105,19)"
          ],
          [
           0.75,
           "rgb(217,72,1)"
          ],
          [
           0.875,
           "rgb(166,54,3)"
          ],
          [
           1,
           "rgb(127,39,4)"
          ]
         ],
         "geo": "geo2",
         "locationmode": "ISO-3",
         "locations": [
          "AGO",
          "BDI",
          "BEN",
          "BFA",
          "BWA",
          "CAF",
          "CIV",
          "CMR",
          "COD",
          "COG",
          "COM",
          "CPV",
          "DJI",
          "DZA",
          "EGY",
          "ERI",
          "ETH",
          "GAB",
          "GHA",
          "GIN",
          "GMB",
          "GNB",
          "GNQ",
          "KEN",
          "LBR",
          "LBY",
          "LSO",
          "MAR",
          "MDG",
          "MLI",
          "MOZ",
          "MRT",
          "MUS",
          "MWI",
          "NAM",
          "NER",
          "NGA",
          "RWA",
          "SDN",
          "SEN",
          "SLE",
          "SOM",
          "SSD",
          "STP",
          "SWZ",
          "SYC",
          "TCD",
          "TGO",
          "TUN",
          "TZA",
          "UGA",
          "ZAF",
          "ZMB",
          "ZWE"
         ],
         "text": [
          "Angola",
          "Burundi",
          "Benin",
          "Burkina Faso",
          "Botswana",
          "Central African Republic",
          "Cote d`Ivoire",
          "Cameroon",
          "Democratic Republic of the Congo",
          "Republic of the Congo",
          "Comoros",
          "Cabo Verde",
          "Djibouti",
          "Algeria",
          "Egypt",
          "Eritrea",
          "Ethiopia",
          "Gabon",
          "Ghana",
          "Guinea",
          "The Gambia",
          "Guinea-Bissau",
          "Equatorial Guinea",
          "Kenya",
          "Liberia",
          "Libya",
          "Lesotho",
          "Morocco",
          "Madagascar",
          "Mali",
          "Mozambique",
          "Mauritania",
          "Mauritius",
          "Malawi",
          "Namibia",
          "Niger",
          "Nigeria",
          "Rwanda",
          "Sudan",
          "Senegal",
          "Sierra Leone",
          "Somalia",
          "South Sudan",
          "Sao Tome and Principe",
          "Kingdom of Eswatini",
          "Seychelles",
          "Chad",
          "Togo",
          "Tunisia",
          "Tanzania",
          "Uganda",
          "South Africa",
          "Zambia",
          "Zimbabwe"
         ],
         "type": "choropleth",
         "z": [
          0.643213799364211,
          0.999999999994724,
          0.561362539154407,
          0.878926240667544,
          0,
          0.999999999997341,
          0.59769953447364,
          0.502836169502668,
          0.450094316841515,
          0.999999999999023,
          0,
          0.999999999990083,
          0.999999999996865,
          0.289511751874591,
          0.472238741148438,
          0.728827612520194,
          0.721940250179138,
          0.999999999990385,
          0.660389342809951,
          0.409448818897177,
          0,
          0.999999999997834,
          0.999999999997972,
          0.879648104479987,
          0.999999999995633,
          0.416063411540795,
          0,
          0.399713645446703,
          0.523437499999843,
          0.581809753253368,
          0.686453464835913,
          0,
          0.999999999998721,
          0.999999999995915,
          0.999999999995051,
          0,
          0.085043981363592,
          0.999999999991502,
          0.428987155221991,
          0.566131025957833,
          0.808979600832267,
          0.505766971512066,
          0.999999999994444,
          0,
          0,
          0.999999999990258,
          0.415929203539087,
          0.999999999997656,
          0.552185972119621,
          0.401430270485281,
          0.748974569317359,
          0.655467283909396,
          0.128389415223741,
          0.748650056664103
         ]
        }
       ],
       "frames": [
        {
         "data": [
          {
           "colorbar": {
            "title": {
             "text": "Urban Level"
            },
            "x": -0.05
           },
           "colorscale": [
            [
             0,
             "rgb(247,251,255)"
            ],
            [
             0.125,
             "rgb(222,235,247)"
            ],
            [
             0.25,
             "rgb(198,219,239)"
            ],
            [
             0.375,
             "rgb(158,202,225)"
            ],
            [
             0.5,
             "rgb(107,174,214)"
            ],
            [
             0.625,
             "rgb(66,146,198)"
            ],
            [
             0.75,
             "rgb(33,113,181)"
            ],
            [
             0.875,
             "rgb(8,81,156)"
            ],
            [
             1,
             "rgb(8,48,107)"
            ]
           ],
           "locationmode": "ISO-3",
           "locations": [
            "AGO",
            "BDI",
            "BEN",
            "BFA",
            "BWA",
            "CAF",
            "CIV",
            "CMR",
            "COD",
            "COG",
            "COM",
            "CPV",
            "DJI",
            "DZA",
            "EGY",
            "ERI",
            "ETH",
            "GAB",
            "GHA",
            "GIN",
            "GMB",
            "GNB",
            "GNQ",
            "KEN",
            "LBR",
            "LBY",
            "LSO",
            "MAR",
            "MDG",
            "MLI",
            "MOZ",
            "MRT",
            "MUS",
            "MWI",
            "NAM",
            "NER",
            "NGA",
            "RWA",
            "SDN",
            "SEN",
            "SLE",
            "SOM",
            "SSD",
            "STP",
            "SWZ",
            "SYC",
            "TCD",
            "TGO",
            "TUN",
            "TZA",
            "UGA",
            "ZAF",
            "ZMB",
            "ZWE"
           ],
           "text": [
            "Angola",
            "Burundi",
            "Benin",
            "Burkina Faso",
            "Botswana",
            "Central African Republic",
            "Cote d`Ivoire",
            "Cameroon",
            "Democratic Republic of the Congo",
            "Republic of the Congo",
            "Comoros",
            "Cabo Verde",
            "Djibouti",
            "Algeria",
            "Egypt",
            "Eritrea",
            "Ethiopia",
            "Gabon",
            "Ghana",
            "Guinea",
            "The Gambia",
            "Guinea-Bissau",
            "Equatorial Guinea",
            "Kenya",
            "Liberia",
            "Libya",
            "Lesotho",
            "Morocco",
            "Madagascar",
            "Mali",
            "Mozambique",
            "Mauritania",
            "Mauritius",
            "Malawi",
            "Namibia",
            "Niger",
            "Nigeria",
            "Rwanda",
            "Sudan",
            "Senegal",
            "Sierra Leone",
            "Somalia",
            "South Sudan",
            "Sao Tome and Principe",
            "Kingdom of Eswatini",
            "Seychelles",
            "Chad",
            "Togo",
            "Tunisia",
            "Tanzania",
            "Uganda",
            "South Africa",
            "Zambia",
            "Zimbabwe"
           ],
           "type": "choropleth",
           "z": [
            0.0531449610230079,
            0.00932449783786177,
            0.056651957049104,
            0.0283043189368771,
            0,
            0.0348665183537264,
            0.0440794132158554,
            0.081,
            0.045437736495031,
            0.150743412336229,
            0,
            0.0672338382760828,
            0.638,
            0.166299431076292,
            0.265346607298072,
            0.115291430505033,
            0.0267635209613706,
            0.025440313111546,
            0.0687195790404752,
            0.0395075993245045,
            0.0944792176926287,
            0.0906988624083934,
            0.248158942530818,
            0.0458053876859766,
            0.0279268292682927,
            0.420050331458866,
            0,
            0.250322553095094,
            0.0773104332148666,
            0.0418744117647059,
            0.0236743521549646,
            0,
            0.158790212360662,
            0.010879655448693,
            0.0497421189330248,
            0.0107695863184654,
            0.106824119496855,
            0.00623207226598084,
            0.0821604511439942,
            0.196397358710429,
            0.047387991497851,
            0.0848319296267256,
            0.0081400707191255,
            0,
            0,
            0.284404178095476,
            0.0252029619056116,
            0.0406430787289343,
            0.217669664725468,
            0.0248502978440885,
            0.00820646792389537,
            0.235260064696855,
            0.132997038958443,
            0.181259616425997
           ]
          },
          {
           "colorbar": {
            "title": {
             "text": "Metropolitan Pop."
            },
            "x": 1.05
           },
           "colorscale": [
            [
             0,
             "rgb(255,245,235)"
            ],
            [
             0.125,
             "rgb(254,230,206)"
            ],
            [
             0.25,
             "rgb(253,208,162)"
            ],
            [
             0.375,
             "rgb(253,174,107)"
            ],
            [
             0.5,
             "rgb(253,141,60)"
            ],
            [
             0.625,
             "rgb(241,105,19)"
            ],
            [
             0.75,
             "rgb(217,72,1)"
            ],
            [
             0.875,
             "rgb(166,54,3)"
            ],
            [
             1,
             "rgb(127,39,4)"
            ]
           ],
           "locationmode": "ISO-3",
           "locations": [
            "AGO",
            "BDI",
            "BEN",
            "BFA",
            "BWA",
            "CAF",
            "CIV",
            "CMR",
            "COD",
            "COG",
            "COM",
            "CPV",
            "DJI",
            "DZA",
            "EGY",
            "ERI",
            "ETH",
            "GAB",
            "GHA",
            "GIN",
            "GMB",
            "GNB",
            "GNQ",
            "KEN",
            "LBR",
            "LBY",
            "LSO",
            "MAR",
            "MDG",
            "MLI",
            "MOZ",
            "MRT",
            "MUS",
            "MWI",
            "NAM",
            "NER",
            "NGA",
            "RWA",
            "SDN",
            "SEN",
            "SLE",
            "SOM",
            "SSD",
            "STP",
            "SWZ",
            "SYC",
            "TCD",
            "TGO",
            "TUN",
            "TZA",
            "UGA",
            "ZAF",
            "ZMB",
            "ZWE"
           ],
           "text": [
            "Angola",
            "Burundi",
            "Benin",
            "Burkina Faso",
            "Botswana",
            "Central African Republic",
            "Cote d`Ivoire",
            "Cameroon",
            "Democratic Republic of the Congo",
            "Republic of the Congo",
            "Comoros",
            "Cabo Verde",
            "Djibouti",
            "Algeria",
            "Egypt",
            "Eritrea",
            "Ethiopia",
            "Gabon",
            "Ghana",
            "Guinea",
            "The Gambia",
            "Guinea-Bissau",
            "Equatorial Guinea",
            "Kenya",
            "Liberia",
            "Libya",
            "Lesotho",
            "Morocco",
            "Madagascar",
            "Mali",
            "Mozambique",
            "Mauritania",
            "Mauritius",
            "Malawi",
            "Namibia",
            "Niger",
            "Nigeria",
            "Rwanda",
            "Sudan",
            "Senegal",
            "Sierra Leone",
            "Somalia",
            "South Sudan",
            "Sao Tome and Principe",
            "Kingdom of Eswatini",
            "Seychelles",
            "Chad",
            "Togo",
            "Tunisia",
            "Tanzania",
            "Uganda",
            "South Africa",
            "Zambia",
            "Zimbabwe"
           ],
           "type": "choropleth",
           "z": [
            0.643213799364211,
            0.999999999994724,
            0.561362539154407,
            0.878926240667544,
            0,
            0.999999999997341,
            0.59769953447364,
            0.502836169502668,
            0.450094316841515,
            0.999999999999023,
            0,
            0.999999999990083,
            0.999999999996865,
            0.289511751874591,
            0.472238741148438,
            0.728827612520194,
            0.721940250179138,
            0.999999999990385,
            0.660389342809951,
            0.409448818897177,
            0,
            0.999999999997834,
            0.999999999997972,
            0.879648104479987,
            0.999999999995633,
            0.416063411540795,
            0,
            0.399713645446703,
            0.523437499999843,
            0.581809753253368,
            0.686453464835913,
            0,
            0.999999999998721,
            0.999999999995915,
            0.999999999995051,
            0,
            0.085043981363592,
            0.999999999991502,
            0.428987155221991,
            0.566131025957833,
            0.808979600832267,
            0.505766971512066,
            0.999999999994444,
            0,
            0,
            0.999999999990258,
            0.415929203539087,
            0.999999999997656,
            0.552185972119621,
            0.401430270485281,
            0.748974569317359,
            0.655467283909396,
            0.128389415223741,
            0.748650056664103
           ]
          }
         ],
         "name": "1950"
        },
        {
         "data": [
          {
           "colorbar": {
            "title": {
             "text": "Urban Level"
            },
            "x": -0.05
           },
           "colorscale": [
            [
             0,
             "rgb(247,251,255)"
            ],
            [
             0.125,
             "rgb(222,235,247)"
            ],
            [
             0.25,
             "rgb(198,219,239)"
            ],
            [
             0.375,
             "rgb(158,202,225)"
            ],
            [
             0.5,
             "rgb(107,174,214)"
            ],
            [
             0.625,
             "rgb(66,146,198)"
            ],
            [
             0.75,
             "rgb(33,113,181)"
            ],
            [
             0.875,
             "rgb(8,81,156)"
            ],
            [
             1,
             "rgb(8,48,107)"
            ]
           ],
           "locationmode": "ISO-3",
           "locations": [
            "AGO",
            "BDI",
            "BEN",
            "BFA",
            "BWA",
            "CAF",
            "CIV",
            "CMR",
            "COD",
            "COG",
            "COM",
            "CPV",
            "DJI",
            "DZA",
            "EGY",
            "ERI",
            "ETH",
            "GAB",
            "GHA",
            "GIN",
            "GMB",
            "GNB",
            "GNQ",
            "KEN",
            "LBR",
            "LBY",
            "LSO",
            "MAR",
            "MDG",
            "MLI",
            "MOZ",
            "MRT",
            "MUS",
            "MWI",
            "NAM",
            "NER",
            "NGA",
            "RWA",
            "SDN",
            "SEN",
            "SLE",
            "SOM",
            "SSD",
            "STP",
            "SWZ",
            "SYC",
            "TCD",
            "TGO",
            "TUN",
            "TZA",
            "UGA",
            "ZAF",
            "ZMB",
            "ZWE"
           ],
           "text": [
            "Angola",
            "Burundi",
            "Benin",
            "Burkina Faso",
            "Botswana",
            "Central African Republic",
            "Cote d`Ivoire",
            "Cameroon",
            "Democratic Republic of the Congo",
            "Republic of the Congo",
            "Comoros",
            "Cabo Verde",
            "Djibouti",
            "Algeria",
            "Egypt",
            "Eritrea",
            "Ethiopia",
            "Gabon",
            "Ghana",
            "Guinea",
            "The Gambia",
            "Guinea-Bissau",
            "Equatorial Guinea",
            "Kenya",
            "Liberia",
            "Libya",
            "Lesotho",
            "Morocco",
            "Madagascar",
            "Mali",
            "Mozambique",
            "Mauritania",
            "Mauritius",
            "Malawi",
            "Namibia",
            "Niger",
            "Nigeria",
            "Rwanda",
            "Sudan",
            "Senegal",
            "Sierra Leone",
            "Somalia",
            "South Sudan",
            "Sao Tome and Principe",
            "Kingdom of Eswatini",
            "Seychelles",
            "Chad",
            "Togo",
            "Tunisia",
            "Tanzania",
            "Uganda",
            "South Africa",
            "Zambia",
            "Zimbabwe"
           ],
           "type": "choropleth",
           "z": [
            0.0770061610952826,
            0.0180846935985961,
            0.107165847116674,
            0.0342827574784862,
            0,
            0.118216662454722,
            0.120135125602341,
            0.107340716227642,
            0.121725373843186,
            0.199569344308305,
            0,
            0.157577212834289,
            0.477040816326531,
            0.290404715550207,
            0.310373272303165,
            0.12032146799117,
            0.0352762587158361,
            0.102318323673651,
            0.151297793899031,
            0.0762958235836347,
            0.0833189135892756,
            0.0948619910664837,
            0.237002467590014,
            0.0650313098213064,
            0.0679155707081707,
            0.436640671118244,
            0.0157361661102678,
            0.265227652148168,
            0.086375,
            0.048926693853486,
            0.0398907932655847,
            0,
            0.210236621216149,
            0.0330115329258737,
            0.0929425376012341,
            0.0293884954826107,
            0.191815447361713,
            0,
            0.105046351194831,
            0.218322901412116,
            0.0748740536299965,
            0.120461434977578,
            0.01569874780604,
            0,
            0,
            0.323283041641521,
            0.0470215261487512,
            0.103075934580228,
            0.233047964088123,
            0.0435622099001134,
            0.0286138117012268,
            0.289147985146472,
            0.19051002484798,
            0.263054082350306
           ]
          },
          {
           "colorbar": {
            "title": {
             "text": "Metropolitan Pop."
            },
            "x": 1.05
           },
           "colorscale": [
            [
             0,
             "rgb(255,245,235)"
            ],
            [
             0.125,
             "rgb(254,230,206)"
            ],
            [
             0.25,
             "rgb(253,208,162)"
            ],
            [
             0.375,
             "rgb(253,174,107)"
            ],
            [
             0.5,
             "rgb(253,141,60)"
            ],
            [
             0.625,
             "rgb(241,105,19)"
            ],
            [
             0.75,
             "rgb(217,72,1)"
            ],
            [
             0.875,
             "rgb(166,54,3)"
            ],
            [
             1,
             "rgb(127,39,4)"
            ]
           ],
           "locationmode": "ISO-3",
           "locations": [
            "AGO",
            "BDI",
            "BEN",
            "BFA",
            "BWA",
            "CAF",
            "CIV",
            "CMR",
            "COD",
            "COG",
            "COM",
            "CPV",
            "DJI",
            "DZA",
            "EGY",
            "ERI",
            "ETH",
            "GAB",
            "GHA",
            "GIN",
            "GMB",
            "GNB",
            "GNQ",
            "KEN",
            "LBR",
            "LBY",
            "LSO",
            "MAR",
            "MDG",
            "MLI",
            "MOZ",
            "MRT",
            "MUS",
            "MWI",
            "NAM",
            "NER",
            "NGA",
            "RWA",
            "SDN",
            "SEN",
            "SLE",
            "SOM",
            "SSD",
            "STP",
            "SWZ",
            "SYC",
            "TCD",
            "TGO",
            "TUN",
            "TZA",
            "UGA",
            "ZAF",
            "ZMB",
            "ZWE"
           ],
           "text": [
            "Angola",
            "Burundi",
            "Benin",
            "Burkina Faso",
            "Botswana",
            "Central African Republic",
            "Cote d`Ivoire",
            "Cameroon",
            "Democratic Republic of the Congo",
            "Republic of the Congo",
            "Comoros",
            "Cabo Verde",
            "Djibouti",
            "Algeria",
            "Egypt",
            "Eritrea",
            "Ethiopia",
            "Gabon",
            "Ghana",
            "Guinea",
            "The Gambia",
            "Guinea-Bissau",
            "Equatorial Guinea",
            "Kenya",
            "Liberia",
            "Libya",
            "Lesotho",
            "Morocco",
            "Madagascar",
            "Mali",
            "Mozambique",
            "Mauritania",
            "Mauritius",
            "Malawi",
            "Namibia",
            "Niger",
            "Nigeria",
            "Rwanda",
            "Sudan",
            "Senegal",
            "Sierra Leone",
            "Somalia",
            "South Sudan",
            "Sao Tome and Principe",
            "Kingdom of Eswatini",
            "Seychelles",
            "Chad",
            "Togo",
            "Tunisia",
            "Tanzania",
            "Uganda",
            "South Africa",
            "Zambia",
            "Zimbabwe"
           ],
           "type": "choropleth",
           "z": [
            0.58565840938707,
            0.999999999997968,
            0.593584449171738,
            0.788092877786691,
            0,
            0.598660348451492,
            0.591420641858644,
            0.423167848699673,
            0.367990565297819,
            0.933717579250182,
            0,
            0.999999999996825,
            0.999999999997326,
            0.247740074623729,
            0.485209914769334,
            0.708069121305881,
            0.696165620124365,
            0.596949891066238,
            0.509400147383885,
            0.550416002832116,
            0,
            0.999999999997994,
            0.999999999998285,
            0.871837277207986,
            0.999999999998458,
            0.489072356152109,
            0.999999999991223,
            0.409256430317046,
            0.426504031424349,
            0.644317913647429,
            0.698859315589088,
            0,
            0.808336284080553,
            0.869451749142492,
            0.74688796680343,
            0.396128097995921,
            0.110635196121685,
            0,
            0.394339101619984,
            0.571868744961902,
            0.710266865279293,
            0.521105316253822,
            0.382351618704176,
            0,
            0,
            0.999999999992533,
            0.481585550158847,
            0.825717900145628,
            0.509174634383763,
            0.375529552503026,
            0.697202359716928,
            0.643388525078203,
            0.185289709676068,
            0.750272745608481
           ]
          }
         ],
         "name": "1960"
        },
        {
         "data": [
          {
           "colorbar": {
            "title": {
             "text": "Urban Level"
            },
            "x": -0.05
           },
           "colorscale": [
            [
             0,
             "rgb(247,251,255)"
            ],
            [
             0.125,
             "rgb(222,235,247)"
            ],
            [
             0.25,
             "rgb(198,219,239)"
            ],
            [
             0.375,
             "rgb(158,202,225)"
            ],
            [
             0.5,
             "rgb(107,174,214)"
            ],
            [
             0.625,
             "rgb(66,146,198)"
            ],
            [
             0.75,
             "rgb(33,113,181)"
            ],
            [
             0.875,
             "rgb(8,81,156)"
            ],
            [
             1,
             "rgb(8,48,107)"
            ]
           ],
           "locationmode": "ISO-3",
           "locations": [
            "AGO",
            "BDI",
            "BEN",
            "BFA",
            "BWA",
            "CAF",
            "CIV",
            "CMR",
            "COD",
            "COG",
            "COM",
            "CPV",
            "DJI",
            "DZA",
            "EGY",
            "ERI",
            "ETH",
            "GAB",
            "GHA",
            "GIN",
            "GMB",
            "GNB",
            "GNQ",
            "KEN",
            "LBR",
            "LBY",
            "LSO",
            "MAR",
            "MDG",
            "MLI",
            "MOZ",
            "MRT",
            "MUS",
            "MWI",
            "NAM",
            "NER",
            "NGA",
            "RWA",
            "SDN",
            "SEN",
            "SLE",
            "SOM",
            "SSD",
            "STP",
            "SWZ",
            "SYC",
            "TCD",
            "TGO",
            "TUN",
            "TZA",
            "UGA",
            "ZAF",
            "ZMB",
            "ZWE"
           ],
           "text": [
            "Angola",
            "Burundi",
            "Benin",
            "Burkina Faso",
            "Botswana",
            "Central African Republic",
            "Cote d`Ivoire",
            "Cameroon",
            "Democratic Republic of the Congo",
            "Republic of the Congo",
            "Comoros",
            "Cabo Verde",
            "Djibouti",
            "Algeria",
            "Egypt",
            "Eritrea",
            "Ethiopia",
            "Gabon",
            "Ghana",
            "Guinea",
            "The Gambia",
            "Guinea-Bissau",
            "Equatorial Guinea",
            "Kenya",
            "Liberia",
            "Libya",
            "Lesotho",
            "Morocco",
            "Madagascar",
            "Mali",
            "Mozambique",
            "Mauritania",
            "Mauritius",
            "Malawi",
            "Namibia",
            "Niger",
            "Nigeria",
            "Rwanda",
            "Sudan",
            "Senegal",
            "Sierra Leone",
            "Somalia",
            "South Sudan",
            "Sao Tome and Principe",
            "Kingdom of Eswatini",
            "Seychelles",
            "Chad",
            "Togo",
            "Tunisia",
            "Tanzania",
            "Uganda",
            "South Africa",
            "Zambia",
            "Zimbabwe"
           ],
           "type": "choropleth",
           "z": [
            0.13779686959257,
            0.0274969054651988,
            0.13634219269103,
            0.0610313555906222,
            0.134614308935923,
            0.224133179803521,
            0.22288059391352,
            0.186080740651809,
            0.216236574781344,
            0.32906915799449,
            0.0537351200936106,
            0.185375904929006,
            0.610192837465565,
            0.324307076333626,
            0.351630964153322,
            0.179251777451755,
            0.0531677188247956,
            0.197872340425532,
            0.208431681374428,
            0.13752909860859,
            0.147579904071573,
            0.243250562111241,
            0.245630897620737,
            0.0810457214885925,
            0.140460732999756,
            0.45426554251703,
            0.051199127100817,
            0.308963843801804,
            0.121303800035769,
            0.0775208118092626,
            0.0715455731898979,
            0.066882719199755,
            0.522839581602229,
            0.0458538888024943,
            0.142282958199357,
            0.0537811595020169,
            0.226484787018256,
            0.0152777408107317,
            0.151497153285942,
            0.257023216592679,
            0.132872835610412,
            0.138931608682724,
            0.053511666960113,
            0.265541536505876,
            0.0890874343048256,
            0.376966791665056,
            0.092849920443993,
            0.197816050772853,
            0.271574221656362,
            0.0656205900041892,
            0.0494958242934174,
            0.339568144105031,
            0.269677852259119,
            0.162033551938777
           ]
          },
          {
           "colorbar": {
            "title": {
             "text": "Metropolitan Pop."
            },
            "x": 1.05
           },
           "colorscale": [
            [
             0,
             "rgb(255,245,235)"
            ],
            [
             0.125,
             "rgb(254,230,206)"
            ],
            [
             0.25,
             "rgb(253,208,162)"
            ],
            [
             0.375,
             "rgb(253,174,107)"
            ],
            [
             0.5,
             "rgb(253,141,60)"
            ],
            [
             0.625,
             "rgb(241,105,19)"
            ],
            [
             0.75,
             "rgb(217,72,1)"
            ],
            [
             0.875,
             "rgb(166,54,3)"
            ],
            [
             1,
             "rgb(127,39,4)"
            ]
           ],
           "locationmode": "ISO-3",
           "locations": [
            "AGO",
            "BDI",
            "BEN",
            "BFA",
            "BWA",
            "CAF",
            "CIV",
            "CMR",
            "COD",
            "COG",
            "COM",
            "CPV",
            "DJI",
            "DZA",
            "EGY",
            "ERI",
            "ETH",
            "GAB",
            "GHA",
            "GIN",
            "GMB",
            "GNB",
            "GNQ",
            "KEN",
            "LBR",
            "LBY",
            "LSO",
            "MAR",
            "MDG",
            "MLI",
            "MOZ",
            "MRT",
            "MUS",
            "MWI",
            "NAM",
            "NER",
            "NGA",
            "RWA",
            "SDN",
            "SEN",
            "SLE",
            "SOM",
            "SSD",
            "STP",
            "SWZ",
            "SYC",
            "TCD",
            "TGO",
            "TUN",
            "TZA",
            "UGA",
            "ZAF",
            "ZMB",
            "ZWE"
           ],
           "text": [
            "Angola",
            "Burundi",
            "Benin",
            "Burkina Faso",
            "Botswana",
            "Central African Republic",
            "Cote d`Ivoire",
            "Cameroon",
            "Democratic Republic of the Congo",
            "Republic of the Congo",
            "Comoros",
            "Cabo Verde",
            "Djibouti",
            "Algeria",
            "Egypt",
            "Eritrea",
            "Ethiopia",
            "Gabon",
            "Ghana",
            "Guinea",
            "The Gambia",
            "Guinea-Bissau",
            "Equatorial Guinea",
            "Kenya",
            "Liberia",
            "Libya",
            "Lesotho",
            "Morocco",
            "Madagascar",
            "Mali",
            "Mozambique",
            "Mauritania",
            "Mauritius",
            "Malawi",
            "Namibia",
            "Niger",
            "Nigeria",
            "Rwanda",
            "Sudan",
            "Senegal",
            "Sierra Leone",
            "Somalia",
            "South Sudan",
            "Sao Tome and Principe",
            "Kingdom of Eswatini",
            "Seychelles",
            "Chad",
            "Togo",
            "Tunisia",
            "Tanzania",
            "Uganda",
            "South Africa",
            "Zambia",
            "Zimbabwe"
           ],
           "type": "choropleth",
           "z": [
            0.610942593030471,
            0.999999999998954,
            0.687256836992268,
            0.744629717821438,
            0.180362134528469,
            0.526539979851951,
            0.492297834579058,
            0.438620438620399,
            0.327815220698566,
            0.886874564272836,
            0.999999999992305,
            0.999999999998012,
            0.999999999998871,
            0.26376758727071,
            0.501654595961683,
            0.687379985519348,
            0.601160173421711,
            0.697947214075564,
            0.543951565891164,
            0.625009017505287,
            0.44331433717846,
            0.999999999999157,
            0.999999999998447,
            0.857340030155229,
            0.788694340336316,
            0.479017649218308,
            0.741368103837345,
            0.415820360505987,
            0.450343352285511,
            0.511563716291884,
            0.75276279113862,
            0.502098435710942,
            0.807170852897063,
            0.846380311433758,
            0.581920903954254,
            0.467759745381108,
            0.135235587558325,
            0.999999999998258,
            0.391512266823651,
            0.574208353211815,
            0.615893267995155,
            0.610810162939939,
            0.273436008400513,
            0.999999999994907,
            0.999999999997318,
            0.999999999994872,
            0.472670198280172,
            0.488691903863592,
            0.459492552581376,
            0.396452966306173,
            0.703672829418895,
            0.621156846281218,
            0.227580623565142,
            0.738751017848533
           ]
          }
         ],
         "name": "1970"
        },
        {
         "data": [
          {
           "colorbar": {
            "title": {
             "text": "Urban Level"
            },
            "x": -0.05
           },
           "colorscale": [
            [
             0,
             "rgb(247,251,255)"
            ],
            [
             0.125,
             "rgb(222,235,247)"
            ],
            [
             0.25,
             "rgb(198,219,239)"
            ],
            [
             0.375,
             "rgb(158,202,225)"
            ],
            [
             0.5,
             "rgb(107,174,214)"
            ],
            [
             0.625,
             "rgb(66,146,198)"
            ],
            [
             0.75,
             "rgb(33,113,181)"
            ],
            [
             0.875,
             "rgb(8,81,156)"
            ],
            [
             1,
             "rgb(8,48,107)"
            ]
           ],
           "locationmode": "ISO-3",
           "locations": [
            "AGO",
            "BDI",
            "BEN",
            "BFA",
            "BWA",
            "CAF",
            "CIV",
            "CMR",
            "COD",
            "COG",
            "COM",
            "CPV",
            "DJI",
            "DZA",
            "EGY",
            "ERI",
            "ETH",
            "GAB",
            "GHA",
            "GIN",
            "GMB",
            "GNB",
            "GNQ",
            "KEN",
            "LBR",
            "LBY",
            "LSO",
            "MAR",
            "MDG",
            "MLI",
            "MOZ",
            "MRT",
            "MUS",
            "MWI",
            "NAM",
            "NER",
            "NGA",
            "RWA",
            "SDN",
            "SEN",
            "SLE",
            "SOM",
            "SSD",
            "STP",
            "SWZ",
            "SYC",
            "TCD",
            "TGO",
            "TUN",
            "TZA",
            "UGA",
            "ZAF",
            "ZMB",
            "ZWE"
           ],
           "text": [
            "Angola",
            "Burundi",
            "Benin",
            "Burkina Faso",
            "Botswana",
            "Central African Republic",
            "Cote d`Ivoire",
            "Cameroon",
            "Democratic Republic of the Congo",
            "Republic of the Congo",
            "Comoros",
            "Cabo Verde",
            "Djibouti",
            "Algeria",
            "Egypt",
            "Eritrea",
            "Ethiopia",
            "Gabon",
            "Ghana",
            "Guinea",
            "The Gambia",
            "Guinea-Bissau",
            "Equatorial Guinea",
            "Kenya",
            "Liberia",
            "Libya",
            "Lesotho",
            "Morocco",
            "Madagascar",
            "Mali",
            "Mozambique",
            "Mauritania",
            "Mauritius",
            "Malawi",
            "Namibia",
            "Niger",
            "Nigeria",
            "Rwanda",
            "Sudan",
            "Senegal",
            "Sierra Leone",
            "Somalia",
            "South Sudan",
            "Sao Tome and Principe",
            "Kingdom of Eswatini",
            "Seychelles",
            "Chad",
            "Togo",
            "Tunisia",
            "Tanzania",
            "Uganda",
            "South Africa",
            "Zambia",
            "Zimbabwe"
           ],
           "type": "choropleth",
           "z": [
            0.206967909911959,
            0.0432586973630379,
            0.233008353527165,
            0.107381927803973,
            0.27578621376166,
            0.273159156252867,
            0.331859851386772,
            0.265336713209673,
            0.24724381109833,
            0.495704215509105,
            0.100751902133373,
            0.262882013371525,
            0.752020538564999,
            0.366164385681986,
            0.381797516781269,
            0.158210110324387,
            0.066451509210137,
            0.295960140662145,
            0.225933802684724,
            0.174559280007347,
            0.202550175215037,
            0.164924538955386,
            0.251018688857177,
            0.10307009339456,
            0.254825464871773,
            0.508813483876484,
            0.0639444630726625,
            0.361775397830228,
            0.15242744882087,
            0.135105324730873,
            0.139192654365469,
            0.208922390175968,
            0.548665058914997,
            0.0729179929899037,
            0.167597809439371,
            0.0924397024767843,
            0.276404870624049,
            0.0304089602552186,
            0.205862100420164,
            0.323197682632384,
            0.198954540425957,
            0.165064840362633,
            0.0639330908531346,
            0.37660305871585,
            0.112190253205995,
            0.370528923805492,
            0.132825536886814,
            0.248658020878834,
            0.338838611558305,
            0.112049882224983,
            0.0533593694356734,
            0.38601871316104,
            0.363584922269758,
            0.190354830420652
           ]
          },
          {
           "colorbar": {
            "title": {
             "text": "Metropolitan Pop."
            },
            "x": 1.05
           },
           "colorscale": [
            [
             0,
             "rgb(255,245,235)"
            ],
            [
             0.125,
             "rgb(254,230,206)"
            ],
            [
             0.25,
             "rgb(253,208,162)"
            ],
            [
             0.375,
             "rgb(253,174,107)"
            ],
            [
             0.5,
             "rgb(253,141,60)"
            ],
            [
             0.625,
             "rgb(241,105,19)"
            ],
            [
             0.75,
             "rgb(217,72,1)"
            ],
            [
             0.875,
             "rgb(166,54,3)"
            ],
            [
             1,
             "rgb(127,39,4)"
            ]
           ],
           "locationmode": "ISO-3",
           "locations": [
            "AGO",
            "BDI",
            "BEN",
            "BFA",
            "BWA",
            "CAF",
            "CIV",
            "CMR",
            "COD",
            "COG",
            "COM",
            "CPV",
            "DJI",
            "DZA",
            "EGY",
            "ERI",
            "ETH",
            "GAB",
            "GHA",
            "GIN",
            "GMB",
            "GNB",
            "GNQ",
            "KEN",
            "LBR",
            "LBY",
            "LSO",
            "MAR",
            "MDG",
            "MLI",
            "MOZ",
            "MRT",
            "MUS",
            "MWI",
            "NAM",
            "NER",
            "NGA",
            "RWA",
            "SDN",
            "SEN",
            "SLE",
            "SOM",
            "SSD",
            "STP",
            "SWZ",
            "SYC",
            "TCD",
            "TGO",
            "TUN",
            "TZA",
            "UGA",
            "ZAF",
            "ZMB",
            "ZWE"
           ],
           "text": [
            "Angola",
            "Burundi",
            "Benin",
            "Burkina Faso",
            "Botswana",
            "Central African Republic",
            "Cote d`Ivoire",
            "Cameroon",
            "Democratic Republic of the Congo",
            "Republic of the Congo",
            "Comoros",
            "Cabo Verde",
            "Djibouti",
            "Algeria",
            "Egypt",
            "Eritrea",
            "Ethiopia",
            "Gabon",
            "Ghana",
            "Guinea",
            "The Gambia",
            "Guinea-Bissau",
            "Equatorial Guinea",
            "Kenya",
            "Liberia",
            "Libya",
            "Lesotho",
            "Morocco",
            "Madagascar",
            "Mali",
            "Mozambique",
            "Mauritania",
            "Mauritius",
            "Malawi",
            "Namibia",
            "Niger",
            "Nigeria",
            "Rwanda",
            "Sudan",
            "Senegal",
            "Sierra Leone",
            "Somalia",
            "South Sudan",
            "Sao Tome and Principe",
            "Kingdom of Eswatini",
            "Seychelles",
            "Chad",
            "Togo",
            "Tunisia",
            "Tanzania",
            "Uganda",
            "South Africa",
            "Zambia",
            "Zimbabwe"
           ],
           "type": "choropleth",
           "z": [
            0.50041787966491,
            0.940174816755452,
            0.623826834801147,
            0.643551373903919,
            0.211459544421448,
            0.538598663665824,
            0.46885191846521,
            0.446346361526599,
            0.371119558741945,
            0.837008637328175,
            0.511357242276449,
            0.999999999998714,
            0.999999999999456,
            0.23329207219443,
            0.494592763551459,
            0.746084033263406,
            0.549544327989928,
            0.641889290938212,
            0.522799793719667,
            0.620371890217404,
            0.663112117708525,
            0.893659773098942,
            0.99999999999863,
            0.743165870116597,
            0.66260945230745,
            0.462037600022547,
            0.804073892131192,
            0.391131061062351,
            0.387275716742548,
            0.543634278872863,
            0.443832156876285,
            0.601395883547712,
            0.792329434290405,
            0.833014975380626,
            0.540849230913758,
            0.501243347464958,
            0.150882718972675,
            0.83400063183766,
            0.396678556476584,
            0.529724059542855,
            0.588344072443632,
            0.649973314675418,
            0.262050194860078,
            0.999999999997174,
            0.999999999998414,
            0.999999999995768,
            0.488535876759519,
            0.569418128874694,
            0.376566889036745,
            0.380609265372989,
            0.681622210851715,
            0.562497330542855,
            0.259466008369452,
            0.72280120363518
           ]
          }
         ],
         "name": "1980"
        },
        {
         "data": [
          {
           "colorbar": {
            "title": {
             "text": "Urban Level"
            },
            "x": -0.05
           },
           "colorscale": [
            [
             0,
             "rgb(247,251,255)"
            ],
            [
             0.125,
             "rgb(222,235,247)"
            ],
            [
             0.25,
             "rgb(198,219,239)"
            ],
            [
             0.375,
             "rgb(158,202,225)"
            ],
            [
             0.5,
             "rgb(107,174,214)"
            ],
            [
             0.625,
             "rgb(66,146,198)"
            ],
            [
             0.75,
             "rgb(33,113,181)"
            ],
            [
             0.875,
             "rgb(8,81,156)"
            ],
            [
             1,
             "rgb(8,48,107)"
            ]
           ],
           "locationmode": "ISO-3",
           "locations": [
            "AGO",
            "BDI",
            "BEN",
            "BFA",
            "BWA",
            "CAF",
            "CIV",
            "CMR",
            "COD",
            "COG",
            "COM",
            "CPV",
            "DJI",
            "DZA",
            "EGY",
            "ERI",
            "ETH",
            "GAB",
            "GHA",
            "GIN",
            "GMB",
            "GNB",
            "GNQ",
            "KEN",
            "LBR",
            "LBY",
            "LSO",
            "MAR",
            "MDG",
            "MLI",
            "MOZ",
            "MRT",
            "MUS",
            "MWI",
            "NAM",
            "NER",
            "NGA",
            "RWA",
            "SDN",
            "SEN",
            "SLE",
            "SOM",
            "SSD",
            "STP",
            "SWZ",
            "SYC",
            "TCD",
            "TGO",
            "TUN",
            "TZA",
            "UGA",
            "ZAF",
            "ZMB",
            "ZWE"
           ],
           "text": [
            "Angola",
            "Burundi",
            "Benin",
            "Burkina Faso",
            "Botswana",
            "Central African Republic",
            "Cote d`Ivoire",
            "Cameroon",
            "Democratic Republic of the Congo",
            "Republic of the Congo",
            "Comoros",
            "Cabo Verde",
            "Djibouti",
            "Algeria",
            "Egypt",
            "Eritrea",
            "Ethiopia",
            "Gabon",
            "Ghana",
            "Guinea",
            "The Gambia",
            "Guinea-Bissau",
            "Equatorial Guinea",
            "Kenya",
            "Liberia",
            "Libya",
            "Lesotho",
            "Morocco",
            "Madagascar",
            "Mali",
            "Mozambique",
            "Mauritania",
            "Mauritius",
            "Malawi",
            "Namibia",
            "Niger",
            "Nigeria",
            "Rwanda",
            "Sudan",
            "Senegal",
            "Sierra Leone",
            "Somalia",
            "South Sudan",
            "Sao Tome and Principe",
            "Kingdom of Eswatini",
            "Seychelles",
            "Chad",
            "Togo",
            "Tunisia",
            "Tanzania",
            "Uganda",
            "South Africa",
            "Zambia",
            "Zimbabwe"
           ],
           "type": "choropleth",
           "z": [
            0.263435658691016,
            0.0532155706826245,
            0.268084280606952,
            0.157428058250006,
            0.405754267210711,
            0.313603544341046,
            0.396016725571467,
            0.342706562055973,
            0.285884773352868,
            0.592013084243409,
            0.118759879425063,
            0.306106767095064,
            0.803912637165645,
            0.400701597261187,
            0.410330132032388,
            0.153984719547798,
            0.0778300330336072,
            0.546908405641479,
            0.256124014045097,
            0.251588749720327,
            0.290020836393509,
            0.221413372040508,
            0.257458979123279,
            0.119310485808667,
            0.315452363556994,
            0.623849112665456,
            0.0950540298374777,
            0.418772991956832,
            0.151883603143968,
            0.167756053811659,
            0.175545221373214,
            0.363345351000069,
            0.555451138492987,
            0.103961582220246,
            0.229221279932149,
            0.142046657457848,
            0.335787234042553,
            0.0384043164297259,
            0.297277498193695,
            0.407785170949255,
            0.235581974607682,
            0.174230972865652,
            0.0758130359272055,
            0.443646811687297,
            0.131228410781372,
            0.343205821559023,
            0.168496130655916,
            0.24706350491264,
            0.411696468375467,
            0.151816182653576,
            0.10142318826367,
            0.346294290377487,
            0.336831007367233,
            0.230208163990286
           ]
          },
          {
           "colorbar": {
            "title": {
             "text": "Metropolitan Pop."
            },
            "x": 1.05
           },
           "colorscale": [
            [
             0,
             "rgb(255,245,235)"
            ],
            [
             0.125,
             "rgb(254,230,206)"
            ],
            [
             0.25,
             "rgb(253,208,162)"
            ],
            [
             0.375,
             "rgb(253,174,107)"
            ],
            [
             0.5,
             "rgb(253,141,60)"
            ],
            [
             0.625,
             "rgb(241,105,19)"
            ],
            [
             0.75,
             "rgb(217,72,1)"
            ],
            [
             0.875,
             "rgb(166,54,3)"
            ],
            [
             1,
             "rgb(127,39,4)"
            ]
           ],
           "locationmode": "ISO-3",
           "locations": [
            "AGO",
            "BDI",
            "BEN",
            "BFA",
            "BWA",
            "CAF",
            "CIV",
            "CMR",
            "COD",
            "COG",
            "COM",
            "CPV",
            "DJI",
            "DZA",
            "EGY",
            "ERI",
            "ETH",
            "GAB",
            "GHA",
            "GIN",
            "GMB",
            "GNB",
            "GNQ",
            "KEN",
            "LBR",
            "LBY",
            "LSO",
            "MAR",
            "MDG",
            "MLI",
            "MOZ",
            "MRT",
            "MUS",
            "MWI",
            "NAM",
            "NER",
            "NGA",
            "RWA",
            "SDN",
            "SEN",
            "SLE",
            "SOM",
            "SSD",
            "STP",
            "SWZ",
            "SYC",
            "TCD",
            "TGO",
            "TUN",
            "TZA",
            "UGA",
            "ZAF",
            "ZMB",
            "ZWE"
           ],
           "text": [
            "Angola",
            "Burundi",
            "Benin",
            "Burkina Faso",
            "Botswana",
            "Central African Republic",
            "Cote d`Ivoire",
            "Cameroon",
            "Democratic Republic of the Congo",
            "Republic of the Congo",
            "Comoros",
            "Cabo Verde",
            "Djibouti",
            "Algeria",
            "Egypt",
            "Eritrea",
            "Ethiopia",
            "Gabon",
            "Ghana",
            "Guinea",
            "The Gambia",
            "Guinea-Bissau",
            "Equatorial Guinea",
            "Kenya",
            "Liberia",
            "Libya",
            "Lesotho",
            "Morocco",
            "Madagascar",
            "Mali",
            "Mozambique",
            "Mauritania",
            "Mauritius",
            "Malawi",
            "Namibia",
            "Niger",
            "Nigeria",
            "Rwanda",
            "Sudan",
            "Senegal",
            "Sierra Leone",
            "Somalia",
            "South Sudan",
            "Sao Tome and Principe",
            "Kingdom of Eswatini",
            "Seychelles",
            "Chad",
            "Togo",
            "Tunisia",
            "Tanzania",
            "Uganda",
            "South Africa",
            "Zambia",
            "Zimbabwe"
           ],
           "type": "choropleth",
           "z": [
            0.472249427090527,
            0.835904409232144,
            0.610343184553425,
            0.600901611146107,
            0.258900668996918,
            0.508992230230188,
            0.461245858010171,
            0.456688759032169,
            0.413569204892455,
            0.817532861104756,
            0.557322499515269,
            0.999999999999081,
            0.999999999999634,
            0.182966063607708,
            0.465633474819655,
            0.725897539330229,
            0.47844906214271,
            0.691789166557346,
            0.512857259971159,
            0.54979627082628,
            0.774340831669803,
            0.867287449776401,
            0.99999999999891,
            0.706289227470326,
            0.699757434429958,
            0.437319904713972,
            0.697132098225668,
            0.352427260674363,
            0.383585481220211,
            0.54210901362032,
            0.441386123578284,
            0.585598377566745,
            0.771857637202704,
            0.738688551071934,
            0.442641178743033,
            0.395795671328855,
            0.170395969407501,
            0.864072143791629,
            0.399799218625502,
            0.536518292464281,
            0.593596425747869,
            0.62664331865848,
            0.244658795610077,
            0.999999999998043,
            0.999999999999039,
            0.999999999995875,
            0.473265967344806,
            0.55800941176464,
            0.364047050389742,
            0.329915567075289,
            0.523662444455359,
            0.500416414581248,
            0.309367731786629,
            0.688545086289207
           ]
          }
         ],
         "name": "1990"
        },
        {
         "data": [
          {
           "colorbar": {
            "title": {
             "text": "Urban Level"
            },
            "x": -0.05
           },
           "colorscale": [
            [
             0,
             "rgb(247,251,255)"
            ],
            [
             0.125,
             "rgb(222,235,247)"
            ],
            [
             0.25,
             "rgb(198,219,239)"
            ],
            [
             0.375,
             "rgb(158,202,225)"
            ],
            [
             0.5,
             "rgb(107,174,214)"
            ],
            [
             0.625,
             "rgb(66,146,198)"
            ],
            [
             0.75,
             "rgb(33,113,181)"
            ],
            [
             0.875,
             "rgb(8,81,156)"
            ],
            [
             1,
             "rgb(8,48,107)"
            ]
           ],
           "locationmode": "ISO-3",
           "locations": [
            "AGO",
            "BDI",
            "BEN",
            "BFA",
            "BWA",
            "CAF",
            "CIV",
            "CMR",
            "COD",
            "COG",
            "COM",
            "CPV",
            "DJI",
            "DZA",
            "EGY",
            "ERI",
            "ETH",
            "GAB",
            "GHA",
            "GIN",
            "GMB",
            "GNB",
            "GNQ",
            "KEN",
            "LBR",
            "LBY",
            "LSO",
            "MAR",
            "MDG",
            "MLI",
            "MOZ",
            "MRT",
            "MUS",
            "MWI",
            "NAM",
            "NER",
            "NGA",
            "RWA",
            "SDN",
            "SEN",
            "SLE",
            "SOM",
            "SSD",
            "STP",
            "SWZ",
            "SYC",
            "TCD",
            "TGO",
            "TUN",
            "TZA",
            "UGA",
            "ZAF",
            "ZMB",
            "ZWE"
           ],
           "text": [
            "Angola",
            "Burundi",
            "Benin",
            "Burkina Faso",
            "Botswana",
            "Central African Republic",
            "Cote d`Ivoire",
            "Cameroon",
            "Democratic Republic of the Congo",
            "Republic of the Congo",
            "Comoros",
            "Cabo Verde",
            "Djibouti",
            "Algeria",
            "Egypt",
            "Eritrea",
            "Ethiopia",
            "Gabon",
            "Ghana",
            "Guinea",
            "The Gambia",
            "Guinea-Bissau",
            "Equatorial Guinea",
            "Kenya",
            "Liberia",
            "Libya",
            "Lesotho",
            "Morocco",
            "Madagascar",
            "Mali",
            "Mozambique",
            "Mauritania",
            "Mauritius",
            "Malawi",
            "Namibia",
            "Niger",
            "Nigeria",
            "Rwanda",
            "Sudan",
            "Senegal",
            "Sierra Leone",
            "Somalia",
            "South Sudan",
            "Sao Tome and Principe",
            "Kingdom of Eswatini",
            "Seychelles",
            "Chad",
            "Togo",
            "Tunisia",
            "Tanzania",
            "Uganda",
            "South Africa",
            "Zambia",
            "Zimbabwe"
           ],
           "type": "choropleth",
           "z": [
            0.30161226871772,
            0.067342035810857,
            0.309124497104991,
            0.212194490380618,
            0.488416625348356,
            0.33407426929636,
            0.440593087673374,
            0.384383649799129,
            0.286682928166539,
            0.633173116609896,
            0.25601072691959,
            0.390504401902431,
            0.821357052651928,
            0.471403024062917,
            0.417693322114937,
            0.263160339986815,
            0.099670523516184,
            0.644595870171019,
            0.338961616146036,
            0.310018994005567,
            0.383819543913523,
            0.277800039734787,
            0.398094613019017,
            0.194317577944278,
            0.350711785895666,
            0.687326684896553,
            0.165717172884941,
            0.466858709827061,
            0.196556557710332,
            0.218696579075833,
            0.276585291614414,
            0.333353666972469,
            0.641025815032981,
            0.137687403833945,
            0.28264571443966,
            0.157896255782481,
            0.374921487921548,
            0.2107817314653,
            0.360704361003635,
            0.409116111971219,
            0.280248781300499,
            0.230648888888889,
            0.106542118557487,
            0.46196502938831,
            0.255216641133568,
            0.737770092891761,
            0.189718200259874,
            0.274490664921197,
            0.467265454640713,
            0.274081501476763,
            0.139922997045986,
            0.478237541848697,
            0.337808638089389,
            0.268903796551043
           ]
          },
          {
           "colorbar": {
            "title": {
             "text": "Metropolitan Pop."
            },
            "x": 1.05
           },
           "colorscale": [
            [
             0,
             "rgb(255,245,235)"
            ],
            [
             0.125,
             "rgb(254,230,206)"
            ],
            [
             0.25,
             "rgb(253,208,162)"
            ],
            [
             0.375,
             "rgb(253,174,107)"
            ],
            [
             0.5,
             "rgb(253,141,60)"
            ],
            [
             0.625,
             "rgb(241,105,19)"
            ],
            [
             0.75,
             "rgb(217,72,1)"
            ],
            [
             0.875,
             "rgb(166,54,3)"
            ],
            [
             1,
             "rgb(127,39,4)"
            ]
           ],
           "locationmode": "ISO-3",
           "locations": [
            "AGO",
            "BDI",
            "BEN",
            "BFA",
            "BWA",
            "CAF",
            "CIV",
            "CMR",
            "COD",
            "COG",
            "COM",
            "CPV",
            "DJI",
            "DZA",
            "EGY",
            "ERI",
            "ETH",
            "GAB",
            "GHA",
            "GIN",
            "GMB",
            "GNB",
            "GNQ",
            "KEN",
            "LBR",
            "LBY",
            "LSO",
            "MAR",
            "MDG",
            "MLI",
            "MOZ",
            "MRT",
            "MUS",
            "MWI",
            "NAM",
            "NER",
            "NGA",
            "RWA",
            "SDN",
            "SEN",
            "SLE",
            "SOM",
            "SSD",
            "STP",
            "SWZ",
            "SYC",
            "TCD",
            "TGO",
            "TUN",
            "TZA",
            "UGA",
            "ZAF",
            "ZMB",
            "ZWE"
           ],
           "text": [
            "Angola",
            "Burundi",
            "Benin",
            "Burkina Faso",
            "Botswana",
            "Central African Republic",
            "Cote d`Ivoire",
            "Cameroon",
            "Democratic Republic of the Congo",
            "Republic of the Congo",
            "Comoros",
            "Cabo Verde",
            "Djibouti",
            "Algeria",
            "Egypt",
            "Eritrea",
            "Ethiopia",
            "Gabon",
            "Ghana",
            "Guinea",
            "The Gambia",
            "Guinea-Bissau",
            "Equatorial Guinea",
            "Kenya",
            "Liberia",
            "Libya",
            "Lesotho",
            "Morocco",
            "Madagascar",
            "Mali",
            "Mozambique",
            "Mauritania",
            "Mauritius",
            "Malawi",
            "Namibia",
            "Niger",
            "Nigeria",
            "Rwanda",
            "Sudan",
            "Senegal",
            "Sierra Leone",
            "Somalia",
            "South Sudan",
            "Sao Tome and Principe",
            "Kingdom of Eswatini",
            "Seychelles",
            "Chad",
            "Togo",
            "Tunisia",
            "Tanzania",
            "Uganda",
            "South Africa",
            "Zambia",
            "Zimbabwe"
           ],
           "type": "choropleth",
           "z": [
            0.460113978215663,
            0.794500101362991,
            0.583246800819784,
            0.561103022011456,
            0.261663057773922,
            0.515797326168304,
            0.442453181531457,
            0.498624546098483,
            0.390258185216974,
            0.833041201576233,
            0.340979092444367,
            0.937778275106046,
            0.999999999999744,
            0.152611279152624,
            0.446248549522788,
            0.544181156987581,
            0.389354651669903,
            0.617706279650205,
            0.540795812239768,
            0.515570411904227,
            0.817761265233376,
            0.90553104317653,
            0.999999999999717,
            0.65043117860127,
            0.733974303500169,
            0.445417803520584,
            0.708135779342191,
            0.314782911806483,
            0.472908746852607,
            0.530910756841838,
            0.32317191643108,
            0.667614315922341,
            0.736733662223724,
            0.693745553282252,
            0.440726700834518,
            0.390934832462899,
            0.173484549353284,
            0.475272382159038,
            0.390636083939993,
            0.506135078477318,
            0.570848668835818,
            0.606858910127919,
            0.218272379645035,
            0.999999999998402,
            0.786898584482039,
            0.999999999998289,
            0.447848930833886,
            0.541696380404406,
            0.356278285401673,
            0.24724476336129,
            0.470804626798433,
            0.420737339797804,
            0.339394026607561,
            0.675206385546685
           ]
          }
         ],
         "name": "2000"
        },
        {
         "data": [
          {
           "colorbar": {
            "title": {
             "text": "Urban Level"
            },
            "x": -0.05
           },
           "colorscale": [
            [
             0,
             "rgb(247,251,255)"
            ],
            [
             0.125,
             "rgb(222,235,247)"
            ],
            [
             0.25,
             "rgb(198,219,239)"
            ],
            [
             0.375,
             "rgb(158,202,225)"
            ],
            [
             0.5,
             "rgb(107,174,214)"
            ],
            [
             0.625,
             "rgb(66,146,198)"
            ],
            [
             0.75,
             "rgb(33,113,181)"
            ],
            [
             0.875,
             "rgb(8,81,156)"
            ],
            [
             1,
             "rgb(8,48,107)"
            ]
           ],
           "locationmode": "ISO-3",
           "locations": [
            "AGO",
            "BDI",
            "BEN",
            "BFA",
            "BWA",
            "CAF",
            "CIV",
            "CMR",
            "COD",
            "COG",
            "COM",
            "CPV",
            "DJI",
            "DZA",
            "EGY",
            "ERI",
            "ETH",
            "GAB",
            "GHA",
            "GIN",
            "GMB",
            "GNB",
            "GNQ",
            "KEN",
            "LBR",
            "LBY",
            "LSO",
            "MAR",
            "MDG",
            "MLI",
            "MOZ",
            "MRT",
            "MUS",
            "MWI",
            "NAM",
            "NER",
            "NGA",
            "RWA",
            "SDN",
            "SEN",
            "SLE",
            "SOM",
            "SSD",
            "STP",
            "SWZ",
            "SYC",
            "TCD",
            "TGO",
            "TUN",
            "TZA",
            "UGA",
            "ZAF",
            "ZMB",
            "ZWE"
           ],
           "text": [
            "Angola",
            "Burundi",
            "Benin",
            "Burkina Faso",
            "Botswana",
            "Central African Republic",
            "Cote d`Ivoire",
            "Cameroon",
            "Democratic Republic of the Congo",
            "Republic of the Congo",
            "Comoros",
            "Cabo Verde",
            "Djibouti",
            "Algeria",
            "Egypt",
            "Eritrea",
            "Ethiopia",
            "Gabon",
            "Ghana",
            "Guinea",
            "The Gambia",
            "Guinea-Bissau",
            "Equatorial Guinea",
            "Kenya",
            "Liberia",
            "Libya",
            "Lesotho",
            "Morocco",
            "Madagascar",
            "Mali",
            "Mozambique",
            "Mauritania",
            "Mauritius",
            "Malawi",
            "Namibia",
            "Niger",
            "Nigeria",
            "Rwanda",
            "Sudan",
            "Senegal",
            "Sierra Leone",
            "Somalia",
            "South Sudan",
            "Sao Tome and Principe",
            "Kingdom of Eswatini",
            "Seychelles",
            "Chad",
            "Togo",
            "Tunisia",
            "Tanzania",
            "Uganda",
            "South Africa",
            "Zambia",
            "Zimbabwe"
           ],
           "type": "choropleth",
           "z": [
            0.498765518974519,
            0.178885193643177,
            0.36388979447024,
            0.247787592886731,
            0.527351560691208,
            0.353180331471542,
            0.466958293600341,
            0.509383240535988,
            0.341933968,
            0.643226041193275,
            0.25209015472795,
            0.466760864040661,
            0.705207789629126,
            0.549281394185336,
            0.496298643597885,
            0.232456584735724,
            0.136505602266681,
            0.720913910453516,
            0.474847844634395,
            0.339756858164874,
            0.43717230692443,
            0.310130058518091,
            0.387328862627645,
            0.293032146480863,
            0.379139983862397,
            0.74185382838605,
            0.238910015019437,
            0.508109911736435,
            0.213475286427638,
            0.281186510459186,
            0.297296285839681,
            0.4061177744931,
            0.713837777537816,
            0.228936130767015,
            0.356026346787182,
            0.15928540596613,
            0.443645543175487,
            0.515861305385323,
            0.399763903689836,
            0.464520448304598,
            0.309154518205933,
            0.315877590395746,
            0.204200567091482,
            0.632634391100834,
            0.275815002202903,
            0.724258586133098,
            0.245893408671775,
            0.410365827820074,
            0.511617270320886,
            0.334598441901546,
            0.173466643121146,
            0.640543521937143,
            0.404945829182797,
            0.28250679234451
           ]
          },
          {
           "colorbar": {
            "title": {
             "text": "Metropolitan Pop."
            },
            "x": 1.05
           },
           "colorscale": [
            [
             0,
             "rgb(255,245,235)"
            ],
            [
             0.125,
             "rgb(254,230,206)"
            ],
            [
             0.25,
             "rgb(253,208,162)"
            ],
            [
             0.375,
             "rgb(253,174,107)"
            ],
            [
             0.5,
             "rgb(253,141,60)"
            ],
            [
             0.625,
             "rgb(241,105,19)"
            ],
            [
             0.75,
             "rgb(217,72,1)"
            ],
            [
             0.875,
             "rgb(166,54,3)"
            ],
            [
             1,
             "rgb(127,39,4)"
            ]
           ],
           "locationmode": "ISO-3",
           "locations": [
            "AGO",
            "BDI",
            "BEN",
            "BFA",
            "BWA",
            "CAF",
            "CIV",
            "CMR",
            "COD",
            "COG",
            "COM",
            "CPV",
            "DJI",
            "DZA",
            "EGY",
            "ERI",
            "ETH",
            "GAB",
            "GHA",
            "GIN",
            "GMB",
            "GNB",
            "GNQ",
            "KEN",
            "LBR",
            "LBY",
            "LSO",
            "MAR",
            "MDG",
            "MLI",
            "MOZ",
            "MRT",
            "MUS",
            "MWI",
            "NAM",
            "NER",
            "NGA",
            "RWA",
            "SDN",
            "SEN",
            "SLE",
            "SOM",
            "SSD",
            "STP",
            "SWZ",
            "SYC",
            "TCD",
            "TGO",
            "TUN",
            "TZA",
            "UGA",
            "ZAF",
            "ZMB",
            "ZWE"
           ],
           "text": [
            "Angola",
            "Burundi",
            "Benin",
            "Burkina Faso",
            "Botswana",
            "Central African Republic",
            "Cote d`Ivoire",
            "Cameroon",
            "Democratic Republic of the Congo",
            "Republic of the Congo",
            "Comoros",
            "Cabo Verde",
            "Djibouti",
            "Algeria",
            "Egypt",
            "Eritrea",
            "Ethiopia",
            "Gabon",
            "Ghana",
            "Guinea",
            "The Gambia",
            "Guinea-Bissau",
            "Equatorial Guinea",
            "Kenya",
            "Liberia",
            "Libya",
            "Lesotho",
            "Morocco",
            "Madagascar",
            "Mali",
            "Mozambique",
            "Mauritania",
            "Mauritius",
            "Malawi",
            "Namibia",
            "Niger",
            "Nigeria",
            "Rwanda",
            "Sudan",
            "Senegal",
            "Sierra Leone",
            "Somalia",
            "South Sudan",
            "Sao Tome and Principe",
            "Kingdom of Eswatini",
            "Seychelles",
            "Chad",
            "Togo",
            "Tunisia",
            "Tanzania",
            "Uganda",
            "South Africa",
            "Zambia",
            "Zimbabwe"
           ],
           "type": "choropleth",
           "z": [
            0.501512783063225,
            0.58365521528189,
            0.475356938275286,
            0.580119355715354,
            0.286892645703235,
            0.527584441913064,
            0.427215738693237,
            0.45244453251491,
            0.337769542685503,
            0.815075931307608,
            0.439199844461969,
            0.871887903548586,
            0.822451178246679,
            0.154764339684261,
            0.40909267437712,
            0.471907371743156,
            0.267544332863525,
            0.592905756622216,
            0.544164614059407,
            0.530276868994495,
            0.842597718453386,
            0.821920225533522,
            0.975387191860061,
            0.465263925077419,
            0.69827246723455,
            0.480627102701185,
            0.577736717487868,
            0.310131903998911,
            0.475240881549494,
            0.514555863747562,
            0.30475801795674,
            0.638827669944784,
            0.707690575385574,
            0.505562221970697,
            0.424206331522379,
            0.365301765382975,
            0.167590718742467,
            0.398032303041225,
            0.354425495894098,
            0.459215863397962,
            0.573316907305765,
            0.565119920632201,
            0.157905649951213,
            0.800566009279003,
            0.810141780292466,
            0.999999999998436,
            0.347881529935609,
            0.558297417659724,
            0.349167465007321,
            0.277951641660616,
            0.447246142903675,
            0.409663897604819,
            0.365404857613729,
            0.614099143691032
           ]
          }
         ],
         "name": "2010"
        },
        {
         "data": [
          {
           "colorbar": {
            "title": {
             "text": "Urban Level"
            },
            "x": -0.05
           },
           "colorscale": [
            [
             0,
             "rgb(247,251,255)"
            ],
            [
             0.125,
             "rgb(222,235,247)"
            ],
            [
             0.25,
             "rgb(198,219,239)"
            ],
            [
             0.375,
             "rgb(158,202,225)"
            ],
            [
             0.5,
             "rgb(107,174,214)"
            ],
            [
             0.625,
             "rgb(66,146,198)"
            ],
            [
             0.75,
             "rgb(33,113,181)"
            ],
            [
             0.875,
             "rgb(8,81,156)"
            ],
            [
             1,
             "rgb(8,48,107)"
            ]
           ],
           "locationmode": "ISO-3",
           "locations": [
            "AGO",
            "BDI",
            "BEN",
            "BFA",
            "BWA",
            "CAF",
            "CIV",
            "CMR",
            "COD",
            "COG",
            "COM",
            "CPV",
            "DJI",
            "DZA",
            "EGY",
            "ERI",
            "ETH",
            "GAB",
            "GHA",
            "GIN",
            "GMB",
            "GNB",
            "GNQ",
            "KEN",
            "LBR",
            "LBY",
            "LSO",
            "MAR",
            "MDG",
            "MLI",
            "MOZ",
            "MRT",
            "MUS",
            "MWI",
            "NAM",
            "NER",
            "NGA",
            "RWA",
            "SDN",
            "SEN",
            "SLE",
            "SOM",
            "SSD",
            "STP",
            "SWZ",
            "SYC",
            "TCD",
            "TGO",
            "TUN",
            "TZA",
            "UGA",
            "ZAF",
            "ZMB",
            "ZWE"
           ],
           "text": [
            "Angola",
            "Burundi",
            "Benin",
            "Burkina Faso",
            "Botswana",
            "Central African Republic",
            "Cote d`Ivoire",
            "Cameroon",
            "Democratic Republic of the Congo",
            "Republic of the Congo",
            "Comoros",
            "Cabo Verde",
            "Djibouti",
            "Algeria",
            "Egypt",
            "Eritrea",
            "Ethiopia",
            "Gabon",
            "Ghana",
            "Guinea",
            "The Gambia",
            "Guinea-Bissau",
            "Equatorial Guinea",
            "Kenya",
            "Liberia",
            "Libya",
            "Lesotho",
            "Morocco",
            "Madagascar",
            "Mali",
            "Mozambique",
            "Mauritania",
            "Mauritius",
            "Malawi",
            "Namibia",
            "Niger",
            "Nigeria",
            "Rwanda",
            "Sudan",
            "Senegal",
            "Sierra Leone",
            "Somalia",
            "South Sudan",
            "Sao Tome and Principe",
            "Kingdom of Eswatini",
            "Seychelles",
            "Chad",
            "Togo",
            "Tunisia",
            "Tanzania",
            "Uganda",
            "South Africa",
            "Zambia",
            "Zimbabwe"
           ],
           "type": "choropleth",
           "z": [
            0.633101566029755,
            0.18369896134175,
            0.438010234553003,
            0.275629096977024,
            0.532285960674838,
            0.358565890108564,
            0.480565450643777,
            0.564208400047846,
            0.436016057041799,
            0.644758607654292,
            0.47825345752322,
            0.502851383201895,
            0.720504184100418,
            0.611265270375097,
            0.667245906553751,
            0.244498658964308,
            0.251902573880415,
            0.806949548374722,
            0.492277206073079,
            0.370252892823147,
            0.452753576210971,
            0.343293674463638,
            0.49654707544407,
            0.403635340665106,
            0.419326896193016,
            0.74185382838605,
            0.25471023575321,
            0.567501519012736,
            0.216073664534512,
            0.311882898941254,
            0.305258799595731,
            0.424641859664961,
            0.739648583682149,
            0.241527077646276,
            0.39717963800905,
            0.172901656534526,
            0.505635445207495,
            0.5491965612375,
            0.416707922196009,
            0.490773449282978,
            0.361285557632824,
            0.358248520710059,
            0.217879496963105,
            0.804276381909548,
            0.278532530651799,
            0.725987218874105,
            0.280541363169385,
            0.48406832479883,
            0.564473935678192,
            0.367658972449281,
            0.381045420632232,
            0.675484764309758,
            0.443014088147861,
            0.330413113392137
           ]
          },
          {
           "colorbar": {
            "title": {
             "text": "Metropolitan Pop."
            },
            "x": 1.05
           },
           "colorscale": [
            [
             0,
             "rgb(255,245,235)"
            ],
            [
             0.125,
             "rgb(254,230,206)"
            ],
            [
             0.25,
             "rgb(253,208,162)"
            ],
            [
             0.375,
             "rgb(253,174,107)"
            ],
            [
             0.5,
             "rgb(253,141,60)"
            ],
            [
             0.625,
             "rgb(241,105,19)"
            ],
            [
             0.75,
             "rgb(217,72,1)"
            ],
            [
             0.875,
             "rgb(166,54,3)"
            ],
            [
             1,
             "rgb(127,39,4)"
            ]
           ],
           "locationmode": "ISO-3",
           "locations": [
            "AGO",
            "BDI",
            "BEN",
            "BFA",
            "BWA",
            "CAF",
            "CIV",
            "CMR",
            "COD",
            "COG",
            "COM",
            "CPV",
            "DJI",
            "DZA",
            "EGY",
            "ERI",
            "ETH",
            "GAB",
            "GHA",
            "GIN",
            "GMB",
            "GNB",
            "GNQ",
            "KEN",
            "LBR",
            "LBY",
            "LSO",
            "MAR",
            "MDG",
            "MLI",
            "MOZ",
            "MRT",
            "MUS",
            "MWI",
            "NAM",
            "NER",
            "NGA",
            "RWA",
            "SDN",
            "SEN",
            "SLE",
            "SOM",
            "SSD",
            "STP",
            "SWZ",
            "SYC",
            "TCD",
            "TGO",
            "TUN",
            "TZA",
            "UGA",
            "ZAF",
            "ZMB",
            "ZWE"
           ],
           "text": [
            "Angola",
            "Burundi",
            "Benin",
            "Burkina Faso",
            "Botswana",
            "Central African Republic",
            "Cote d`Ivoire",
            "Cameroon",
            "Democratic Republic of the Congo",
            "Republic of the Congo",
            "Comoros",
            "Cabo Verde",
            "Djibouti",
            "Algeria",
            "Egypt",
            "Eritrea",
            "Ethiopia",
            "Gabon",
            "Ghana",
            "Guinea",
            "The Gambia",
            "Guinea-Bissau",
            "Equatorial Guinea",
            "Kenya",
            "Liberia",
            "Libya",
            "Lesotho",
            "Morocco",
            "Madagascar",
            "Mali",
            "Mozambique",
            "Mauritania",
            "Mauritius",
            "Malawi",
            "Namibia",
            "Niger",
            "Nigeria",
            "Rwanda",
            "Sudan",
            "Senegal",
            "Sierra Leone",
            "Somalia",
            "South Sudan",
            "Sao Tome and Principe",
            "Kingdom of Eswatini",
            "Seychelles",
            "Chad",
            "Togo",
            "Tunisia",
            "Tanzania",
            "Uganda",
            "South Africa",
            "Zambia",
            "Zimbabwe"
           ],
           "type": "choropleth",
           "z": [
            0.44107918873207,
            0.578428118386759,
            0.44595133312391,
            0.583396732627484,
            0.288065536257619,
            0.530592794825321,
            0.421297961316132,
            0.516962113643005,
            0.30089105213685,
            0.805271786693286,
            0.3206072238701,
            0.847313319161676,
            0.806331863147783,
            0.15908805282988,
            0.380282132215095,
            0.392680693789864,
            0.163560381608028,
            0.58803337768461,
            0.537797343047271,
            0.540718838398198,
            0.860848849654906,
            0.781451609833558,
            0.936408566721427,
            0.400309148408346,
            0.701922300322612,
            0.480627102701185,
            0.602883370624389,
            0.315047462845912,
            0.46953075412101,
            0.500542155905532,
            0.316764769207511,
            0.619232724808186,
            0.664374804579513,
            0.504569974933873,
            0.407005503738417,
            0.328743322234907,
            0.146487035076578,
            0.353389894700078,
            0.328712283518624,
            0.441953654782684,
            0.568476956832921,
            0.532681465820989,
            0.141150360643605,
            0.84189414624036,
            0.81777390459754,
            0.999999999998526,
            0.315525535172653,
            0.523885127487171,
            0.38915984436174,
            0.296926589449131,
            0.279845042270995,
            0.408118367023617,
            0.353992443692374,
            0.637440824131802
           ]
          }
         ],
         "name": "2015"
        },
        {
         "data": [
          {
           "colorbar": {
            "title": {
             "text": "Urban Level"
            },
            "x": -0.05
           },
           "colorscale": [
            [
             0,
             "rgb(247,251,255)"
            ],
            [
             0.125,
             "rgb(222,235,247)"
            ],
            [
             0.25,
             "rgb(198,219,239)"
            ],
            [
             0.375,
             "rgb(158,202,225)"
            ],
            [
             0.5,
             "rgb(107,174,214)"
            ],
            [
             0.625,
             "rgb(66,146,198)"
            ],
            [
             0.75,
             "rgb(33,113,181)"
            ],
            [
             0.875,
             "rgb(8,81,156)"
            ],
            [
             1,
             "rgb(8,48,107)"
            ]
           ],
           "locationmode": "ISO-3",
           "locations": [
            "AGO",
            "BDI",
            "BEN",
            "BFA",
            "BWA",
            "CAF",
            "CIV",
            "CMR",
            "COD",
            "COG",
            "COM",
            "CPV",
            "DJI",
            "DZA",
            "EGY",
            "ERI",
            "ETH",
            "GAB",
            "GHA",
            "GIN",
            "GMB",
            "GNB",
            "GNQ",
            "KEN",
            "LBR",
            "LBY",
            "LSO",
            "MAR",
            "MDG",
            "MLI",
            "MOZ",
            "MRT",
            "MUS",
            "MWI",
            "NAM",
            "NER",
            "NGA",
            "RWA",
            "SDN",
            "SEN",
            "SLE",
            "SOM",
            "SSD",
            "STP",
            "SWZ",
            "SYC",
            "TCD",
            "TGO",
            "TUN",
            "TZA",
            "UGA",
            "ZAF",
            "ZMB",
            "ZWE"
           ],
           "text": [
            "Angola",
            "Burundi",
            "Benin",
            "Burkina Faso",
            "Botswana",
            "Central African Republic",
            "Cote d`Ivoire",
            "Cameroon",
            "Democratic Republic of the Congo",
            "Republic of the Congo",
            "Comoros",
            "Cabo Verde",
            "Djibouti",
            "Algeria",
            "Egypt",
            "Eritrea",
            "Ethiopia",
            "Gabon",
            "Ghana",
            "Guinea",
            "The Gambia",
            "Guinea-Bissau",
            "Equatorial Guinea",
            "Kenya",
            "Liberia",
            "Libya",
            "Lesotho",
            "Morocco",
            "Madagascar",
            "Mali",
            "Mozambique",
            "Mauritania",
            "Mauritius",
            "Malawi",
            "Namibia",
            "Niger",
            "Nigeria",
            "Rwanda",
            "Sudan",
            "Senegal",
            "Sierra Leone",
            "Somalia",
            "South Sudan",
            "Sao Tome and Principe",
            "Kingdom of Eswatini",
            "Seychelles",
            "Chad",
            "Togo",
            "Tunisia",
            "Tanzania",
            "Uganda",
            "South Africa",
            "Zambia",
            "Zimbabwe"
           ],
           "type": "choropleth",
           "z": [
            0.628856018250755,
            0.77867051681983,
            0.581129413212586,
            0.319052508057146,
            0.572393169877408,
            0.4546803003003,
            0.527116761638533,
            0.596365170474113,
            0.465506904692854,
            0.709738574040219,
            0.603663774515723,
            0.563369834710744,
            0.688913888888889,
            0.699826706516422,
            0.980103893115984,
            0.395723357621629,
            0.293912152719271,
            0.765375194093798,
            0.541148889585326,
            0.397641643909383,
            0.477620008972634,
            0.380499370426189,
            0.522243644800194,
            0.805144985483971,
            0.443031257235288,
            0.798626885009378,
            0.422837742711875,
            0.682257580608779,
            0.225025196797561,
            0.342838028300464,
            0.386615159891392,
            0.42719446153052,
            0.858916530278232,
            0.357350677506775,
            0.444492614770459,
            0.179807553598113,
            0.583779179708607,
            0.659216329354099,
            0.465172794556735,
            0.533046453157737,
            0.453855421686747,
            0.393371744386874,
            0.453023025660171,
            0.735571428571429,
            0.385858378643019,
            0.781357142857143,
            0.319072810743109,
            0.608107152145644,
            0.7076270677333,
            0.372712925052047,
            0.489730079597922,
            0.731158175471419,
            0.449335199440168,
            0.386360828241684
           ]
          },
          {
           "colorbar": {
            "title": {
             "text": "Metropolitan Pop."
            },
            "x": 1.05
           },
           "colorscale": [
            [
             0,
             "rgb(255,245,235)"
            ],
            [
             0.125,
             "rgb(254,230,206)"
            ],
            [
             0.25,
             "rgb(253,208,162)"
            ],
            [
             0.375,
             "rgb(253,174,107)"
            ],
            [
             0.5,
             "rgb(253,141,60)"
            ],
            [
             0.625,
             "rgb(241,105,19)"
            ],
            [
             0.75,
             "rgb(217,72,1)"
            ],
            [
             0.875,
             "rgb(166,54,3)"
            ],
            [
             1,
             "rgb(127,39,4)"
            ]
           ],
           "locationmode": "ISO-3",
           "locations": [
            "AGO",
            "BDI",
            "BEN",
            "BFA",
            "BWA",
            "CAF",
            "CIV",
            "CMR",
            "COD",
            "COG",
            "COM",
            "CPV",
            "DJI",
            "DZA",
            "EGY",
            "ERI",
            "ETH",
            "GAB",
            "GHA",
            "GIN",
            "GMB",
            "GNB",
            "GNQ",
            "KEN",
            "LBR",
            "LBY",
            "LSO",
            "MAR",
            "MDG",
            "MLI",
            "MOZ",
            "MRT",
            "MUS",
            "MWI",
            "NAM",
            "NER",
            "NGA",
            "RWA",
            "SDN",
            "SEN",
            "SLE",
            "SOM",
            "SSD",
            "STP",
            "SWZ",
            "SYC",
            "TCD",
            "TGO",
            "TUN",
            "TZA",
            "UGA",
            "ZAF",
            "ZMB",
            "ZWE"
           ],
           "text": [
            "Angola",
            "Burundi",
            "Benin",
            "Burkina Faso",
            "Botswana",
            "Central African Republic",
            "Cote d`Ivoire",
            "Cameroon",
            "Democratic Republic of the Congo",
            "Republic of the Congo",
            "Comoros",
            "Cabo Verde",
            "Djibouti",
            "Algeria",
            "Egypt",
            "Eritrea",
            "Ethiopia",
            "Gabon",
            "Ghana",
            "Guinea",
            "The Gambia",
            "Guinea-Bissau",
            "Equatorial Guinea",
            "Kenya",
            "Liberia",
            "Libya",
            "Lesotho",
            "Morocco",
            "Madagascar",
            "Mali",
            "Mozambique",
            "Mauritania",
            "Mauritius",
            "Malawi",
            "Namibia",
            "Niger",
            "Nigeria",
            "Rwanda",
            "Sudan",
            "Senegal",
            "Sierra Leone",
            "Somalia",
            "South Sudan",
            "Sao Tome and Principe",
            "Kingdom of Eswatini",
            "Seychelles",
            "Chad",
            "Togo",
            "Tunisia",
            "Tanzania",
            "Uganda",
            "South Africa",
            "Zambia",
            "Zimbabwe"
           ],
           "type": "choropleth",
           "z": [
            0.424602262389174,
            0.206335426309609,
            0.400388526176001,
            0.567419020438591,
            0.288987766054259,
            0.509713652875836,
            0.39958501887968,
            0.518132687011729,
            0.297658690669307,
            0.795922488647085,
            0.294401487399528,
            0.764125997997307,
            0.771115833161865,
            0.155266966241769,
            0.383135667074252,
            0.343564647100882,
            0.144127200769727,
            0.585175845031157,
            0.486902148361935,
            0.51683742983007,
            0.85343527942018,
            0.721975315896071,
            0.934079432236804,
            0.230784160525782,
            0.708492267402831,
            0.419845746855346,
            0.473247039991116,
            0.278889537134267,
            0.459619587118125,
            0.509041798386685,
            0.219418685722441,
            0.627114411705297,
            0.60505565951084,
            0.351372946344063,
            0.418665701501776,
            0.287721457099946,
            0.142297298374387,
            0.359825884913414,
            0.357396967577426,
            0.435345516405613,
            0.585198949945415,
            0.50461990538905,
            0.187339147896125,
            0.806739172654362,
            0.637083136941146,
            0.999999999998694,
            0.307373624916399,
            0.578592592846023,
            0.371170682327064,
            0.260743233785809,
            0.233126344529476,
            0.381703836966197,
            0.330112012267436,
            0.574409845556952
           ]
          }
         ],
         "name": "2020"
        },
        {
         "data": [
          {
           "colorbar": {
            "title": {
             "text": "Urban Level"
            },
            "x": -0.05
           },
           "colorscale": [
            [
             0,
             "rgb(247,251,255)"
            ],
            [
             0.125,
             "rgb(222,235,247)"
            ],
            [
             0.25,
             "rgb(198,219,239)"
            ],
            [
             0.375,
             "rgb(158,202,225)"
            ],
            [
             0.5,
             "rgb(107,174,214)"
            ],
            [
             0.625,
             "rgb(66,146,198)"
            ],
            [
             0.75,
             "rgb(33,113,181)"
            ],
            [
             0.875,
             "rgb(8,81,156)"
            ],
            [
             1,
             "rgb(8,48,107)"
            ]
           ],
           "locationmode": "ISO-3",
           "locations": [
            "AGO",
            "BDI",
            "BEN",
            "BFA",
            "BWA",
            "CAF",
            "CIV",
            "CMR",
            "COD",
            "COG",
            "COM",
            "CPV",
            "DJI",
            "DZA",
            "EGY",
            "ERI",
            "ETH",
            "GAB",
            "GHA",
            "GIN",
            "GMB",
            "GNB",
            "GNQ",
            "KEN",
            "LBR",
            "LBY",
            "LSO",
            "MAR",
            "MDG",
            "MLI",
            "MOZ",
            "MRT",
            "MUS",
            "MWI",
            "NAM",
            "NER",
            "NGA",
            "RWA",
            "SDN",
            "SEN",
            "SLE",
            "SOM",
            "SSD",
            "STP",
            "SWZ",
            "SYC",
            "TCD",
            "TGO",
            "TUN",
            "TZA",
            "UGA",
            "ZAF",
            "ZMB",
            "ZWE"
           ],
           "text": [
            "Angola",
            "Burundi",
            "Benin",
            "Burkina Faso",
            "Botswana",
            "Central African Republic",
            "Cote d`Ivoire",
            "Cameroon",
            "Democratic Republic of the Congo",
            "Republic of the Congo",
            "Comoros",
            "Cabo Verde",
            "Djibouti",
            "Algeria",
            "Egypt",
            "Eritrea",
            "Ethiopia",
            "Gabon",
            "Ghana",
            "Guinea",
            "The Gambia",
            "Guinea-Bissau",
            "Equatorial Guinea",
            "Kenya",
            "Liberia",
            "Libya",
            "Lesotho",
            "Morocco",
            "Madagascar",
            "Mali",
            "Mozambique",
            "Mauritania",
            "Mauritius",
            "Malawi",
            "Namibia",
            "Niger",
            "Nigeria",
            "Rwanda",
            "Sudan",
            "Senegal",
            "Sierra Leone",
            "Somalia",
            "South Sudan",
            "Sao Tome and Principe",
            "Kingdom of Eswatini",
            "Seychelles",
            "Chad",
            "Togo",
            "Tunisia",
            "Tanzania",
            "Uganda",
            "South Africa",
            "Zambia",
            "Zimbabwe"
           ],
           "type": "choropleth",
           "z": [
            0.644370855435646,
            0.781713352455619,
            0.609881100641287,
            0.351111971306097,
            0.599499310595124,
            0.486962827940611,
            0.549072212878268,
            0.630254320230852,
            0.500135495811718,
            0.734002715999147,
            0.596484558544326,
            0.582985872841684,
            0.695580682558918,
            0.716181882809647,
            0.949493607401448,
            0.428895977584437,
            0.314078355413702,
            0.777881188794652,
            0.564693192567502,
            0.418382668333529,
            0.524772567163086,
            0.389632462305762,
            0.561574756237378,
            0.839495762435904,
            0.452343588044021,
            0.804652843695836,
            0.49895426988488,
            0.705979480568678,
            0.245749291385203,
            0.362439420338409,
            0.412430716599848,
            0.442166463462459,
            0.867806388079658,
            0.385141792428792,
            0.497499974109515,
            0.196838221372098,
            0.607760295109988,
            0.673665187137005,
            0.49454167128374,
            0.55132613428023,
            0.429189585937273,
            0.427249856240431,
            0.473466056161291,
            0.764685047960689,
            0.432050317094692,
            0.779305421031084,
            0.339405203784018,
            0.658984977753547,
            0.728347261607464,
            0.396300925284801,
            0.564557868523153,
            0.755932450125991,
            0.459384632785626,
            0.39268779669457
           ]
          },
          {
           "colorbar": {
            "title": {
             "text": "Metropolitan Pop."
            },
            "x": 1.05
           },
           "colorscale": [
            [
             0,
             "rgb(255,245,235)"
            ],
            [
             0.125,
             "rgb(254,230,206)"
            ],
            [
             0.25,
             "rgb(253,208,162)"
            ],
            [
             0.375,
             "rgb(253,174,107)"
            ],
            [
             0.5,
             "rgb(253,141,60)"
            ],
            [
             0.625,
             "rgb(241,105,19)"
            ],
            [
             0.75,
             "rgb(217,72,1)"
            ],
            [
             0.875,
             "rgb(166,54,3)"
            ],
            [
             1,
             "rgb(127,39,4)"
            ]
           ],
           "locationmode": "ISO-3",
           "locations": [
            "AGO",
            "BDI",
            "BEN",
            "BFA",
            "BWA",
            "CAF",
            "CIV",
            "CMR",
            "COD",
            "COG",
            "COM",
            "CPV",
            "DJI",
            "DZA",
            "EGY",
            "ERI",
            "ETH",
            "GAB",
            "GHA",
            "GIN",
            "GMB",
            "GNB",
            "GNQ",
            "KEN",
            "LBR",
            "LBY",
            "LSO",
            "MAR",
            "MDG",
            "MLI",
            "MOZ",
            "MRT",
            "MUS",
            "MWI",
            "NAM",
            "NER",
            "NGA",
            "RWA",
            "SDN",
            "SEN",
            "SLE",
            "SOM",
            "SSD",
            "STP",
            "SWZ",
            "SYC",
            "TCD",
            "TGO",
            "TUN",
            "TZA",
            "UGA",
            "ZAF",
            "ZMB",
            "ZWE"
           ],
           "text": [
            "Angola",
            "Burundi",
            "Benin",
            "Burkina Faso",
            "Botswana",
            "Central African Republic",
            "Cote d`Ivoire",
            "Cameroon",
            "Democratic Republic of the Congo",
            "Republic of the Congo",
            "Comoros",
            "Cabo Verde",
            "Djibouti",
            "Algeria",
            "Egypt",
            "Eritrea",
            "Ethiopia",
            "Gabon",
            "Ghana",
            "Guinea",
            "The Gambia",
            "Guinea-Bissau",
            "Equatorial Guinea",
            "Kenya",
            "Liberia",
            "Libya",
            "Lesotho",
            "Morocco",
            "Madagascar",
            "Mali",
            "Mozambique",
            "Mauritania",
            "Mauritius",
            "Malawi",
            "Namibia",
            "Niger",
            "Nigeria",
            "Rwanda",
            "Sudan",
            "Senegal",
            "Sierra Leone",
            "Somalia",
            "South Sudan",
            "Sao Tome and Principe",
            "Kingdom of Eswatini",
            "Seychelles",
            "Chad",
            "Togo",
            "Tunisia",
            "Tanzania",
            "Uganda",
            "South Africa",
            "Zambia",
            "Zimbabwe"
           ],
           "type": "choropleth",
           "z": [
            0.43619176632168,
            0.198709786666795,
            0.396791510571695,
            0.557971881798289,
            0.286640475959608,
            0.503705632017256,
            0.391149431074047,
            0.519254446292228,
            0.296244234647675,
            0.790361098278747,
            0.291265124039388,
            0.765474735021686,
            0.773309515286928,
            0.178888689558422,
            0.380437461005318,
            0.33091201079744,
            0.138378263198588,
            0.5821957429274,
            0.483867655941932,
            0.51304928578707,
            0.859981898873136,
            0.719163035850652,
            0.90906243668489,
            0.402323131953292,
            0.740949226574327,
            0.417614390847634,
            0.460248720729879,
            0.293830705573088,
            0.455931406968533,
            0.504913997293403,
            0.203070869497806,
            0.625258410335251,
            0.605843998391761,
            0.335487980904369,
            0.42091383580064,
            0.252007198980553,
            0.142485507662598,
            0.381397838176248,
            0.398208410947019,
            0.422994870644598,
            0.587029439477594,
            0.4818245367702,
            0.209125391635207,
            0.746735559611893,
            0.629026377211028,
            0.999999999998719,
            0.312457659310083,
            0.605820745423628,
            0.372243910051529,
            0.263854990315109,
            0.230552811908693,
            0.402364660317174,
            0.332246495934186,
            0.578078984536458
           ]
          }
         ],
         "name": "2025"
        },
        {
         "data": [
          {
           "colorbar": {
            "title": {
             "text": "Urban Level"
            },
            "x": -0.05
           },
           "colorscale": [
            [
             0,
             "rgb(247,251,255)"
            ],
            [
             0.125,
             "rgb(222,235,247)"
            ],
            [
             0.25,
             "rgb(198,219,239)"
            ],
            [
             0.375,
             "rgb(158,202,225)"
            ],
            [
             0.5,
             "rgb(107,174,214)"
            ],
            [
             0.625,
             "rgb(66,146,198)"
            ],
            [
             0.75,
             "rgb(33,113,181)"
            ],
            [
             0.875,
             "rgb(8,81,156)"
            ],
            [
             1,
             "rgb(8,48,107)"
            ]
           ],
           "locationmode": "ISO-3",
           "locations": [
            "AGO",
            "BDI",
            "BEN",
            "BFA",
            "BWA",
            "CAF",
            "CIV",
            "CMR",
            "COD",
            "COG",
            "COM",
            "CPV",
            "DJI",
            "DZA",
            "EGY",
            "ERI",
            "ETH",
            "GAB",
            "GHA",
            "GIN",
            "GMB",
            "GNB",
            "GNQ",
            "KEN",
            "LBR",
            "LBY",
            "LSO",
            "MAR",
            "MDG",
            "MLI",
            "MOZ",
            "MRT",
            "MUS",
            "MWI",
            "NAM",
            "NER",
            "NGA",
            "RWA",
            "SDN",
            "SEN",
            "SLE",
            "SOM",
            "SSD",
            "STP",
            "SWZ",
            "SYC",
            "TCD",
            "TGO",
            "TUN",
            "TZA",
            "UGA",
            "ZAF",
            "ZMB",
            "ZWE"
           ],
           "text": [
            "Angola",
            "Burundi",
            "Benin",
            "Burkina Faso",
            "Botswana",
            "Central African Republic",
            "Cote d`Ivoire",
            "Cameroon",
            "Democratic Republic of the Congo",
            "Republic of the Congo",
            "Comoros",
            "Cabo Verde",
            "Djibouti",
            "Algeria",
            "Egypt",
            "Eritrea",
            "Ethiopia",
            "Gabon",
            "Ghana",
            "Guinea",
            "The Gambia",
            "Guinea-Bissau",
            "Equatorial Guinea",
            "Kenya",
            "Liberia",
            "Libya",
            "Lesotho",
            "Morocco",
            "Madagascar",
            "Mali",
            "Mozambique",
            "Mauritania",
            "Mauritius",
            "Malawi",
            "Namibia",
            "Niger",
            "Nigeria",
            "Rwanda",
            "Sudan",
            "Senegal",
            "Sierra Leone",
            "Somalia",
            "South Sudan",
            "Sao Tome and Principe",
            "Kingdom of Eswatini",
            "Seychelles",
            "Chad",
            "Togo",
            "Tunisia",
            "Tanzania",
            "Uganda",
            "South Africa",
            "Zambia",
            "Zimbabwe"
           ],
           "type": "choropleth",
           "z": [
            0.661679404285424,
            0.798363827160471,
            0.628203737972548,
            0.379317777757986,
            0.625917758851249,
            0.514967834721217,
            0.575957306185188,
            0.662105836371104,
            0.53170059761707,
            0.759465227531718,
            0.619412751630883,
            0.64570139630264,
            0.702247334030822,
            0.731345436908108,
            0.950906257864613,
            0.450911430863387,
            0.332080444989694,
            0.794049499226714,
            0.584495926474965,
            0.442557078650536,
            0.5904368431501,
            0.403255251500042,
            0.604835299973007,
            0.858562335172336,
            0.459346316969797,
            0.808728082961755,
            0.572774377900243,
            0.726882254841559,
            0.265929963555669,
            0.383312545208099,
            0.435278250922249,
            0.451445380793736,
            0.876696440452429,
            0.397163131444935,
            0.54471904230685,
            0.209260935795612,
            0.630278438212668,
            0.687388000221659,
            0.518960836717076,
            0.570072828193272,
            0.453934662247325,
            0.461321477923883,
            0.492434976057357,
            0.831118792386786,
            0.454452897976436,
            0.779950457354759,
            0.363073875543375,
            0.695837906151617,
            0.735767382312277,
            0.416167964905554,
            0.609094218697624,
            0.769440645516592,
            0.471700728397123,
            0.398896697373709
           ]
          },
          {
           "colorbar": {
            "title": {
             "text": "Metropolitan Pop."
            },
            "x": 1.05
           },
           "colorscale": [
            [
             0,
             "rgb(255,245,235)"
            ],
            [
             0.125,
             "rgb(254,230,206)"
            ],
            [
             0.25,
             "rgb(253,208,162)"
            ],
            [
             0.375,
             "rgb(253,174,107)"
            ],
            [
             0.5,
             "rgb(253,141,60)"
            ],
            [
             0.625,
             "rgb(241,105,19)"
            ],
            [
             0.75,
             "rgb(217,72,1)"
            ],
            [
             0.875,
             "rgb(166,54,3)"
            ],
            [
             1,
             "rgb(127,39,4)"
            ]
           ],
           "locationmode": "ISO-3",
           "locations": [
            "AGO",
            "BDI",
            "BEN",
            "BFA",
            "BWA",
            "CAF",
            "CIV",
            "CMR",
            "COD",
            "COG",
            "COM",
            "CPV",
            "DJI",
            "DZA",
            "EGY",
            "ERI",
            "ETH",
            "GAB",
            "GHA",
            "GIN",
            "GMB",
            "GNB",
            "GNQ",
            "KEN",
            "LBR",
            "LBY",
            "LSO",
            "MAR",
            "MDG",
            "MLI",
            "MOZ",
            "MRT",
            "MUS",
            "MWI",
            "NAM",
            "NER",
            "NGA",
            "RWA",
            "SDN",
            "SEN",
            "SLE",
            "SOM",
            "SSD",
            "STP",
            "SWZ",
            "SYC",
            "TCD",
            "TGO",
            "TUN",
            "TZA",
            "UGA",
            "ZAF",
            "ZMB",
            "ZWE"
           ],
           "text": [
            "Angola",
            "Burundi",
            "Benin",
            "Burkina Faso",
            "Botswana",
            "Central African Republic",
            "Cote d`Ivoire",
            "Cameroon",
            "Democratic Republic of the Congo",
            "Republic of the Congo",
            "Comoros",
            "Cabo Verde",
            "Djibouti",
            "Algeria",
            "Egypt",
            "Eritrea",
            "Ethiopia",
            "Gabon",
            "Ghana",
            "Guinea",
            "The Gambia",
            "Guinea-Bissau",
            "Equatorial Guinea",
            "Kenya",
            "Liberia",
            "Libya",
            "Lesotho",
            "Morocco",
            "Madagascar",
            "Mali",
            "Mozambique",
            "Mauritania",
            "Mauritius",
            "Malawi",
            "Namibia",
            "Niger",
            "Nigeria",
            "Rwanda",
            "Sudan",
            "Senegal",
            "Sierra Leone",
            "Somalia",
            "South Sudan",
            "Sao Tome and Principe",
            "Kingdom of Eswatini",
            "Seychelles",
            "Chad",
            "Togo",
            "Tunisia",
            "Tanzania",
            "Uganda",
            "South Africa",
            "Zambia",
            "Zimbabwe"
           ],
           "type": "choropleth",
           "z": [
            0.435389108213414,
            0.576605473853039,
            0.38934225463289,
            0.555270165771592,
            0.284536115022517,
            0.502421035251816,
            0.379473990921099,
            0.518712025755511,
            0.294973101232605,
            0.783916833727627,
            0.28588919014291,
            0.715466043613476,
            0.775461560550171,
            0.179368467661389,
            0.37819566451368,
            0.325927311660131,
            0.134447782186435,
            0.576637844873798,
            0.493890918507777,
            0.498994829614227,
            0.870320178388553,
            0.707866890132515,
            0.888896752547333,
            0.407411330350538,
            0.760852865135316,
            0.415510036183233,
            0.451018974002884,
            0.289592346923009,
            0.459882071124495,
            0.499889531383087,
            0.188676584674524,
            0.629916668282327,
            0.606616399456637,
            0.326428049169456,
            0.425600278517136,
            0.226807182079342,
            0.162057362356942,
            0.487305756494668,
            0.417566046510853,
            0.411069925916623,
            0.593136367003761,
            0.463536407508745,
            0.229793986500104,
            0.660097837053618,
            0.636934719341333,
            0.999999999998732,
            0.313958273756723,
            0.607501242769459,
            0.373081585619145,
            0.267442562041409,
            0.237669566075239,
            0.449879539071336,
            0.32606084342907,
            0.577165258423295
           ]
          }
         ],
         "name": "2030"
        },
        {
         "data": [
          {
           "colorbar": {
            "title": {
             "text": "Urban Level"
            },
            "x": -0.05
           },
           "colorscale": [
            [
             0,
             "rgb(247,251,255)"
            ],
            [
             0.125,
             "rgb(222,235,247)"
            ],
            [
             0.25,
             "rgb(198,219,239)"
            ],
            [
             0.375,
             "rgb(158,202,225)"
            ],
            [
             0.5,
             "rgb(107,174,214)"
            ],
            [
             0.625,
             "rgb(66,146,198)"
            ],
            [
             0.75,
             "rgb(33,113,181)"
            ],
            [
             0.875,
             "rgb(8,81,156)"
            ],
            [
             1,
             "rgb(8,48,107)"
            ]
           ],
           "locationmode": "ISO-3",
           "locations": [
            "AGO",
            "BDI",
            "BEN",
            "BFA",
            "BWA",
            "CAF",
            "CIV",
            "CMR",
            "COD",
            "COG",
            "COM",
            "CPV",
            "DJI",
            "DZA",
            "EGY",
            "ERI",
            "ETH",
            "GAB",
            "GHA",
            "GIN",
            "GMB",
            "GNB",
            "GNQ",
            "KEN",
            "LBR",
            "LBY",
            "LSO",
            "MAR",
            "MDG",
            "MLI",
            "MOZ",
            "MRT",
            "MUS",
            "MWI",
            "NAM",
            "NER",
            "NGA",
            "RWA",
            "SDN",
            "SEN",
            "SLE",
            "SOM",
            "SSD",
            "STP",
            "SWZ",
            "SYC",
            "TCD",
            "TGO",
            "TUN",
            "TZA",
            "UGA",
            "ZAF",
            "ZMB",
            "ZWE"
           ],
           "text": [
            "Angola",
            "Burundi",
            "Benin",
            "Burkina Faso",
            "Botswana",
            "Central African Republic",
            "Cote d`Ivoire",
            "Cameroon",
            "Democratic Republic of the Congo",
            "Republic of the Congo",
            "Comoros",
            "Cabo Verde",
            "Djibouti",
            "Algeria",
            "Egypt",
            "Eritrea",
            "Ethiopia",
            "Gabon",
            "Ghana",
            "Guinea",
            "The Gambia",
            "Guinea-Bissau",
            "Equatorial Guinea",
            "Kenya",
            "Liberia",
            "Libya",
            "Lesotho",
            "Morocco",
            "Madagascar",
            "Mali",
            "Mozambique",
            "Mauritania",
            "Mauritius",
            "Malawi",
            "Namibia",
            "Niger",
            "Nigeria",
            "Rwanda",
            "Sudan",
            "Senegal",
            "Sierra Leone",
            "Somalia",
            "South Sudan",
            "Sao Tome and Principe",
            "Kingdom of Eswatini",
            "Seychelles",
            "Chad",
            "Togo",
            "Tunisia",
            "Tanzania",
            "Uganda",
            "South Africa",
            "Zambia",
            "Zimbabwe"
           ],
           "type": "choropleth",
           "z": [
            0.676992596206476,
            0.815914686517295,
            0.655828888505881,
            0.404945560673148,
            0.664460587798797,
            0.544295759484051,
            0.59653698177367,
            0.693168771629756,
            0.559963388510944,
            0.783245284035458,
            0.632669498560992,
            0.670544705917599,
            0.708914078996774,
            0.745535176014013,
            0.951828783175685,
            0.488899033549037,
            0.34961687619927,
            0.806097817396397,
            0.60542402429734,
            0.462744685109988,
            0.638330099275984,
            0.425294808346872,
            0.632036443110408,
            0.877467995306094,
            0.467155988795722,
            0.810028187430183,
            0.639462339549528,
            0.749041834482444,
            0.284656191414057,
            0.399058708696088,
            0.453923239428097,
            0.46305822044591,
            0.88558616916995,
            0.405775893272441,
            0.605453501436494,
            0.224594226941734,
            0.650701217861422,
            0.701110853716337,
            0.544246977611439,
            0.585656434944375,
            0.478761297937193,
            0.494723328517307,
            0.514280546337137,
            0.81550716411611,
            0.480682045559489,
            0.780605484525522,
            0.380464690078364,
            0.735888822995433,
            0.743824901476587,
            0.433694317183147,
            0.652469087994989,
            0.781960872277564,
            0.481387427405463,
            0.407519358618489
           ]
          },
          {
           "colorbar": {
            "title": {
             "text": "Metropolitan Pop."
            },
            "x": 1.05
           },
           "colorscale": [
            [
             0,
             "rgb(255,245,235)"
            ],
            [
             0.125,
             "rgb(254,230,206)"
            ],
            [
             0.25,
             "rgb(253,208,162)"
            ],
            [
             0.375,
             "rgb(253,174,107)"
            ],
            [
             0.5,
             "rgb(253,141,60)"
            ],
            [
             0.625,
             "rgb(241,105,19)"
            ],
            [
             0.75,
             "rgb(217,72,1)"
            ],
            [
             0.875,
             "rgb(166,54,3)"
            ],
            [
             1,
             "rgb(127,39,4)"
            ]
           ],
           "locationmode": "ISO-3",
           "locations": [
            "AGO",
            "BDI",
            "BEN",
            "BFA",
            "BWA",
            "CAF",
            "CIV",
            "CMR",
            "COD",
            "COG",
            "COM",
            "CPV",
            "DJI",
            "DZA",
            "EGY",
            "ERI",
            "ETH",
            "GAB",
            "GHA",
            "GIN",
            "GMB",
            "GNB",
            "GNQ",
            "KEN",
            "LBR",
            "LBY",
            "LSO",
            "MAR",
            "MDG",
            "MLI",
            "MOZ",
            "MRT",
            "MUS",
            "MWI",
            "NAM",
            "NER",
            "NGA",
            "RWA",
            "SDN",
            "SEN",
            "SLE",
            "SOM",
            "SSD",
            "STP",
            "SWZ",
            "SYC",
            "TCD",
            "TGO",
            "TUN",
            "TZA",
            "UGA",
            "ZAF",
            "ZMB",
            "ZWE"
           ],
           "text": [
            "Angola",
            "Burundi",
            "Benin",
            "Burkina Faso",
            "Botswana",
            "Central African Republic",
            "Cote d`Ivoire",
            "Cameroon",
            "Democratic Republic of the Congo",
            "Republic of the Congo",
            "Comoros",
            "Cabo Verde",
            "Djibouti",
            "Algeria",
            "Egypt",
            "Eritrea",
            "Ethiopia",
            "Gabon",
            "Ghana",
            "Guinea",
            "The Gambia",
            "Guinea-Bissau",
            "Equatorial Guinea",
            "Kenya",
            "Liberia",
            "Libya",
            "Lesotho",
            "Morocco",
            "Madagascar",
            "Mali",
            "Mozambique",
            "Mauritania",
            "Mauritius",
            "Malawi",
            "Namibia",
            "Niger",
            "Nigeria",
            "Rwanda",
            "Sudan",
            "Senegal",
            "Sierra Leone",
            "Somalia",
            "South Sudan",
            "Sao Tome and Principe",
            "Kingdom of Eswatini",
            "Seychelles",
            "Chad",
            "Togo",
            "Tunisia",
            "Tanzania",
            "Uganda",
            "South Africa",
            "Zambia",
            "Zimbabwe"
           ],
           "type": "choropleth",
           "z": [
            0.435979592028617,
            0.694281911305593,
            0.381932376484479,
            0.554058560959121,
            0.277226609346098,
            0.501792249709119,
            0.375567196798973,
            0.52021722865878,
            0.296840182550534,
            0.780024361928943,
            0.285402791382834,
            0.71227740516913,
            0.77757312676503,
            0.180546710303355,
            0.375435998595894,
            0.319408173611326,
            0.130821455467811,
            0.574222032702082,
            0.497169811703503,
            0.49973735860602,
            0.904601389645491,
            0.683635679193829,
            0.88609828152832,
            0.412970205693559,
            0.774754360017983,
            0.414843138326743,
            0.441281565553773,
            0.285026150841059,
            0.470449120936095,
            0.502309205035931,
            0.176648611994292,
            0.629793629395835,
            0.607373278307434,
            0.319551575505532,
            0.419514170408656,
            0.201748300008197,
            0.166596146091853,
            0.510514573922105,
            0.44944980969889,
            0.409214752923821,
            0.598003137423454,
            0.445219674392577,
            0.24753691023205,
            0.64526861013852,
            0.639129355426493,
            0.999999999998738,
            0.321444224104712,
            0.610717010784446,
            0.373268073671213,
            0.270878768172409,
            0.24349575772827,
            0.503355544385104,
            0.320828448363014,
            0.589893587960471
           ]
          }
         ],
         "name": "2035"
        },
        {
         "data": [
          {
           "colorbar": {
            "title": {
             "text": "Urban Level"
            },
            "x": -0.05
           },
           "colorscale": [
            [
             0,
             "rgb(247,251,255)"
            ],
            [
             0.125,
             "rgb(222,235,247)"
            ],
            [
             0.25,
             "rgb(198,219,239)"
            ],
            [
             0.375,
             "rgb(158,202,225)"
            ],
            [
             0.5,
             "rgb(107,174,214)"
            ],
            [
             0.625,
             "rgb(66,146,198)"
            ],
            [
             0.75,
             "rgb(33,113,181)"
            ],
            [
             0.875,
             "rgb(8,81,156)"
            ],
            [
             1,
             "rgb(8,48,107)"
            ]
           ],
           "locationmode": "ISO-3",
           "locations": [
            "AGO",
            "BDI",
            "BEN",
            "BFA",
            "BWA",
            "CAF",
            "CIV",
            "CMR",
            "COD",
            "COG",
            "COM",
            "CPV",
            "DJI",
            "DZA",
            "EGY",
            "ERI",
            "ETH",
            "GAB",
            "GHA",
            "GIN",
            "GMB",
            "GNB",
            "GNQ",
            "KEN",
            "LBR",
            "LBY",
            "LSO",
            "MAR",
            "MDG",
            "MLI",
            "MOZ",
            "MRT",
            "MUS",
            "MWI",
            "NAM",
            "NER",
            "NGA",
            "RWA",
            "SDN",
            "SEN",
            "SLE",
            "SOM",
            "SSD",
            "STP",
            "SWZ",
            "SYC",
            "TCD",
            "TGO",
            "TUN",
            "TZA",
            "UGA",
            "ZAF",
            "ZMB",
            "ZWE"
           ],
           "text": [
            "Angola",
            "Burundi",
            "Benin",
            "Burkina Faso",
            "Botswana",
            "Central African Republic",
            "Cote d`Ivoire",
            "Cameroon",
            "Democratic Republic of the Congo",
            "Republic of the Congo",
            "Comoros",
            "Cabo Verde",
            "Djibouti",
            "Algeria",
            "Egypt",
            "Eritrea",
            "Ethiopia",
            "Gabon",
            "Ghana",
            "Guinea",
            "The Gambia",
            "Guinea-Bissau",
            "Equatorial Guinea",
            "Kenya",
            "Liberia",
            "Libya",
            "Lesotho",
            "Morocco",
            "Madagascar",
            "Mali",
            "Mozambique",
            "Mauritania",
            "Mauritius",
            "Malawi",
            "Namibia",
            "Niger",
            "Nigeria",
            "Rwanda",
            "Sudan",
            "Senegal",
            "Sierra Leone",
            "Somalia",
            "South Sudan",
            "Sao Tome and Principe",
            "Kingdom of Eswatini",
            "Seychelles",
            "Chad",
            "Togo",
            "Tunisia",
            "Tanzania",
            "Uganda",
            "South Africa",
            "Zambia",
            "Zimbabwe"
           ],
           "type": "choropleth",
           "z": [
            0.692862916223672,
            0.825855352675321,
            0.671277672763973,
            0.430256975351561,
            0.698687749910358,
            0.567899014566513,
            0.614266592918415,
            0.723307359409259,
            0.586729155735147,
            0.805033640960618,
            0.665483354117984,
            0.695266806197216,
            0.715580662418378,
            0.758746706961051,
            0.951834237194255,
            0.526030934701774,
            0.366788534010138,
            0.820945831129942,
            0.624632217646733,
            0.483327861332272,
            0.684582059562212,
            0.442820455449219,
            0.659247756218655,
            0.895703203854999,
            0.473389800486217,
            0.816424758464748,
            0.704921670776559,
            0.770977978345862,
            0.302724829514663,
            0.417146764068191,
            0.470041157990198,
            0.470995647878033,
            0.894476676101603,
            0.4181622262848,
            0.656582969099751,
            0.239464382813779,
            0.67051155419677,
            0.714833796583249,
            0.567873638563444,
            0.604198051779309,
            0.501231467861098,
            0.526631317888701,
            0.533240582951793,
            0.799897545307481,
            0.502923131616424,
            0.78124738338797,
            0.398581340743209,
            0.776721809783349,
            0.750968205023523,
            0.446346905314141,
            0.69592431877122,
            0.793874209760846,
            0.493093586058852,
            0.414067553293858
           ]
          },
          {
           "colorbar": {
            "title": {
             "text": "Metropolitan Pop."
            },
            "x": 1.05
           },
           "colorscale": [
            [
             0,
             "rgb(255,245,235)"
            ],
            [
             0.125,
             "rgb(254,230,206)"
            ],
            [
             0.25,
             "rgb(253,208,162)"
            ],
            [
             0.375,
             "rgb(253,174,107)"
            ],
            [
             0.5,
             "rgb(253,141,60)"
            ],
            [
             0.625,
             "rgb(241,105,19)"
            ],
            [
             0.75,
             "rgb(217,72,1)"
            ],
            [
             0.875,
             "rgb(166,54,3)"
            ],
            [
             1,
             "rgb(127,39,4)"
            ]
           ],
           "locationmode": "ISO-3",
           "locations": [
            "AGO",
            "BDI",
            "BEN",
            "BFA",
            "BWA",
            "CAF",
            "CIV",
            "CMR",
            "COD",
            "COG",
            "COM",
            "CPV",
            "DJI",
            "DZA",
            "EGY",
            "ERI",
            "ETH",
            "GAB",
            "GHA",
            "GIN",
            "GMB",
            "GNB",
            "GNQ",
            "KEN",
            "LBR",
            "LBY",
            "LSO",
            "MAR",
            "MDG",
            "MLI",
            "MOZ",
            "MRT",
            "MUS",
            "MWI",
            "NAM",
            "NER",
            "NGA",
            "RWA",
            "SDN",
            "SEN",
            "SLE",
            "SOM",
            "SSD",
            "STP",
            "SWZ",
            "SYC",
            "TCD",
            "TGO",
            "TUN",
            "TZA",
            "UGA",
            "ZAF",
            "ZMB",
            "ZWE"
           ],
           "text": [
            "Angola",
            "Burundi",
            "Benin",
            "Burkina Faso",
            "Botswana",
            "Central African Republic",
            "Cote d`Ivoire",
            "Cameroon",
            "Democratic Republic of the Congo",
            "Republic of the Congo",
            "Comoros",
            "Cabo Verde",
            "Djibouti",
            "Algeria",
            "Egypt",
            "Eritrea",
            "Ethiopia",
            "Gabon",
            "Ghana",
            "Guinea",
            "The Gambia",
            "Guinea-Bissau",
            "Equatorial Guinea",
            "Kenya",
            "Liberia",
            "Libya",
            "Lesotho",
            "Morocco",
            "Madagascar",
            "Mali",
            "Mozambique",
            "Mauritania",
            "Mauritius",
            "Malawi",
            "Namibia",
            "Niger",
            "Nigeria",
            "Rwanda",
            "Sudan",
            "Senegal",
            "Sierra Leone",
            "Somalia",
            "South Sudan",
            "Sao Tome and Principe",
            "Kingdom of Eswatini",
            "Seychelles",
            "Chad",
            "Togo",
            "Tunisia",
            "Tanzania",
            "Uganda",
            "South Africa",
            "Zambia",
            "Zimbabwe"
           ],
           "type": "choropleth",
           "z": [
            0.440253066687859,
            0.794354379182589,
            0.376753952737859,
            0.554671118931325,
            0.329107778487112,
            0.503566539890075,
            0.370424893973638,
            0.52001294977865,
            0.29584865137905,
            0.777838025689609,
            0.327008262337673,
            0.709309215843604,
            0.77964535904238,
            0.181158853683015,
            0.375152364060913,
            0.306678744643426,
            0.127657253574426,
            0.569926895557241,
            0.492347572829992,
            0.492487407285473,
            0.90243496051145,
            0.669174975678687,
            0.883208597509734,
            0.415091793158754,
            0.818241418031252,
            0.411592873961711,
            0.452509201260632,
            0.280750195461745,
            0.472293792568399,
            0.500618520244417,
            0.173185977693957,
            0.633300380368458,
            0.608115121417455,
            0.308882935420817,
            0.420217041642116,
            0.181291412770236,
            0.176259839369182,
            0.527397980618302,
            0.47488751777966,
            0.402005743469242,
            0.602206659037996,
            0.429823984238605,
            0.265529646137511,
            0.629860558436769,
            0.671665527509712,
            0.999999999998736,
            0.326527496144425,
            0.613772650924964,
            0.373652054860443,
            0.279187010014435,
            0.288374814993193,
            0.50914845084495,
            0.314759286719634,
            0.58445324587171
           ]
          }
         ],
         "name": "2040"
        },
        {
         "data": [
          {
           "colorbar": {
            "title": {
             "text": "Urban Level"
            },
            "x": -0.05
           },
           "colorscale": [
            [
             0,
             "rgb(247,251,255)"
            ],
            [
             0.125,
             "rgb(222,235,247)"
            ],
            [
             0.25,
             "rgb(198,219,239)"
            ],
            [
             0.375,
             "rgb(158,202,225)"
            ],
            [
             0.5,
             "rgb(107,174,214)"
            ],
            [
             0.625,
             "rgb(66,146,198)"
            ],
            [
             0.75,
             "rgb(33,113,181)"
            ],
            [
             0.875,
             "rgb(8,81,156)"
            ],
            [
             1,
             "rgb(8,48,107)"
            ]
           ],
           "locationmode": "ISO-3",
           "locations": [
            "AGO",
            "BDI",
            "BEN",
            "BFA",
            "BWA",
            "CAF",
            "CIV",
            "CMR",
            "COD",
            "COG",
            "COM",
            "CPV",
            "DJI",
            "DZA",
            "EGY",
            "ERI",
            "ETH",
            "GAB",
            "GHA",
            "GIN",
            "GMB",
            "GNB",
            "GNQ",
            "KEN",
            "LBR",
            "LBY",
            "LSO",
            "MAR",
            "MDG",
            "MLI",
            "MOZ",
            "MRT",
            "MUS",
            "MWI",
            "NAM",
            "NER",
            "NGA",
            "RWA",
            "SDN",
            "SEN",
            "SLE",
            "SOM",
            "SSD",
            "STP",
            "SWZ",
            "SYC",
            "TCD",
            "TGO",
            "TUN",
            "TZA",
            "UGA",
            "ZAF",
            "ZMB",
            "ZWE"
           ],
           "text": [
            "Angola",
            "Burundi",
            "Benin",
            "Burkina Faso",
            "Botswana",
            "Central African Republic",
            "Cote d`Ivoire",
            "Cameroon",
            "Democratic Republic of the Congo",
            "Republic of the Congo",
            "Comoros",
            "Cabo Verde",
            "Djibouti",
            "Algeria",
            "Egypt",
            "Eritrea",
            "Ethiopia",
            "Gabon",
            "Ghana",
            "Guinea",
            "The Gambia",
            "Guinea-Bissau",
            "Equatorial Guinea",
            "Kenya",
            "Liberia",
            "Libya",
            "Lesotho",
            "Morocco",
            "Madagascar",
            "Mali",
            "Mozambique",
            "Mauritania",
            "Mauritius",
            "Malawi",
            "Namibia",
            "Niger",
            "Nigeria",
            "Rwanda",
            "Sudan",
            "Senegal",
            "Sierra Leone",
            "Somalia",
            "South Sudan",
            "Sao Tome and Principe",
            "Kingdom of Eswatini",
            "Seychelles",
            "Chad",
            "Togo",
            "Tunisia",
            "Tanzania",
            "Uganda",
            "South Africa",
            "Zambia",
            "Zimbabwe"
           ],
           "type": "choropleth",
           "z": [
            0.707449923512679,
            0.83583328250577,
            0.686164566892368,
            0.454318172641814,
            0.7268521601258,
            0.591681062161703,
            0.630842569654962,
            0.753574820383627,
            0.613097534023874,
            0.829060134890483,
            0.70715672453622,
            0.719840141513473,
            0.722247499157193,
            0.772308179509057,
            0.952367726818959,
            0.557907045386541,
            0.383253796529783,
            0.832455676402386,
            0.641455528175606,
            0.502739143965234,
            0.724440318323667,
            0.461200700495388,
            0.693353774220877,
            0.91284425273559,
            0.479335958856169,
            0.817692244663648,
            0.769849247209636,
            0.792148907370809,
            0.320466030538494,
            0.432071540383202,
            0.484337614215948,
            0.477142218825786,
            0.885245614991235,
            0.428620937783104,
            0.706140311641195,
            0.251526766069932,
            0.689928144791808,
            0.729090174377548,
            0.589638099469441,
            0.619623762204839,
            0.523438913792642,
            0.558537277513618,
            0.555461343593545,
            0.78428698138603,
            0.525164337306498,
            0.781897778929739,
            0.414561346952236,
            0.819782080311846,
            0.760415268162845,
            0.459764420938276,
            0.737983760601186,
            0.805344677657814,
            0.504144214629367,
            0.42001904456232
           ]
          },
          {
           "colorbar": {
            "title": {
             "text": "Metropolitan Pop."
            },
            "x": 1.05
           },
           "colorscale": [
            [
             0,
             "rgb(255,245,235)"
            ],
            [
             0.125,
             "rgb(254,230,206)"
            ],
            [
             0.25,
             "rgb(253,208,162)"
            ],
            [
             0.375,
             "rgb(253,174,107)"
            ],
            [
             0.5,
             "rgb(253,141,60)"
            ],
            [
             0.625,
             "rgb(241,105,19)"
            ],
            [
             0.75,
             "rgb(217,72,1)"
            ],
            [
             0.875,
             "rgb(166,54,3)"
            ],
            [
             1,
             "rgb(127,39,4)"
            ]
           ],
           "locationmode": "ISO-3",
           "locations": [
            "AGO",
            "BDI",
            "BEN",
            "BFA",
            "BWA",
            "CAF",
            "CIV",
            "CMR",
            "COD",
            "COG",
            "COM",
            "CPV",
            "DJI",
            "DZA",
            "EGY",
            "ERI",
            "ETH",
            "GAB",
            "GHA",
            "GIN",
            "GMB",
            "GNB",
            "GNQ",
            "KEN",
            "LBR",
            "LBY",
            "LSO",
            "MAR",
            "MDG",
            "MLI",
            "MOZ",
            "MRT",
            "MUS",
            "MWI",
            "NAM",
            "NER",
            "NGA",
            "RWA",
            "SDN",
            "SEN",
            "SLE",
            "SOM",
            "SSD",
            "STP",
            "SWZ",
            "SYC",
            "TCD",
            "TGO",
            "TUN",
            "TZA",
            "UGA",
            "ZAF",
            "ZMB",
            "ZWE"
           ],
           "text": [
            "Angola",
            "Burundi",
            "Benin",
            "Burkina Faso",
            "Botswana",
            "Central African Republic",
            "Cote d`Ivoire",
            "Cameroon",
            "Democratic Republic of the Congo",
            "Republic of the Congo",
            "Comoros",
            "Cabo Verde",
            "Djibouti",
            "Algeria",
            "Egypt",
            "Eritrea",
            "Ethiopia",
            "Gabon",
            "Ghana",
            "Guinea",
            "The Gambia",
            "Guinea-Bissau",
            "Equatorial Guinea",
            "Kenya",
            "Liberia",
            "Libya",
            "Lesotho",
            "Morocco",
            "Madagascar",
            "Mali",
            "Mozambique",
            "Mauritania",
            "Mauritius",
            "Malawi",
            "Namibia",
            "Niger",
            "Nigeria",
            "Rwanda",
            "Sudan",
            "Senegal",
            "Sierra Leone",
            "Somalia",
            "South Sudan",
            "Sao Tome and Principe",
            "Kingdom of Eswatini",
            "Seychelles",
            "Chad",
            "Togo",
            "Tunisia",
            "Tanzania",
            "Uganda",
            "South Africa",
            "Zambia",
            "Zimbabwe"
           ],
           "type": "choropleth",
           "z": [
            0.440870093983362,
            0.86575980196601,
            0.375761720449019,
            0.556494404683488,
            0.328892230428721,
            0.5044540837684,
            0.379886919328029,
            0.519403490313631,
            0.296517314127297,
            0.780052414185649,
            0.309219636935557,
            0.706203909476137,
            0.781679318588546,
            0.181991758585341,
            0.374411318373833,
            0.303882078206819,
            0.126963372908623,
            0.568053211050437,
            0.49980189472099,
            0.529357663543021,
            0.907444414849203,
            0.658340964621557,
            0.875149814876713,
            0.419814538558192,
            0.828987376106029,
            0.410954869989345,
            0.486008076531335,
            0.280782937056656,
            0.477729292898709,
            0.501296587731148,
            0.167742977243307,
            0.637980711032352,
            0.62130535261106,
            0.301626137632959,
            0.421436318405925,
            0.164906617304455,
            0.176581195218357,
            0.593867415283371,
            0.487902056045431,
            0.395410070772139,
            0.605693721440129,
            0.415792731694098,
            0.280372353682436,
            0.613839128601815,
            0.675709808700153,
            0.999999999998725,
            0.333465582799411,
            0.615275442357692,
            0.372716054535807,
            0.288285165077998,
            0.295146715410692,
            0.516177625104148,
            0.318177026887991,
            0.580199587993181
           ]
          }
         ],
         "name": "2045"
        },
        {
         "data": [
          {
           "colorbar": {
            "title": {
             "text": "Urban Level"
            },
            "x": -0.05
           },
           "colorscale": [
            [
             0,
             "rgb(247,251,255)"
            ],
            [
             0.125,
             "rgb(222,235,247)"
            ],
            [
             0.25,
             "rgb(198,219,239)"
            ],
            [
             0.375,
             "rgb(158,202,225)"
            ],
            [
             0.5,
             "rgb(107,174,214)"
            ],
            [
             0.625,
             "rgb(66,146,198)"
            ],
            [
             0.75,
             "rgb(33,113,181)"
            ],
            [
             0.875,
             "rgb(8,81,156)"
            ],
            [
             1,
             "rgb(8,48,107)"
            ]
           ],
           "locationmode": "ISO-3",
           "locations": [
            "AGO",
            "BDI",
            "BEN",
            "BFA",
            "BWA",
            "CAF",
            "CIV",
            "CMR",
            "COD",
            "COG",
            "COM",
            "CPV",
            "DJI",
            "DZA",
            "EGY",
            "ERI",
            "ETH",
            "GAB",
            "GHA",
            "GIN",
            "GMB",
            "GNB",
            "GNQ",
            "KEN",
            "LBR",
            "LBY",
            "LSO",
            "MAR",
            "MDG",
            "MLI",
            "MOZ",
            "MRT",
            "MUS",
            "MWI",
            "NAM",
            "NER",
            "NGA",
            "RWA",
            "SDN",
            "SEN",
            "SLE",
            "SOM",
            "SSD",
            "STP",
            "SWZ",
            "SYC",
            "TCD",
            "TGO",
            "TUN",
            "TZA",
            "UGA",
            "ZAF",
            "ZMB",
            "ZWE"
           ],
           "text": [
            "Angola",
            "Burundi",
            "Benin",
            "Burkina Faso",
            "Botswana",
            "Central African Republic",
            "Cote d`Ivoire",
            "Cameroon",
            "Democratic Republic of the Congo",
            "Republic of the Congo",
            "Comoros",
            "Cabo Verde",
            "Djibouti",
            "Algeria",
            "Egypt",
            "Eritrea",
            "Ethiopia",
            "Gabon",
            "Ghana",
            "Guinea",
            "The Gambia",
            "Guinea-Bissau",
            "Equatorial Guinea",
            "Kenya",
            "Liberia",
            "Libya",
            "Lesotho",
            "Morocco",
            "Madagascar",
            "Mali",
            "Mozambique",
            "Mauritania",
            "Mauritius",
            "Malawi",
            "Namibia",
            "Niger",
            "Nigeria",
            "Rwanda",
            "Sudan",
            "Senegal",
            "Sierra Leone",
            "Somalia",
            "South Sudan",
            "Sao Tome and Principe",
            "Kingdom of Eswatini",
            "Seychelles",
            "Chad",
            "Togo",
            "Tunisia",
            "Tanzania",
            "Uganda",
            "South Africa",
            "Zambia",
            "Zimbabwe"
           ],
           "type": "choropleth",
           "z": [
            0.722242576525213,
            0.842869054546302,
            0.69184977954794,
            0.477127224160847,
            0.755918118525627,
            0.614890794378298,
            0.647433871852758,
            0.783115523582741,
            0.637643188447266,
            0.848963689671073,
            0.758648190241032,
            0.744194274984853,
            0.728913692458911,
            0.784682750196336,
            0.952443455344661,
            0.584988766659445,
            0.399598094903978,
            0.840788813115045,
            0.655825906601691,
            0.52156502977622,
            0.761773579698635,
            0.470866596244699,
            0.720839066301805,
            0.929561440424778,
            0.484979721532725,
            0.817692242278285,
            0.838024831182152,
            0.813040812543481,
            0.337733118746242,
            0.443787507376104,
            0.497573536393438,
            0.488563694239487,
            0.884714219414478,
            0.434207424401356,
            0.754233621490596,
            0.261848309406698,
            0.708086952291688,
            0.742829977543314,
            0.6110623517539,
            0.636337987699345,
            0.545362760501914,
            0.589994480921814,
            0.577065614451175,
            0.768675981562983,
            0.547353187084191,
            0.782549818978369,
            0.431315803982569,
            0.850312199577207,
            0.767378455473182,
            0.469502383458907,
            0.777940862803996,
            0.816301536442044,
            0.514581097533771,
            0.425975785394084
           ]
          },
          {
           "colorbar": {
            "title": {
             "text": "Metropolitan Pop."
            },
            "x": 1.05
           },
           "colorscale": [
            [
             0,
             "rgb(255,245,235)"
            ],
            [
             0.125,
             "rgb(254,230,206)"
            ],
            [
             0.25,
             "rgb(253,208,162)"
            ],
            [
             0.375,
             "rgb(253,174,107)"
            ],
            [
             0.5,
             "rgb(253,141,60)"
            ],
            [
             0.625,
             "rgb(241,105,19)"
            ],
            [
             0.75,
             "rgb(217,72,1)"
            ],
            [
             0.875,
             "rgb(166,54,3)"
            ],
            [
             1,
             "rgb(127,39,4)"
            ]
           ],
           "locationmode": "ISO-3",
           "locations": [
            "AGO",
            "BDI",
            "BEN",
            "BFA",
            "BWA",
            "CAF",
            "CIV",
            "CMR",
            "COD",
            "COG",
            "COM",
            "CPV",
            "DJI",
            "DZA",
            "EGY",
            "ERI",
            "ETH",
            "GAB",
            "GHA",
            "GIN",
            "GMB",
            "GNB",
            "GNQ",
            "KEN",
            "LBR",
            "LBY",
            "LSO",
            "MAR",
            "MDG",
            "MLI",
            "MOZ",
            "MRT",
            "MUS",
            "MWI",
            "NAM",
            "NER",
            "NGA",
            "RWA",
            "SDN",
            "SEN",
            "SLE",
            "SOM",
            "SSD",
            "STP",
            "SWZ",
            "SYC",
            "TCD",
            "TGO",
            "TUN",
            "TZA",
            "UGA",
            "ZAF",
            "ZMB",
            "ZWE"
           ],
           "text": [
            "Angola",
            "Burundi",
            "Benin",
            "Burkina Faso",
            "Botswana",
            "Central African Republic",
            "Cote d`Ivoire",
            "Cameroon",
            "Democratic Republic of the Congo",
            "Republic of the Congo",
            "Comoros",
            "Cabo Verde",
            "Djibouti",
            "Algeria",
            "Egypt",
            "Eritrea",
            "Ethiopia",
            "Gabon",
            "Ghana",
            "Guinea",
            "The Gambia",
            "Guinea-Bissau",
            "Equatorial Guinea",
            "Kenya",
            "Liberia",
            "Libya",
            "Lesotho",
            "Morocco",
            "Madagascar",
            "Mali",
            "Mozambique",
            "Mauritania",
            "Mauritius",
            "Malawi",
            "Namibia",
            "Niger",
            "Nigeria",
            "Rwanda",
            "Sudan",
            "Senegal",
            "Sierra Leone",
            "Somalia",
            "South Sudan",
            "Sao Tome and Principe",
            "Kingdom of Eswatini",
            "Seychelles",
            "Chad",
            "Togo",
            "Tunisia",
            "Tanzania",
            "Uganda",
            "South Africa",
            "Zambia",
            "Zimbabwe"
           ],
           "type": "choropleth",
           "z": [
            0.441336494421609,
            0.969931875490818,
            0.374362766729575,
            0.556371006383984,
            0.327322796145821,
            0.505242340361634,
            0.379319975224817,
            0.519014399250441,
            0.295176239221601,
            0.780361011863652,
            0.289260404892471,
            0.703089329539013,
            0.783676098038703,
            0.183740193741126,
            0.378802872702818,
            0.29879619956658,
            0.129356531781319,
            0.568369847203211,
            0.499867058991113,
            0.528415039816351,
            0.912599843028771,
            0.654540758230749,
            0.8723284638785,
            0.0780712788097952,
            0.837672281667994,
            0.410954869462726,
            0.480955402802111,
            0.27734561986592,
            0.481845307776211,
            0.50530081160503,
            0.159259317982134,
            0.634601930307094,
            0.628531709552754,
            0.305212900076269,
            0.42299396183154,
            0.150243193257562,
            0.179664363589331,
            0.672657894058545,
            0.500543501930944,
            0.387561379144606,
            0.608525006407844,
            0.406369737068267,
            0.294387370283884,
            0.59716698916804,
            0.679244122922506,
            0.999999999998704,
            0.33842478232535,
            0.624432323184555,
            0.372808130808837,
            0.294276829869371,
            0.307730947281277,
            0.517995120193102,
            0.313146790461864,
            0.577461914204879
           ]
          }
         ],
         "name": "2050"
        }
       ],
       "layout": {
        "annotations": [
         {
          "font": {
           "size": 16
          },
          "showarrow": false,
          "text": "Urbanization Level",
          "x": 0.225,
          "xanchor": "center",
          "xref": "paper",
          "y": 1,
          "yanchor": "bottom",
          "yref": "paper"
         },
         {
          "font": {
           "size": 16
          },
          "showarrow": false,
          "text": "Metropolitan Population",
          "x": 0.775,
          "xanchor": "center",
          "xref": "paper",
          "y": 1,
          "yanchor": "bottom",
          "yref": "paper"
         }
        ],
        "geo": {
         "domain": {
          "x": [
           0,
           0.45
          ],
          "y": [
           0,
           1
          ]
         },
         "scope": "africa"
        },
        "geo2": {
         "domain": {
          "x": [
           0.55,
           1
          ],
          "y": [
           0,
           1
          ]
         },
         "scope": "africa"
        },
        "sliders": [
         {
          "active": 0,
          "currentvalue": {
           "font": {
            "size": 20
           },
           "prefix": "Year: "
          },
          "len": 0.9,
          "pad": {
           "b": 10,
           "t": 50
          },
          "steps": [
           {
            "args": [
             [
              "1950"
             ],
             {
              "frame": {
               "duration": 300,
               "redraw": true
              },
              "mode": "immediate"
             }
            ],
            "label": "1950",
            "method": "animate"
           },
           {
            "args": [
             [
              "1960"
             ],
             {
              "frame": {
               "duration": 300,
               "redraw": true
              },
              "mode": "immediate"
             }
            ],
            "label": "1960",
            "method": "animate"
           },
           {
            "args": [
             [
              "1970"
             ],
             {
              "frame": {
               "duration": 300,
               "redraw": true
              },
              "mode": "immediate"
             }
            ],
            "label": "1970",
            "method": "animate"
           },
           {
            "args": [
             [
              "1980"
             ],
             {
              "frame": {
               "duration": 300,
               "redraw": true
              },
              "mode": "immediate"
             }
            ],
            "label": "1980",
            "method": "animate"
           },
           {
            "args": [
             [
              "1990"
             ],
             {
              "frame": {
               "duration": 300,
               "redraw": true
              },
              "mode": "immediate"
             }
            ],
            "label": "1990",
            "method": "animate"
           },
           {
            "args": [
             [
              "2000"
             ],
             {
              "frame": {
               "duration": 300,
               "redraw": true
              },
              "mode": "immediate"
             }
            ],
            "label": "2000",
            "method": "animate"
           },
           {
            "args": [
             [
              "2010"
             ],
             {
              "frame": {
               "duration": 300,
               "redraw": true
              },
              "mode": "immediate"
             }
            ],
            "label": "2010",
            "method": "animate"
           },
           {
            "args": [
             [
              "2015"
             ],
             {
              "frame": {
               "duration": 300,
               "redraw": true
              },
              "mode": "immediate"
             }
            ],
            "label": "2015",
            "method": "animate"
           },
           {
            "args": [
             [
              "2020"
             ],
             {
              "frame": {
               "duration": 300,
               "redraw": true
              },
              "mode": "immediate"
             }
            ],
            "label": "2020",
            "method": "animate"
           },
           {
            "args": [
             [
              "2025"
             ],
             {
              "frame": {
               "duration": 300,
               "redraw": true
              },
              "mode": "immediate"
             }
            ],
            "label": "2025",
            "method": "animate"
           },
           {
            "args": [
             [
              "2030"
             ],
             {
              "frame": {
               "duration": 300,
               "redraw": true
              },
              "mode": "immediate"
             }
            ],
            "label": "2030",
            "method": "animate"
           },
           {
            "args": [
             [
              "2035"
             ],
             {
              "frame": {
               "duration": 300,
               "redraw": true
              },
              "mode": "immediate"
             }
            ],
            "label": "2035",
            "method": "animate"
           },
           {
            "args": [
             [
              "2040"
             ],
             {
              "frame": {
               "duration": 300,
               "redraw": true
              },
              "mode": "immediate"
             }
            ],
            "label": "2040",
            "method": "animate"
           },
           {
            "args": [
             [
              "2045"
             ],
             {
              "frame": {
               "duration": 300,
               "redraw": true
              },
              "mode": "immediate"
             }
            ],
            "label": "2045",
            "method": "animate"
           },
           {
            "args": [
             [
              "2050"
             ],
             {
              "frame": {
               "duration": 300,
               "redraw": true
              },
              "mode": "immediate"
             }
            ],
            "label": "2050",
            "method": "animate"
           }
          ],
          "transition": {
           "duration": 300
          },
          "x": 0.1,
          "xanchor": "left",
          "y": 0,
          "yanchor": "top"
         }
        ],
        "template": {
         "data": {
          "bar": [
           {
            "error_x": {
             "color": "#2a3f5f"
            },
            "error_y": {
             "color": "#2a3f5f"
            },
            "marker": {
             "line": {
              "color": "#E5ECF6",
              "width": 0.5
             },
             "pattern": {
              "fillmode": "overlay",
              "size": 10,
              "solidity": 0.2
             }
            },
            "type": "bar"
           }
          ],
          "barpolar": [
           {
            "marker": {
             "line": {
              "color": "#E5ECF6",
              "width": 0.5
             },
             "pattern": {
              "fillmode": "overlay",
              "size": 10,
              "solidity": 0.2
             }
            },
            "type": "barpolar"
           }
          ],
          "carpet": [
           {
            "aaxis": {
             "endlinecolor": "#2a3f5f",
             "gridcolor": "white",
             "linecolor": "white",
             "minorgridcolor": "white",
             "startlinecolor": "#2a3f5f"
            },
            "baxis": {
             "endlinecolor": "#2a3f5f",
             "gridcolor": "white",
             "linecolor": "white",
             "minorgridcolor": "white",
             "startlinecolor": "#2a3f5f"
            },
            "type": "carpet"
           }
          ],
          "choropleth": [
           {
            "colorbar": {
             "outlinewidth": 0,
             "ticks": ""
            },
            "type": "choropleth"
           }
          ],
          "contour": [
           {
            "colorbar": {
             "outlinewidth": 0,
             "ticks": ""
            },
            "colorscale": [
             [
              0,
              "#0d0887"
             ],
             [
              0.1111111111111111,
              "#46039f"
             ],
             [
              0.2222222222222222,
              "#7201a8"
             ],
             [
              0.3333333333333333,
              "#9c179e"
             ],
             [
              0.4444444444444444,
              "#bd3786"
             ],
             [
              0.5555555555555556,
              "#d8576b"
             ],
             [
              0.6666666666666666,
              "#ed7953"
             ],
             [
              0.7777777777777778,
              "#fb9f3a"
             ],
             [
              0.8888888888888888,
              "#fdca26"
             ],
             [
              1,
              "#f0f921"
             ]
            ],
            "type": "contour"
           }
          ],
          "contourcarpet": [
           {
            "colorbar": {
             "outlinewidth": 0,
             "ticks": ""
            },
            "type": "contourcarpet"
           }
          ],
          "heatmap": [
           {
            "colorbar": {
             "outlinewidth": 0,
             "ticks": ""
            },
            "colorscale": [
             [
              0,
              "#0d0887"
             ],
             [
              0.1111111111111111,
              "#46039f"
             ],
             [
              0.2222222222222222,
              "#7201a8"
             ],
             [
              0.3333333333333333,
              "#9c179e"
             ],
             [
              0.4444444444444444,
              "#bd3786"
             ],
             [
              0.5555555555555556,
              "#d8576b"
             ],
             [
              0.6666666666666666,
              "#ed7953"
             ],
             [
              0.7777777777777778,
              "#fb9f3a"
             ],
             [
              0.8888888888888888,
              "#fdca26"
             ],
             [
              1,
              "#f0f921"
             ]
            ],
            "type": "heatmap"
           }
          ],
          "heatmapgl": [
           {
            "colorbar": {
             "outlinewidth": 0,
             "ticks": ""
            },
            "colorscale": [
             [
              0,
              "#0d0887"
             ],
             [
              0.1111111111111111,
              "#46039f"
             ],
             [
              0.2222222222222222,
              "#7201a8"
             ],
             [
              0.3333333333333333,
              "#9c179e"
             ],
             [
              0.4444444444444444,
              "#bd3786"
             ],
             [
              0.5555555555555556,
              "#d8576b"
             ],
             [
              0.6666666666666666,
              "#ed7953"
             ],
             [
              0.7777777777777778,
              "#fb9f3a"
             ],
             [
              0.8888888888888888,
              "#fdca26"
             ],
             [
              1,
              "#f0f921"
             ]
            ],
            "type": "heatmapgl"
           }
          ],
          "histogram": [
           {
            "marker": {
             "pattern": {
              "fillmode": "overlay",
              "size": 10,
              "solidity": 0.2
             }
            },
            "type": "histogram"
           }
          ],
          "histogram2d": [
           {
            "colorbar": {
             "outlinewidth": 0,
             "ticks": ""
            },
            "colorscale": [
             [
              0,
              "#0d0887"
             ],
             [
              0.1111111111111111,
              "#46039f"
             ],
             [
              0.2222222222222222,
              "#7201a8"
             ],
             [
              0.3333333333333333,
              "#9c179e"
             ],
             [
              0.4444444444444444,
              "#bd3786"
             ],
             [
              0.5555555555555556,
              "#d8576b"
             ],
             [
              0.6666666666666666,
              "#ed7953"
             ],
             [
              0.7777777777777778,
              "#fb9f3a"
             ],
             [
              0.8888888888888888,
              "#fdca26"
             ],
             [
              1,
              "#f0f921"
             ]
            ],
            "type": "histogram2d"
           }
          ],
          "histogram2dcontour": [
           {
            "colorbar": {
             "outlinewidth": 0,
             "ticks": ""
            },
            "colorscale": [
             [
              0,
              "#0d0887"
             ],
             [
              0.1111111111111111,
              "#46039f"
             ],
             [
              0.2222222222222222,
              "#7201a8"
             ],
             [
              0.3333333333333333,
              "#9c179e"
             ],
             [
              0.4444444444444444,
              "#bd3786"
             ],
             [
              0.5555555555555556,
              "#d8576b"
             ],
             [
              0.6666666666666666,
              "#ed7953"
             ],
             [
              0.7777777777777778,
              "#fb9f3a"
             ],
             [
              0.8888888888888888,
              "#fdca26"
             ],
             [
              1,
              "#f0f921"
             ]
            ],
            "type": "histogram2dcontour"
           }
          ],
          "mesh3d": [
           {
            "colorbar": {
             "outlinewidth": 0,
             "ticks": ""
            },
            "type": "mesh3d"
           }
          ],
          "parcoords": [
           {
            "line": {
             "colorbar": {
              "outlinewidth": 0,
              "ticks": ""
             }
            },
            "type": "parcoords"
           }
          ],
          "pie": [
           {
            "automargin": true,
            "type": "pie"
           }
          ],
          "scatter": [
           {
            "fillpattern": {
             "fillmode": "overlay",
             "size": 10,
             "solidity": 0.2
            },
            "type": "scatter"
           }
          ],
          "scatter3d": [
           {
            "line": {
             "colorbar": {
              "outlinewidth": 0,
              "ticks": ""
             }
            },
            "marker": {
             "colorbar": {
              "outlinewidth": 0,
              "ticks": ""
             }
            },
            "type": "scatter3d"
           }
          ],
          "scattercarpet": [
           {
            "marker": {
             "colorbar": {
              "outlinewidth": 0,
              "ticks": ""
             }
            },
            "type": "scattercarpet"
           }
          ],
          "scattergeo": [
           {
            "marker": {
             "colorbar": {
              "outlinewidth": 0,
              "ticks": ""
             }
            },
            "type": "scattergeo"
           }
          ],
          "scattergl": [
           {
            "marker": {
             "colorbar": {
              "outlinewidth": 0,
              "ticks": ""
             }
            },
            "type": "scattergl"
           }
          ],
          "scattermapbox": [
           {
            "marker": {
             "colorbar": {
              "outlinewidth": 0,
              "ticks": ""
             }
            },
            "type": "scattermapbox"
           }
          ],
          "scatterpolar": [
           {
            "marker": {
             "colorbar": {
              "outlinewidth": 0,
              "ticks": ""
             }
            },
            "type": "scatterpolar"
           }
          ],
          "scatterpolargl": [
           {
            "marker": {
             "colorbar": {
              "outlinewidth": 0,
              "ticks": ""
             }
            },
            "type": "scatterpolargl"
           }
          ],
          "scatterternary": [
           {
            "marker": {
             "colorbar": {
              "outlinewidth": 0,
              "ticks": ""
             }
            },
            "type": "scatterternary"
           }
          ],
          "surface": [
           {
            "colorbar": {
             "outlinewidth": 0,
             "ticks": ""
            },
            "colorscale": [
             [
              0,
              "#0d0887"
             ],
             [
              0.1111111111111111,
              "#46039f"
             ],
             [
              0.2222222222222222,
              "#7201a8"
             ],
             [
              0.3333333333333333,
              "#9c179e"
             ],
             [
              0.4444444444444444,
              "#bd3786"
             ],
             [
              0.5555555555555556,
              "#d8576b"
             ],
             [
              0.6666666666666666,
              "#ed7953"
             ],
             [
              0.7777777777777778,
              "#fb9f3a"
             ],
             [
              0.8888888888888888,
              "#fdca26"
             ],
             [
              1,
              "#f0f921"
             ]
            ],
            "type": "surface"
           }
          ],
          "table": [
           {
            "cells": {
             "fill": {
              "color": "#EBF0F8"
             },
             "line": {
              "color": "white"
             }
            },
            "header": {
             "fill": {
              "color": "#C8D4E3"
             },
             "line": {
              "color": "white"
             }
            },
            "type": "table"
           }
          ]
         },
         "layout": {
          "annotationdefaults": {
           "arrowcolor": "#2a3f5f",
           "arrowhead": 0,
           "arrowwidth": 1
          },
          "autotypenumbers": "strict",
          "coloraxis": {
           "colorbar": {
            "outlinewidth": 0,
            "ticks": ""
           }
          },
          "colorscale": {
           "diverging": [
            [
             0,
             "#8e0152"
            ],
            [
             0.1,
             "#c51b7d"
            ],
            [
             0.2,
             "#de77ae"
            ],
            [
             0.3,
             "#f1b6da"
            ],
            [
             0.4,
             "#fde0ef"
            ],
            [
             0.5,
             "#f7f7f7"
            ],
            [
             0.6,
             "#e6f5d0"
            ],
            [
             0.7,
             "#b8e186"
            ],
            [
             0.8,
             "#7fbc41"
            ],
            [
             0.9,
             "#4d9221"
            ],
            [
             1,
             "#276419"
            ]
           ],
           "sequential": [
            [
             0,
             "#0d0887"
            ],
            [
             0.1111111111111111,
             "#46039f"
            ],
            [
             0.2222222222222222,
             "#7201a8"
            ],
            [
             0.3333333333333333,
             "#9c179e"
            ],
            [
             0.4444444444444444,
             "#bd3786"
            ],
            [
             0.5555555555555556,
             "#d8576b"
            ],
            [
             0.6666666666666666,
             "#ed7953"
            ],
            [
             0.7777777777777778,
             "#fb9f3a"
            ],
            [
             0.8888888888888888,
             "#fdca26"
            ],
            [
             1,
             "#f0f921"
            ]
           ],
           "sequentialminus": [
            [
             0,
             "#0d0887"
            ],
            [
             0.1111111111111111,
             "#46039f"
            ],
            [
             0.2222222222222222,
             "#7201a8"
            ],
            [
             0.3333333333333333,
             "#9c179e"
            ],
            [
             0.4444444444444444,
             "#bd3786"
            ],
            [
             0.5555555555555556,
             "#d8576b"
            ],
            [
             0.6666666666666666,
             "#ed7953"
            ],
            [
             0.7777777777777778,
             "#fb9f3a"
            ],
            [
             0.8888888888888888,
             "#fdca26"
            ],
            [
             1,
             "#f0f921"
            ]
           ]
          },
          "colorway": [
           "#636efa",
           "#EF553B",
           "#00cc96",
           "#ab63fa",
           "#FFA15A",
           "#19d3f3",
           "#FF6692",
           "#B6E880",
           "#FF97FF",
           "#FECB52"
          ],
          "font": {
           "color": "#2a3f5f"
          },
          "geo": {
           "bgcolor": "white",
           "lakecolor": "white",
           "landcolor": "#E5ECF6",
           "showlakes": true,
           "showland": true,
           "subunitcolor": "white"
          },
          "hoverlabel": {
           "align": "left"
          },
          "hovermode": "closest",
          "mapbox": {
           "style": "light"
          },
          "paper_bgcolor": "white",
          "plot_bgcolor": "#E5ECF6",
          "polar": {
           "angularaxis": {
            "gridcolor": "white",
            "linecolor": "white",
            "ticks": ""
           },
           "bgcolor": "#E5ECF6",
           "radialaxis": {
            "gridcolor": "white",
            "linecolor": "white",
            "ticks": ""
           }
          },
          "scene": {
           "xaxis": {
            "backgroundcolor": "#E5ECF6",
            "gridcolor": "white",
            "gridwidth": 2,
            "linecolor": "white",
            "showbackground": true,
            "ticks": "",
            "zerolinecolor": "white"
           },
           "yaxis": {
            "backgroundcolor": "#E5ECF6",
            "gridcolor": "white",
            "gridwidth": 2,
            "linecolor": "white",
            "showbackground": true,
            "ticks": "",
            "zerolinecolor": "white"
           },
           "zaxis": {
            "backgroundcolor": "#E5ECF6",
            "gridcolor": "white",
            "gridwidth": 2,
            "linecolor": "white",
            "showbackground": true,
            "ticks": "",
            "zerolinecolor": "white"
           }
          },
          "shapedefaults": {
           "line": {
            "color": "#2a3f5f"
           }
          },
          "ternary": {
           "aaxis": {
            "gridcolor": "white",
            "linecolor": "white",
            "ticks": ""
           },
           "baxis": {
            "gridcolor": "white",
            "linecolor": "white",
            "ticks": ""
           },
           "bgcolor": "#E5ECF6",
           "caxis": {
            "gridcolor": "white",
            "linecolor": "white",
            "ticks": ""
           }
          },
          "title": {
           "x": 0.05
          },
          "xaxis": {
           "automargin": true,
           "gridcolor": "white",
           "linecolor": "white",
           "ticks": "",
           "title": {
            "standoff": 15
           },
           "zerolinecolor": "white",
           "zerolinewidth": 2
          },
          "yaxis": {
           "automargin": true,
           "gridcolor": "white",
           "linecolor": "white",
           "ticks": "",
           "title": {
            "standoff": 15
           },
           "zerolinecolor": "white",
           "zerolinewidth": 2
          }
         }
        },
        "title": {
         "text": "Urbanization Level & Metropolitan Population in Africa (1950-2050)",
         "x": 0.5
        },
        "updatemenus": [
         {
          "buttons": [
           {
            "args": [
             null,
             {
              "frame": {
               "duration": 1000,
               "redraw": true
              },
              "fromcurrent": true
             }
            ],
            "label": "Play",
            "method": "animate"
           },
           {
            "args": [
             [
              null
             ],
             {
              "frame": {
               "duration": 0,
               "redraw": false
              },
              "mode": "immediate"
             }
            ],
            "label": "Pause",
            "method": "animate"
           }
          ],
          "direction": "left",
          "pad": {
           "r": 10,
           "t": 87
          },
          "showactive": false,
          "type": "buttons",
          "x": 0.1,
          "xanchor": "right",
          "y": 0,
          "yanchor": "top"
         }
        ]
       }
      }
     },
     "metadata": {},
     "output_type": "display_data"
    }
   ],
   "source": [
    "import plotly.graph_objects as go\n",
    "from plotly.subplots import make_subplots\n",
    "\n",
    "# 确保 'merged' DataFrame 已经定义\n",
    "data = merged  \n",
    "\n",
    "# 创建子图布局（两张地图并排）\n",
    "fig = make_subplots(\n",
    "    rows=1, cols=2,\n",
    "    subplot_titles=[\"Urbanization Level\", \"Metropolitan Population\"],\n",
    "    specs=[[{\"type\": \"choropleth\"}, {\"type\": \"choropleth\"}]]\n",
    ")\n",
    "\n",
    "# 生成动画帧\n",
    "frames = []\n",
    "years = sorted(data[\"Year\"].unique())\n",
    "\n",
    "for year in years:\n",
    "    df_year = data[data[\"Year\"] == year]\n",
    "    \n",
    "    frame = go.Frame(\n",
    "        name=str(year),\n",
    "        data=[\n",
    "            go.Choropleth(\n",
    "                locations=df_year[\"ISO\"],\n",
    "                z=df_year[\"UrbanLevel\"],\n",
    "                text=df_year[\"Country\"],\n",
    "                colorscale=\"Blues\",\n",
    "                locationmode=\"ISO-3\",\n",
    "                colorbar=dict(title=\"Urban Level\", x=-0.05)  # 颜色条固定在左侧\n",
    "            ),\n",
    "            go.Choropleth(\n",
    "                locations=df_year[\"ISO\"],\n",
    "                z=df_year[\"Mpop\"],\n",
    "                text=df_year[\"Country\"],\n",
    "                colorscale=\"Oranges\",\n",
    "                locationmode=\"ISO-3\",\n",
    "                colorbar=dict(title=\"Metropolitan Pop.\", x=1.05)  # 颜色条固定在右侧\n",
    "            )\n",
    "        ]\n",
    "    )\n",
    "    frames.append(frame)\n",
    "\n",
    "# 选择初始年份的数据\n",
    "df_initial = data[data[\"Year\"] == years[0]]\n",
    "\n",
    "# 添加初始地图（Urbanization Level）\n",
    "fig.add_trace(\n",
    "    go.Choropleth(\n",
    "        locations=df_initial[\"ISO\"],\n",
    "        z=df_initial[\"UrbanLevel\"],\n",
    "        text=df_initial[\"Country\"],\n",
    "        colorscale=\"Blues\",\n",
    "        locationmode=\"ISO-3\",\n",
    "        colorbar=dict(title=\"Urban Level\", x=-0.05)  # 颜色条左对齐并远离地图\n",
    "    ),\n",
    "    row=1, col=1\n",
    ")\n",
    "\n",
    "# 添加初始地图（Urban Population）\n",
    "fig.add_trace(\n",
    "    go.Choropleth(\n",
    "        locations=df_initial[\"ISO\"],\n",
    "        z=df_initial[\"Mpop\"],\n",
    "        text=df_initial[\"Country\"],\n",
    "        colorscale=\"Oranges\",\n",
    "        locationmode=\"ISO-3\",\n",
    "        colorbar=dict(title=\"Metropolitan Pop.\", x=1.05)  # 颜色条右对齐并远离地图\n",
    "    ),\n",
    "    row=1, col=2\n",
    ")\n",
    "\n",
    "# 更新布局\n",
    "fig.update_layout(\n",
    "    title_text=\"Urbanization Level & Metropolitan Population in Africa (1950-2050)\",\n",
    "    title_x=0.5,  # 标题水平居中\n",
    "    geo=dict(scope=\"africa\"),\n",
    "    geo2=dict(scope=\"africa\"),\n",
    "    updatemenus=[{\n",
    "        \"buttons\": [\n",
    "            {\"label\": \"Play\",\n",
    "             \"method\": \"animate\",\n",
    "             \"args\": [None, {\"frame\": {\"duration\": 1000, \"redraw\": True}, \"fromcurrent\": True}]},\n",
    "            {\"label\": \"Pause\",\n",
    "             \"method\": \"animate\",\n",
    "             \"args\": [[None], {\"frame\": {\"duration\": 0, \"redraw\": False}, \"mode\": \"immediate\"}]}\n",
    "        ],\n",
    "        \"direction\": \"left\",\n",
    "        \"pad\": {\"r\": 10, \"t\": 87},\n",
    "        \"showactive\": False,\n",
    "        \"type\": \"buttons\",\n",
    "        \"x\": 0.1,\n",
    "        \"xanchor\": \"right\",\n",
    "        \"y\": 0,\n",
    "        \"yanchor\": \"top\"\n",
    "    }],\n",
    "    sliders=[{\n",
    "        \"active\": 0,\n",
    "        \"yanchor\": \"top\",\n",
    "        \"xanchor\": \"left\",\n",
    "        \"currentvalue\": {\"prefix\": \"Year: \", \"font\": {\"size\": 20}},\n",
    "        \"transition\": {\"duration\": 300},\n",
    "        \"pad\": {\"b\": 10, \"t\": 50},\n",
    "        \"len\": 0.9,\n",
    "        \"x\": 0.1,\n",
    "        \"y\": 0,\n",
    "        \"steps\": [\n",
    "            {\"args\": [[str(year)], {\"frame\": {\"duration\": 300, \"redraw\": True}, \"mode\": \"immediate\"}],\n",
    "             \"label\": str(year),\n",
    "             \"method\": \"animate\"}\n",
    "            for year in years\n",
    "        ]\n",
    "    }]\n",
    ")\n",
    "\n",
    "# 添加动画帧\n",
    "fig.frames = frames\n",
    "\n",
    "# 显示图表\n",
    "fig.show()\n",
    "\n",
    "fig.write_html(\"urbanisation&population2.html\")\n",
    "\n"
   ]
  },
  {
   "cell_type": "code",
   "execution_count": 113,
   "metadata": {},
   "outputs": [
    {
     "data": {
      "application/vnd.plotly.v1+json": {
       "config": {
        "plotlyServerURL": "https://plot.ly"
       },
       "data": [
        {
         "colorbar": {
          "len": 0.5,
          "lenmode": "fraction",
          "tickmode": "array",
          "title": {
           "text": "Urban Level"
          },
          "x": 0.45
         },
         "colorscale": [
          [
           0,
           "rgb(247,251,255)"
          ],
          [
           0.125,
           "rgb(222,235,247)"
          ],
          [
           0.25,
           "rgb(198,219,239)"
          ],
          [
           0.375,
           "rgb(158,202,225)"
          ],
          [
           0.5,
           "rgb(107,174,214)"
          ],
          [
           0.625,
           "rgb(66,146,198)"
          ],
          [
           0.75,
           "rgb(33,113,181)"
          ],
          [
           0.875,
           "rgb(8,81,156)"
          ],
          [
           1,
           "rgb(8,48,107)"
          ]
         ],
         "geo": "geo",
         "locationmode": "ISO-3",
         "locations": [
          "AGO",
          "BDI",
          "BEN",
          "BFA",
          "BWA",
          "CAF",
          "CIV",
          "CMR",
          "COD",
          "COG",
          "COM",
          "CPV",
          "DJI",
          "DZA",
          "EGY",
          "ERI",
          "ETH",
          "GAB",
          "GHA",
          "GIN",
          "GMB",
          "GNB",
          "GNQ",
          "KEN",
          "LBR",
          "LBY",
          "LSO",
          "MAR",
          "MDG",
          "MLI",
          "MOZ",
          "MRT",
          "MUS",
          "MWI",
          "NAM",
          "NER",
          "NGA",
          "RWA",
          "SDN",
          "SEN",
          "SLE",
          "SOM",
          "SSD",
          "STP",
          "SWZ",
          "SYC",
          "TCD",
          "TGO",
          "TUN",
          "TZA",
          "UGA",
          "ZAF",
          "ZMB",
          "ZWE"
         ],
         "text": [
          "Angola",
          "Burundi",
          "Benin",
          "Burkina Faso",
          "Botswana",
          "Central African Republic",
          "Cote d`Ivoire",
          "Cameroon",
          "Democratic Republic of the Congo",
          "Republic of the Congo",
          "Comoros",
          "Cabo Verde",
          "Djibouti",
          "Algeria",
          "Egypt",
          "Eritrea",
          "Ethiopia",
          "Gabon",
          "Ghana",
          "Guinea",
          "The Gambia",
          "Guinea-Bissau",
          "Equatorial Guinea",
          "Kenya",
          "Liberia",
          "Libya",
          "Lesotho",
          "Morocco",
          "Madagascar",
          "Mali",
          "Mozambique",
          "Mauritania",
          "Mauritius",
          "Malawi",
          "Namibia",
          "Niger",
          "Nigeria",
          "Rwanda",
          "Sudan",
          "Senegal",
          "Sierra Leone",
          "Somalia",
          "South Sudan",
          "Sao Tome and Principe",
          "Kingdom of Eswatini",
          "Seychelles",
          "Chad",
          "Togo",
          "Tunisia",
          "Tanzania",
          "Uganda",
          "South Africa",
          "Zambia",
          "Zimbabwe"
         ],
         "type": "choropleth",
         "z": [
          0.0531449610230079,
          0.00932449783786177,
          0.056651957049104,
          0.0283043189368771,
          0,
          0.0348665183537264,
          0.0440794132158554,
          0.081,
          0.045437736495031,
          0.150743412336229,
          0,
          0.0672338382760828,
          0.638,
          0.166299431076292,
          0.265346607298072,
          0.115291430505033,
          0.0267635209613706,
          0.025440313111546,
          0.0687195790404752,
          0.0395075993245045,
          0.0944792176926287,
          0.0906988624083934,
          0.248158942530818,
          0.0458053876859766,
          0.0279268292682927,
          0.420050331458866,
          0,
          0.250322553095094,
          0.0773104332148666,
          0.0418744117647059,
          0.0236743521549646,
          0,
          0.158790212360662,
          0.010879655448693,
          0.0497421189330248,
          0.0107695863184654,
          0.106824119496855,
          0.00623207226598084,
          0.0821604511439942,
          0.196397358710429,
          0.047387991497851,
          0.0848319296267256,
          0.0081400707191255,
          0,
          0,
          0.284404178095476,
          0.0252029619056116,
          0.0406430787289343,
          0.217669664725468,
          0.0248502978440885,
          0.00820646792389537,
          0.235260064696855,
          0.132997038958443,
          0.181259616425997
         ]
        },
        {
         "colorbar": {
          "len": 0.5,
          "lenmode": "fraction",
          "tickmode": "array",
          "title": {
           "text": "Metropolitan Pop. %"
          },
          "x": 0.55
         },
         "colorscale": [
          [
           0,
           "rgb(255,245,235)"
          ],
          [
           0.125,
           "rgb(254,230,206)"
          ],
          [
           0.25,
           "rgb(253,208,162)"
          ],
          [
           0.375,
           "rgb(253,174,107)"
          ],
          [
           0.5,
           "rgb(253,141,60)"
          ],
          [
           0.625,
           "rgb(241,105,19)"
          ],
          [
           0.75,
           "rgb(217,72,1)"
          ],
          [
           0.875,
           "rgb(166,54,3)"
          ],
          [
           1,
           "rgb(127,39,4)"
          ]
         ],
         "geo": "geo2",
         "locationmode": "ISO-3",
         "locations": [
          "AGO",
          "BDI",
          "BEN",
          "BFA",
          "BWA",
          "CAF",
          "CIV",
          "CMR",
          "COD",
          "COG",
          "COM",
          "CPV",
          "DJI",
          "DZA",
          "EGY",
          "ERI",
          "ETH",
          "GAB",
          "GHA",
          "GIN",
          "GMB",
          "GNB",
          "GNQ",
          "KEN",
          "LBR",
          "LBY",
          "LSO",
          "MAR",
          "MDG",
          "MLI",
          "MOZ",
          "MRT",
          "MUS",
          "MWI",
          "NAM",
          "NER",
          "NGA",
          "RWA",
          "SDN",
          "SEN",
          "SLE",
          "SOM",
          "SSD",
          "STP",
          "SWZ",
          "SYC",
          "TCD",
          "TGO",
          "TUN",
          "TZA",
          "UGA",
          "ZAF",
          "ZMB",
          "ZWE"
         ],
         "text": [
          "Angola",
          "Burundi",
          "Benin",
          "Burkina Faso",
          "Botswana",
          "Central African Republic",
          "Cote d`Ivoire",
          "Cameroon",
          "Democratic Republic of the Congo",
          "Republic of the Congo",
          "Comoros",
          "Cabo Verde",
          "Djibouti",
          "Algeria",
          "Egypt",
          "Eritrea",
          "Ethiopia",
          "Gabon",
          "Ghana",
          "Guinea",
          "The Gambia",
          "Guinea-Bissau",
          "Equatorial Guinea",
          "Kenya",
          "Liberia",
          "Libya",
          "Lesotho",
          "Morocco",
          "Madagascar",
          "Mali",
          "Mozambique",
          "Mauritania",
          "Mauritius",
          "Malawi",
          "Namibia",
          "Niger",
          "Nigeria",
          "Rwanda",
          "Sudan",
          "Senegal",
          "Sierra Leone",
          "Somalia",
          "South Sudan",
          "Sao Tome and Principe",
          "Kingdom of Eswatini",
          "Seychelles",
          "Chad",
          "Togo",
          "Tunisia",
          "Tanzania",
          "Uganda",
          "South Africa",
          "Zambia",
          "Zimbabwe"
         ],
         "type": "choropleth",
         "z": [
          0.643213799364211,
          0.999999999994724,
          0.561362539154407,
          0.878926240667544,
          0,
          0.999999999997341,
          0.59769953447364,
          0.502836169502668,
          0.450094316841515,
          0.999999999999023,
          0,
          0.999999999990083,
          0.999999999996865,
          0.289511751874591,
          0.472238741148438,
          0.728827612520194,
          0.721940250179138,
          0.999999999990385,
          0.660389342809951,
          0.409448818897177,
          0,
          0.999999999997834,
          0.999999999997972,
          0.879648104479987,
          0.999999999995633,
          0.416063411540795,
          0,
          0.399713645446703,
          0.523437499999843,
          0.581809753253368,
          0.686453464835913,
          0,
          0.999999999998721,
          0.999999999995915,
          0.999999999995051,
          0,
          0.085043981363592,
          0.999999999991502,
          0.428987155221991,
          0.566131025957833,
          0.808979600832267,
          0.505766971512066,
          0.999999999994444,
          0,
          0,
          0.999999999990258,
          0.415929203539087,
          0.999999999997656,
          0.552185972119621,
          0.401430270485281,
          0.748974569317359,
          0.655467283909396,
          0.128389415223741,
          0.748650056664103
         ]
        }
       ],
       "frames": [
        {
         "data": [
          {
           "colorbar": {
            "len": 0.5,
            "lenmode": "fraction",
            "tickmode": "array",
            "title": {
             "text": "Urban Level"
            },
            "x": 0.45
           },
           "colorscale": [
            [
             0,
             "rgb(247,251,255)"
            ],
            [
             0.125,
             "rgb(222,235,247)"
            ],
            [
             0.25,
             "rgb(198,219,239)"
            ],
            [
             0.375,
             "rgb(158,202,225)"
            ],
            [
             0.5,
             "rgb(107,174,214)"
            ],
            [
             0.625,
             "rgb(66,146,198)"
            ],
            [
             0.75,
             "rgb(33,113,181)"
            ],
            [
             0.875,
             "rgb(8,81,156)"
            ],
            [
             1,
             "rgb(8,48,107)"
            ]
           ],
           "locationmode": "ISO-3",
           "locations": [
            "AGO",
            "BDI",
            "BEN",
            "BFA",
            "BWA",
            "CAF",
            "CIV",
            "CMR",
            "COD",
            "COG",
            "COM",
            "CPV",
            "DJI",
            "DZA",
            "EGY",
            "ERI",
            "ETH",
            "GAB",
            "GHA",
            "GIN",
            "GMB",
            "GNB",
            "GNQ",
            "KEN",
            "LBR",
            "LBY",
            "LSO",
            "MAR",
            "MDG",
            "MLI",
            "MOZ",
            "MRT",
            "MUS",
            "MWI",
            "NAM",
            "NER",
            "NGA",
            "RWA",
            "SDN",
            "SEN",
            "SLE",
            "SOM",
            "SSD",
            "STP",
            "SWZ",
            "SYC",
            "TCD",
            "TGO",
            "TUN",
            "TZA",
            "UGA",
            "ZAF",
            "ZMB",
            "ZWE"
           ],
           "text": [
            "Angola",
            "Burundi",
            "Benin",
            "Burkina Faso",
            "Botswana",
            "Central African Republic",
            "Cote d`Ivoire",
            "Cameroon",
            "Democratic Republic of the Congo",
            "Republic of the Congo",
            "Comoros",
            "Cabo Verde",
            "Djibouti",
            "Algeria",
            "Egypt",
            "Eritrea",
            "Ethiopia",
            "Gabon",
            "Ghana",
            "Guinea",
            "The Gambia",
            "Guinea-Bissau",
            "Equatorial Guinea",
            "Kenya",
            "Liberia",
            "Libya",
            "Lesotho",
            "Morocco",
            "Madagascar",
            "Mali",
            "Mozambique",
            "Mauritania",
            "Mauritius",
            "Malawi",
            "Namibia",
            "Niger",
            "Nigeria",
            "Rwanda",
            "Sudan",
            "Senegal",
            "Sierra Leone",
            "Somalia",
            "South Sudan",
            "Sao Tome and Principe",
            "Kingdom of Eswatini",
            "Seychelles",
            "Chad",
            "Togo",
            "Tunisia",
            "Tanzania",
            "Uganda",
            "South Africa",
            "Zambia",
            "Zimbabwe"
           ],
           "type": "choropleth",
           "z": [
            0.0531449610230079,
            0.00932449783786177,
            0.056651957049104,
            0.0283043189368771,
            0,
            0.0348665183537264,
            0.0440794132158554,
            0.081,
            0.045437736495031,
            0.150743412336229,
            0,
            0.0672338382760828,
            0.638,
            0.166299431076292,
            0.265346607298072,
            0.115291430505033,
            0.0267635209613706,
            0.025440313111546,
            0.0687195790404752,
            0.0395075993245045,
            0.0944792176926287,
            0.0906988624083934,
            0.248158942530818,
            0.0458053876859766,
            0.0279268292682927,
            0.420050331458866,
            0,
            0.250322553095094,
            0.0773104332148666,
            0.0418744117647059,
            0.0236743521549646,
            0,
            0.158790212360662,
            0.010879655448693,
            0.0497421189330248,
            0.0107695863184654,
            0.106824119496855,
            0.00623207226598084,
            0.0821604511439942,
            0.196397358710429,
            0.047387991497851,
            0.0848319296267256,
            0.0081400707191255,
            0,
            0,
            0.284404178095476,
            0.0252029619056116,
            0.0406430787289343,
            0.217669664725468,
            0.0248502978440885,
            0.00820646792389537,
            0.235260064696855,
            0.132997038958443,
            0.181259616425997
           ]
          },
          {
           "colorbar": {
            "len": 0.5,
            "lenmode": "fraction",
            "tickmode": "array",
            "title": {
             "text": "Metropolitan Pop. %"
            },
            "x": 0.55
           },
           "colorscale": [
            [
             0,
             "rgb(255,245,235)"
            ],
            [
             0.125,
             "rgb(254,230,206)"
            ],
            [
             0.25,
             "rgb(253,208,162)"
            ],
            [
             0.375,
             "rgb(253,174,107)"
            ],
            [
             0.5,
             "rgb(253,141,60)"
            ],
            [
             0.625,
             "rgb(241,105,19)"
            ],
            [
             0.75,
             "rgb(217,72,1)"
            ],
            [
             0.875,
             "rgb(166,54,3)"
            ],
            [
             1,
             "rgb(127,39,4)"
            ]
           ],
           "locationmode": "ISO-3",
           "locations": [
            "AGO",
            "BDI",
            "BEN",
            "BFA",
            "BWA",
            "CAF",
            "CIV",
            "CMR",
            "COD",
            "COG",
            "COM",
            "CPV",
            "DJI",
            "DZA",
            "EGY",
            "ERI",
            "ETH",
            "GAB",
            "GHA",
            "GIN",
            "GMB",
            "GNB",
            "GNQ",
            "KEN",
            "LBR",
            "LBY",
            "LSO",
            "MAR",
            "MDG",
            "MLI",
            "MOZ",
            "MRT",
            "MUS",
            "MWI",
            "NAM",
            "NER",
            "NGA",
            "RWA",
            "SDN",
            "SEN",
            "SLE",
            "SOM",
            "SSD",
            "STP",
            "SWZ",
            "SYC",
            "TCD",
            "TGO",
            "TUN",
            "TZA",
            "UGA",
            "ZAF",
            "ZMB",
            "ZWE"
           ],
           "text": [
            "Angola",
            "Burundi",
            "Benin",
            "Burkina Faso",
            "Botswana",
            "Central African Republic",
            "Cote d`Ivoire",
            "Cameroon",
            "Democratic Republic of the Congo",
            "Republic of the Congo",
            "Comoros",
            "Cabo Verde",
            "Djibouti",
            "Algeria",
            "Egypt",
            "Eritrea",
            "Ethiopia",
            "Gabon",
            "Ghana",
            "Guinea",
            "The Gambia",
            "Guinea-Bissau",
            "Equatorial Guinea",
            "Kenya",
            "Liberia",
            "Libya",
            "Lesotho",
            "Morocco",
            "Madagascar",
            "Mali",
            "Mozambique",
            "Mauritania",
            "Mauritius",
            "Malawi",
            "Namibia",
            "Niger",
            "Nigeria",
            "Rwanda",
            "Sudan",
            "Senegal",
            "Sierra Leone",
            "Somalia",
            "South Sudan",
            "Sao Tome and Principe",
            "Kingdom of Eswatini",
            "Seychelles",
            "Chad",
            "Togo",
            "Tunisia",
            "Tanzania",
            "Uganda",
            "South Africa",
            "Zambia",
            "Zimbabwe"
           ],
           "type": "choropleth",
           "z": [
            0.643213799364211,
            0.999999999994724,
            0.561362539154407,
            0.878926240667544,
            0,
            0.999999999997341,
            0.59769953447364,
            0.502836169502668,
            0.450094316841515,
            0.999999999999023,
            0,
            0.999999999990083,
            0.999999999996865,
            0.289511751874591,
            0.472238741148438,
            0.728827612520194,
            0.721940250179138,
            0.999999999990385,
            0.660389342809951,
            0.409448818897177,
            0,
            0.999999999997834,
            0.999999999997972,
            0.879648104479987,
            0.999999999995633,
            0.416063411540795,
            0,
            0.399713645446703,
            0.523437499999843,
            0.581809753253368,
            0.686453464835913,
            0,
            0.999999999998721,
            0.999999999995915,
            0.999999999995051,
            0,
            0.085043981363592,
            0.999999999991502,
            0.428987155221991,
            0.566131025957833,
            0.808979600832267,
            0.505766971512066,
            0.999999999994444,
            0,
            0,
            0.999999999990258,
            0.415929203539087,
            0.999999999997656,
            0.552185972119621,
            0.401430270485281,
            0.748974569317359,
            0.655467283909396,
            0.128389415223741,
            0.748650056664103
           ]
          }
         ],
         "name": "1950"
        },
        {
         "data": [
          {
           "colorbar": {
            "len": 0.5,
            "lenmode": "fraction",
            "tickmode": "array",
            "title": {
             "text": "Urban Level"
            },
            "x": 0.45
           },
           "colorscale": [
            [
             0,
             "rgb(247,251,255)"
            ],
            [
             0.125,
             "rgb(222,235,247)"
            ],
            [
             0.25,
             "rgb(198,219,239)"
            ],
            [
             0.375,
             "rgb(158,202,225)"
            ],
            [
             0.5,
             "rgb(107,174,214)"
            ],
            [
             0.625,
             "rgb(66,146,198)"
            ],
            [
             0.75,
             "rgb(33,113,181)"
            ],
            [
             0.875,
             "rgb(8,81,156)"
            ],
            [
             1,
             "rgb(8,48,107)"
            ]
           ],
           "locationmode": "ISO-3",
           "locations": [
            "AGO",
            "BDI",
            "BEN",
            "BFA",
            "BWA",
            "CAF",
            "CIV",
            "CMR",
            "COD",
            "COG",
            "COM",
            "CPV",
            "DJI",
            "DZA",
            "EGY",
            "ERI",
            "ETH",
            "GAB",
            "GHA",
            "GIN",
            "GMB",
            "GNB",
            "GNQ",
            "KEN",
            "LBR",
            "LBY",
            "LSO",
            "MAR",
            "MDG",
            "MLI",
            "MOZ",
            "MRT",
            "MUS",
            "MWI",
            "NAM",
            "NER",
            "NGA",
            "RWA",
            "SDN",
            "SEN",
            "SLE",
            "SOM",
            "SSD",
            "STP",
            "SWZ",
            "SYC",
            "TCD",
            "TGO",
            "TUN",
            "TZA",
            "UGA",
            "ZAF",
            "ZMB",
            "ZWE"
           ],
           "text": [
            "Angola",
            "Burundi",
            "Benin",
            "Burkina Faso",
            "Botswana",
            "Central African Republic",
            "Cote d`Ivoire",
            "Cameroon",
            "Democratic Republic of the Congo",
            "Republic of the Congo",
            "Comoros",
            "Cabo Verde",
            "Djibouti",
            "Algeria",
            "Egypt",
            "Eritrea",
            "Ethiopia",
            "Gabon",
            "Ghana",
            "Guinea",
            "The Gambia",
            "Guinea-Bissau",
            "Equatorial Guinea",
            "Kenya",
            "Liberia",
            "Libya",
            "Lesotho",
            "Morocco",
            "Madagascar",
            "Mali",
            "Mozambique",
            "Mauritania",
            "Mauritius",
            "Malawi",
            "Namibia",
            "Niger",
            "Nigeria",
            "Rwanda",
            "Sudan",
            "Senegal",
            "Sierra Leone",
            "Somalia",
            "South Sudan",
            "Sao Tome and Principe",
            "Kingdom of Eswatini",
            "Seychelles",
            "Chad",
            "Togo",
            "Tunisia",
            "Tanzania",
            "Uganda",
            "South Africa",
            "Zambia",
            "Zimbabwe"
           ],
           "type": "choropleth",
           "z": [
            0.0770061610952826,
            0.0180846935985961,
            0.107165847116674,
            0.0342827574784862,
            0,
            0.118216662454722,
            0.120135125602341,
            0.107340716227642,
            0.121725373843186,
            0.199569344308305,
            0,
            0.157577212834289,
            0.477040816326531,
            0.290404715550207,
            0.310373272303165,
            0.12032146799117,
            0.0352762587158361,
            0.102318323673651,
            0.151297793899031,
            0.0762958235836347,
            0.0833189135892756,
            0.0948619910664837,
            0.237002467590014,
            0.0650313098213064,
            0.0679155707081707,
            0.436640671118244,
            0.0157361661102678,
            0.265227652148168,
            0.086375,
            0.048926693853486,
            0.0398907932655847,
            0,
            0.210236621216149,
            0.0330115329258737,
            0.0929425376012341,
            0.0293884954826107,
            0.191815447361713,
            0,
            0.105046351194831,
            0.218322901412116,
            0.0748740536299965,
            0.120461434977578,
            0.01569874780604,
            0,
            0,
            0.323283041641521,
            0.0470215261487512,
            0.103075934580228,
            0.233047964088123,
            0.0435622099001134,
            0.0286138117012268,
            0.289147985146472,
            0.19051002484798,
            0.263054082350306
           ]
          },
          {
           "colorbar": {
            "len": 0.5,
            "lenmode": "fraction",
            "tickmode": "array",
            "title": {
             "text": "Metropolitan Pop. %"
            },
            "x": 0.55
           },
           "colorscale": [
            [
             0,
             "rgb(255,245,235)"
            ],
            [
             0.125,
             "rgb(254,230,206)"
            ],
            [
             0.25,
             "rgb(253,208,162)"
            ],
            [
             0.375,
             "rgb(253,174,107)"
            ],
            [
             0.5,
             "rgb(253,141,60)"
            ],
            [
             0.625,
             "rgb(241,105,19)"
            ],
            [
             0.75,
             "rgb(217,72,1)"
            ],
            [
             0.875,
             "rgb(166,54,3)"
            ],
            [
             1,
             "rgb(127,39,4)"
            ]
           ],
           "locationmode": "ISO-3",
           "locations": [
            "AGO",
            "BDI",
            "BEN",
            "BFA",
            "BWA",
            "CAF",
            "CIV",
            "CMR",
            "COD",
            "COG",
            "COM",
            "CPV",
            "DJI",
            "DZA",
            "EGY",
            "ERI",
            "ETH",
            "GAB",
            "GHA",
            "GIN",
            "GMB",
            "GNB",
            "GNQ",
            "KEN",
            "LBR",
            "LBY",
            "LSO",
            "MAR",
            "MDG",
            "MLI",
            "MOZ",
            "MRT",
            "MUS",
            "MWI",
            "NAM",
            "NER",
            "NGA",
            "RWA",
            "SDN",
            "SEN",
            "SLE",
            "SOM",
            "SSD",
            "STP",
            "SWZ",
            "SYC",
            "TCD",
            "TGO",
            "TUN",
            "TZA",
            "UGA",
            "ZAF",
            "ZMB",
            "ZWE"
           ],
           "text": [
            "Angola",
            "Burundi",
            "Benin",
            "Burkina Faso",
            "Botswana",
            "Central African Republic",
            "Cote d`Ivoire",
            "Cameroon",
            "Democratic Republic of the Congo",
            "Republic of the Congo",
            "Comoros",
            "Cabo Verde",
            "Djibouti",
            "Algeria",
            "Egypt",
            "Eritrea",
            "Ethiopia",
            "Gabon",
            "Ghana",
            "Guinea",
            "The Gambia",
            "Guinea-Bissau",
            "Equatorial Guinea",
            "Kenya",
            "Liberia",
            "Libya",
            "Lesotho",
            "Morocco",
            "Madagascar",
            "Mali",
            "Mozambique",
            "Mauritania",
            "Mauritius",
            "Malawi",
            "Namibia",
            "Niger",
            "Nigeria",
            "Rwanda",
            "Sudan",
            "Senegal",
            "Sierra Leone",
            "Somalia",
            "South Sudan",
            "Sao Tome and Principe",
            "Kingdom of Eswatini",
            "Seychelles",
            "Chad",
            "Togo",
            "Tunisia",
            "Tanzania",
            "Uganda",
            "South Africa",
            "Zambia",
            "Zimbabwe"
           ],
           "type": "choropleth",
           "z": [
            0.58565840938707,
            0.999999999997968,
            0.593584449171738,
            0.788092877786691,
            0,
            0.598660348451492,
            0.591420641858644,
            0.423167848699673,
            0.367990565297819,
            0.933717579250182,
            0,
            0.999999999996825,
            0.999999999997326,
            0.247740074623729,
            0.485209914769334,
            0.708069121305881,
            0.696165620124365,
            0.596949891066238,
            0.509400147383885,
            0.550416002832116,
            0,
            0.999999999997994,
            0.999999999998285,
            0.871837277207986,
            0.999999999998458,
            0.489072356152109,
            0.999999999991223,
            0.409256430317046,
            0.426504031424349,
            0.644317913647429,
            0.698859315589088,
            0,
            0.808336284080553,
            0.869451749142492,
            0.74688796680343,
            0.396128097995921,
            0.110635196121685,
            0,
            0.394339101619984,
            0.571868744961902,
            0.710266865279293,
            0.521105316253822,
            0.382351618704176,
            0,
            0,
            0.999999999992533,
            0.481585550158847,
            0.825717900145628,
            0.509174634383763,
            0.375529552503026,
            0.697202359716928,
            0.643388525078203,
            0.185289709676068,
            0.750272745608481
           ]
          }
         ],
         "name": "1960"
        },
        {
         "data": [
          {
           "colorbar": {
            "len": 0.5,
            "lenmode": "fraction",
            "tickmode": "array",
            "title": {
             "text": "Urban Level"
            },
            "x": 0.45
           },
           "colorscale": [
            [
             0,
             "rgb(247,251,255)"
            ],
            [
             0.125,
             "rgb(222,235,247)"
            ],
            [
             0.25,
             "rgb(198,219,239)"
            ],
            [
             0.375,
             "rgb(158,202,225)"
            ],
            [
             0.5,
             "rgb(107,174,214)"
            ],
            [
             0.625,
             "rgb(66,146,198)"
            ],
            [
             0.75,
             "rgb(33,113,181)"
            ],
            [
             0.875,
             "rgb(8,81,156)"
            ],
            [
             1,
             "rgb(8,48,107)"
            ]
           ],
           "locationmode": "ISO-3",
           "locations": [
            "AGO",
            "BDI",
            "BEN",
            "BFA",
            "BWA",
            "CAF",
            "CIV",
            "CMR",
            "COD",
            "COG",
            "COM",
            "CPV",
            "DJI",
            "DZA",
            "EGY",
            "ERI",
            "ETH",
            "GAB",
            "GHA",
            "GIN",
            "GMB",
            "GNB",
            "GNQ",
            "KEN",
            "LBR",
            "LBY",
            "LSO",
            "MAR",
            "MDG",
            "MLI",
            "MOZ",
            "MRT",
            "MUS",
            "MWI",
            "NAM",
            "NER",
            "NGA",
            "RWA",
            "SDN",
            "SEN",
            "SLE",
            "SOM",
            "SSD",
            "STP",
            "SWZ",
            "SYC",
            "TCD",
            "TGO",
            "TUN",
            "TZA",
            "UGA",
            "ZAF",
            "ZMB",
            "ZWE"
           ],
           "text": [
            "Angola",
            "Burundi",
            "Benin",
            "Burkina Faso",
            "Botswana",
            "Central African Republic",
            "Cote d`Ivoire",
            "Cameroon",
            "Democratic Republic of the Congo",
            "Republic of the Congo",
            "Comoros",
            "Cabo Verde",
            "Djibouti",
            "Algeria",
            "Egypt",
            "Eritrea",
            "Ethiopia",
            "Gabon",
            "Ghana",
            "Guinea",
            "The Gambia",
            "Guinea-Bissau",
            "Equatorial Guinea",
            "Kenya",
            "Liberia",
            "Libya",
            "Lesotho",
            "Morocco",
            "Madagascar",
            "Mali",
            "Mozambique",
            "Mauritania",
            "Mauritius",
            "Malawi",
            "Namibia",
            "Niger",
            "Nigeria",
            "Rwanda",
            "Sudan",
            "Senegal",
            "Sierra Leone",
            "Somalia",
            "South Sudan",
            "Sao Tome and Principe",
            "Kingdom of Eswatini",
            "Seychelles",
            "Chad",
            "Togo",
            "Tunisia",
            "Tanzania",
            "Uganda",
            "South Africa",
            "Zambia",
            "Zimbabwe"
           ],
           "type": "choropleth",
           "z": [
            0.13779686959257,
            0.0274969054651988,
            0.13634219269103,
            0.0610313555906222,
            0.134614308935923,
            0.224133179803521,
            0.22288059391352,
            0.186080740651809,
            0.216236574781344,
            0.32906915799449,
            0.0537351200936106,
            0.185375904929006,
            0.610192837465565,
            0.324307076333626,
            0.351630964153322,
            0.179251777451755,
            0.0531677188247956,
            0.197872340425532,
            0.208431681374428,
            0.13752909860859,
            0.147579904071573,
            0.243250562111241,
            0.245630897620737,
            0.0810457214885925,
            0.140460732999756,
            0.45426554251703,
            0.051199127100817,
            0.308963843801804,
            0.121303800035769,
            0.0775208118092626,
            0.0715455731898979,
            0.066882719199755,
            0.522839581602229,
            0.0458538888024943,
            0.142282958199357,
            0.0537811595020169,
            0.226484787018256,
            0.0152777408107317,
            0.151497153285942,
            0.257023216592679,
            0.132872835610412,
            0.138931608682724,
            0.053511666960113,
            0.265541536505876,
            0.0890874343048256,
            0.376966791665056,
            0.092849920443993,
            0.197816050772853,
            0.271574221656362,
            0.0656205900041892,
            0.0494958242934174,
            0.339568144105031,
            0.269677852259119,
            0.162033551938777
           ]
          },
          {
           "colorbar": {
            "len": 0.5,
            "lenmode": "fraction",
            "tickmode": "array",
            "title": {
             "text": "Metropolitan Pop. %"
            },
            "x": 0.55
           },
           "colorscale": [
            [
             0,
             "rgb(255,245,235)"
            ],
            [
             0.125,
             "rgb(254,230,206)"
            ],
            [
             0.25,
             "rgb(253,208,162)"
            ],
            [
             0.375,
             "rgb(253,174,107)"
            ],
            [
             0.5,
             "rgb(253,141,60)"
            ],
            [
             0.625,
             "rgb(241,105,19)"
            ],
            [
             0.75,
             "rgb(217,72,1)"
            ],
            [
             0.875,
             "rgb(166,54,3)"
            ],
            [
             1,
             "rgb(127,39,4)"
            ]
           ],
           "locationmode": "ISO-3",
           "locations": [
            "AGO",
            "BDI",
            "BEN",
            "BFA",
            "BWA",
            "CAF",
            "CIV",
            "CMR",
            "COD",
            "COG",
            "COM",
            "CPV",
            "DJI",
            "DZA",
            "EGY",
            "ERI",
            "ETH",
            "GAB",
            "GHA",
            "GIN",
            "GMB",
            "GNB",
            "GNQ",
            "KEN",
            "LBR",
            "LBY",
            "LSO",
            "MAR",
            "MDG",
            "MLI",
            "MOZ",
            "MRT",
            "MUS",
            "MWI",
            "NAM",
            "NER",
            "NGA",
            "RWA",
            "SDN",
            "SEN",
            "SLE",
            "SOM",
            "SSD",
            "STP",
            "SWZ",
            "SYC",
            "TCD",
            "TGO",
            "TUN",
            "TZA",
            "UGA",
            "ZAF",
            "ZMB",
            "ZWE"
           ],
           "text": [
            "Angola",
            "Burundi",
            "Benin",
            "Burkina Faso",
            "Botswana",
            "Central African Republic",
            "Cote d`Ivoire",
            "Cameroon",
            "Democratic Republic of the Congo",
            "Republic of the Congo",
            "Comoros",
            "Cabo Verde",
            "Djibouti",
            "Algeria",
            "Egypt",
            "Eritrea",
            "Ethiopia",
            "Gabon",
            "Ghana",
            "Guinea",
            "The Gambia",
            "Guinea-Bissau",
            "Equatorial Guinea",
            "Kenya",
            "Liberia",
            "Libya",
            "Lesotho",
            "Morocco",
            "Madagascar",
            "Mali",
            "Mozambique",
            "Mauritania",
            "Mauritius",
            "Malawi",
            "Namibia",
            "Niger",
            "Nigeria",
            "Rwanda",
            "Sudan",
            "Senegal",
            "Sierra Leone",
            "Somalia",
            "South Sudan",
            "Sao Tome and Principe",
            "Kingdom of Eswatini",
            "Seychelles",
            "Chad",
            "Togo",
            "Tunisia",
            "Tanzania",
            "Uganda",
            "South Africa",
            "Zambia",
            "Zimbabwe"
           ],
           "type": "choropleth",
           "z": [
            0.610942593030471,
            0.999999999998954,
            0.687256836992268,
            0.744629717821438,
            0.180362134528469,
            0.526539979851951,
            0.492297834579058,
            0.438620438620399,
            0.327815220698566,
            0.886874564272836,
            0.999999999992305,
            0.999999999998012,
            0.999999999998871,
            0.26376758727071,
            0.501654595961683,
            0.687379985519348,
            0.601160173421711,
            0.697947214075564,
            0.543951565891164,
            0.625009017505287,
            0.44331433717846,
            0.999999999999157,
            0.999999999998447,
            0.857340030155229,
            0.788694340336316,
            0.479017649218308,
            0.741368103837345,
            0.415820360505987,
            0.450343352285511,
            0.511563716291884,
            0.75276279113862,
            0.502098435710942,
            0.807170852897063,
            0.846380311433758,
            0.581920903954254,
            0.467759745381108,
            0.135235587558325,
            0.999999999998258,
            0.391512266823651,
            0.574208353211815,
            0.615893267995155,
            0.610810162939939,
            0.273436008400513,
            0.999999999994907,
            0.999999999997318,
            0.999999999994872,
            0.472670198280172,
            0.488691903863592,
            0.459492552581376,
            0.396452966306173,
            0.703672829418895,
            0.621156846281218,
            0.227580623565142,
            0.738751017848533
           ]
          }
         ],
         "name": "1970"
        },
        {
         "data": [
          {
           "colorbar": {
            "len": 0.5,
            "lenmode": "fraction",
            "tickmode": "array",
            "title": {
             "text": "Urban Level"
            },
            "x": 0.45
           },
           "colorscale": [
            [
             0,
             "rgb(247,251,255)"
            ],
            [
             0.125,
             "rgb(222,235,247)"
            ],
            [
             0.25,
             "rgb(198,219,239)"
            ],
            [
             0.375,
             "rgb(158,202,225)"
            ],
            [
             0.5,
             "rgb(107,174,214)"
            ],
            [
             0.625,
             "rgb(66,146,198)"
            ],
            [
             0.75,
             "rgb(33,113,181)"
            ],
            [
             0.875,
             "rgb(8,81,156)"
            ],
            [
             1,
             "rgb(8,48,107)"
            ]
           ],
           "locationmode": "ISO-3",
           "locations": [
            "AGO",
            "BDI",
            "BEN",
            "BFA",
            "BWA",
            "CAF",
            "CIV",
            "CMR",
            "COD",
            "COG",
            "COM",
            "CPV",
            "DJI",
            "DZA",
            "EGY",
            "ERI",
            "ETH",
            "GAB",
            "GHA",
            "GIN",
            "GMB",
            "GNB",
            "GNQ",
            "KEN",
            "LBR",
            "LBY",
            "LSO",
            "MAR",
            "MDG",
            "MLI",
            "MOZ",
            "MRT",
            "MUS",
            "MWI",
            "NAM",
            "NER",
            "NGA",
            "RWA",
            "SDN",
            "SEN",
            "SLE",
            "SOM",
            "SSD",
            "STP",
            "SWZ",
            "SYC",
            "TCD",
            "TGO",
            "TUN",
            "TZA",
            "UGA",
            "ZAF",
            "ZMB",
            "ZWE"
           ],
           "text": [
            "Angola",
            "Burundi",
            "Benin",
            "Burkina Faso",
            "Botswana",
            "Central African Republic",
            "Cote d`Ivoire",
            "Cameroon",
            "Democratic Republic of the Congo",
            "Republic of the Congo",
            "Comoros",
            "Cabo Verde",
            "Djibouti",
            "Algeria",
            "Egypt",
            "Eritrea",
            "Ethiopia",
            "Gabon",
            "Ghana",
            "Guinea",
            "The Gambia",
            "Guinea-Bissau",
            "Equatorial Guinea",
            "Kenya",
            "Liberia",
            "Libya",
            "Lesotho",
            "Morocco",
            "Madagascar",
            "Mali",
            "Mozambique",
            "Mauritania",
            "Mauritius",
            "Malawi",
            "Namibia",
            "Niger",
            "Nigeria",
            "Rwanda",
            "Sudan",
            "Senegal",
            "Sierra Leone",
            "Somalia",
            "South Sudan",
            "Sao Tome and Principe",
            "Kingdom of Eswatini",
            "Seychelles",
            "Chad",
            "Togo",
            "Tunisia",
            "Tanzania",
            "Uganda",
            "South Africa",
            "Zambia",
            "Zimbabwe"
           ],
           "type": "choropleth",
           "z": [
            0.206967909911959,
            0.0432586973630379,
            0.233008353527165,
            0.107381927803973,
            0.27578621376166,
            0.273159156252867,
            0.331859851386772,
            0.265336713209673,
            0.24724381109833,
            0.495704215509105,
            0.100751902133373,
            0.262882013371525,
            0.752020538564999,
            0.366164385681986,
            0.381797516781269,
            0.158210110324387,
            0.066451509210137,
            0.295960140662145,
            0.225933802684724,
            0.174559280007347,
            0.202550175215037,
            0.164924538955386,
            0.251018688857177,
            0.10307009339456,
            0.254825464871773,
            0.508813483876484,
            0.0639444630726625,
            0.361775397830228,
            0.15242744882087,
            0.135105324730873,
            0.139192654365469,
            0.208922390175968,
            0.548665058914997,
            0.0729179929899037,
            0.167597809439371,
            0.0924397024767843,
            0.276404870624049,
            0.0304089602552186,
            0.205862100420164,
            0.323197682632384,
            0.198954540425957,
            0.165064840362633,
            0.0639330908531346,
            0.37660305871585,
            0.112190253205995,
            0.370528923805492,
            0.132825536886814,
            0.248658020878834,
            0.338838611558305,
            0.112049882224983,
            0.0533593694356734,
            0.38601871316104,
            0.363584922269758,
            0.190354830420652
           ]
          },
          {
           "colorbar": {
            "len": 0.5,
            "lenmode": "fraction",
            "tickmode": "array",
            "title": {
             "text": "Metropolitan Pop. %"
            },
            "x": 0.55
           },
           "colorscale": [
            [
             0,
             "rgb(255,245,235)"
            ],
            [
             0.125,
             "rgb(254,230,206)"
            ],
            [
             0.25,
             "rgb(253,208,162)"
            ],
            [
             0.375,
             "rgb(253,174,107)"
            ],
            [
             0.5,
             "rgb(253,141,60)"
            ],
            [
             0.625,
             "rgb(241,105,19)"
            ],
            [
             0.75,
             "rgb(217,72,1)"
            ],
            [
             0.875,
             "rgb(166,54,3)"
            ],
            [
             1,
             "rgb(127,39,4)"
            ]
           ],
           "locationmode": "ISO-3",
           "locations": [
            "AGO",
            "BDI",
            "BEN",
            "BFA",
            "BWA",
            "CAF",
            "CIV",
            "CMR",
            "COD",
            "COG",
            "COM",
            "CPV",
            "DJI",
            "DZA",
            "EGY",
            "ERI",
            "ETH",
            "GAB",
            "GHA",
            "GIN",
            "GMB",
            "GNB",
            "GNQ",
            "KEN",
            "LBR",
            "LBY",
            "LSO",
            "MAR",
            "MDG",
            "MLI",
            "MOZ",
            "MRT",
            "MUS",
            "MWI",
            "NAM",
            "NER",
            "NGA",
            "RWA",
            "SDN",
            "SEN",
            "SLE",
            "SOM",
            "SSD",
            "STP",
            "SWZ",
            "SYC",
            "TCD",
            "TGO",
            "TUN",
            "TZA",
            "UGA",
            "ZAF",
            "ZMB",
            "ZWE"
           ],
           "text": [
            "Angola",
            "Burundi",
            "Benin",
            "Burkina Faso",
            "Botswana",
            "Central African Republic",
            "Cote d`Ivoire",
            "Cameroon",
            "Democratic Republic of the Congo",
            "Republic of the Congo",
            "Comoros",
            "Cabo Verde",
            "Djibouti",
            "Algeria",
            "Egypt",
            "Eritrea",
            "Ethiopia",
            "Gabon",
            "Ghana",
            "Guinea",
            "The Gambia",
            "Guinea-Bissau",
            "Equatorial Guinea",
            "Kenya",
            "Liberia",
            "Libya",
            "Lesotho",
            "Morocco",
            "Madagascar",
            "Mali",
            "Mozambique",
            "Mauritania",
            "Mauritius",
            "Malawi",
            "Namibia",
            "Niger",
            "Nigeria",
            "Rwanda",
            "Sudan",
            "Senegal",
            "Sierra Leone",
            "Somalia",
            "South Sudan",
            "Sao Tome and Principe",
            "Kingdom of Eswatini",
            "Seychelles",
            "Chad",
            "Togo",
            "Tunisia",
            "Tanzania",
            "Uganda",
            "South Africa",
            "Zambia",
            "Zimbabwe"
           ],
           "type": "choropleth",
           "z": [
            0.50041787966491,
            0.940174816755452,
            0.623826834801147,
            0.643551373903919,
            0.211459544421448,
            0.538598663665824,
            0.46885191846521,
            0.446346361526599,
            0.371119558741945,
            0.837008637328175,
            0.511357242276449,
            0.999999999998714,
            0.999999999999456,
            0.23329207219443,
            0.494592763551459,
            0.746084033263406,
            0.549544327989928,
            0.641889290938212,
            0.522799793719667,
            0.620371890217404,
            0.663112117708525,
            0.893659773098942,
            0.99999999999863,
            0.743165870116597,
            0.66260945230745,
            0.462037600022547,
            0.804073892131192,
            0.391131061062351,
            0.387275716742548,
            0.543634278872863,
            0.443832156876285,
            0.601395883547712,
            0.792329434290405,
            0.833014975380626,
            0.540849230913758,
            0.501243347464958,
            0.150882718972675,
            0.83400063183766,
            0.396678556476584,
            0.529724059542855,
            0.588344072443632,
            0.649973314675418,
            0.262050194860078,
            0.999999999997174,
            0.999999999998414,
            0.999999999995768,
            0.488535876759519,
            0.569418128874694,
            0.376566889036745,
            0.380609265372989,
            0.681622210851715,
            0.562497330542855,
            0.259466008369452,
            0.72280120363518
           ]
          }
         ],
         "name": "1980"
        },
        {
         "data": [
          {
           "colorbar": {
            "len": 0.5,
            "lenmode": "fraction",
            "tickmode": "array",
            "title": {
             "text": "Urban Level"
            },
            "x": 0.45
           },
           "colorscale": [
            [
             0,
             "rgb(247,251,255)"
            ],
            [
             0.125,
             "rgb(222,235,247)"
            ],
            [
             0.25,
             "rgb(198,219,239)"
            ],
            [
             0.375,
             "rgb(158,202,225)"
            ],
            [
             0.5,
             "rgb(107,174,214)"
            ],
            [
             0.625,
             "rgb(66,146,198)"
            ],
            [
             0.75,
             "rgb(33,113,181)"
            ],
            [
             0.875,
             "rgb(8,81,156)"
            ],
            [
             1,
             "rgb(8,48,107)"
            ]
           ],
           "locationmode": "ISO-3",
           "locations": [
            "AGO",
            "BDI",
            "BEN",
            "BFA",
            "BWA",
            "CAF",
            "CIV",
            "CMR",
            "COD",
            "COG",
            "COM",
            "CPV",
            "DJI",
            "DZA",
            "EGY",
            "ERI",
            "ETH",
            "GAB",
            "GHA",
            "GIN",
            "GMB",
            "GNB",
            "GNQ",
            "KEN",
            "LBR",
            "LBY",
            "LSO",
            "MAR",
            "MDG",
            "MLI",
            "MOZ",
            "MRT",
            "MUS",
            "MWI",
            "NAM",
            "NER",
            "NGA",
            "RWA",
            "SDN",
            "SEN",
            "SLE",
            "SOM",
            "SSD",
            "STP",
            "SWZ",
            "SYC",
            "TCD",
            "TGO",
            "TUN",
            "TZA",
            "UGA",
            "ZAF",
            "ZMB",
            "ZWE"
           ],
           "text": [
            "Angola",
            "Burundi",
            "Benin",
            "Burkina Faso",
            "Botswana",
            "Central African Republic",
            "Cote d`Ivoire",
            "Cameroon",
            "Democratic Republic of the Congo",
            "Republic of the Congo",
            "Comoros",
            "Cabo Verde",
            "Djibouti",
            "Algeria",
            "Egypt",
            "Eritrea",
            "Ethiopia",
            "Gabon",
            "Ghana",
            "Guinea",
            "The Gambia",
            "Guinea-Bissau",
            "Equatorial Guinea",
            "Kenya",
            "Liberia",
            "Libya",
            "Lesotho",
            "Morocco",
            "Madagascar",
            "Mali",
            "Mozambique",
            "Mauritania",
            "Mauritius",
            "Malawi",
            "Namibia",
            "Niger",
            "Nigeria",
            "Rwanda",
            "Sudan",
            "Senegal",
            "Sierra Leone",
            "Somalia",
            "South Sudan",
            "Sao Tome and Principe",
            "Kingdom of Eswatini",
            "Seychelles",
            "Chad",
            "Togo",
            "Tunisia",
            "Tanzania",
            "Uganda",
            "South Africa",
            "Zambia",
            "Zimbabwe"
           ],
           "type": "choropleth",
           "z": [
            0.263435658691016,
            0.0532155706826245,
            0.268084280606952,
            0.157428058250006,
            0.405754267210711,
            0.313603544341046,
            0.396016725571467,
            0.342706562055973,
            0.285884773352868,
            0.592013084243409,
            0.118759879425063,
            0.306106767095064,
            0.803912637165645,
            0.400701597261187,
            0.410330132032388,
            0.153984719547798,
            0.0778300330336072,
            0.546908405641479,
            0.256124014045097,
            0.251588749720327,
            0.290020836393509,
            0.221413372040508,
            0.257458979123279,
            0.119310485808667,
            0.315452363556994,
            0.623849112665456,
            0.0950540298374777,
            0.418772991956832,
            0.151883603143968,
            0.167756053811659,
            0.175545221373214,
            0.363345351000069,
            0.555451138492987,
            0.103961582220246,
            0.229221279932149,
            0.142046657457848,
            0.335787234042553,
            0.0384043164297259,
            0.297277498193695,
            0.407785170949255,
            0.235581974607682,
            0.174230972865652,
            0.0758130359272055,
            0.443646811687297,
            0.131228410781372,
            0.343205821559023,
            0.168496130655916,
            0.24706350491264,
            0.411696468375467,
            0.151816182653576,
            0.10142318826367,
            0.346294290377487,
            0.336831007367233,
            0.230208163990286
           ]
          },
          {
           "colorbar": {
            "len": 0.5,
            "lenmode": "fraction",
            "tickmode": "array",
            "title": {
             "text": "Metropolitan Pop. %"
            },
            "x": 0.55
           },
           "colorscale": [
            [
             0,
             "rgb(255,245,235)"
            ],
            [
             0.125,
             "rgb(254,230,206)"
            ],
            [
             0.25,
             "rgb(253,208,162)"
            ],
            [
             0.375,
             "rgb(253,174,107)"
            ],
            [
             0.5,
             "rgb(253,141,60)"
            ],
            [
             0.625,
             "rgb(241,105,19)"
            ],
            [
             0.75,
             "rgb(217,72,1)"
            ],
            [
             0.875,
             "rgb(166,54,3)"
            ],
            [
             1,
             "rgb(127,39,4)"
            ]
           ],
           "locationmode": "ISO-3",
           "locations": [
            "AGO",
            "BDI",
            "BEN",
            "BFA",
            "BWA",
            "CAF",
            "CIV",
            "CMR",
            "COD",
            "COG",
            "COM",
            "CPV",
            "DJI",
            "DZA",
            "EGY",
            "ERI",
            "ETH",
            "GAB",
            "GHA",
            "GIN",
            "GMB",
            "GNB",
            "GNQ",
            "KEN",
            "LBR",
            "LBY",
            "LSO",
            "MAR",
            "MDG",
            "MLI",
            "MOZ",
            "MRT",
            "MUS",
            "MWI",
            "NAM",
            "NER",
            "NGA",
            "RWA",
            "SDN",
            "SEN",
            "SLE",
            "SOM",
            "SSD",
            "STP",
            "SWZ",
            "SYC",
            "TCD",
            "TGO",
            "TUN",
            "TZA",
            "UGA",
            "ZAF",
            "ZMB",
            "ZWE"
           ],
           "text": [
            "Angola",
            "Burundi",
            "Benin",
            "Burkina Faso",
            "Botswana",
            "Central African Republic",
            "Cote d`Ivoire",
            "Cameroon",
            "Democratic Republic of the Congo",
            "Republic of the Congo",
            "Comoros",
            "Cabo Verde",
            "Djibouti",
            "Algeria",
            "Egypt",
            "Eritrea",
            "Ethiopia",
            "Gabon",
            "Ghana",
            "Guinea",
            "The Gambia",
            "Guinea-Bissau",
            "Equatorial Guinea",
            "Kenya",
            "Liberia",
            "Libya",
            "Lesotho",
            "Morocco",
            "Madagascar",
            "Mali",
            "Mozambique",
            "Mauritania",
            "Mauritius",
            "Malawi",
            "Namibia",
            "Niger",
            "Nigeria",
            "Rwanda",
            "Sudan",
            "Senegal",
            "Sierra Leone",
            "Somalia",
            "South Sudan",
            "Sao Tome and Principe",
            "Kingdom of Eswatini",
            "Seychelles",
            "Chad",
            "Togo",
            "Tunisia",
            "Tanzania",
            "Uganda",
            "South Africa",
            "Zambia",
            "Zimbabwe"
           ],
           "type": "choropleth",
           "z": [
            0.472249427090527,
            0.835904409232144,
            0.610343184553425,
            0.600901611146107,
            0.258900668996918,
            0.508992230230188,
            0.461245858010171,
            0.456688759032169,
            0.413569204892455,
            0.817532861104756,
            0.557322499515269,
            0.999999999999081,
            0.999999999999634,
            0.182966063607708,
            0.465633474819655,
            0.725897539330229,
            0.47844906214271,
            0.691789166557346,
            0.512857259971159,
            0.54979627082628,
            0.774340831669803,
            0.867287449776401,
            0.99999999999891,
            0.706289227470326,
            0.699757434429958,
            0.437319904713972,
            0.697132098225668,
            0.352427260674363,
            0.383585481220211,
            0.54210901362032,
            0.441386123578284,
            0.585598377566745,
            0.771857637202704,
            0.738688551071934,
            0.442641178743033,
            0.395795671328855,
            0.170395969407501,
            0.864072143791629,
            0.399799218625502,
            0.536518292464281,
            0.593596425747869,
            0.62664331865848,
            0.244658795610077,
            0.999999999998043,
            0.999999999999039,
            0.999999999995875,
            0.473265967344806,
            0.55800941176464,
            0.364047050389742,
            0.329915567075289,
            0.523662444455359,
            0.500416414581248,
            0.309367731786629,
            0.688545086289207
           ]
          }
         ],
         "name": "1990"
        },
        {
         "data": [
          {
           "colorbar": {
            "len": 0.5,
            "lenmode": "fraction",
            "tickmode": "array",
            "title": {
             "text": "Urban Level"
            },
            "x": 0.45
           },
           "colorscale": [
            [
             0,
             "rgb(247,251,255)"
            ],
            [
             0.125,
             "rgb(222,235,247)"
            ],
            [
             0.25,
             "rgb(198,219,239)"
            ],
            [
             0.375,
             "rgb(158,202,225)"
            ],
            [
             0.5,
             "rgb(107,174,214)"
            ],
            [
             0.625,
             "rgb(66,146,198)"
            ],
            [
             0.75,
             "rgb(33,113,181)"
            ],
            [
             0.875,
             "rgb(8,81,156)"
            ],
            [
             1,
             "rgb(8,48,107)"
            ]
           ],
           "locationmode": "ISO-3",
           "locations": [
            "AGO",
            "BDI",
            "BEN",
            "BFA",
            "BWA",
            "CAF",
            "CIV",
            "CMR",
            "COD",
            "COG",
            "COM",
            "CPV",
            "DJI",
            "DZA",
            "EGY",
            "ERI",
            "ETH",
            "GAB",
            "GHA",
            "GIN",
            "GMB",
            "GNB",
            "GNQ",
            "KEN",
            "LBR",
            "LBY",
            "LSO",
            "MAR",
            "MDG",
            "MLI",
            "MOZ",
            "MRT",
            "MUS",
            "MWI",
            "NAM",
            "NER",
            "NGA",
            "RWA",
            "SDN",
            "SEN",
            "SLE",
            "SOM",
            "SSD",
            "STP",
            "SWZ",
            "SYC",
            "TCD",
            "TGO",
            "TUN",
            "TZA",
            "UGA",
            "ZAF",
            "ZMB",
            "ZWE"
           ],
           "text": [
            "Angola",
            "Burundi",
            "Benin",
            "Burkina Faso",
            "Botswana",
            "Central African Republic",
            "Cote d`Ivoire",
            "Cameroon",
            "Democratic Republic of the Congo",
            "Republic of the Congo",
            "Comoros",
            "Cabo Verde",
            "Djibouti",
            "Algeria",
            "Egypt",
            "Eritrea",
            "Ethiopia",
            "Gabon",
            "Ghana",
            "Guinea",
            "The Gambia",
            "Guinea-Bissau",
            "Equatorial Guinea",
            "Kenya",
            "Liberia",
            "Libya",
            "Lesotho",
            "Morocco",
            "Madagascar",
            "Mali",
            "Mozambique",
            "Mauritania",
            "Mauritius",
            "Malawi",
            "Namibia",
            "Niger",
            "Nigeria",
            "Rwanda",
            "Sudan",
            "Senegal",
            "Sierra Leone",
            "Somalia",
            "South Sudan",
            "Sao Tome and Principe",
            "Kingdom of Eswatini",
            "Seychelles",
            "Chad",
            "Togo",
            "Tunisia",
            "Tanzania",
            "Uganda",
            "South Africa",
            "Zambia",
            "Zimbabwe"
           ],
           "type": "choropleth",
           "z": [
            0.30161226871772,
            0.067342035810857,
            0.309124497104991,
            0.212194490380618,
            0.488416625348356,
            0.33407426929636,
            0.440593087673374,
            0.384383649799129,
            0.286682928166539,
            0.633173116609896,
            0.25601072691959,
            0.390504401902431,
            0.821357052651928,
            0.471403024062917,
            0.417693322114937,
            0.263160339986815,
            0.099670523516184,
            0.644595870171019,
            0.338961616146036,
            0.310018994005567,
            0.383819543913523,
            0.277800039734787,
            0.398094613019017,
            0.194317577944278,
            0.350711785895666,
            0.687326684896553,
            0.165717172884941,
            0.466858709827061,
            0.196556557710332,
            0.218696579075833,
            0.276585291614414,
            0.333353666972469,
            0.641025815032981,
            0.137687403833945,
            0.28264571443966,
            0.157896255782481,
            0.374921487921548,
            0.2107817314653,
            0.360704361003635,
            0.409116111971219,
            0.280248781300499,
            0.230648888888889,
            0.106542118557487,
            0.46196502938831,
            0.255216641133568,
            0.737770092891761,
            0.189718200259874,
            0.274490664921197,
            0.467265454640713,
            0.274081501476763,
            0.139922997045986,
            0.478237541848697,
            0.337808638089389,
            0.268903796551043
           ]
          },
          {
           "colorbar": {
            "len": 0.5,
            "lenmode": "fraction",
            "tickmode": "array",
            "title": {
             "text": "Metropolitan Pop. %"
            },
            "x": 0.55
           },
           "colorscale": [
            [
             0,
             "rgb(255,245,235)"
            ],
            [
             0.125,
             "rgb(254,230,206)"
            ],
            [
             0.25,
             "rgb(253,208,162)"
            ],
            [
             0.375,
             "rgb(253,174,107)"
            ],
            [
             0.5,
             "rgb(253,141,60)"
            ],
            [
             0.625,
             "rgb(241,105,19)"
            ],
            [
             0.75,
             "rgb(217,72,1)"
            ],
            [
             0.875,
             "rgb(166,54,3)"
            ],
            [
             1,
             "rgb(127,39,4)"
            ]
           ],
           "locationmode": "ISO-3",
           "locations": [
            "AGO",
            "BDI",
            "BEN",
            "BFA",
            "BWA",
            "CAF",
            "CIV",
            "CMR",
            "COD",
            "COG",
            "COM",
            "CPV",
            "DJI",
            "DZA",
            "EGY",
            "ERI",
            "ETH",
            "GAB",
            "GHA",
            "GIN",
            "GMB",
            "GNB",
            "GNQ",
            "KEN",
            "LBR",
            "LBY",
            "LSO",
            "MAR",
            "MDG",
            "MLI",
            "MOZ",
            "MRT",
            "MUS",
            "MWI",
            "NAM",
            "NER",
            "NGA",
            "RWA",
            "SDN",
            "SEN",
            "SLE",
            "SOM",
            "SSD",
            "STP",
            "SWZ",
            "SYC",
            "TCD",
            "TGO",
            "TUN",
            "TZA",
            "UGA",
            "ZAF",
            "ZMB",
            "ZWE"
           ],
           "text": [
            "Angola",
            "Burundi",
            "Benin",
            "Burkina Faso",
            "Botswana",
            "Central African Republic",
            "Cote d`Ivoire",
            "Cameroon",
            "Democratic Republic of the Congo",
            "Republic of the Congo",
            "Comoros",
            "Cabo Verde",
            "Djibouti",
            "Algeria",
            "Egypt",
            "Eritrea",
            "Ethiopia",
            "Gabon",
            "Ghana",
            "Guinea",
            "The Gambia",
            "Guinea-Bissau",
            "Equatorial Guinea",
            "Kenya",
            "Liberia",
            "Libya",
            "Lesotho",
            "Morocco",
            "Madagascar",
            "Mali",
            "Mozambique",
            "Mauritania",
            "Mauritius",
            "Malawi",
            "Namibia",
            "Niger",
            "Nigeria",
            "Rwanda",
            "Sudan",
            "Senegal",
            "Sierra Leone",
            "Somalia",
            "South Sudan",
            "Sao Tome and Principe",
            "Kingdom of Eswatini",
            "Seychelles",
            "Chad",
            "Togo",
            "Tunisia",
            "Tanzania",
            "Uganda",
            "South Africa",
            "Zambia",
            "Zimbabwe"
           ],
           "type": "choropleth",
           "z": [
            0.460113978215663,
            0.794500101362991,
            0.583246800819784,
            0.561103022011456,
            0.261663057773922,
            0.515797326168304,
            0.442453181531457,
            0.498624546098483,
            0.390258185216974,
            0.833041201576233,
            0.340979092444367,
            0.937778275106046,
            0.999999999999744,
            0.152611279152624,
            0.446248549522788,
            0.544181156987581,
            0.389354651669903,
            0.617706279650205,
            0.540795812239768,
            0.515570411904227,
            0.817761265233376,
            0.90553104317653,
            0.999999999999717,
            0.65043117860127,
            0.733974303500169,
            0.445417803520584,
            0.708135779342191,
            0.314782911806483,
            0.472908746852607,
            0.530910756841838,
            0.32317191643108,
            0.667614315922341,
            0.736733662223724,
            0.693745553282252,
            0.440726700834518,
            0.390934832462899,
            0.173484549353284,
            0.475272382159038,
            0.390636083939993,
            0.506135078477318,
            0.570848668835818,
            0.606858910127919,
            0.218272379645035,
            0.999999999998402,
            0.786898584482039,
            0.999999999998289,
            0.447848930833886,
            0.541696380404406,
            0.356278285401673,
            0.24724476336129,
            0.470804626798433,
            0.420737339797804,
            0.339394026607561,
            0.675206385546685
           ]
          }
         ],
         "name": "2000"
        },
        {
         "data": [
          {
           "colorbar": {
            "len": 0.5,
            "lenmode": "fraction",
            "tickmode": "array",
            "title": {
             "text": "Urban Level"
            },
            "x": 0.45
           },
           "colorscale": [
            [
             0,
             "rgb(247,251,255)"
            ],
            [
             0.125,
             "rgb(222,235,247)"
            ],
            [
             0.25,
             "rgb(198,219,239)"
            ],
            [
             0.375,
             "rgb(158,202,225)"
            ],
            [
             0.5,
             "rgb(107,174,214)"
            ],
            [
             0.625,
             "rgb(66,146,198)"
            ],
            [
             0.75,
             "rgb(33,113,181)"
            ],
            [
             0.875,
             "rgb(8,81,156)"
            ],
            [
             1,
             "rgb(8,48,107)"
            ]
           ],
           "locationmode": "ISO-3",
           "locations": [
            "AGO",
            "BDI",
            "BEN",
            "BFA",
            "BWA",
            "CAF",
            "CIV",
            "CMR",
            "COD",
            "COG",
            "COM",
            "CPV",
            "DJI",
            "DZA",
            "EGY",
            "ERI",
            "ETH",
            "GAB",
            "GHA",
            "GIN",
            "GMB",
            "GNB",
            "GNQ",
            "KEN",
            "LBR",
            "LBY",
            "LSO",
            "MAR",
            "MDG",
            "MLI",
            "MOZ",
            "MRT",
            "MUS",
            "MWI",
            "NAM",
            "NER",
            "NGA",
            "RWA",
            "SDN",
            "SEN",
            "SLE",
            "SOM",
            "SSD",
            "STP",
            "SWZ",
            "SYC",
            "TCD",
            "TGO",
            "TUN",
            "TZA",
            "UGA",
            "ZAF",
            "ZMB",
            "ZWE"
           ],
           "text": [
            "Angola",
            "Burundi",
            "Benin",
            "Burkina Faso",
            "Botswana",
            "Central African Republic",
            "Cote d`Ivoire",
            "Cameroon",
            "Democratic Republic of the Congo",
            "Republic of the Congo",
            "Comoros",
            "Cabo Verde",
            "Djibouti",
            "Algeria",
            "Egypt",
            "Eritrea",
            "Ethiopia",
            "Gabon",
            "Ghana",
            "Guinea",
            "The Gambia",
            "Guinea-Bissau",
            "Equatorial Guinea",
            "Kenya",
            "Liberia",
            "Libya",
            "Lesotho",
            "Morocco",
            "Madagascar",
            "Mali",
            "Mozambique",
            "Mauritania",
            "Mauritius",
            "Malawi",
            "Namibia",
            "Niger",
            "Nigeria",
            "Rwanda",
            "Sudan",
            "Senegal",
            "Sierra Leone",
            "Somalia",
            "South Sudan",
            "Sao Tome and Principe",
            "Kingdom of Eswatini",
            "Seychelles",
            "Chad",
            "Togo",
            "Tunisia",
            "Tanzania",
            "Uganda",
            "South Africa",
            "Zambia",
            "Zimbabwe"
           ],
           "type": "choropleth",
           "z": [
            0.498765518974519,
            0.178885193643177,
            0.36388979447024,
            0.247787592886731,
            0.527351560691208,
            0.353180331471542,
            0.466958293600341,
            0.509383240535988,
            0.341933968,
            0.643226041193275,
            0.25209015472795,
            0.466760864040661,
            0.705207789629126,
            0.549281394185336,
            0.496298643597885,
            0.232456584735724,
            0.136505602266681,
            0.720913910453516,
            0.474847844634395,
            0.339756858164874,
            0.43717230692443,
            0.310130058518091,
            0.387328862627645,
            0.293032146480863,
            0.379139983862397,
            0.74185382838605,
            0.238910015019437,
            0.508109911736435,
            0.213475286427638,
            0.281186510459186,
            0.297296285839681,
            0.4061177744931,
            0.713837777537816,
            0.228936130767015,
            0.356026346787182,
            0.15928540596613,
            0.443645543175487,
            0.515861305385323,
            0.399763903689836,
            0.464520448304598,
            0.309154518205933,
            0.315877590395746,
            0.204200567091482,
            0.632634391100834,
            0.275815002202903,
            0.724258586133098,
            0.245893408671775,
            0.410365827820074,
            0.511617270320886,
            0.334598441901546,
            0.173466643121146,
            0.640543521937143,
            0.404945829182797,
            0.28250679234451
           ]
          },
          {
           "colorbar": {
            "len": 0.5,
            "lenmode": "fraction",
            "tickmode": "array",
            "title": {
             "text": "Metropolitan Pop. %"
            },
            "x": 0.55
           },
           "colorscale": [
            [
             0,
             "rgb(255,245,235)"
            ],
            [
             0.125,
             "rgb(254,230,206)"
            ],
            [
             0.25,
             "rgb(253,208,162)"
            ],
            [
             0.375,
             "rgb(253,174,107)"
            ],
            [
             0.5,
             "rgb(253,141,60)"
            ],
            [
             0.625,
             "rgb(241,105,19)"
            ],
            [
             0.75,
             "rgb(217,72,1)"
            ],
            [
             0.875,
             "rgb(166,54,3)"
            ],
            [
             1,
             "rgb(127,39,4)"
            ]
           ],
           "locationmode": "ISO-3",
           "locations": [
            "AGO",
            "BDI",
            "BEN",
            "BFA",
            "BWA",
            "CAF",
            "CIV",
            "CMR",
            "COD",
            "COG",
            "COM",
            "CPV",
            "DJI",
            "DZA",
            "EGY",
            "ERI",
            "ETH",
            "GAB",
            "GHA",
            "GIN",
            "GMB",
            "GNB",
            "GNQ",
            "KEN",
            "LBR",
            "LBY",
            "LSO",
            "MAR",
            "MDG",
            "MLI",
            "MOZ",
            "MRT",
            "MUS",
            "MWI",
            "NAM",
            "NER",
            "NGA",
            "RWA",
            "SDN",
            "SEN",
            "SLE",
            "SOM",
            "SSD",
            "STP",
            "SWZ",
            "SYC",
            "TCD",
            "TGO",
            "TUN",
            "TZA",
            "UGA",
            "ZAF",
            "ZMB",
            "ZWE"
           ],
           "text": [
            "Angola",
            "Burundi",
            "Benin",
            "Burkina Faso",
            "Botswana",
            "Central African Republic",
            "Cote d`Ivoire",
            "Cameroon",
            "Democratic Republic of the Congo",
            "Republic of the Congo",
            "Comoros",
            "Cabo Verde",
            "Djibouti",
            "Algeria",
            "Egypt",
            "Eritrea",
            "Ethiopia",
            "Gabon",
            "Ghana",
            "Guinea",
            "The Gambia",
            "Guinea-Bissau",
            "Equatorial Guinea",
            "Kenya",
            "Liberia",
            "Libya",
            "Lesotho",
            "Morocco",
            "Madagascar",
            "Mali",
            "Mozambique",
            "Mauritania",
            "Mauritius",
            "Malawi",
            "Namibia",
            "Niger",
            "Nigeria",
            "Rwanda",
            "Sudan",
            "Senegal",
            "Sierra Leone",
            "Somalia",
            "South Sudan",
            "Sao Tome and Principe",
            "Kingdom of Eswatini",
            "Seychelles",
            "Chad",
            "Togo",
            "Tunisia",
            "Tanzania",
            "Uganda",
            "South Africa",
            "Zambia",
            "Zimbabwe"
           ],
           "type": "choropleth",
           "z": [
            0.501512783063225,
            0.58365521528189,
            0.475356938275286,
            0.580119355715354,
            0.286892645703235,
            0.527584441913064,
            0.427215738693237,
            0.45244453251491,
            0.337769542685503,
            0.815075931307608,
            0.439199844461969,
            0.871887903548586,
            0.822451178246679,
            0.154764339684261,
            0.40909267437712,
            0.471907371743156,
            0.267544332863525,
            0.592905756622216,
            0.544164614059407,
            0.530276868994495,
            0.842597718453386,
            0.821920225533522,
            0.975387191860061,
            0.465263925077419,
            0.69827246723455,
            0.480627102701185,
            0.577736717487868,
            0.310131903998911,
            0.475240881549494,
            0.514555863747562,
            0.30475801795674,
            0.638827669944784,
            0.707690575385574,
            0.505562221970697,
            0.424206331522379,
            0.365301765382975,
            0.167590718742467,
            0.398032303041225,
            0.354425495894098,
            0.459215863397962,
            0.573316907305765,
            0.565119920632201,
            0.157905649951213,
            0.800566009279003,
            0.810141780292466,
            0.999999999998436,
            0.347881529935609,
            0.558297417659724,
            0.349167465007321,
            0.277951641660616,
            0.447246142903675,
            0.409663897604819,
            0.365404857613729,
            0.614099143691032
           ]
          }
         ],
         "name": "2010"
        },
        {
         "data": [
          {
           "colorbar": {
            "len": 0.5,
            "lenmode": "fraction",
            "tickmode": "array",
            "title": {
             "text": "Urban Level"
            },
            "x": 0.45
           },
           "colorscale": [
            [
             0,
             "rgb(247,251,255)"
            ],
            [
             0.125,
             "rgb(222,235,247)"
            ],
            [
             0.25,
             "rgb(198,219,239)"
            ],
            [
             0.375,
             "rgb(158,202,225)"
            ],
            [
             0.5,
             "rgb(107,174,214)"
            ],
            [
             0.625,
             "rgb(66,146,198)"
            ],
            [
             0.75,
             "rgb(33,113,181)"
            ],
            [
             0.875,
             "rgb(8,81,156)"
            ],
            [
             1,
             "rgb(8,48,107)"
            ]
           ],
           "locationmode": "ISO-3",
           "locations": [
            "AGO",
            "BDI",
            "BEN",
            "BFA",
            "BWA",
            "CAF",
            "CIV",
            "CMR",
            "COD",
            "COG",
            "COM",
            "CPV",
            "DJI",
            "DZA",
            "EGY",
            "ERI",
            "ETH",
            "GAB",
            "GHA",
            "GIN",
            "GMB",
            "GNB",
            "GNQ",
            "KEN",
            "LBR",
            "LBY",
            "LSO",
            "MAR",
            "MDG",
            "MLI",
            "MOZ",
            "MRT",
            "MUS",
            "MWI",
            "NAM",
            "NER",
            "NGA",
            "RWA",
            "SDN",
            "SEN",
            "SLE",
            "SOM",
            "SSD",
            "STP",
            "SWZ",
            "SYC",
            "TCD",
            "TGO",
            "TUN",
            "TZA",
            "UGA",
            "ZAF",
            "ZMB",
            "ZWE"
           ],
           "text": [
            "Angola",
            "Burundi",
            "Benin",
            "Burkina Faso",
            "Botswana",
            "Central African Republic",
            "Cote d`Ivoire",
            "Cameroon",
            "Democratic Republic of the Congo",
            "Republic of the Congo",
            "Comoros",
            "Cabo Verde",
            "Djibouti",
            "Algeria",
            "Egypt",
            "Eritrea",
            "Ethiopia",
            "Gabon",
            "Ghana",
            "Guinea",
            "The Gambia",
            "Guinea-Bissau",
            "Equatorial Guinea",
            "Kenya",
            "Liberia",
            "Libya",
            "Lesotho",
            "Morocco",
            "Madagascar",
            "Mali",
            "Mozambique",
            "Mauritania",
            "Mauritius",
            "Malawi",
            "Namibia",
            "Niger",
            "Nigeria",
            "Rwanda",
            "Sudan",
            "Senegal",
            "Sierra Leone",
            "Somalia",
            "South Sudan",
            "Sao Tome and Principe",
            "Kingdom of Eswatini",
            "Seychelles",
            "Chad",
            "Togo",
            "Tunisia",
            "Tanzania",
            "Uganda",
            "South Africa",
            "Zambia",
            "Zimbabwe"
           ],
           "type": "choropleth",
           "z": [
            0.633101566029755,
            0.18369896134175,
            0.438010234553003,
            0.275629096977024,
            0.532285960674838,
            0.358565890108564,
            0.480565450643777,
            0.564208400047846,
            0.436016057041799,
            0.644758607654292,
            0.47825345752322,
            0.502851383201895,
            0.720504184100418,
            0.611265270375097,
            0.667245906553751,
            0.244498658964308,
            0.251902573880415,
            0.806949548374722,
            0.492277206073079,
            0.370252892823147,
            0.452753576210971,
            0.343293674463638,
            0.49654707544407,
            0.403635340665106,
            0.419326896193016,
            0.74185382838605,
            0.25471023575321,
            0.567501519012736,
            0.216073664534512,
            0.311882898941254,
            0.305258799595731,
            0.424641859664961,
            0.739648583682149,
            0.241527077646276,
            0.39717963800905,
            0.172901656534526,
            0.505635445207495,
            0.5491965612375,
            0.416707922196009,
            0.490773449282978,
            0.361285557632824,
            0.358248520710059,
            0.217879496963105,
            0.804276381909548,
            0.278532530651799,
            0.725987218874105,
            0.280541363169385,
            0.48406832479883,
            0.564473935678192,
            0.367658972449281,
            0.381045420632232,
            0.675484764309758,
            0.443014088147861,
            0.330413113392137
           ]
          },
          {
           "colorbar": {
            "len": 0.5,
            "lenmode": "fraction",
            "tickmode": "array",
            "title": {
             "text": "Metropolitan Pop. %"
            },
            "x": 0.55
           },
           "colorscale": [
            [
             0,
             "rgb(255,245,235)"
            ],
            [
             0.125,
             "rgb(254,230,206)"
            ],
            [
             0.25,
             "rgb(253,208,162)"
            ],
            [
             0.375,
             "rgb(253,174,107)"
            ],
            [
             0.5,
             "rgb(253,141,60)"
            ],
            [
             0.625,
             "rgb(241,105,19)"
            ],
            [
             0.75,
             "rgb(217,72,1)"
            ],
            [
             0.875,
             "rgb(166,54,3)"
            ],
            [
             1,
             "rgb(127,39,4)"
            ]
           ],
           "locationmode": "ISO-3",
           "locations": [
            "AGO",
            "BDI",
            "BEN",
            "BFA",
            "BWA",
            "CAF",
            "CIV",
            "CMR",
            "COD",
            "COG",
            "COM",
            "CPV",
            "DJI",
            "DZA",
            "EGY",
            "ERI",
            "ETH",
            "GAB",
            "GHA",
            "GIN",
            "GMB",
            "GNB",
            "GNQ",
            "KEN",
            "LBR",
            "LBY",
            "LSO",
            "MAR",
            "MDG",
            "MLI",
            "MOZ",
            "MRT",
            "MUS",
            "MWI",
            "NAM",
            "NER",
            "NGA",
            "RWA",
            "SDN",
            "SEN",
            "SLE",
            "SOM",
            "SSD",
            "STP",
            "SWZ",
            "SYC",
            "TCD",
            "TGO",
            "TUN",
            "TZA",
            "UGA",
            "ZAF",
            "ZMB",
            "ZWE"
           ],
           "text": [
            "Angola",
            "Burundi",
            "Benin",
            "Burkina Faso",
            "Botswana",
            "Central African Republic",
            "Cote d`Ivoire",
            "Cameroon",
            "Democratic Republic of the Congo",
            "Republic of the Congo",
            "Comoros",
            "Cabo Verde",
            "Djibouti",
            "Algeria",
            "Egypt",
            "Eritrea",
            "Ethiopia",
            "Gabon",
            "Ghana",
            "Guinea",
            "The Gambia",
            "Guinea-Bissau",
            "Equatorial Guinea",
            "Kenya",
            "Liberia",
            "Libya",
            "Lesotho",
            "Morocco",
            "Madagascar",
            "Mali",
            "Mozambique",
            "Mauritania",
            "Mauritius",
            "Malawi",
            "Namibia",
            "Niger",
            "Nigeria",
            "Rwanda",
            "Sudan",
            "Senegal",
            "Sierra Leone",
            "Somalia",
            "South Sudan",
            "Sao Tome and Principe",
            "Kingdom of Eswatini",
            "Seychelles",
            "Chad",
            "Togo",
            "Tunisia",
            "Tanzania",
            "Uganda",
            "South Africa",
            "Zambia",
            "Zimbabwe"
           ],
           "type": "choropleth",
           "z": [
            0.44107918873207,
            0.578428118386759,
            0.44595133312391,
            0.583396732627484,
            0.288065536257619,
            0.530592794825321,
            0.421297961316132,
            0.516962113643005,
            0.30089105213685,
            0.805271786693286,
            0.3206072238701,
            0.847313319161676,
            0.806331863147783,
            0.15908805282988,
            0.380282132215095,
            0.392680693789864,
            0.163560381608028,
            0.58803337768461,
            0.537797343047271,
            0.540718838398198,
            0.860848849654906,
            0.781451609833558,
            0.936408566721427,
            0.400309148408346,
            0.701922300322612,
            0.480627102701185,
            0.602883370624389,
            0.315047462845912,
            0.46953075412101,
            0.500542155905532,
            0.316764769207511,
            0.619232724808186,
            0.664374804579513,
            0.504569974933873,
            0.407005503738417,
            0.328743322234907,
            0.146487035076578,
            0.353389894700078,
            0.328712283518624,
            0.441953654782684,
            0.568476956832921,
            0.532681465820989,
            0.141150360643605,
            0.84189414624036,
            0.81777390459754,
            0.999999999998526,
            0.315525535172653,
            0.523885127487171,
            0.38915984436174,
            0.296926589449131,
            0.279845042270995,
            0.408118367023617,
            0.353992443692374,
            0.637440824131802
           ]
          }
         ],
         "name": "2015"
        },
        {
         "data": [
          {
           "colorbar": {
            "len": 0.5,
            "lenmode": "fraction",
            "tickmode": "array",
            "title": {
             "text": "Urban Level"
            },
            "x": 0.45
           },
           "colorscale": [
            [
             0,
             "rgb(247,251,255)"
            ],
            [
             0.125,
             "rgb(222,235,247)"
            ],
            [
             0.25,
             "rgb(198,219,239)"
            ],
            [
             0.375,
             "rgb(158,202,225)"
            ],
            [
             0.5,
             "rgb(107,174,214)"
            ],
            [
             0.625,
             "rgb(66,146,198)"
            ],
            [
             0.75,
             "rgb(33,113,181)"
            ],
            [
             0.875,
             "rgb(8,81,156)"
            ],
            [
             1,
             "rgb(8,48,107)"
            ]
           ],
           "locationmode": "ISO-3",
           "locations": [
            "AGO",
            "BDI",
            "BEN",
            "BFA",
            "BWA",
            "CAF",
            "CIV",
            "CMR",
            "COD",
            "COG",
            "COM",
            "CPV",
            "DJI",
            "DZA",
            "EGY",
            "ERI",
            "ETH",
            "GAB",
            "GHA",
            "GIN",
            "GMB",
            "GNB",
            "GNQ",
            "KEN",
            "LBR",
            "LBY",
            "LSO",
            "MAR",
            "MDG",
            "MLI",
            "MOZ",
            "MRT",
            "MUS",
            "MWI",
            "NAM",
            "NER",
            "NGA",
            "RWA",
            "SDN",
            "SEN",
            "SLE",
            "SOM",
            "SSD",
            "STP",
            "SWZ",
            "SYC",
            "TCD",
            "TGO",
            "TUN",
            "TZA",
            "UGA",
            "ZAF",
            "ZMB",
            "ZWE"
           ],
           "text": [
            "Angola",
            "Burundi",
            "Benin",
            "Burkina Faso",
            "Botswana",
            "Central African Republic",
            "Cote d`Ivoire",
            "Cameroon",
            "Democratic Republic of the Congo",
            "Republic of the Congo",
            "Comoros",
            "Cabo Verde",
            "Djibouti",
            "Algeria",
            "Egypt",
            "Eritrea",
            "Ethiopia",
            "Gabon",
            "Ghana",
            "Guinea",
            "The Gambia",
            "Guinea-Bissau",
            "Equatorial Guinea",
            "Kenya",
            "Liberia",
            "Libya",
            "Lesotho",
            "Morocco",
            "Madagascar",
            "Mali",
            "Mozambique",
            "Mauritania",
            "Mauritius",
            "Malawi",
            "Namibia",
            "Niger",
            "Nigeria",
            "Rwanda",
            "Sudan",
            "Senegal",
            "Sierra Leone",
            "Somalia",
            "South Sudan",
            "Sao Tome and Principe",
            "Kingdom of Eswatini",
            "Seychelles",
            "Chad",
            "Togo",
            "Tunisia",
            "Tanzania",
            "Uganda",
            "South Africa",
            "Zambia",
            "Zimbabwe"
           ],
           "type": "choropleth",
           "z": [
            0.628856018250755,
            0.77867051681983,
            0.581129413212586,
            0.319052508057146,
            0.572393169877408,
            0.4546803003003,
            0.527116761638533,
            0.596365170474113,
            0.465506904692854,
            0.709738574040219,
            0.603663774515723,
            0.563369834710744,
            0.688913888888889,
            0.699826706516422,
            0.980103893115984,
            0.395723357621629,
            0.293912152719271,
            0.765375194093798,
            0.541148889585326,
            0.397641643909383,
            0.477620008972634,
            0.380499370426189,
            0.522243644800194,
            0.805144985483971,
            0.443031257235288,
            0.798626885009378,
            0.422837742711875,
            0.682257580608779,
            0.225025196797561,
            0.342838028300464,
            0.386615159891392,
            0.42719446153052,
            0.858916530278232,
            0.357350677506775,
            0.444492614770459,
            0.179807553598113,
            0.583779179708607,
            0.659216329354099,
            0.465172794556735,
            0.533046453157737,
            0.453855421686747,
            0.393371744386874,
            0.453023025660171,
            0.735571428571429,
            0.385858378643019,
            0.781357142857143,
            0.319072810743109,
            0.608107152145644,
            0.7076270677333,
            0.372712925052047,
            0.489730079597922,
            0.731158175471419,
            0.449335199440168,
            0.386360828241684
           ]
          },
          {
           "colorbar": {
            "len": 0.5,
            "lenmode": "fraction",
            "tickmode": "array",
            "title": {
             "text": "Metropolitan Pop. %"
            },
            "x": 0.55
           },
           "colorscale": [
            [
             0,
             "rgb(255,245,235)"
            ],
            [
             0.125,
             "rgb(254,230,206)"
            ],
            [
             0.25,
             "rgb(253,208,162)"
            ],
            [
             0.375,
             "rgb(253,174,107)"
            ],
            [
             0.5,
             "rgb(253,141,60)"
            ],
            [
             0.625,
             "rgb(241,105,19)"
            ],
            [
             0.75,
             "rgb(217,72,1)"
            ],
            [
             0.875,
             "rgb(166,54,3)"
            ],
            [
             1,
             "rgb(127,39,4)"
            ]
           ],
           "locationmode": "ISO-3",
           "locations": [
            "AGO",
            "BDI",
            "BEN",
            "BFA",
            "BWA",
            "CAF",
            "CIV",
            "CMR",
            "COD",
            "COG",
            "COM",
            "CPV",
            "DJI",
            "DZA",
            "EGY",
            "ERI",
            "ETH",
            "GAB",
            "GHA",
            "GIN",
            "GMB",
            "GNB",
            "GNQ",
            "KEN",
            "LBR",
            "LBY",
            "LSO",
            "MAR",
            "MDG",
            "MLI",
            "MOZ",
            "MRT",
            "MUS",
            "MWI",
            "NAM",
            "NER",
            "NGA",
            "RWA",
            "SDN",
            "SEN",
            "SLE",
            "SOM",
            "SSD",
            "STP",
            "SWZ",
            "SYC",
            "TCD",
            "TGO",
            "TUN",
            "TZA",
            "UGA",
            "ZAF",
            "ZMB",
            "ZWE"
           ],
           "text": [
            "Angola",
            "Burundi",
            "Benin",
            "Burkina Faso",
            "Botswana",
            "Central African Republic",
            "Cote d`Ivoire",
            "Cameroon",
            "Democratic Republic of the Congo",
            "Republic of the Congo",
            "Comoros",
            "Cabo Verde",
            "Djibouti",
            "Algeria",
            "Egypt",
            "Eritrea",
            "Ethiopia",
            "Gabon",
            "Ghana",
            "Guinea",
            "The Gambia",
            "Guinea-Bissau",
            "Equatorial Guinea",
            "Kenya",
            "Liberia",
            "Libya",
            "Lesotho",
            "Morocco",
            "Madagascar",
            "Mali",
            "Mozambique",
            "Mauritania",
            "Mauritius",
            "Malawi",
            "Namibia",
            "Niger",
            "Nigeria",
            "Rwanda",
            "Sudan",
            "Senegal",
            "Sierra Leone",
            "Somalia",
            "South Sudan",
            "Sao Tome and Principe",
            "Kingdom of Eswatini",
            "Seychelles",
            "Chad",
            "Togo",
            "Tunisia",
            "Tanzania",
            "Uganda",
            "South Africa",
            "Zambia",
            "Zimbabwe"
           ],
           "type": "choropleth",
           "z": [
            0.424602262389174,
            0.206335426309609,
            0.400388526176001,
            0.567419020438591,
            0.288987766054259,
            0.509713652875836,
            0.39958501887968,
            0.518132687011729,
            0.297658690669307,
            0.795922488647085,
            0.294401487399528,
            0.764125997997307,
            0.771115833161865,
            0.155266966241769,
            0.383135667074252,
            0.343564647100882,
            0.144127200769727,
            0.585175845031157,
            0.486902148361935,
            0.51683742983007,
            0.85343527942018,
            0.721975315896071,
            0.934079432236804,
            0.230784160525782,
            0.708492267402831,
            0.419845746855346,
            0.473247039991116,
            0.278889537134267,
            0.459619587118125,
            0.509041798386685,
            0.219418685722441,
            0.627114411705297,
            0.60505565951084,
            0.351372946344063,
            0.418665701501776,
            0.287721457099946,
            0.142297298374387,
            0.359825884913414,
            0.357396967577426,
            0.435345516405613,
            0.585198949945415,
            0.50461990538905,
            0.187339147896125,
            0.806739172654362,
            0.637083136941146,
            0.999999999998694,
            0.307373624916399,
            0.578592592846023,
            0.371170682327064,
            0.260743233785809,
            0.233126344529476,
            0.381703836966197,
            0.330112012267436,
            0.574409845556952
           ]
          }
         ],
         "name": "2020"
        },
        {
         "data": [
          {
           "colorbar": {
            "len": 0.5,
            "lenmode": "fraction",
            "tickmode": "array",
            "title": {
             "text": "Urban Level"
            },
            "x": 0.45
           },
           "colorscale": [
            [
             0,
             "rgb(247,251,255)"
            ],
            [
             0.125,
             "rgb(222,235,247)"
            ],
            [
             0.25,
             "rgb(198,219,239)"
            ],
            [
             0.375,
             "rgb(158,202,225)"
            ],
            [
             0.5,
             "rgb(107,174,214)"
            ],
            [
             0.625,
             "rgb(66,146,198)"
            ],
            [
             0.75,
             "rgb(33,113,181)"
            ],
            [
             0.875,
             "rgb(8,81,156)"
            ],
            [
             1,
             "rgb(8,48,107)"
            ]
           ],
           "locationmode": "ISO-3",
           "locations": [
            "AGO",
            "BDI",
            "BEN",
            "BFA",
            "BWA",
            "CAF",
            "CIV",
            "CMR",
            "COD",
            "COG",
            "COM",
            "CPV",
            "DJI",
            "DZA",
            "EGY",
            "ERI",
            "ETH",
            "GAB",
            "GHA",
            "GIN",
            "GMB",
            "GNB",
            "GNQ",
            "KEN",
            "LBR",
            "LBY",
            "LSO",
            "MAR",
            "MDG",
            "MLI",
            "MOZ",
            "MRT",
            "MUS",
            "MWI",
            "NAM",
            "NER",
            "NGA",
            "RWA",
            "SDN",
            "SEN",
            "SLE",
            "SOM",
            "SSD",
            "STP",
            "SWZ",
            "SYC",
            "TCD",
            "TGO",
            "TUN",
            "TZA",
            "UGA",
            "ZAF",
            "ZMB",
            "ZWE"
           ],
           "text": [
            "Angola",
            "Burundi",
            "Benin",
            "Burkina Faso",
            "Botswana",
            "Central African Republic",
            "Cote d`Ivoire",
            "Cameroon",
            "Democratic Republic of the Congo",
            "Republic of the Congo",
            "Comoros",
            "Cabo Verde",
            "Djibouti",
            "Algeria",
            "Egypt",
            "Eritrea",
            "Ethiopia",
            "Gabon",
            "Ghana",
            "Guinea",
            "The Gambia",
            "Guinea-Bissau",
            "Equatorial Guinea",
            "Kenya",
            "Liberia",
            "Libya",
            "Lesotho",
            "Morocco",
            "Madagascar",
            "Mali",
            "Mozambique",
            "Mauritania",
            "Mauritius",
            "Malawi",
            "Namibia",
            "Niger",
            "Nigeria",
            "Rwanda",
            "Sudan",
            "Senegal",
            "Sierra Leone",
            "Somalia",
            "South Sudan",
            "Sao Tome and Principe",
            "Kingdom of Eswatini",
            "Seychelles",
            "Chad",
            "Togo",
            "Tunisia",
            "Tanzania",
            "Uganda",
            "South Africa",
            "Zambia",
            "Zimbabwe"
           ],
           "type": "choropleth",
           "z": [
            0.644370855435646,
            0.781713352455619,
            0.609881100641287,
            0.351111971306097,
            0.599499310595124,
            0.486962827940611,
            0.549072212878268,
            0.630254320230852,
            0.500135495811718,
            0.734002715999147,
            0.596484558544326,
            0.582985872841684,
            0.695580682558918,
            0.716181882809647,
            0.949493607401448,
            0.428895977584437,
            0.314078355413702,
            0.777881188794652,
            0.564693192567502,
            0.418382668333529,
            0.524772567163086,
            0.389632462305762,
            0.561574756237378,
            0.839495762435904,
            0.452343588044021,
            0.804652843695836,
            0.49895426988488,
            0.705979480568678,
            0.245749291385203,
            0.362439420338409,
            0.412430716599848,
            0.442166463462459,
            0.867806388079658,
            0.385141792428792,
            0.497499974109515,
            0.196838221372098,
            0.607760295109988,
            0.673665187137005,
            0.49454167128374,
            0.55132613428023,
            0.429189585937273,
            0.427249856240431,
            0.473466056161291,
            0.764685047960689,
            0.432050317094692,
            0.779305421031084,
            0.339405203784018,
            0.658984977753547,
            0.728347261607464,
            0.396300925284801,
            0.564557868523153,
            0.755932450125991,
            0.459384632785626,
            0.39268779669457
           ]
          },
          {
           "colorbar": {
            "len": 0.5,
            "lenmode": "fraction",
            "tickmode": "array",
            "title": {
             "text": "Metropolitan Pop. %"
            },
            "x": 0.55
           },
           "colorscale": [
            [
             0,
             "rgb(255,245,235)"
            ],
            [
             0.125,
             "rgb(254,230,206)"
            ],
            [
             0.25,
             "rgb(253,208,162)"
            ],
            [
             0.375,
             "rgb(253,174,107)"
            ],
            [
             0.5,
             "rgb(253,141,60)"
            ],
            [
             0.625,
             "rgb(241,105,19)"
            ],
            [
             0.75,
             "rgb(217,72,1)"
            ],
            [
             0.875,
             "rgb(166,54,3)"
            ],
            [
             1,
             "rgb(127,39,4)"
            ]
           ],
           "locationmode": "ISO-3",
           "locations": [
            "AGO",
            "BDI",
            "BEN",
            "BFA",
            "BWA",
            "CAF",
            "CIV",
            "CMR",
            "COD",
            "COG",
            "COM",
            "CPV",
            "DJI",
            "DZA",
            "EGY",
            "ERI",
            "ETH",
            "GAB",
            "GHA",
            "GIN",
            "GMB",
            "GNB",
            "GNQ",
            "KEN",
            "LBR",
            "LBY",
            "LSO",
            "MAR",
            "MDG",
            "MLI",
            "MOZ",
            "MRT",
            "MUS",
            "MWI",
            "NAM",
            "NER",
            "NGA",
            "RWA",
            "SDN",
            "SEN",
            "SLE",
            "SOM",
            "SSD",
            "STP",
            "SWZ",
            "SYC",
            "TCD",
            "TGO",
            "TUN",
            "TZA",
            "UGA",
            "ZAF",
            "ZMB",
            "ZWE"
           ],
           "text": [
            "Angola",
            "Burundi",
            "Benin",
            "Burkina Faso",
            "Botswana",
            "Central African Republic",
            "Cote d`Ivoire",
            "Cameroon",
            "Democratic Republic of the Congo",
            "Republic of the Congo",
            "Comoros",
            "Cabo Verde",
            "Djibouti",
            "Algeria",
            "Egypt",
            "Eritrea",
            "Ethiopia",
            "Gabon",
            "Ghana",
            "Guinea",
            "The Gambia",
            "Guinea-Bissau",
            "Equatorial Guinea",
            "Kenya",
            "Liberia",
            "Libya",
            "Lesotho",
            "Morocco",
            "Madagascar",
            "Mali",
            "Mozambique",
            "Mauritania",
            "Mauritius",
            "Malawi",
            "Namibia",
            "Niger",
            "Nigeria",
            "Rwanda",
            "Sudan",
            "Senegal",
            "Sierra Leone",
            "Somalia",
            "South Sudan",
            "Sao Tome and Principe",
            "Kingdom of Eswatini",
            "Seychelles",
            "Chad",
            "Togo",
            "Tunisia",
            "Tanzania",
            "Uganda",
            "South Africa",
            "Zambia",
            "Zimbabwe"
           ],
           "type": "choropleth",
           "z": [
            0.43619176632168,
            0.198709786666795,
            0.396791510571695,
            0.557971881798289,
            0.286640475959608,
            0.503705632017256,
            0.391149431074047,
            0.519254446292228,
            0.296244234647675,
            0.790361098278747,
            0.291265124039388,
            0.765474735021686,
            0.773309515286928,
            0.178888689558422,
            0.380437461005318,
            0.33091201079744,
            0.138378263198588,
            0.5821957429274,
            0.483867655941932,
            0.51304928578707,
            0.859981898873136,
            0.719163035850652,
            0.90906243668489,
            0.402323131953292,
            0.740949226574327,
            0.417614390847634,
            0.460248720729879,
            0.293830705573088,
            0.455931406968533,
            0.504913997293403,
            0.203070869497806,
            0.625258410335251,
            0.605843998391761,
            0.335487980904369,
            0.42091383580064,
            0.252007198980553,
            0.142485507662598,
            0.381397838176248,
            0.398208410947019,
            0.422994870644598,
            0.587029439477594,
            0.4818245367702,
            0.209125391635207,
            0.746735559611893,
            0.629026377211028,
            0.999999999998719,
            0.312457659310083,
            0.605820745423628,
            0.372243910051529,
            0.263854990315109,
            0.230552811908693,
            0.402364660317174,
            0.332246495934186,
            0.578078984536458
           ]
          }
         ],
         "name": "2025"
        },
        {
         "data": [
          {
           "colorbar": {
            "len": 0.5,
            "lenmode": "fraction",
            "tickmode": "array",
            "title": {
             "text": "Urban Level"
            },
            "x": 0.45
           },
           "colorscale": [
            [
             0,
             "rgb(247,251,255)"
            ],
            [
             0.125,
             "rgb(222,235,247)"
            ],
            [
             0.25,
             "rgb(198,219,239)"
            ],
            [
             0.375,
             "rgb(158,202,225)"
            ],
            [
             0.5,
             "rgb(107,174,214)"
            ],
            [
             0.625,
             "rgb(66,146,198)"
            ],
            [
             0.75,
             "rgb(33,113,181)"
            ],
            [
             0.875,
             "rgb(8,81,156)"
            ],
            [
             1,
             "rgb(8,48,107)"
            ]
           ],
           "locationmode": "ISO-3",
           "locations": [
            "AGO",
            "BDI",
            "BEN",
            "BFA",
            "BWA",
            "CAF",
            "CIV",
            "CMR",
            "COD",
            "COG",
            "COM",
            "CPV",
            "DJI",
            "DZA",
            "EGY",
            "ERI",
            "ETH",
            "GAB",
            "GHA",
            "GIN",
            "GMB",
            "GNB",
            "GNQ",
            "KEN",
            "LBR",
            "LBY",
            "LSO",
            "MAR",
            "MDG",
            "MLI",
            "MOZ",
            "MRT",
            "MUS",
            "MWI",
            "NAM",
            "NER",
            "NGA",
            "RWA",
            "SDN",
            "SEN",
            "SLE",
            "SOM",
            "SSD",
            "STP",
            "SWZ",
            "SYC",
            "TCD",
            "TGO",
            "TUN",
            "TZA",
            "UGA",
            "ZAF",
            "ZMB",
            "ZWE"
           ],
           "text": [
            "Angola",
            "Burundi",
            "Benin",
            "Burkina Faso",
            "Botswana",
            "Central African Republic",
            "Cote d`Ivoire",
            "Cameroon",
            "Democratic Republic of the Congo",
            "Republic of the Congo",
            "Comoros",
            "Cabo Verde",
            "Djibouti",
            "Algeria",
            "Egypt",
            "Eritrea",
            "Ethiopia",
            "Gabon",
            "Ghana",
            "Guinea",
            "The Gambia",
            "Guinea-Bissau",
            "Equatorial Guinea",
            "Kenya",
            "Liberia",
            "Libya",
            "Lesotho",
            "Morocco",
            "Madagascar",
            "Mali",
            "Mozambique",
            "Mauritania",
            "Mauritius",
            "Malawi",
            "Namibia",
            "Niger",
            "Nigeria",
            "Rwanda",
            "Sudan",
            "Senegal",
            "Sierra Leone",
            "Somalia",
            "South Sudan",
            "Sao Tome and Principe",
            "Kingdom of Eswatini",
            "Seychelles",
            "Chad",
            "Togo",
            "Tunisia",
            "Tanzania",
            "Uganda",
            "South Africa",
            "Zambia",
            "Zimbabwe"
           ],
           "type": "choropleth",
           "z": [
            0.661679404285424,
            0.798363827160471,
            0.628203737972548,
            0.379317777757986,
            0.625917758851249,
            0.514967834721217,
            0.575957306185188,
            0.662105836371104,
            0.53170059761707,
            0.759465227531718,
            0.619412751630883,
            0.64570139630264,
            0.702247334030822,
            0.731345436908108,
            0.950906257864613,
            0.450911430863387,
            0.332080444989694,
            0.794049499226714,
            0.584495926474965,
            0.442557078650536,
            0.5904368431501,
            0.403255251500042,
            0.604835299973007,
            0.858562335172336,
            0.459346316969797,
            0.808728082961755,
            0.572774377900243,
            0.726882254841559,
            0.265929963555669,
            0.383312545208099,
            0.435278250922249,
            0.451445380793736,
            0.876696440452429,
            0.397163131444935,
            0.54471904230685,
            0.209260935795612,
            0.630278438212668,
            0.687388000221659,
            0.518960836717076,
            0.570072828193272,
            0.453934662247325,
            0.461321477923883,
            0.492434976057357,
            0.831118792386786,
            0.454452897976436,
            0.779950457354759,
            0.363073875543375,
            0.695837906151617,
            0.735767382312277,
            0.416167964905554,
            0.609094218697624,
            0.769440645516592,
            0.471700728397123,
            0.398896697373709
           ]
          },
          {
           "colorbar": {
            "len": 0.5,
            "lenmode": "fraction",
            "tickmode": "array",
            "title": {
             "text": "Metropolitan Pop. %"
            },
            "x": 0.55
           },
           "colorscale": [
            [
             0,
             "rgb(255,245,235)"
            ],
            [
             0.125,
             "rgb(254,230,206)"
            ],
            [
             0.25,
             "rgb(253,208,162)"
            ],
            [
             0.375,
             "rgb(253,174,107)"
            ],
            [
             0.5,
             "rgb(253,141,60)"
            ],
            [
             0.625,
             "rgb(241,105,19)"
            ],
            [
             0.75,
             "rgb(217,72,1)"
            ],
            [
             0.875,
             "rgb(166,54,3)"
            ],
            [
             1,
             "rgb(127,39,4)"
            ]
           ],
           "locationmode": "ISO-3",
           "locations": [
            "AGO",
            "BDI",
            "BEN",
            "BFA",
            "BWA",
            "CAF",
            "CIV",
            "CMR",
            "COD",
            "COG",
            "COM",
            "CPV",
            "DJI",
            "DZA",
            "EGY",
            "ERI",
            "ETH",
            "GAB",
            "GHA",
            "GIN",
            "GMB",
            "GNB",
            "GNQ",
            "KEN",
            "LBR",
            "LBY",
            "LSO",
            "MAR",
            "MDG",
            "MLI",
            "MOZ",
            "MRT",
            "MUS",
            "MWI",
            "NAM",
            "NER",
            "NGA",
            "RWA",
            "SDN",
            "SEN",
            "SLE",
            "SOM",
            "SSD",
            "STP",
            "SWZ",
            "SYC",
            "TCD",
            "TGO",
            "TUN",
            "TZA",
            "UGA",
            "ZAF",
            "ZMB",
            "ZWE"
           ],
           "text": [
            "Angola",
            "Burundi",
            "Benin",
            "Burkina Faso",
            "Botswana",
            "Central African Republic",
            "Cote d`Ivoire",
            "Cameroon",
            "Democratic Republic of the Congo",
            "Republic of the Congo",
            "Comoros",
            "Cabo Verde",
            "Djibouti",
            "Algeria",
            "Egypt",
            "Eritrea",
            "Ethiopia",
            "Gabon",
            "Ghana",
            "Guinea",
            "The Gambia",
            "Guinea-Bissau",
            "Equatorial Guinea",
            "Kenya",
            "Liberia",
            "Libya",
            "Lesotho",
            "Morocco",
            "Madagascar",
            "Mali",
            "Mozambique",
            "Mauritania",
            "Mauritius",
            "Malawi",
            "Namibia",
            "Niger",
            "Nigeria",
            "Rwanda",
            "Sudan",
            "Senegal",
            "Sierra Leone",
            "Somalia",
            "South Sudan",
            "Sao Tome and Principe",
            "Kingdom of Eswatini",
            "Seychelles",
            "Chad",
            "Togo",
            "Tunisia",
            "Tanzania",
            "Uganda",
            "South Africa",
            "Zambia",
            "Zimbabwe"
           ],
           "type": "choropleth",
           "z": [
            0.435389108213414,
            0.576605473853039,
            0.38934225463289,
            0.555270165771592,
            0.284536115022517,
            0.502421035251816,
            0.379473990921099,
            0.518712025755511,
            0.294973101232605,
            0.783916833727627,
            0.28588919014291,
            0.715466043613476,
            0.775461560550171,
            0.179368467661389,
            0.37819566451368,
            0.325927311660131,
            0.134447782186435,
            0.576637844873798,
            0.493890918507777,
            0.498994829614227,
            0.870320178388553,
            0.707866890132515,
            0.888896752547333,
            0.407411330350538,
            0.760852865135316,
            0.415510036183233,
            0.451018974002884,
            0.289592346923009,
            0.459882071124495,
            0.499889531383087,
            0.188676584674524,
            0.629916668282327,
            0.606616399456637,
            0.326428049169456,
            0.425600278517136,
            0.226807182079342,
            0.162057362356942,
            0.487305756494668,
            0.417566046510853,
            0.411069925916623,
            0.593136367003761,
            0.463536407508745,
            0.229793986500104,
            0.660097837053618,
            0.636934719341333,
            0.999999999998732,
            0.313958273756723,
            0.607501242769459,
            0.373081585619145,
            0.267442562041409,
            0.237669566075239,
            0.449879539071336,
            0.32606084342907,
            0.577165258423295
           ]
          }
         ],
         "name": "2030"
        },
        {
         "data": [
          {
           "colorbar": {
            "len": 0.5,
            "lenmode": "fraction",
            "tickmode": "array",
            "title": {
             "text": "Urban Level"
            },
            "x": 0.45
           },
           "colorscale": [
            [
             0,
             "rgb(247,251,255)"
            ],
            [
             0.125,
             "rgb(222,235,247)"
            ],
            [
             0.25,
             "rgb(198,219,239)"
            ],
            [
             0.375,
             "rgb(158,202,225)"
            ],
            [
             0.5,
             "rgb(107,174,214)"
            ],
            [
             0.625,
             "rgb(66,146,198)"
            ],
            [
             0.75,
             "rgb(33,113,181)"
            ],
            [
             0.875,
             "rgb(8,81,156)"
            ],
            [
             1,
             "rgb(8,48,107)"
            ]
           ],
           "locationmode": "ISO-3",
           "locations": [
            "AGO",
            "BDI",
            "BEN",
            "BFA",
            "BWA",
            "CAF",
            "CIV",
            "CMR",
            "COD",
            "COG",
            "COM",
            "CPV",
            "DJI",
            "DZA",
            "EGY",
            "ERI",
            "ETH",
            "GAB",
            "GHA",
            "GIN",
            "GMB",
            "GNB",
            "GNQ",
            "KEN",
            "LBR",
            "LBY",
            "LSO",
            "MAR",
            "MDG",
            "MLI",
            "MOZ",
            "MRT",
            "MUS",
            "MWI",
            "NAM",
            "NER",
            "NGA",
            "RWA",
            "SDN",
            "SEN",
            "SLE",
            "SOM",
            "SSD",
            "STP",
            "SWZ",
            "SYC",
            "TCD",
            "TGO",
            "TUN",
            "TZA",
            "UGA",
            "ZAF",
            "ZMB",
            "ZWE"
           ],
           "text": [
            "Angola",
            "Burundi",
            "Benin",
            "Burkina Faso",
            "Botswana",
            "Central African Republic",
            "Cote d`Ivoire",
            "Cameroon",
            "Democratic Republic of the Congo",
            "Republic of the Congo",
            "Comoros",
            "Cabo Verde",
            "Djibouti",
            "Algeria",
            "Egypt",
            "Eritrea",
            "Ethiopia",
            "Gabon",
            "Ghana",
            "Guinea",
            "The Gambia",
            "Guinea-Bissau",
            "Equatorial Guinea",
            "Kenya",
            "Liberia",
            "Libya",
            "Lesotho",
            "Morocco",
            "Madagascar",
            "Mali",
            "Mozambique",
            "Mauritania",
            "Mauritius",
            "Malawi",
            "Namibia",
            "Niger",
            "Nigeria",
            "Rwanda",
            "Sudan",
            "Senegal",
            "Sierra Leone",
            "Somalia",
            "South Sudan",
            "Sao Tome and Principe",
            "Kingdom of Eswatini",
            "Seychelles",
            "Chad",
            "Togo",
            "Tunisia",
            "Tanzania",
            "Uganda",
            "South Africa",
            "Zambia",
            "Zimbabwe"
           ],
           "type": "choropleth",
           "z": [
            0.676992596206476,
            0.815914686517295,
            0.655828888505881,
            0.404945560673148,
            0.664460587798797,
            0.544295759484051,
            0.59653698177367,
            0.693168771629756,
            0.559963388510944,
            0.783245284035458,
            0.632669498560992,
            0.670544705917599,
            0.708914078996774,
            0.745535176014013,
            0.951828783175685,
            0.488899033549037,
            0.34961687619927,
            0.806097817396397,
            0.60542402429734,
            0.462744685109988,
            0.638330099275984,
            0.425294808346872,
            0.632036443110408,
            0.877467995306094,
            0.467155988795722,
            0.810028187430183,
            0.639462339549528,
            0.749041834482444,
            0.284656191414057,
            0.399058708696088,
            0.453923239428097,
            0.46305822044591,
            0.88558616916995,
            0.405775893272441,
            0.605453501436494,
            0.224594226941734,
            0.650701217861422,
            0.701110853716337,
            0.544246977611439,
            0.585656434944375,
            0.478761297937193,
            0.494723328517307,
            0.514280546337137,
            0.81550716411611,
            0.480682045559489,
            0.780605484525522,
            0.380464690078364,
            0.735888822995433,
            0.743824901476587,
            0.433694317183147,
            0.652469087994989,
            0.781960872277564,
            0.481387427405463,
            0.407519358618489
           ]
          },
          {
           "colorbar": {
            "len": 0.5,
            "lenmode": "fraction",
            "tickmode": "array",
            "title": {
             "text": "Metropolitan Pop. %"
            },
            "x": 0.55
           },
           "colorscale": [
            [
             0,
             "rgb(255,245,235)"
            ],
            [
             0.125,
             "rgb(254,230,206)"
            ],
            [
             0.25,
             "rgb(253,208,162)"
            ],
            [
             0.375,
             "rgb(253,174,107)"
            ],
            [
             0.5,
             "rgb(253,141,60)"
            ],
            [
             0.625,
             "rgb(241,105,19)"
            ],
            [
             0.75,
             "rgb(217,72,1)"
            ],
            [
             0.875,
             "rgb(166,54,3)"
            ],
            [
             1,
             "rgb(127,39,4)"
            ]
           ],
           "locationmode": "ISO-3",
           "locations": [
            "AGO",
            "BDI",
            "BEN",
            "BFA",
            "BWA",
            "CAF",
            "CIV",
            "CMR",
            "COD",
            "COG",
            "COM",
            "CPV",
            "DJI",
            "DZA",
            "EGY",
            "ERI",
            "ETH",
            "GAB",
            "GHA",
            "GIN",
            "GMB",
            "GNB",
            "GNQ",
            "KEN",
            "LBR",
            "LBY",
            "LSO",
            "MAR",
            "MDG",
            "MLI",
            "MOZ",
            "MRT",
            "MUS",
            "MWI",
            "NAM",
            "NER",
            "NGA",
            "RWA",
            "SDN",
            "SEN",
            "SLE",
            "SOM",
            "SSD",
            "STP",
            "SWZ",
            "SYC",
            "TCD",
            "TGO",
            "TUN",
            "TZA",
            "UGA",
            "ZAF",
            "ZMB",
            "ZWE"
           ],
           "text": [
            "Angola",
            "Burundi",
            "Benin",
            "Burkina Faso",
            "Botswana",
            "Central African Republic",
            "Cote d`Ivoire",
            "Cameroon",
            "Democratic Republic of the Congo",
            "Republic of the Congo",
            "Comoros",
            "Cabo Verde",
            "Djibouti",
            "Algeria",
            "Egypt",
            "Eritrea",
            "Ethiopia",
            "Gabon",
            "Ghana",
            "Guinea",
            "The Gambia",
            "Guinea-Bissau",
            "Equatorial Guinea",
            "Kenya",
            "Liberia",
            "Libya",
            "Lesotho",
            "Morocco",
            "Madagascar",
            "Mali",
            "Mozambique",
            "Mauritania",
            "Mauritius",
            "Malawi",
            "Namibia",
            "Niger",
            "Nigeria",
            "Rwanda",
            "Sudan",
            "Senegal",
            "Sierra Leone",
            "Somalia",
            "South Sudan",
            "Sao Tome and Principe",
            "Kingdom of Eswatini",
            "Seychelles",
            "Chad",
            "Togo",
            "Tunisia",
            "Tanzania",
            "Uganda",
            "South Africa",
            "Zambia",
            "Zimbabwe"
           ],
           "type": "choropleth",
           "z": [
            0.435979592028617,
            0.694281911305593,
            0.381932376484479,
            0.554058560959121,
            0.277226609346098,
            0.501792249709119,
            0.375567196798973,
            0.52021722865878,
            0.296840182550534,
            0.780024361928943,
            0.285402791382834,
            0.71227740516913,
            0.77757312676503,
            0.180546710303355,
            0.375435998595894,
            0.319408173611326,
            0.130821455467811,
            0.574222032702082,
            0.497169811703503,
            0.49973735860602,
            0.904601389645491,
            0.683635679193829,
            0.88609828152832,
            0.412970205693559,
            0.774754360017983,
            0.414843138326743,
            0.441281565553773,
            0.285026150841059,
            0.470449120936095,
            0.502309205035931,
            0.176648611994292,
            0.629793629395835,
            0.607373278307434,
            0.319551575505532,
            0.419514170408656,
            0.201748300008197,
            0.166596146091853,
            0.510514573922105,
            0.44944980969889,
            0.409214752923821,
            0.598003137423454,
            0.445219674392577,
            0.24753691023205,
            0.64526861013852,
            0.639129355426493,
            0.999999999998738,
            0.321444224104712,
            0.610717010784446,
            0.373268073671213,
            0.270878768172409,
            0.24349575772827,
            0.503355544385104,
            0.320828448363014,
            0.589893587960471
           ]
          }
         ],
         "name": "2035"
        },
        {
         "data": [
          {
           "colorbar": {
            "len": 0.5,
            "lenmode": "fraction",
            "tickmode": "array",
            "title": {
             "text": "Urban Level"
            },
            "x": 0.45
           },
           "colorscale": [
            [
             0,
             "rgb(247,251,255)"
            ],
            [
             0.125,
             "rgb(222,235,247)"
            ],
            [
             0.25,
             "rgb(198,219,239)"
            ],
            [
             0.375,
             "rgb(158,202,225)"
            ],
            [
             0.5,
             "rgb(107,174,214)"
            ],
            [
             0.625,
             "rgb(66,146,198)"
            ],
            [
             0.75,
             "rgb(33,113,181)"
            ],
            [
             0.875,
             "rgb(8,81,156)"
            ],
            [
             1,
             "rgb(8,48,107)"
            ]
           ],
           "locationmode": "ISO-3",
           "locations": [
            "AGO",
            "BDI",
            "BEN",
            "BFA",
            "BWA",
            "CAF",
            "CIV",
            "CMR",
            "COD",
            "COG",
            "COM",
            "CPV",
            "DJI",
            "DZA",
            "EGY",
            "ERI",
            "ETH",
            "GAB",
            "GHA",
            "GIN",
            "GMB",
            "GNB",
            "GNQ",
            "KEN",
            "LBR",
            "LBY",
            "LSO",
            "MAR",
            "MDG",
            "MLI",
            "MOZ",
            "MRT",
            "MUS",
            "MWI",
            "NAM",
            "NER",
            "NGA",
            "RWA",
            "SDN",
            "SEN",
            "SLE",
            "SOM",
            "SSD",
            "STP",
            "SWZ",
            "SYC",
            "TCD",
            "TGO",
            "TUN",
            "TZA",
            "UGA",
            "ZAF",
            "ZMB",
            "ZWE"
           ],
           "text": [
            "Angola",
            "Burundi",
            "Benin",
            "Burkina Faso",
            "Botswana",
            "Central African Republic",
            "Cote d`Ivoire",
            "Cameroon",
            "Democratic Republic of the Congo",
            "Republic of the Congo",
            "Comoros",
            "Cabo Verde",
            "Djibouti",
            "Algeria",
            "Egypt",
            "Eritrea",
            "Ethiopia",
            "Gabon",
            "Ghana",
            "Guinea",
            "The Gambia",
            "Guinea-Bissau",
            "Equatorial Guinea",
            "Kenya",
            "Liberia",
            "Libya",
            "Lesotho",
            "Morocco",
            "Madagascar",
            "Mali",
            "Mozambique",
            "Mauritania",
            "Mauritius",
            "Malawi",
            "Namibia",
            "Niger",
            "Nigeria",
            "Rwanda",
            "Sudan",
            "Senegal",
            "Sierra Leone",
            "Somalia",
            "South Sudan",
            "Sao Tome and Principe",
            "Kingdom of Eswatini",
            "Seychelles",
            "Chad",
            "Togo",
            "Tunisia",
            "Tanzania",
            "Uganda",
            "South Africa",
            "Zambia",
            "Zimbabwe"
           ],
           "type": "choropleth",
           "z": [
            0.692862916223672,
            0.825855352675321,
            0.671277672763973,
            0.430256975351561,
            0.698687749910358,
            0.567899014566513,
            0.614266592918415,
            0.723307359409259,
            0.586729155735147,
            0.805033640960618,
            0.665483354117984,
            0.695266806197216,
            0.715580662418378,
            0.758746706961051,
            0.951834237194255,
            0.526030934701774,
            0.366788534010138,
            0.820945831129942,
            0.624632217646733,
            0.483327861332272,
            0.684582059562212,
            0.442820455449219,
            0.659247756218655,
            0.895703203854999,
            0.473389800486217,
            0.816424758464748,
            0.704921670776559,
            0.770977978345862,
            0.302724829514663,
            0.417146764068191,
            0.470041157990198,
            0.470995647878033,
            0.894476676101603,
            0.4181622262848,
            0.656582969099751,
            0.239464382813779,
            0.67051155419677,
            0.714833796583249,
            0.567873638563444,
            0.604198051779309,
            0.501231467861098,
            0.526631317888701,
            0.533240582951793,
            0.799897545307481,
            0.502923131616424,
            0.78124738338797,
            0.398581340743209,
            0.776721809783349,
            0.750968205023523,
            0.446346905314141,
            0.69592431877122,
            0.793874209760846,
            0.493093586058852,
            0.414067553293858
           ]
          },
          {
           "colorbar": {
            "len": 0.5,
            "lenmode": "fraction",
            "tickmode": "array",
            "title": {
             "text": "Metropolitan Pop. %"
            },
            "x": 0.55
           },
           "colorscale": [
            [
             0,
             "rgb(255,245,235)"
            ],
            [
             0.125,
             "rgb(254,230,206)"
            ],
            [
             0.25,
             "rgb(253,208,162)"
            ],
            [
             0.375,
             "rgb(253,174,107)"
            ],
            [
             0.5,
             "rgb(253,141,60)"
            ],
            [
             0.625,
             "rgb(241,105,19)"
            ],
            [
             0.75,
             "rgb(217,72,1)"
            ],
            [
             0.875,
             "rgb(166,54,3)"
            ],
            [
             1,
             "rgb(127,39,4)"
            ]
           ],
           "locationmode": "ISO-3",
           "locations": [
            "AGO",
            "BDI",
            "BEN",
            "BFA",
            "BWA",
            "CAF",
            "CIV",
            "CMR",
            "COD",
            "COG",
            "COM",
            "CPV",
            "DJI",
            "DZA",
            "EGY",
            "ERI",
            "ETH",
            "GAB",
            "GHA",
            "GIN",
            "GMB",
            "GNB",
            "GNQ",
            "KEN",
            "LBR",
            "LBY",
            "LSO",
            "MAR",
            "MDG",
            "MLI",
            "MOZ",
            "MRT",
            "MUS",
            "MWI",
            "NAM",
            "NER",
            "NGA",
            "RWA",
            "SDN",
            "SEN",
            "SLE",
            "SOM",
            "SSD",
            "STP",
            "SWZ",
            "SYC",
            "TCD",
            "TGO",
            "TUN",
            "TZA",
            "UGA",
            "ZAF",
            "ZMB",
            "ZWE"
           ],
           "text": [
            "Angola",
            "Burundi",
            "Benin",
            "Burkina Faso",
            "Botswana",
            "Central African Republic",
            "Cote d`Ivoire",
            "Cameroon",
            "Democratic Republic of the Congo",
            "Republic of the Congo",
            "Comoros",
            "Cabo Verde",
            "Djibouti",
            "Algeria",
            "Egypt",
            "Eritrea",
            "Ethiopia",
            "Gabon",
            "Ghana",
            "Guinea",
            "The Gambia",
            "Guinea-Bissau",
            "Equatorial Guinea",
            "Kenya",
            "Liberia",
            "Libya",
            "Lesotho",
            "Morocco",
            "Madagascar",
            "Mali",
            "Mozambique",
            "Mauritania",
            "Mauritius",
            "Malawi",
            "Namibia",
            "Niger",
            "Nigeria",
            "Rwanda",
            "Sudan",
            "Senegal",
            "Sierra Leone",
            "Somalia",
            "South Sudan",
            "Sao Tome and Principe",
            "Kingdom of Eswatini",
            "Seychelles",
            "Chad",
            "Togo",
            "Tunisia",
            "Tanzania",
            "Uganda",
            "South Africa",
            "Zambia",
            "Zimbabwe"
           ],
           "type": "choropleth",
           "z": [
            0.440253066687859,
            0.794354379182589,
            0.376753952737859,
            0.554671118931325,
            0.329107778487112,
            0.503566539890075,
            0.370424893973638,
            0.52001294977865,
            0.29584865137905,
            0.777838025689609,
            0.327008262337673,
            0.709309215843604,
            0.77964535904238,
            0.181158853683015,
            0.375152364060913,
            0.306678744643426,
            0.127657253574426,
            0.569926895557241,
            0.492347572829992,
            0.492487407285473,
            0.90243496051145,
            0.669174975678687,
            0.883208597509734,
            0.415091793158754,
            0.818241418031252,
            0.411592873961711,
            0.452509201260632,
            0.280750195461745,
            0.472293792568399,
            0.500618520244417,
            0.173185977693957,
            0.633300380368458,
            0.608115121417455,
            0.308882935420817,
            0.420217041642116,
            0.181291412770236,
            0.176259839369182,
            0.527397980618302,
            0.47488751777966,
            0.402005743469242,
            0.602206659037996,
            0.429823984238605,
            0.265529646137511,
            0.629860558436769,
            0.671665527509712,
            0.999999999998736,
            0.326527496144425,
            0.613772650924964,
            0.373652054860443,
            0.279187010014435,
            0.288374814993193,
            0.50914845084495,
            0.314759286719634,
            0.58445324587171
           ]
          }
         ],
         "name": "2040"
        },
        {
         "data": [
          {
           "colorbar": {
            "len": 0.5,
            "lenmode": "fraction",
            "tickmode": "array",
            "title": {
             "text": "Urban Level"
            },
            "x": 0.45
           },
           "colorscale": [
            [
             0,
             "rgb(247,251,255)"
            ],
            [
             0.125,
             "rgb(222,235,247)"
            ],
            [
             0.25,
             "rgb(198,219,239)"
            ],
            [
             0.375,
             "rgb(158,202,225)"
            ],
            [
             0.5,
             "rgb(107,174,214)"
            ],
            [
             0.625,
             "rgb(66,146,198)"
            ],
            [
             0.75,
             "rgb(33,113,181)"
            ],
            [
             0.875,
             "rgb(8,81,156)"
            ],
            [
             1,
             "rgb(8,48,107)"
            ]
           ],
           "locationmode": "ISO-3",
           "locations": [
            "AGO",
            "BDI",
            "BEN",
            "BFA",
            "BWA",
            "CAF",
            "CIV",
            "CMR",
            "COD",
            "COG",
            "COM",
            "CPV",
            "DJI",
            "DZA",
            "EGY",
            "ERI",
            "ETH",
            "GAB",
            "GHA",
            "GIN",
            "GMB",
            "GNB",
            "GNQ",
            "KEN",
            "LBR",
            "LBY",
            "LSO",
            "MAR",
            "MDG",
            "MLI",
            "MOZ",
            "MRT",
            "MUS",
            "MWI",
            "NAM",
            "NER",
            "NGA",
            "RWA",
            "SDN",
            "SEN",
            "SLE",
            "SOM",
            "SSD",
            "STP",
            "SWZ",
            "SYC",
            "TCD",
            "TGO",
            "TUN",
            "TZA",
            "UGA",
            "ZAF",
            "ZMB",
            "ZWE"
           ],
           "text": [
            "Angola",
            "Burundi",
            "Benin",
            "Burkina Faso",
            "Botswana",
            "Central African Republic",
            "Cote d`Ivoire",
            "Cameroon",
            "Democratic Republic of the Congo",
            "Republic of the Congo",
            "Comoros",
            "Cabo Verde",
            "Djibouti",
            "Algeria",
            "Egypt",
            "Eritrea",
            "Ethiopia",
            "Gabon",
            "Ghana",
            "Guinea",
            "The Gambia",
            "Guinea-Bissau",
            "Equatorial Guinea",
            "Kenya",
            "Liberia",
            "Libya",
            "Lesotho",
            "Morocco",
            "Madagascar",
            "Mali",
            "Mozambique",
            "Mauritania",
            "Mauritius",
            "Malawi",
            "Namibia",
            "Niger",
            "Nigeria",
            "Rwanda",
            "Sudan",
            "Senegal",
            "Sierra Leone",
            "Somalia",
            "South Sudan",
            "Sao Tome and Principe",
            "Kingdom of Eswatini",
            "Seychelles",
            "Chad",
            "Togo",
            "Tunisia",
            "Tanzania",
            "Uganda",
            "South Africa",
            "Zambia",
            "Zimbabwe"
           ],
           "type": "choropleth",
           "z": [
            0.707449923512679,
            0.83583328250577,
            0.686164566892368,
            0.454318172641814,
            0.7268521601258,
            0.591681062161703,
            0.630842569654962,
            0.753574820383627,
            0.613097534023874,
            0.829060134890483,
            0.70715672453622,
            0.719840141513473,
            0.722247499157193,
            0.772308179509057,
            0.952367726818959,
            0.557907045386541,
            0.383253796529783,
            0.832455676402386,
            0.641455528175606,
            0.502739143965234,
            0.724440318323667,
            0.461200700495388,
            0.693353774220877,
            0.91284425273559,
            0.479335958856169,
            0.817692244663648,
            0.769849247209636,
            0.792148907370809,
            0.320466030538494,
            0.432071540383202,
            0.484337614215948,
            0.477142218825786,
            0.885245614991235,
            0.428620937783104,
            0.706140311641195,
            0.251526766069932,
            0.689928144791808,
            0.729090174377548,
            0.589638099469441,
            0.619623762204839,
            0.523438913792642,
            0.558537277513618,
            0.555461343593545,
            0.78428698138603,
            0.525164337306498,
            0.781897778929739,
            0.414561346952236,
            0.819782080311846,
            0.760415268162845,
            0.459764420938276,
            0.737983760601186,
            0.805344677657814,
            0.504144214629367,
            0.42001904456232
           ]
          },
          {
           "colorbar": {
            "len": 0.5,
            "lenmode": "fraction",
            "tickmode": "array",
            "title": {
             "text": "Metropolitan Pop. %"
            },
            "x": 0.55
           },
           "colorscale": [
            [
             0,
             "rgb(255,245,235)"
            ],
            [
             0.125,
             "rgb(254,230,206)"
            ],
            [
             0.25,
             "rgb(253,208,162)"
            ],
            [
             0.375,
             "rgb(253,174,107)"
            ],
            [
             0.5,
             "rgb(253,141,60)"
            ],
            [
             0.625,
             "rgb(241,105,19)"
            ],
            [
             0.75,
             "rgb(217,72,1)"
            ],
            [
             0.875,
             "rgb(166,54,3)"
            ],
            [
             1,
             "rgb(127,39,4)"
            ]
           ],
           "locationmode": "ISO-3",
           "locations": [
            "AGO",
            "BDI",
            "BEN",
            "BFA",
            "BWA",
            "CAF",
            "CIV",
            "CMR",
            "COD",
            "COG",
            "COM",
            "CPV",
            "DJI",
            "DZA",
            "EGY",
            "ERI",
            "ETH",
            "GAB",
            "GHA",
            "GIN",
            "GMB",
            "GNB",
            "GNQ",
            "KEN",
            "LBR",
            "LBY",
            "LSO",
            "MAR",
            "MDG",
            "MLI",
            "MOZ",
            "MRT",
            "MUS",
            "MWI",
            "NAM",
            "NER",
            "NGA",
            "RWA",
            "SDN",
            "SEN",
            "SLE",
            "SOM",
            "SSD",
            "STP",
            "SWZ",
            "SYC",
            "TCD",
            "TGO",
            "TUN",
            "TZA",
            "UGA",
            "ZAF",
            "ZMB",
            "ZWE"
           ],
           "text": [
            "Angola",
            "Burundi",
            "Benin",
            "Burkina Faso",
            "Botswana",
            "Central African Republic",
            "Cote d`Ivoire",
            "Cameroon",
            "Democratic Republic of the Congo",
            "Republic of the Congo",
            "Comoros",
            "Cabo Verde",
            "Djibouti",
            "Algeria",
            "Egypt",
            "Eritrea",
            "Ethiopia",
            "Gabon",
            "Ghana",
            "Guinea",
            "The Gambia",
            "Guinea-Bissau",
            "Equatorial Guinea",
            "Kenya",
            "Liberia",
            "Libya",
            "Lesotho",
            "Morocco",
            "Madagascar",
            "Mali",
            "Mozambique",
            "Mauritania",
            "Mauritius",
            "Malawi",
            "Namibia",
            "Niger",
            "Nigeria",
            "Rwanda",
            "Sudan",
            "Senegal",
            "Sierra Leone",
            "Somalia",
            "South Sudan",
            "Sao Tome and Principe",
            "Kingdom of Eswatini",
            "Seychelles",
            "Chad",
            "Togo",
            "Tunisia",
            "Tanzania",
            "Uganda",
            "South Africa",
            "Zambia",
            "Zimbabwe"
           ],
           "type": "choropleth",
           "z": [
            0.440870093983362,
            0.86575980196601,
            0.375761720449019,
            0.556494404683488,
            0.328892230428721,
            0.5044540837684,
            0.379886919328029,
            0.519403490313631,
            0.296517314127297,
            0.780052414185649,
            0.309219636935557,
            0.706203909476137,
            0.781679318588546,
            0.181991758585341,
            0.374411318373833,
            0.303882078206819,
            0.126963372908623,
            0.568053211050437,
            0.49980189472099,
            0.529357663543021,
            0.907444414849203,
            0.658340964621557,
            0.875149814876713,
            0.419814538558192,
            0.828987376106029,
            0.410954869989345,
            0.486008076531335,
            0.280782937056656,
            0.477729292898709,
            0.501296587731148,
            0.167742977243307,
            0.637980711032352,
            0.62130535261106,
            0.301626137632959,
            0.421436318405925,
            0.164906617304455,
            0.176581195218357,
            0.593867415283371,
            0.487902056045431,
            0.395410070772139,
            0.605693721440129,
            0.415792731694098,
            0.280372353682436,
            0.613839128601815,
            0.675709808700153,
            0.999999999998725,
            0.333465582799411,
            0.615275442357692,
            0.372716054535807,
            0.288285165077998,
            0.295146715410692,
            0.516177625104148,
            0.318177026887991,
            0.580199587993181
           ]
          }
         ],
         "name": "2045"
        },
        {
         "data": [
          {
           "colorbar": {
            "len": 0.5,
            "lenmode": "fraction",
            "tickmode": "array",
            "title": {
             "text": "Urban Level"
            },
            "x": 0.45
           },
           "colorscale": [
            [
             0,
             "rgb(247,251,255)"
            ],
            [
             0.125,
             "rgb(222,235,247)"
            ],
            [
             0.25,
             "rgb(198,219,239)"
            ],
            [
             0.375,
             "rgb(158,202,225)"
            ],
            [
             0.5,
             "rgb(107,174,214)"
            ],
            [
             0.625,
             "rgb(66,146,198)"
            ],
            [
             0.75,
             "rgb(33,113,181)"
            ],
            [
             0.875,
             "rgb(8,81,156)"
            ],
            [
             1,
             "rgb(8,48,107)"
            ]
           ],
           "locationmode": "ISO-3",
           "locations": [
            "AGO",
            "BDI",
            "BEN",
            "BFA",
            "BWA",
            "CAF",
            "CIV",
            "CMR",
            "COD",
            "COG",
            "COM",
            "CPV",
            "DJI",
            "DZA",
            "EGY",
            "ERI",
            "ETH",
            "GAB",
            "GHA",
            "GIN",
            "GMB",
            "GNB",
            "GNQ",
            "KEN",
            "LBR",
            "LBY",
            "LSO",
            "MAR",
            "MDG",
            "MLI",
            "MOZ",
            "MRT",
            "MUS",
            "MWI",
            "NAM",
            "NER",
            "NGA",
            "RWA",
            "SDN",
            "SEN",
            "SLE",
            "SOM",
            "SSD",
            "STP",
            "SWZ",
            "SYC",
            "TCD",
            "TGO",
            "TUN",
            "TZA",
            "UGA",
            "ZAF",
            "ZMB",
            "ZWE"
           ],
           "text": [
            "Angola",
            "Burundi",
            "Benin",
            "Burkina Faso",
            "Botswana",
            "Central African Republic",
            "Cote d`Ivoire",
            "Cameroon",
            "Democratic Republic of the Congo",
            "Republic of the Congo",
            "Comoros",
            "Cabo Verde",
            "Djibouti",
            "Algeria",
            "Egypt",
            "Eritrea",
            "Ethiopia",
            "Gabon",
            "Ghana",
            "Guinea",
            "The Gambia",
            "Guinea-Bissau",
            "Equatorial Guinea",
            "Kenya",
            "Liberia",
            "Libya",
            "Lesotho",
            "Morocco",
            "Madagascar",
            "Mali",
            "Mozambique",
            "Mauritania",
            "Mauritius",
            "Malawi",
            "Namibia",
            "Niger",
            "Nigeria",
            "Rwanda",
            "Sudan",
            "Senegal",
            "Sierra Leone",
            "Somalia",
            "South Sudan",
            "Sao Tome and Principe",
            "Kingdom of Eswatini",
            "Seychelles",
            "Chad",
            "Togo",
            "Tunisia",
            "Tanzania",
            "Uganda",
            "South Africa",
            "Zambia",
            "Zimbabwe"
           ],
           "type": "choropleth",
           "z": [
            0.722242576525213,
            0.842869054546302,
            0.69184977954794,
            0.477127224160847,
            0.755918118525627,
            0.614890794378298,
            0.647433871852758,
            0.783115523582741,
            0.637643188447266,
            0.848963689671073,
            0.758648190241032,
            0.744194274984853,
            0.728913692458911,
            0.784682750196336,
            0.952443455344661,
            0.584988766659445,
            0.399598094903978,
            0.840788813115045,
            0.655825906601691,
            0.52156502977622,
            0.761773579698635,
            0.470866596244699,
            0.720839066301805,
            0.929561440424778,
            0.484979721532725,
            0.817692242278285,
            0.838024831182152,
            0.813040812543481,
            0.337733118746242,
            0.443787507376104,
            0.497573536393438,
            0.488563694239487,
            0.884714219414478,
            0.434207424401356,
            0.754233621490596,
            0.261848309406698,
            0.708086952291688,
            0.742829977543314,
            0.6110623517539,
            0.636337987699345,
            0.545362760501914,
            0.589994480921814,
            0.577065614451175,
            0.768675981562983,
            0.547353187084191,
            0.782549818978369,
            0.431315803982569,
            0.850312199577207,
            0.767378455473182,
            0.469502383458907,
            0.777940862803996,
            0.816301536442044,
            0.514581097533771,
            0.425975785394084
           ]
          },
          {
           "colorbar": {
            "len": 0.5,
            "lenmode": "fraction",
            "tickmode": "array",
            "title": {
             "text": "Metropolitan Pop. %"
            },
            "x": 0.55
           },
           "colorscale": [
            [
             0,
             "rgb(255,245,235)"
            ],
            [
             0.125,
             "rgb(254,230,206)"
            ],
            [
             0.25,
             "rgb(253,208,162)"
            ],
            [
             0.375,
             "rgb(253,174,107)"
            ],
            [
             0.5,
             "rgb(253,141,60)"
            ],
            [
             0.625,
             "rgb(241,105,19)"
            ],
            [
             0.75,
             "rgb(217,72,1)"
            ],
            [
             0.875,
             "rgb(166,54,3)"
            ],
            [
             1,
             "rgb(127,39,4)"
            ]
           ],
           "locationmode": "ISO-3",
           "locations": [
            "AGO",
            "BDI",
            "BEN",
            "BFA",
            "BWA",
            "CAF",
            "CIV",
            "CMR",
            "COD",
            "COG",
            "COM",
            "CPV",
            "DJI",
            "DZA",
            "EGY",
            "ERI",
            "ETH",
            "GAB",
            "GHA",
            "GIN",
            "GMB",
            "GNB",
            "GNQ",
            "KEN",
            "LBR",
            "LBY",
            "LSO",
            "MAR",
            "MDG",
            "MLI",
            "MOZ",
            "MRT",
            "MUS",
            "MWI",
            "NAM",
            "NER",
            "NGA",
            "RWA",
            "SDN",
            "SEN",
            "SLE",
            "SOM",
            "SSD",
            "STP",
            "SWZ",
            "SYC",
            "TCD",
            "TGO",
            "TUN",
            "TZA",
            "UGA",
            "ZAF",
            "ZMB",
            "ZWE"
           ],
           "text": [
            "Angola",
            "Burundi",
            "Benin",
            "Burkina Faso",
            "Botswana",
            "Central African Republic",
            "Cote d`Ivoire",
            "Cameroon",
            "Democratic Republic of the Congo",
            "Republic of the Congo",
            "Comoros",
            "Cabo Verde",
            "Djibouti",
            "Algeria",
            "Egypt",
            "Eritrea",
            "Ethiopia",
            "Gabon",
            "Ghana",
            "Guinea",
            "The Gambia",
            "Guinea-Bissau",
            "Equatorial Guinea",
            "Kenya",
            "Liberia",
            "Libya",
            "Lesotho",
            "Morocco",
            "Madagascar",
            "Mali",
            "Mozambique",
            "Mauritania",
            "Mauritius",
            "Malawi",
            "Namibia",
            "Niger",
            "Nigeria",
            "Rwanda",
            "Sudan",
            "Senegal",
            "Sierra Leone",
            "Somalia",
            "South Sudan",
            "Sao Tome and Principe",
            "Kingdom of Eswatini",
            "Seychelles",
            "Chad",
            "Togo",
            "Tunisia",
            "Tanzania",
            "Uganda",
            "South Africa",
            "Zambia",
            "Zimbabwe"
           ],
           "type": "choropleth",
           "z": [
            0.441336494421609,
            0.969931875490818,
            0.374362766729575,
            0.556371006383984,
            0.327322796145821,
            0.505242340361634,
            0.379319975224817,
            0.519014399250441,
            0.295176239221601,
            0.780361011863652,
            0.289260404892471,
            0.703089329539013,
            0.783676098038703,
            0.183740193741126,
            0.378802872702818,
            0.29879619956658,
            0.129356531781319,
            0.568369847203211,
            0.499867058991113,
            0.528415039816351,
            0.912599843028771,
            0.654540758230749,
            0.8723284638785,
            0.0780712788097952,
            0.837672281667994,
            0.410954869462726,
            0.480955402802111,
            0.27734561986592,
            0.481845307776211,
            0.50530081160503,
            0.159259317982134,
            0.634601930307094,
            0.628531709552754,
            0.305212900076269,
            0.42299396183154,
            0.150243193257562,
            0.179664363589331,
            0.672657894058545,
            0.500543501930944,
            0.387561379144606,
            0.608525006407844,
            0.406369737068267,
            0.294387370283884,
            0.59716698916804,
            0.679244122922506,
            0.999999999998704,
            0.33842478232535,
            0.624432323184555,
            0.372808130808837,
            0.294276829869371,
            0.307730947281277,
            0.517995120193102,
            0.313146790461864,
            0.577461914204879
           ]
          }
         ],
         "name": "2050"
        }
       ],
       "layout": {
        "annotations": [
         {
          "font": {
           "size": 16
          },
          "showarrow": false,
          "text": "Urbanization Level",
          "x": 0.225,
          "xanchor": "center",
          "xref": "paper",
          "y": 1,
          "yanchor": "bottom",
          "yref": "paper"
         },
         {
          "font": {
           "size": 16
          },
          "showarrow": false,
          "text": "Metropolitan Population Percentage",
          "x": 0.775,
          "xanchor": "center",
          "xref": "paper",
          "y": 1,
          "yanchor": "bottom",
          "yref": "paper"
         }
        ],
        "geo": {
         "domain": {
          "x": [
           0,
           0.45
          ],
          "y": [
           0,
           1
          ]
         },
         "scope": "africa"
        },
        "geo2": {
         "domain": {
          "x": [
           0.55,
           1
          ],
          "y": [
           0,
           1
          ]
         },
         "scope": "africa"
        },
        "sliders": [
         {
          "active": 0,
          "currentvalue": {
           "font": {
            "size": 20
           },
           "prefix": "Year: "
          },
          "len": 0.9,
          "pad": {
           "b": 10,
           "t": 50
          },
          "steps": [
           {
            "args": [
             [
              "1950"
             ],
             {
              "frame": {
               "duration": 300,
               "redraw": true
              },
              "mode": "immediate"
             }
            ],
            "label": "1950",
            "method": "animate"
           },
           {
            "args": [
             [
              "1960"
             ],
             {
              "frame": {
               "duration": 300,
               "redraw": true
              },
              "mode": "immediate"
             }
            ],
            "label": "1960",
            "method": "animate"
           },
           {
            "args": [
             [
              "1970"
             ],
             {
              "frame": {
               "duration": 300,
               "redraw": true
              },
              "mode": "immediate"
             }
            ],
            "label": "1970",
            "method": "animate"
           },
           {
            "args": [
             [
              "1980"
             ],
             {
              "frame": {
               "duration": 300,
               "redraw": true
              },
              "mode": "immediate"
             }
            ],
            "label": "1980",
            "method": "animate"
           },
           {
            "args": [
             [
              "1990"
             ],
             {
              "frame": {
               "duration": 300,
               "redraw": true
              },
              "mode": "immediate"
             }
            ],
            "label": "1990",
            "method": "animate"
           },
           {
            "args": [
             [
              "2000"
             ],
             {
              "frame": {
               "duration": 300,
               "redraw": true
              },
              "mode": "immediate"
             }
            ],
            "label": "2000",
            "method": "animate"
           },
           {
            "args": [
             [
              "2010"
             ],
             {
              "frame": {
               "duration": 300,
               "redraw": true
              },
              "mode": "immediate"
             }
            ],
            "label": "2010",
            "method": "animate"
           },
           {
            "args": [
             [
              "2015"
             ],
             {
              "frame": {
               "duration": 300,
               "redraw": true
              },
              "mode": "immediate"
             }
            ],
            "label": "2015",
            "method": "animate"
           },
           {
            "args": [
             [
              "2020"
             ],
             {
              "frame": {
               "duration": 300,
               "redraw": true
              },
              "mode": "immediate"
             }
            ],
            "label": "2020",
            "method": "animate"
           },
           {
            "args": [
             [
              "2025"
             ],
             {
              "frame": {
               "duration": 300,
               "redraw": true
              },
              "mode": "immediate"
             }
            ],
            "label": "2025",
            "method": "animate"
           },
           {
            "args": [
             [
              "2030"
             ],
             {
              "frame": {
               "duration": 300,
               "redraw": true
              },
              "mode": "immediate"
             }
            ],
            "label": "2030",
            "method": "animate"
           },
           {
            "args": [
             [
              "2035"
             ],
             {
              "frame": {
               "duration": 300,
               "redraw": true
              },
              "mode": "immediate"
             }
            ],
            "label": "2035",
            "method": "animate"
           },
           {
            "args": [
             [
              "2040"
             ],
             {
              "frame": {
               "duration": 300,
               "redraw": true
              },
              "mode": "immediate"
             }
            ],
            "label": "2040",
            "method": "animate"
           },
           {
            "args": [
             [
              "2045"
             ],
             {
              "frame": {
               "duration": 300,
               "redraw": true
              },
              "mode": "immediate"
             }
            ],
            "label": "2045",
            "method": "animate"
           },
           {
            "args": [
             [
              "2050"
             ],
             {
              "frame": {
               "duration": 300,
               "redraw": true
              },
              "mode": "immediate"
             }
            ],
            "label": "2050",
            "method": "animate"
           }
          ],
          "transition": {
           "duration": 300
          },
          "x": 0.1,
          "xanchor": "left",
          "y": 0,
          "yanchor": "top"
         }
        ],
        "template": {
         "data": {
          "bar": [
           {
            "error_x": {
             "color": "#2a3f5f"
            },
            "error_y": {
             "color": "#2a3f5f"
            },
            "marker": {
             "line": {
              "color": "#E5ECF6",
              "width": 0.5
             },
             "pattern": {
              "fillmode": "overlay",
              "size": 10,
              "solidity": 0.2
             }
            },
            "type": "bar"
           }
          ],
          "barpolar": [
           {
            "marker": {
             "line": {
              "color": "#E5ECF6",
              "width": 0.5
             },
             "pattern": {
              "fillmode": "overlay",
              "size": 10,
              "solidity": 0.2
             }
            },
            "type": "barpolar"
           }
          ],
          "carpet": [
           {
            "aaxis": {
             "endlinecolor": "#2a3f5f",
             "gridcolor": "white",
             "linecolor": "white",
             "minorgridcolor": "white",
             "startlinecolor": "#2a3f5f"
            },
            "baxis": {
             "endlinecolor": "#2a3f5f",
             "gridcolor": "white",
             "linecolor": "white",
             "minorgridcolor": "white",
             "startlinecolor": "#2a3f5f"
            },
            "type": "carpet"
           }
          ],
          "choropleth": [
           {
            "colorbar": {
             "outlinewidth": 0,
             "ticks": ""
            },
            "type": "choropleth"
           }
          ],
          "contour": [
           {
            "colorbar": {
             "outlinewidth": 0,
             "ticks": ""
            },
            "colorscale": [
             [
              0,
              "#0d0887"
             ],
             [
              0.1111111111111111,
              "#46039f"
             ],
             [
              0.2222222222222222,
              "#7201a8"
             ],
             [
              0.3333333333333333,
              "#9c179e"
             ],
             [
              0.4444444444444444,
              "#bd3786"
             ],
             [
              0.5555555555555556,
              "#d8576b"
             ],
             [
              0.6666666666666666,
              "#ed7953"
             ],
             [
              0.7777777777777778,
              "#fb9f3a"
             ],
             [
              0.8888888888888888,
              "#fdca26"
             ],
             [
              1,
              "#f0f921"
             ]
            ],
            "type": "contour"
           }
          ],
          "contourcarpet": [
           {
            "colorbar": {
             "outlinewidth": 0,
             "ticks": ""
            },
            "type": "contourcarpet"
           }
          ],
          "heatmap": [
           {
            "colorbar": {
             "outlinewidth": 0,
             "ticks": ""
            },
            "colorscale": [
             [
              0,
              "#0d0887"
             ],
             [
              0.1111111111111111,
              "#46039f"
             ],
             [
              0.2222222222222222,
              "#7201a8"
             ],
             [
              0.3333333333333333,
              "#9c179e"
             ],
             [
              0.4444444444444444,
              "#bd3786"
             ],
             [
              0.5555555555555556,
              "#d8576b"
             ],
             [
              0.6666666666666666,
              "#ed7953"
             ],
             [
              0.7777777777777778,
              "#fb9f3a"
             ],
             [
              0.8888888888888888,
              "#fdca26"
             ],
             [
              1,
              "#f0f921"
             ]
            ],
            "type": "heatmap"
           }
          ],
          "heatmapgl": [
           {
            "colorbar": {
             "outlinewidth": 0,
             "ticks": ""
            },
            "colorscale": [
             [
              0,
              "#0d0887"
             ],
             [
              0.1111111111111111,
              "#46039f"
             ],
             [
              0.2222222222222222,
              "#7201a8"
             ],
             [
              0.3333333333333333,
              "#9c179e"
             ],
             [
              0.4444444444444444,
              "#bd3786"
             ],
             [
              0.5555555555555556,
              "#d8576b"
             ],
             [
              0.6666666666666666,
              "#ed7953"
             ],
             [
              0.7777777777777778,
              "#fb9f3a"
             ],
             [
              0.8888888888888888,
              "#fdca26"
             ],
             [
              1,
              "#f0f921"
             ]
            ],
            "type": "heatmapgl"
           }
          ],
          "histogram": [
           {
            "marker": {
             "pattern": {
              "fillmode": "overlay",
              "size": 10,
              "solidity": 0.2
             }
            },
            "type": "histogram"
           }
          ],
          "histogram2d": [
           {
            "colorbar": {
             "outlinewidth": 0,
             "ticks": ""
            },
            "colorscale": [
             [
              0,
              "#0d0887"
             ],
             [
              0.1111111111111111,
              "#46039f"
             ],
             [
              0.2222222222222222,
              "#7201a8"
             ],
             [
              0.3333333333333333,
              "#9c179e"
             ],
             [
              0.4444444444444444,
              "#bd3786"
             ],
             [
              0.5555555555555556,
              "#d8576b"
             ],
             [
              0.6666666666666666,
              "#ed7953"
             ],
             [
              0.7777777777777778,
              "#fb9f3a"
             ],
             [
              0.8888888888888888,
              "#fdca26"
             ],
             [
              1,
              "#f0f921"
             ]
            ],
            "type": "histogram2d"
           }
          ],
          "histogram2dcontour": [
           {
            "colorbar": {
             "outlinewidth": 0,
             "ticks": ""
            },
            "colorscale": [
             [
              0,
              "#0d0887"
             ],
             [
              0.1111111111111111,
              "#46039f"
             ],
             [
              0.2222222222222222,
              "#7201a8"
             ],
             [
              0.3333333333333333,
              "#9c179e"
             ],
             [
              0.4444444444444444,
              "#bd3786"
             ],
             [
              0.5555555555555556,
              "#d8576b"
             ],
             [
              0.6666666666666666,
              "#ed7953"
             ],
             [
              0.7777777777777778,
              "#fb9f3a"
             ],
             [
              0.8888888888888888,
              "#fdca26"
             ],
             [
              1,
              "#f0f921"
             ]
            ],
            "type": "histogram2dcontour"
           }
          ],
          "mesh3d": [
           {
            "colorbar": {
             "outlinewidth": 0,
             "ticks": ""
            },
            "type": "mesh3d"
           }
          ],
          "parcoords": [
           {
            "line": {
             "colorbar": {
              "outlinewidth": 0,
              "ticks": ""
             }
            },
            "type": "parcoords"
           }
          ],
          "pie": [
           {
            "automargin": true,
            "type": "pie"
           }
          ],
          "scatter": [
           {
            "fillpattern": {
             "fillmode": "overlay",
             "size": 10,
             "solidity": 0.2
            },
            "type": "scatter"
           }
          ],
          "scatter3d": [
           {
            "line": {
             "colorbar": {
              "outlinewidth": 0,
              "ticks": ""
             }
            },
            "marker": {
             "colorbar": {
              "outlinewidth": 0,
              "ticks": ""
             }
            },
            "type": "scatter3d"
           }
          ],
          "scattercarpet": [
           {
            "marker": {
             "colorbar": {
              "outlinewidth": 0,
              "ticks": ""
             }
            },
            "type": "scattercarpet"
           }
          ],
          "scattergeo": [
           {
            "marker": {
             "colorbar": {
              "outlinewidth": 0,
              "ticks": ""
             }
            },
            "type": "scattergeo"
           }
          ],
          "scattergl": [
           {
            "marker": {
             "colorbar": {
              "outlinewidth": 0,
              "ticks": ""
             }
            },
            "type": "scattergl"
           }
          ],
          "scattermapbox": [
           {
            "marker": {
             "colorbar": {
              "outlinewidth": 0,
              "ticks": ""
             }
            },
            "type": "scattermapbox"
           }
          ],
          "scatterpolar": [
           {
            "marker": {
             "colorbar": {
              "outlinewidth": 0,
              "ticks": ""
             }
            },
            "type": "scatterpolar"
           }
          ],
          "scatterpolargl": [
           {
            "marker": {
             "colorbar": {
              "outlinewidth": 0,
              "ticks": ""
             }
            },
            "type": "scatterpolargl"
           }
          ],
          "scatterternary": [
           {
            "marker": {
             "colorbar": {
              "outlinewidth": 0,
              "ticks": ""
             }
            },
            "type": "scatterternary"
           }
          ],
          "surface": [
           {
            "colorbar": {
             "outlinewidth": 0,
             "ticks": ""
            },
            "colorscale": [
             [
              0,
              "#0d0887"
             ],
             [
              0.1111111111111111,
              "#46039f"
             ],
             [
              0.2222222222222222,
              "#7201a8"
             ],
             [
              0.3333333333333333,
              "#9c179e"
             ],
             [
              0.4444444444444444,
              "#bd3786"
             ],
             [
              0.5555555555555556,
              "#d8576b"
             ],
             [
              0.6666666666666666,
              "#ed7953"
             ],
             [
              0.7777777777777778,
              "#fb9f3a"
             ],
             [
              0.8888888888888888,
              "#fdca26"
             ],
             [
              1,
              "#f0f921"
             ]
            ],
            "type": "surface"
           }
          ],
          "table": [
           {
            "cells": {
             "fill": {
              "color": "#EBF0F8"
             },
             "line": {
              "color": "white"
             }
            },
            "header": {
             "fill": {
              "color": "#C8D4E3"
             },
             "line": {
              "color": "white"
             }
            },
            "type": "table"
           }
          ]
         },
         "layout": {
          "annotationdefaults": {
           "arrowcolor": "#2a3f5f",
           "arrowhead": 0,
           "arrowwidth": 1
          },
          "autotypenumbers": "strict",
          "coloraxis": {
           "colorbar": {
            "outlinewidth": 0,
            "ticks": ""
           }
          },
          "colorscale": {
           "diverging": [
            [
             0,
             "#8e0152"
            ],
            [
             0.1,
             "#c51b7d"
            ],
            [
             0.2,
             "#de77ae"
            ],
            [
             0.3,
             "#f1b6da"
            ],
            [
             0.4,
             "#fde0ef"
            ],
            [
             0.5,
             "#f7f7f7"
            ],
            [
             0.6,
             "#e6f5d0"
            ],
            [
             0.7,
             "#b8e186"
            ],
            [
             0.8,
             "#7fbc41"
            ],
            [
             0.9,
             "#4d9221"
            ],
            [
             1,
             "#276419"
            ]
           ],
           "sequential": [
            [
             0,
             "#0d0887"
            ],
            [
             0.1111111111111111,
             "#46039f"
            ],
            [
             0.2222222222222222,
             "#7201a8"
            ],
            [
             0.3333333333333333,
             "#9c179e"
            ],
            [
             0.4444444444444444,
             "#bd3786"
            ],
            [
             0.5555555555555556,
             "#d8576b"
            ],
            [
             0.6666666666666666,
             "#ed7953"
            ],
            [
             0.7777777777777778,
             "#fb9f3a"
            ],
            [
             0.8888888888888888,
             "#fdca26"
            ],
            [
             1,
             "#f0f921"
            ]
           ],
           "sequentialminus": [
            [
             0,
             "#0d0887"
            ],
            [
             0.1111111111111111,
             "#46039f"
            ],
            [
             0.2222222222222222,
             "#7201a8"
            ],
            [
             0.3333333333333333,
             "#9c179e"
            ],
            [
             0.4444444444444444,
             "#bd3786"
            ],
            [
             0.5555555555555556,
             "#d8576b"
            ],
            [
             0.6666666666666666,
             "#ed7953"
            ],
            [
             0.7777777777777778,
             "#fb9f3a"
            ],
            [
             0.8888888888888888,
             "#fdca26"
            ],
            [
             1,
             "#f0f921"
            ]
           ]
          },
          "colorway": [
           "#636efa",
           "#EF553B",
           "#00cc96",
           "#ab63fa",
           "#FFA15A",
           "#19d3f3",
           "#FF6692",
           "#B6E880",
           "#FF97FF",
           "#FECB52"
          ],
          "font": {
           "color": "#2a3f5f"
          },
          "geo": {
           "bgcolor": "white",
           "lakecolor": "white",
           "landcolor": "#E5ECF6",
           "showlakes": true,
           "showland": true,
           "subunitcolor": "white"
          },
          "hoverlabel": {
           "align": "left"
          },
          "hovermode": "closest",
          "mapbox": {
           "style": "light"
          },
          "paper_bgcolor": "white",
          "plot_bgcolor": "#E5ECF6",
          "polar": {
           "angularaxis": {
            "gridcolor": "white",
            "linecolor": "white",
            "ticks": ""
           },
           "bgcolor": "#E5ECF6",
           "radialaxis": {
            "gridcolor": "white",
            "linecolor": "white",
            "ticks": ""
           }
          },
          "scene": {
           "xaxis": {
            "backgroundcolor": "#E5ECF6",
            "gridcolor": "white",
            "gridwidth": 2,
            "linecolor": "white",
            "showbackground": true,
            "ticks": "",
            "zerolinecolor": "white"
           },
           "yaxis": {
            "backgroundcolor": "#E5ECF6",
            "gridcolor": "white",
            "gridwidth": 2,
            "linecolor": "white",
            "showbackground": true,
            "ticks": "",
            "zerolinecolor": "white"
           },
           "zaxis": {
            "backgroundcolor": "#E5ECF6",
            "gridcolor": "white",
            "gridwidth": 2,
            "linecolor": "white",
            "showbackground": true,
            "ticks": "",
            "zerolinecolor": "white"
           }
          },
          "shapedefaults": {
           "line": {
            "color": "#2a3f5f"
           }
          },
          "ternary": {
           "aaxis": {
            "gridcolor": "white",
            "linecolor": "white",
            "ticks": ""
           },
           "baxis": {
            "gridcolor": "white",
            "linecolor": "white",
            "ticks": ""
           },
           "bgcolor": "#E5ECF6",
           "caxis": {
            "gridcolor": "white",
            "linecolor": "white",
            "ticks": ""
           }
          },
          "title": {
           "x": 0.05
          },
          "xaxis": {
           "automargin": true,
           "gridcolor": "white",
           "linecolor": "white",
           "ticks": "",
           "title": {
            "standoff": 15
           },
           "zerolinecolor": "white",
           "zerolinewidth": 2
          },
          "yaxis": {
           "automargin": true,
           "gridcolor": "white",
           "linecolor": "white",
           "ticks": "",
           "title": {
            "standoff": 15
           },
           "zerolinecolor": "white",
           "zerolinewidth": 2
          }
         }
        },
        "title": {
         "text": "Urbanization Level & Metropolitan Population Percentage in Africa (1950-2050)",
         "x": 0.5
        },
        "updatemenus": [
         {
          "buttons": [
           {
            "args": [
             null,
             {
              "frame": {
               "duration": 1000,
               "redraw": true
              },
              "fromcurrent": true
             }
            ],
            "label": "Play",
            "method": "animate"
           },
           {
            "args": [
             [
              null
             ],
             {
              "frame": {
               "duration": 0,
               "redraw": false
              },
              "mode": "immediate"
             }
            ],
            "label": "Pause",
            "method": "animate"
           }
          ],
          "direction": "left",
          "pad": {
           "r": 10,
           "t": 87
          },
          "showactive": false,
          "type": "buttons",
          "x": 0.1,
          "xanchor": "right",
          "y": 0,
          "yanchor": "top"
         }
        ]
       }
      }
     },
     "metadata": {},
     "output_type": "display_data"
    }
   ],
   "source": [
    "import plotly.graph_objects as go\n",
    "from plotly.subplots import make_subplots\n",
    "\n",
    "# 确保 'merged' DataFrame 已经定义\n",
    "data = merged  \n",
    "\n",
    "# 创建子图布局（两张地图并排）\n",
    "fig = make_subplots(\n",
    "    rows=1, cols=2,\n",
    "    subplot_titles=[\"Urbanization Level\", \"Metropolitan Population Percentage\"],\n",
    "    specs=[[{\"type\": \"choropleth\"}, {\"type\": \"choropleth\"}]]\n",
    ")\n",
    "\n",
    "# 颜色条参数（居中）\n",
    "colorbar_settings_left = dict(title=\"Urban Level\", x=0.45, lenmode=\"fraction\", len=0.5, tickmode=\"array\")\n",
    "colorbar_settings_right = dict(title=\"Metropolitan Pop. %\", x=0.55, lenmode=\"fraction\", len=0.5, tickmode=\"array\")\n",
    "\n",
    "# 生成动画帧\n",
    "frames = []\n",
    "years = sorted(data[\"Year\"].unique())\n",
    "\n",
    "for year in years:\n",
    "    df_year = data[data[\"Year\"] == year]\n",
    "    \n",
    "    frame = go.Frame(\n",
    "        name=str(year),\n",
    "        data=[\n",
    "            go.Choropleth(\n",
    "                locations=df_year[\"ISO\"],\n",
    "                z=df_year[\"UrbanLevel\"],\n",
    "                text=df_year[\"Country\"],\n",
    "                colorscale=\"Blues\",\n",
    "                locationmode=\"ISO-3\",\n",
    "                colorbar=colorbar_settings_left  # 颜色条居中偏左\n",
    "            ),\n",
    "            go.Choropleth(\n",
    "                locations=df_year[\"ISO\"],\n",
    "                z=df_year[\"Mpop\"],\n",
    "                text=df_year[\"Country\"],\n",
    "                colorscale=\"Oranges\",\n",
    "                locationmode=\"ISO-3\",\n",
    "                colorbar=colorbar_settings_right  # 颜色条居中偏右\n",
    "            )\n",
    "        ]\n",
    "    )\n",
    "    frames.append(frame)\n",
    "\n",
    "# 选择初始年份的数据\n",
    "df_initial = data[data[\"Year\"] == years[0]]\n",
    "\n",
    "# 添加初始地图（Urbanization Level）\n",
    "fig.add_trace(\n",
    "    go.Choropleth(\n",
    "        locations=df_initial[\"ISO\"],\n",
    "        z=df_initial[\"UrbanLevel\"],\n",
    "        text=df_initial[\"Country\"],\n",
    "        colorscale=\"Blues\",\n",
    "        locationmode=\"ISO-3\",\n",
    "        colorbar=colorbar_settings_left  # 颜色条居中偏左\n",
    "    ),\n",
    "    row=1, col=1\n",
    ")\n",
    "\n",
    "# 添加初始地图（Urban Population）\n",
    "fig.add_trace(\n",
    "    go.Choropleth(\n",
    "        locations=df_initial[\"ISO\"],\n",
    "        z=df_initial[\"Mpop\"],\n",
    "        text=df_initial[\"Country\"],\n",
    "        colorscale=\"Oranges\",\n",
    "        locationmode=\"ISO-3\",\n",
    "        colorbar=colorbar_settings_right  # 颜色条居中偏右\n",
    "    ),\n",
    "    row=1, col=2\n",
    ")\n",
    "\n",
    "# 更新布局\n",
    "fig.update_layout(\n",
    "    title_text=\"Urbanization Level & Metropolitan Population Percentage in Africa (1950-2050)\",\n",
    "    title_x=0.5,  # 标题水平居中\n",
    "    geo=dict(scope=\"africa\"),\n",
    "    geo2=dict(scope=\"africa\"),\n",
    "    updatemenus=[{\n",
    "        \"buttons\": [\n",
    "            {\"label\": \"Play\",\n",
    "             \"method\": \"animate\",\n",
    "             \"args\": [None, {\"frame\": {\"duration\": 1000, \"redraw\": True}, \"fromcurrent\": True}]},\n",
    "            {\"label\": \"Pause\",\n",
    "             \"method\": \"animate\",\n",
    "             \"args\": [[None], {\"frame\": {\"duration\": 0, \"redraw\": False}, \"mode\": \"immediate\"}]}\n",
    "        ],\n",
    "        \"direction\": \"left\",\n",
    "        \"pad\": {\"r\": 10, \"t\": 87},\n",
    "        \"showactive\": False,\n",
    "        \"type\": \"buttons\",\n",
    "        \"x\": 0.1,\n",
    "        \"xanchor\": \"right\",\n",
    "        \"y\": 0,\n",
    "        \"yanchor\": \"top\"\n",
    "    }],\n",
    "    sliders=[{\n",
    "        \"active\": 0,\n",
    "        \"yanchor\": \"top\",\n",
    "        \"xanchor\": \"left\",\n",
    "        \"currentvalue\": {\"prefix\": \"Year: \", \"font\": {\"size\": 20}},\n",
    "        \"transition\": {\"duration\": 300},\n",
    "        \"pad\": {\"b\": 10, \"t\": 50},\n",
    "        \"len\": 0.9,\n",
    "        \"x\": 0.1,\n",
    "        \"y\": 0,\n",
    "        \"steps\": [\n",
    "            {\"args\": [[str(year)], {\"frame\": {\"duration\": 300, \"redraw\": True}, \"mode\": \"immediate\"}],\n",
    "             \"label\": str(year),\n",
    "             \"method\": \"animate\"}\n",
    "            for year in years\n",
    "        ]\n",
    "    }]\n",
    ")\n",
    "\n",
    "# 添加动画帧\n",
    "fig.frames = frames\n",
    "\n",
    "# 显示图表\n",
    "fig.show()\n"
   ]
  },
  {
   "cell_type": "code",
   "execution_count": 114,
   "metadata": {},
   "outputs": [],
   "source": [
    "fig.write_html(\"urbanisation&population.html\")\n"
   ]
  },
  {
   "cell_type": "code",
   "execution_count": null,
   "metadata": {},
   "outputs": [
    {
     "ename": "ValueError",
     "evalue": "Value of 'size' is not the name of a column in 'data_frame'. Expected one of ['ISO', 'Country', 'AU_Regions', 'Year', 'UrbanLevel', 'Mpop'] but received: Value",
     "output_type": "error",
     "traceback": [
      "\u001b[0;31m---------------------------------------------------------------------------\u001b[0m",
      "\u001b[0;31mValueError\u001b[0m                                Traceback (most recent call last)",
      "Cell \u001b[0;32mIn[119], line 3\u001b[0m\n\u001b[1;32m      1\u001b[0m \u001b[38;5;28;01mimport\u001b[39;00m \u001b[38;5;21;01mplotly\u001b[39;00m\u001b[38;5;21;01m.\u001b[39;00m\u001b[38;5;21;01mexpress\u001b[39;00m \u001b[38;5;28;01mas\u001b[39;00m \u001b[38;5;21;01mpx\u001b[39;00m\n\u001b[0;32m----> 3\u001b[0m fig \u001b[38;5;241m=\u001b[39m px\u001b[38;5;241m.\u001b[39mscatter_geo(\n\u001b[1;32m      4\u001b[0m     merged,\n\u001b[1;32m      5\u001b[0m     locations\u001b[38;5;241m=\u001b[39m\u001b[38;5;124m\"\u001b[39m\u001b[38;5;124mISO\u001b[39m\u001b[38;5;124m\"\u001b[39m,         \u001b[38;5;66;03m# Country codes for mapping\u001b[39;00m\n\u001b[1;32m      6\u001b[0m     color\u001b[38;5;241m=\u001b[39m\u001b[38;5;124m\"\u001b[39m\u001b[38;5;124mAU_Regions\u001b[39m\u001b[38;5;124m\"\u001b[39m,      \u001b[38;5;66;03m# Different colors for African Union regions\u001b[39;00m\n\u001b[1;32m      7\u001b[0m     hover_name\u001b[38;5;241m=\u001b[39m\u001b[38;5;124m\"\u001b[39m\u001b[38;5;124mCountry\u001b[39m\u001b[38;5;124m\"\u001b[39m,    \u001b[38;5;66;03m# Show country names on hover\u001b[39;00m\n\u001b[1;32m      8\u001b[0m     size\u001b[38;5;241m=\u001b[39m\u001b[38;5;124m\"\u001b[39m\u001b[38;5;124mValue\u001b[39m\u001b[38;5;124m\"\u001b[39m,            \u001b[38;5;66;03m# Bubble size represents urbanization-related value\u001b[39;00m\n\u001b[1;32m      9\u001b[0m     animation_frame\u001b[38;5;241m=\u001b[39m\u001b[38;5;124m\"\u001b[39m\u001b[38;5;124mYear\u001b[39m\u001b[38;5;124m\"\u001b[39m,  \u001b[38;5;66;03m# Animation over time\u001b[39;00m\n\u001b[1;32m     10\u001b[0m     scope\u001b[38;5;241m=\u001b[39m\u001b[38;5;124m\"\u001b[39m\u001b[38;5;124mafrica\u001b[39m\u001b[38;5;124m\"\u001b[39m,          \u001b[38;5;66;03m# Focus on Africa\u001b[39;00m\n\u001b[1;32m     11\u001b[0m     projection\u001b[38;5;241m=\u001b[39m\u001b[38;5;124m\"\u001b[39m\u001b[38;5;124mnatural earth\u001b[39m\u001b[38;5;124m\"\u001b[39m,  \u001b[38;5;66;03m# Use a natural earth projection\u001b[39;00m\n\u001b[1;32m     12\u001b[0m     title\u001b[38;5;241m=\u001b[39m\u001b[38;5;124m\"\u001b[39m\u001b[38;5;124mUrbanization Levels & Population in Africa (1950-2050)\u001b[39m\u001b[38;5;124m\"\u001b[39m,\n\u001b[1;32m     13\u001b[0m     facet_col\u001b[38;5;241m=\u001b[39m\u001b[38;5;124m\"\u001b[39m\u001b[38;5;124mVariable\u001b[39m\u001b[38;5;124m\"\u001b[39m     \u001b[38;5;66;03m# Different urbanization variables shown separately\u001b[39;00m\n\u001b[1;32m     14\u001b[0m )\n\u001b[1;32m     16\u001b[0m \u001b[38;5;66;03m# Improve layout and readability\u001b[39;00m\n\u001b[1;32m     17\u001b[0m fig\u001b[38;5;241m.\u001b[39mupdate_layout(\n\u001b[1;32m     18\u001b[0m     title\u001b[38;5;241m=\u001b[39m{\n\u001b[1;32m     19\u001b[0m         \u001b[38;5;124m'\u001b[39m\u001b[38;5;124mtext\u001b[39m\u001b[38;5;124m'\u001b[39m: \u001b[38;5;124m\"\u001b[39m\u001b[38;5;124mUrbanization Levels & Population in Africa (1950-2050)\u001b[39m\u001b[38;5;124m\"\u001b[39m,\n\u001b[0;32m   (...)\u001b[0m\n\u001b[1;32m     25\u001b[0m     autosize\u001b[38;5;241m=\u001b[39m\u001b[38;5;28;01mTrue\u001b[39;00m\n\u001b[1;32m     26\u001b[0m )\n",
      "File \u001b[0;32m/opt/anaconda3/lib/python3.12/site-packages/plotly/express/_chart_types.py:1148\u001b[0m, in \u001b[0;36mscatter_geo\u001b[0;34m(data_frame, lat, lon, locations, locationmode, geojson, featureidkey, color, text, symbol, facet_row, facet_col, facet_col_wrap, facet_row_spacing, facet_col_spacing, hover_name, hover_data, custom_data, size, animation_frame, animation_group, category_orders, labels, color_discrete_sequence, color_discrete_map, color_continuous_scale, range_color, color_continuous_midpoint, symbol_sequence, symbol_map, opacity, size_max, projection, scope, center, fitbounds, basemap_visible, title, template, width, height)\u001b[0m\n\u001b[1;32m   1101\u001b[0m \u001b[38;5;28;01mdef\u001b[39;00m \u001b[38;5;21mscatter_geo\u001b[39m(\n\u001b[1;32m   1102\u001b[0m     data_frame\u001b[38;5;241m=\u001b[39m\u001b[38;5;28;01mNone\u001b[39;00m,\n\u001b[1;32m   1103\u001b[0m     lat\u001b[38;5;241m=\u001b[39m\u001b[38;5;28;01mNone\u001b[39;00m,\n\u001b[0;32m   (...)\u001b[0m\n\u001b[1;32m   1142\u001b[0m     height\u001b[38;5;241m=\u001b[39m\u001b[38;5;28;01mNone\u001b[39;00m,\n\u001b[1;32m   1143\u001b[0m ) \u001b[38;5;241m-\u001b[39m\u001b[38;5;241m>\u001b[39m go\u001b[38;5;241m.\u001b[39mFigure:\n\u001b[1;32m   1144\u001b[0m \u001b[38;5;250m    \u001b[39m\u001b[38;5;124;03m\"\"\"\u001b[39;00m\n\u001b[1;32m   1145\u001b[0m \u001b[38;5;124;03m    In a geographic scatter plot, each row of `data_frame` is represented\u001b[39;00m\n\u001b[1;32m   1146\u001b[0m \u001b[38;5;124;03m    by a symbol mark on a map.\u001b[39;00m\n\u001b[1;32m   1147\u001b[0m \u001b[38;5;124;03m    \"\"\"\u001b[39;00m\n\u001b[0;32m-> 1148\u001b[0m     \u001b[38;5;28;01mreturn\u001b[39;00m make_figure(\n\u001b[1;32m   1149\u001b[0m         args\u001b[38;5;241m=\u001b[39m\u001b[38;5;28mlocals\u001b[39m(),\n\u001b[1;32m   1150\u001b[0m         constructor\u001b[38;5;241m=\u001b[39mgo\u001b[38;5;241m.\u001b[39mScattergeo,\n\u001b[1;32m   1151\u001b[0m         trace_patch\u001b[38;5;241m=\u001b[39m\u001b[38;5;28mdict\u001b[39m(locationmode\u001b[38;5;241m=\u001b[39mlocationmode),\n\u001b[1;32m   1152\u001b[0m     )\n",
      "File \u001b[0;32m/opt/anaconda3/lib/python3.12/site-packages/plotly/express/_core.py:2090\u001b[0m, in \u001b[0;36mmake_figure\u001b[0;34m(args, constructor, trace_patch, layout_patch)\u001b[0m\n\u001b[1;32m   2087\u001b[0m layout_patch \u001b[38;5;241m=\u001b[39m layout_patch \u001b[38;5;129;01mor\u001b[39;00m {}\n\u001b[1;32m   2088\u001b[0m apply_default_cascade(args)\n\u001b[0;32m-> 2090\u001b[0m args \u001b[38;5;241m=\u001b[39m build_dataframe(args, constructor)\n\u001b[1;32m   2091\u001b[0m \u001b[38;5;28;01mif\u001b[39;00m constructor \u001b[38;5;129;01min\u001b[39;00m [go\u001b[38;5;241m.\u001b[39mTreemap, go\u001b[38;5;241m.\u001b[39mSunburst, go\u001b[38;5;241m.\u001b[39mIcicle] \u001b[38;5;129;01mand\u001b[39;00m args[\u001b[38;5;124m\"\u001b[39m\u001b[38;5;124mpath\u001b[39m\u001b[38;5;124m\"\u001b[39m] \u001b[38;5;129;01mis\u001b[39;00m \u001b[38;5;129;01mnot\u001b[39;00m \u001b[38;5;28;01mNone\u001b[39;00m:\n\u001b[1;32m   2092\u001b[0m     args \u001b[38;5;241m=\u001b[39m process_dataframe_hierarchy(args)\n",
      "File \u001b[0;32m/opt/anaconda3/lib/python3.12/site-packages/plotly/express/_core.py:1492\u001b[0m, in \u001b[0;36mbuild_dataframe\u001b[0;34m(args, constructor)\u001b[0m\n\u001b[1;32m   1489\u001b[0m     args[\u001b[38;5;124m\"\u001b[39m\u001b[38;5;124mcolor\u001b[39m\u001b[38;5;124m\"\u001b[39m] \u001b[38;5;241m=\u001b[39m \u001b[38;5;28;01mNone\u001b[39;00m\n\u001b[1;32m   1490\u001b[0m \u001b[38;5;66;03m# now that things have been prepped, we do the systematic rewriting of `args`\u001b[39;00m\n\u001b[0;32m-> 1492\u001b[0m df_output, wide_id_vars \u001b[38;5;241m=\u001b[39m process_args_into_dataframe(\n\u001b[1;32m   1493\u001b[0m     args, wide_mode, var_name, value_name\n\u001b[1;32m   1494\u001b[0m )\n\u001b[1;32m   1496\u001b[0m \u001b[38;5;66;03m# now that `df_output` exists and `args` contains only references, we complete\u001b[39;00m\n\u001b[1;32m   1497\u001b[0m \u001b[38;5;66;03m# the special-case and wide-mode handling by further rewriting args and/or mutating\u001b[39;00m\n\u001b[1;32m   1498\u001b[0m \u001b[38;5;66;03m# df_output\u001b[39;00m\n\u001b[1;32m   1500\u001b[0m count_name \u001b[38;5;241m=\u001b[39m _escape_col_name(df_output, \u001b[38;5;124m\"\u001b[39m\u001b[38;5;124mcount\u001b[39m\u001b[38;5;124m\"\u001b[39m, [var_name, value_name])\n",
      "File \u001b[0;32m/opt/anaconda3/lib/python3.12/site-packages/plotly/express/_core.py:1213\u001b[0m, in \u001b[0;36mprocess_args_into_dataframe\u001b[0;34m(args, wide_mode, var_name, value_name)\u001b[0m\n\u001b[1;32m   1211\u001b[0m         \u001b[38;5;28;01mif\u001b[39;00m argument \u001b[38;5;241m==\u001b[39m \u001b[38;5;124m\"\u001b[39m\u001b[38;5;124mindex\u001b[39m\u001b[38;5;124m\"\u001b[39m:\n\u001b[1;32m   1212\u001b[0m             err_msg \u001b[38;5;241m+\u001b[39m\u001b[38;5;241m=\u001b[39m \u001b[38;5;124m\"\u001b[39m\u001b[38;5;130;01m\\n\u001b[39;00m\u001b[38;5;124m To use the index, pass it in directly as `df.index`.\u001b[39m\u001b[38;5;124m\"\u001b[39m\n\u001b[0;32m-> 1213\u001b[0m         \u001b[38;5;28;01mraise\u001b[39;00m \u001b[38;5;167;01mValueError\u001b[39;00m(err_msg)\n\u001b[1;32m   1214\u001b[0m \u001b[38;5;28;01melif\u001b[39;00m length \u001b[38;5;129;01mand\u001b[39;00m \u001b[38;5;28mlen\u001b[39m(df_input[argument]) \u001b[38;5;241m!=\u001b[39m length:\n\u001b[1;32m   1215\u001b[0m     \u001b[38;5;28;01mraise\u001b[39;00m \u001b[38;5;167;01mValueError\u001b[39;00m(\n\u001b[1;32m   1216\u001b[0m         \u001b[38;5;124m\"\u001b[39m\u001b[38;5;124mAll arguments should have the same length. \u001b[39m\u001b[38;5;124m\"\u001b[39m\n\u001b[1;32m   1217\u001b[0m         \u001b[38;5;124m\"\u001b[39m\u001b[38;5;124mThe length of column argument `df[\u001b[39m\u001b[38;5;132;01m%s\u001b[39;00m\u001b[38;5;124m]` is \u001b[39m\u001b[38;5;132;01m%d\u001b[39;00m\u001b[38;5;124m, whereas the \u001b[39m\u001b[38;5;124m\"\u001b[39m\n\u001b[0;32m   (...)\u001b[0m\n\u001b[1;32m   1224\u001b[0m         )\n\u001b[1;32m   1225\u001b[0m     )\n",
      "\u001b[0;31mValueError\u001b[0m: Value of 'size' is not the name of a column in 'data_frame'. Expected one of ['ISO', 'Country', 'AU_Regions', 'Year', 'UrbanLevel', 'Mpop'] but received: Value"
     ]
    }
   ],
   "source": [
    "import plotly.express as px\n",
    "data = data_melted\n",
    "\n",
    "fig = px.scatter_geo(\n",
    "    data_melted,\n",
    "    locations=\"ISO\",         # Country codes for mapping\n",
    "    color=\"AU_Regions\",      # Different colors for African Union regions\n",
    "    hover_name=\"Country\",    # Show country names on hover\n",
    "    size=\"Value\",            # Bubble size represents urbanization-related value\n",
    "    animation_frame=\"Year\",  # Animation over time\n",
    "    scope=\"africa\",          # Focus on Africa\n",
    "    projection=\"natural earth\",  # Use a natural earth projection\n",
    "    title=\"Urbanization Levels & Population in Africa (1950-2050)\",\n",
    "    facet_col=\"Variable\"     # Different urbanization variables shown separately\n",
    ")\n",
    "\n",
    "# Improve layout and readability\n",
    "fig.update_layout(\n",
    "    title={\n",
    "        'text': \"Urbanization Levels & Population in Africa (1950-2050)\",\n",
    "        'y': 0.9,\n",
    "        'x': 0.5,\n",
    "        'xanchor': 'center',\n",
    "        'yanchor': 'top'\n",
    "    },\n",
    "    autosize=True\n",
    ")\n",
    "\n",
    "fig.show()\n"
   ]
  },
  {
   "cell_type": "code",
   "execution_count": null,
   "metadata": {},
   "outputs": [],
   "source": [
    "# Save figures as JSON\n",
    "import json\n",
    "with open(\"urbanization.json\", \"w\") as f:\n",
    "    json.dump(fig_1.to_json(), f)\n",
    "\n",
    "with open(\"population.json\", \"w\") as f:\n",
    "    json.dump(fig_2.to_json(), f)"
   ]
  },
  {
   "cell_type": "code",
   "execution_count": null,
   "metadata": {},
   "outputs": [
    {
     "ename": "ValueError",
     "evalue": "\n    Invalid value of type 'pandas.core.series.Series' received for the 'size' property of scattergeo.marker\n        Received value: 0     0.053145\n4            0\n26           0\n30    0.023674\n33     0.01088\n34    0.049742\n44           0\n51     0.23526\n52    0.132997\n53     0.18126\nName: UrbanLevel, dtype: object\n\n    The 'size' property is a number and may be specified as:\n      - An int or float in the interval [0, inf]\n      - A tuple, list, or one-dimensional numpy array of the above",
     "output_type": "error",
     "traceback": [
      "\u001b[0;31m---------------------------------------------------------------------------\u001b[0m",
      "\u001b[0;31mValueError\u001b[0m                                Traceback (most recent call last)",
      "File \u001b[0;32m/opt/anaconda3/lib/python3.12/site-packages/_plotly_utils/basevalidators.py:769\u001b[0m, in \u001b[0;36mNumberValidator.validate_coerce\u001b[0;34m(self, v)\u001b[0m\n\u001b[1;32m    768\u001b[0m \u001b[38;5;28;01mtry\u001b[39;00m:\n\u001b[0;32m--> 769\u001b[0m     v_array \u001b[38;5;241m=\u001b[39m copy_to_readonly_numpy_array(v, force_numeric\u001b[38;5;241m=\u001b[39m\u001b[38;5;28;01mTrue\u001b[39;00m)\n\u001b[1;32m    770\u001b[0m \u001b[38;5;28;01mexcept\u001b[39;00m (\u001b[38;5;167;01mValueError\u001b[39;00m, \u001b[38;5;167;01mTypeError\u001b[39;00m, \u001b[38;5;167;01mOverflowError\u001b[39;00m):\n",
      "File \u001b[0;32m/opt/anaconda3/lib/python3.12/site-packages/_plotly_utils/basevalidators.py:128\u001b[0m, in \u001b[0;36mcopy_to_readonly_numpy_array\u001b[0;34m(v, kind, force_numeric)\u001b[0m\n\u001b[1;32m    127\u001b[0m \u001b[38;5;28;01mif\u001b[39;00m is_numpy_convertable(v):\n\u001b[0;32m--> 128\u001b[0m     \u001b[38;5;28;01mreturn\u001b[39;00m copy_to_readonly_numpy_array(\n\u001b[1;32m    129\u001b[0m         np\u001b[38;5;241m.\u001b[39marray(v), kind\u001b[38;5;241m=\u001b[39mkind, force_numeric\u001b[38;5;241m=\u001b[39mforce_numeric\n\u001b[1;32m    130\u001b[0m     )\n\u001b[1;32m    131\u001b[0m \u001b[38;5;28;01melse\u001b[39;00m:\n\u001b[1;32m    132\u001b[0m     \u001b[38;5;66;03m# v is not homogenous array\u001b[39;00m\n",
      "File \u001b[0;32m/opt/anaconda3/lib/python3.12/site-packages/_plotly_utils/basevalidators.py:157\u001b[0m, in \u001b[0;36mcopy_to_readonly_numpy_array\u001b[0;34m(v, kind, force_numeric)\u001b[0m\n\u001b[1;32m    156\u001b[0m \u001b[38;5;28;01mif\u001b[39;00m force_numeric \u001b[38;5;129;01mand\u001b[39;00m new_v\u001b[38;5;241m.\u001b[39mdtype\u001b[38;5;241m.\u001b[39mkind \u001b[38;5;129;01mnot\u001b[39;00m \u001b[38;5;129;01min\u001b[39;00m numeric_kinds:\n\u001b[0;32m--> 157\u001b[0m     \u001b[38;5;28;01mraise\u001b[39;00m \u001b[38;5;167;01mValueError\u001b[39;00m(\n\u001b[1;32m    158\u001b[0m         \u001b[38;5;124m\"\u001b[39m\u001b[38;5;124mInput value is not numeric and force_numeric parameter set to True\u001b[39m\u001b[38;5;124m\"\u001b[39m\n\u001b[1;32m    159\u001b[0m     )\n\u001b[1;32m    161\u001b[0m \u001b[38;5;28;01mif\u001b[39;00m \u001b[38;5;124m\"\u001b[39m\u001b[38;5;124mU\u001b[39m\u001b[38;5;124m\"\u001b[39m \u001b[38;5;129;01mnot\u001b[39;00m \u001b[38;5;129;01min\u001b[39;00m kind:\n\u001b[1;32m    162\u001b[0m     \u001b[38;5;66;03m# Force non-numeric arrays to have object type\u001b[39;00m\n\u001b[1;32m    163\u001b[0m     \u001b[38;5;66;03m# --------------------------------------------\u001b[39;00m\n\u001b[0;32m   (...)\u001b[0m\n\u001b[1;32m    166\u001b[0m     \u001b[38;5;66;03m# numpy converts the integers to strings and returns array of dtype\u001b[39;00m\n\u001b[1;32m    167\u001b[0m     \u001b[38;5;66;03m# '<U21'\u001b[39;00m\n",
      "\u001b[0;31mValueError\u001b[0m: Input value is not numeric and force_numeric parameter set to True",
      "\nDuring handling of the above exception, another exception occurred:\n",
      "\u001b[0;31mValueError\u001b[0m                                Traceback (most recent call last)",
      "Cell \u001b[0;32mIn[12], line 24\u001b[0m\n\u001b[1;32m     21\u001b[0m data_melted_Population[\u001b[38;5;124m'\u001b[39m\u001b[38;5;124mUpop\u001b[39m\u001b[38;5;124m'\u001b[39m] \u001b[38;5;241m=\u001b[39m pd\u001b[38;5;241m.\u001b[39mto_numeric(data_melted_Population[\u001b[38;5;124m'\u001b[39m\u001b[38;5;124mUpop\u001b[39m\u001b[38;5;124m'\u001b[39m], errors\u001b[38;5;241m=\u001b[39m\u001b[38;5;124m'\u001b[39m\u001b[38;5;124mcoerce\u001b[39m\u001b[38;5;124m'\u001b[39m)\n\u001b[1;32m     23\u001b[0m \u001b[38;5;66;03m# Generate Plotly figures\u001b[39;00m\n\u001b[0;32m---> 24\u001b[0m fig1 \u001b[38;5;241m=\u001b[39m px\u001b[38;5;241m.\u001b[39mscatter_geo(data_melted_urban, locations\u001b[38;5;241m=\u001b[39m\u001b[38;5;124m\"\u001b[39m\u001b[38;5;124mISO\u001b[39m\u001b[38;5;124m\"\u001b[39m, color\u001b[38;5;241m=\u001b[39m\u001b[38;5;124m\"\u001b[39m\u001b[38;5;124mAU_Regions\u001b[39m\u001b[38;5;124m\"\u001b[39m, hover_name\u001b[38;5;241m=\u001b[39m\u001b[38;5;124m\"\u001b[39m\u001b[38;5;124mCountry\u001b[39m\u001b[38;5;124m\"\u001b[39m,\n\u001b[1;32m     25\u001b[0m                       size\u001b[38;5;241m=\u001b[39m\u001b[38;5;124m\"\u001b[39m\u001b[38;5;124mUrbanLevel\u001b[39m\u001b[38;5;124m\"\u001b[39m, animation_frame\u001b[38;5;241m=\u001b[39m\u001b[38;5;124m\"\u001b[39m\u001b[38;5;124mYear\u001b[39m\u001b[38;5;124m\"\u001b[39m, scope\u001b[38;5;241m=\u001b[39m\u001b[38;5;124m\"\u001b[39m\u001b[38;5;124mafrica\u001b[39m\u001b[38;5;124m\"\u001b[39m, projection\u001b[38;5;241m=\u001b[39m\u001b[38;5;124m\"\u001b[39m\u001b[38;5;124mnatural earth\u001b[39m\u001b[38;5;124m\"\u001b[39m)\n\u001b[1;32m     27\u001b[0m fig2 \u001b[38;5;241m=\u001b[39m px\u001b[38;5;241m.\u001b[39mscatter_geo(data_melted_Population, locations\u001b[38;5;241m=\u001b[39m\u001b[38;5;124m\"\u001b[39m\u001b[38;5;124mISO\u001b[39m\u001b[38;5;124m\"\u001b[39m, color\u001b[38;5;241m=\u001b[39m\u001b[38;5;124m\"\u001b[39m\u001b[38;5;124mAU_Regions\u001b[39m\u001b[38;5;124m\"\u001b[39m, hover_name\u001b[38;5;241m=\u001b[39m\u001b[38;5;124m\"\u001b[39m\u001b[38;5;124mCountry\u001b[39m\u001b[38;5;124m\"\u001b[39m,\n\u001b[1;32m     28\u001b[0m                       size\u001b[38;5;241m=\u001b[39m\u001b[38;5;124m\"\u001b[39m\u001b[38;5;124mUpop\u001b[39m\u001b[38;5;124m\"\u001b[39m, animation_frame\u001b[38;5;241m=\u001b[39m\u001b[38;5;124m\"\u001b[39m\u001b[38;5;124mYear\u001b[39m\u001b[38;5;124m\"\u001b[39m, scope\u001b[38;5;241m=\u001b[39m\u001b[38;5;124m\"\u001b[39m\u001b[38;5;124mafrica\u001b[39m\u001b[38;5;124m\"\u001b[39m, projection\u001b[38;5;241m=\u001b[39m\u001b[38;5;124m\"\u001b[39m\u001b[38;5;124mnatural earth\u001b[39m\u001b[38;5;124m\"\u001b[39m)\n\u001b[1;32m     30\u001b[0m \u001b[38;5;66;03m# Save figures as JSON\u001b[39;00m\n",
      "File \u001b[0;32m/opt/anaconda3/lib/python3.12/site-packages/plotly/express/_chart_types.py:1148\u001b[0m, in \u001b[0;36mscatter_geo\u001b[0;34m(data_frame, lat, lon, locations, locationmode, geojson, featureidkey, color, text, symbol, facet_row, facet_col, facet_col_wrap, facet_row_spacing, facet_col_spacing, hover_name, hover_data, custom_data, size, animation_frame, animation_group, category_orders, labels, color_discrete_sequence, color_discrete_map, color_continuous_scale, range_color, color_continuous_midpoint, symbol_sequence, symbol_map, opacity, size_max, projection, scope, center, fitbounds, basemap_visible, title, template, width, height)\u001b[0m\n\u001b[1;32m   1101\u001b[0m \u001b[38;5;28;01mdef\u001b[39;00m \u001b[38;5;21mscatter_geo\u001b[39m(\n\u001b[1;32m   1102\u001b[0m     data_frame\u001b[38;5;241m=\u001b[39m\u001b[38;5;28;01mNone\u001b[39;00m,\n\u001b[1;32m   1103\u001b[0m     lat\u001b[38;5;241m=\u001b[39m\u001b[38;5;28;01mNone\u001b[39;00m,\n\u001b[0;32m   (...)\u001b[0m\n\u001b[1;32m   1142\u001b[0m     height\u001b[38;5;241m=\u001b[39m\u001b[38;5;28;01mNone\u001b[39;00m,\n\u001b[1;32m   1143\u001b[0m ) \u001b[38;5;241m-\u001b[39m\u001b[38;5;241m>\u001b[39m go\u001b[38;5;241m.\u001b[39mFigure:\n\u001b[1;32m   1144\u001b[0m \u001b[38;5;250m    \u001b[39m\u001b[38;5;124;03m\"\"\"\u001b[39;00m\n\u001b[1;32m   1145\u001b[0m \u001b[38;5;124;03m    In a geographic scatter plot, each row of `data_frame` is represented\u001b[39;00m\n\u001b[1;32m   1146\u001b[0m \u001b[38;5;124;03m    by a symbol mark on a map.\u001b[39;00m\n\u001b[1;32m   1147\u001b[0m \u001b[38;5;124;03m    \"\"\"\u001b[39;00m\n\u001b[0;32m-> 1148\u001b[0m     \u001b[38;5;28;01mreturn\u001b[39;00m make_figure(\n\u001b[1;32m   1149\u001b[0m         args\u001b[38;5;241m=\u001b[39m\u001b[38;5;28mlocals\u001b[39m(),\n\u001b[1;32m   1150\u001b[0m         constructor\u001b[38;5;241m=\u001b[39mgo\u001b[38;5;241m.\u001b[39mScattergeo,\n\u001b[1;32m   1151\u001b[0m         trace_patch\u001b[38;5;241m=\u001b[39m\u001b[38;5;28mdict\u001b[39m(locationmode\u001b[38;5;241m=\u001b[39mlocationmode),\n\u001b[1;32m   1152\u001b[0m     )\n",
      "File \u001b[0;32m/opt/anaconda3/lib/python3.12/site-packages/plotly/express/_core.py:2270\u001b[0m, in \u001b[0;36mmake_figure\u001b[0;34m(args, constructor, trace_patch, layout_patch)\u001b[0m\n\u001b[1;32m   2265\u001b[0m         group[var] \u001b[38;5;241m=\u001b[39m \u001b[38;5;241m100.0\u001b[39m \u001b[38;5;241m*\u001b[39m group[var] \u001b[38;5;241m/\u001b[39m group_sum\n\u001b[1;32m   2267\u001b[0m patch, fit_results \u001b[38;5;241m=\u001b[39m make_trace_kwargs(\n\u001b[1;32m   2268\u001b[0m     args, trace_spec, group, mapping_labels\u001b[38;5;241m.\u001b[39mcopy(), sizeref\n\u001b[1;32m   2269\u001b[0m )\n\u001b[0;32m-> 2270\u001b[0m trace\u001b[38;5;241m.\u001b[39mupdate(patch)\n\u001b[1;32m   2271\u001b[0m \u001b[38;5;28;01mif\u001b[39;00m fit_results \u001b[38;5;129;01mis\u001b[39;00m \u001b[38;5;129;01mnot\u001b[39;00m \u001b[38;5;28;01mNone\u001b[39;00m:\n\u001b[1;32m   2272\u001b[0m     trendline_rows\u001b[38;5;241m.\u001b[39mappend(mapping_labels\u001b[38;5;241m.\u001b[39mcopy())\n",
      "File \u001b[0;32m/opt/anaconda3/lib/python3.12/site-packages/plotly/basedatatypes.py:5139\u001b[0m, in \u001b[0;36mBasePlotlyType.update\u001b[0;34m(self, dict1, overwrite, **kwargs)\u001b[0m\n\u001b[1;32m   5137\u001b[0m         BaseFigure\u001b[38;5;241m.\u001b[39m_perform_update(\u001b[38;5;28mself\u001b[39m, kwargs, overwrite\u001b[38;5;241m=\u001b[39moverwrite)\n\u001b[1;32m   5138\u001b[0m \u001b[38;5;28;01melse\u001b[39;00m:\n\u001b[0;32m-> 5139\u001b[0m     BaseFigure\u001b[38;5;241m.\u001b[39m_perform_update(\u001b[38;5;28mself\u001b[39m, dict1, overwrite\u001b[38;5;241m=\u001b[39moverwrite)\n\u001b[1;32m   5140\u001b[0m     BaseFigure\u001b[38;5;241m.\u001b[39m_perform_update(\u001b[38;5;28mself\u001b[39m, kwargs, overwrite\u001b[38;5;241m=\u001b[39moverwrite)\n\u001b[1;32m   5142\u001b[0m \u001b[38;5;28;01mreturn\u001b[39;00m \u001b[38;5;28mself\u001b[39m\n",
      "File \u001b[0;32m/opt/anaconda3/lib/python3.12/site-packages/plotly/basedatatypes.py:3919\u001b[0m, in \u001b[0;36mBaseFigure._perform_update\u001b[0;34m(plotly_obj, update_obj, overwrite)\u001b[0m\n\u001b[1;32m   3913\u001b[0m validator \u001b[38;5;241m=\u001b[39m plotly_obj\u001b[38;5;241m.\u001b[39m_get_prop_validator(key)\n\u001b[1;32m   3915\u001b[0m \u001b[38;5;28;01mif\u001b[39;00m \u001b[38;5;28misinstance\u001b[39m(validator, CompoundValidator) \u001b[38;5;129;01mand\u001b[39;00m \u001b[38;5;28misinstance\u001b[39m(val, \u001b[38;5;28mdict\u001b[39m):\n\u001b[1;32m   3916\u001b[0m \n\u001b[1;32m   3917\u001b[0m     \u001b[38;5;66;03m# Update compound objects recursively\u001b[39;00m\n\u001b[1;32m   3918\u001b[0m     \u001b[38;5;66;03m# plotly_obj[key].update(val)\u001b[39;00m\n\u001b[0;32m-> 3919\u001b[0m     BaseFigure\u001b[38;5;241m.\u001b[39m_perform_update(plotly_obj[key], val)\n\u001b[1;32m   3920\u001b[0m \u001b[38;5;28;01melif\u001b[39;00m \u001b[38;5;28misinstance\u001b[39m(validator, CompoundArrayValidator):\n\u001b[1;32m   3921\u001b[0m     \u001b[38;5;28;01mif\u001b[39;00m plotly_obj[key]:\n\u001b[1;32m   3922\u001b[0m         \u001b[38;5;66;03m# plotly_obj has an existing non-empty array for key\u001b[39;00m\n\u001b[1;32m   3923\u001b[0m         \u001b[38;5;66;03m# In this case we merge val into the existing elements\u001b[39;00m\n",
      "File \u001b[0;32m/opt/anaconda3/lib/python3.12/site-packages/plotly/basedatatypes.py:3940\u001b[0m, in \u001b[0;36mBaseFigure._perform_update\u001b[0;34m(plotly_obj, update_obj, overwrite)\u001b[0m\n\u001b[1;32m   3937\u001b[0m                 plotly_obj[key] \u001b[38;5;241m=\u001b[39m val\n\u001b[1;32m   3938\u001b[0m         \u001b[38;5;28;01melse\u001b[39;00m:\n\u001b[1;32m   3939\u001b[0m             \u001b[38;5;66;03m# Assign non-compound value\u001b[39;00m\n\u001b[0;32m-> 3940\u001b[0m             plotly_obj[key] \u001b[38;5;241m=\u001b[39m val\n\u001b[1;32m   3942\u001b[0m \u001b[38;5;28;01melif\u001b[39;00m \u001b[38;5;28misinstance\u001b[39m(plotly_obj, \u001b[38;5;28mtuple\u001b[39m):\n\u001b[1;32m   3944\u001b[0m     \u001b[38;5;28;01mif\u001b[39;00m \u001b[38;5;28mlen\u001b[39m(update_obj) \u001b[38;5;241m==\u001b[39m \u001b[38;5;241m0\u001b[39m:\n\u001b[1;32m   3945\u001b[0m         \u001b[38;5;66;03m# Nothing to do\u001b[39;00m\n",
      "File \u001b[0;32m/opt/anaconda3/lib/python3.12/site-packages/plotly/basedatatypes.py:4874\u001b[0m, in \u001b[0;36mBasePlotlyType.__setitem__\u001b[0;34m(self, prop, value)\u001b[0m\n\u001b[1;32m   4870\u001b[0m         \u001b[38;5;28mself\u001b[39m\u001b[38;5;241m.\u001b[39m_set_array_prop(prop, value)\n\u001b[1;32m   4872\u001b[0m     \u001b[38;5;66;03m# ### Handle simple property ###\u001b[39;00m\n\u001b[1;32m   4873\u001b[0m     \u001b[38;5;28;01melse\u001b[39;00m:\n\u001b[0;32m-> 4874\u001b[0m         \u001b[38;5;28mself\u001b[39m\u001b[38;5;241m.\u001b[39m_set_prop(prop, value)\n\u001b[1;32m   4875\u001b[0m \u001b[38;5;28;01melse\u001b[39;00m:\n\u001b[1;32m   4876\u001b[0m     \u001b[38;5;66;03m# Make sure properties dict is initialized\u001b[39;00m\n\u001b[1;32m   4877\u001b[0m     \u001b[38;5;28mself\u001b[39m\u001b[38;5;241m.\u001b[39m_init_props()\n",
      "File \u001b[0;32m/opt/anaconda3/lib/python3.12/site-packages/plotly/basedatatypes.py:5218\u001b[0m, in \u001b[0;36mBasePlotlyType._set_prop\u001b[0;34m(self, prop, val)\u001b[0m\n\u001b[1;32m   5216\u001b[0m         \u001b[38;5;28;01mreturn\u001b[39;00m\n\u001b[1;32m   5217\u001b[0m     \u001b[38;5;28;01melse\u001b[39;00m:\n\u001b[0;32m-> 5218\u001b[0m         \u001b[38;5;28;01mraise\u001b[39;00m err\n\u001b[1;32m   5220\u001b[0m \u001b[38;5;66;03m# val is None\u001b[39;00m\n\u001b[1;32m   5221\u001b[0m \u001b[38;5;66;03m# -----------\u001b[39;00m\n\u001b[1;32m   5222\u001b[0m \u001b[38;5;28;01mif\u001b[39;00m val \u001b[38;5;129;01mis\u001b[39;00m \u001b[38;5;28;01mNone\u001b[39;00m:\n\u001b[1;32m   5223\u001b[0m     \u001b[38;5;66;03m# Check if we should send null update\u001b[39;00m\n",
      "File \u001b[0;32m/opt/anaconda3/lib/python3.12/site-packages/plotly/basedatatypes.py:5213\u001b[0m, in \u001b[0;36mBasePlotlyType._set_prop\u001b[0;34m(self, prop, val)\u001b[0m\n\u001b[1;32m   5210\u001b[0m validator \u001b[38;5;241m=\u001b[39m \u001b[38;5;28mself\u001b[39m\u001b[38;5;241m.\u001b[39m_get_validator(prop)\n\u001b[1;32m   5212\u001b[0m \u001b[38;5;28;01mtry\u001b[39;00m:\n\u001b[0;32m-> 5213\u001b[0m     val \u001b[38;5;241m=\u001b[39m validator\u001b[38;5;241m.\u001b[39mvalidate_coerce(val)\n\u001b[1;32m   5214\u001b[0m \u001b[38;5;28;01mexcept\u001b[39;00m \u001b[38;5;167;01mValueError\u001b[39;00m \u001b[38;5;28;01mas\u001b[39;00m err:\n\u001b[1;32m   5215\u001b[0m     \u001b[38;5;28;01mif\u001b[39;00m \u001b[38;5;28mself\u001b[39m\u001b[38;5;241m.\u001b[39m_skip_invalid:\n",
      "File \u001b[0;32m/opt/anaconda3/lib/python3.12/site-packages/_plotly_utils/basevalidators.py:771\u001b[0m, in \u001b[0;36mNumberValidator.validate_coerce\u001b[0;34m(self, v)\u001b[0m\n\u001b[1;32m    769\u001b[0m     v_array \u001b[38;5;241m=\u001b[39m copy_to_readonly_numpy_array(v, force_numeric\u001b[38;5;241m=\u001b[39m\u001b[38;5;28;01mTrue\u001b[39;00m)\n\u001b[1;32m    770\u001b[0m \u001b[38;5;28;01mexcept\u001b[39;00m (\u001b[38;5;167;01mValueError\u001b[39;00m, \u001b[38;5;167;01mTypeError\u001b[39;00m, \u001b[38;5;167;01mOverflowError\u001b[39;00m):\n\u001b[0;32m--> 771\u001b[0m     \u001b[38;5;28mself\u001b[39m\u001b[38;5;241m.\u001b[39mraise_invalid_val(v)\n\u001b[1;32m    773\u001b[0m \u001b[38;5;66;03m# Check min/max\u001b[39;00m\n\u001b[1;32m    774\u001b[0m \u001b[38;5;28;01mif\u001b[39;00m \u001b[38;5;28mself\u001b[39m\u001b[38;5;241m.\u001b[39mhas_min_max:\n",
      "File \u001b[0;32m/opt/anaconda3/lib/python3.12/site-packages/_plotly_utils/basevalidators.py:296\u001b[0m, in \u001b[0;36mBaseValidator.raise_invalid_val\u001b[0;34m(self, v, inds)\u001b[0m\n\u001b[1;32m    293\u001b[0m             \u001b[38;5;28;01mfor\u001b[39;00m i \u001b[38;5;129;01min\u001b[39;00m inds:\n\u001b[1;32m    294\u001b[0m                 name \u001b[38;5;241m+\u001b[39m\u001b[38;5;241m=\u001b[39m \u001b[38;5;124m\"\u001b[39m\u001b[38;5;124m[\u001b[39m\u001b[38;5;124m\"\u001b[39m \u001b[38;5;241m+\u001b[39m \u001b[38;5;28mstr\u001b[39m(i) \u001b[38;5;241m+\u001b[39m \u001b[38;5;124m\"\u001b[39m\u001b[38;5;124m]\u001b[39m\u001b[38;5;124m\"\u001b[39m\n\u001b[0;32m--> 296\u001b[0m         \u001b[38;5;28;01mraise\u001b[39;00m \u001b[38;5;167;01mValueError\u001b[39;00m(\n\u001b[1;32m    297\u001b[0m \u001b[38;5;250m            \u001b[39m\u001b[38;5;124;03m\"\"\"\u001b[39;00m\n\u001b[1;32m    298\u001b[0m \u001b[38;5;124;03m    Invalid value of type {typ} received for the '{name}' property of {pname}\u001b[39;00m\n\u001b[1;32m    299\u001b[0m \u001b[38;5;124;03m        Received value: {v}\u001b[39;00m\n\u001b[1;32m    300\u001b[0m \n\u001b[1;32m    301\u001b[0m \u001b[38;5;124;03m{valid_clr_desc}\"\"\"\u001b[39;00m\u001b[38;5;241m.\u001b[39mformat(\n\u001b[1;32m    302\u001b[0m                 name\u001b[38;5;241m=\u001b[39mname,\n\u001b[1;32m    303\u001b[0m                 pname\u001b[38;5;241m=\u001b[39m\u001b[38;5;28mself\u001b[39m\u001b[38;5;241m.\u001b[39mparent_name,\n\u001b[1;32m    304\u001b[0m                 typ\u001b[38;5;241m=\u001b[39mtype_str(v),\n\u001b[1;32m    305\u001b[0m                 v\u001b[38;5;241m=\u001b[39m\u001b[38;5;28mrepr\u001b[39m(v),\n\u001b[1;32m    306\u001b[0m                 valid_clr_desc\u001b[38;5;241m=\u001b[39m\u001b[38;5;28mself\u001b[39m\u001b[38;5;241m.\u001b[39mdescription(),\n\u001b[1;32m    307\u001b[0m             )\n\u001b[1;32m    308\u001b[0m         )\n",
      "\u001b[0;31mValueError\u001b[0m: \n    Invalid value of type 'pandas.core.series.Series' received for the 'size' property of scattergeo.marker\n        Received value: 0     0.053145\n4            0\n26           0\n30    0.023674\n33     0.01088\n34    0.049742\n44           0\n51     0.23526\n52    0.132997\n53     0.18126\nName: UrbanLevel, dtype: object\n\n    The 'size' property is a number and may be specified as:\n      - An int or float in the interval [0, inf]\n      - A tuple, list, or one-dimensional numpy array of the above"
     ]
    }
   ],
   "source": [
    "import plotly.express as px\n",
    "import pandas as pd\n",
    "\n",
    "# Load your data\n",
    "data = pd.read_excel('/Users/shuyucathy/Downloads/Africapolis_country_2024_written_test.xlsx')  \n",
    "\n",
    "# Data Cleaning (same as your original code)\n",
    "data.columns = data.iloc[14]\n",
    "data = data.iloc[15:].reset_index(drop=True)\n",
    "data.columns.name = None\n",
    "\n",
    "urban_columns = [\"ISO\", \"Country\", \"AU_Regions\"] + [col for col in data.columns if \"Urbanlevel\" in col]\n",
    "data_filtered = data[urban_columns]\n",
    "\n",
    "# Convert wide format to long format\n",
    "data_melted_urban = data_filtered.melt(id_vars=[\"ISO\", \"Country\", \"AU_Regions\"], var_name=\"Year\", value_name=\"UrbanLevel\")\n",
    "data_melted_urban['Year'] = data_melted_urban['Year'].str.extract(r'(\\d+)').astype(int)\n",
    "data_melted_Population['Urbanlevel'] = pd.to_numeric(data_melted_Population['Urbanlevel'], errors='coerce')\n",
    "\n",
    "\n",
    "data_melted_Population = data_filtered.melt(id_vars=[\"ISO\", \"Country\", \"AU_Regions\"], var_name=\"Year\", value_name=\"Upop\")\n",
    "data_melted_Population['Year'] = data_melted_Population['Year'].str.extract(r'(\\d+)').astype(int)\n",
    "data_melted_Population['Upop'] = pd.to_numeric(data_melted_Population['Upop'], errors='coerce')\n",
    "\n",
    "# Generate Plotly figures\n",
    "fig1 = px.scatter_geo(data_melted_urban, locations=\"ISO\", color=\"AU_Regions\", hover_name=\"Country\",\n",
    "                      size=\"UrbanLevel\", animation_frame=\"Year\", scope=\"africa\", projection=\"natural earth\")\n",
    "\n",
    "fig2 = px.scatter_geo(data_melted_Population, locations=\"ISO\", color=\"AU_Regions\", hover_name=\"Country\",\n",
    "                      size=\"Upop\", animation_frame=\"Year\", scope=\"africa\", projection=\"natural earth\")\n",
    "\n",
    "# Save figures as JSON\n",
    "import json\n",
    "with open(\"urbanization.json\", \"w\") as f:\n",
    "    json.dump(fig1.to_json(), f)\n",
    "\n",
    "with open(\"population.json\", \"w\") as f:\n",
    "    json.dump(fig2.to_json(), f)\n"
   ]
  },
  {
   "cell_type": "markdown",
   "metadata": {},
   "source": [
    "I want to display the maps of all variables all in one to move together to observe their movements"
   ]
  },
  {
   "cell_type": "code",
   "execution_count": null,
   "metadata": {},
   "outputs": [
    {
     "data": {
      "application/vnd.plotly.v1+json": {
       "config": {
        "plotlyServerURL": "https://plot.ly"
       },
       "data": [
        {
         "geo": "geo",
         "hovertemplate": "<b>%{hovertext}</b><br><br>AU_Regions=Southern Africa<br>Year=1950<br>Value=%{marker.size}<br>ISO=%{location}<extra></extra>",
         "hovertext": [
          "Angola",
          "Botswana",
          "Lesotho",
          "Mozambique",
          "Malawi",
          "Namibia",
          "Kingdom of Eswatini",
          "South Africa",
          "Zambia",
          "Zimbabwe"
         ],
         "legendgroup": "Southern Africa",
         "locations": [
          "AGO",
          "BWA",
          "LSO",
          "MOZ",
          "MWI",
          "NAM",
          "SWZ",
          "ZAF",
          "ZMB",
          "ZWE"
         ],
         "marker": {
          "color": "#636efa",
          "size": [
           0.05314496102300793,
           0,
           0,
           0.02367435215496459,
           0.01087965544869302,
           0.04974211893302478,
           0,
           0.2352600646968545,
           0.1329970389584433,
           0.1812596164259968
          ],
          "sizemode": "area",
          "sizeref": 0.002450259732789959,
          "symbol": "circle"
         },
         "mode": "markers",
         "name": "Southern Africa",
         "showlegend": true,
         "type": "scattergeo"
        },
        {
         "geo": "geo",
         "hovertemplate": "<b>%{hovertext}</b><br><br>AU_Regions=Central Africa<br>Year=1950<br>Value=%{marker.size}<br>ISO=%{location}<extra></extra>",
         "hovertext": [
          "Burundi",
          "Central African Republic",
          "Cameroon",
          "Democratic Republic of the Congo",
          "Republic of the Congo",
          "Gabon",
          "Equatorial Guinea",
          "Sao Tome and Principe",
          "Chad"
         ],
         "legendgroup": "Central Africa",
         "locations": [
          "BDI",
          "CAF",
          "CMR",
          "COD",
          "COG",
          "GAB",
          "GNQ",
          "STP",
          "TCD"
         ],
         "marker": {
          "color": "#EF553B",
          "size": [
           0.00932449783786177,
           0.03486651835372636,
           0.081,
           0.04543773649503104,
           0.1507434123362285,
           0.02544031311154599,
           0.2481589425308185,
           0,
           0.02520296190561156
          ],
          "sizemode": "area",
          "sizeref": 0.002450259732789959,
          "symbol": "circle"
         },
         "mode": "markers",
         "name": "Central Africa",
         "showlegend": true,
         "type": "scattergeo"
        },
        {
         "geo": "geo",
         "hovertemplate": "<b>%{hovertext}</b><br><br>AU_Regions=West Africa<br>Year=1950<br>Value=%{marker.size}<br>ISO=%{location}<extra></extra>",
         "hovertext": [
          "Benin",
          "Burkina Faso",
          "Cote d`Ivoire",
          "Cabo Verde",
          "Ghana",
          "Guinea",
          "The Gambia",
          "Guinea-Bissau",
          "Liberia",
          "Mali",
          "Niger",
          "Nigeria",
          "Senegal",
          "Sierra Leone",
          "Togo"
         ],
         "legendgroup": "West Africa",
         "locations": [
          "BEN",
          "BFA",
          "CIV",
          "CPV",
          "GHA",
          "GIN",
          "GMB",
          "GNB",
          "LBR",
          "MLI",
          "NER",
          "NGA",
          "SEN",
          "SLE",
          "TGO"
         ],
         "marker": {
          "color": "#00cc96",
          "size": [
           0.056651957049104,
           0.02830431893687708,
           0.04407941321585539,
           0.06723383827608279,
           0.06871957904047518,
           0.03950759932450449,
           0.09447921769262868,
           0.09069886240839342,
           0.02792682926829268,
           0.04187441176470588,
           0.01076958631846545,
           0.1068241194968553,
           0.1963973587104292,
           0.04738799149785096,
           0.04064307872893435
          ],
          "sizemode": "area",
          "sizeref": 0.002450259732789959,
          "symbol": "circle"
         },
         "mode": "markers",
         "name": "West Africa",
         "showlegend": true,
         "type": "scattergeo"
        },
        {
         "geo": "geo",
         "hovertemplate": "<b>%{hovertext}</b><br><br>AU_Regions=East Africa<br>Year=1950<br>Value=%{marker.size}<br>ISO=%{location}<extra></extra>",
         "hovertext": [
          "Comoros",
          "Djibouti",
          "Eritrea",
          "Ethiopia",
          "Kenya",
          "Madagascar",
          "Mauritius",
          "Rwanda",
          "Sudan",
          "Somalia",
          "South Sudan",
          "Seychelles",
          "Tanzania",
          "Uganda"
         ],
         "legendgroup": "East Africa",
         "locations": [
          "COM",
          "DJI",
          "ERI",
          "ETH",
          "KEN",
          "MDG",
          "MUS",
          "RWA",
          "SDN",
          "SOM",
          "SSD",
          "SYC",
          "TZA",
          "UGA"
         ],
         "marker": {
          "color": "#ab63fa",
          "size": [
           0,
           0.638,
           0.1152914305050334,
           0.02676352096137055,
           0.04580538768597663,
           0.07731043321486655,
           0.1587902123606618,
           0.006232072265980841,
           0.08216045114399423,
           0.08483192962672563,
           0.008140070719125503,
           0.2844041780954756,
           0.02485029784408854,
           0.008206467923895372
          ],
          "sizemode": "area",
          "sizeref": 0.002450259732789959,
          "symbol": "circle"
         },
         "mode": "markers",
         "name": "East Africa",
         "showlegend": true,
         "type": "scattergeo"
        },
        {
         "geo": "geo",
         "hovertemplate": "<b>%{hovertext}</b><br><br>AU_Regions=North Africa<br>Year=1950<br>Value=%{marker.size}<br>ISO=%{location}<extra></extra>",
         "hovertext": [
          "Algeria",
          "Egypt",
          "Libya",
          "Morocco",
          "Mauritania",
          "Tunisia"
         ],
         "legendgroup": "North Africa",
         "locations": [
          "DZA",
          "EGY",
          "LBY",
          "MAR",
          "MRT",
          "TUN"
         ],
         "marker": {
          "color": "#FFA15A",
          "size": [
           0.1662994310762917,
           0.2653466072980719,
           0.4200503314588665,
           0.2503225530950939,
           0,
           0.2176696647254678
          ],
          "sizemode": "area",
          "sizeref": 0.002450259732789959,
          "symbol": "circle"
         },
         "mode": "markers",
         "name": "North Africa",
         "showlegend": true,
         "type": "scattergeo"
        }
       ],
       "frames": [
        {
         "data": [
          {
           "geo": "geo",
           "hovertemplate": "<b>%{hovertext}</b><br><br>AU_Regions=Southern Africa<br>Year=1950<br>Value=%{marker.size}<br>ISO=%{location}<extra></extra>",
           "hovertext": [
            "Angola",
            "Botswana",
            "Lesotho",
            "Mozambique",
            "Malawi",
            "Namibia",
            "Kingdom of Eswatini",
            "South Africa",
            "Zambia",
            "Zimbabwe"
           ],
           "legendgroup": "Southern Africa",
           "locations": [
            "AGO",
            "BWA",
            "LSO",
            "MOZ",
            "MWI",
            "NAM",
            "SWZ",
            "ZAF",
            "ZMB",
            "ZWE"
           ],
           "marker": {
            "color": "#636efa",
            "size": [
             0.05314496102300793,
             0,
             0,
             0.02367435215496459,
             0.01087965544869302,
             0.04974211893302478,
             0,
             0.2352600646968545,
             0.1329970389584433,
             0.1812596164259968
            ],
            "sizemode": "area",
            "sizeref": 0.002450259732789959,
            "symbol": "circle"
           },
           "mode": "markers",
           "name": "Southern Africa",
           "showlegend": true,
           "type": "scattergeo"
          },
          {
           "geo": "geo",
           "hovertemplate": "<b>%{hovertext}</b><br><br>AU_Regions=Central Africa<br>Year=1950<br>Value=%{marker.size}<br>ISO=%{location}<extra></extra>",
           "hovertext": [
            "Burundi",
            "Central African Republic",
            "Cameroon",
            "Democratic Republic of the Congo",
            "Republic of the Congo",
            "Gabon",
            "Equatorial Guinea",
            "Sao Tome and Principe",
            "Chad"
           ],
           "legendgroup": "Central Africa",
           "locations": [
            "BDI",
            "CAF",
            "CMR",
            "COD",
            "COG",
            "GAB",
            "GNQ",
            "STP",
            "TCD"
           ],
           "marker": {
            "color": "#EF553B",
            "size": [
             0.00932449783786177,
             0.03486651835372636,
             0.081,
             0.04543773649503104,
             0.1507434123362285,
             0.02544031311154599,
             0.2481589425308185,
             0,
             0.02520296190561156
            ],
            "sizemode": "area",
            "sizeref": 0.002450259732789959,
            "symbol": "circle"
           },
           "mode": "markers",
           "name": "Central Africa",
           "showlegend": true,
           "type": "scattergeo"
          },
          {
           "geo": "geo",
           "hovertemplate": "<b>%{hovertext}</b><br><br>AU_Regions=West Africa<br>Year=1950<br>Value=%{marker.size}<br>ISO=%{location}<extra></extra>",
           "hovertext": [
            "Benin",
            "Burkina Faso",
            "Cote d`Ivoire",
            "Cabo Verde",
            "Ghana",
            "Guinea",
            "The Gambia",
            "Guinea-Bissau",
            "Liberia",
            "Mali",
            "Niger",
            "Nigeria",
            "Senegal",
            "Sierra Leone",
            "Togo"
           ],
           "legendgroup": "West Africa",
           "locations": [
            "BEN",
            "BFA",
            "CIV",
            "CPV",
            "GHA",
            "GIN",
            "GMB",
            "GNB",
            "LBR",
            "MLI",
            "NER",
            "NGA",
            "SEN",
            "SLE",
            "TGO"
           ],
           "marker": {
            "color": "#00cc96",
            "size": [
             0.056651957049104,
             0.02830431893687708,
             0.04407941321585539,
             0.06723383827608279,
             0.06871957904047518,
             0.03950759932450449,
             0.09447921769262868,
             0.09069886240839342,
             0.02792682926829268,
             0.04187441176470588,
             0.01076958631846545,
             0.1068241194968553,
             0.1963973587104292,
             0.04738799149785096,
             0.04064307872893435
            ],
            "sizemode": "area",
            "sizeref": 0.002450259732789959,
            "symbol": "circle"
           },
           "mode": "markers",
           "name": "West Africa",
           "showlegend": true,
           "type": "scattergeo"
          },
          {
           "geo": "geo",
           "hovertemplate": "<b>%{hovertext}</b><br><br>AU_Regions=East Africa<br>Year=1950<br>Value=%{marker.size}<br>ISO=%{location}<extra></extra>",
           "hovertext": [
            "Comoros",
            "Djibouti",
            "Eritrea",
            "Ethiopia",
            "Kenya",
            "Madagascar",
            "Mauritius",
            "Rwanda",
            "Sudan",
            "Somalia",
            "South Sudan",
            "Seychelles",
            "Tanzania",
            "Uganda"
           ],
           "legendgroup": "East Africa",
           "locations": [
            "COM",
            "DJI",
            "ERI",
            "ETH",
            "KEN",
            "MDG",
            "MUS",
            "RWA",
            "SDN",
            "SOM",
            "SSD",
            "SYC",
            "TZA",
            "UGA"
           ],
           "marker": {
            "color": "#ab63fa",
            "size": [
             0,
             0.638,
             0.1152914305050334,
             0.02676352096137055,
             0.04580538768597663,
             0.07731043321486655,
             0.1587902123606618,
             0.006232072265980841,
             0.08216045114399423,
             0.08483192962672563,
             0.008140070719125503,
             0.2844041780954756,
             0.02485029784408854,
             0.008206467923895372
            ],
            "sizemode": "area",
            "sizeref": 0.002450259732789959,
            "symbol": "circle"
           },
           "mode": "markers",
           "name": "East Africa",
           "showlegend": true,
           "type": "scattergeo"
          },
          {
           "geo": "geo",
           "hovertemplate": "<b>%{hovertext}</b><br><br>AU_Regions=North Africa<br>Year=1950<br>Value=%{marker.size}<br>ISO=%{location}<extra></extra>",
           "hovertext": [
            "Algeria",
            "Egypt",
            "Libya",
            "Morocco",
            "Mauritania",
            "Tunisia"
           ],
           "legendgroup": "North Africa",
           "locations": [
            "DZA",
            "EGY",
            "LBY",
            "MAR",
            "MRT",
            "TUN"
           ],
           "marker": {
            "color": "#FFA15A",
            "size": [
             0.1662994310762917,
             0.2653466072980719,
             0.4200503314588665,
             0.2503225530950939,
             0,
             0.2176696647254678
            ],
            "sizemode": "area",
            "sizeref": 0.002450259732789959,
            "symbol": "circle"
           },
           "mode": "markers",
           "name": "North Africa",
           "showlegend": true,
           "type": "scattergeo"
          }
         ],
         "name": "1950"
        },
        {
         "data": [
          {
           "geo": "geo",
           "hovertemplate": "<b>%{hovertext}</b><br><br>AU_Regions=Southern Africa<br>Year=1960<br>Value=%{marker.size}<br>ISO=%{location}<extra></extra>",
           "hovertext": [
            "Angola",
            "Botswana",
            "Lesotho",
            "Mozambique",
            "Malawi",
            "Namibia",
            "Kingdom of Eswatini",
            "South Africa",
            "Zambia",
            "Zimbabwe"
           ],
           "legendgroup": "Southern Africa",
           "locations": [
            "AGO",
            "BWA",
            "LSO",
            "MOZ",
            "MWI",
            "NAM",
            "SWZ",
            "ZAF",
            "ZMB",
            "ZWE"
           ],
           "marker": {
            "color": "#636efa",
            "size": [
             0.07700616109528262,
             0,
             0.0157361661102678,
             0.03989079326558471,
             0.03301153292587367,
             0.0929425376012341,
             0,
             0.2891479851464723,
             0.1905100248479805,
             0.2630540823503061
            ],
            "sizemode": "area",
            "sizeref": 0.002450259732789959,
            "symbol": "circle"
           },
           "mode": "markers",
           "name": "Southern Africa",
           "showlegend": true,
           "type": "scattergeo"
          },
          {
           "geo": "geo",
           "hovertemplate": "<b>%{hovertext}</b><br><br>AU_Regions=Central Africa<br>Year=1960<br>Value=%{marker.size}<br>ISO=%{location}<extra></extra>",
           "hovertext": [
            "Burundi",
            "Central African Republic",
            "Cameroon",
            "Democratic Republic of the Congo",
            "Republic of the Congo",
            "Gabon",
            "Equatorial Guinea",
            "Sao Tome and Principe",
            "Chad"
           ],
           "legendgroup": "Central Africa",
           "locations": [
            "BDI",
            "CAF",
            "CMR",
            "COD",
            "COG",
            "GAB",
            "GNQ",
            "STP",
            "TCD"
           ],
           "marker": {
            "color": "#EF553B",
            "size": [
             0.01808469359859608,
             0.1182166624547216,
             0.1073407162276417,
             0.1217253738431862,
             0.1995693443083053,
             0.1023183236736514,
             0.2370024675900142,
             0,
             0.04702152614875121
            ],
            "sizemode": "area",
            "sizeref": 0.002450259732789959,
            "symbol": "circle"
           },
           "mode": "markers",
           "name": "Central Africa",
           "showlegend": true,
           "type": "scattergeo"
          },
          {
           "geo": "geo",
           "hovertemplate": "<b>%{hovertext}</b><br><br>AU_Regions=West Africa<br>Year=1960<br>Value=%{marker.size}<br>ISO=%{location}<extra></extra>",
           "hovertext": [
            "Benin",
            "Burkina Faso",
            "Cote d`Ivoire",
            "Cabo Verde",
            "Ghana",
            "Guinea",
            "The Gambia",
            "Guinea-Bissau",
            "Liberia",
            "Mali",
            "Niger",
            "Nigeria",
            "Senegal",
            "Sierra Leone",
            "Togo"
           ],
           "legendgroup": "West Africa",
           "locations": [
            "BEN",
            "BFA",
            "CIV",
            "CPV",
            "GHA",
            "GIN",
            "GMB",
            "GNB",
            "LBR",
            "MLI",
            "NER",
            "NGA",
            "SEN",
            "SLE",
            "TGO"
           ],
           "marker": {
            "color": "#00cc96",
            "size": [
             0.1071658471166741,
             0.03428275747848622,
             0.1201351256023411,
             0.1575772128342888,
             0.1512977938990308,
             0.07629582358363468,
             0.08331891358927562,
             0.09486199106648371,
             0.06791557070817068,
             0.04892669385348597,
             0.02938849548261067,
             0.191815447361713,
             0.2183229014121158,
             0.07487405362999651,
             0.1030759345802285
            ],
            "sizemode": "area",
            "sizeref": 0.002450259732789959,
            "symbol": "circle"
           },
           "mode": "markers",
           "name": "West Africa",
           "showlegend": true,
           "type": "scattergeo"
          },
          {
           "geo": "geo",
           "hovertemplate": "<b>%{hovertext}</b><br><br>AU_Regions=East Africa<br>Year=1960<br>Value=%{marker.size}<br>ISO=%{location}<extra></extra>",
           "hovertext": [
            "Comoros",
            "Djibouti",
            "Eritrea",
            "Ethiopia",
            "Kenya",
            "Madagascar",
            "Mauritius",
            "Rwanda",
            "Sudan",
            "Somalia",
            "South Sudan",
            "Seychelles",
            "Tanzania",
            "Uganda"
           ],
           "legendgroup": "East Africa",
           "locations": [
            "COM",
            "DJI",
            "ERI",
            "ETH",
            "KEN",
            "MDG",
            "MUS",
            "RWA",
            "SDN",
            "SOM",
            "SSD",
            "SYC",
            "TZA",
            "UGA"
           ],
           "marker": {
            "color": "#ab63fa",
            "size": [
             0,
             0.4770408163265306,
             0.12032146799117,
             0.03527625871583607,
             0.06503130982130638,
             0.086375,
             0.2102366212161495,
             0,
             0.1050463511948309,
             0.1204614349775785,
             0.01569874780603999,
             0.3232830416415208,
             0.04356220990011336,
             0.02861381170122679
            ],
            "sizemode": "area",
            "sizeref": 0.002450259732789959,
            "symbol": "circle"
           },
           "mode": "markers",
           "name": "East Africa",
           "showlegend": true,
           "type": "scattergeo"
          },
          {
           "geo": "geo",
           "hovertemplate": "<b>%{hovertext}</b><br><br>AU_Regions=North Africa<br>Year=1960<br>Value=%{marker.size}<br>ISO=%{location}<extra></extra>",
           "hovertext": [
            "Algeria",
            "Egypt",
            "Libya",
            "Morocco",
            "Mauritania",
            "Tunisia"
           ],
           "legendgroup": "North Africa",
           "locations": [
            "DZA",
            "EGY",
            "LBY",
            "MAR",
            "MRT",
            "TUN"
           ],
           "marker": {
            "color": "#FFA15A",
            "size": [
             0.2904047155502065,
             0.310373272303165,
             0.4366406711182437,
             0.2652276521481679,
             0,
             0.2330479640881229
            ],
            "sizemode": "area",
            "sizeref": 0.002450259732789959,
            "symbol": "circle"
           },
           "mode": "markers",
           "name": "North Africa",
           "showlegend": true,
           "type": "scattergeo"
          }
         ],
         "name": "1960"
        },
        {
         "data": [
          {
           "geo": "geo",
           "hovertemplate": "<b>%{hovertext}</b><br><br>AU_Regions=Southern Africa<br>Year=1970<br>Value=%{marker.size}<br>ISO=%{location}<extra></extra>",
           "hovertext": [
            "Angola",
            "Botswana",
            "Lesotho",
            "Mozambique",
            "Malawi",
            "Namibia",
            "Kingdom of Eswatini",
            "South Africa",
            "Zambia",
            "Zimbabwe"
           ],
           "legendgroup": "Southern Africa",
           "locations": [
            "AGO",
            "BWA",
            "LSO",
            "MOZ",
            "MWI",
            "NAM",
            "SWZ",
            "ZAF",
            "ZMB",
            "ZWE"
           ],
           "marker": {
            "color": "#636efa",
            "size": [
             0.1377968695925695,
             0.1346143089359235,
             0.05119912710081703,
             0.07154557318989795,
             0.04585388880249434,
             0.1422829581993569,
             0.0890874343048256,
             0.3395681441050314,
             0.2696778522591186,
             0.1620335519387766
            ],
            "sizemode": "area",
            "sizeref": 0.002450259732789959,
            "symbol": "circle"
           },
           "mode": "markers",
           "name": "Southern Africa",
           "showlegend": true,
           "type": "scattergeo"
          },
          {
           "geo": "geo",
           "hovertemplate": "<b>%{hovertext}</b><br><br>AU_Regions=Central Africa<br>Year=1970<br>Value=%{marker.size}<br>ISO=%{location}<extra></extra>",
           "hovertext": [
            "Burundi",
            "Central African Republic",
            "Cameroon",
            "Democratic Republic of the Congo",
            "Republic of the Congo",
            "Gabon",
            "Equatorial Guinea",
            "Sao Tome and Principe",
            "Chad"
           ],
           "legendgroup": "Central Africa",
           "locations": [
            "BDI",
            "CAF",
            "CMR",
            "COD",
            "COG",
            "GAB",
            "GNQ",
            "STP",
            "TCD"
           ],
           "marker": {
            "color": "#EF553B",
            "size": [
             0.02749690546519878,
             0.2241331798035206,
             0.1860807406518092,
             0.2162365747813435,
             0.3290691579944905,
             0.1978723404255319,
             0.2456308976207367,
             0.2655415365058758,
             0.09284992044399296
            ],
            "sizemode": "area",
            "sizeref": 0.002450259732789959,
            "symbol": "circle"
           },
           "mode": "markers",
           "name": "Central Africa",
           "showlegend": true,
           "type": "scattergeo"
          },
          {
           "geo": "geo",
           "hovertemplate": "<b>%{hovertext}</b><br><br>AU_Regions=West Africa<br>Year=1970<br>Value=%{marker.size}<br>ISO=%{location}<extra></extra>",
           "hovertext": [
            "Benin",
            "Burkina Faso",
            "Cote d`Ivoire",
            "Cabo Verde",
            "Ghana",
            "Guinea",
            "The Gambia",
            "Guinea-Bissau",
            "Liberia",
            "Mali",
            "Niger",
            "Nigeria",
            "Senegal",
            "Sierra Leone",
            "Togo"
           ],
           "legendgroup": "West Africa",
           "locations": [
            "BEN",
            "BFA",
            "CIV",
            "CPV",
            "GHA",
            "GIN",
            "GMB",
            "GNB",
            "LBR",
            "MLI",
            "NER",
            "NGA",
            "SEN",
            "SLE",
            "TGO"
           ],
           "marker": {
            "color": "#00cc96",
            "size": [
             0.1363421926910299,
             0.06103135559062223,
             0.2228805939135198,
             0.1853759049290064,
             0.2084316813744281,
             0.1375290986085904,
             0.1475799040715728,
             0.2432505621112406,
             0.1404607329997556,
             0.0775208118092626,
             0.05378115950201687,
             0.2264847870182556,
             0.2570232165926786,
             0.1328728356104122,
             0.1978160507728529
            ],
            "sizemode": "area",
            "sizeref": 0.002450259732789959,
            "symbol": "circle"
           },
           "mode": "markers",
           "name": "West Africa",
           "showlegend": true,
           "type": "scattergeo"
          },
          {
           "geo": "geo",
           "hovertemplate": "<b>%{hovertext}</b><br><br>AU_Regions=East Africa<br>Year=1970<br>Value=%{marker.size}<br>ISO=%{location}<extra></extra>",
           "hovertext": [
            "Comoros",
            "Djibouti",
            "Eritrea",
            "Ethiopia",
            "Kenya",
            "Madagascar",
            "Mauritius",
            "Rwanda",
            "Sudan",
            "Somalia",
            "South Sudan",
            "Seychelles",
            "Tanzania",
            "Uganda"
           ],
           "legendgroup": "East Africa",
           "locations": [
            "COM",
            "DJI",
            "ERI",
            "ETH",
            "KEN",
            "MDG",
            "MUS",
            "RWA",
            "SDN",
            "SOM",
            "SSD",
            "SYC",
            "TZA",
            "UGA"
           ],
           "marker": {
            "color": "#ab63fa",
            "size": [
             0.05373512009361058,
             0.6101928374655647,
             0.1792517774517549,
             0.0531677188247956,
             0.08104572148859247,
             0.1213038000357693,
             0.5228395816022289,
             0.01527774081073168,
             0.1514971532859424,
             0.1389316086827238,
             0.05351166696011298,
             0.3769667916650559,
             0.06562059000418916,
             0.04949582429341737
            ],
            "sizemode": "area",
            "sizeref": 0.002450259732789959,
            "symbol": "circle"
           },
           "mode": "markers",
           "name": "East Africa",
           "showlegend": true,
           "type": "scattergeo"
          },
          {
           "geo": "geo",
           "hovertemplate": "<b>%{hovertext}</b><br><br>AU_Regions=North Africa<br>Year=1970<br>Value=%{marker.size}<br>ISO=%{location}<extra></extra>",
           "hovertext": [
            "Algeria",
            "Egypt",
            "Libya",
            "Morocco",
            "Mauritania",
            "Tunisia"
           ],
           "legendgroup": "North Africa",
           "locations": [
            "DZA",
            "EGY",
            "LBY",
            "MAR",
            "MRT",
            "TUN"
           ],
           "marker": {
            "color": "#FFA15A",
            "size": [
             0.3243070763336259,
             0.3516309641533215,
             0.4542655425170305,
             0.3089638438018041,
             0.06688271919975503,
             0.2715742216563615
            ],
            "sizemode": "area",
            "sizeref": 0.002450259732789959,
            "symbol": "circle"
           },
           "mode": "markers",
           "name": "North Africa",
           "showlegend": true,
           "type": "scattergeo"
          }
         ],
         "name": "1970"
        },
        {
         "data": [
          {
           "geo": "geo",
           "hovertemplate": "<b>%{hovertext}</b><br><br>AU_Regions=Southern Africa<br>Year=1980<br>Value=%{marker.size}<br>ISO=%{location}<extra></extra>",
           "hovertext": [
            "Angola",
            "Botswana",
            "Lesotho",
            "Mozambique",
            "Malawi",
            "Namibia",
            "Kingdom of Eswatini",
            "South Africa",
            "Zambia",
            "Zimbabwe"
           ],
           "legendgroup": "Southern Africa",
           "locations": [
            "AGO",
            "BWA",
            "LSO",
            "MOZ",
            "MWI",
            "NAM",
            "SWZ",
            "ZAF",
            "ZMB",
            "ZWE"
           ],
           "marker": {
            "color": "#636efa",
            "size": [
             0.2069679099119586,
             0.2757862137616596,
             0.06394446307266247,
             0.139192654365469,
             0.07291799298990367,
             0.1675978094393715,
             0.112190253205995,
             0.3860187131610404,
             0.3635849222697582,
             0.1903548304206517
            ],
            "sizemode": "area",
            "sizeref": 0.002450259732789959,
            "symbol": "circle"
           },
           "mode": "markers",
           "name": "Southern Africa",
           "showlegend": true,
           "type": "scattergeo"
          },
          {
           "geo": "geo",
           "hovertemplate": "<b>%{hovertext}</b><br><br>AU_Regions=Central Africa<br>Year=1980<br>Value=%{marker.size}<br>ISO=%{location}<extra></extra>",
           "hovertext": [
            "Burundi",
            "Central African Republic",
            "Cameroon",
            "Democratic Republic of the Congo",
            "Republic of the Congo",
            "Gabon",
            "Equatorial Guinea",
            "Sao Tome and Principe",
            "Chad"
           ],
           "legendgroup": "Central Africa",
           "locations": [
            "BDI",
            "CAF",
            "CMR",
            "COD",
            "COG",
            "GAB",
            "GNQ",
            "STP",
            "TCD"
           ],
           "marker": {
            "color": "#EF553B",
            "size": [
             0.04325869736303786,
             0.2731591562528667,
             0.2653367132096725,
             0.2472438110983298,
             0.4957042155091055,
             0.295960140662145,
             0.2510186888571773,
             0.3766030587158502,
             0.1328255368868144
            ],
            "sizemode": "area",
            "sizeref": 0.002450259732789959,
            "symbol": "circle"
           },
           "mode": "markers",
           "name": "Central Africa",
           "showlegend": true,
           "type": "scattergeo"
          },
          {
           "geo": "geo",
           "hovertemplate": "<b>%{hovertext}</b><br><br>AU_Regions=West Africa<br>Year=1980<br>Value=%{marker.size}<br>ISO=%{location}<extra></extra>",
           "hovertext": [
            "Benin",
            "Burkina Faso",
            "Cote d`Ivoire",
            "Cabo Verde",
            "Ghana",
            "Guinea",
            "The Gambia",
            "Guinea-Bissau",
            "Liberia",
            "Mali",
            "Niger",
            "Nigeria",
            "Senegal",
            "Sierra Leone",
            "Togo"
           ],
           "legendgroup": "West Africa",
           "locations": [
            "BEN",
            "BFA",
            "CIV",
            "CPV",
            "GHA",
            "GIN",
            "GMB",
            "GNB",
            "LBR",
            "MLI",
            "NER",
            "NGA",
            "SEN",
            "SLE",
            "TGO"
           ],
           "marker": {
            "color": "#00cc96",
            "size": [
             0.2330083535271652,
             0.1073819278039731,
             0.331859851386772,
             0.2628820133715248,
             0.2259338026847238,
             0.1745592800073469,
             0.2025501752150366,
             0.1649245389553861,
             0.2548254648717726,
             0.1351053247308733,
             0.09243970247678426,
             0.2764048706240487,
             0.3231976826323835,
             0.1989545404259566,
             0.2486580208788337
            ],
            "sizemode": "area",
            "sizeref": 0.002450259732789959,
            "symbol": "circle"
           },
           "mode": "markers",
           "name": "West Africa",
           "showlegend": true,
           "type": "scattergeo"
          },
          {
           "geo": "geo",
           "hovertemplate": "<b>%{hovertext}</b><br><br>AU_Regions=East Africa<br>Year=1980<br>Value=%{marker.size}<br>ISO=%{location}<extra></extra>",
           "hovertext": [
            "Comoros",
            "Djibouti",
            "Eritrea",
            "Ethiopia",
            "Kenya",
            "Madagascar",
            "Mauritius",
            "Rwanda",
            "Sudan",
            "Somalia",
            "South Sudan",
            "Seychelles",
            "Tanzania",
            "Uganda"
           ],
           "legendgroup": "East Africa",
           "locations": [
            "COM",
            "DJI",
            "ERI",
            "ETH",
            "KEN",
            "MDG",
            "MUS",
            "RWA",
            "SDN",
            "SOM",
            "SSD",
            "SYC",
            "TZA",
            "UGA"
           ],
           "marker": {
            "color": "#ab63fa",
            "size": [
             0.1007519021333731,
             0.7520205385649986,
             0.1582101103243866,
             0.06645150921013698,
             0.1030700933945596,
             0.1524274488208701,
             0.548665058914997,
             0.03040896025521858,
             0.2058621004201635,
             0.165064840362633,
             0.06393309085313456,
             0.3705289238054915,
             0.1120498822249831,
             0.05335936943567342
            ],
            "sizemode": "area",
            "sizeref": 0.002450259732789959,
            "symbol": "circle"
           },
           "mode": "markers",
           "name": "East Africa",
           "showlegend": true,
           "type": "scattergeo"
          },
          {
           "geo": "geo",
           "hovertemplate": "<b>%{hovertext}</b><br><br>AU_Regions=North Africa<br>Year=1980<br>Value=%{marker.size}<br>ISO=%{location}<extra></extra>",
           "hovertext": [
            "Algeria",
            "Egypt",
            "Libya",
            "Morocco",
            "Mauritania",
            "Tunisia"
           ],
           "legendgroup": "North Africa",
           "locations": [
            "DZA",
            "EGY",
            "LBY",
            "MAR",
            "MRT",
            "TUN"
           ],
           "marker": {
            "color": "#FFA15A",
            "size": [
             0.3661643856819859,
             0.3817975167812691,
             0.508813483876484,
             0.3617753978302276,
             0.2089223901759682,
             0.3388386115583053
            ],
            "sizemode": "area",
            "sizeref": 0.002450259732789959,
            "symbol": "circle"
           },
           "mode": "markers",
           "name": "North Africa",
           "showlegend": true,
           "type": "scattergeo"
          }
         ],
         "name": "1980"
        },
        {
         "data": [
          {
           "geo": "geo",
           "hovertemplate": "<b>%{hovertext}</b><br><br>AU_Regions=Southern Africa<br>Year=1990<br>Value=%{marker.size}<br>ISO=%{location}<extra></extra>",
           "hovertext": [
            "Angola",
            "Botswana",
            "Lesotho",
            "Mozambique",
            "Malawi",
            "Namibia",
            "Kingdom of Eswatini",
            "South Africa",
            "Zambia",
            "Zimbabwe"
           ],
           "legendgroup": "Southern Africa",
           "locations": [
            "AGO",
            "BWA",
            "LSO",
            "MOZ",
            "MWI",
            "NAM",
            "SWZ",
            "ZAF",
            "ZMB",
            "ZWE"
           ],
           "marker": {
            "color": "#636efa",
            "size": [
             0.2634356586910165,
             0.4057542672107114,
             0.09505402983747768,
             0.1755452213732139,
             0.1039615822202458,
             0.2292212799321494,
             0.1312284107813721,
             0.3462942903774872,
             0.3368310073672335,
             0.2302081639902863
            ],
            "sizemode": "area",
            "sizeref": 0.002450259732789959,
            "symbol": "circle"
           },
           "mode": "markers",
           "name": "Southern Africa",
           "showlegend": true,
           "type": "scattergeo"
          },
          {
           "geo": "geo",
           "hovertemplate": "<b>%{hovertext}</b><br><br>AU_Regions=Central Africa<br>Year=1990<br>Value=%{marker.size}<br>ISO=%{location}<extra></extra>",
           "hovertext": [
            "Burundi",
            "Central African Republic",
            "Cameroon",
            "Democratic Republic of the Congo",
            "Republic of the Congo",
            "Gabon",
            "Equatorial Guinea",
            "Sao Tome and Principe",
            "Chad"
           ],
           "legendgroup": "Central Africa",
           "locations": [
            "BDI",
            "CAF",
            "CMR",
            "COD",
            "COG",
            "GAB",
            "GNQ",
            "STP",
            "TCD"
           ],
           "marker": {
            "color": "#EF553B",
            "size": [
             0.05321557068262447,
             0.3136035443410464,
             0.3427065620559734,
             0.2858847733528685,
             0.5920130842434086,
             0.5469084056414792,
             0.2574589791232788,
             0.4436468116872971,
             0.1684961306559156
            ],
            "sizemode": "area",
            "sizeref": 0.002450259732789959,
            "symbol": "circle"
           },
           "mode": "markers",
           "name": "Central Africa",
           "showlegend": true,
           "type": "scattergeo"
          },
          {
           "geo": "geo",
           "hovertemplate": "<b>%{hovertext}</b><br><br>AU_Regions=West Africa<br>Year=1990<br>Value=%{marker.size}<br>ISO=%{location}<extra></extra>",
           "hovertext": [
            "Benin",
            "Burkina Faso",
            "Cote d`Ivoire",
            "Cabo Verde",
            "Ghana",
            "Guinea",
            "The Gambia",
            "Guinea-Bissau",
            "Liberia",
            "Mali",
            "Niger",
            "Nigeria",
            "Senegal",
            "Sierra Leone",
            "Togo"
           ],
           "legendgroup": "West Africa",
           "locations": [
            "BEN",
            "BFA",
            "CIV",
            "CPV",
            "GHA",
            "GIN",
            "GMB",
            "GNB",
            "LBR",
            "MLI",
            "NER",
            "NGA",
            "SEN",
            "SLE",
            "TGO"
           ],
           "marker": {
            "color": "#00cc96",
            "size": [
             0.2680842806069517,
             0.1574280582500063,
             0.396016725571467,
             0.3061067670950636,
             0.2561240140450975,
             0.2515887497203272,
             0.2900208363935086,
             0.2214133720405081,
             0.3154523635569944,
             0.1677560538116592,
             0.1420466574578484,
             0.3357872340425532,
             0.4077851709492546,
             0.235581974607682,
             0.2470635049126398
            ],
            "sizemode": "area",
            "sizeref": 0.002450259732789959,
            "symbol": "circle"
           },
           "mode": "markers",
           "name": "West Africa",
           "showlegend": true,
           "type": "scattergeo"
          },
          {
           "geo": "geo",
           "hovertemplate": "<b>%{hovertext}</b><br><br>AU_Regions=East Africa<br>Year=1990<br>Value=%{marker.size}<br>ISO=%{location}<extra></extra>",
           "hovertext": [
            "Comoros",
            "Djibouti",
            "Eritrea",
            "Ethiopia",
            "Kenya",
            "Madagascar",
            "Mauritius",
            "Rwanda",
            "Sudan",
            "Somalia",
            "South Sudan",
            "Seychelles",
            "Tanzania",
            "Uganda"
           ],
           "legendgroup": "East Africa",
           "locations": [
            "COM",
            "DJI",
            "ERI",
            "ETH",
            "KEN",
            "MDG",
            "MUS",
            "RWA",
            "SDN",
            "SOM",
            "SSD",
            "SYC",
            "TZA",
            "UGA"
           ],
           "marker": {
            "color": "#ab63fa",
            "size": [
             0.1187598794250634,
             0.803912637165645,
             0.153984719547798,
             0.07783003303360725,
             0.1193104858086665,
             0.1518836031439676,
             0.5554511384929873,
             0.03840431642972589,
             0.2972774981936953,
             0.1742309728656519,
             0.07581303592720552,
             0.3432058215590226,
             0.1518161826535758,
             0.1014231882636696
            ],
            "sizemode": "area",
            "sizeref": 0.002450259732789959,
            "symbol": "circle"
           },
           "mode": "markers",
           "name": "East Africa",
           "showlegend": true,
           "type": "scattergeo"
          },
          {
           "geo": "geo",
           "hovertemplate": "<b>%{hovertext}</b><br><br>AU_Regions=North Africa<br>Year=1990<br>Value=%{marker.size}<br>ISO=%{location}<extra></extra>",
           "hovertext": [
            "Algeria",
            "Egypt",
            "Libya",
            "Morocco",
            "Mauritania",
            "Tunisia"
           ],
           "legendgroup": "North Africa",
           "locations": [
            "DZA",
            "EGY",
            "LBY",
            "MAR",
            "MRT",
            "TUN"
           ],
           "marker": {
            "color": "#FFA15A",
            "size": [
             0.4007015972611871,
             0.4103301320323884,
             0.6238491126654557,
             0.4187729919568325,
             0.3633453510000689,
             0.4116964683754666
            ],
            "sizemode": "area",
            "sizeref": 0.002450259732789959,
            "symbol": "circle"
           },
           "mode": "markers",
           "name": "North Africa",
           "showlegend": true,
           "type": "scattergeo"
          }
         ],
         "name": "1990"
        },
        {
         "data": [
          {
           "geo": "geo",
           "hovertemplate": "<b>%{hovertext}</b><br><br>AU_Regions=Southern Africa<br>Year=2000<br>Value=%{marker.size}<br>ISO=%{location}<extra></extra>",
           "hovertext": [
            "Angola",
            "Botswana",
            "Lesotho",
            "Mozambique",
            "Malawi",
            "Namibia",
            "Kingdom of Eswatini",
            "South Africa",
            "Zambia",
            "Zimbabwe"
           ],
           "legendgroup": "Southern Africa",
           "locations": [
            "AGO",
            "BWA",
            "LSO",
            "MOZ",
            "MWI",
            "NAM",
            "SWZ",
            "ZAF",
            "ZMB",
            "ZWE"
           ],
           "marker": {
            "color": "#636efa",
            "size": [
             0.3016122687177203,
             0.4884166253483561,
             0.1657171728849411,
             0.2765852916144145,
             0.137687403833945,
             0.28264571443966,
             0.2552166411335678,
             0.4782375418486967,
             0.337808638089389,
             0.2689037965510432
            ],
            "sizemode": "area",
            "sizeref": 0.002450259732789959,
            "symbol": "circle"
           },
           "mode": "markers",
           "name": "Southern Africa",
           "showlegend": true,
           "type": "scattergeo"
          },
          {
           "geo": "geo",
           "hovertemplate": "<b>%{hovertext}</b><br><br>AU_Regions=Central Africa<br>Year=2000<br>Value=%{marker.size}<br>ISO=%{location}<extra></extra>",
           "hovertext": [
            "Burundi",
            "Central African Republic",
            "Cameroon",
            "Democratic Republic of the Congo",
            "Republic of the Congo",
            "Gabon",
            "Equatorial Guinea",
            "Sao Tome and Principe",
            "Chad"
           ],
           "legendgroup": "Central Africa",
           "locations": [
            "BDI",
            "CAF",
            "CMR",
            "COD",
            "COG",
            "GAB",
            "GNQ",
            "STP",
            "TCD"
           ],
           "marker": {
            "color": "#EF553B",
            "size": [
             0.06734203581085703,
             0.3340742692963599,
             0.384383649799129,
             0.2866829281665387,
             0.6331731166098962,
             0.644595870171019,
             0.3980946130190167,
             0.4619650293883096,
             0.1897182002598744
            ],
            "sizemode": "area",
            "sizeref": 0.002450259732789959,
            "symbol": "circle"
           },
           "mode": "markers",
           "name": "Central Africa",
           "showlegend": true,
           "type": "scattergeo"
          },
          {
           "geo": "geo",
           "hovertemplate": "<b>%{hovertext}</b><br><br>AU_Regions=West Africa<br>Year=2000<br>Value=%{marker.size}<br>ISO=%{location}<extra></extra>",
           "hovertext": [
            "Benin",
            "Burkina Faso",
            "Cote d`Ivoire",
            "Cabo Verde",
            "Ghana",
            "Guinea",
            "The Gambia",
            "Guinea-Bissau",
            "Liberia",
            "Mali",
            "Niger",
            "Nigeria",
            "Senegal",
            "Sierra Leone",
            "Togo"
           ],
           "legendgroup": "West Africa",
           "locations": [
            "BEN",
            "BFA",
            "CIV",
            "CPV",
            "GHA",
            "GIN",
            "GMB",
            "GNB",
            "LBR",
            "MLI",
            "NER",
            "NGA",
            "SEN",
            "SLE",
            "TGO"
           ],
           "marker": {
            "color": "#00cc96",
            "size": [
             0.3091244971049905,
             0.2121944903806178,
             0.4405930876733735,
             0.3905044019024314,
             0.3389616161460358,
             0.3100189940055674,
             0.3838195439135229,
             0.2778000397347871,
             0.3507117858956659,
             0.2186965790758328,
             0.1578962557824806,
             0.3749214879215478,
             0.4091161119712186,
             0.2802487813004993,
             0.2744906649211968
            ],
            "sizemode": "area",
            "sizeref": 0.002450259732789959,
            "symbol": "circle"
           },
           "mode": "markers",
           "name": "West Africa",
           "showlegend": true,
           "type": "scattergeo"
          },
          {
           "geo": "geo",
           "hovertemplate": "<b>%{hovertext}</b><br><br>AU_Regions=East Africa<br>Year=2000<br>Value=%{marker.size}<br>ISO=%{location}<extra></extra>",
           "hovertext": [
            "Comoros",
            "Djibouti",
            "Eritrea",
            "Ethiopia",
            "Kenya",
            "Madagascar",
            "Mauritius",
            "Rwanda",
            "Sudan",
            "Somalia",
            "South Sudan",
            "Seychelles",
            "Tanzania",
            "Uganda"
           ],
           "legendgroup": "East Africa",
           "locations": [
            "COM",
            "DJI",
            "ERI",
            "ETH",
            "KEN",
            "MDG",
            "MUS",
            "RWA",
            "SDN",
            "SOM",
            "SSD",
            "SYC",
            "TZA",
            "UGA"
           ],
           "marker": {
            "color": "#ab63fa",
            "size": [
             0.2560107269195899,
             0.8213570526519283,
             0.2631603399868153,
             0.09967052351618402,
             0.1943175779442781,
             0.1965565577103315,
             0.6410258150329814,
             0.2107817314653002,
             0.3607043610036348,
             0.2306488888888889,
             0.1065421185574872,
             0.7377700928917609,
             0.2740815014767626,
             0.139922997045986
            ],
            "sizemode": "area",
            "sizeref": 0.002450259732789959,
            "symbol": "circle"
           },
           "mode": "markers",
           "name": "East Africa",
           "showlegend": true,
           "type": "scattergeo"
          },
          {
           "geo": "geo",
           "hovertemplate": "<b>%{hovertext}</b><br><br>AU_Regions=North Africa<br>Year=2000<br>Value=%{marker.size}<br>ISO=%{location}<extra></extra>",
           "hovertext": [
            "Algeria",
            "Egypt",
            "Libya",
            "Morocco",
            "Mauritania",
            "Tunisia"
           ],
           "legendgroup": "North Africa",
           "locations": [
            "DZA",
            "EGY",
            "LBY",
            "MAR",
            "MRT",
            "TUN"
           ],
           "marker": {
            "color": "#FFA15A",
            "size": [
             0.4714030240629168,
             0.4176933221149369,
             0.6873266848965532,
             0.4668587098270605,
             0.3333536669724687,
             0.4672654546407125
            ],
            "sizemode": "area",
            "sizeref": 0.002450259732789959,
            "symbol": "circle"
           },
           "mode": "markers",
           "name": "North Africa",
           "showlegend": true,
           "type": "scattergeo"
          }
         ],
         "name": "2000"
        },
        {
         "data": [
          {
           "geo": "geo",
           "hovertemplate": "<b>%{hovertext}</b><br><br>AU_Regions=Southern Africa<br>Year=2010<br>Value=%{marker.size}<br>ISO=%{location}<extra></extra>",
           "hovertext": [
            "Angola",
            "Botswana",
            "Lesotho",
            "Mozambique",
            "Malawi",
            "Namibia",
            "Kingdom of Eswatini",
            "South Africa",
            "Zambia",
            "Zimbabwe"
           ],
           "legendgroup": "Southern Africa",
           "locations": [
            "AGO",
            "BWA",
            "LSO",
            "MOZ",
            "MWI",
            "NAM",
            "SWZ",
            "ZAF",
            "ZMB",
            "ZWE"
           ],
           "marker": {
            "color": "#636efa",
            "size": [
             0.4987655189745189,
             0.5273515606912084,
             0.2389100150194365,
             0.2972962858396813,
             0.2289361307670149,
             0.3560263467871824,
             0.2758150022029032,
             0.6405435219371429,
             0.4049458291827974,
             0.2825067923445104
            ],
            "sizemode": "area",
            "sizeref": 0.002450259732789959,
            "symbol": "circle"
           },
           "mode": "markers",
           "name": "Southern Africa",
           "showlegend": true,
           "type": "scattergeo"
          },
          {
           "geo": "geo",
           "hovertemplate": "<b>%{hovertext}</b><br><br>AU_Regions=Central Africa<br>Year=2010<br>Value=%{marker.size}<br>ISO=%{location}<extra></extra>",
           "hovertext": [
            "Burundi",
            "Central African Republic",
            "Cameroon",
            "Democratic Republic of the Congo",
            "Republic of the Congo",
            "Gabon",
            "Equatorial Guinea",
            "Sao Tome and Principe",
            "Chad"
           ],
           "legendgroup": "Central Africa",
           "locations": [
            "BDI",
            "CAF",
            "CMR",
            "COD",
            "COG",
            "GAB",
            "GNQ",
            "STP",
            "TCD"
           ],
           "marker": {
            "color": "#EF553B",
            "size": [
             0.1788851936431774,
             0.3531803314715419,
             0.5093832405359883,
             0.341933968,
             0.6432260411932748,
             0.7209139104535165,
             0.3873288626276455,
             0.632634391100834,
             0.2458934086717754
            ],
            "sizemode": "area",
            "sizeref": 0.002450259732789959,
            "symbol": "circle"
           },
           "mode": "markers",
           "name": "Central Africa",
           "showlegend": true,
           "type": "scattergeo"
          },
          {
           "geo": "geo",
           "hovertemplate": "<b>%{hovertext}</b><br><br>AU_Regions=West Africa<br>Year=2010<br>Value=%{marker.size}<br>ISO=%{location}<extra></extra>",
           "hovertext": [
            "Benin",
            "Burkina Faso",
            "Cote d`Ivoire",
            "Cabo Verde",
            "Ghana",
            "Guinea",
            "The Gambia",
            "Guinea-Bissau",
            "Liberia",
            "Mali",
            "Niger",
            "Nigeria",
            "Senegal",
            "Sierra Leone",
            "Togo"
           ],
           "legendgroup": "West Africa",
           "locations": [
            "BEN",
            "BFA",
            "CIV",
            "CPV",
            "GHA",
            "GIN",
            "GMB",
            "GNB",
            "LBR",
            "MLI",
            "NER",
            "NGA",
            "SEN",
            "SLE",
            "TGO"
           ],
           "marker": {
            "color": "#00cc96",
            "size": [
             0.3638897944702404,
             0.2477875928867306,
             0.466958293600341,
             0.4667608640406608,
             0.4748478446343955,
             0.3397568581648744,
             0.4371723069244297,
             0.3101300585180912,
             0.3791399838623974,
             0.2811865104591859,
             0.1592854059661297,
             0.4436455431754875,
             0.464520448304598,
             0.3091545182059328,
             0.4103658278200738
            ],
            "sizemode": "area",
            "sizeref": 0.002450259732789959,
            "symbol": "circle"
           },
           "mode": "markers",
           "name": "West Africa",
           "showlegend": true,
           "type": "scattergeo"
          },
          {
           "geo": "geo",
           "hovertemplate": "<b>%{hovertext}</b><br><br>AU_Regions=East Africa<br>Year=2010<br>Value=%{marker.size}<br>ISO=%{location}<extra></extra>",
           "hovertext": [
            "Comoros",
            "Djibouti",
            "Eritrea",
            "Ethiopia",
            "Kenya",
            "Madagascar",
            "Mauritius",
            "Rwanda",
            "Sudan",
            "Somalia",
            "South Sudan",
            "Seychelles",
            "Tanzania",
            "Uganda"
           ],
           "legendgroup": "East Africa",
           "locations": [
            "COM",
            "DJI",
            "ERI",
            "ETH",
            "KEN",
            "MDG",
            "MUS",
            "RWA",
            "SDN",
            "SOM",
            "SSD",
            "SYC",
            "TZA",
            "UGA"
           ],
           "marker": {
            "color": "#ab63fa",
            "size": [
             0.2520901547279497,
             0.7052077896291259,
             0.2324565847357243,
             0.1365056022666807,
             0.2930321464808631,
             0.2134752864276383,
             0.7138377775378163,
             0.5158613053853232,
             0.3997639036898363,
             0.315877590395746,
             0.2042005670914825,
             0.7242585861330978,
             0.3345984419015465,
             0.1734666431211462
            ],
            "sizemode": "area",
            "sizeref": 0.002450259732789959,
            "symbol": "circle"
           },
           "mode": "markers",
           "name": "East Africa",
           "showlegend": true,
           "type": "scattergeo"
          },
          {
           "geo": "geo",
           "hovertemplate": "<b>%{hovertext}</b><br><br>AU_Regions=North Africa<br>Year=2010<br>Value=%{marker.size}<br>ISO=%{location}<extra></extra>",
           "hovertext": [
            "Algeria",
            "Egypt",
            "Libya",
            "Morocco",
            "Mauritania",
            "Tunisia"
           ],
           "legendgroup": "North Africa",
           "locations": [
            "DZA",
            "EGY",
            "LBY",
            "MAR",
            "MRT",
            "TUN"
           ],
           "marker": {
            "color": "#FFA15A",
            "size": [
             0.5492813941853355,
             0.4962986435978852,
             0.7418538283860499,
             0.508109911736435,
             0.4061177744931003,
             0.5116172703208857
            ],
            "sizemode": "area",
            "sizeref": 0.002450259732789959,
            "symbol": "circle"
           },
           "mode": "markers",
           "name": "North Africa",
           "showlegend": true,
           "type": "scattergeo"
          }
         ],
         "name": "2010"
        },
        {
         "data": [
          {
           "geo": "geo",
           "hovertemplate": "<b>%{hovertext}</b><br><br>AU_Regions=Southern Africa<br>Year=2015<br>Value=%{marker.size}<br>ISO=%{location}<extra></extra>",
           "hovertext": [
            "Angola",
            "Botswana",
            "Lesotho",
            "Mozambique",
            "Malawi",
            "Namibia",
            "Kingdom of Eswatini",
            "South Africa",
            "Zambia",
            "Zimbabwe"
           ],
           "legendgroup": "Southern Africa",
           "locations": [
            "AGO",
            "BWA",
            "LSO",
            "MOZ",
            "MWI",
            "NAM",
            "SWZ",
            "ZAF",
            "ZMB",
            "ZWE"
           ],
           "marker": {
            "color": "#636efa",
            "size": [
             0.6331015660297548,
             0.5322859606748381,
             0.2547102357532099,
             0.3052587995957312,
             0.2415270776462763,
             0.3971796380090498,
             0.2785325306517989,
             0.6754847643097581,
             0.4430140881478609,
             0.3304131133921365
            ],
            "sizemode": "area",
            "sizeref": 0.002450259732789959,
            "symbol": "circle"
           },
           "mode": "markers",
           "name": "Southern Africa",
           "showlegend": true,
           "type": "scattergeo"
          },
          {
           "geo": "geo",
           "hovertemplate": "<b>%{hovertext}</b><br><br>AU_Regions=Central Africa<br>Year=2015<br>Value=%{marker.size}<br>ISO=%{location}<extra></extra>",
           "hovertext": [
            "Burundi",
            "Central African Republic",
            "Cameroon",
            "Democratic Republic of the Congo",
            "Republic of the Congo",
            "Gabon",
            "Equatorial Guinea",
            "Sao Tome and Principe",
            "Chad"
           ],
           "legendgroup": "Central Africa",
           "locations": [
            "BDI",
            "CAF",
            "CMR",
            "COD",
            "COG",
            "GAB",
            "GNQ",
            "STP",
            "TCD"
           ],
           "marker": {
            "color": "#EF553B",
            "size": [
             0.1836989613417499,
             0.3585658901085639,
             0.5642084000478456,
             0.4360160570417989,
             0.6447586076542918,
             0.8069495483747223,
             0.4965470754440702,
             0.8042763819095478,
             0.280541363169385
            ],
            "sizemode": "area",
            "sizeref": 0.002450259732789959,
            "symbol": "circle"
           },
           "mode": "markers",
           "name": "Central Africa",
           "showlegend": true,
           "type": "scattergeo"
          },
          {
           "geo": "geo",
           "hovertemplate": "<b>%{hovertext}</b><br><br>AU_Regions=West Africa<br>Year=2015<br>Value=%{marker.size}<br>ISO=%{location}<extra></extra>",
           "hovertext": [
            "Benin",
            "Burkina Faso",
            "Cote d`Ivoire",
            "Cabo Verde",
            "Ghana",
            "Guinea",
            "The Gambia",
            "Guinea-Bissau",
            "Liberia",
            "Mali",
            "Niger",
            "Nigeria",
            "Senegal",
            "Sierra Leone",
            "Togo"
           ],
           "legendgroup": "West Africa",
           "locations": [
            "BEN",
            "BFA",
            "CIV",
            "CPV",
            "GHA",
            "GIN",
            "GMB",
            "GNB",
            "LBR",
            "MLI",
            "NER",
            "NGA",
            "SEN",
            "SLE",
            "TGO"
           ],
           "marker": {
            "color": "#00cc96",
            "size": [
             0.438010234553003,
             0.275629096977024,
             0.4805654506437768,
             0.5028513832018947,
             0.4922772060730789,
             0.3702528928231475,
             0.4527535762109705,
             0.3432936744636383,
             0.4193268961930163,
             0.3118828989412538,
             0.1729016565345263,
             0.5056354452074946,
             0.490773449282978,
             0.3612855576328239,
             0.4840683247988296
            ],
            "sizemode": "area",
            "sizeref": 0.002450259732789959,
            "symbol": "circle"
           },
           "mode": "markers",
           "name": "West Africa",
           "showlegend": true,
           "type": "scattergeo"
          },
          {
           "geo": "geo",
           "hovertemplate": "<b>%{hovertext}</b><br><br>AU_Regions=East Africa<br>Year=2015<br>Value=%{marker.size}<br>ISO=%{location}<extra></extra>",
           "hovertext": [
            "Comoros",
            "Djibouti",
            "Eritrea",
            "Ethiopia",
            "Kenya",
            "Madagascar",
            "Mauritius",
            "Rwanda",
            "Sudan",
            "Somalia",
            "South Sudan",
            "Seychelles",
            "Tanzania",
            "Uganda"
           ],
           "legendgroup": "East Africa",
           "locations": [
            "COM",
            "DJI",
            "ERI",
            "ETH",
            "KEN",
            "MDG",
            "MUS",
            "RWA",
            "SDN",
            "SOM",
            "SSD",
            "SYC",
            "TZA",
            "UGA"
           ],
           "marker": {
            "color": "#ab63fa",
            "size": [
             0.47825345752322,
             0.7205041841004184,
             0.2444986589643078,
             0.2519025738804148,
             0.4036353406651064,
             0.2160736645345119,
             0.7396485836821493,
             0.5491965612375004,
             0.416707922196009,
             0.3582485207100592,
             0.2178794969631055,
             0.7259872188741049,
             0.3676589724492815,
             0.3810454206322318
            ],
            "sizemode": "area",
            "sizeref": 0.002450259732789959,
            "symbol": "circle"
           },
           "mode": "markers",
           "name": "East Africa",
           "showlegend": true,
           "type": "scattergeo"
          },
          {
           "geo": "geo",
           "hovertemplate": "<b>%{hovertext}</b><br><br>AU_Regions=North Africa<br>Year=2015<br>Value=%{marker.size}<br>ISO=%{location}<extra></extra>",
           "hovertext": [
            "Algeria",
            "Egypt",
            "Libya",
            "Morocco",
            "Mauritania",
            "Tunisia"
           ],
           "legendgroup": "North Africa",
           "locations": [
            "DZA",
            "EGY",
            "LBY",
            "MAR",
            "MRT",
            "TUN"
           ],
           "marker": {
            "color": "#FFA15A",
            "size": [
             0.6112652703750969,
             0.6672459065537512,
             0.7418538283860499,
             0.5675015190127358,
             0.4246418596649614,
             0.5644739356781922
            ],
            "sizemode": "area",
            "sizeref": 0.002450259732789959,
            "symbol": "circle"
           },
           "mode": "markers",
           "name": "North Africa",
           "showlegend": true,
           "type": "scattergeo"
          }
         ],
         "name": "2015"
        },
        {
         "data": [
          {
           "geo": "geo",
           "hovertemplate": "<b>%{hovertext}</b><br><br>AU_Regions=Southern Africa<br>Year=2020<br>Value=%{marker.size}<br>ISO=%{location}<extra></extra>",
           "hovertext": [
            "Angola",
            "Botswana",
            "Lesotho",
            "Mozambique",
            "Malawi",
            "Namibia",
            "Kingdom of Eswatini",
            "South Africa",
            "Zambia",
            "Zimbabwe"
           ],
           "legendgroup": "Southern Africa",
           "locations": [
            "AGO",
            "BWA",
            "LSO",
            "MOZ",
            "MWI",
            "NAM",
            "SWZ",
            "ZAF",
            "ZMB",
            "ZWE"
           ],
           "marker": {
            "color": "#636efa",
            "size": [
             0.6288560182507551,
             0.5723931698774081,
             0.4228377427118752,
             0.3866151598913917,
             0.3573506775067751,
             0.4444926147704591,
             0.3858583786430194,
             0.7311581754714191,
             0.449335199440168,
             0.3863608282416837
            ],
            "sizemode": "area",
            "sizeref": 0.002450259732789959,
            "symbol": "circle"
           },
           "mode": "markers",
           "name": "Southern Africa",
           "showlegend": true,
           "type": "scattergeo"
          },
          {
           "geo": "geo",
           "hovertemplate": "<b>%{hovertext}</b><br><br>AU_Regions=Central Africa<br>Year=2020<br>Value=%{marker.size}<br>ISO=%{location}<extra></extra>",
           "hovertext": [
            "Burundi",
            "Central African Republic",
            "Cameroon",
            "Democratic Republic of the Congo",
            "Republic of the Congo",
            "Gabon",
            "Equatorial Guinea",
            "Sao Tome and Principe",
            "Chad"
           ],
           "legendgroup": "Central Africa",
           "locations": [
            "BDI",
            "CAF",
            "CMR",
            "COD",
            "COG",
            "GAB",
            "GNQ",
            "STP",
            "TCD"
           ],
           "marker": {
            "color": "#EF553B",
            "size": [
             0.7786705168198297,
             0.4546803003003003,
             0.5963651704741132,
             0.4655069046928538,
             0.7097385740402193,
             0.7653751940937976,
             0.5222436448001939,
             0.7355714285714285,
             0.3190728107431094
            ],
            "sizemode": "area",
            "sizeref": 0.002450259732789959,
            "symbol": "circle"
           },
           "mode": "markers",
           "name": "Central Africa",
           "showlegend": true,
           "type": "scattergeo"
          },
          {
           "geo": "geo",
           "hovertemplate": "<b>%{hovertext}</b><br><br>AU_Regions=West Africa<br>Year=2020<br>Value=%{marker.size}<br>ISO=%{location}<extra></extra>",
           "hovertext": [
            "Benin",
            "Burkina Faso",
            "Cote d`Ivoire",
            "Cabo Verde",
            "Ghana",
            "Guinea",
            "The Gambia",
            "Guinea-Bissau",
            "Liberia",
            "Mali",
            "Niger",
            "Nigeria",
            "Senegal",
            "Sierra Leone",
            "Togo"
           ],
           "legendgroup": "West Africa",
           "locations": [
            "BEN",
            "BFA",
            "CIV",
            "CPV",
            "GHA",
            "GIN",
            "GMB",
            "GNB",
            "LBR",
            "MLI",
            "NER",
            "NGA",
            "SEN",
            "SLE",
            "TGO"
           ],
           "marker": {
            "color": "#00cc96",
            "size": [
             0.5811294132125864,
             0.3190525080571456,
             0.5271167616385335,
             0.5633698347107438,
             0.5411488895853264,
             0.3976416439093834,
             0.4776200089726335,
             0.3804993704261895,
             0.4430312572352881,
             0.3428380283004641,
             0.1798075535981125,
             0.5837791797086069,
             0.5330464531577372,
             0.453855421686747,
             0.6081071521456437
            ],
            "sizemode": "area",
            "sizeref": 0.002450259732789959,
            "symbol": "circle"
           },
           "mode": "markers",
           "name": "West Africa",
           "showlegend": true,
           "type": "scattergeo"
          },
          {
           "geo": "geo",
           "hovertemplate": "<b>%{hovertext}</b><br><br>AU_Regions=East Africa<br>Year=2020<br>Value=%{marker.size}<br>ISO=%{location}<extra></extra>",
           "hovertext": [
            "Comoros",
            "Djibouti",
            "Eritrea",
            "Ethiopia",
            "Kenya",
            "Madagascar",
            "Mauritius",
            "Rwanda",
            "Sudan",
            "Somalia",
            "South Sudan",
            "Seychelles",
            "Tanzania",
            "Uganda"
           ],
           "legendgroup": "East Africa",
           "locations": [
            "COM",
            "DJI",
            "ERI",
            "ETH",
            "KEN",
            "MDG",
            "MUS",
            "RWA",
            "SDN",
            "SOM",
            "SSD",
            "SYC",
            "TZA",
            "UGA"
           ],
           "marker": {
            "color": "#ab63fa",
            "size": [
             0.6036637745157228,
             0.6889138888888889,
             0.3957233576216287,
             0.2939121527192713,
             0.8051449854839705,
             0.225025196797561,
             0.8589165302782324,
             0.6592163293540991,
             0.4651727945567348,
             0.3933717443868739,
             0.453023025660171,
             0.7813571428571429,
             0.3727129250520472,
             0.4897300795979223
            ],
            "sizemode": "area",
            "sizeref": 0.002450259732789959,
            "symbol": "circle"
           },
           "mode": "markers",
           "name": "East Africa",
           "showlegend": true,
           "type": "scattergeo"
          },
          {
           "geo": "geo",
           "hovertemplate": "<b>%{hovertext}</b><br><br>AU_Regions=North Africa<br>Year=2020<br>Value=%{marker.size}<br>ISO=%{location}<extra></extra>",
           "hovertext": [
            "Algeria",
            "Egypt",
            "Libya",
            "Morocco",
            "Mauritania",
            "Tunisia"
           ],
           "legendgroup": "North Africa",
           "locations": [
            "DZA",
            "EGY",
            "LBY",
            "MAR",
            "MRT",
            "TUN"
           ],
           "marker": {
            "color": "#FFA15A",
            "size": [
             0.699826706516422,
             0.9801038931159837,
             0.7986268850093782,
             0.6822575806087786,
             0.4271944615305205,
             0.7076270677333001
            ],
            "sizemode": "area",
            "sizeref": 0.002450259732789959,
            "symbol": "circle"
           },
           "mode": "markers",
           "name": "North Africa",
           "showlegend": true,
           "type": "scattergeo"
          }
         ],
         "name": "2020"
        },
        {
         "data": [
          {
           "geo": "geo",
           "hovertemplate": "<b>%{hovertext}</b><br><br>AU_Regions=Southern Africa<br>Year=2025<br>Value=%{marker.size}<br>ISO=%{location}<extra></extra>",
           "hovertext": [
            "Angola",
            "Botswana",
            "Lesotho",
            "Mozambique",
            "Malawi",
            "Namibia",
            "Kingdom of Eswatini",
            "South Africa",
            "Zambia",
            "Zimbabwe"
           ],
           "legendgroup": "Southern Africa",
           "locations": [
            "AGO",
            "BWA",
            "LSO",
            "MOZ",
            "MWI",
            "NAM",
            "SWZ",
            "ZAF",
            "ZMB",
            "ZWE"
           ],
           "marker": {
            "color": "#636efa",
            "size": [
             0.6443708554356455,
             0.5994993105951241,
             0.49895426988488,
             0.412430716599848,
             0.3851417924287924,
             0.4974999741095152,
             0.4320503170946922,
             0.7559324501259909,
             0.459384632785626,
             0.3926877966945699
            ],
            "sizemode": "area",
            "sizeref": 0.002450259732789959,
            "symbol": "circle"
           },
           "mode": "markers",
           "name": "Southern Africa",
           "showlegend": true,
           "type": "scattergeo"
          },
          {
           "geo": "geo",
           "hovertemplate": "<b>%{hovertext}</b><br><br>AU_Regions=Central Africa<br>Year=2025<br>Value=%{marker.size}<br>ISO=%{location}<extra></extra>",
           "hovertext": [
            "Burundi",
            "Central African Republic",
            "Cameroon",
            "Democratic Republic of the Congo",
            "Republic of the Congo",
            "Gabon",
            "Equatorial Guinea",
            "Sao Tome and Principe",
            "Chad"
           ],
           "legendgroup": "Central Africa",
           "locations": [
            "BDI",
            "CAF",
            "CMR",
            "COD",
            "COG",
            "GAB",
            "GNQ",
            "STP",
            "TCD"
           ],
           "marker": {
            "color": "#EF553B",
            "size": [
             0.7817133524556189,
             0.4869628279406111,
             0.6302543202308516,
             0.5001354958117182,
             0.7340027159991469,
             0.7778811887946523,
             0.5615747562373782,
             0.7646850479606889,
             0.3394052037840183
            ],
            "sizemode": "area",
            "sizeref": 0.002450259732789959,
            "symbol": "circle"
           },
           "mode": "markers",
           "name": "Central Africa",
           "showlegend": true,
           "type": "scattergeo"
          },
          {
           "geo": "geo",
           "hovertemplate": "<b>%{hovertext}</b><br><br>AU_Regions=West Africa<br>Year=2025<br>Value=%{marker.size}<br>ISO=%{location}<extra></extra>",
           "hovertext": [
            "Benin",
            "Burkina Faso",
            "Cote d`Ivoire",
            "Cabo Verde",
            "Ghana",
            "Guinea",
            "The Gambia",
            "Guinea-Bissau",
            "Liberia",
            "Mali",
            "Niger",
            "Nigeria",
            "Senegal",
            "Sierra Leone",
            "Togo"
           ],
           "legendgroup": "West Africa",
           "locations": [
            "BEN",
            "BFA",
            "CIV",
            "CPV",
            "GHA",
            "GIN",
            "GMB",
            "GNB",
            "LBR",
            "MLI",
            "NER",
            "NGA",
            "SEN",
            "SLE",
            "TGO"
           ],
           "marker": {
            "color": "#00cc96",
            "size": [
             0.6098811006412865,
             0.3511119713060969,
             0.5490722128782684,
             0.5829858728416841,
             0.5646931925675024,
             0.4183826683335289,
             0.524772567163086,
             0.3896324623057624,
             0.4523435880440211,
             0.3624394203384086,
             0.1968382213720984,
             0.6077602951099881,
             0.5513261342802303,
             0.4291895859372726,
             0.6589849777535475
            ],
            "sizemode": "area",
            "sizeref": 0.002450259732789959,
            "symbol": "circle"
           },
           "mode": "markers",
           "name": "West Africa",
           "showlegend": true,
           "type": "scattergeo"
          },
          {
           "geo": "geo",
           "hovertemplate": "<b>%{hovertext}</b><br><br>AU_Regions=East Africa<br>Year=2025<br>Value=%{marker.size}<br>ISO=%{location}<extra></extra>",
           "hovertext": [
            "Comoros",
            "Djibouti",
            "Eritrea",
            "Ethiopia",
            "Kenya",
            "Madagascar",
            "Mauritius",
            "Rwanda",
            "Sudan",
            "Somalia",
            "South Sudan",
            "Seychelles",
            "Tanzania",
            "Uganda"
           ],
           "legendgroup": "East Africa",
           "locations": [
            "COM",
            "DJI",
            "ERI",
            "ETH",
            "KEN",
            "MDG",
            "MUS",
            "RWA",
            "SDN",
            "SOM",
            "SSD",
            "SYC",
            "TZA",
            "UGA"
           ],
           "marker": {
            "color": "#ab63fa",
            "size": [
             0.5964845585443262,
             0.6955806825589178,
             0.4288959775844375,
             0.314078355413702,
             0.8394957624359035,
             0.2457492913852031,
             0.8678063880796585,
             0.6736651871370054,
             0.4945416712837399,
             0.4272498562404308,
             0.4734660561612914,
             0.7793054210310844,
             0.3963009252848012,
             0.5645578685231527
            ],
            "sizemode": "area",
            "sizeref": 0.002450259732789959,
            "symbol": "circle"
           },
           "mode": "markers",
           "name": "East Africa",
           "showlegend": true,
           "type": "scattergeo"
          },
          {
           "geo": "geo",
           "hovertemplate": "<b>%{hovertext}</b><br><br>AU_Regions=North Africa<br>Year=2025<br>Value=%{marker.size}<br>ISO=%{location}<extra></extra>",
           "hovertext": [
            "Algeria",
            "Egypt",
            "Libya",
            "Morocco",
            "Mauritania",
            "Tunisia"
           ],
           "legendgroup": "North Africa",
           "locations": [
            "DZA",
            "EGY",
            "LBY",
            "MAR",
            "MRT",
            "TUN"
           ],
           "marker": {
            "color": "#FFA15A",
            "size": [
             0.7161818828096472,
             0.9494936074014476,
             0.8046528436958357,
             0.7059794805686784,
             0.4421664634624585,
             0.7283472616074635
            ],
            "sizemode": "area",
            "sizeref": 0.002450259732789959,
            "symbol": "circle"
           },
           "mode": "markers",
           "name": "North Africa",
           "showlegend": true,
           "type": "scattergeo"
          }
         ],
         "name": "2025"
        },
        {
         "data": [
          {
           "geo": "geo",
           "hovertemplate": "<b>%{hovertext}</b><br><br>AU_Regions=Southern Africa<br>Year=2030<br>Value=%{marker.size}<br>ISO=%{location}<extra></extra>",
           "hovertext": [
            "Angola",
            "Botswana",
            "Lesotho",
            "Mozambique",
            "Malawi",
            "Namibia",
            "Kingdom of Eswatini",
            "South Africa",
            "Zambia",
            "Zimbabwe"
           ],
           "legendgroup": "Southern Africa",
           "locations": [
            "AGO",
            "BWA",
            "LSO",
            "MOZ",
            "MWI",
            "NAM",
            "SWZ",
            "ZAF",
            "ZMB",
            "ZWE"
           ],
           "marker": {
            "color": "#636efa",
            "size": [
             0.6616794042854245,
             0.6259177588512491,
             0.5727743779002429,
             0.4352782509222494,
             0.3971631314449349,
             0.5447190423068501,
             0.4544528979764358,
             0.7694406455165924,
             0.4717007283971226,
             0.398896697373709
            ],
            "sizemode": "area",
            "sizeref": 0.002450259732789959,
            "symbol": "circle"
           },
           "mode": "markers",
           "name": "Southern Africa",
           "showlegend": true,
           "type": "scattergeo"
          },
          {
           "geo": "geo",
           "hovertemplate": "<b>%{hovertext}</b><br><br>AU_Regions=Central Africa<br>Year=2030<br>Value=%{marker.size}<br>ISO=%{location}<extra></extra>",
           "hovertext": [
            "Burundi",
            "Central African Republic",
            "Cameroon",
            "Democratic Republic of the Congo",
            "Republic of the Congo",
            "Gabon",
            "Equatorial Guinea",
            "Sao Tome and Principe",
            "Chad"
           ],
           "legendgroup": "Central Africa",
           "locations": [
            "BDI",
            "CAF",
            "CMR",
            "COD",
            "COG",
            "GAB",
            "GNQ",
            "STP",
            "TCD"
           ],
           "marker": {
            "color": "#EF553B",
            "size": [
             0.7983638271604712,
             0.5149678347212173,
             0.6621058363711038,
             0.5317005976170702,
             0.7594652275317184,
             0.7940494992267142,
             0.6048352999730067,
             0.8311187923867862,
             0.3630738755433752
            ],
            "sizemode": "area",
            "sizeref": 0.002450259732789959,
            "symbol": "circle"
           },
           "mode": "markers",
           "name": "Central Africa",
           "showlegend": true,
           "type": "scattergeo"
          },
          {
           "geo": "geo",
           "hovertemplate": "<b>%{hovertext}</b><br><br>AU_Regions=West Africa<br>Year=2030<br>Value=%{marker.size}<br>ISO=%{location}<extra></extra>",
           "hovertext": [
            "Benin",
            "Burkina Faso",
            "Cote d`Ivoire",
            "Cabo Verde",
            "Ghana",
            "Guinea",
            "The Gambia",
            "Guinea-Bissau",
            "Liberia",
            "Mali",
            "Niger",
            "Nigeria",
            "Senegal",
            "Sierra Leone",
            "Togo"
           ],
           "legendgroup": "West Africa",
           "locations": [
            "BEN",
            "BFA",
            "CIV",
            "CPV",
            "GHA",
            "GIN",
            "GMB",
            "GNB",
            "LBR",
            "MLI",
            "NER",
            "NGA",
            "SEN",
            "SLE",
            "TGO"
           ],
           "marker": {
            "color": "#00cc96",
            "size": [
             0.6282037379725485,
             0.3793177777579858,
             0.5759573061851877,
             0.6457013963026398,
             0.5844959264749652,
             0.4425570786505359,
             0.5904368431500996,
             0.403255251500042,
             0.4593463169697971,
             0.3833125452080986,
             0.2092609357956119,
             0.6302784382126685,
             0.5700728281932723,
             0.4539346622473253,
             0.6958379061516172
            ],
            "sizemode": "area",
            "sizeref": 0.002450259732789959,
            "symbol": "circle"
           },
           "mode": "markers",
           "name": "West Africa",
           "showlegend": true,
           "type": "scattergeo"
          },
          {
           "geo": "geo",
           "hovertemplate": "<b>%{hovertext}</b><br><br>AU_Regions=East Africa<br>Year=2030<br>Value=%{marker.size}<br>ISO=%{location}<extra></extra>",
           "hovertext": [
            "Comoros",
            "Djibouti",
            "Eritrea",
            "Ethiopia",
            "Kenya",
            "Madagascar",
            "Mauritius",
            "Rwanda",
            "Sudan",
            "Somalia",
            "South Sudan",
            "Seychelles",
            "Tanzania",
            "Uganda"
           ],
           "legendgroup": "East Africa",
           "locations": [
            "COM",
            "DJI",
            "ERI",
            "ETH",
            "KEN",
            "MDG",
            "MUS",
            "RWA",
            "SDN",
            "SOM",
            "SSD",
            "SYC",
            "TZA",
            "UGA"
           ],
           "marker": {
            "color": "#ab63fa",
            "size": [
             0.6194127516308826,
             0.7022473340308215,
             0.4509114308633867,
             0.3320804449896935,
             0.8585623351723363,
             0.265929963555669,
             0.8766964404524286,
             0.6873880002216588,
             0.5189608367170759,
             0.4613214779238832,
             0.4924349760573573,
             0.779950457354759,
             0.4161679649055543,
             0.6090942186976243
            ],
            "sizemode": "area",
            "sizeref": 0.002450259732789959,
            "symbol": "circle"
           },
           "mode": "markers",
           "name": "East Africa",
           "showlegend": true,
           "type": "scattergeo"
          },
          {
           "geo": "geo",
           "hovertemplate": "<b>%{hovertext}</b><br><br>AU_Regions=North Africa<br>Year=2030<br>Value=%{marker.size}<br>ISO=%{location}<extra></extra>",
           "hovertext": [
            "Algeria",
            "Egypt",
            "Libya",
            "Morocco",
            "Mauritania",
            "Tunisia"
           ],
           "legendgroup": "North Africa",
           "locations": [
            "DZA",
            "EGY",
            "LBY",
            "MAR",
            "MRT",
            "TUN"
           ],
           "marker": {
            "color": "#FFA15A",
            "size": [
             0.7313454369081082,
             0.9509062578646129,
             0.8087280829617547,
             0.7268822548415594,
             0.4514453807937361,
             0.7357673823122771
            ],
            "sizemode": "area",
            "sizeref": 0.002450259732789959,
            "symbol": "circle"
           },
           "mode": "markers",
           "name": "North Africa",
           "showlegend": true,
           "type": "scattergeo"
          }
         ],
         "name": "2030"
        },
        {
         "data": [
          {
           "geo": "geo",
           "hovertemplate": "<b>%{hovertext}</b><br><br>AU_Regions=Southern Africa<br>Year=2035<br>Value=%{marker.size}<br>ISO=%{location}<extra></extra>",
           "hovertext": [
            "Angola",
            "Botswana",
            "Lesotho",
            "Mozambique",
            "Malawi",
            "Namibia",
            "Kingdom of Eswatini",
            "South Africa",
            "Zambia",
            "Zimbabwe"
           ],
           "legendgroup": "Southern Africa",
           "locations": [
            "AGO",
            "BWA",
            "LSO",
            "MOZ",
            "MWI",
            "NAM",
            "SWZ",
            "ZAF",
            "ZMB",
            "ZWE"
           ],
           "marker": {
            "color": "#636efa",
            "size": [
             0.6769925962064762,
             0.6644605877987967,
             0.6394623395495277,
             0.4539232394280968,
             0.4057758932724411,
             0.6054535014364942,
             0.480682045559489,
             0.7819608722775635,
             0.4813874274054629,
             0.4075193586184891
            ],
            "sizemode": "area",
            "sizeref": 0.002450259732789959,
            "symbol": "circle"
           },
           "mode": "markers",
           "name": "Southern Africa",
           "showlegend": true,
           "type": "scattergeo"
          },
          {
           "geo": "geo",
           "hovertemplate": "<b>%{hovertext}</b><br><br>AU_Regions=Central Africa<br>Year=2035<br>Value=%{marker.size}<br>ISO=%{location}<extra></extra>",
           "hovertext": [
            "Burundi",
            "Central African Republic",
            "Cameroon",
            "Democratic Republic of the Congo",
            "Republic of the Congo",
            "Gabon",
            "Equatorial Guinea",
            "Sao Tome and Principe",
            "Chad"
           ],
           "legendgroup": "Central Africa",
           "locations": [
            "BDI",
            "CAF",
            "CMR",
            "COD",
            "COG",
            "GAB",
            "GNQ",
            "STP",
            "TCD"
           ],
           "marker": {
            "color": "#EF553B",
            "size": [
             0.8159146865172954,
             0.5442957594840505,
             0.6931687716297557,
             0.5599633885109442,
             0.7832452840354585,
             0.8060978173963973,
             0.6320364431104079,
             0.8155071641161104,
             0.3804646900783636
            ],
            "sizemode": "area",
            "sizeref": 0.002450259732789959,
            "symbol": "circle"
           },
           "mode": "markers",
           "name": "Central Africa",
           "showlegend": true,
           "type": "scattergeo"
          },
          {
           "geo": "geo",
           "hovertemplate": "<b>%{hovertext}</b><br><br>AU_Regions=West Africa<br>Year=2035<br>Value=%{marker.size}<br>ISO=%{location}<extra></extra>",
           "hovertext": [
            "Benin",
            "Burkina Faso",
            "Cote d`Ivoire",
            "Cabo Verde",
            "Ghana",
            "Guinea",
            "The Gambia",
            "Guinea-Bissau",
            "Liberia",
            "Mali",
            "Niger",
            "Nigeria",
            "Senegal",
            "Sierra Leone",
            "Togo"
           ],
           "legendgroup": "West Africa",
           "locations": [
            "BEN",
            "BFA",
            "CIV",
            "CPV",
            "GHA",
            "GIN",
            "GMB",
            "GNB",
            "LBR",
            "MLI",
            "NER",
            "NGA",
            "SEN",
            "SLE",
            "TGO"
           ],
           "marker": {
            "color": "#00cc96",
            "size": [
             0.6558288885058813,
             0.4049455606731477,
             0.5965369817736704,
             0.6705447059175985,
             0.60542402429734,
             0.462744685109988,
             0.6383300992759837,
             0.4252948083468724,
             0.4671559887957223,
             0.3990587086960882,
             0.224594226941734,
             0.6507012178614223,
             0.5856564349443752,
             0.4787612979371927,
             0.7358888229954335
            ],
            "sizemode": "area",
            "sizeref": 0.002450259732789959,
            "symbol": "circle"
           },
           "mode": "markers",
           "name": "West Africa",
           "showlegend": true,
           "type": "scattergeo"
          },
          {
           "geo": "geo",
           "hovertemplate": "<b>%{hovertext}</b><br><br>AU_Regions=East Africa<br>Year=2035<br>Value=%{marker.size}<br>ISO=%{location}<extra></extra>",
           "hovertext": [
            "Comoros",
            "Djibouti",
            "Eritrea",
            "Ethiopia",
            "Kenya",
            "Madagascar",
            "Mauritius",
            "Rwanda",
            "Sudan",
            "Somalia",
            "South Sudan",
            "Seychelles",
            "Tanzania",
            "Uganda"
           ],
           "legendgroup": "East Africa",
           "locations": [
            "COM",
            "DJI",
            "ERI",
            "ETH",
            "KEN",
            "MDG",
            "MUS",
            "RWA",
            "SDN",
            "SOM",
            "SSD",
            "SYC",
            "TZA",
            "UGA"
           ],
           "marker": {
            "color": "#ab63fa",
            "size": [
             0.6326694985609919,
             0.708914078996774,
             0.4888990335490369,
             0.3496168761992695,
             0.8774679953060941,
             0.2846561914140569,
             0.8855861691699497,
             0.7011108537163367,
             0.544246977611439,
             0.494723328517307,
             0.5142805463371375,
             0.7806054845255216,
             0.4336943171831466,
             0.6524690879949893
            ],
            "sizemode": "area",
            "sizeref": 0.002450259732789959,
            "symbol": "circle"
           },
           "mode": "markers",
           "name": "East Africa",
           "showlegend": true,
           "type": "scattergeo"
          },
          {
           "geo": "geo",
           "hovertemplate": "<b>%{hovertext}</b><br><br>AU_Regions=North Africa<br>Year=2035<br>Value=%{marker.size}<br>ISO=%{location}<extra></extra>",
           "hovertext": [
            "Algeria",
            "Egypt",
            "Libya",
            "Morocco",
            "Mauritania",
            "Tunisia"
           ],
           "legendgroup": "North Africa",
           "locations": [
            "DZA",
            "EGY",
            "LBY",
            "MAR",
            "MRT",
            "TUN"
           ],
           "marker": {
            "color": "#FFA15A",
            "size": [
             0.7455351760140126,
             0.9518287831756845,
             0.8100281874301828,
             0.7490418344824442,
             0.4630582204459097,
             0.743824901476587
            ],
            "sizemode": "area",
            "sizeref": 0.002450259732789959,
            "symbol": "circle"
           },
           "mode": "markers",
           "name": "North Africa",
           "showlegend": true,
           "type": "scattergeo"
          }
         ],
         "name": "2035"
        },
        {
         "data": [
          {
           "geo": "geo",
           "hovertemplate": "<b>%{hovertext}</b><br><br>AU_Regions=Southern Africa<br>Year=2040<br>Value=%{marker.size}<br>ISO=%{location}<extra></extra>",
           "hovertext": [
            "Angola",
            "Botswana",
            "Lesotho",
            "Mozambique",
            "Malawi",
            "Namibia",
            "Kingdom of Eswatini",
            "South Africa",
            "Zambia",
            "Zimbabwe"
           ],
           "legendgroup": "Southern Africa",
           "locations": [
            "AGO",
            "BWA",
            "LSO",
            "MOZ",
            "MWI",
            "NAM",
            "SWZ",
            "ZAF",
            "ZMB",
            "ZWE"
           ],
           "marker": {
            "color": "#636efa",
            "size": [
             0.6928629162236724,
             0.6986877499103582,
             0.7049216707765593,
             0.4700411579901976,
             0.4181622262848001,
             0.6565829690997511,
             0.5029231316164242,
             0.7938742097608463,
             0.4930935860588516,
             0.4140675532938581
            ],
            "sizemode": "area",
            "sizeref": 0.002450259732789959,
            "symbol": "circle"
           },
           "mode": "markers",
           "name": "Southern Africa",
           "showlegend": true,
           "type": "scattergeo"
          },
          {
           "geo": "geo",
           "hovertemplate": "<b>%{hovertext}</b><br><br>AU_Regions=Central Africa<br>Year=2040<br>Value=%{marker.size}<br>ISO=%{location}<extra></extra>",
           "hovertext": [
            "Burundi",
            "Central African Republic",
            "Cameroon",
            "Democratic Republic of the Congo",
            "Republic of the Congo",
            "Gabon",
            "Equatorial Guinea",
            "Sao Tome and Principe",
            "Chad"
           ],
           "legendgroup": "Central Africa",
           "locations": [
            "BDI",
            "CAF",
            "CMR",
            "COD",
            "COG",
            "GAB",
            "GNQ",
            "STP",
            "TCD"
           ],
           "marker": {
            "color": "#EF553B",
            "size": [
             0.8258553526753214,
             0.567899014566513,
             0.7233073594092588,
             0.5867291557351467,
             0.8050336409606182,
             0.8209458311299419,
             0.6592477562186548,
             0.7998975453074813,
             0.3985813407432093
            ],
            "sizemode": "area",
            "sizeref": 0.002450259732789959,
            "symbol": "circle"
           },
           "mode": "markers",
           "name": "Central Africa",
           "showlegend": true,
           "type": "scattergeo"
          },
          {
           "geo": "geo",
           "hovertemplate": "<b>%{hovertext}</b><br><br>AU_Regions=West Africa<br>Year=2040<br>Value=%{marker.size}<br>ISO=%{location}<extra></extra>",
           "hovertext": [
            "Benin",
            "Burkina Faso",
            "Cote d`Ivoire",
            "Cabo Verde",
            "Ghana",
            "Guinea",
            "The Gambia",
            "Guinea-Bissau",
            "Liberia",
            "Mali",
            "Niger",
            "Nigeria",
            "Senegal",
            "Sierra Leone",
            "Togo"
           ],
           "legendgroup": "West Africa",
           "locations": [
            "BEN",
            "BFA",
            "CIV",
            "CPV",
            "GHA",
            "GIN",
            "GMB",
            "GNB",
            "LBR",
            "MLI",
            "NER",
            "NGA",
            "SEN",
            "SLE",
            "TGO"
           ],
           "marker": {
            "color": "#00cc96",
            "size": [
             0.6712776727639725,
             0.4302569753515608,
             0.6142665929184149,
             0.6952668061972163,
             0.624632217646733,
             0.4833278613322718,
             0.6845820595622119,
             0.4428204554492193,
             0.4733898004862173,
             0.4171467640681912,
             0.2394643828137791,
             0.6705115541967704,
             0.6041980517793089,
             0.5012314678610977,
             0.7767218097833487
            ],
            "sizemode": "area",
            "sizeref": 0.002450259732789959,
            "symbol": "circle"
           },
           "mode": "markers",
           "name": "West Africa",
           "showlegend": true,
           "type": "scattergeo"
          },
          {
           "geo": "geo",
           "hovertemplate": "<b>%{hovertext}</b><br><br>AU_Regions=East Africa<br>Year=2040<br>Value=%{marker.size}<br>ISO=%{location}<extra></extra>",
           "hovertext": [
            "Comoros",
            "Djibouti",
            "Eritrea",
            "Ethiopia",
            "Kenya",
            "Madagascar",
            "Mauritius",
            "Rwanda",
            "Sudan",
            "Somalia",
            "South Sudan",
            "Seychelles",
            "Tanzania",
            "Uganda"
           ],
           "legendgroup": "East Africa",
           "locations": [
            "COM",
            "DJI",
            "ERI",
            "ETH",
            "KEN",
            "MDG",
            "MUS",
            "RWA",
            "SDN",
            "SOM",
            "SSD",
            "SYC",
            "TZA",
            "UGA"
           ],
           "marker": {
            "color": "#ab63fa",
            "size": [
             0.6654833541179842,
             0.7155806624183777,
             0.5260309347017735,
             0.3667885340101383,
             0.8957032038549994,
             0.3027248295146625,
             0.8944766761016033,
             0.7148337965832487,
             0.567873638563444,
             0.5266313178887011,
             0.5332405829517928,
             0.7812473833879695,
             0.4463469053141413,
             0.6959243187712199
            ],
            "sizemode": "area",
            "sizeref": 0.002450259732789959,
            "symbol": "circle"
           },
           "mode": "markers",
           "name": "East Africa",
           "showlegend": true,
           "type": "scattergeo"
          },
          {
           "geo": "geo",
           "hovertemplate": "<b>%{hovertext}</b><br><br>AU_Regions=North Africa<br>Year=2040<br>Value=%{marker.size}<br>ISO=%{location}<extra></extra>",
           "hovertext": [
            "Algeria",
            "Egypt",
            "Libya",
            "Morocco",
            "Mauritania",
            "Tunisia"
           ],
           "legendgroup": "North Africa",
           "locations": [
            "DZA",
            "EGY",
            "LBY",
            "MAR",
            "MRT",
            "TUN"
           ],
           "marker": {
            "color": "#FFA15A",
            "size": [
             0.7587467069610512,
             0.9518342371942545,
             0.816424758464748,
             0.7709779783458619,
             0.4709956478780333,
             0.7509682050235227
            ],
            "sizemode": "area",
            "sizeref": 0.002450259732789959,
            "symbol": "circle"
           },
           "mode": "markers",
           "name": "North Africa",
           "showlegend": true,
           "type": "scattergeo"
          }
         ],
         "name": "2040"
        },
        {
         "data": [
          {
           "geo": "geo",
           "hovertemplate": "<b>%{hovertext}</b><br><br>AU_Regions=Southern Africa<br>Year=2045<br>Value=%{marker.size}<br>ISO=%{location}<extra></extra>",
           "hovertext": [
            "Angola",
            "Botswana",
            "Lesotho",
            "Mozambique",
            "Malawi",
            "Namibia",
            "Kingdom of Eswatini",
            "South Africa",
            "Zambia",
            "Zimbabwe"
           ],
           "legendgroup": "Southern Africa",
           "locations": [
            "AGO",
            "BWA",
            "LSO",
            "MOZ",
            "MWI",
            "NAM",
            "SWZ",
            "ZAF",
            "ZMB",
            "ZWE"
           ],
           "marker": {
            "color": "#636efa",
            "size": [
             0.7074499235126791,
             0.7268521601258003,
             0.7698492472096358,
             0.4843376142159482,
             0.4286209377831044,
             0.7061403116411946,
             0.5251643373064984,
             0.805344677657814,
             0.5041442146293666,
             0.4200190445623202
            ],
            "sizemode": "area",
            "sizeref": 0.002450259732789959,
            "symbol": "circle"
           },
           "mode": "markers",
           "name": "Southern Africa",
           "showlegend": true,
           "type": "scattergeo"
          },
          {
           "geo": "geo",
           "hovertemplate": "<b>%{hovertext}</b><br><br>AU_Regions=Central Africa<br>Year=2045<br>Value=%{marker.size}<br>ISO=%{location}<extra></extra>",
           "hovertext": [
            "Burundi",
            "Central African Republic",
            "Cameroon",
            "Democratic Republic of the Congo",
            "Republic of the Congo",
            "Gabon",
            "Equatorial Guinea",
            "Sao Tome and Principe",
            "Chad"
           ],
           "legendgroup": "Central Africa",
           "locations": [
            "BDI",
            "CAF",
            "CMR",
            "COD",
            "COG",
            "GAB",
            "GNQ",
            "STP",
            "TCD"
           ],
           "marker": {
            "color": "#EF553B",
            "size": [
             0.8358332825057699,
             0.5916810621617034,
             0.7535748203836272,
             0.6130975340238739,
             0.8290601348904831,
             0.8324556764023858,
             0.6933537742208766,
             0.7842869813860305,
             0.4145613469522359
            ],
            "sizemode": "area",
            "sizeref": 0.002450259732789959,
            "symbol": "circle"
           },
           "mode": "markers",
           "name": "Central Africa",
           "showlegend": true,
           "type": "scattergeo"
          },
          {
           "geo": "geo",
           "hovertemplate": "<b>%{hovertext}</b><br><br>AU_Regions=West Africa<br>Year=2045<br>Value=%{marker.size}<br>ISO=%{location}<extra></extra>",
           "hovertext": [
            "Benin",
            "Burkina Faso",
            "Cote d`Ivoire",
            "Cabo Verde",
            "Ghana",
            "Guinea",
            "The Gambia",
            "Guinea-Bissau",
            "Liberia",
            "Mali",
            "Niger",
            "Nigeria",
            "Senegal",
            "Sierra Leone",
            "Togo"
           ],
           "legendgroup": "West Africa",
           "locations": [
            "BEN",
            "BFA",
            "CIV",
            "CPV",
            "GHA",
            "GIN",
            "GMB",
            "GNB",
            "LBR",
            "MLI",
            "NER",
            "NGA",
            "SEN",
            "SLE",
            "TGO"
           ],
           "marker": {
            "color": "#00cc96",
            "size": [
             0.6861645668923684,
             0.4543181726418141,
             0.6308425696549624,
             0.7198401415134728,
             0.6414555281756062,
             0.5027391439652336,
             0.7244403183236665,
             0.461200700495388,
             0.4793359588561689,
             0.432071540383202,
             0.2515267660699321,
             0.689928144791808,
             0.6196237622048391,
             0.5234389137926418,
             0.8197820803118462
            ],
            "sizemode": "area",
            "sizeref": 0.002450259732789959,
            "symbol": "circle"
           },
           "mode": "markers",
           "name": "West Africa",
           "showlegend": true,
           "type": "scattergeo"
          },
          {
           "geo": "geo",
           "hovertemplate": "<b>%{hovertext}</b><br><br>AU_Regions=East Africa<br>Year=2045<br>Value=%{marker.size}<br>ISO=%{location}<extra></extra>",
           "hovertext": [
            "Comoros",
            "Djibouti",
            "Eritrea",
            "Ethiopia",
            "Kenya",
            "Madagascar",
            "Mauritius",
            "Rwanda",
            "Sudan",
            "Somalia",
            "South Sudan",
            "Seychelles",
            "Tanzania",
            "Uganda"
           ],
           "legendgroup": "East Africa",
           "locations": [
            "COM",
            "DJI",
            "ERI",
            "ETH",
            "KEN",
            "MDG",
            "MUS",
            "RWA",
            "SDN",
            "SOM",
            "SSD",
            "SYC",
            "TZA",
            "UGA"
           ],
           "marker": {
            "color": "#ab63fa",
            "size": [
             0.7071567245362199,
             0.7222474991571927,
             0.5579070453865407,
             0.3832537965297826,
             0.91284425273559,
             0.3204660305384943,
             0.8852456149912346,
             0.7290901743775476,
             0.5896380994694407,
             0.5585372775136183,
             0.5554613435935449,
             0.7818977789297392,
             0.4597644209382762,
             0.7379837606011856
            ],
            "sizemode": "area",
            "sizeref": 0.002450259732789959,
            "symbol": "circle"
           },
           "mode": "markers",
           "name": "East Africa",
           "showlegend": true,
           "type": "scattergeo"
          },
          {
           "geo": "geo",
           "hovertemplate": "<b>%{hovertext}</b><br><br>AU_Regions=North Africa<br>Year=2045<br>Value=%{marker.size}<br>ISO=%{location}<extra></extra>",
           "hovertext": [
            "Algeria",
            "Egypt",
            "Libya",
            "Morocco",
            "Mauritania",
            "Tunisia"
           ],
           "legendgroup": "North Africa",
           "locations": [
            "DZA",
            "EGY",
            "LBY",
            "MAR",
            "MRT",
            "TUN"
           ],
           "marker": {
            "color": "#FFA15A",
            "size": [
             0.7723081795090568,
             0.9523677268189594,
             0.8176922446636482,
             0.7921489073708086,
             0.4771422188257862,
             0.7604152681628451
            ],
            "sizemode": "area",
            "sizeref": 0.002450259732789959,
            "symbol": "circle"
           },
           "mode": "markers",
           "name": "North Africa",
           "showlegend": true,
           "type": "scattergeo"
          }
         ],
         "name": "2045"
        },
        {
         "data": [
          {
           "geo": "geo",
           "hovertemplate": "<b>%{hovertext}</b><br><br>AU_Regions=Southern Africa<br>Year=2050<br>Value=%{marker.size}<br>ISO=%{location}<extra></extra>",
           "hovertext": [
            "Angola",
            "Botswana",
            "Lesotho",
            "Mozambique",
            "Malawi",
            "Namibia",
            "Kingdom of Eswatini",
            "South Africa",
            "Zambia",
            "Zimbabwe"
           ],
           "legendgroup": "Southern Africa",
           "locations": [
            "AGO",
            "BWA",
            "LSO",
            "MOZ",
            "MWI",
            "NAM",
            "SWZ",
            "ZAF",
            "ZMB",
            "ZWE"
           ],
           "marker": {
            "color": "#636efa",
            "size": [
             0.7222425765252125,
             0.755918118525627,
             0.8380248311821523,
             0.4975735363934379,
             0.4342074244013563,
             0.7542336214905958,
             0.5473531870841907,
             0.8163015364420444,
             0.5145810975337706,
             0.4259757853940841
            ],
            "sizemode": "area",
            "sizeref": 0.002450259732789959,
            "symbol": "circle"
           },
           "mode": "markers",
           "name": "Southern Africa",
           "showlegend": true,
           "type": "scattergeo"
          },
          {
           "geo": "geo",
           "hovertemplate": "<b>%{hovertext}</b><br><br>AU_Regions=Central Africa<br>Year=2050<br>Value=%{marker.size}<br>ISO=%{location}<extra></extra>",
           "hovertext": [
            "Burundi",
            "Central African Republic",
            "Cameroon",
            "Democratic Republic of the Congo",
            "Republic of the Congo",
            "Gabon",
            "Equatorial Guinea",
            "Sao Tome and Principe",
            "Chad"
           ],
           "legendgroup": "Central Africa",
           "locations": [
            "BDI",
            "CAF",
            "CMR",
            "COD",
            "COG",
            "GAB",
            "GNQ",
            "STP",
            "TCD"
           ],
           "marker": {
            "color": "#EF553B",
            "size": [
             0.8428690545463023,
             0.6148907943782981,
             0.7831155235827413,
             0.6376431884472659,
             0.8489636896710727,
             0.8407888131150455,
             0.7208390663018049,
             0.7686759815629826,
             0.4313158039825691
            ],
            "sizemode": "area",
            "sizeref": 0.002450259732789959,
            "symbol": "circle"
           },
           "mode": "markers",
           "name": "Central Africa",
           "showlegend": true,
           "type": "scattergeo"
          },
          {
           "geo": "geo",
           "hovertemplate": "<b>%{hovertext}</b><br><br>AU_Regions=West Africa<br>Year=2050<br>Value=%{marker.size}<br>ISO=%{location}<extra></extra>",
           "hovertext": [
            "Benin",
            "Burkina Faso",
            "Cote d`Ivoire",
            "Cabo Verde",
            "Ghana",
            "Guinea",
            "The Gambia",
            "Guinea-Bissau",
            "Liberia",
            "Mali",
            "Niger",
            "Nigeria",
            "Senegal",
            "Sierra Leone",
            "Togo"
           ],
           "legendgroup": "West Africa",
           "locations": [
            "BEN",
            "BFA",
            "CIV",
            "CPV",
            "GHA",
            "GIN",
            "GMB",
            "GNB",
            "LBR",
            "MLI",
            "NER",
            "NGA",
            "SEN",
            "SLE",
            "TGO"
           ],
           "marker": {
            "color": "#00cc96",
            "size": [
             0.6918497795479404,
             0.4771272241608467,
             0.6474338718527576,
             0.7441942749848532,
             0.6558259066016908,
             0.5215650297762203,
             0.7617735796986352,
             0.470866596244699,
             0.4849797215327254,
             0.4437875073761043,
             0.261848309406698,
             0.7080869522916876,
             0.6363379876993451,
             0.5453627605019145,
             0.8503121995772069
            ],
            "sizemode": "area",
            "sizeref": 0.002450259732789959,
            "symbol": "circle"
           },
           "mode": "markers",
           "name": "West Africa",
           "showlegend": true,
           "type": "scattergeo"
          },
          {
           "geo": "geo",
           "hovertemplate": "<b>%{hovertext}</b><br><br>AU_Regions=East Africa<br>Year=2050<br>Value=%{marker.size}<br>ISO=%{location}<extra></extra>",
           "hovertext": [
            "Comoros",
            "Djibouti",
            "Eritrea",
            "Ethiopia",
            "Kenya",
            "Madagascar",
            "Mauritius",
            "Rwanda",
            "Sudan",
            "Somalia",
            "South Sudan",
            "Seychelles",
            "Tanzania",
            "Uganda"
           ],
           "legendgroup": "East Africa",
           "locations": [
            "COM",
            "DJI",
            "ERI",
            "ETH",
            "KEN",
            "MDG",
            "MUS",
            "RWA",
            "SDN",
            "SOM",
            "SSD",
            "SYC",
            "TZA",
            "UGA"
           ],
           "marker": {
            "color": "#ab63fa",
            "size": [
             0.7586481902410319,
             0.7289136924589111,
             0.5849887666594452,
             0.3995980949039779,
             0.9295614404247781,
             0.3377331187462416,
             0.884714219414478,
             0.7428299775433141,
             0.6110623517539001,
             0.5899944809218138,
             0.5770656144511754,
             0.7825498189783686,
             0.4695023834589074,
             0.777940862803996
            ],
            "sizemode": "area",
            "sizeref": 0.002450259732789959,
            "symbol": "circle"
           },
           "mode": "markers",
           "name": "East Africa",
           "showlegend": true,
           "type": "scattergeo"
          },
          {
           "geo": "geo",
           "hovertemplate": "<b>%{hovertext}</b><br><br>AU_Regions=North Africa<br>Year=2050<br>Value=%{marker.size}<br>ISO=%{location}<extra></extra>",
           "hovertext": [
            "Algeria",
            "Egypt",
            "Libya",
            "Morocco",
            "Mauritania",
            "Tunisia"
           ],
           "legendgroup": "North Africa",
           "locations": [
            "DZA",
            "EGY",
            "LBY",
            "MAR",
            "MRT",
            "TUN"
           ],
           "marker": {
            "color": "#FFA15A",
            "size": [
             0.7846827501963362,
             0.9524434553446613,
             0.8176922422782853,
             0.813040812543481,
             0.4885636942394874,
             0.7673784554731823
            ],
            "sizemode": "area",
            "sizeref": 0.002450259732789959,
            "symbol": "circle"
           },
           "mode": "markers",
           "name": "North Africa",
           "showlegend": true,
           "type": "scattergeo"
          }
         ],
         "name": "2050"
        }
       ],
       "layout": {
        "autosize": true,
        "geo": {
         "center": {},
         "domain": {
          "x": [
           0,
           1
          ],
          "y": [
           0,
           1
          ]
         },
         "projection": {
          "type": "natural earth"
         },
         "scope": "africa"
        },
        "legend": {
         "itemsizing": "constant",
         "title": {
          "text": "AU_Regions"
         },
         "tracegroupgap": 0
        },
        "sliders": [
         {
          "active": 0,
          "currentvalue": {
           "prefix": "Year="
          },
          "len": 0.9,
          "pad": {
           "b": 10,
           "t": 60
          },
          "steps": [
           {
            "args": [
             [
              "1950"
             ],
             {
              "frame": {
               "duration": 0,
               "redraw": true
              },
              "fromcurrent": true,
              "mode": "immediate",
              "transition": {
               "duration": 0,
               "easing": "linear"
              }
             }
            ],
            "label": "1950",
            "method": "animate"
           },
           {
            "args": [
             [
              "1960"
             ],
             {
              "frame": {
               "duration": 0,
               "redraw": true
              },
              "fromcurrent": true,
              "mode": "immediate",
              "transition": {
               "duration": 0,
               "easing": "linear"
              }
             }
            ],
            "label": "1960",
            "method": "animate"
           },
           {
            "args": [
             [
              "1970"
             ],
             {
              "frame": {
               "duration": 0,
               "redraw": true
              },
              "fromcurrent": true,
              "mode": "immediate",
              "transition": {
               "duration": 0,
               "easing": "linear"
              }
             }
            ],
            "label": "1970",
            "method": "animate"
           },
           {
            "args": [
             [
              "1980"
             ],
             {
              "frame": {
               "duration": 0,
               "redraw": true
              },
              "fromcurrent": true,
              "mode": "immediate",
              "transition": {
               "duration": 0,
               "easing": "linear"
              }
             }
            ],
            "label": "1980",
            "method": "animate"
           },
           {
            "args": [
             [
              "1990"
             ],
             {
              "frame": {
               "duration": 0,
               "redraw": true
              },
              "fromcurrent": true,
              "mode": "immediate",
              "transition": {
               "duration": 0,
               "easing": "linear"
              }
             }
            ],
            "label": "1990",
            "method": "animate"
           },
           {
            "args": [
             [
              "2000"
             ],
             {
              "frame": {
               "duration": 0,
               "redraw": true
              },
              "fromcurrent": true,
              "mode": "immediate",
              "transition": {
               "duration": 0,
               "easing": "linear"
              }
             }
            ],
            "label": "2000",
            "method": "animate"
           },
           {
            "args": [
             [
              "2010"
             ],
             {
              "frame": {
               "duration": 0,
               "redraw": true
              },
              "fromcurrent": true,
              "mode": "immediate",
              "transition": {
               "duration": 0,
               "easing": "linear"
              }
             }
            ],
            "label": "2010",
            "method": "animate"
           },
           {
            "args": [
             [
              "2015"
             ],
             {
              "frame": {
               "duration": 0,
               "redraw": true
              },
              "fromcurrent": true,
              "mode": "immediate",
              "transition": {
               "duration": 0,
               "easing": "linear"
              }
             }
            ],
            "label": "2015",
            "method": "animate"
           },
           {
            "args": [
             [
              "2020"
             ],
             {
              "frame": {
               "duration": 0,
               "redraw": true
              },
              "fromcurrent": true,
              "mode": "immediate",
              "transition": {
               "duration": 0,
               "easing": "linear"
              }
             }
            ],
            "label": "2020",
            "method": "animate"
           },
           {
            "args": [
             [
              "2025"
             ],
             {
              "frame": {
               "duration": 0,
               "redraw": true
              },
              "fromcurrent": true,
              "mode": "immediate",
              "transition": {
               "duration": 0,
               "easing": "linear"
              }
             }
            ],
            "label": "2025",
            "method": "animate"
           },
           {
            "args": [
             [
              "2030"
             ],
             {
              "frame": {
               "duration": 0,
               "redraw": true
              },
              "fromcurrent": true,
              "mode": "immediate",
              "transition": {
               "duration": 0,
               "easing": "linear"
              }
             }
            ],
            "label": "2030",
            "method": "animate"
           },
           {
            "args": [
             [
              "2035"
             ],
             {
              "frame": {
               "duration": 0,
               "redraw": true
              },
              "fromcurrent": true,
              "mode": "immediate",
              "transition": {
               "duration": 0,
               "easing": "linear"
              }
             }
            ],
            "label": "2035",
            "method": "animate"
           },
           {
            "args": [
             [
              "2040"
             ],
             {
              "frame": {
               "duration": 0,
               "redraw": true
              },
              "fromcurrent": true,
              "mode": "immediate",
              "transition": {
               "duration": 0,
               "easing": "linear"
              }
             }
            ],
            "label": "2040",
            "method": "animate"
           },
           {
            "args": [
             [
              "2045"
             ],
             {
              "frame": {
               "duration": 0,
               "redraw": true
              },
              "fromcurrent": true,
              "mode": "immediate",
              "transition": {
               "duration": 0,
               "easing": "linear"
              }
             }
            ],
            "label": "2045",
            "method": "animate"
           },
           {
            "args": [
             [
              "2050"
             ],
             {
              "frame": {
               "duration": 0,
               "redraw": true
              },
              "fromcurrent": true,
              "mode": "immediate",
              "transition": {
               "duration": 0,
               "easing": "linear"
              }
             }
            ],
            "label": "2050",
            "method": "animate"
           }
          ],
          "x": 0.1,
          "xanchor": "left",
          "y": 0,
          "yanchor": "top"
         }
        ],
        "template": {
         "data": {
          "bar": [
           {
            "error_x": {
             "color": "#2a3f5f"
            },
            "error_y": {
             "color": "#2a3f5f"
            },
            "marker": {
             "line": {
              "color": "#E5ECF6",
              "width": 0.5
             },
             "pattern": {
              "fillmode": "overlay",
              "size": 10,
              "solidity": 0.2
             }
            },
            "type": "bar"
           }
          ],
          "barpolar": [
           {
            "marker": {
             "line": {
              "color": "#E5ECF6",
              "width": 0.5
             },
             "pattern": {
              "fillmode": "overlay",
              "size": 10,
              "solidity": 0.2
             }
            },
            "type": "barpolar"
           }
          ],
          "carpet": [
           {
            "aaxis": {
             "endlinecolor": "#2a3f5f",
             "gridcolor": "white",
             "linecolor": "white",
             "minorgridcolor": "white",
             "startlinecolor": "#2a3f5f"
            },
            "baxis": {
             "endlinecolor": "#2a3f5f",
             "gridcolor": "white",
             "linecolor": "white",
             "minorgridcolor": "white",
             "startlinecolor": "#2a3f5f"
            },
            "type": "carpet"
           }
          ],
          "choropleth": [
           {
            "colorbar": {
             "outlinewidth": 0,
             "ticks": ""
            },
            "type": "choropleth"
           }
          ],
          "contour": [
           {
            "colorbar": {
             "outlinewidth": 0,
             "ticks": ""
            },
            "colorscale": [
             [
              0,
              "#0d0887"
             ],
             [
              0.1111111111111111,
              "#46039f"
             ],
             [
              0.2222222222222222,
              "#7201a8"
             ],
             [
              0.3333333333333333,
              "#9c179e"
             ],
             [
              0.4444444444444444,
              "#bd3786"
             ],
             [
              0.5555555555555556,
              "#d8576b"
             ],
             [
              0.6666666666666666,
              "#ed7953"
             ],
             [
              0.7777777777777778,
              "#fb9f3a"
             ],
             [
              0.8888888888888888,
              "#fdca26"
             ],
             [
              1,
              "#f0f921"
             ]
            ],
            "type": "contour"
           }
          ],
          "contourcarpet": [
           {
            "colorbar": {
             "outlinewidth": 0,
             "ticks": ""
            },
            "type": "contourcarpet"
           }
          ],
          "heatmap": [
           {
            "colorbar": {
             "outlinewidth": 0,
             "ticks": ""
            },
            "colorscale": [
             [
              0,
              "#0d0887"
             ],
             [
              0.1111111111111111,
              "#46039f"
             ],
             [
              0.2222222222222222,
              "#7201a8"
             ],
             [
              0.3333333333333333,
              "#9c179e"
             ],
             [
              0.4444444444444444,
              "#bd3786"
             ],
             [
              0.5555555555555556,
              "#d8576b"
             ],
             [
              0.6666666666666666,
              "#ed7953"
             ],
             [
              0.7777777777777778,
              "#fb9f3a"
             ],
             [
              0.8888888888888888,
              "#fdca26"
             ],
             [
              1,
              "#f0f921"
             ]
            ],
            "type": "heatmap"
           }
          ],
          "heatmapgl": [
           {
            "colorbar": {
             "outlinewidth": 0,
             "ticks": ""
            },
            "colorscale": [
             [
              0,
              "#0d0887"
             ],
             [
              0.1111111111111111,
              "#46039f"
             ],
             [
              0.2222222222222222,
              "#7201a8"
             ],
             [
              0.3333333333333333,
              "#9c179e"
             ],
             [
              0.4444444444444444,
              "#bd3786"
             ],
             [
              0.5555555555555556,
              "#d8576b"
             ],
             [
              0.6666666666666666,
              "#ed7953"
             ],
             [
              0.7777777777777778,
              "#fb9f3a"
             ],
             [
              0.8888888888888888,
              "#fdca26"
             ],
             [
              1,
              "#f0f921"
             ]
            ],
            "type": "heatmapgl"
           }
          ],
          "histogram": [
           {
            "marker": {
             "pattern": {
              "fillmode": "overlay",
              "size": 10,
              "solidity": 0.2
             }
            },
            "type": "histogram"
           }
          ],
          "histogram2d": [
           {
            "colorbar": {
             "outlinewidth": 0,
             "ticks": ""
            },
            "colorscale": [
             [
              0,
              "#0d0887"
             ],
             [
              0.1111111111111111,
              "#46039f"
             ],
             [
              0.2222222222222222,
              "#7201a8"
             ],
             [
              0.3333333333333333,
              "#9c179e"
             ],
             [
              0.4444444444444444,
              "#bd3786"
             ],
             [
              0.5555555555555556,
              "#d8576b"
             ],
             [
              0.6666666666666666,
              "#ed7953"
             ],
             [
              0.7777777777777778,
              "#fb9f3a"
             ],
             [
              0.8888888888888888,
              "#fdca26"
             ],
             [
              1,
              "#f0f921"
             ]
            ],
            "type": "histogram2d"
           }
          ],
          "histogram2dcontour": [
           {
            "colorbar": {
             "outlinewidth": 0,
             "ticks": ""
            },
            "colorscale": [
             [
              0,
              "#0d0887"
             ],
             [
              0.1111111111111111,
              "#46039f"
             ],
             [
              0.2222222222222222,
              "#7201a8"
             ],
             [
              0.3333333333333333,
              "#9c179e"
             ],
             [
              0.4444444444444444,
              "#bd3786"
             ],
             [
              0.5555555555555556,
              "#d8576b"
             ],
             [
              0.6666666666666666,
              "#ed7953"
             ],
             [
              0.7777777777777778,
              "#fb9f3a"
             ],
             [
              0.8888888888888888,
              "#fdca26"
             ],
             [
              1,
              "#f0f921"
             ]
            ],
            "type": "histogram2dcontour"
           }
          ],
          "mesh3d": [
           {
            "colorbar": {
             "outlinewidth": 0,
             "ticks": ""
            },
            "type": "mesh3d"
           }
          ],
          "parcoords": [
           {
            "line": {
             "colorbar": {
              "outlinewidth": 0,
              "ticks": ""
             }
            },
            "type": "parcoords"
           }
          ],
          "pie": [
           {
            "automargin": true,
            "type": "pie"
           }
          ],
          "scatter": [
           {
            "fillpattern": {
             "fillmode": "overlay",
             "size": 10,
             "solidity": 0.2
            },
            "type": "scatter"
           }
          ],
          "scatter3d": [
           {
            "line": {
             "colorbar": {
              "outlinewidth": 0,
              "ticks": ""
             }
            },
            "marker": {
             "colorbar": {
              "outlinewidth": 0,
              "ticks": ""
             }
            },
            "type": "scatter3d"
           }
          ],
          "scattercarpet": [
           {
            "marker": {
             "colorbar": {
              "outlinewidth": 0,
              "ticks": ""
             }
            },
            "type": "scattercarpet"
           }
          ],
          "scattergeo": [
           {
            "marker": {
             "colorbar": {
              "outlinewidth": 0,
              "ticks": ""
             }
            },
            "type": "scattergeo"
           }
          ],
          "scattergl": [
           {
            "marker": {
             "colorbar": {
              "outlinewidth": 0,
              "ticks": ""
             }
            },
            "type": "scattergl"
           }
          ],
          "scattermapbox": [
           {
            "marker": {
             "colorbar": {
              "outlinewidth": 0,
              "ticks": ""
             }
            },
            "type": "scattermapbox"
           }
          ],
          "scatterpolar": [
           {
            "marker": {
             "colorbar": {
              "outlinewidth": 0,
              "ticks": ""
             }
            },
            "type": "scatterpolar"
           }
          ],
          "scatterpolargl": [
           {
            "marker": {
             "colorbar": {
              "outlinewidth": 0,
              "ticks": ""
             }
            },
            "type": "scatterpolargl"
           }
          ],
          "scatterternary": [
           {
            "marker": {
             "colorbar": {
              "outlinewidth": 0,
              "ticks": ""
             }
            },
            "type": "scatterternary"
           }
          ],
          "surface": [
           {
            "colorbar": {
             "outlinewidth": 0,
             "ticks": ""
            },
            "colorscale": [
             [
              0,
              "#0d0887"
             ],
             [
              0.1111111111111111,
              "#46039f"
             ],
             [
              0.2222222222222222,
              "#7201a8"
             ],
             [
              0.3333333333333333,
              "#9c179e"
             ],
             [
              0.4444444444444444,
              "#bd3786"
             ],
             [
              0.5555555555555556,
              "#d8576b"
             ],
             [
              0.6666666666666666,
              "#ed7953"
             ],
             [
              0.7777777777777778,
              "#fb9f3a"
             ],
             [
              0.8888888888888888,
              "#fdca26"
             ],
             [
              1,
              "#f0f921"
             ]
            ],
            "type": "surface"
           }
          ],
          "table": [
           {
            "cells": {
             "fill": {
              "color": "#EBF0F8"
             },
             "line": {
              "color": "white"
             }
            },
            "header": {
             "fill": {
              "color": "#C8D4E3"
             },
             "line": {
              "color": "white"
             }
            },
            "type": "table"
           }
          ]
         },
         "layout": {
          "annotationdefaults": {
           "arrowcolor": "#2a3f5f",
           "arrowhead": 0,
           "arrowwidth": 1
          },
          "autotypenumbers": "strict",
          "coloraxis": {
           "colorbar": {
            "outlinewidth": 0,
            "ticks": ""
           }
          },
          "colorscale": {
           "diverging": [
            [
             0,
             "#8e0152"
            ],
            [
             0.1,
             "#c51b7d"
            ],
            [
             0.2,
             "#de77ae"
            ],
            [
             0.3,
             "#f1b6da"
            ],
            [
             0.4,
             "#fde0ef"
            ],
            [
             0.5,
             "#f7f7f7"
            ],
            [
             0.6,
             "#e6f5d0"
            ],
            [
             0.7,
             "#b8e186"
            ],
            [
             0.8,
             "#7fbc41"
            ],
            [
             0.9,
             "#4d9221"
            ],
            [
             1,
             "#276419"
            ]
           ],
           "sequential": [
            [
             0,
             "#0d0887"
            ],
            [
             0.1111111111111111,
             "#46039f"
            ],
            [
             0.2222222222222222,
             "#7201a8"
            ],
            [
             0.3333333333333333,
             "#9c179e"
            ],
            [
             0.4444444444444444,
             "#bd3786"
            ],
            [
             0.5555555555555556,
             "#d8576b"
            ],
            [
             0.6666666666666666,
             "#ed7953"
            ],
            [
             0.7777777777777778,
             "#fb9f3a"
            ],
            [
             0.8888888888888888,
             "#fdca26"
            ],
            [
             1,
             "#f0f921"
            ]
           ],
           "sequentialminus": [
            [
             0,
             "#0d0887"
            ],
            [
             0.1111111111111111,
             "#46039f"
            ],
            [
             0.2222222222222222,
             "#7201a8"
            ],
            [
             0.3333333333333333,
             "#9c179e"
            ],
            [
             0.4444444444444444,
             "#bd3786"
            ],
            [
             0.5555555555555556,
             "#d8576b"
            ],
            [
             0.6666666666666666,
             "#ed7953"
            ],
            [
             0.7777777777777778,
             "#fb9f3a"
            ],
            [
             0.8888888888888888,
             "#fdca26"
            ],
            [
             1,
             "#f0f921"
            ]
           ]
          },
          "colorway": [
           "#636efa",
           "#EF553B",
           "#00cc96",
           "#ab63fa",
           "#FFA15A",
           "#19d3f3",
           "#FF6692",
           "#B6E880",
           "#FF97FF",
           "#FECB52"
          ],
          "font": {
           "color": "#2a3f5f"
          },
          "geo": {
           "bgcolor": "white",
           "lakecolor": "white",
           "landcolor": "#E5ECF6",
           "showlakes": true,
           "showland": true,
           "subunitcolor": "white"
          },
          "hoverlabel": {
           "align": "left"
          },
          "hovermode": "closest",
          "mapbox": {
           "style": "light"
          },
          "paper_bgcolor": "white",
          "plot_bgcolor": "#E5ECF6",
          "polar": {
           "angularaxis": {
            "gridcolor": "white",
            "linecolor": "white",
            "ticks": ""
           },
           "bgcolor": "#E5ECF6",
           "radialaxis": {
            "gridcolor": "white",
            "linecolor": "white",
            "ticks": ""
           }
          },
          "scene": {
           "xaxis": {
            "backgroundcolor": "#E5ECF6",
            "gridcolor": "white",
            "gridwidth": 2,
            "linecolor": "white",
            "showbackground": true,
            "ticks": "",
            "zerolinecolor": "white"
           },
           "yaxis": {
            "backgroundcolor": "#E5ECF6",
            "gridcolor": "white",
            "gridwidth": 2,
            "linecolor": "white",
            "showbackground": true,
            "ticks": "",
            "zerolinecolor": "white"
           },
           "zaxis": {
            "backgroundcolor": "#E5ECF6",
            "gridcolor": "white",
            "gridwidth": 2,
            "linecolor": "white",
            "showbackground": true,
            "ticks": "",
            "zerolinecolor": "white"
           }
          },
          "shapedefaults": {
           "line": {
            "color": "#2a3f5f"
           }
          },
          "ternary": {
           "aaxis": {
            "gridcolor": "white",
            "linecolor": "white",
            "ticks": ""
           },
           "baxis": {
            "gridcolor": "white",
            "linecolor": "white",
            "ticks": ""
           },
           "bgcolor": "#E5ECF6",
           "caxis": {
            "gridcolor": "white",
            "linecolor": "white",
            "ticks": ""
           }
          },
          "title": {
           "x": 0.05
          },
          "xaxis": {
           "automargin": true,
           "gridcolor": "white",
           "linecolor": "white",
           "ticks": "",
           "title": {
            "standoff": 15
           },
           "zerolinecolor": "white",
           "zerolinewidth": 2
          },
          "yaxis": {
           "automargin": true,
           "gridcolor": "white",
           "linecolor": "white",
           "ticks": "",
           "title": {
            "standoff": 15
           },
           "zerolinecolor": "white",
           "zerolinewidth": 2
          }
         }
        },
        "title": {
         "text": "Urbanlevel Levels across African Countries (1950-2050)",
         "x": 0.5,
         "xanchor": "center",
         "y": 0.9,
         "yanchor": "top"
        },
        "updatemenus": [
         {
          "buttons": [
           {
            "args": [
             null,
             {
              "frame": {
               "duration": 500,
               "redraw": true
              },
              "fromcurrent": true,
              "mode": "immediate",
              "transition": {
               "duration": 500,
               "easing": "linear"
              }
             }
            ],
            "label": "&#9654;",
            "method": "animate"
           },
           {
            "args": [
             [
              null
             ],
             {
              "frame": {
               "duration": 0,
               "redraw": true
              },
              "fromcurrent": true,
              "mode": "immediate",
              "transition": {
               "duration": 0,
               "easing": "linear"
              }
             }
            ],
            "label": "&#9724;",
            "method": "animate"
           }
          ],
          "direction": "left",
          "pad": {
           "r": 10,
           "t": 70
          },
          "showactive": false,
          "type": "buttons",
          "x": 0.1,
          "xanchor": "right",
          "y": 0,
          "yanchor": "top"
         }
        ]
       }
      }
     },
     "metadata": {},
     "output_type": "display_data"
    }
   ],
   "source": [
    "import pandas as pd\n",
    "import plotly.express as px\n",
    "\n",
    "# Identify urbanization-related variables\n",
    "variables = [\"Urbanlevel\", \"Upop\", \"Usurf\", \"NumAgglos\", \"Mpop\", \"ADBA\"]\n",
    "\n",
    "# Select relevant columns dynamically\n",
    "cols_to_keep = [\"ISO\", \"Country\", \"AU_Regions\"] + [col for col in data.columns if any(var in col for var in variables)]\n",
    "\n",
    "# Filter dataset\n",
    "data_filtered = data[cols_to_keep]\n",
    "\n",
    "# Melt DataFrame to long format\n",
    "data_melted = data_filtered.melt(id_vars=[\"ISO\", \"Country\", \"AU_Regions\"], \n",
    "                                 var_name=\"Variable_Year\", \n",
    "                                 value_name=\"Value\")\n",
    "\n",
    "# Extract variable name and year\n",
    "data_melted[['Variable', 'Year']] = data_melted['Variable_Year'].str.extract(r'([A-Za-z]+)(\\d+)')\n",
    "data_melted['Year'] = data_melted['Year'].astype(int)\n",
    "\n",
    "# Exclude non-country entities\n",
    "exclude_values = [\"Regional entities\", \"Region\"]\n",
    "data_melted = data_melted[~data_melted[\"AU_Regions\"].isin(exclude_values)]\n",
    "\n",
    "# Keep only valid ISO codes (3-letter country codes)\n",
    "data_melted = data_melted[data_melted[\"ISO\"].str.len() == 3]\n",
    "\n",
    "# Convert Value to numeric\n",
    "data_melted['Value'] = pd.to_numeric(data_melted['Value'], errors='coerce')\n",
    "data_melted.dropna(subset=['Value'], inplace=True)\n",
    "\n",
    "# Define the variable to visualize (Change to other variables as needed)\n",
    "selected_variable = \"Urbanlevel\"\n",
    "\n",
    "# Filter dataset for the selected variable\n",
    "data_selected = data_melted[data_melted[\"Variable\"] == selected_variable]\n",
    "\n",
    "# Create Scatter Map\n",
    "fig_scatter = px.scatter_geo(data_selected,\n",
    "                             locations=\"ISO\",\n",
    "                             color=\"AU_Regions\",\n",
    "                             hover_name=\"Country\",\n",
    "                             size=\"Value\",\n",
    "                             animation_frame=\"Year\",\n",
    "                             scope=\"africa\",\n",
    "                             projection=\"natural earth\",\n",
    "                             title=f\"{selected_variable} Levels of African Countries (1950-2050)\")\n",
    "\n",
    "# Update layout\n",
    "fig_scatter.update_layout(\n",
    "    title={\n",
    "        'text': f\"{selected_variable} Levels across African Countries (1950-2050)\",\n",
    "        'y': 0.9,\n",
    "        'x': 0.5,\n",
    "        'xanchor': 'center',\n",
    "        'yanchor': 'top'\n",
    "    },\n",
    "    autosize=True\n",
    ")\n",
    "\n",
    "# Show scatter plot\n",
    "fig_scatter.show()\n",
    "\n",
    "\n"
   ]
  },
  {
   "cell_type": "code",
   "execution_count": null,
   "metadata": {},
   "outputs": [],
   "source": [
    "# Create Choropleth Map\n",
    "fig_choropleth = px.choropleth(data_selected,\n",
    "                               locations=\"ISO\",\n",
    "                               color=\"Value\",\n",
    "                               hover_name=\"Country\",\n",
    "                               animation_frame=\"Year\",\n",
    "                               scope=\"africa\",\n",
    "                               projection=\"natural earth\",\n",
    "                               color_continuous_scale=\"Viridis\",\n",
    "                               title=f\"{selected_variable} Distribution in Africa (1950-2050)\")\n",
    "\n",
    "# Update layout\n",
    "fig_choropleth.update_layout(\n",
    "    title={\n",
    "        'text': f\"{selected_variable} Distribution across African Countries (1950-2050)\",\n",
    "        'y': 0.9,\n",
    "        'x': 0.5,\n",
    "        'xanchor': 'center',\n",
    "        'yanchor': 'top'\n",
    "    },\n",
    "    autosize=True\n",
    ")\n",
    "\n",
    "# Show choropleth map\n",
    "fig_choropleth.show()"
   ]
  },
  {
   "cell_type": "markdown",
   "metadata": {},
   "source": [
    "### "
   ]
  },
  {
   "cell_type": "code",
   "execution_count": null,
   "metadata": {},
   "outputs": [],
   "source": [
    "\n",
    "# Select only columns that contain \"Urbanlevel\" in their name\n",
    "urban_columns = [\"ISO\", \"Country\", \"AU_Regions\"] + [col for col in data.columns if \"Urbanlevel\" in col]\n",
    "\n",
    "# Filter DataFrame with relevant columns\n",
    "data_filtered = data[urban_columns]\n",
    "\n",
    "# Melt the DataFrame (convert wide format to long format)\n",
    "data_melted = data_filtered.melt(id_vars=[\"ISO\", \"Country\", \"AU_Regions\"], \n",
    "                                 var_name=\"Year\", \n",
    "                                 value_name=\"UrbanLevel\")\n",
    "\n",
    "# Extract the numeric year from \"UrbanlevelYYYY\"\n",
    "data_melted['Year'] = data_melted['Year'].str.extract(r'(\\d+)').astype(int)\n",
    "exclude_values = [\"Regional entities\", \"Region\"]\n",
    "data_melted = data_melted[~data_melted[\"AU_Regions\"].isin(exclude_values)]\n",
    "\n",
    "# Keep only rows where ISO codes are exactly 3 letters (valid country codes)\n",
    "data_melted = data_melted[data_melted[\"ISO\"].str.len() == 3]\n",
    "\n",
    "data_melted"
   ]
  }
 ],
 "metadata": {
  "kernelspec": {
   "display_name": "base",
   "language": "python",
   "name": "python3"
  },
  "language_info": {
   "codemirror_mode": {
    "name": "ipython",
    "version": 3
   },
   "file_extension": ".py",
   "mimetype": "text/x-python",
   "name": "python",
   "nbconvert_exporter": "python",
   "pygments_lexer": "ipython3",
   "version": "3.12.2"
  }
 },
 "nbformat": 4,
 "nbformat_minor": 2
}
